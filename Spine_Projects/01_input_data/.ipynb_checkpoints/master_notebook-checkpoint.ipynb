{
 "cells": [
  {
   "cell_type": "markdown",
   "id": "43ea4b8f-0ba4-4513-8872-53f4a538a0d3",
   "metadata": {},
   "source": [
    "# Data Preparation for the Nord_H2ub Spine Model"
   ]
  },
  {
   "cell_type": "markdown",
   "id": "1aa86773-4431-4a2f-9490-4b3cf0aa8d70",
   "metadata": {},
   "source": [
    "This jupyter notebook contains all routines for the preparation of the input data sources into a input data file for the model in Spine. \n",
    "\n",
    "**Authors:** Johannes Giehl (jfg.eco@cbs.dk), Dana Hentschel (djh.eco@cbs.dk)"
   ]
  },
  {
   "cell_type": "markdown",
   "id": "eb8175ae-f246-4788-a309-c1a4890992f2",
   "metadata": {},
   "source": [
    "## General settings"
   ]
  },
  {
   "cell_type": "markdown",
   "id": "af14f70f",
   "metadata": {},
   "source": [
    "### Packages:"
   ]
  },
  {
   "cell_type": "code",
   "execution_count": 1,
   "id": "f778ef73",
   "metadata": {},
   "outputs": [],
   "source": [
    "import pandas as pd\n",
    "from datetime import timedelta\n",
    "import papermill as pm\n",
    "from nord_h2ub_dropdown_functions import *"
   ]
  },
  {
   "cell_type": "markdown",
   "id": "0e5bdb21",
   "metadata": {},
   "source": [
    "### Base Parameters:"
   ]
  },
  {
   "cell_type": "code",
   "execution_count": 2,
   "id": "8489619f-5906-4f62-bc7b-4c6868b1e950",
   "metadata": {},
   "outputs": [
    {
     "data": {
      "application/vnd.jupyter.widget-view+json": {
       "model_id": "dbec31f5d00d4be5a945383662864a8b",
       "version_major": 2,
       "version_minor": 0
      },
      "text/plain": [
       "Tab(children=(VBox(children=(HTML(value='<b>Section 1: Please define the parameters of the general model</b>')…"
      ]
     },
     "metadata": {},
     "output_type": "display_data"
    },
    {
     "name": "stdout",
     "output_type": "stream",
     "text": [
      "You selected: 2019\n",
      "You selected: DK1\n",
      "You selected: methanol\n",
      "You selected: Alkaline\n",
      "Output selected: {'connection_investment_costs'}\n"
     ]
    }
   ],
   "source": [
    "# Example usage\n",
    "combined_tabs, dropdowns = create_combined_dropdowns_tabs()"
   ]
  },
  {
   "cell_type": "code",
   "execution_count": 3,
   "id": "8d858aa9-b613-4861-9ad8-1aa82e8be8fa",
   "metadata": {},
   "outputs": [
    {
     "data": {
      "text/plain": [
       "{'model_name': 'Model',\n",
       " 'year': 2019,\n",
       " 'price_zone': 'DK1',\n",
       " 'product': 'methanol',\n",
       " 'electrolysis': 'Alkaline',\n",
       " 'frequency': '1h',\n",
       " 'roll_forward': True,\n",
       " 'share_of_dh_price_cap': 0.5,\n",
       " 'number_price_level_power': 1.0,\n",
       " 'power_price_variance': 0.0,\n",
       " 'num_slices': 12.0,\n",
       " 'des_segments_electrolyzer': 3.0,\n",
       " 'base_scen': 'Base',\n",
       " 'other_scen': '',\n",
       " 'stoch_scen': 'realisation',\n",
       " 'stoch_struc': 'deterministic',\n",
       " 'report_name': 'Report',\n",
       " 'outputs': {'connection_investment_costs'}}"
      ]
     },
     "execution_count": 3,
     "metadata": {},
     "output_type": "execute_result"
    }
   ],
   "source": [
    "#get the values after setting the inputs by the user\n",
    "values = get_dropdown_values(dropdowns)\n",
    "values"
   ]
  },
  {
   "cell_type": "code",
   "execution_count": 4,
   "id": "07f2496c",
   "metadata": {},
   "outputs": [],
   "source": [
    "### Run, but do not change ###\n",
    "\n",
    "# Create DatetimeIndex for the range of dates\n",
    "start_date = pd.Timestamp(str(values['year']) + '-01-01 00:00:00')\n",
    "end_date = pd.Timestamp(str(values['year']) + '-12-31 23:00:00')\n",
    "datetime_index = pd.date_range(start=start_date, end=end_date, freq=values['frequency'])\n",
    "# Calculate the number of steps within the horizon\n",
    "num_slices = int(values['num_slices'])\n",
    "num_steps = len(datetime_index)\n",
    "\n",
    "# Check if the number of slices can be used\n",
    "# Find the largest integer divisor that fulfils the condition\n",
    "for i in range(num_slices, 0, -1):\n",
    "    if num_steps % i == 0:\n",
    "        roll_forward_size = num_steps // i\n",
    "        used_slices = i\n",
    "        break\n",
    "else:\n",
    "    print(\"Cannot divide the number of steps into any integer slices. Please choose a different number of slices.\")\n",
    "    exit()\n",
    "# Check if num_slices matches the used_slices\n",
    "if num_slices != used_slices:\n",
    "    print(\"\\033[91mWARNING:\\033[0m The specified number of slices (\", num_slices, \")\",\n",
    "          \"does not match the final division factor (\", used_slices, \").\",\n",
    "         \"\\n The calculation uses the factor: \",used_slices, \".\")\n",
    "\n",
    "#temporal block, do not change\n",
    "if values['frequency'] == '1h':\n",
    "    temporal_block = 'hourly'\n",
    "elif values['frequency'] == '1D':\n",
    "    temporal_block = 'daily'\n",
    "elif values['frequency'] == '1W':\n",
    "    temporal_block = 'weekly'\n",
    "elif values['frequency'] == '1M':\n",
    "    temporal_block = 'monthly'\n",
    "elif values['frequency'] == '1Q':\n",
    "    temporal_block = 'quarterly'\n",
    "else: \n",
    "    temporal_block = 'yearly'"
   ]
  },
  {
   "cell_type": "markdown",
   "id": "ad677838",
   "metadata": {},
   "source": [
    "### Dictionary:"
   ]
  },
  {
   "cell_type": "code",
   "execution_count": 5,
   "id": "9338bd4e",
   "metadata": {},
   "outputs": [],
   "source": [
    "base_parameters = {\n",
    "    'year': values['year'],\n",
    "    'start_date': (pd.Timestamp(str(values['year']) + '-01-01 00:00:00')).strftime('%Y-%m-%d %H:%M:%S'),\n",
    "    'end_date': (pd.Timestamp(str(values['year']) + '-12-31 23:00:00')).strftime('%Y-%m-%d %H:%M:%S'),\n",
    "    'area': values['price_zone'],\n",
    "    'product': values['product'],\n",
    "    'scenario': [values['base_scen']] + values['other_scen'].split('\\n'),\n",
    "    'frequency': values['frequency'],\n",
    "    'model_name': values['model_name'],\n",
    "    'temporal_block': temporal_block,\n",
    "    'stochastic_scenario': values['stoch_scen'],\n",
    "    'stochastic_structure': values['stoch_struc'],\n",
    "    'report_name': values['report_name'],\n",
    "    'reports': values['outputs'],\n",
    "    'electrolyzer_type': values['electrolysis'],\n",
    "    'des_segments_electrolyzer': values['des_segments_electrolyzer'],\n",
    "    'share_of_dh_price_cap': values['share_of_dh_price_cap'],\n",
    "    'price_level_power': values['number_price_level_power'],\n",
    "    'power_price_variance': values['power_price_variance'],\n",
    "    'roll_forward_use': values['roll_forward'],\n",
    "    'roll_forward_size': roll_forward_size,\n",
    "    'num_slices': values['num_slices'],\n",
    "    'num_steps': num_steps\n",
    "}"
   ]
  },
  {
   "cell_type": "markdown",
   "id": "7c33f6fe",
   "metadata": {},
   "source": [
    "### Execute standard routine:"
   ]
  },
  {
   "cell_type": "code",
   "execution_count": null,
   "id": "62479679",
   "metadata": {},
   "outputs": [],
   "source": [
    "pm.execute_notebook(\n",
    "    'data_preparation_nord_h2ub_spine.ipynb',\n",
    "    'please_ignore.ipynb',\n",
    "    parameters=base_parameters\n",
    ")"
   ]
  }
 ],
 "metadata": {
  "kernelspec": {
   "display_name": "Python 3 (ipykernel)",
   "language": "python",
   "name": "python3"
  },
  "language_info": {
   "codemirror_mode": {
    "name": "ipython",
    "version": 3
   },
   "file_extension": ".py",
   "mimetype": "text/x-python",
   "name": "python",
   "nbconvert_exporter": "python",
   "pygments_lexer": "ipython3",
   "version": "3.11.5"
  }
 },
 "nbformat": 4,
 "nbformat_minor": 5
}
