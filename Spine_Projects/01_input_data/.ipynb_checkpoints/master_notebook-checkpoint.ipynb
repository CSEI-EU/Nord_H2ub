{
 "cells": [
  {
   "cell_type": "markdown",
   "id": "43ea4b8f-0ba4-4513-8872-53f4a538a0d3",
   "metadata": {},
   "source": [
    "# Data Preparation for the Nord_H2ub Spine Model"
   ]
  },
  {
   "cell_type": "markdown",
   "id": "1aa86773-4431-4a2f-9490-4b3cf0aa8d70",
   "metadata": {},
   "source": [
    "This jupyter notebook contains all routines for the preparation of the input data sources into a input data file for the model in Spine. \n",
    "\n",
    "**Authors:** Johannes Giehl (jfg.eco@cbs.dk), Dana Hentschel (djh.eco@cbs.dk)"
   ]
  },
  {
   "cell_type": "markdown",
   "id": "eb8175ae-f246-4788-a309-c1a4890992f2",
   "metadata": {},
   "source": [
    "## General settings"
   ]
  },
  {
   "cell_type": "markdown",
   "id": "af14f70f",
   "metadata": {},
   "source": [
    "### Packages:"
   ]
  },
  {
   "cell_type": "code",
   "execution_count": null,
   "id": "1ea8bb5b-91f4-4186-9cbb-9516adf7a570",
   "metadata": {},
   "outputs": [],
   "source": [
    "#this should be the way to import the packages to avoid a lot of imports here"
   ]
  },
  {
   "cell_type": "code",
   "execution_count": 2,
   "id": "38a26c13-5700-414c-ab72-2a07690f1802",
   "metadata": {},
   "outputs": [
    {
     "name": "stdout",
     "output_type": "stream",
     "text": [
      "Custom functions imported successfully.\n"
     ]
    }
   ],
   "source": [
    "from nord_h2ub_hexhex import simsalabim\n",
    "simsalabim()"
   ]
  },
  {
   "cell_type": "code",
   "execution_count": null,
   "id": "f778ef73",
   "metadata": {},
   "outputs": [],
   "source": [
    "import sys\n",
    "import os\n",
    "\n",
    "#the following is necessary to import functions from subfolders\n",
    "# Get the current directory of the Jupyter Notebook\n",
    "\n",
    "notebook_dir = os.getcwd()\n",
    "\n",
    "# Construct the path to the subfolder\n",
    "subfolder_path = os.path.join(notebook_dir, '00_functions')\n",
    "\n",
    "# Add the subfolder to the system path\n",
    "if subfolder_path not in sys.path:\n",
    "    sys.path.append(subfolder_path)\n",
    "    \n",
    "import pandas as pd\n",
    "from datetime import timedelta\n",
    "import papermill as pm\n",
    "from nord_h2ub_dropdown_functions import *"
   ]
  },
  {
   "cell_type": "markdown",
   "id": "0e5bdb21",
   "metadata": {},
   "source": [
    "### Base Parameters:"
   ]
  },
  {
   "cell_type": "code",
   "execution_count": 6,
   "id": "8489619f-5906-4f62-bc7b-4c6868b1e950",
   "metadata": {},
   "outputs": [
    {
     "data": {
      "application/vnd.jupyter.widget-view+json": {
       "model_id": "bce7b5ee4cc94e5a84f949554eb2e90b",
       "version_major": 2,
       "version_minor": 0
      },
      "text/plain": [
       "Tab(children=(VBox(children=(HTML(value='<b>Section 1: Please define the parameters of the general model</b>')…"
      ]
     },
     "metadata": {},
     "output_type": "display_data"
    }
   ],
   "source": [
    "# Example usage\n",
    "combined_tabs, dropdowns = drdw.create_combined_dropdowns_tabs()"
   ]
  },
  {
   "cell_type": "code",
   "execution_count": 7,
   "id": "8d858aa9-b613-4861-9ad8-1aa82e8be8fa",
   "metadata": {},
   "outputs": [],
   "source": [
    "#get the values after setting the inputs by the user\n",
    "values = drdw.get_dropdown_values(dropdowns)\n",
    "\n",
    "#Calculate remaining values based on inputs\n",
    "calc_values = drdw.compute_other_values(values)"
   ]
  },
  {
   "cell_type": "code",
   "execution_count": 8,
   "id": "9d088fbe-cf70-428f-83d9-f9a47236cba9",
   "metadata": {},
   "outputs": [
    {
     "data": {
      "text/plain": [
       "{'model_name': 'Model',\n",
       " 'year': 2020,\n",
       " 'price_zone': None,\n",
       " 'product': None,\n",
       " 'electrolysis': None,\n",
       " 'frequency': '1h',\n",
       " 'roll_forward': True,\n",
       " 'share_of_dh_price_cap': 0.5,\n",
       " 'number_price_level_power': 1.0,\n",
       " 'power_price_variance': 1.0,\n",
       " 'num_slices': 12.0,\n",
       " 'des_segments_electrolyzer': 3.0,\n",
       " 'base_scen': 'Base',\n",
       " 'other_scen': '',\n",
       " 'stoch_scen': 'realisation',\n",
       " 'stoch_struc': 'deterministic',\n",
       " 'report_name': 'Report',\n",
       " 'outputs': {'connection_flow',\n",
       "  'node_slack_neg',\n",
       "  'node_slack_pos',\n",
       "  'node_state',\n",
       "  'total_costs',\n",
       "  'unit_flow',\n",
       "  'unit_flow_op'}}"
      ]
     },
     "execution_count": 8,
     "metadata": {},
     "output_type": "execute_result"
    }
   ],
   "source": [
    "values"
   ]
  },
  {
   "cell_type": "markdown",
   "id": "ad677838",
   "metadata": {},
   "source": [
    "### Dictionary:"
   ]
  },
  {
   "cell_type": "code",
   "execution_count": null,
   "id": "9338bd4e",
   "metadata": {},
   "outputs": [],
   "source": [
    "base_parameters = {\n",
    "    'year': values['year'],\n",
    "    'start_date': calc_values['start_date'],\n",
    "    'end_date': calc_values['end_date'],\n",
    "    'area': values['price_zone'],\n",
    "    'product': values['product'],\n",
    "    'scenario': [values['base_scen']] + values['other_scen'].split('\\n'),\n",
    "    'frequency': values['frequency'],\n",
    "    'model_name': values['model_name'],\n",
    "    'temporal_block': calc_values['temporal_block'],\n",
    "    'stochastic_scenario': values['stoch_scen'],\n",
    "    'stochastic_structure': values['stoch_struc'],\n",
    "    'report_name': values['report_name'],\n",
    "    'reports': values['outputs'],\n",
    "    'electrolyzer_type': values['electrolysis'],\n",
    "    'des_segments_electrolyzer': values['des_segments_electrolyzer'],\n",
    "    'share_of_dh_price_cap': values['share_of_dh_price_cap'],\n",
    "    'price_level_power': values['number_price_level_power'],\n",
    "    'power_price_variance': values['power_price_variance'],\n",
    "    'roll_forward_use': values['roll_forward'],\n",
    "    'roll_forward_size': calc_values['roll_forward_size'],\n",
    "    'num_slices': values['num_slices'],\n",
    "    'num_steps': calc_values['num_steps']\n",
    "}"
   ]
  },
  {
   "cell_type": "markdown",
   "id": "7c33f6fe",
   "metadata": {},
   "source": [
    "### Execute standard routine:"
   ]
  },
  {
   "cell_type": "code",
   "execution_count": null,
   "id": "62479679",
   "metadata": {},
   "outputs": [],
   "source": [
    "pm.execute_notebook(\n",
    "    'data_preparation_nord_h2ub_spine.ipynb',\n",
    "    'please_ignore.ipynb',\n",
    "    parameters=base_parameters\n",
    ")"
   ]
  },
  {
   "cell_type": "code",
   "execution_count": null,
   "id": "ea73acdf-1496-450f-85e8-40908b2a97a6",
   "metadata": {},
   "outputs": [],
   "source": []
  }
 ],
 "metadata": {
  "kernelspec": {
   "display_name": "python39_spinetoolbox",
   "language": "python",
   "name": "python39"
  },
  "language_info": {
   "codemirror_mode": {
    "name": "ipython",
    "version": 3
   },
   "file_extension": ".py",
   "mimetype": "text/x-python",
   "name": "python",
   "nbconvert_exporter": "python",
   "pygments_lexer": "ipython3",
   "version": "3.9.18"
  }
 },
 "nbformat": 4,
 "nbformat_minor": 5
}
