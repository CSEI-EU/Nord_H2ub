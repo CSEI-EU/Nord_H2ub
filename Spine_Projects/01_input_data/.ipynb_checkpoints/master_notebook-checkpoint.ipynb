{
 "cells": [
  {
   "cell_type": "markdown",
   "id": "43ea4b8f-0ba4-4513-8872-53f4a538a0d3",
   "metadata": {},
   "source": [
    "# Data Preparation for the Nord_H2ub Spine Model"
   ]
  },
  {
   "cell_type": "markdown",
   "id": "1aa86773-4431-4a2f-9490-4b3cf0aa8d70",
   "metadata": {},
   "source": [
    "This jupyter notebook contains all routines for the preparation of the input data sources into a input data file for the model in Spine. \n",
    "\n",
    "**Authors:** Johannes Giehl (jfg.eco@cbs.dk), Dana Hentschel (djh.eco@cbs.dk)"
   ]
  },
  {
   "cell_type": "markdown",
   "id": "eb8175ae-f246-4788-a309-c1a4890992f2",
   "metadata": {},
   "source": [
    "## General settings"
   ]
  },
  {
   "cell_type": "markdown",
   "id": "af14f70f",
   "metadata": {},
   "source": [
    "### Packages:"
   ]
  },
  {
   "cell_type": "code",
   "execution_count": 1,
   "id": "f778ef73",
   "metadata": {},
   "outputs": [],
   "source": [
    "import pandas as pd\n",
    "from datetime import timedelta\n",
    "import papermill as pm\n",
    "from nord_h2ub_dropdown_functions import *"
   ]
  },
  {
   "cell_type": "markdown",
   "id": "0e5bdb21",
   "metadata": {},
   "source": [
    "### Base Parameters:"
   ]
  },
  {
   "cell_type": "code",
   "execution_count": 2,
   "id": "84e907f5-5a6b-4864-a08d-6ac4aa48e950",
   "metadata": {},
   "outputs": [
    {
     "data": {
      "application/vnd.jupyter.widget-view+json": {
       "model_id": "c848c70082054d549acce1753879daec",
       "version_major": 2,
       "version_minor": 0
      },
      "text/plain": [
       "VBox(children=(VBox(children=(Label(value='Multiple Choice 1:'), Checkbox(value=False, description='Option 1')…"
      ]
     },
     "metadata": {},
     "output_type": "display_data"
    }
   ],
   "source": [
    "# Create the combined multiple choice fields and display them\n",
    "combined_multiple_choices = create_combined_multiple_choices()\n",
    "display(combined_multiple_choices)"
   ]
  },
  {
   "cell_type": "code",
   "execution_count": null,
   "id": "da18cb71",
   "metadata": {},
   "outputs": [],
   "source": [
    "# Choose the year\n",
    "year_dropdown = create_dropdown('year')\n",
    "display(year_dropdown)"
   ]
  },
  {
   "cell_type": "code",
   "execution_count": null,
   "id": "9b59023e",
   "metadata": {},
   "outputs": [],
   "source": [
    "# Set the area in which the facility is located\n",
    "area_dropdown = create_dropdown('area')\n",
    "display(area_dropdown)"
   ]
  },
  {
   "cell_type": "code",
   "execution_count": null,
   "id": "f61eb18c",
   "metadata": {},
   "outputs": [],
   "source": [
    "# Choose the product to be produced\n",
    "product_dropdown = create_dropdown('product')\n",
    "display(product_dropdown)"
   ]
  },
  {
   "cell_type": "code",
   "execution_count": null,
   "id": "48ffa979",
   "metadata": {},
   "outputs": [],
   "source": [
    "# Select the type of electrolyzer\n",
    "electrolyzer_type_dropdown = create_dropdown('electrolyzer_type')\n",
    "display(electrolyzer_type_dropdown)"
   ]
  },
  {
   "cell_type": "code",
   "execution_count": null,
   "id": "4fec2aaa",
   "metadata": {},
   "outputs": [],
   "source": [
    "# Choose the number of segments for the variable efficiency\n",
    "des_segments_electrolyzer_dropdown = create_dropdown('des_segments_electrolyzer')\n",
    "display(des_segments_electrolyzer_dropdown)"
   ]
  },
  {
   "cell_type": "code",
   "execution_count": null,
   "id": "3da42d56",
   "metadata": {},
   "outputs": [],
   "source": [
    "# Set the area in which the facility is located\n",
    "frequency_dropdown = create_dropdown('frequency')\n",
    "display(frequency_dropdown)"
   ]
  },
  {
   "cell_type": "code",
   "execution_count": null,
   "id": "07acc586",
   "metadata": {},
   "outputs": [],
   "source": [
    "#temporal block\n",
    "if frequency_dropdown.value == '1h':\n",
    "    temporal_block = 'hourly'\n",
    "elif frequency_dropdown == '1D':\n",
    "    temporal_block = 'daily'\n",
    "elif frequency_dropdown == '1W':\n",
    "    temporal_block = 'weekly'\n",
    "elif frequency_dropdown == '1M':\n",
    "    temporal_block = 'monthly'\n",
    "elif frequency_dropdown == '1Q':\n",
    "    temporal_block = 'quarterly'\n",
    "else: \n",
    "    temporal_block = 'yearly'"
   ]
  },
  {
   "cell_type": "code",
   "execution_count": null,
   "id": "6d189cb3",
   "metadata": {},
   "outputs": [],
   "source": [
    "#required reports\n",
    "report_name = 'Report'\n",
    "reports = ['unit_flow', 'connection_flow', 'node_state', 'total_costs', 'unit_flow_op', 'node_slack_neg', 'node_slack_pos']"
   ]
  },
  {
   "cell_type": "code",
   "execution_count": null,
   "id": "69e3210d",
   "metadata": {},
   "outputs": [],
   "source": [
    "#financial parameters for the calculations\n",
    "#when using the district heating as a revenue stream, the price cap is the upper limit in Denmark\n",
    "#by using this parameter this can be adjusted to start with other than the max value\n",
    "share_of_dh_price_cap = 0.5\n",
    "price_level_power = 1\n",
    "power_price_variance = 1"
   ]
  },
  {
   "cell_type": "code",
   "execution_count": null,
   "id": "79f3b1ee",
   "metadata": {},
   "outputs": [],
   "source": [
    "#scenario\n",
    "scenario = 'Base'\n",
    "\n",
    "#model name\n",
    "model_name = 'toy'\n",
    "\n",
    "#stochastics\n",
    "stochastic_scenario = \"realisation\"\n",
    "stochastic_structure = \"deterministic\""
   ]
  },
  {
   "cell_type": "code",
   "execution_count": null,
   "id": "07f2496c",
   "metadata": {},
   "outputs": [],
   "source": [
    "#define parameters for the use of the roll forward (rolling horizon) approach\n",
    "#set the number of slices within the modelling horizon\n",
    "roll_forward_use = True\n",
    "num_slices = 12\n",
    "# Create DatetimeIndex for the range of dates\n",
    "start_date = pd.Timestamp(str(year_dropdown.value) + '-01-01 00:00:00')\n",
    "end_date = pd.Timestamp(str(year_dropdown.value) + '-12-31 23:00:00')\n",
    "datetime_index = pd.date_range(start=start_date, end=end_date, freq=frequency_dropdown.value)\n",
    "# Calculate the number of steps within the horizon\n",
    "num_steps = len(datetime_index)\n",
    "# Check if the number of slices can be used\n",
    "# Find the largest integer divisor that fulfils the condition\n",
    "for i in range(num_slices, 0, -1):\n",
    "    if num_steps % i == 0:\n",
    "        roll_forward_size = num_steps // i\n",
    "        used_slices = i\n",
    "        break\n",
    "else:\n",
    "    print(\"Cannot divide the number of steps into any integer slices. Please choose a different number of slices.\")\n",
    "    exit()\n",
    "# Check if num_slices matches the used_slices\n",
    "if num_slices != used_slices:\n",
    "    print(\"\\033[91mWARNING:\\033[0m The specified number of slices (\", num_slices, \")\",\n",
    "          \"does not match the final division factor (\", used_slices, \").\",\n",
    "         \"\\n The calculation uses the factor: \",used_slices, \".\")\n",
    "\n",
    "\n",
    "# Print warning message in red\n",
    "print(\"\\033[91mWARNING:\\033[0m Please control if all the parameters are set correctly\")"
   ]
  },
  {
   "cell_type": "markdown",
   "id": "ad677838",
   "metadata": {},
   "source": [
    "### Dictionary:"
   ]
  },
  {
   "cell_type": "code",
   "execution_count": null,
   "id": "9338bd4e",
   "metadata": {},
   "outputs": [],
   "source": [
    "base_parameters = {\n",
    "    'year': year_dropdown.value,\n",
    "    'start_date': (pd.Timestamp(str(year_dropdown.value) + '-01-01 00:00:00')).strftime('%Y-%m-%d %H:%M:%S'),\n",
    "    'end_date': (pd.Timestamp(str(year_dropdown.value) + '-12-31 23:00:00')).strftime('%Y-%m-%d %H:%M:%S'),\n",
    "    'area': area_dropdown.value,\n",
    "    'product': product_dropdown.value,\n",
    "    'scenario': scenario,\n",
    "    'frequency': frequency_dropdown.value,\n",
    "    'model_name': model_name,\n",
    "    'temporal_block': temporal_block,\n",
    "    'stochastic_scenario': stochastic_scenario,\n",
    "    'stochastic_structure': stochastic_structure,\n",
    "    'report_name': report_name,\n",
    "    'reports': reports,\n",
    "    'electrolyzer_type': electrolyzer_type_dropdown.value,\n",
    "    'des_segments_electrolyzer': des_segments_electrolyzer_dropdown.value,\n",
    "    'share_of_dh_price_cap': share_of_dh_price_cap,\n",
    "    'price_level_power': price_level_power,\n",
    "    'power_price_variance': power_price_variance,\n",
    "    'roll_forward_use': roll_forward_use,\n",
    "    'roll_forward_size': roll_forward_size,\n",
    "    'num_slices': num_slices,\n",
    "    'num_steps': num_steps\n",
    "}"
   ]
  },
  {
   "cell_type": "markdown",
   "id": "7c33f6fe",
   "metadata": {},
   "source": [
    "### Execute standard routine:"
   ]
  },
  {
   "cell_type": "code",
   "execution_count": null,
   "id": "62479679",
   "metadata": {},
   "outputs": [],
   "source": [
    "pm.execute_notebook(\n",
    "    'data_preparation_nord_h2ub_spine.ipynb',\n",
    "    'please_ignore.ipynb',\n",
    "    parameters=base_parameters\n",
    ")"
   ]
  }
 ],
 "metadata": {
  "kernelspec": {
   "display_name": "python39_spinetoolbox",
   "language": "python",
   "name": "python39"
  },
  "language_info": {
   "codemirror_mode": {
    "name": "ipython",
    "version": 3
   },
   "file_extension": ".py",
   "mimetype": "text/x-python",
   "name": "python",
   "nbconvert_exporter": "python",
   "pygments_lexer": "ipython3",
   "version": "3.9.18"
  }
 },
 "nbformat": 4,
 "nbformat_minor": 5
}
