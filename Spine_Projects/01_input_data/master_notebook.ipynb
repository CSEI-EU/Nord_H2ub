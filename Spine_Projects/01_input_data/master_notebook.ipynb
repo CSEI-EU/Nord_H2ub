{
 "cells": [
  {
   "cell_type": "markdown",
   "id": "43ea4b8f-0ba4-4513-8872-53f4a538a0d3",
   "metadata": {},
   "source": [
    "# Data Preparation for the Nord_H2ub Spine Model"
   ]
  },
  {
   "cell_type": "markdown",
   "id": "1aa86773-4431-4a2f-9490-4b3cf0aa8d70",
   "metadata": {},
   "source": [
    "This jupyter notebook contains all routines for the preparation of the input data sources into a input data file for the model in Spine. \n",
    "\n",
    "**Authors:** Johannes Giehl (jfg.eco@cbs.dk), Dana Hentschel (djh.eco@cbs.dk)"
   ]
  },
  {
   "cell_type": "markdown",
   "id": "eb8175ae-f246-4788-a309-c1a4890992f2",
   "metadata": {},
   "source": [
    "## General settings"
   ]
  },
  {
   "cell_type": "markdown",
   "id": "af14f70f",
   "metadata": {},
   "source": [
    "### Packages:"
   ]
  },
  {
   "cell_type": "code",
   "execution_count": 1,
   "id": "f778ef73",
   "metadata": {},
   "outputs": [],
   "source": [
    "import pandas as pd\n",
    "from datetime import timedelta\n",
    "import papermill as pm\n",
    "from nord_h2ub_dropdown_functions import *"
   ]
  },
  {
   "cell_type": "markdown",
   "id": "0e5bdb21",
   "metadata": {},
   "source": [
    "### Base Parameters:"
   ]
  },
  {
   "cell_type": "code",
   "execution_count": 2,
   "id": "65589b84",
   "metadata": {},
   "outputs": [
    {
     "ename": "TypeError",
     "evalue": "unsupported operand type(s) for /: 'function' and 'int'",
     "output_type": "error",
     "traceback": [
      "\u001b[1;31m---------------------------------------------------------------------------\u001b[0m",
      "\u001b[1;31mTypeError\u001b[0m                                 Traceback (most recent call last)",
      "Cell \u001b[1;32mIn[2], line 1\u001b[0m\n\u001b[1;32m----> 1\u001b[0m combined_dropdowns, dropdowns \u001b[38;5;241m=\u001b[39m \u001b[43mcreate_combined_dropdowns\u001b[49m\u001b[43m(\u001b[49m\u001b[43m)\u001b[49m\n\u001b[0;32m      2\u001b[0m display(combined_dropdowns)\n\u001b[0;32m      3\u001b[0m values \u001b[38;5;241m=\u001b[39m get_dropdown_values(dropdowns)\n",
      "File \u001b[1;32m~\\Documents\\GitHub\\Nord_H2ub\\spine_projects\\01_input_data\\nord_h2ub_dropdown_functions.py:150\u001b[0m, in \u001b[0;36mcreate_combined_dropdowns\u001b[1;34m()\u001b[0m\n\u001b[0;32m    148\u001b[0m dropdown_electrolysis_vbox, dropdown_electrolysis \u001b[38;5;241m=\u001b[39m create_dropdown_electrolysis()\n\u001b[0;32m    149\u001b[0m dropdown_frequency_vbox, dropdown_frequency \u001b[38;5;241m=\u001b[39m create_dropdown_frequency()\n\u001b[1;32m--> 150\u001b[0m number_dh_price_box, number_dh_price \u001b[38;5;241m=\u001b[39m \u001b[43mcreate_share_of_dh_price_cap\u001b[49m\u001b[43m(\u001b[49m\u001b[43m)\u001b[49m\n\u001b[0;32m    152\u001b[0m \u001b[38;5;66;03m#store dropdowns in a dictionary\u001b[39;00m\n\u001b[0;32m    153\u001b[0m dropdowns \u001b[38;5;241m=\u001b[39m {\n\u001b[0;32m    154\u001b[0m     \u001b[38;5;124m'\u001b[39m\u001b[38;5;124mname\u001b[39m\u001b[38;5;124m'\u001b[39m: model_name_input,\n\u001b[0;32m    155\u001b[0m     \u001b[38;5;124m'\u001b[39m\u001b[38;5;124myear\u001b[39m\u001b[38;5;124m'\u001b[39m: dropdown_year,\n\u001b[1;32m   (...)\u001b[0m\n\u001b[0;32m    159\u001b[0m     \u001b[38;5;124m'\u001b[39m\u001b[38;5;124mfrequency\u001b[39m\u001b[38;5;124m'\u001b[39m: dropdown_frequency\n\u001b[0;32m    160\u001b[0m }\n",
      "File \u001b[1;32m~\\Documents\\GitHub\\Nord_H2ub\\spine_projects\\01_input_data\\nord_h2ub_dropdown_functions.py:50\u001b[0m, in \u001b[0;36mcreate_share_of_dh_price_cap\u001b[1;34m()\u001b[0m\n\u001b[0;32m     43\u001b[0m description_label \u001b[38;5;241m=\u001b[39m widgets\u001b[38;5;241m.\u001b[39mLabel(\u001b[38;5;124m\"\u001b[39m\u001b[38;5;124mSet the assumed value for revenues from district heating as share of a max price (\u001b[39m\u001b[38;5;124m%\u001b[39m\u001b[38;5;124m):\u001b[39m\u001b[38;5;124m\"\u001b[39m)\n\u001b[0;32m     44\u001b[0m number_input \u001b[38;5;241m=\u001b[39m widgets\u001b[38;5;241m.\u001b[39mBoundedFloatText(\n\u001b[0;32m     45\u001b[0m     value\u001b[38;5;241m=\u001b[39mdefault_number,\n\u001b[0;32m     46\u001b[0m     \u001b[38;5;28mmin\u001b[39m\u001b[38;5;241m=\u001b[39m\u001b[38;5;241m0\u001b[39m,\n\u001b[0;32m     47\u001b[0m     \u001b[38;5;28mmax\u001b[39m\u001b[38;5;241m=\u001b[39m\u001b[38;5;241m200.0\u001b[39m,\n\u001b[0;32m     48\u001b[0m     step\u001b[38;5;241m=\u001b[39m\u001b[38;5;241m0.1\u001b[39m,\n\u001b[0;32m     49\u001b[0m )\n\u001b[1;32m---> 50\u001b[0m number_input\u001b[38;5;241m.\u001b[39mobserve(\u001b[43mon_number_change\u001b[49m\u001b[43m \u001b[49m\u001b[38;5;241;43m/\u001b[39;49m\u001b[43m \u001b[49m\u001b[38;5;241;43m100\u001b[39;49m, names\u001b[38;5;241m=\u001b[39m\u001b[38;5;124m'\u001b[39m\u001b[38;5;124mvalue\u001b[39m\u001b[38;5;124m'\u001b[39m)\n\u001b[0;32m     52\u001b[0m \u001b[38;5;28;01mreturn\u001b[39;00m widgets\u001b[38;5;241m.\u001b[39mVBox([description_label, number_input]), number_input\n",
      "\u001b[1;31mTypeError\u001b[0m: unsupported operand type(s) for /: 'function' and 'int'"
     ]
    }
   ],
   "source": [
    "combined_dropdowns, dropdowns = create_combined_dropdowns()\n",
    "display(combined_dropdowns)\n",
    "values = get_dropdown_values(dropdowns)"
   ]
  },
  {
   "cell_type": "code",
   "execution_count": null,
   "id": "84e907f5-5a6b-4864-a08d-6ac4aa48e950",
   "metadata": {},
   "outputs": [],
   "source": [
    "# Create the combined multiple choice fields and display them\n",
    "combined_multiple_choices, selected_options = create_combined_multiple_choices()\n",
    "display(combined_multiple_choices)"
   ]
  },
  {
   "cell_type": "code",
   "execution_count": null,
   "id": "6d189cb3",
   "metadata": {},
   "outputs": [],
   "source": [
    "#required reports\n",
    "report_name = 'Report'"
   ]
  },
  {
   "cell_type": "code",
   "execution_count": null,
   "id": "69e3210d",
   "metadata": {},
   "outputs": [],
   "source": [
    "#financial parameters for the calculations\n",
    "#when using the district heating as a revenue stream, the price cap is the upper limit in Denmark\n",
    "#by using this parameter this can be adjusted to start with other than the max value\n",
    "share_of_dh_price_cap = 0.5\n",
    "price_level_power = 1\n",
    "power_price_variance = 1"
   ]
  },
  {
   "cell_type": "code",
   "execution_count": null,
   "id": "79f3b1ee",
   "metadata": {},
   "outputs": [],
   "source": [
    "#scenario\n",
    "scenario = 'Base'\n",
    "\n",
    "#model name\n",
    "model_name = 'toy'\n",
    "\n",
    "#stochastics\n",
    "stochastic_scenario = \"realisation\"\n",
    "stochastic_structure = \"deterministic\""
   ]
  },
  {
   "cell_type": "code",
   "execution_count": null,
   "id": "07f2496c",
   "metadata": {},
   "outputs": [],
   "source": [
    "#define parameters for the use of the roll forward (rolling horizon) approach\n",
    "#set the number of slices within the modelling horizon\n",
    "roll_forward_use = True\n",
    "num_slices = 12\n",
    "# Create DatetimeIndex for the range of dates\n",
    "start_date = pd.Timestamp(str(year_dropdown.value) + '-01-01 00:00:00')\n",
    "end_date = pd.Timestamp(str(year_dropdown.value) + '-12-31 23:00:00')\n",
    "datetime_index = pd.date_range(start=start_date, end=end_date, freq=frequency_dropdown.value)\n",
    "# Calculate the number of steps within the horizon\n",
    "num_steps = len(datetime_index)\n",
    "# Check if the number of slices can be used\n",
    "# Find the largest integer divisor that fulfils the condition\n",
    "for i in range(num_slices, 0, -1):\n",
    "    if num_steps % i == 0:\n",
    "        roll_forward_size = num_steps // i\n",
    "        used_slices = i\n",
    "        break\n",
    "else:\n",
    "    print(\"Cannot divide the number of steps into any integer slices. Please choose a different number of slices.\")\n",
    "    exit()\n",
    "# Check if num_slices matches the used_slices\n",
    "if num_slices != used_slices:\n",
    "    print(\"\\033[91mWARNING:\\033[0m The specified number of slices (\", num_slices, \")\",\n",
    "          \"does not match the final division factor (\", used_slices, \").\",\n",
    "         \"\\n The calculation uses the factor: \",used_slices, \".\")\n",
    "\n",
    "\n",
    "# Print warning message in red\n",
    "print(\"\\033[91mWARNING:\\033[0m Please control if all the parameters are set correctly\")"
   ]
  },
  {
   "cell_type": "code",
   "execution_count": null,
   "id": "07acc586",
   "metadata": {},
   "outputs": [],
   "source": [
    "#temporal block, do not change\n",
    "if dropdowns['frequency'].value == '1h':\n",
    "    temporal_block = 'hourly'\n",
    "elif dropdowns['frequency'].value == '1D':\n",
    "    temporal_block = 'daily'\n",
    "elif dropdowns['frequency'].value == '1W':\n",
    "    temporal_block = 'weekly'\n",
    "elif dropdowns['frequency'].value == '1M':\n",
    "    temporal_block = 'monthly'\n",
    "elif dropdowns['frequency'].value == '1Q':\n",
    "    temporal_block = 'quarterly'\n",
    "else: \n",
    "    temporal_block = 'yearly'"
   ]
  },
  {
   "cell_type": "markdown",
   "id": "ad677838",
   "metadata": {},
   "source": [
    "### Dictionary:"
   ]
  },
  {
   "cell_type": "code",
   "execution_count": null,
   "id": "9338bd4e",
   "metadata": {},
   "outputs": [],
   "source": [
    "base_parameters = {\n",
    "    'year': dropdowns['year'].value,\n",
    "    'start_date': (pd.Timestamp(str(dropdowns['year'].value) + '-01-01 00:00:00')).strftime('%Y-%m-%d %H:%M:%S'),\n",
    "    'end_date': (pd.Timestamp(str(dropdowns['year'].value) + '-12-31 23:00:00')).strftime('%Y-%m-%d %H:%M:%S'),\n",
    "    'area': dropdowns['price_zone'].value,\n",
    "    'product': dropdowns['product'].value,\n",
    "    'scenario': scenario,\n",
    "    'frequency': dropdowns['frequency'].value,\n",
    "    'model_name': model_name,\n",
    "    'temporal_block': temporal_block,\n",
    "    'stochastic_scenario': stochastic_scenario,\n",
    "    'stochastic_structure': stochastic_structure,\n",
    "    'report_name': report_name,\n",
    "    'reports': selected_options,\n",
    "    'electrolyzer_type': electrolysis_value = dropdowns['electrolysis'].value,\n",
    "    'des_segments_electrolyzer': ,\n",
    "    'share_of_dh_price_cap': share_of_dh_price_cap,\n",
    "    'price_level_power': price_level_power,\n",
    "    'power_price_variance': power_price_variance,\n",
    "    'roll_forward_use': roll_forward_use,\n",
    "    'roll_forward_size': roll_forward_size,\n",
    "    'num_slices': num_slices,\n",
    "    'num_steps': num_steps\n",
    "}"
   ]
  },
  {
   "cell_type": "markdown",
   "id": "7c33f6fe",
   "metadata": {},
   "source": [
    "### Execute standard routine:"
   ]
  },
  {
   "cell_type": "code",
   "execution_count": null,
   "id": "62479679",
   "metadata": {},
   "outputs": [],
   "source": [
    "pm.execute_notebook(\n",
    "    'data_preparation_nord_h2ub_spine.ipynb',\n",
    "    'please_ignore.ipynb',\n",
    "    parameters=base_parameters\n",
    ")"
   ]
  }
 ],
 "metadata": {
  "kernelspec": {
   "display_name": "python39_spinetoolbox",
   "language": "python",
   "name": "python39"
  },
  "language_info": {
   "codemirror_mode": {
    "name": "ipython",
    "version": 3
   },
   "file_extension": ".py",
   "mimetype": "text/x-python",
   "name": "python",
   "nbconvert_exporter": "python",
   "pygments_lexer": "ipython3",
   "version": "3.9.18"
  }
 },
 "nbformat": 4,
 "nbformat_minor": 5
}
