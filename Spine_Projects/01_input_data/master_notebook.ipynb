{
 "cells": [
  {
   "cell_type": "markdown",
   "id": "43ea4b8f-0ba4-4513-8872-53f4a538a0d3",
   "metadata": {},
   "source": [
    "# Data Preparation for the Nord_H2ub Spine Model"
   ]
  },
  {
   "cell_type": "markdown",
   "id": "1aa86773-4431-4a2f-9490-4b3cf0aa8d70",
   "metadata": {},
   "source": [
    "This jupyter notebook contains all routines for the preparation of the input data sources into a input data file for the model in Spine. \n",
    "\n",
    "**Authors:** Johannes Giehl (jfg.eco@cbs.dk), Dana Hentschel (djh.eco@cbs.dk)"
   ]
  },
  {
   "cell_type": "markdown",
   "id": "eb8175ae-f246-4788-a309-c1a4890992f2",
   "metadata": {},
   "source": [
    "## General settings"
   ]
  },
  {
   "cell_type": "markdown",
   "id": "af14f70f",
   "metadata": {},
   "source": [
    "### Packages:"
   ]
  },
  {
   "cell_type": "code",
   "execution_count": 1,
   "id": "38a26c13-5700-414c-ab72-2a07690f1802",
   "metadata": {},
   "outputs": [
    {
     "name": "stdout",
     "output_type": "stream",
     "text": [
      "Custom functions imported successfully.\n"
     ]
    }
   ],
   "source": [
    "from nord_h2ub_hexhex import *"
   ]
  },
  {
   "cell_type": "markdown",
   "id": "0e5bdb21",
   "metadata": {},
   "source": [
    "### Base Parameters:"
   ]
  },
  {
   "cell_type": "code",
   "execution_count": 2,
   "id": "8489619f-5906-4f62-bc7b-4c6868b1e950",
   "metadata": {},
   "outputs": [
    {
     "data": {
      "application/vnd.jupyter.widget-view+json": {
       "model_id": "1f55a4a036b6414e852550928b7f5fb7",
       "version_major": 2,
       "version_minor": 0
      },
      "text/plain": [
       "Tab(children=(VBox(children=(HTML(value='<b>Section 1: Please define the parameters of the general model</b>')…"
      ]
     },
     "metadata": {},
     "output_type": "display_data"
    }
   ],
   "source": [
    "# Example usage\n",
    "combined_tabs, dropdowns = create_combined_dropdowns_tabs()"
   ]
  },
  {
   "cell_type": "code",
   "execution_count": 4,
   "id": "8d858aa9-b613-4861-9ad8-1aa82e8be8fa",
   "metadata": {},
   "outputs": [],
   "source": [
    "#get the values after setting the inputs by the user\n",
    "values = get_dropdown_values(dropdowns)\n",
    "\n",
    "#Calculate remaining values based on inputs\n",
    "calc_values = compute_other_values(values)"
   ]
  },
  {
   "cell_type": "markdown",
   "id": "ad677838",
   "metadata": {},
   "source": [
    "### Dictionary:"
   ]
  },
  {
   "cell_type": "code",
   "execution_count": null,
   "id": "9338bd4e",
   "metadata": {},
   "outputs": [],
   "source": [
    "base_parameters = {\n",
    "    'year': values['year'],\n",
    "    'start_date': calc_values['start_date'],\n",
    "    'end_date': calc_values['end_date'],\n",
    "    'area': values['price_zone'],\n",
    "    'product': values['product'],\n",
    "    'scenario': [values['base_scen']] + values['other_scen'].split('\\n'),\n",
    "    'frequency': values['frequency'],\n",
    "    'model_name': values['model_name'],\n",
    "    'temporal_block': calc_values['temporal_block'],\n",
    "    'stochastic_scenario': values['stoch_scen'],\n",
    "    'stochastic_structure': values['stoch_struc'],\n",
    "    'report_name': values['report_name'],\n",
    "    'reports': values['outputs'],\n",
    "    'electrolyzer_type': values['electrolysis'],\n",
    "    'des_segments_electrolyzer': values['des_segments_electrolyzer'],\n",
    "    'share_of_dh_price_cap': values['share_of_dh_price_cap'],\n",
    "    'price_level_power': values['number_price_level_power'],\n",
    "    'power_price_variance': values['power_price_variance'],\n",
    "    'roll_forward_use': values['roll_forward'],\n",
    "    'roll_forward_size': calc_values['roll_forward_size'],\n",
    "    'num_slices': values['num_slices'],\n",
    "    'num_steps': calc_values['num_steps']\n",
    "}"
   ]
  },
  {
   "cell_type": "markdown",
   "id": "7c33f6fe",
   "metadata": {},
   "source": [
    "### Execute standard routine:"
   ]
  },
  {
   "cell_type": "code",
   "execution_count": null,
   "id": "62479679",
   "metadata": {},
   "outputs": [],
   "source": [
    "pm.execute_notebook(\n",
    "    'data_preparation_nord_h2ub_spine.ipynb',\n",
    "    'please_ignore.ipynb',\n",
    "    parameters=base_parameters\n",
    ")"
   ]
  },
  {
   "cell_type": "code",
   "execution_count": 1,
   "id": "ea73acdf-1496-450f-85e8-40908b2a97a6",
   "metadata": {},
   "outputs": [],
   "source": [
    "exit()"
   ]
  },
  {
   "cell_type": "code",
   "execution_count": 1,
   "id": "2134bf3b-e77b-4191-b932-2fc9126aec03",
   "metadata": {},
   "outputs": [],
   "source": [
    "from time import sleep\n",
    "from ipylab import JupyterFrontEnd"
   ]
  },
  {
   "cell_type": "code",
   "execution_count": 4,
   "id": "238fcf9d-27ee-40f9-a39a-2e3b4f22cd6b",
   "metadata": {},
   "outputs": [],
   "source": [
    "def save_terminate():\n",
    "    # Save the notebook\n",
    "    from notebook import list_running_servers\n",
    "    import nbformat\n",
    "    \n",
    "    for server in list_running_servers():\n",
    "        url = server['url']\n",
    "        token = server['token']\n",
    "        notebook_file_path = notebookapp.get_current_notebook_path()\n",
    "        with open(notebook_file_path, 'r') as file:\n",
    "            nb = nbformat.read(file, as_version=4)\n",
    "        nbformat.write(nb, notebook_file_path)\n",
    "\n",
    "    print(\"Notebook saved and will terminate Jupyter soon.\")\n",
    "    \n",
    "    # Optionally, if you want to close the browser tab automatically\n",
    "    # from IPython.display import display, Javascript\n",
    "    # display(Javascript('window.close()'))\n",
    "    \n",
    "    time.sleep(5)\n",
    "    \n",
    "    # Shutdown the Jupyter server\n",
    "    server_url = os.getenv('JUPYTER_SERVER_URL')  # Ensure this environment variable is set\n",
    "    if server_url:\n",
    "        response = requests.post(f'{server_url}/api/shutdown', headers={\n",
    "            'Authorization': f'token {os.getenv(\"JUPYTER_TOKEN\")}'\n",
    "        })\n",
    "        if response.status_code == 200:\n",
    "            print(\"Jupyter server terminated successfully.\")\n",
    "        else:\n",
    "            print(f\"Failed to terminate Jupyter server: {response.status_code}\")"
   ]
  },
  {
   "cell_type": "code",
   "execution_count": 5,
   "id": "01ce66b8-c76f-4ebc-b26c-335fadacaa40",
   "metadata": {},
   "outputs": [
    {
     "ename": "ImportError",
     "evalue": "cannot import name 'list_running_servers' from 'notebook' (C:\\Users\\jfg.eco\\AppData\\Local\\anaconda3\\envs\\Spineopt_py309\\lib\\site-packages\\notebook\\__init__.py)",
     "output_type": "error",
     "traceback": [
      "\u001b[1;31m---------------------------------------------------------------------------\u001b[0m",
      "\u001b[1;31mImportError\u001b[0m                               Traceback (most recent call last)",
      "Cell \u001b[1;32mIn[5], line 1\u001b[0m\n\u001b[1;32m----> 1\u001b[0m \u001b[43msave_terminate\u001b[49m\u001b[43m(\u001b[49m\u001b[43m)\u001b[49m\n",
      "Cell \u001b[1;32mIn[4], line 3\u001b[0m, in \u001b[0;36msave_terminate\u001b[1;34m()\u001b[0m\n\u001b[0;32m      1\u001b[0m \u001b[38;5;28;01mdef\u001b[39;00m \u001b[38;5;21msave_terminate\u001b[39m():\n\u001b[0;32m      2\u001b[0m     \u001b[38;5;66;03m# Save the notebook\u001b[39;00m\n\u001b[1;32m----> 3\u001b[0m     \u001b[38;5;28;01mfrom\u001b[39;00m \u001b[38;5;21;01mnotebook\u001b[39;00m \u001b[38;5;28;01mimport\u001b[39;00m list_running_servers\n\u001b[0;32m      4\u001b[0m     \u001b[38;5;28;01mimport\u001b[39;00m \u001b[38;5;21;01mnbformat\u001b[39;00m\n\u001b[0;32m      6\u001b[0m     \u001b[38;5;28;01mfor\u001b[39;00m server \u001b[38;5;129;01min\u001b[39;00m list_running_servers():\n",
      "\u001b[1;31mImportError\u001b[0m: cannot import name 'list_running_servers' from 'notebook' (C:\\Users\\jfg.eco\\AppData\\Local\\anaconda3\\envs\\Spineopt_py309\\lib\\site-packages\\notebook\\__init__.py)"
     ]
    }
   ],
   "source": [
    "save_terminate()"
   ]
  },
  {
   "cell_type": "code",
   "execution_count": null,
   "id": "80bf86b8-bb95-4283-9636-cf01c8b6e65e",
   "metadata": {},
   "outputs": [],
   "source": [
    "import os\n",
    "import time\n",
    "import requests\n",
    "from IPython.display import display, Javascript\n",
    "import subprocess\n",
    "import platform\n",
    "\n",
    "def save_and_shutdown():\n",
    "    # Save the notebook\n",
    "    print(\"Saving the notebook...\")\n",
    "    try:\n",
    "        # Execute JavaScript to save the notebook\n",
    "        display(Javascript('IPython.notebook.save_checkpoint()'))\n",
    "        print(\"Notebook save requested.\")\n",
    "    except Exception as e:\n",
    "        print(f\"Error saving notebook: {e}\")\n",
    "\n",
    "    # Optionally, close the browser tab\n",
    "    try:\n",
    "        display(Javascript('window.close()'))\n",
    "        print(\"Attempted to close the browser tab.\")\n",
    "    except Exception as e:\n",
    "        print(f\"Error closing browser tab: {e}\")\n",
    "\n",
    "    # Pause to ensure saving and closing actions complete\n",
    "    time.sleep(5)\n",
    "\n",
    "    # Shutdown the Jupyter server\n",
    "    print(\"Shutting down the Jupyter server...\")\n",
    "    try:\n",
    "        # Get the server URL and token from environment variables\n",
    "        server_url = os.getenv('JUPYTER_SERVER_URL', 'http://localhost:8888')\n",
    "        token = os.getenv('JUPYTER_TOKEN', 'your_token_here')\n",
    "        \n",
    "        # Send a request to shutdown the server\n",
    "        response = requests.post(f'{server_url}/api/shutdown', headers={\n",
    "            'Authorization': f'token {token}'\n",
    "        })\n",
    "        \n",
    "        if response.status_code == 200:\n",
    "            print(\"Jupyter server shutdown request sent successfully.\")\n",
    "        else:\n",
    "            print(f\"Failed to send shutdown request. Status code: {response.status_code}\")\n",
    "    except Exception as e:\n",
    "        print(f\"Error sending shutdown request: {e}\")\n",
    "\n",
    "    # Ensure Jupyter server process is terminated\n",
    "    try:\n",
    "        if platform.system() == \"Windows\":\n",
    "            subprocess.run([\"taskkill\", \"/F\", \"/IM\", \"jupyter-notebook.exe\"], check=True)\n",
    "        else:\n",
    "            subprocess.run([\"pkill\", \"-f\", \"jupyter-notebook\"], check=True)\n",
    "        print(\"Jupyter server process terminated.\")\n",
    "    except Exception as e:\n",
    "        print(f\"Error terminating Jupyter server process: {e}\")\n",
    "\n",
    "# Call the function\n",
    "save_and_shutdown()\n"
   ]
  }
 ],
 "metadata": {
  "kernelspec": {
   "display_name": "python39_spinetoolbox",
   "language": "python",
   "name": "python39"
  },
  "language_info": {
   "codemirror_mode": {
    "name": "ipython",
    "version": 3
   },
   "file_extension": ".py",
   "mimetype": "text/x-python",
   "name": "python",
   "nbconvert_exporter": "python",
   "pygments_lexer": "ipython3",
   "version": "3.9.18"
  }
 },
 "nbformat": 4,
 "nbformat_minor": 5
}
