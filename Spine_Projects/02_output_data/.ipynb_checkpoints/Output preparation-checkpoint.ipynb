{
 "cells": [
  {
   "cell_type": "markdown",
   "id": "1c3b89db",
   "metadata": {},
   "source": [
    "# Output Preparation for the Nord_H2ub Spine Model"
   ]
  },
  {
   "cell_type": "markdown",
   "id": "98756f88",
   "metadata": {},
   "source": [
    "This jupyter notebook contains all routines for the preparation of the input data sources into a input data file for the model in Spine.\n",
    "\n",
    "Authors: Johannes Giehl (jfg.eco@cbs.dk), Dana J. Hentschel (djh.eco@cbs.dk)"
   ]
  },
  {
   "cell_type": "markdown",
   "id": "ddde8c69",
   "metadata": {},
   "source": [
    "## General settings"
   ]
  },
  {
   "cell_type": "markdown",
   "id": "230fb0d6",
   "metadata": {},
   "source": [
    "### Packages:"
   ]
  },
  {
   "cell_type": "code",
   "execution_count": 2,
   "id": "92e386b9",
   "metadata": {},
   "outputs": [],
   "source": [
    "import pandas as pd\n",
    "import os\n",
    "import openpyxl\n",
    "import numpy as np"
   ]
  },
  {
   "cell_type": "markdown",
   "id": "24bfae1e-39ac-470c-bdc0-bfb255f2780f",
   "metadata": {},
   "source": [
    "### define variables"
   ]
  },
  {
   "cell_type": "code",
   "execution_count": 10,
   "id": "d15f75c8-69dc-4c75-9983-a0f5cdb5763a",
   "metadata": {},
   "outputs": [],
   "source": [
    "excel_name = 'output_last_run'"
   ]
  },
  {
   "cell_type": "markdown",
   "id": "65afa152",
   "metadata": {},
   "source": [
    "### File paths:"
   ]
  },
  {
   "cell_type": "code",
   "execution_count": 3,
   "id": "619a209a",
   "metadata": {},
   "outputs": [],
   "source": [
    "#parent folder\n",
    "parent_folder = '../02_basic_energy_model/.spinetoolbox/items/exporter/output'\n",
    "folders = [f for f in os.listdir(parent_folder) if os.path.isdir(os.path.join(parent_folder, f))]\n",
    "if not folders:\n",
    "    print(\"No folders found.\")\n",
    "else:\n",
    "    latest_folder = max(folders, key=lambda x: os.path.getmtime(os.path.join(parent_folder, x)))\n",
    "    latest_folder_path = os.path.join(parent_folder, latest_folder)\n",
    "latest_folder_path = latest_folder_path.replace('\\\\', '/')\n",
    "folder_path = latest_folder_path\n",
    "folder_path += '/'\n",
    "\n",
    "#prepared input data\n",
    "output_file_path = '../02_output_data/01_basic_energy_model_outputs/'"
   ]
  },
  {
   "cell_type": "code",
   "execution_count": 4,
   "id": "bf67eba6",
   "metadata": {},
   "outputs": [],
   "source": [
    "#set name of the relevant files\n",
    "#input file\n",
    "output_old = 'Output_exported.xlsx'"
   ]
  },
  {
   "cell_type": "markdown",
   "id": "fb235bf6",
   "metadata": {},
   "source": [
    "## Workflow of the data preparation"
   ]
  },
  {
   "cell_type": "markdown",
   "id": "91613263",
   "metadata": {},
   "source": [
    "### Data Import"
   ]
  },
  {
   "cell_type": "code",
   "execution_count": 5,
   "id": "236dcad8",
   "metadata": {},
   "outputs": [],
   "source": [
    "df_output = pd.read_excel(folder_path + output_old)\n",
    "df_PV_prices = pd.read_excel('../01_input_data/02_input_prepared/Maersk_Example_Input_prepared.xlsx', sheet_name='Energy_prices')"
   ]
  },
  {
   "cell_type": "code",
   "execution_count": 6,
   "id": "befc6f2a",
   "metadata": {},
   "outputs": [],
   "source": [
    "selected_column_name = None\n",
    "for column_index in range(len(df_output.columns)):\n",
    "    if df_output.iloc[0, column_index] == 'power_line_Wholesale_Kasso' \\\n",
    "        and df_output.iloc[1, column_index] == 'to_node' \\\n",
    "        and df_output.iloc[2, column_index] == 'Power_Wholesale':\n",
    "        selected_column_name = df_output.columns[column_index]\n",
    "        break\n",
    "\n",
    "if selected_column_name:\n",
    "    df_output['proceeds from PV'] = df_output[selected_column_name].iloc[3:] * df_PV_prices['Power_Wholesale_Out'].iloc[4]\n",
    "else:\n",
    "    print(\"Column with specified headers not found in output.\")"
   ]
  },
  {
   "cell_type": "code",
   "execution_count": 7,
   "id": "5054c581",
   "metadata": {},
   "outputs": [],
   "source": [
    "total_costs = df_output['total_costs'].iloc[3]\n",
    "total_proceeds = df_output['proceeds from PV'].sum()\n",
    "adjusted_costs = total_costs - total_proceeds\n",
    "df_output['adjusted costs'] = np.nan\n",
    "df_output.at[3, 'adjusted costs'] = adjusted_costs"
   ]
  },
  {
   "cell_type": "markdown",
   "id": "5ee1b225",
   "metadata": {},
   "source": [
    "### Creating one combined excel and export"
   ]
  },
  {
   "cell_type": "code",
   "execution_count": 11,
   "id": "92a38069",
   "metadata": {},
   "outputs": [],
   "source": [
    "with pd.ExcelWriter(output_file_path + excel_name + '.xlsx') as writer:\n",
    "    df_output.to_excel(writer, sheet_name='Total costs')"
   ]
  },
  {
   "cell_type": "code",
   "execution_count": null,
   "id": "302afe50-1239-4c5d-837b-f77e70c1c2d5",
   "metadata": {},
   "outputs": [],
   "source": []
  },
  {
   "cell_type": "code",
   "execution_count": 13,
   "id": "b2d81e40-97ef-421d-87fa-78ae8680dcdb",
   "metadata": {},
   "outputs": [
    {
     "data": {
      "image/png": "[encoded data removed]",
      "text/plain": [
       "<Figure size 640x480 with 1 Axes>"
      ]
     },
     "metadata": {},
     "output_type": "display_data"
    },
    {
     "name": "stdout",
     "output_type": "stream",
     "text": [
      "Segment 1:\n",
      "   x    y\n",
      "0  1  2.1\n",
      "1  2  2.3\n",
      "2  3  2.8\n",
      "3  4  3.6\n",
      "Start point: (1, 2.1)\n",
      "End point: (4, 3.6)\n",
      "Average value: 2.7\n",
      "Segment 2:\n",
      "   x    y\n",
      "3  4  3.6\n",
      "4  5  4.0\n",
      "5  6  5.1\n",
      "6  7  6.8\n",
      "Start point: (4, 3.6)\n",
      "End point: (7, 6.8)\n",
      "Average value: 4.875\n",
      "Segment 3:\n",
      "    x    y\n",
      "6   7  6.8\n",
      "7   8  7.1\n",
      "8   9  7.9\n",
      "9  10  9.2\n",
      "Start point: (7, 6.8)\n",
      "End point: (10, 9.2)\n",
      "Average value: 7.749999999999999\n"
     ]
    },
    {
     "data": {
      "image/png": "[encoded data removed]",
      "text/plain": [
       "<Figure size 640x480 with 1 Axes>"
      ]
     },
     "metadata": {},
     "output_type": "display_data"
    }
   ],
   "source": [
    "import numpy as np\n",
    "import pandas as pd\n",
    "import matplotlib.pyplot as plt\n",
    "from scipy.interpolate import interp1d\n",
    "\n",
    "# Sample DataFrame (replace with your data)\n",
    "data = {\n",
    "    'x': [1, 2, 3, 4, 5, 6, 7, 8, 9, 10],\n",
    "    'y': [2.1, 2.3, 2.8, 3.6, 4.0, 5.1, 6.8, 7.1, 7.9, 9.2]\n",
    "}\n",
    "df = pd.DataFrame(data)\n",
    "\n",
    "# Define break points manually or programmatically\n",
    "breaks = [1, 4, 7, 10]  # You can adjust these break points as needed\n",
    "\n",
    "# Create linear interpolations for each segment\n",
    "segments = []\n",
    "for i in range(len(breaks) - 1):\n",
    "    mask = (df['x'] >= breaks[i]) & (df['x'] <= breaks[i + 1])\n",
    "    segment_df = df[mask]\n",
    "    f = interp1d(segment_df['x'], segment_df['y'], kind='linear', fill_value=\"extrapolate\")\n",
    "    segments.append((segment_df['x'], segment_df['y'], f))\n",
    "\n",
    "# Plot the original data and the piecewise linear fit\n",
    "plt.scatter(df['x'], df['y'], label='Original Data')\n",
    "\n",
    "# Plot each segment\n",
    "colors = ['red', 'green', 'blue']\n",
    "for i, (segment_x, segment_y, f) in enumerate(segments):\n",
    "    plt.plot(segment_x, f(segment_x), label=f'Segment {i + 1}', color=colors[i])\n",
    "\n",
    "plt.xlabel('x')\n",
    "plt.ylabel('y')\n",
    "plt.legend()\n",
    "plt.show()\n",
    "\n",
    "# Function to split data into linear segments and calculate segment info\n",
    "def split_curve(df, breaks):\n",
    "    segments = []\n",
    "    segment_info = []\n",
    "    for i in range(len(breaks) - 1):\n",
    "        segment = df[(df['x'] >= breaks[i]) & (df['x'] <= breaks[i + 1])]\n",
    "        start_point = (segment['x'].iloc[0], segment['y'].iloc[0])\n",
    "        end_point = (segment['x'].iloc[-1], segment['y'].iloc[-1])\n",
    "        average_value = segment['y'].mean()\n",
    "        segment_info.append({\n",
    "            'start_point': start_point,\n",
    "            'end_point': end_point,\n",
    "            'average_value': average_value\n",
    "        })\n",
    "        segments.append(segment)\n",
    "    return segments, segment_info\n",
    "\n",
    "# Split the curve and get segment information\n",
    "segments, segment_info = split_curve(df, breaks)\n",
    "for i, segment in enumerate(segments):\n",
    "    print(f\"Segment {i + 1}:\")\n",
    "    print(segment)\n",
    "    print(f\"Start point: {segment_info[i]['start_point']}\")\n",
    "    print(f\"End point: {segment_info[i]['end_point']}\")\n",
    "    print(f\"Average value: {segment_info[i]['average_value']}\")\n",
    "\n",
    "# Optional: Plot each segment\n",
    "for i, segment in enumerate(segments):\n",
    "    plt.scatter(segment['x'], segment['y'], label=f'Segment {i + 1}', color=colors[i])\n",
    "plt.plot(df['x'], df.apply(lambda row: segment_info[[i for i in range(len(breaks)-1) if breaks[i] <= row['x'] <= breaks[i+1]][0]]['average_value'], axis=1), label='Piecewise Linear Fit', color='red')\n",
    "plt.xlabel('x')\n",
    "plt.ylabel('y')\n",
    "plt.legend()\n",
    "plt.show()\n"
   ]
  },
  {
   "cell_type": "code",
   "execution_count": null,
   "id": "ec9110a5-d2d3-463d-bfc2-176204f01e7f",
   "metadata": {},
   "outputs": [],
   "source": []
  }
 ],
 "metadata": {
  "kernelspec": {
   "display_name": "Python 3 (ipykernel)",
   "language": "python",
   "name": "python3"
  },
  "language_info": {
   "codemirror_mode": {
    "name": "ipython",
    "version": 3
   },
   "file_extension": ".py",
   "mimetype": "text/x-python",
   "name": "python",
   "nbconvert_exporter": "python",
   "pygments_lexer": "ipython3",
   "version": "3.11.5"
  }
 },
 "nbformat": 4,
 "nbformat_minor": 5
}
