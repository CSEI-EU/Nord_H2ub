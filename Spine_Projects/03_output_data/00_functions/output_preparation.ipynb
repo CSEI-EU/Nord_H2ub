{
 "cells": [
  {
   "cell_type": "markdown",
   "id": "1c3b89db",
   "metadata": {},
   "source": [
    "# Output Preparation for the Nord_H2ub Spine Model"
   ]
  },
  {
   "cell_type": "markdown",
   "id": "98756f88",
   "metadata": {},
   "source": [
    "This jupyter notebook contains all routines for the preparation of the input data sources into a input data file for the model in Spine.\n",
    "\n",
    "Authors: Johannes Giehl (jfg.eco@cbs.dk), Dana J. Hentschel (djh.eco@cbs.dk), Lucia Ciprian (luc.eco@cbs.dk)"
   ]
  },
  {
   "cell_type": "markdown",
   "id": "ddde8c69",
   "metadata": {},
   "source": [
    "## General settings"
   ]
  },
  {
   "cell_type": "markdown",
   "id": "230fb0d6",
   "metadata": {},
   "source": [
    "### Packages:"
   ]
  },
  {
   "cell_type": "code",
   "execution_count": 333,
   "id": "92e386b9",
   "metadata": {},
   "outputs": [],
   "source": [
    "import pandas as pd\n",
    "import os\n",
    "import openpyxl\n",
    "import numpy as np\n",
    "import re\n",
    "import sys\n",
    "from nord_h2ub_hexhex_output import *"
   ]
  },
  {
   "cell_type": "markdown",
   "id": "24bfae1e-39ac-470c-bdc0-bfb255f2780f",
   "metadata": {},
   "source": [
    "### Check whether SpineOpt has run correctly\n",
    "\n",
    "SpineToolbox has per default a certain time limit on each optimization window. If it reaches that time limit, a suboptimal solution is reported. The following code checks whether this time limit is reached in at least one optimization step and kills the console if necessary."
   ]
  },
  {
   "cell_type": "code",
   "execution_count": 334,
   "id": "af15b1e6-46f6-4954-9c58-6fdcecfa6796",
   "metadata": {},
   "outputs": [
    {
     "name": "stdout",
     "output_type": "stream",
     "text": [
      "C:\\Users\\luc.eco\\OneDrive - CBS - Copenhagen Business School\\Documents\\GitHub\\Nord_H2ub\n"
     ]
    }
   ],
   "source": [
    "directory = get_base_path()\n",
    "print(directory)"
   ]
  },
  {
   "cell_type": "code",
   "execution_count": 335,
   "id": "0feeb73e-c4c3-48fa-adda-8d40c86ebb49",
   "metadata": {},
   "outputs": [],
   "source": [
    "# Get spineopt logs\n",
    "parent_folder_time = os.path.join(directory, \"Spine_Projects\", \"02_basic_energy_model\", \".spinetoolbox\", \"items\", \"run_spineopt\", \"logs\")\n",
    "\n",
    "if not os.path.exists(parent_folder_time):\n",
    "    print(f\"The directory '{parent_folder_time}' does not exist.\")\n",
    "\n",
    "# Filter for log files in the folder\n",
    "log_files = [l for l in os.listdir(parent_folder_time) if l.endswith('.log') and os.path.isfile(os.path.join(parent_folder_time, l))]\n",
    "\n",
    "if not log_files:\n",
    "    print('\\033[1m' + '\\033[91m' + 'No log files found, check your SpineOpt settings. Make sure you enable \"Log process output to a file\" in SpineToolbox.')\n",
    "    sys.exit(1)\n",
    "else:\n",
    "    latest_log = max(log_files, key=lambda x: os.path.getmtime(os.path.join(parent_folder_time, x)))\n",
    "    latest_log_path = os.path.join(parent_folder_time, latest_log)\n",
    "    \n",
    "    with open(latest_log_path, 'r') as file:\n",
    "        numbers = []\n",
    "        for line in file:\n",
    "            if \"Timing\" in line:\n",
    "                match = re.search(r\"Timing\\s+([\\d.]+)\", line)\n",
    "                if match:\n",
    "                    number = float(match.group(1))\n",
    "                    if number > 3000:\n",
    "                        print('\\033[1m' + '\\033[91m' + 'Warning, at least one of the time windows has reached the maximum! Results are not reliable anymore.')\n",
    "                        sys.exit(1)"
   ]
  },
  {
   "cell_type": "markdown",
   "id": "86f45aa4-1dbc-483f-a682-bbb73b0bf6aa",
   "metadata": {},
   "source": [
    "### Parameters"
   ]
  },
  {
   "cell_type": "code",
   "execution_count": 336,
   "id": "3e359b2e-26e6-42d1-872d-60ad48a0348c",
   "metadata": {},
   "outputs": [],
   "source": [
    "# Get current working directory:\n",
    "cwd = os.getcwd()\n",
    "\n",
    "# Adjust path to get parameters:\n",
    "parameter_path = os.path.join(os.path.dirname(os.path.dirname(cwd)), \"01_input_data\\\\00_functions\")\n",
    "with open(os.path.join(parameter_path, 'parameters.pkl'), 'rb') as file:\n",
    "    parameters = pickle.load(file)\n",
    "\n",
    "# Extract variables of interest\n",
    "run_name = f\"{latest_log[:15]}_{parameters['run_name']}\"\n",
    "time_horizon = parameters['lcoe_years']\n",
    "wacc = parameters['wacc']\n",
    "starting_year = parameters['starting_year']"
   ]
  },
  {
   "cell_type": "code",
   "execution_count": 337,
   "id": "927cbddd-f9a5-4746-b0ea-cf9ffdafbea6",
   "metadata": {},
   "outputs": [],
   "source": [
    "#define if the model should use the last spine optimization results or a specific file\n",
    "last_model_run = False   # Set to False if specific file is needed \n",
    "\n",
    "#set names of specific files if needed\n",
    "#run_name = 'base_case'\n",
    "specific_file_name = '\\\\Output_exported_' + run_name +'.xlsx'\n",
    "\n",
    "#output files of this script\n",
    "#file names to store the prepared output\n",
    "output_prepared_export = '\\\\Output_exported_'+ run_name +'.xlsx'"
   ]
  },
  {
   "cell_type": "markdown",
   "id": "65afa152",
   "metadata": {},
   "source": [
    "### File paths:"
   ]
  },
  {
   "cell_type": "code",
   "execution_count": 338,
   "id": "619a209a",
   "metadata": {},
   "outputs": [],
   "source": [
    "#get path of latest spine results\n",
    "#parent folder\n",
    "parent_folder_results = os.path.join(directory, \"Spine_Projects\", \"02_basic_energy_model\", \".spinetoolbox\", \"items\", \"exporter\", \"output\")\n",
    "\n",
    "folders = [f for f in os.listdir(parent_folder_results) if os.path.isdir(os.path.join(parent_folder_results, f))]\n",
    "if not folders:\n",
    "    print(\"No folders found.\")\n",
    "else:\n",
    "    latest_folder = max(folders, key=lambda x: os.path.getmtime(os.path.join(parent_folder_results, x)))\n",
    "    #latest_folder = \"run@2024-10-14T13.04.57\"\n",
    "    latest_folder_path = os.path.join(parent_folder_results, latest_folder)\n",
    "latest_folder_path = latest_folder_path.replace('\\\\', '/')\n",
    "folder_path_results = latest_folder_path\n",
    "folder_path_results += '/'\n",
    "\n",
    "#get the information of the prepared input data that is used for the spine optimization\n",
    "prepared_input_file_path = os.path.join(directory, \"Spine_Projects\", \"01_input_data\", \"02_input_prepared\")\n",
    "\n",
    "#path to files from specific runs\n",
    "path_specific_runs = '02_runs_EURO/01_output_raw/'\n",
    "#prepared output data export to\n",
    "output_file_path = os.path.join(directory, \"Spine_Projects\", \"03_output_data\", \"01_basic_energy_model_outputs\")\n"
   ]
  },
  {
   "cell_type": "code",
   "execution_count": 339,
   "id": "bf67eba6",
   "metadata": {},
   "outputs": [],
   "source": [
    "#Input files for this script\n",
    "\n",
    "#file name export from SpineToolbox\n",
    "output_exported_file = 'Output_exported@Exporter.xlsx'\n",
    "#input file used for the optimization\n",
    "data_from_inputs = 'methanol_Input_prepared.xlsx'\n",
    "#this way of the output data preparation must be changed\n",
    "#the information is manually added to the input xlsx and does not exist in the automated input generation\n",
    "data_from_inputs_temporary = 'methanol_Input_prepared_for_output_temporary.xlsx'"
   ]
  },
  {
   "cell_type": "code",
   "execution_count": 340,
   "id": "836c4970-3077-40a1-9856-6806c5d04d6b",
   "metadata": {},
   "outputs": [],
   "source": [
    "#combine input path and files\n",
    "\n",
    "## for paper \n",
    "prepared_input_file_path = os.path.join(directory, \"Spine_Projects\", \"01_input_data\", \"02_input_prepared\", \"paper_energy_2024_inputs\")\n",
    "data_from_inputs = 'paper_energy_2024_input_base_10op.xlsx'\n",
    "path_specific_runs =os.path.join(directory, \"Spine_Projects\", \"03_output_data\", \"03_runs_paper_energy_2024\",\"01_output_raw\")\n",
    "specific_file_name = 'Output_exported_paper_energy_2024_base_10op.xlsx'\n",
    "\n",
    "#to input files\n",
    "full_path_data_from_inputs = os.path.join(prepared_input_file_path, data_from_inputs)\n",
    "\n",
    "#to specific files\n",
    "full_path_specific_files = os.path.join(path_specific_runs, specific_file_name)\n",
    "#for temporary appraoch\n",
    "full_path_data_from_inputs_temporary  = os.path.join(prepared_input_file_path, data_from_inputs_temporary)\n",
    "\n",
    "#for output_data\n",
    "full_path_export_output_data = os.path.join(output_file_path, output_prepared_export)"
   ]
  },
  {
   "cell_type": "markdown",
   "id": "fb235bf6",
   "metadata": {},
   "source": [
    "## Data preparation"
   ]
  },
  {
   "cell_type": "markdown",
   "id": "91613263",
   "metadata": {},
   "source": [
    "### Data Import"
   ]
  },
  {
   "cell_type": "code",
   "execution_count": 341,
   "id": "236dcad8",
   "metadata": {},
   "outputs": [
    {
     "name": "stdout",
     "output_type": "stream",
     "text": [
      "Done\n"
     ]
    }
   ],
   "source": [
    "if last_model_run == True:\n",
    "    df_output_raw = pd.read_excel(os.path.join(folder_path_results + output_exported_file), sheet_name=-1)\n",
    "else:\n",
    "    df_output_raw = pd.read_excel(full_path_specific_files)\n",
    "\n",
    "df_PV_prices = pd.read_excel(full_path_data_from_inputs, sheet_name='Energy_prices')\n",
    "con_inv_params = pd.read_excel(full_path_data_from_inputs, sheet_name=\"Connection_Inv_Parameters\")\n",
    "unit_inv_params = pd.read_excel(full_path_data_from_inputs, sheet_name=\"Unit_Inv_Parameters\")\n",
    "stor_inv_params = pd.read_excel(full_path_data_from_inputs, sheet_name=\"Storage_Inv_Parameters\")\n",
    "nodes_params = pd.read_excel(full_path_data_from_inputs, sheet_name=\"Nodes\")\n",
    "model_params = pd.read_excel(full_path_data_from_inputs, sheet_name=\"Model\")\n",
    "print(\"Done\")"
   ]
  },
  {
   "cell_type": "markdown",
   "id": "8cd08ef9-da8a-4ca6-9b92-1fd94803b09c",
   "metadata": {},
   "source": [
    "### Data Frame Preparation"
   ]
  },
  {
   "cell_type": "code",
   "execution_count": 342,
   "id": "ccfe8c51-e998-4097-8581-de729189a451",
   "metadata": {},
   "outputs": [],
   "source": [
    "#create a copy of the original output DataFrame\n",
    "df_output = df_output_raw.copy()\n",
    "\n",
    "# Replace NaN values with empty strings in the first three rows\n",
    "df_output.iloc[:3] = df_output.iloc[:3].fillna('')\n",
    "\n",
    "# Combine the old header with the strings from the first three rows for each column\n",
    "new_headers = df_output.columns + '_' + df_output.iloc[0] + '_' + df_output.iloc[1] + '_' + df_output.iloc[2]\n",
    "old_headers = df_output.columns\n",
    "\n",
    "# Set the new headers\n",
    "df_output.columns = new_headers\n",
    "\n",
    "# Drop the first three rows\n",
    "#might be helpful bot not implemented now\n",
    "#df_output = df_output.drop([0, 1, 2])\n",
    "\n",
    "# Reset the index\n",
    "df_output.reset_index(drop=True, inplace=True)\n",
    "# Rename the first column to \"timeseries\"\n",
    "df_output.columns.values[0] = \"timeseries\""
   ]
  },
  {
   "cell_type": "markdown",
   "id": "97c2942e-e16d-4fac-9aa7-d9a07739a075",
   "metadata": {},
   "source": [
    "### Data Adjustments"
   ]
  },
  {
   "cell_type": "code",
   "execution_count": 343,
   "id": "befc6f2a",
   "metadata": {},
   "outputs": [],
   "source": [
    "#calculate revenues from PV sales on the wholesale market\n",
    "selected_column_name = None\n",
    "for column_index in range(len(df_output.columns)):\n",
    "    if (df_output.iloc[0, column_index] == 'pl_wholesale' and \n",
    "        df_output.iloc[1, column_index] == 'to_node' and df_output.iloc[2, column_index] == 'power_wholesale'):         \n",
    "        selected_column_name = df_output.columns[column_index]\n",
    "        break\n",
    "# If connected to grid PV power is sold, else revenue is 0\n",
    "if 'power_wholesale_out' in df_PV_prices.columns:                 #To adjust\n",
    "    if selected_column_name:\n",
    "        df_output['Revenue_from_PV'] = df_output[selected_column_name].iloc[3:] * df_PV_prices['power_wholesale_out'].iloc[4:]          \n",
    "    else:\n",
    "        print(\"Column with specified headers not found in output.\")\n",
    "\n",
    "else: \n",
    "    df_output['Revenue_from_PV'] = 0 "
   ]
  },
  {
   "cell_type": "code",
   "execution_count": 344,
   "id": "3ad80575-a2ab-427b-8370-196d6989a345",
   "metadata": {},
   "outputs": [],
   "source": [
    "# Subtract slack penalty if any (Penalty costs assumed to be equal for all nodes)\n",
    "slacks = df_output.filter(like='node_slack_pos')\n",
    "slacks = slacks.apply(pd.to_numeric, errors='coerce')\n",
    "total_slack = slacks[(slacks != 0) & (slacks.notna())].sum().sum()\n",
    "# node slack penalty\n",
    "slack_penalty = nodes_params['node_slack_penalty'][(nodes_params['node_slack_penalty'] != 0)&(nodes_params['node_slack_penalty'].notna())].iloc[0]\n",
    "\n",
    "# total penalty that had to be paid \n",
    "total_slack_penalty = total_slack*slack_penalty"
   ]
  },
  {
   "cell_type": "code",
   "execution_count": 345,
   "id": "5054c581",
   "metadata": {},
   "outputs": [
    {
     "name": "stdout",
     "output_type": "stream",
     "text": [
      "0.0\n",
      "1921371.8921226687\n",
      "9422808.358555133\n",
      "11344180.250677802\n",
      "6233190.0152672\n"
     ]
    }
   ],
   "source": [
    "#get total cost of the system\n",
    "total_costs = df_output.filter(like='total_cost')\n",
    "total_costs = total_costs.apply(pd.to_numeric, errors='coerce')\n",
    "total_costs = total_costs.sum().sum()\n",
    "total_costs += total_slack_penalty\n",
    "#get total revenue form PV power sale (times -1 is relevant as the input is structured that negative prices for exports reduce total cost). \n",
    "total_PV_revenue = df_output['Revenue_from_PV'].sum()*(-1)\n",
    "#calculate cost without PV revenue\n",
    "adjusted_costs = total_costs + total_PV_revenue \n",
    "                            \n",
    "#create separate DataFrame for total and adjusted cost\n",
    "df_system_cost_output = pd.DataFrame({\n",
    "    'Total_cost': [total_costs],\n",
    "    'PV_revenue': [total_PV_revenue],\n",
    "    'Total_adjusted_cost': [adjusted_costs]\n",
    "})\n",
    "print(total_slack_penalty)\n",
    "print(total_costs)\n",
    "print(total_PV_revenue)\n",
    "print(adjusted_costs)\n",
    "print(12892475.7012672-6659285.686)"
   ]
  },
  {
   "cell_type": "code",
   "execution_count": 346,
   "id": "0eb21b73-892f-4a38-88e7-fcc0855554f2",
   "metadata": {},
   "outputs": [],
   "source": [
    "# Identify columns to drop\n",
    "columns_to_drop_1 = df_output.filter(like='total_costs').columns\n",
    "# Drop the identified columns if any are found\n",
    "if not columns_to_drop_1.empty:\n",
    "    df_output.drop(columns=columns_to_drop_1, inplace=True)\n",
    "\n",
    "#test this and implement an if check\n",
    "columns_to_drop_2 = df_output.filter(like='unit_flow_op').columns\n",
    "# Drop the identified columns if any are found\n",
    "if not columns_to_drop_2.empty:\n",
    "    df_output.drop(columns=columns_to_drop_2, inplace=True)"
   ]
  },
  {
   "cell_type": "markdown",
   "id": "93fa6f46-03f4-4f47-b857-9cd184ed6f72",
   "metadata": {},
   "source": [
    "## Calculate LCOE"
   ]
  },
  {
   "cell_type": "markdown",
   "id": "0f84ba6b-2dba-4b27-8042-1b3f6a35274e",
   "metadata": {},
   "source": [
    "### Calculate Investment Cost"
   ]
  },
  {
   "cell_type": "code",
   "execution_count": 347,
   "id": "9605ad7b-3cec-48b4-99be-a44db712dbcd",
   "metadata": {},
   "outputs": [
    {
     "name": "stderr",
     "output_type": "stream",
     "text": [
      "C:\\Users\\luc.eco\\AppData\\Local\\Temp\\ipykernel_2096\\776918219.py:17: SettingWithCopyWarning: \n",
      "A value is trying to be set on a copy of a slice from a DataFrame\n",
      "\n",
      "See the caveats in the documentation: https://pandas.pydata.org/pandas-docs/stable/user_guide/indexing.html#returning-a-view-versus-a-copy\n",
      "  objects_invested_df.iloc[4:] = objects_invested_df.iloc[4:].apply(pd.to_numeric, errors='coerce')\n"
     ]
    }
   ],
   "source": [
    "dict_investments = {}\n",
    "connection_costs = 0\n",
    "unit_costs = 0\n",
    "storage_costs = 0\n",
    "## Check number of slices of roll forward\n",
    "for line_number, line in model_params.iterrows():\n",
    "    if line[\"Parameter\"] == \"roll_forward\":\n",
    "        number_str = ''.join([char for char in line[\"Value\"] if char.isdigit()])\n",
    "        number = int(number_str)\n",
    "        roll_forward_slices = 8760//number\n",
    "        break\n",
    "    else:\n",
    "        roll_forward_slices = 1\n",
    "\n",
    "# Keep only the data of object_invested for each object \n",
    "objects_invested_df = df_output.filter(like='_invested')\n",
    "objects_invested_df.iloc[4:] = objects_invested_df.iloc[4:].apply(pd.to_numeric, errors='coerce')\n",
    "\n",
    "# Create dictionary with total number of object_invested for each object\n",
    "objects_invested_dict = {}\n",
    "for col_name, col_data in objects_invested_df.items():\n",
    "    objects_invested_dict[col_data.iloc[0]] = col_data[3:].loc[(col_data[3:] != 0) & (col_data[3:].notna())].sum()\n",
    "\n",
    "\n",
    "# Convert lifetime of '365D' for example to 365\n",
    "unit_inv_params[\"unit_investment_econ_lifetime\"] = unit_inv_params[\"unit_investment_econ_lifetime\"].astype(str).str.replace('D', '', regex=False).astype(float)\n",
    "con_inv_params[\"connection_investment_econ_lifetime\"] = con_inv_params[\"connection_investment_econ_lifetime\"].astype(str).str.replace('D', '', regex=False).astype(float)\n",
    "stor_inv_params[\"storage_investment_econ_lifetime\"] = stor_inv_params[\"storage_investment_econ_lifetime\"].astype(str).str.replace('D', '', regex=False).astype(float)\n",
    "\n",
    "\n",
    "# Adding investemnt costs of intially investested objects\n",
    "for row_number_con, row_con in con_inv_params.iterrows():\n",
    "    yearly_iv_cost = row_con[\"connection_investment_cost\"]* roll_forward_slices   # Investment costs for full capacity and one year\n",
    "    lifetime = row_con[\"connection_investment_econ_lifetime\"]/365                 # Lifetime of object in years\n",
    "    invested_available = row_con[\"initial_connections_invested_available\"]        # Number of objects initially available for investements \n",
    "    if row_con[\"Object_name\"] in objects_invested_dict:\n",
    "        invested_opt = objects_invested_dict[row_con[\"Object_name\"]]              # Number of objects invested in during optimization\n",
    "    else: \n",
    "        invested_opt = 0\n",
    "    invested_total = invested_available + invested_opt\n",
    "    connection_costs += (invested_total * yearly_iv_cost * lifetime)              # Total investment costs for connections\n",
    "    \n",
    "for row_number_unit, row_unit in unit_inv_params.iterrows():\n",
    "   \n",
    "    yearly_iv_cost = row_unit[\"unit_investment_cost\"]* roll_forward_slices\n",
    "    lifetime = row_unit[\"unit_investment_econ_lifetime\"]/365\n",
    "    invested_available = row_unit[\"initial_units_invested_available\"]\n",
    "    if row_unit[\"Object_name\"] in objects_invested_dict:\n",
    "        invested_opt = objects_invested_dict[row_unit[\"Object_name\"]]\n",
    "    else: \n",
    "        invested_opt = 0\n",
    "    invested_total = invested_available + invested_opt\n",
    "    unit_costs += (invested_total * yearly_iv_cost * lifetime)\n",
    "    \n",
    "for row_number_stor, row_stor in stor_inv_params.iterrows():\n",
    "    yearly_iv_cost = row_stor[\"storage_investment_cost\"]* roll_forward_slices\n",
    "    lifetime = row_stor[\"storage_investment_econ_lifetime\"]/365\n",
    "    invested_available = row_stor[\"initial_storages_invested\"]\n",
    "    if row_stor[\"Object_name\"] in objects_invested_dict:\n",
    "        invested_opt = objects_invested_dict[row_stor[\"Object_name\"]]\n",
    "    else: \n",
    "        invested_opt = 0\n",
    "    invested_total = invested_available + invested_opt\n",
    "    storage_costs += (invested_total * yearly_iv_cost * lifetime)\n",
    "    \n",
    "dict_investments[\"Connection_Investement_Costs\"]  = connection_costs\n",
    "dict_investments[\"Storage_Investement_Costs\"]  = storage_costs\n",
    "dict_investments[\"Unit_Investement_Costs\"]  = unit_costs\n",
    "\n",
    "\n",
    "total_investment = sum(dict_investments.values())"
   ]
  },
  {
   "cell_type": "markdown",
   "id": "07f195cc",
   "metadata": {},
   "source": [
    "### slacks"
   ]
  },
  {
   "cell_type": "code",
   "execution_count": 348,
   "id": "e5188d2c",
   "metadata": {},
   "outputs": [],
   "source": [
    "# Calculate the slacks\n",
    "node_slack_neg = df_output.filter(like='node_slack_neg')\n",
    "node_slack_pos = df_output.filter(like='node_slack_pos')\n",
    "\n",
    "node_slack_neg_numeric = node_slack_neg.apply(pd.to_numeric, errors='coerce')\n",
    "node_slack_pos_numeric = node_slack_pos.apply(pd.to_numeric, errors='coerce')\n",
    "\n",
    "node_slack_neg_sum = node_slack_neg_numeric.sum().sum()\n",
    "node_slack_pos_sum = node_slack_pos_numeric.sum().sum()\n",
    "\n",
    "total_slack = node_slack_neg_sum + node_slack_pos_sum\n",
    "\n",
    "total_slack = slacks[(slacks != 0) & (slacks.notna())].sum().sum()"
   ]
  },
  {
   "cell_type": "markdown",
   "id": "61ad742f-b940-4a64-a004-914589933af4",
   "metadata": {},
   "source": [
    "### variable costs"
   ]
  },
  {
   "cell_type": "code",
   "execution_count": 349,
   "id": "88f19d29-6149-4c56-b54a-05b77f220e8b",
   "metadata": {},
   "outputs": [
    {
     "name": "stdout",
     "output_type": "stream",
     "text": [
      "1921371.8921226687 0.0\n"
     ]
    }
   ],
   "source": [
    "#get annual costs\n",
    "#annual_costs = df_system_cost_output.loc['total_costs_toy__', 'Total_adjusted_cost'] - total_slack\n",
    "annual_costs = adjusted_costs-total_slack\n",
    "#annual cost including PV revenue\n",
    "#annual_costs_with_PV = df_system_cost_output.loc['total_costs_toy__', 'Total_cost'] - total_slack\n",
    "annual_costs_with_PV = total_costs-total_slack\n",
    "print(total_costs, total_slack)"
   ]
  },
  {
   "cell_type": "markdown",
   "id": "00292144-6cc4-4bd4-bf7a-5511be59f75f",
   "metadata": {},
   "source": [
    "### energy output"
   ]
  },
  {
   "cell_type": "code",
   "execution_count": 350,
   "id": "52470cc8-be24-4320-af22-d9ba493bdd9b",
   "metadata": {},
   "outputs": [],
   "source": [
    "#energy output\n",
    "energy_output = df_output.filter(like='pl_ch3oh_demand_from_node_ch3oh')         \n",
    "\n",
    "# Convert strings to numbers, ignoring non-numeric values (relevant as first rows are strings)\n",
    "energy_output_value = pd.to_numeric(energy_output.iloc[:,0], errors='coerce').sum()"
   ]
  },
  {
   "cell_type": "code",
   "execution_count": 351,
   "id": "18ccb250-1289-4be1-9487-1cbf98597a86",
   "metadata": {},
   "outputs": [
    {
     "name": "stdout",
     "output_type": "stream",
     "text": [
      "288656108.2073321 1921371.8921226687 176888.92799999923\n"
     ]
    }
   ],
   "source": [
    "#calculation of the present value factor\n",
    "#pcf_value = present_value_factor(time_horizon, wacc)\n",
    "pcf_value = 9.818147\n",
    "#annual_costs_with_PV = 6659285.68590276\n",
    "LCOE = (total_investment + (annual_costs * pcf_value)) / (energy_output_value * pcf_value)\n",
    "LCOE_PV = (total_investment + (annual_costs_with_PV * pcf_value)) / (energy_output_value * pcf_value)\n",
    "print(total_investment, annual_costs_with_PV, energy_output_value)"
   ]
  },
  {
   "cell_type": "code",
   "execution_count": 352,
   "id": "eda9ebff-1e9e-4035-b97d-575969b6c590",
   "metadata": {},
   "outputs": [],
   "source": [
    "#create a pandas data frame with all LCOE information\n",
    "\n",
    "LCOE_GJ = LCOE/3.6\n",
    "LCOE_t = LCOE_GJ*19.9\n",
    "\n",
    "LCOE_GJ_PV = LCOE_PV/3.6\n",
    "LCOE_PV_t = LCOE_GJ_PV*19.9\n",
    "\n",
    "energy_output_value_t = (energy_output_value * 3.6) / 19.9\n",
    "\n",
    "\n",
    "# Create a dictionary with the parameters\n",
    "data_LCOE = {\n",
    "    'LCOE [Euro/MWh]': LCOE,\n",
    "    'LCOE [Euro/t]': LCOE_t,\n",
    "    'total_investment': total_investment,\n",
    "    'annual_costs': annual_costs,\n",
    "    'energy_production [MWh]': energy_output_value,\n",
    "    'energy_production [t]': energy_output_value_t,\n",
    "    'pcf_value': pcf_value,\n",
    "    'run_name': run_name\n",
    "}\n",
    "\n",
    "data_LCOE_PV = {\n",
    "    'LCOE [Euro/MWh]': LCOE_PV,\n",
    "    'LCOE [Euro/t]': LCOE_PV_t,\n",
    "    'total_investment': total_investment,\n",
    "    'annual_costs': annual_costs_with_PV,\n",
    "    'energy_production [MWh]': energy_output_value,\n",
    "    'energy_production [t]': energy_output_value_t,\n",
    "    'pcf_value': pcf_value,\n",
    "    'run_name': run_name + '_PV'\n",
    "}\n",
    "\n",
    "# Convert the dictionary to a DataFrame and set the index to the run name\n",
    "df_LCOE_information = pd.DataFrame([data_LCOE])\n",
    "df_LCOE_information.set_index('run_name', inplace=True)\n",
    "\n",
    "df_LCOE_PV_information = pd.DataFrame([data_LCOE_PV])\n",
    "df_LCOE_PV_information.set_index('run_name', inplace=True)\n",
    "\n",
    "df_LCOE = pd.concat([df_LCOE_information, df_LCOE_PV_information])"
   ]
  },
  {
   "cell_type": "markdown",
   "id": "660b5121-6795-4666-b7d7-e61c1f685a26",
   "metadata": {},
   "source": [
    "### Carbon price calculation"
   ]
  },
  {
   "cell_type": "code",
   "execution_count": 353,
   "id": "ad0a5935-faf1-4d1e-bef4-285565043cc9",
   "metadata": {},
   "outputs": [],
   "source": [
    "# Determine the year of calculations. If the simulated year is not between 2019 and 2024, 2019 is used for calculations \n",
    "# as this year's energy data was not uncommonly affected by pandemic or political events \n",
    "if starting_year >=2019 and starting_year<=2024: \n",
    "    year = starting_year\n",
    "else:\n",
    "    year = 2019\n",
    "\n",
    "## Determine the used fuel and extract corresponding data\n",
    "fuel = data_from_inputs.split('_')[0]\n",
    "\n",
    "if fuel== 'methanol':\n",
    "    # fossil based data\n",
    "    energy_density = 19.7*10**9                               # J/t  (source: https://ebookcentral.proquest.com/lib/kbhnhh-ebooks/detail.action?docID=5116604)   \n",
    "    co2_indstr_high = 2.863                                   # kg*CO2/kg*MeOH   (source: https://www.sciencedirect.com/science/article/pii/S0360319922002415)\n",
    "    co2_indstr_low = 2.05                                     # kg*CO2/kg*MeOH   (source: https://www.methanol.org/wp-content/uploads/2022/01/CARBON-FOOTPRINT-OF-METHANOL-PAPER_1-31-22.pdf)\n",
    "    co2_indstr_perJ = 103 * 10**(-9)                          # kg*CO2/J  (source: https://www.methanol.org/wp-content/uploads/2022/01/CARBON-FOOTPRINT-OF-METHANOL-PAPER_1-31-22.pdf)\n",
    "\n",
    "    # costs ([$/t]) of indutrial equivalent for years 2019 to 2024 in dictionary\n",
    "    costs_list = [370,205,395,399,321.5,374]                  # $/t (source: https://shipandbunker.com/prices/emea/nwe/nl-rtm-rotterdam#MEOH)\n",
    "    indstr_costs = dict(zip(list(range(2019,2025)), costs_list))"
   ]
  },
  {
   "cell_type": "code",
   "execution_count": 354,
   "id": "594ebc49-240e-411a-ae84-a4c26e3334bd",
   "metadata": {},
   "outputs": [],
   "source": [
    "## Fuel independent data \n",
    "\n",
    "# Average currency exhange rates([€/$]) for years 2019 to 2024 in dictionary\n",
    "exchange_list =  [0.8932, 0.8602, 0.8945, 0.9371, 0.9248, 0.9239] # €/$    (source: https://www.ecb.europa.eu/stats/policy_and_exchange_rates/euro_reference_exchange_rates/html/eurofxref-graph-usd.en.html)\n",
    "exchange_rates = dict(zip(list(range(2019,2025)), exchange_list))\n",
    "\n",
    "# European allowances 2019-2024, 2050\n",
    "EUA_list = [24.723125, 24.38660287, 54.15156951, 80.18404545, 83.59650224, 64.75701] # €/(t*CO2-eq)  (source: https://icapcarbonaction.com/en/ets-prices)\n",
    "avg_EUA = dict(zip(list(range(2019,2025)), EUA_list))\n",
    "\n",
    "# Average Emissions of grid power 2019-2024 (!! Change value of 2024!!)\n",
    "electr_emissions_list = [372/(10**6), 478.5/(10**6), 411.5/(10**6), 432/(10**6), 499.8/(10**6), 450/(10**6)] # kg Co2/(Wh electricity)  (source: https://energinet.dk/media/1duf3x0o/19_07249-24-generel-eldeklaration-historik-10536640_5986882_0.xlsx)\n",
    "avg_electr_emissions = dict(zip(list(range(2019,2025)), electr_emissions_list))\n",
    "\n",
    "# Yearly demand\n",
    "demand_yearly_t = energy_output_value_t\n"
   ]
  },
  {
   "cell_type": "code",
   "execution_count": 355,
   "id": "83518fa3-f7da-4f51-8391-b853a61a19c0",
   "metadata": {},
   "outputs": [
    {
     "name": "stdout",
     "output_type": "stream",
     "text": [
      "978.8008874390077\n"
     ]
    }
   ],
   "source": [
    "## Result data of simulations\n",
    "# Determine produced PV power and sold and bought grid electricity\n",
    "Production_PV_df = df_output.filter(like='solar_plant_to_node_power')\n",
    "Production_PV = sum(Production_PV_df.iloc[4:, 0].tolist())\n",
    "\n",
    "El_from_grid_df = df_output.filter(like='wholesale_to_node_power') \n",
    "El_from_grid = sum(El_from_grid_df.iloc[4:, 0].tolist())\n",
    "El_to_grid_df = df_output.filter(like='wholesale_from_node_power') \n",
    "El_to_grid = sum(El_to_grid_df.iloc[4:, 0].tolist())\n",
    "costs_hub = LCOE_PV_t\n",
    "print(costs_hub)"
   ]
  },
  {
   "cell_type": "code",
   "execution_count": 356,
   "id": "1f7e98b8-c52f-4eae-9160-e7483a27a1ce",
   "metadata": {},
   "outputs": [],
   "source": [
    "## Calculations \n",
    "\n",
    "# Electricity used for production, PV share and used grid electricity in production \n",
    "El_used = El_from_grid+Production_PV- El_to_grid                # MWh \n",
    "PV_used_rel = (Production_PV-El_to_grid)/El_used                  # % \n",
    "el_demand_grid = El_from_grid*(1-PV_used_rel)                          # MWh\n",
    "\n",
    "# Electricity taken from the grid \n",
    "grid_electricity = el_demand_grid*10**6                                    # Wh\n",
    "\n",
    "# Emissions per year \n",
    "emissions_hub = grid_electricity*avg_electr_emissions[year]/1000              # t Co2\n",
    "emissions_indstr_low = demand_yearly_t*co2_indstr_low                                # t Co2\n",
    "emissions_indstr_high = demand_yearly_t*co2_indstr_high                              # t Co2\n",
    "\n",
    "# Emissions per tonne of fuel\n",
    "emissions_per_tonne = emissions_hub/demand_yearly_t                         # t*Co2/t*MeOH\n",
    "\n",
    "# Costs for yearly demand of fuel (produced in hub vs. produced industrial)\n",
    "ym_costs = costs_hub*demand_yearly_t                                        # €\n",
    "ym_costs_indstr = indstr_costs[year]*exchange_rates[year]*demand_yearly_t     # €\n",
    "\n",
    "# Calculations of neccessary carbon prices   (extra costs per saved tonne of co2)\n",
    "\n",
    "# Comparison with lower co2 emissions of industrial methanol \n",
    "CPl = (ym_costs-ym_costs_indstr)/(emissions_indstr_low-emissions_hub)   # €/t*Co2\n",
    "\n",
    "# Comparison with higher co2 emissions of industrial methanol \n",
    "CPh = (ym_costs-ym_costs_indstr)/(emissions_indstr_high-emissions_hub)   # €/t*Co2\n",
    "\n",
    "# Comparison in case of purely green E-Methanol with lower co2 industrial methanol\n",
    "CPl_green = (ym_costs-ym_costs_indstr)/(emissions_indstr_low)   # €/t*Co2\n",
    "\n",
    "# Comparison in case of purely green E-Methanol with higher co2 industrial methanol\n",
    "CPh_green = (ym_costs-ym_costs_indstr)/(emissions_indstr_high)   # €/t*Co2\n"
   ]
  },
  {
   "cell_type": "code",
   "execution_count": 357,
   "id": "92e38f3d-2778-4f63-9ff0-4822dde04324",
   "metadata": {},
   "outputs": [
    {
     "name": "stdout",
     "output_type": "stream",
     "text": [
      "Carbon price compared to industrial fuel with lower emission: 2463.386560846665\n",
      "Carbon price compared to industrial fuel with higher emission: 704.6819197805429\n",
      "Carbon price compared to industrial fuel with lower emission (green case): 391.44384753122335\n",
      "Carbon price compared to industrial fuel with higher emission (green_case): 280.28637353790003\n",
      "CO2-equivalents: 1.724245244253016 2.05 2.863\n"
     ]
    }
   ],
   "source": [
    "print(\"Carbon price compared to industrial fuel with lower emission:\", CPl)\n",
    "print(\"Carbon price compared to industrial fuel with higher emission:\", CPh)\n",
    "print(\"Carbon price compared to industrial fuel with lower emission (green case):\", CPl_green)\n",
    "print(\"Carbon price compared to industrial fuel with higher emission (green_case):\", CPh_green)\n",
    "\n",
    "\n",
    "print(\"CO2-equivalents:\",emissions_per_tonne,co2_indstr_low,co2_indstr_high)"
   ]
  },
  {
   "cell_type": "markdown",
   "id": "5ee1b225",
   "metadata": {},
   "source": [
    "### Creating one combined excel and export"
   ]
  },
  {
   "cell_type": "code",
   "execution_count": 2,
   "id": "92a38069",
   "metadata": {},
   "outputs": [
    {
     "ename": "NameError",
     "evalue": "name 'pd' is not defined",
     "output_type": "error",
     "traceback": [
      "\u001b[1;31m---------------------------------------------------------------------------\u001b[0m",
      "\u001b[1;31mNameError\u001b[0m                                 Traceback (most recent call last)",
      "Cell \u001b[1;32mIn[2], line 1\u001b[0m\n\u001b[1;32m----> 1\u001b[0m \u001b[38;5;28;01mwith\u001b[39;00m \u001b[43mpd\u001b[49m\u001b[38;5;241m.\u001b[39mExcelWriter(full_path_export_output_data) \u001b[38;5;28;01mas\u001b[39;00m writer:\n\u001b[0;32m      2\u001b[0m     df_output\u001b[38;5;241m.\u001b[39mto_excel(writer, sheet_name\u001b[38;5;241m=\u001b[39m\u001b[38;5;124m'\u001b[39m\u001b[38;5;124mflows_node_states\u001b[39m\u001b[38;5;124m'\u001b[39m)\n\u001b[0;32m      3\u001b[0m     df_system_cost_output\u001b[38;5;241m.\u001b[39mto_excel(writer, sheet_name\u001b[38;5;241m=\u001b[39m\u001b[38;5;124m'\u001b[39m\u001b[38;5;124msystem_costs\u001b[39m\u001b[38;5;124m'\u001b[39m)\n",
      "\u001b[1;31mNameError\u001b[0m: name 'pd' is not defined"
     ]
    }
   ],
   "source": [
    "with pd.ExcelWriter(full_path_export_output_data) as writer:\n",
    "    df_output.to_excel(writer, sheet_name='flows_node_states')\n",
    "    df_system_cost_output.to_excel(writer, sheet_name='system_costs')\n",
    "    df_LCOE.to_excel(writer, sheet_name='LCOE')"
   ]
  },
  {
   "cell_type": "code",
   "execution_count": 23,
   "id": "79d24bde-6276-4e5a-baa9-a1d01330adc2",
   "metadata": {},
   "outputs": [
    {
     "data": {
      "text/html": [
       "<div>\n",
       "<style scoped>\n",
       "    .dataframe tbody tr th:only-of-type {\n",
       "        vertical-align: middle;\n",
       "    }\n",
       "\n",
       "    .dataframe tbody tr th {\n",
       "        vertical-align: top;\n",
       "    }\n",
       "\n",
       "    .dataframe thead th {\n",
       "        text-align: right;\n",
       "    }\n",
       "</style>\n",
       "<table border=\"1\" class=\"dataframe\">\n",
       "  <thead>\n",
       "    <tr style=\"text-align: right;\">\n",
       "      <th></th>\n",
       "      <th>LCOE [Euro/MWh]</th>\n",
       "      <th>LCOE [Euro/t]</th>\n",
       "      <th>total_investment</th>\n",
       "      <th>annual_costs</th>\n",
       "      <th>energy_production [MWh]</th>\n",
       "      <th>energy_production [t]</th>\n",
       "      <th>pcf_value</th>\n",
       "    </tr>\n",
       "    <tr>\n",
       "      <th>run_name</th>\n",
       "      <th></th>\n",
       "      <th></th>\n",
       "      <th></th>\n",
       "      <th></th>\n",
       "      <th></th>\n",
       "      <th></th>\n",
       "      <th></th>\n",
       "    </tr>\n",
       "  </thead>\n",
       "  <tbody>\n",
       "    <tr>\n",
       "      <th>base_case</th>\n",
       "      <td>1180.986743</td>\n",
       "      <td>6528.232275</td>\n",
       "      <td>2.882981e+08</td>\n",
       "      <td>3.055996e+06</td>\n",
       "      <td>29481.488</td>\n",
       "      <td>5333.334513</td>\n",
       "      <td>9.07704</td>\n",
       "    </tr>\n",
       "    <tr>\n",
       "      <th>base_case_PV</th>\n",
       "      <td>1157.337810</td>\n",
       "      <td>6397.506230</td>\n",
       "      <td>2.882981e+08</td>\n",
       "      <td>2.358790e+06</td>\n",
       "      <td>29481.488</td>\n",
       "      <td>5333.334513</td>\n",
       "      <td>9.07704</td>\n",
       "    </tr>\n",
       "  </tbody>\n",
       "</table>\n",
       "</div>"
      ],
      "text/plain": [
       "              LCOE [Euro/MWh]  LCOE [Euro/t]  total_investment  annual_costs  \\\n",
       "run_name                                                                       \n",
       "base_case         1180.986743    6528.232275      2.882981e+08  3.055996e+06   \n",
       "base_case_PV      1157.337810    6397.506230      2.882981e+08  2.358790e+06   \n",
       "\n",
       "              energy_production [MWh]  energy_production [t]  pcf_value  \n",
       "run_name                                                                 \n",
       "base_case                   29481.488            5333.334513    9.07704  \n",
       "base_case_PV                29481.488            5333.334513    9.07704  "
      ]
     },
     "execution_count": 23,
     "metadata": {},
     "output_type": "execute_result"
    }
   ],
   "source": [
    "df_LCOE"
   ]
  },
  {
   "cell_type": "markdown",
   "id": "cfe6ce29-074d-4e58-bd95-1d7ed51bf99e",
   "metadata": {},
   "source": [
    "### Finish and Exit the process:\n",
    "\n",
    "- after executing the cell you can go back to SpineToolbox\n",
    "- ensure that the data connection refers to the correct file"
   ]
  },
  {
   "cell_type": "code",
   "execution_count": 24,
   "id": "2e173761-6b77-4e50-91b1-7c05df015cec",
   "metadata": {},
   "outputs": [],
   "source": [
    "avada_kedavra()"
   ]
  }
 ],
 "metadata": {
  "kernelspec": {
   "display_name": "Python 3 (ipykernel)",
   "language": "python",
   "name": "python3"
  },
  "language_info": {
   "codemirror_mode": {
    "name": "ipython",
    "version": 3
   },
   "file_extension": ".py",
   "mimetype": "text/x-python",
   "name": "python",
   "nbconvert_exporter": "python",
   "pygments_lexer": "ipython3",
   "version": "3.9.19"
  }
 },
 "nbformat": 4,
 "nbformat_minor": 5
}
