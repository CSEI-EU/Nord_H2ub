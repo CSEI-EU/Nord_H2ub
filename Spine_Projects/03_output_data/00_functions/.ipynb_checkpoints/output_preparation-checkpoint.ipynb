{
 "cells": [
  {
   "cell_type": "markdown",
   "id": "1c3b89db",
   "metadata": {},
   "source": [
    "# Output Preparation for the Nord_H2ub Spine Model"
   ]
  },
  {
   "cell_type": "markdown",
   "id": "98756f88",
   "metadata": {},
   "source": [
    "This jupyter notebook contains all routines for the preparation of the input data sources into a input data file for the model in Spine.\n",
    "\n",
    "Authors: Johannes Giehl (jfg.eco@cbs.dk), Dana J. Hentschel (djh.eco@cbs.dk), Lucia Ciprian (luc.eco@cbs.dk)"
   ]
  },
  {
   "cell_type": "markdown",
   "id": "ddde8c69",
   "metadata": {},
   "source": [
    "## General settings"
   ]
  },
  {
   "cell_type": "markdown",
   "id": "230fb0d6",
   "metadata": {},
   "source": [
    "### Packages:"
   ]
  },
  {
   "cell_type": "code",
   "execution_count": 1,
   "id": "92e386b9",
   "metadata": {},
   "outputs": [],
   "source": [
    "import pandas as pd\n",
    "import os\n",
    "import openpyxl\n",
    "import numpy as np\n",
    "import re\n",
    "import sys\n",
    "from nord_h2ub_hexhex_output import *"
   ]
  },
  {
   "cell_type": "markdown",
   "id": "24bfae1e-39ac-470c-bdc0-bfb255f2780f",
   "metadata": {},
   "source": [
    "### Check whether SpineOpt has run correctly\n",
    "\n",
    "SpineToolbox has per default a certain time limit on each optimization window. If it reaches that time limit, a suboptimal solution is reported. The following code checks whether this time limit is reached in at least one optimization step and kills the console if necessary."
   ]
  },
  {
   "cell_type": "code",
   "execution_count": 2,
   "id": "af15b1e6-46f6-4954-9c58-6fdcecfa6796",
   "metadata": {},
   "outputs": [
    {
     "name": "stdout",
     "output_type": "stream",
     "text": [
      "C:\\Users\\luc.eco\\OneDrive - CBS - Copenhagen Business School\\Documents\\GitHub\\Nord_H2ub\n"
     ]
    }
   ],
   "source": [
    "directory = get_base_path()\n",
    "print(directory)"
   ]
  },
  {
   "cell_type": "code",
   "execution_count": 3,
   "id": "0feeb73e-c4c3-48fa-adda-8d40c86ebb49",
   "metadata": {},
   "outputs": [],
   "source": [
    "# Get spineopt logs\n",
    "parent_folder_time = os.path.join(directory, \"Spine_Projects\", \"02_basic_energy_model\", \".spinetoolbox\", \"items\", \"run_spineopt\", \"logs\")\n",
    "\n",
    "if not os.path.exists(parent_folder_time):\n",
    "    print(f\"The directory '{parent_folder_time}' does not exist.\")\n",
    "\n",
    "# Filter for log files in the folder\n",
    "log_files = [l for l in os.listdir(parent_folder_time) if l.endswith('.log') and os.path.isfile(os.path.join(parent_folder_time, l))]\n",
    "\n",
    "if not log_files:\n",
    "    print('\\033[1m' + '\\033[91m' + 'No log files found, check your SpineOpt settings. Make sure you enable \"Log process output to a file\" in SpineToolbox.')\n",
    "    sys.exit(1)\n",
    "else:\n",
    "    latest_log = max(log_files, key=lambda x: os.path.getmtime(os.path.join(parent_folder_time, x)))\n",
    "    latest_log_path = os.path.join(parent_folder_time, latest_log)\n",
    "    \n",
    "    with open(latest_log_path, 'r') as file:\n",
    "        numbers = []\n",
    "        for line in file:\n",
    "            if \"Timing\" in line:\n",
    "                match = re.search(r\"Timing\\s+([\\d.]+)\", line)\n",
    "                if match:\n",
    "                    number = float(match.group(1))\n",
    "                    if number > 3000:\n",
    "                        print('\\033[1m' + '\\033[91m' + 'Warning, at least one of the time windows has reached the maximum! Results are not reliable anymore.')\n",
    "                        sys.exit(1)"
   ]
  },
  {
   "cell_type": "markdown",
   "id": "86f45aa4-1dbc-483f-a682-bbb73b0bf6aa",
   "metadata": {},
   "source": [
    "### Parameters"
   ]
  },
  {
   "cell_type": "code",
   "execution_count": 4,
   "id": "3e359b2e-26e6-42d1-872d-60ad48a0348c",
   "metadata": {},
   "outputs": [],
   "source": [
    "# Get current working directory:\n",
    "cwd = os.getcwd()\n",
    "\n",
    "# Adjust path to get parameters:\n",
    "parameter_path = os.path.join(os.path.dirname(os.path.dirname(cwd)), \"01_input_data\\\\00_functions\")\n",
    "with open(os.path.join(parameter_path, 'parameters.pkl'), 'rb') as file:\n",
    "    parameters = pickle.load(file)\n",
    "\n",
    "# Extract variables of interest\n",
    "run_name = f\"{latest_log[:15]}_{parameters['run_name']}\"\n",
    "time_horizon = parameters['lcoe_years']\n",
    "wacc = parameters['wacc']\n",
    "starting_year = parameters['starting_year']\n",
    "simulation_year = parameters['year']  # Year of used electricity prices \n",
    "fuel = parameters['product']"
   ]
  },
  {
   "cell_type": "code",
   "execution_count": 5,
   "id": "0c5beb7d-adfb-48e5-b144-2042515925d7",
   "metadata": {},
   "outputs": [],
   "source": [
    "#FOR TESTING, value in .pkl file is not what we used in our paper\n",
    "#delete after testing\n",
    "time_horizon = 20\n",
    "#FOR TESTING, DELETE AFTER\n",
    "#run_name = \"TEST\""
   ]
  },
  {
   "cell_type": "code",
   "execution_count": 6,
   "id": "927cbddd-f9a5-4746-b0ea-cf9ffdafbea6",
   "metadata": {},
   "outputs": [],
   "source": [
    "#define if the model should use the last spine optimization results or a specific file\n",
    "last_model_run = False   # Set to False if specific file is needed \n",
    "\n",
    "#set names of specific files if needed\n",
    "#run_name = 'base_case'\n",
    "specific_file_name = 'Output_exported_' + run_name +'.xlsx'\n",
    "\n",
    "#output files of this script\n",
    "#file names to store the prepared output\n",
    "output_prepared_export = 'Output_exported_'+ run_name +'.xlsx'"
   ]
  },
  {
   "cell_type": "markdown",
   "id": "65afa152",
   "metadata": {},
   "source": [
    "### File paths:"
   ]
  },
  {
   "cell_type": "code",
   "execution_count": 7,
   "id": "619a209a",
   "metadata": {},
   "outputs": [],
   "source": [
    "#get path of latest spine results\n",
    "#parent folder\n",
    "parent_folder_results = os.path.join(directory, \"Spine_Projects\", \"02_basic_energy_model\", \".spinetoolbox\", \"items\", \"exporter\", \"output\")\n",
    "\n",
    "folders = [f for f in os.listdir(parent_folder_results) if os.path.isdir(os.path.join(parent_folder_results, f))]\n",
    "if not folders:\n",
    "    print(\"No folders found.\")\n",
    "else:\n",
    "    latest_folder = max(folders, key=lambda x: os.path.getmtime(os.path.join(parent_folder_results, x)))\n",
    "    #latest_folder = \"run@2024-10-14T13.04.57\"\n",
    "    latest_folder_path = os.path.join(parent_folder_results, latest_folder)\n",
    "latest_folder_path = latest_folder_path.replace('\\\\', '/')\n",
    "folder_path_results = latest_folder_path\n",
    "folder_path_results += '/'\n",
    "\n",
    "#get the information of the prepared input data that is used for the spine optimization\n",
    "prepared_input_file_path = os.path.join(directory, \"Spine_Projects\", \"01_input_data\", \"02_input_prepared\")\n",
    "\n",
    "#path to files from specific runs\n",
    "path_specific_runs = '02_runs_EURO/01_output_raw/'\n",
    "#prepared output data export to\n",
    "output_file_path = os.path.join(directory, \"Spine_Projects\", \"03_output_data\", \"01_basic_energy_model_outputs\")"
   ]
  },
  {
   "cell_type": "code",
   "execution_count": 8,
   "id": "bf67eba6",
   "metadata": {},
   "outputs": [],
   "source": [
    "#Input files for this script\n",
    "\n",
    "#file name export from SpineToolbox\n",
    "output_exported_file = 'Output_exported@Exporter.xlsx'\n",
    "#input file used for the optimization\n",
    "data_from_inputs = 'methanol_Input_prepared.xlsx'\n",
    "#this way of the output data preparation must be changed\n",
    "#the information is manually added to the input xlsx and does not exist in the automated input generation\n",
    "data_from_inputs_temporary = 'methanol_Input_prepared_for_output_temporary.xlsx'"
   ]
  },
  {
   "cell_type": "code",
   "execution_count": 9,
   "id": "961dac36-bf42-4f1e-8356-6066259ef419",
   "metadata": {},
   "outputs": [],
   "source": [
    "## for testing, comparison with paper results DELETE AFTER TESTING \n",
    "prepared_input_file_path = os.path.join(directory, \"Spine_Projects\", \"01_input_data\", \"02_input_prepared\", \"paper_energy_2024_inputs\")\n",
    "data_from_inputs = 'paper_energy_2024_input_base_10op.xlsx'\n",
    "path_specific_runs =os.path.join(directory, \"Spine_Projects\", \"03_output_data\", \"03_runs_paper_energy_2024\",\"01_output_raw\")\n",
    "specific_file_name = 'Output_exported_paper_energy_2024_base_10op.xlsx'"
   ]
  },
  {
   "cell_type": "code",
   "execution_count": 10,
   "id": "836c4970-3077-40a1-9856-6806c5d04d6b",
   "metadata": {},
   "outputs": [],
   "source": [
    "#combine input path and files\n",
    "\n",
    "#to input files\n",
    "full_path_data_from_inputs = os.path.join(prepared_input_file_path, data_from_inputs)\n",
    "\n",
    "#to specific files\n",
    "full_path_specific_files = os.path.join(path_specific_runs, specific_file_name)\n",
    "#for temporary appraoch\n",
    "full_path_data_from_inputs_temporary  = os.path.join(prepared_input_file_path, data_from_inputs_temporary)\n",
    "\n",
    "#for output_data\n",
    "full_path_export_output_data = os.path.join(output_file_path, output_prepared_export)"
   ]
  },
  {
   "cell_type": "markdown",
   "id": "fb235bf6",
   "metadata": {},
   "source": [
    "## Data preparation"
   ]
  },
  {
   "cell_type": "markdown",
   "id": "91613263",
   "metadata": {},
   "source": [
    "### Data Import"
   ]
  },
  {
   "cell_type": "code",
   "execution_count": 11,
   "id": "236dcad8",
   "metadata": {},
   "outputs": [
    {
     "name": "stdout",
     "output_type": "stream",
     "text": [
      "Done\n"
     ]
    }
   ],
   "source": [
    "if last_model_run == True:\n",
    "    df_output_raw = pd.read_excel(os.path.join(folder_path_results + output_exported_file), sheet_name=-1)\n",
    "else:\n",
    "    df_output_raw = pd.read_excel(full_path_specific_files)\n",
    "\n",
    "df_PV_prices = pd.read_excel(full_path_data_from_inputs, sheet_name='Energy_prices')\n",
    "def_params = df_PV_prices = pd.read_excel(full_path_data_from_inputs, sheet_name='Definition_parameters')\n",
    "con_inv_params = pd.read_excel(full_path_data_from_inputs, sheet_name=\"Connection_Inv_Parameters\")\n",
    "unit_inv_params = pd.read_excel(full_path_data_from_inputs, sheet_name=\"Unit_Inv_Parameters\")\n",
    "stor_inv_params = pd.read_excel(full_path_data_from_inputs, sheet_name=\"Storage_Inv_Parameters\")\n",
    "nodes_params = pd.read_excel(full_path_data_from_inputs, sheet_name=\"Nodes\")\n",
    "model_params = pd.read_excel(full_path_data_from_inputs, sheet_name=\"Model\")\n",
    "capacity_params = pd.read_excel(full_path_data_from_inputs, sheet_name=\"Object__to_from_node\")\n",
    "print(\"Done\")"
   ]
  },
  {
   "cell_type": "markdown",
   "id": "8cd08ef9-da8a-4ca6-9b92-1fd94803b09c",
   "metadata": {},
   "source": [
    "### Data Frame Preparation"
   ]
  },
  {
   "cell_type": "code",
   "execution_count": 12,
   "id": "ccfe8c51-e998-4097-8581-de729189a451",
   "metadata": {},
   "outputs": [],
   "source": [
    "#create a copy of the original output DataFrame\n",
    "df_output = df_output_raw.copy()\n",
    "\n",
    "# Replace NaN values with empty strings in the first three rows\n",
    "df_output.iloc[:3] = df_output.iloc[:3].fillna('')\n",
    "\n",
    "# Combine the old header with the strings from the first three rows for each column\n",
    "new_headers = df_output.columns + '_' + df_output.iloc[0] + '_' + df_output.iloc[1] + '_' + df_output.iloc[2]\n",
    "old_headers = df_output.columns\n",
    "\n",
    "# Set the new headers\n",
    "df_output.columns = new_headers\n",
    "\n",
    "# Drop the first three rows\n",
    "#might be helpful bot not implemented now\n",
    "#df_output = df_output.drop([0, 1, 2])\n",
    "\n",
    "# Reset the index\n",
    "df_output.reset_index(drop=True, inplace=True)\n",
    "# Rename the first column to \"timeseries\"\n",
    "df_output.columns.values[0] = \"timeseries\""
   ]
  },
  {
   "cell_type": "markdown",
   "id": "97c2942e-e16d-4fac-9aa7-d9a07739a075",
   "metadata": {},
   "source": [
    "### Data Adjustments"
   ]
  },
  {
   "cell_type": "code",
   "execution_count": 13,
   "id": "befc6f2a",
   "metadata": {},
   "outputs": [],
   "source": [
    "#calculate revenues from PV sales on the wholesale market\n",
    "selected_column_name = None\n",
    "for column_index in range(len(df_output.columns)):\n",
    "    if (df_output.iloc[0, column_index] == 'pl_wholesale' and \n",
    "        df_output.iloc[1, column_index] == 'to_node' and df_output.iloc[2, column_index] == 'power_wholesale'):         \n",
    "        selected_column_name = df_output.columns[column_index]\n",
    "        break\n",
    "# If connected to grid PV power is sold, else revenue is 0\n",
    "if 'power_wholesale_out' in df_PV_prices.columns:                 #To adjust\n",
    "    if selected_column_name:\n",
    "        df_output['Revenue_from_PV'] = df_output[selected_column_name].iloc[3:] * df_PV_prices['power_wholesale_out'].iloc[4:]          \n",
    "    else:\n",
    "        print(\"Column with specified headers not found in output.\")\n",
    "\n",
    "else: \n",
    "    df_output['Revenue_from_PV'] = 0 \n"
   ]
  },
  {
   "cell_type": "code",
   "execution_count": 14,
   "id": "3ad80575-a2ab-427b-8370-196d6989a345",
   "metadata": {},
   "outputs": [],
   "source": [
    "# Subtract slack penalty if any (Penalty costs assumed to be equal for all nodes)\n",
    "# Calculate the slacks\n",
    "node_slack_neg = df_output.filter(like='node_slack_neg')\n",
    "node_slack_pos = df_output.filter(like='node_slack_pos')\n",
    "\n",
    "node_slack_neg_numeric = node_slack_neg.apply(pd.to_numeric, errors='coerce')\n",
    "node_slack_pos_numeric = node_slack_pos.apply(pd.to_numeric, errors='coerce')\n",
    "\n",
    "node_slack_neg_sum = node_slack_neg_numeric.sum().sum()\n",
    "node_slack_pos_sum = node_slack_pos_numeric.sum().sum()\n",
    "\n",
    "total_slack = node_slack_neg_sum + node_slack_pos_sum\n",
    "# node slack penalty\n",
    "slack_penalty = nodes_params['node_slack_penalty'][(nodes_params['node_slack_penalty'] != 0)&(nodes_params['node_slack_penalty'].notna())].iloc[0]\n",
    "\n",
    "# total penalty that had to be paid \n",
    "total_slack_penalty = total_slack*slack_penalty"
   ]
  },
  {
   "cell_type": "code",
   "execution_count": 24,
   "id": "5054c581",
   "metadata": {},
   "outputs": [
    {
     "name": "stderr",
     "output_type": "stream",
     "text": [
      "C:\\Users\\luc.eco\\AppData\\Local\\Temp\\ipykernel_13664\\3165232250.py:5: SettingWithCopyWarning: \n",
      "A value is trying to be set on a copy of a slice from a DataFrame\n",
      "\n",
      "See the caveats in the documentation: https://pandas.pydata.org/pandas-docs/stable/user_guide/indexing.html#returning-a-view-versus-a-copy\n",
      "  objects_invested_df.iloc[4:] = objects_invested_df.iloc[4:].apply(pd.to_numeric, errors='coerce')\n"
     ]
    }
   ],
   "source": [
    "# Determining the fom cost of the RES if the optimization was run without investing in cost PV, OffW or OnW\n",
    "RES = [\"solar_plant\", \"wind_onshore\", \"wind_offshore\"]\n",
    "# Create dataframe of object_invested for each object (needed later as well)\n",
    "objects_invested_df = df_output.filter(like='_invested')\n",
    "objects_invested_df.iloc[4:] = objects_invested_df.iloc[4:].apply(pd.to_numeric, errors='coerce')\n",
    "\n",
    "\n",
    "RES_fom_costs = {}\n",
    "for col_name, col_data in objects_invested_df.items():\n",
    "    if col_data.iloc[0] in RES:\n",
    "        RES_invested_during = col_data[3:].loc[(col_data[3:] != 0) & (col_data[3:].notna())].sum()\n",
    "        if RES_invested_during==0:\n",
    "            RES_max_cap = capacity_params.loc[capacity_params.loc[:,\"Object_name\"]==col_data.iloc[0], \"Value\"].values[0]\n",
    "            RES_installed_cap = RES_invested*RES_max_cap\n",
    "            RES_invested_before = unit_inv_params.loc[unit_inv_params.iloc[:, 0] == col_data.iloc[0],\"initial_units_invested_available\"].values[0]\n",
    "            fom_per_MW = def_params.loc[def_params.iloc[:, 0] == col_data.iloc[0], \"Value\"].values[0]       \n",
    "            RES_fom_costs[col_data.iloc[0]] = fom_per_MW * RES_installed_cap\n",
    "        else:\n",
    "            RES_fom_costs[col_data.iloc[0]] = 0 \n",
    "    extra_fom_costs = sum(RES_fom_costs.values())\n",
    "\n",
    "    \n",
    "#get total cost of the system\n",
    "total_costs = df_output.filter(like='total_cost')\n",
    "total_costs = total_costs.apply(pd.to_numeric, errors='coerce')\n",
    "total_costs = total_costs.sum().sum()\n",
    "total_costs += total_slack_penalty\n",
    "total_costs += extra_fom_costs\n",
    "\n",
    "#get total revenue from PV power sale (times -1 is relevant as the input is structured that negative prices for exports reduce total cost). \n",
    "total_PV_revenue = df_output['Revenue_from_PV'].sum()*(-1)\n",
    "#calculate cost without PV revenue\n",
    "adjusted_costs = total_costs + total_PV_revenue \n",
    "                            \n",
    "#create separate DataFrame for total and adjusted cost\n",
    "df_system_cost_output = pd.DataFrame({\n",
    "    'Total_cost': [total_costs],\n",
    "    'PV_revenue': [total_PV_revenue],\n",
    "    'Total_adjusted_cost': [adjusted_costs]\n",
    "})"
   ]
  },
  {
   "cell_type": "code",
   "execution_count": 207,
   "id": "0eb21b73-892f-4a38-88e7-fcc0855554f2",
   "metadata": {},
   "outputs": [],
   "source": [
    "# Identify columns to drop\n",
    "columns_to_drop_1 = df_output.filter(like='total_costs').columns\n",
    "# Drop the identified columns if any are found\n",
    "if not columns_to_drop_1.empty:\n",
    "    df_output.drop(columns=columns_to_drop_1, inplace=True)\n",
    "\n",
    "#test this and implement an if check\n",
    "columns_to_drop_2 = df_output.filter(like='unit_flow_op').columns\n",
    "# Drop the identified columns if any are found\n",
    "if not columns_to_drop_2.empty:\n",
    "    df_output.drop(columns=columns_to_drop_2, inplace=True)"
   ]
  },
  {
   "cell_type": "markdown",
   "id": "93fa6f46-03f4-4f47-b857-9cd184ed6f72",
   "metadata": {},
   "source": [
    "## Calculate LCOE"
   ]
  },
  {
   "cell_type": "markdown",
   "id": "0f84ba6b-2dba-4b27-8042-1b3f6a35274e",
   "metadata": {},
   "source": [
    "### Calculate Investment Cost"
   ]
  },
  {
   "cell_type": "code",
   "execution_count": 208,
   "id": "9605ad7b-3cec-48b4-99be-a44db712dbcd",
   "metadata": {},
   "outputs": [
    {
     "name": "stderr",
     "output_type": "stream",
     "text": [
      "C:\\Users\\luc.eco\\AppData\\Local\\Temp\\ipykernel_28904\\776918219.py:17: SettingWithCopyWarning: \n",
      "A value is trying to be set on a copy of a slice from a DataFrame\n",
      "\n",
      "See the caveats in the documentation: https://pandas.pydata.org/pandas-docs/stable/user_guide/indexing.html#returning-a-view-versus-a-copy\n",
      "  objects_invested_df.iloc[4:] = objects_invested_df.iloc[4:].apply(pd.to_numeric, errors='coerce')\n"
     ]
    }
   ],
   "source": [
    "dict_investments = {}\n",
    "connection_costs = 0\n",
    "unit_costs = 0\n",
    "storage_costs = 0\n",
    "## Check number of slices of roll forward\n",
    "for line_number, line in model_params.iterrows():\n",
    "    if line[\"Parameter\"] == \"roll_forward\":\n",
    "        number_str = ''.join([char for char in line[\"Value\"] if char.isdigit()])\n",
    "        number = int(number_str)\n",
    "        roll_forward_slices = 8760//number\n",
    "        break\n",
    "    else:\n",
    "        roll_forward_slices = 1\n",
    "\n",
    "\n",
    "# Create dictionary with total number of object_invested for each object\n",
    "objects_invested_dict = {}\n",
    "for col_name, col_data in objects_invested_df.items():\n",
    "    objects_invested_dict[col_data.iloc[0]] = col_data[3:].loc[(col_data[3:] != 0) & (col_data[3:].notna())].sum()\n",
    "\n",
    "\n",
    "# Convert lifetime of '365D' for example to 365\n",
    "unit_inv_params[\"unit_investment_econ_lifetime\"] = unit_inv_params[\"unit_investment_econ_lifetime\"].astype(str).str.replace('D', '', regex=False).astype(float)\n",
    "con_inv_params[\"connection_investment_econ_lifetime\"] = con_inv_params[\"connection_investment_econ_lifetime\"].astype(str).str.replace('D', '', regex=False).astype(float)\n",
    "stor_inv_params[\"storage_investment_econ_lifetime\"] = stor_inv_params[\"storage_investment_econ_lifetime\"].astype(str).str.replace('D', '', regex=False).astype(float)\n",
    "\n",
    "\n",
    "# Adding investemnt costs of intially investested objects\n",
    "for row_number_con, row_con in con_inv_params.iterrows():\n",
    "    yearly_iv_cost = row_con[\"connection_investment_cost\"]* roll_forward_slices   # Investment costs for full capacity and one year\n",
    "    lifetime = row_con[\"connection_investment_econ_lifetime\"]/365                 # Lifetime of object in years\n",
    "    invested_available = row_con[\"initial_connections_invested_available\"]        # Number of objects initially available for investements \n",
    "    if row_con[\"Object_name\"] in objects_invested_dict:\n",
    "        invested_opt = objects_invested_dict[row_con[\"Object_name\"]]              # Number of objects invested in during optimization\n",
    "    else: \n",
    "        invested_opt = 0\n",
    "    invested_total = invested_available + invested_opt\n",
    "    connection_costs += (invested_total * yearly_iv_cost * lifetime)              # Total investment costs for connections\n",
    "    \n",
    "for row_number_unit, row_unit in unit_inv_params.iterrows():\n",
    "   \n",
    "    yearly_iv_cost = row_unit[\"unit_investment_cost\"]* roll_forward_slices\n",
    "    lifetime = row_unit[\"unit_investment_econ_lifetime\"]/365\n",
    "    invested_available = row_unit[\"initial_units_invested_available\"]\n",
    "    if row_unit[\"Object_name\"] in objects_invested_dict:\n",
    "        invested_opt = objects_invested_dict[row_unit[\"Object_name\"]]\n",
    "    else: \n",
    "        invested_opt = 0\n",
    "    invested_total = invested_available + invested_opt\n",
    "    unit_costs += (invested_total * yearly_iv_cost * lifetime)\n",
    "    \n",
    "for row_number_stor, row_stor in stor_inv_params.iterrows():\n",
    "    yearly_iv_cost = row_stor[\"storage_investment_cost\"]* roll_forward_slices\n",
    "    lifetime = row_stor[\"storage_investment_econ_lifetime\"]/365\n",
    "    invested_available = row_stor[\"initial_storages_invested\"]\n",
    "    if row_stor[\"Object_name\"] in objects_invested_dict:\n",
    "        invested_opt = objects_invested_dict[row_stor[\"Object_name\"]]\n",
    "    else: \n",
    "        invested_opt = 0\n",
    "    invested_total = invested_available + invested_opt\n",
    "    storage_costs += (invested_total * yearly_iv_cost * lifetime)\n",
    "    \n",
    "dict_investments[\"Connection_Investement_Costs\"]  = connection_costs\n",
    "dict_investments[\"Storage_Investement_Costs\"]  = storage_costs\n",
    "dict_investments[\"Unit_Investement_Costs\"]  = unit_costs\n",
    "\n",
    "\n",
    "total_investment = sum(dict_investments.values())"
   ]
  },
  {
   "cell_type": "markdown",
   "id": "61ad742f-b940-4a64-a004-914589933af4",
   "metadata": {},
   "source": [
    "### variable costs"
   ]
  },
  {
   "cell_type": "code",
   "execution_count": 209,
   "id": "88f19d29-6149-4c56-b54a-05b77f220e8b",
   "metadata": {},
   "outputs": [],
   "source": [
    "#get annual costs\n",
    "#annual_costs = df_system_cost_output.loc['total_costs_toy__', 'Total_adjusted_cost'] - total_slack\n",
    "annual_costs = adjusted_costs-total_slack\n",
    "#annual cost including PV revenue\n",
    "#annual_costs_with_PV = df_system_cost_output.loc['total_costs_toy__', 'Total_cost'] - total_slack\n",
    "annual_costs_with_PV = total_costs-total_slack"
   ]
  },
  {
   "cell_type": "markdown",
   "id": "00292144-6cc4-4bd4-bf7a-5511be59f75f",
   "metadata": {},
   "source": [
    "### energy output"
   ]
  },
  {
   "cell_type": "code",
   "execution_count": 210,
   "id": "52470cc8-be24-4320-af22-d9ba493bdd9b",
   "metadata": {},
   "outputs": [],
   "source": [
    "#energy output\n",
    "energy_output = df_output.filter(like='pl_ch3oh_demand_from_node_ch3oh')         \n",
    "\n",
    "# Convert strings to numbers, ignoring non-numeric values (relevant as first rows are strings)\n",
    "energy_output_value = pd.to_numeric(energy_output.iloc[:,0], errors='coerce').sum()"
   ]
  },
  {
   "cell_type": "code",
   "execution_count": 211,
   "id": "18ccb250-1289-4be1-9487-1cbf98597a86",
   "metadata": {},
   "outputs": [],
   "source": [
    "#calculation of the present value factor\n",
    "pcf_value = present_value_factor(time_horizon, wacc)\n",
    "#annual_costs_with_PV = 6659285.68590276\n",
    "LCOE = (total_investment + (annual_costs * pcf_value)) / (energy_output_value * pcf_value)\n",
    "LCOE_PV = (total_investment + (annual_costs_with_PV * pcf_value)) / (energy_output_value * pcf_value)"
   ]
  },
  {
   "cell_type": "code",
   "execution_count": 212,
   "id": "eda9ebff-1e9e-4035-b97d-575969b6c590",
   "metadata": {},
   "outputs": [],
   "source": [
    "#create a pandas data frame with all LCOE information\n",
    "\n",
    "LCOE_GJ = LCOE/3.6\n",
    "LCOE_t = LCOE_GJ*19.9\n",
    "\n",
    "LCOE_GJ_PV = LCOE_PV/3.6\n",
    "LCOE_PV_t = LCOE_GJ_PV*19.9\n",
    "\n",
    "energy_output_value_t = (energy_output_value * 3.6) / 19.9\n",
    "\n",
    "\n",
    "# Create a dictionary with the parameters\n",
    "data_LCOE = {\n",
    "    'LCOE [Euro/MWh]': LCOE,\n",
    "    'LCOE [Euro/t]': LCOE_t,\n",
    "    'total_investment': total_investment,\n",
    "    'annual_costs': annual_costs,\n",
    "    'energy_production [MWh]': energy_output_value,\n",
    "    'energy_production [t]': energy_output_value_t,\n",
    "    'pcf_value': pcf_value,\n",
    "    'run_name': run_name\n",
    "}\n",
    "\n",
    "data_LCOE_PV = {\n",
    "    'LCOE [Euro/MWh]': LCOE_PV,\n",
    "    'LCOE [Euro/t]': LCOE_PV_t,\n",
    "    'total_investment': total_investment,\n",
    "    'annual_costs': annual_costs_with_PV,\n",
    "    'energy_production [MWh]': energy_output_value,\n",
    "    'energy_production [t]': energy_output_value_t,\n",
    "    'pcf_value': pcf_value,\n",
    "    'run_name': run_name + '_PV'\n",
    "}\n",
    "\n",
    "# Convert the dictionary to a DataFrame and set the index to the run name\n",
    "df_LCOE_information = pd.DataFrame([data_LCOE])\n",
    "df_LCOE_information.set_index('run_name', inplace=True)\n",
    "\n",
    "df_LCOE_PV_information = pd.DataFrame([data_LCOE_PV])\n",
    "df_LCOE_PV_information.set_index('run_name', inplace=True)\n",
    "\n",
    "df_LCOE = pd.concat([df_LCOE_information, df_LCOE_PV_information])"
   ]
  },
  {
   "cell_type": "markdown",
   "id": "660b5121-6795-4666-b7d7-e61c1f685a26",
   "metadata": {},
   "source": [
    "### Carbon price calculation"
   ]
  },
  {
   "cell_type": "code",
   "execution_count": 213,
   "id": "ad0a5935-faf1-4d1e-bef4-285565043cc9",
   "metadata": {},
   "outputs": [],
   "source": [
    "# Determine the year of calculations. If the simulated year is not between 2019 and 2024, 2019 is used for calculations \n",
    "# as this year's energy data was not uncommonly affected by pandemic or political events \n",
    "if simulation_year >=2019 and simulation_year<=2024: \n",
    "    year = simulation_year\n",
    "else:\n",
    "    year = 2019\n",
    "\n",
    "## Extract corresponding data of used product\n",
    "\n",
    "if fuel == 'methanol':\n",
    "    # fossil based data\n",
    "    energy_density = 19.7*10**9                               # J/t  (source: https://ebookcentral.proquest.com/lib/kbhnhh-ebooks/detail.action?docID=5116604)   \n",
    "    co2_indstr_high = 2.863                                   # kg*CO2/kg*MeOH   (source: https://www.sciencedirect.com/science/article/pii/S0360319922002415)\n",
    "    co2_indstr_low = 2.05                                     # kg*CO2/kg*MeOH   (source: https://www.methanol.org/wp-content/uploads/2022/01/CARBON-FOOTPRINT-OF-METHANOL-PAPER_1-31-22.pdf)\n",
    "    co2_indstr_perJ = 103 * 10**(-9)                          # kg*CO2/J  (source: https://www.methanol.org/wp-content/uploads/2022/01/CARBON-FOOTPRINT-OF-METHANOL-PAPER_1-31-22.pdf)\n",
    "\n",
    "    # costs ([$/t]) of indutrial equivalent for years 2019 to 2024 in dictionary\n",
    "    costs_list = [370,205,395,399,321.5,374]                  # $/t (source: https://shipandbunker.com/prices/emea/nwe/nl-rtm-rotterdam#MEOH)\n",
    "    indstr_costs = dict(zip(list(range(2019,2025)), costs_list))\n",
    "\n",
    "elif fuel == 'ammonia':\n",
    "    # fossil based data\n",
    "    energy_density = 22.5*10**9                              # J/t  (source: https://www.sciencedirect.com/science/article/pii/S0360128517302320)   \n",
    "    co2_indstr_low = 2.55                                    # kg*CO2/kg*NH3   (source: https://pubs.rsc.org/en/content/articlelanding/2020/gc/d0gc02301a) \n",
    "    co2_indstr_high = 2.6                                    # kg*CO2/kg*NH3   (source: https://pubs.rsc.org/en/content/articlelanding/2022/gc/d2gc00843b/unauth) \n",
    "\n",
    "    # costs ([$/t]) of indutrial equivalent for years 2019 to 2024 in dictionary\n",
    "    costs_list = [366.67,307.5,564.17,1240.83,670,584.17]    # $/t (source: https://businessanalytiq.com/procurementanalytics/index/ammonia-price-index/)\n",
    "    indstr_costs = dict(zip(list(range(2019,2025)), costs_list))\n",
    "    \n",
    "elif fuel == 'diesel':\n",
    "    # fossil based data\n",
    "    energy_density = 42.64*10**9                                # J/t  (source: https://www.chevron.com/-/media/chevron/operations/documents/diesel-fuel-tech-review.pdf?utm_source=chatgpt.com) \n",
    "    co2_indstr_high = 3.79                                      # kg*CO2/kg*MeOH   (source: https://www.sciencedirect.com/science/article/pii/S1364032122000867) \n",
    "    co2_indstr_low = 2                                       # kg*CO2/kg*MeOH   (source: DUMMY VALUE) \n",
    "\n",
    "    # costs ([$/t]) of indutrial equivalent for years 2019 to 2024 in dictionary\n",
    "    costs_list = [222,222,222,222,222,222]                   # $/t (source: DUMMY VALUES)\n",
    "    indstr_costs = dict(zip(list(range(2019,2025)), costs_list))\n",
    "    \n",
    "elif fuel == 'egasoline':\n",
    "    # fossil based data\n",
    "    energy_density = 44*10**9                                # J/t  (source: PDF of https://ens.dk/en/analyses-and-statistics/technology-data-renewable-fuels)   \n",
    "    co2_indstr_high = 3.78                                   # kg*CO2/kg*MeOH   (source: https://www.sciencedirect.com/science/article/pii/S1364032122000867) \n",
    "    co2_indstr_low = 2                                       # kg*CO2/kg*MeOH   (source: DUMMY VALUE) \n",
    "\n",
    "    # costs ([$/t]) of indutrial equivalent for years 2019 to 2024 in dictionary\n",
    "    costs_list = [222,222,222,222,222,222]                   # $/t (source: DUMMY VALUES)\n",
    "    indstr_costs = dict(zip(list(range(2019,2025)), costs_list))\n",
    "\n",
    "elif fuel == 'hydrogen':\n",
    "    # fossil based data\n",
    "    energy_density = 120*10**9                               # J/t  (source: https://pubs.acs.org/doi/full/10.1021/jp406523w)   \n",
    "    co2_indstr_high = 13                                     # kg*CO2/kg*MeOH   (source: https://www.sciencedirect.com/science/article/pii/S0360319922052570) \n",
    "    co2_indstr_low = 10.5                                    # kg*CO2/kg*MeOH   (source: https://www.sciencedirect.com/science/article/pii/S0360319922052570) \n",
    "\n",
    "    # costs ([$/t]) of indutrial equivalent for years 2019 to 2024 in dictionary\n",
    "    # Grey hydrogen (data starts in 2021, replace 2019 and 2020 rice when found)\n",
    "    costs_list = [4053,4053,4053,6870,3783,3348]             # $/t (source: https://businessanalytiq.com/procurementanalytics/index/grey-hydrogen-price-index/)\n",
    "    indstr_costs = dict(zip(list(range(2019,2025)), costs_list))\n",
    "\n",
    "elif fuel == 'jet_fuel':\n",
    "    # fossil based data\n",
    "    energy_density = 1*10**9                                 # J/t  (source: DUMMY VALUE)   \n",
    "    co2_indstr_high = 2                                      # kg*CO2/kg*MeOH   (source: DUMMY VALUE) \n",
    "    co2_indstr_low = 2                                       # kg*CO2/kg*MeOH   (source: DUMMY VALUE) \n",
    "\n",
    "    # costs ([$/t]) of indutrial equivalent for years 2019 to 2024 in dictionary\n",
    "    costs_list = [222,222,222,222,222,222]                   # $/t (source: DUMMY VALUES)\n",
    "    indstr_costs = dict(zip(list(range(2019,2025)), costs_list))\n",
    "\n",
    "elif fuel == 'synthetic_methane_gas':\n",
    "    # fossil based data\n",
    "    energy_density = 55.47*10**9                             # J/t  (source: https://www.sciencedirect.com/science/article/pii/S1385894715002971)   \n",
    "    co2_indstr_high = 36                                     # kg*CO2/kg*MeOH   (source: https://pubs.rsc.org/en/content/articlehtml/2018/em/c8em00414e) \n",
    "    co2_indstr_low = 27.9                                    # kg*CO2/kg*MeOH   (source: https://www.sciencedirect.com/science/article/pii/S1462901122001204) \n",
    "\n",
    "    # costs ([$/t]) of indutrial equivalent for years 2019 to 2024 in dictionary\n",
    "    costs_list = [222,222,222,222,222,222]                   # $/t (source: DUMMY VALUES)\n",
    "    indstr_costs = dict(zip(list(range(2019,2025)), costs_list))"
   ]
  },
  {
   "cell_type": "code",
   "execution_count": 214,
   "id": "594ebc49-240e-411a-ae84-a4c26e3334bd",
   "metadata": {},
   "outputs": [],
   "source": [
    "## Fuel independent data \n",
    "\n",
    "# Average currency exhange rates([€/$]) for years 2019 to 2024 in dictionary\n",
    "exchange_list =  [0.8932, 0.8602, 0.8945, 0.9371, 0.9248, 0.9239]                    # €/$    (source: https://www.ecb.europa.eu/stats/policy_and_exchange_rates/euro_reference_exchange_rates/html/eurofxref-graph-usd.en.html)\n",
    "exchange_rates = dict(zip(list(range(2019,2025)), exchange_list))\n",
    "\n",
    "# European allowances 2019-2024, 2050\n",
    "EUA_list = [24.723125, 24.38660287, 54.15156951, 80.18404545, 83.59650224, 64.75701] # €/(t*CO2-eq)  (source: https://icapcarbonaction.com/en/ets-prices)\n",
    "avg_EUA = dict(zip(list(range(2019,2025)), EUA_list))\n",
    "\n",
    "# Average Emissions of grid power 2019-2024 (!! Udate value of 2024 when available on https://energinet.dk/eldeklaration/!!)\n",
    "electr_emissions_list = [372/(10**6), 478.5/(10**6), 411.5/(10**6), 432/(10**6), 499.8/(10**6), 450/(10**6)] # kg Co2/(Wh electricity)  (source: https://energinet.dk/media/1duf3x0o/19_07249-24-generel-eldeklaration-historik-10536640_5986882_0.xlsx)\n",
    "avg_electr_emissions = dict(zip(list(range(2019,2025)), electr_emissions_list))\n",
    "\n",
    "# Yearly demand\n",
    "demand_yearly_t = energy_output_value_t\n"
   ]
  },
  {
   "cell_type": "code",
   "execution_count": 215,
   "id": "83518fa3-f7da-4f51-8391-b853a61a19c0",
   "metadata": {},
   "outputs": [],
   "source": [
    "## Result data of simulations\n",
    "# Determine produced PV power and sold and bought grid electricity\n",
    "Production_PV_df = df_output.filter(like='solar_plant_to_node_power')\n",
    "Production_PV = sum(Production_PV_df.iloc[4:, 0].tolist())\n",
    "\n",
    "El_from_grid_df = df_output.filter(like='wholesale_to_node_power') \n",
    "El_from_grid = sum(El_from_grid_df.iloc[4:, 0].tolist())\n",
    "El_to_grid_df = df_output.filter(like='wholesale_from_node_power') \n",
    "El_to_grid = sum(El_to_grid_df.iloc[4:, 0].tolist())\n",
    "costs_hub = LCOE_PV_t"
   ]
  },
  {
   "cell_type": "code",
   "execution_count": 216,
   "id": "1f7e98b8-c52f-4eae-9160-e7483a27a1ce",
   "metadata": {},
   "outputs": [],
   "source": [
    "## Calculations \n",
    "\n",
    "# Electricity used for production, PV share and used grid electricity in production \n",
    "El_used = El_from_grid+Production_PV- El_to_grid                                                                 # MWh \n",
    "PV_used_rel = (Production_PV-El_to_grid)/El_used                                                                 # % \n",
    "el_demand_grid = El_from_grid*(1-PV_used_rel)                                                                    # MWh\n",
    "\n",
    "# Electricity taken from the grid \n",
    "grid_electricity = el_demand_grid*10**6                                                                          # Wh\n",
    "\n",
    "# Emissions per year \n",
    "emissions_hub = grid_electricity*avg_electr_emissions[year]/1000                                                 # t Co2\n",
    "emissions_indstr_low = demand_yearly_t*co2_indstr_low                                                            # t Co2\n",
    "emissions_indstr_high = demand_yearly_t*co2_indstr_high                                                          # t Co2\n",
    "\n",
    "# Emissions per tonne of fuel\n",
    "emissions_per_tonne = emissions_hub/demand_yearly_t                                                              # t*Co2/t*MeOH\n",
    "\n",
    "# Costs for yearly demand of fuel (produced in hub vs. produced industrial)\n",
    "ym_costs = costs_hub*demand_yearly_t                                                                             # €\n",
    "ym_costs_indstr = indstr_costs[year]*exchange_rates[year]*demand_yearly_t                                        # €\n",
    "\n",
    "# Calculations of neccessary carbon prices   (extra costs per saved tonne of co2)\n",
    "\n",
    "# Comparison with lower co2 emissions of industrial methanol \n",
    "CPl = (ym_costs-ym_costs_indstr)/(emissions_indstr_low-emissions_hub)                                            # €/t*Co2\n",
    "\n",
    "# Comparison with higher co2 emissions of industrial methanol \n",
    "CPh = (ym_costs-ym_costs_indstr)/(emissions_indstr_high-emissions_hub)                                           # €/t*Co2\n",
    "\n",
    "# Comparison in case of purely green E-Methanol with lower co2 industrial methanol\n",
    "CPl_green = (ym_costs-ym_costs_indstr)/(emissions_indstr_low)                                                    # €/t*Co2\n",
    "\n",
    "# Comparison in case of purely green E-Methanol with higher co2 industrial methanol\n",
    "CPh_green = (ym_costs-ym_costs_indstr)/(emissions_indstr_high)                                                   # €/t*Co2\n"
   ]
  },
  {
   "cell_type": "code",
   "execution_count": 217,
   "id": "e50bfd5c-cd93-4d2d-ad7d-ad301aa7b5b1",
   "metadata": {},
   "outputs": [
    {
     "data": {
      "text/html": [
       "<div>\n",
       "<style scoped>\n",
       "    .dataframe tbody tr th:only-of-type {\n",
       "        vertical-align: middle;\n",
       "    }\n",
       "\n",
       "    .dataframe tbody tr th {\n",
       "        vertical-align: top;\n",
       "    }\n",
       "\n",
       "    .dataframe thead th {\n",
       "        text-align: right;\n",
       "    }\n",
       "</style>\n",
       "<table border=\"1\" class=\"dataframe\">\n",
       "  <thead>\n",
       "    <tr style=\"text-align: right;\">\n",
       "      <th></th>\n",
       "      <th>Scenario</th>\n",
       "      <th>CO2 Equivalent (Greener Fuel)</th>\n",
       "      <th>CO2 Equivalent (Fossil Fuel)</th>\n",
       "      <th>Carbon Price</th>\n",
       "    </tr>\n",
       "  </thead>\n",
       "  <tbody>\n",
       "    <tr>\n",
       "      <th>0</th>\n",
       "      <td>Hub fuel comp. to indstrl. (lower emission)</td>\n",
       "      <td>1.340479</td>\n",
       "      <td>2.050</td>\n",
       "      <td>1114.309881</td>\n",
       "    </tr>\n",
       "    <tr>\n",
       "      <th>1</th>\n",
       "      <td>Hub fuel comp. to indstrl. (higher emission)</td>\n",
       "      <td>1.340479</td>\n",
       "      <td>2.863</td>\n",
       "      <td>519.287566</td>\n",
       "    </tr>\n",
       "    <tr>\n",
       "      <th>2</th>\n",
       "      <td>CO2 neutral fuel comp. to indstrl. (lower emis...</td>\n",
       "      <td>0.000000</td>\n",
       "      <td>2.050</td>\n",
       "      <td>385.671314</td>\n",
       "    </tr>\n",
       "    <tr>\n",
       "      <th>3</th>\n",
       "      <td>CO2 neutral fuel comp. to indstrl. (higher emi...</td>\n",
       "      <td>0.000000</td>\n",
       "      <td>2.863</td>\n",
       "      <td>276.153054</td>\n",
       "    </tr>\n",
       "  </tbody>\n",
       "</table>\n",
       "</div>"
      ],
      "text/plain": [
       "                                            Scenario  \\\n",
       "0        Hub fuel comp. to indstrl. (lower emission)   \n",
       "1       Hub fuel comp. to indstrl. (higher emission)   \n",
       "2  CO2 neutral fuel comp. to indstrl. (lower emis...   \n",
       "3  CO2 neutral fuel comp. to indstrl. (higher emi...   \n",
       "\n",
       "   CO2 Equivalent (Greener Fuel)  CO2 Equivalent (Fossil Fuel)  Carbon Price  \n",
       "0                       1.340479                         2.050   1114.309881  \n",
       "1                       1.340479                         2.863    519.287566  \n",
       "2                       0.000000                         2.050    385.671314  \n",
       "3                       0.000000                         2.863    276.153054  "
      ]
     },
     "execution_count": 217,
     "metadata": {},
     "output_type": "execute_result"
    }
   ],
   "source": [
    "## Create dataframe with data for CO2 price and CO2 equivalents \n",
    "data_carbon_price = {\n",
    "    \"Scenario\": [\n",
    "        \"Hub fuel comp. to indstrl. (lower emission)\",\n",
    "        \"Hub fuel comp. to indstrl. (higher emission)\",\n",
    "        \"CO2 neutral fuel comp. to indstrl. (lower emission)\",\n",
    "        \"CO2 neutral fuel comp. to indstrl. (higher emission)\"\n",
    "    ],\n",
    "    \"CO2 Equivalent (Greener Fuel)\": [emissions_per_tonne, emissions_per_tonne, 0, 0],\n",
    "    \"CO2 Equivalent (Fossil Fuel)\": [co2_indstr_low, co2_indstr_high, co2_indstr_low, co2_indstr_high],\n",
    "    \"Carbon Price\": [CPl, CPh, CPl_green, CPh_green]\n",
    "}\n",
    "\n",
    "df_carbon_price = pd.DataFrame(data_carbon_price)\n",
    "df_carbon_price"
   ]
  },
  {
   "cell_type": "markdown",
   "id": "5ee1b225",
   "metadata": {},
   "source": [
    "### Creating one combined excel and export"
   ]
  },
  {
   "cell_type": "code",
   "execution_count": 234,
   "id": "92a38069",
   "metadata": {},
   "outputs": [],
   "source": [
    "with pd.ExcelWriter(full_path_export_output_data) as writer:\n",
    "    df_output.to_excel(writer, sheet_name='flows_node_states')\n",
    "    df_system_cost_output.to_excel(writer, sheet_name='system_costs')\n",
    "    df_LCOE.to_excel(writer, sheet_name='LCOE')\n",
    "    df_carbon_price.to_excel(writer, sheet_name='carbon_price')"
   ]
  },
  {
   "cell_type": "code",
   "execution_count": 235,
   "id": "79d24bde-6276-4e5a-baa9-a1d01330adc2",
   "metadata": {},
   "outputs": [
    {
     "data": {
      "text/plain": [
       "'C:\\\\Users\\\\luc.eco\\\\OneDrive - CBS - Copenhagen Business School\\\\Documents\\\\GitHub\\\\Nord_H2ub\\\\Spine_Projects\\\\03_output_data\\\\01_basic_energy_model_outputs\\\\Output_exported_TEST.xlsx'"
      ]
     },
     "execution_count": 235,
     "metadata": {},
     "output_type": "execute_result"
    }
   ],
   "source": [
    "full_path_export_output_data#df_LCOE"
   ]
  },
  {
   "cell_type": "markdown",
   "id": "cfe6ce29-074d-4e58-bd95-1d7ed51bf99e",
   "metadata": {},
   "source": [
    "### Finish and Exit the process:\n",
    "\n",
    "- after executing the cell you can go back to SpineToolbox\n",
    "- ensure that the data connection refers to the correct file"
   ]
  },
  {
   "cell_type": "code",
   "execution_count": null,
   "id": "2e173761-6b77-4e50-91b1-7c05df015cec",
   "metadata": {},
   "outputs": [],
   "source": [
    "avada_kedavra()"
   ]
  }
 ],
 "metadata": {
  "kernelspec": {
   "display_name": "Python 3 (ipykernel)",
   "language": "python",
   "name": "python3"
  },
  "language_info": {
   "codemirror_mode": {
    "name": "ipython",
    "version": 3
   },
   "file_extension": ".py",
   "mimetype": "text/x-python",
   "name": "python",
   "nbconvert_exporter": "python",
   "pygments_lexer": "ipython3",
   "version": "3.9.19"
  }
 },
 "nbformat": 4,
 "nbformat_minor": 5
}
