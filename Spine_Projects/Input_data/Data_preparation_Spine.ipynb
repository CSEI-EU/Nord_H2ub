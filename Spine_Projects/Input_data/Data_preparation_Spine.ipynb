{
 "cells": [
  {
   "cell_type": "markdown",
   "id": "43ea4b8f-0ba4-4513-8872-53f4a538a0d3",
   "metadata": {},
   "source": [
    "# Data Preparation for the Nord_H2ub Spine Model"
   ]
  },
  {
   "cell_type": "markdown",
   "id": "1aa86773-4431-4a2f-9490-4b3cf0aa8d70",
   "metadata": {},
   "source": [
    "This jupyter notebook contains all routines for the preparation of the input data sources into a input data file for the model in Spine. \n",
    "\n",
    "**Authors:** Johannes Giehl (jfg.eco@cbs.dk)"
   ]
  },
  {
   "cell_type": "markdown",
   "id": "eb8175ae-f246-4788-a309-c1a4890992f2",
   "metadata": {},
   "source": [
    "## Import of packages"
   ]
  },
  {
   "cell_type": "code",
   "execution_count": 3,
   "id": "f8f47a1c-073f-46c0-8a4d-7dafb1716b9b",
   "metadata": {},
   "outputs": [],
   "source": [
    "import numpy as np\n",
    "import pandas as pd"
   ]
  },
  {
   "cell_type": "markdown",
   "id": "4c56b541-1fbd-4e7e-9cf3-2ff25f8da472",
   "metadata": {},
   "source": [
    "## File paths"
   ]
  },
  {
   "cell_type": "code",
   "execution_count": 5,
   "id": "5b811bdc-ac7b-4cd7-8e32-8f84bda412a2",
   "metadata": {},
   "outputs": [],
   "source": [
    "#set path to correct folders\n",
    "\n",
    "excel_file_path = '../Input_data/Input_raw/'"
   ]
  },
  {
   "cell_type": "code",
   "execution_count": 6,
   "id": "89169e64-f204-47bb-9a83-17156a4aefa8",
   "metadata": {},
   "outputs": [],
   "source": [
    "#set name of the relevant files\n",
    "\n",
    "PV_data_filename = 'PV_availability_factors_Kasso-v001-djh_2023_12_15.xlsx'\n",
    "Model_structure_file = 'Model_Data_Base.xlsx'"
   ]
  },
  {
   "cell_type": "markdown",
   "id": "86d15fe8-064f-4c28-be28-8d924a4ba31b",
   "metadata": {},
   "source": [
    "## Workflow of the data preparation\n",
    "\n",
    "- general parameters\n",
    "- data import\n",
    "- data adjustments\n",
    "- final data settings\n",
    "- excel/csv export\n"
   ]
  },
  {
   "cell_type": "markdown",
   "id": "ef6ad49f-470e-4b29-aa02-c7babb08befb",
   "metadata": {},
   "source": [
    "### General parameters"
   ]
  },
  {
   "cell_type": "code",
   "execution_count": 10,
   "id": "c50f50c3-e43d-41c2-8158-75596632213b",
   "metadata": {},
   "outputs": [],
   "source": [
    "date_index = pd.date_range(start='2018-01-01T00:00:00', end='2018-12-31T23:00:00', freq='H')\n",
    "formatted_dates = date_index.strftime('%Y-%m-%dT%H:%M:%S')\n",
    "df_formatted_dates = pd.DataFrame(formatted_dates)"
   ]
  },
  {
   "cell_type": "code",
   "execution_count": 11,
   "id": "395cd25e-643e-455d-9b6b-dc4f54a03120",
   "metadata": {},
   "outputs": [],
   "source": [
    "df_PV_values = pd.read_excel(excel_file_path+PV_data_filename, skiprows=2, usecols=[0,1,2,3,4,5])"
   ]
  },
  {
   "cell_type": "code",
   "execution_count": 12,
   "id": "c467320b-586e-4820-818f-b784901be5e7",
   "metadata": {},
   "outputs": [],
   "source": [
    "df_model_structure = pd.read_excel(excel_file_path + Model_structure_file, sheet_name='Units', index_col=None)"
   ]
  },
  {
   "cell_type": "code",
   "execution_count": 13,
   "id": "ec88a01e-0ef2-4103-bc3b-f33d1eebb1a7",
   "metadata": {},
   "outputs": [
    {
     "data": {
      "text/html": [
       "<div>\n",
       "<style scoped>\n",
       "    .dataframe tbody tr th:only-of-type {\n",
       "        vertical-align: middle;\n",
       "    }\n",
       "\n",
       "    .dataframe tbody tr th {\n",
       "        vertical-align: top;\n",
       "    }\n",
       "\n",
       "    .dataframe thead th {\n",
       "        text-align: right;\n",
       "    }\n",
       "</style>\n",
       "<table border=\"1\" class=\"dataframe\">\n",
       "  <thead>\n",
       "    <tr style=\"text-align: right;\">\n",
       "      <th></th>\n",
       "      <th>Unit</th>\n",
       "      <th>Input1</th>\n",
       "      <th>Input2</th>\n",
       "      <th>Output1</th>\n",
       "      <th>Output2</th>\n",
       "      <th>Capacity_existing</th>\n",
       "      <th>Capacity_max</th>\n",
       "      <th>Efficency</th>\n",
       "      <th>Relation_Input</th>\n",
       "      <th>Relation_Output</th>\n",
       "      <th>Cost_invest</th>\n",
       "      <th>Cost_OM</th>\n",
       "      <th>Cost_var</th>\n",
       "    </tr>\n",
       "  </thead>\n",
       "  <tbody>\n",
       "    <tr>\n",
       "      <th>0</th>\n",
       "      <td>Electrolyzer</td>\n",
       "      <td>Power</td>\n",
       "      <td>Water</td>\n",
       "      <td>Hydrogen</td>\n",
       "      <td>Heat</td>\n",
       "      <td>NaN</td>\n",
       "      <td>NaN</td>\n",
       "      <td>1</td>\n",
       "      <td>1</td>\n",
       "      <td>1</td>\n",
       "      <td>1</td>\n",
       "      <td>1</td>\n",
       "      <td>1</td>\n",
       "    </tr>\n",
       "  </tbody>\n",
       "</table>\n",
       "</div>"
      ],
      "text/plain": [
       "           Unit Input1 Input2   Output1 Output2  Capacity_existing  \\\n",
       "0  Electrolyzer  Power  Water  Hydrogen    Heat                NaN   \n",
       "\n",
       "   Capacity_max  Efficency  Relation_Input  Relation_Output  Cost_invest  \\\n",
       "0           NaN          1               1                1            1   \n",
       "\n",
       "   Cost_OM  Cost_var  \n",
       "0        1         1  "
      ]
     },
     "execution_count": 13,
     "metadata": {},
     "output_type": "execute_result"
    }
   ],
   "source": [
    "df_model_structure"
   ]
  },
  {
   "cell_type": "code",
   "execution_count": 17,
   "id": "7b95f3e6-a1c2-4343-8825-0273448d582e",
   "metadata": {},
   "outputs": [],
   "source": [
    "Input1_nodes = df_model_structure['Input1'].tolist()\n",
    "Input2_nodes = df_model_structure['Input2'].tolist()\n",
    "Output1_nodes = df_model_structure['Output1'].tolist()\n",
    "Output2_nodes = df_model_structure['Output2'].tolist()\n",
    "\n",
    "# Combine values from both columns into a single list\n",
    "All_nodes_list = Input1_nodes + Input2_nodes + Output1_nodes + Output2_nodes\n",
    "\n",
    "# Create a list with unique entries\n",
    "unique_nodes_list = list(set(All_nodes_list))"
   ]
  },
  {
   "cell_type": "code",
   "execution_count": 19,
   "id": "47d90f6d-c02b-44dc-bbc8-94ae25c381ef",
   "metadata": {},
   "outputs": [
    {
     "data": {
      "text/plain": [
       "['Water', 'Hydrogen', 'Heat', 'Power']"
      ]
     },
     "execution_count": 19,
     "metadata": {},
     "output_type": "execute_result"
    }
   ],
   "source": [
    "unique_nodes_list"
   ]
  },
  {
   "cell_type": "markdown",
   "id": "c2693fc2-fe36-47a1-9b08-00f73dd53b9f",
   "metadata": {},
   "source": [
    "### Adjustments"
   ]
  },
  {
   "cell_type": "code",
   "execution_count": 12,
   "id": "d6bc672d-993d-47bc-9a3a-e16d4e6f6d4c",
   "metadata": {},
   "outputs": [],
   "source": [
    "#rename PV values columns\n",
    "df_PV_values.rename(columns={'time': 'time [UTC}'}, inplace=True)\n",
    "df_PV_values.rename(columns={'electricity': 'availability_factor'}, inplace=True)"
   ]
  },
  {
   "cell_type": "code",
   "execution_count": 13,
   "id": "53e3a0a5-95ae-4de5-ab5c-e24ffe261059",
   "metadata": {
    "scrolled": true
   },
   "outputs": [],
   "source": [
    "column_names = {'DateTime': [None,None], \n",
    "                'Hydrogen_Kasso': ['node','demand'], \n",
    "                'E-Methanol_Kasso': ['node','demand'], \n",
    "                'Solar_Plant_Kasso': ['node','unit_availability_factor']}\n",
    "df_time_series = pd.DataFrame(column_names, index=None)\n",
    "#df_time_series.index.name = 'DateTime'\n"
   ]
  },
  {
   "cell_type": "code",
   "execution_count": 14,
   "id": "d0496341-6464-41bc-9a1b-45404f053854",
   "metadata": {
    "scrolled": true
   },
   "outputs": [
    {
     "data": {
      "text/html": [
       "<div>\n",
       "<style scoped>\n",
       "    .dataframe tbody tr th:only-of-type {\n",
       "        vertical-align: middle;\n",
       "    }\n",
       "\n",
       "    .dataframe tbody tr th {\n",
       "        vertical-align: top;\n",
       "    }\n",
       "\n",
       "    .dataframe thead th {\n",
       "        text-align: right;\n",
       "    }\n",
       "</style>\n",
       "<table border=\"1\" class=\"dataframe\">\n",
       "  <thead>\n",
       "    <tr style=\"text-align: right;\">\n",
       "      <th></th>\n",
       "      <th>DateTime</th>\n",
       "      <th>Hydrogen_Kasso</th>\n",
       "      <th>E-Methanol_Kasso</th>\n",
       "      <th>Solar_Plant_Kasso</th>\n",
       "    </tr>\n",
       "  </thead>\n",
       "  <tbody>\n",
       "    <tr>\n",
       "      <th>0</th>\n",
       "      <td>None</td>\n",
       "      <td>node</td>\n",
       "      <td>node</td>\n",
       "      <td>node</td>\n",
       "    </tr>\n",
       "    <tr>\n",
       "      <th>1</th>\n",
       "      <td>None</td>\n",
       "      <td>demand</td>\n",
       "      <td>demand</td>\n",
       "      <td>unit_availability_factor</td>\n",
       "    </tr>\n",
       "  </tbody>\n",
       "</table>\n",
       "</div>"
      ],
      "text/plain": [
       "  DateTime Hydrogen_Kasso E-Methanol_Kasso         Solar_Plant_Kasso\n",
       "0     None           node             node                      node\n",
       "1     None         demand           demand  unit_availability_factor"
      ]
     },
     "execution_count": 14,
     "metadata": {},
     "output_type": "execute_result"
    }
   ],
   "source": [
    "df_time_series.head()"
   ]
  },
  {
   "cell_type": "code",
   "execution_count": 26,
   "id": "7b5134d2-d14b-464b-9fb4-c4ab61bd7bc8",
   "metadata": {},
   "outputs": [
    {
     "name": "stdout",
     "output_type": "stream",
     "text": [
      "  DateTime\n",
      "0     None\n",
      "1     None\n",
      "                        0\n",
      "0     2018-01-01T00:00:00\n",
      "1     2018-01-01T01:00:00\n",
      "2     2018-01-01T02:00:00\n",
      "3     2018-01-01T03:00:00\n",
      "4     2018-01-01T04:00:00\n",
      "...                   ...\n",
      "8755  2018-12-31T19:00:00\n",
      "8756  2018-12-31T20:00:00\n",
      "8757  2018-12-31T21:00:00\n",
      "8758  2018-12-31T22:00:00\n",
      "8759  2018-12-31T23:00:00\n",
      "\n",
      "[8760 rows x 1 columns]\n"
     ]
    }
   ],
   "source": [
    "df_time = pd.DataFrame(df_formatted_dates)\n",
    "df_time_head = pd.DataFrame(df_time_series['DateTime'])\n",
    "print(df_time_head)\n",
    "print(df_time)"
   ]
  },
  {
   "cell_type": "code",
   "execution_count": 28,
   "id": "4f263cff-16ca-44ed-bac9-79a288a08330",
   "metadata": {},
   "outputs": [
    {
     "data": {
      "text/html": [
       "<div>\n",
       "<style scoped>\n",
       "    .dataframe tbody tr th:only-of-type {\n",
       "        vertical-align: middle;\n",
       "    }\n",
       "\n",
       "    .dataframe tbody tr th {\n",
       "        vertical-align: top;\n",
       "    }\n",
       "\n",
       "    .dataframe thead th {\n",
       "        text-align: right;\n",
       "    }\n",
       "</style>\n",
       "<table border=\"1\" class=\"dataframe\">\n",
       "  <thead>\n",
       "    <tr style=\"text-align: right;\">\n",
       "      <th></th>\n",
       "      <th>DateTime</th>\n",
       "      <th>0</th>\n",
       "    </tr>\n",
       "  </thead>\n",
       "  <tbody>\n",
       "    <tr>\n",
       "      <th>0</th>\n",
       "      <td>None</td>\n",
       "      <td>NaN</td>\n",
       "    </tr>\n",
       "    <tr>\n",
       "      <th>1</th>\n",
       "      <td>None</td>\n",
       "      <td>NaN</td>\n",
       "    </tr>\n",
       "    <tr>\n",
       "      <th>2</th>\n",
       "      <td>None</td>\n",
       "      <td>2018-01-01T00:00:00</td>\n",
       "    </tr>\n",
       "    <tr>\n",
       "      <th>3</th>\n",
       "      <td>None</td>\n",
       "      <td>2018-01-01T01:00:00</td>\n",
       "    </tr>\n",
       "    <tr>\n",
       "      <th>4</th>\n",
       "      <td>None</td>\n",
       "      <td>2018-01-01T02:00:00</td>\n",
       "    </tr>\n",
       "    <tr>\n",
       "      <th>...</th>\n",
       "      <td>...</td>\n",
       "      <td>...</td>\n",
       "    </tr>\n",
       "    <tr>\n",
       "      <th>8757</th>\n",
       "      <td>NaN</td>\n",
       "      <td>2018-12-31T19:00:00</td>\n",
       "    </tr>\n",
       "    <tr>\n",
       "      <th>8758</th>\n",
       "      <td>NaN</td>\n",
       "      <td>2018-12-31T20:00:00</td>\n",
       "    </tr>\n",
       "    <tr>\n",
       "      <th>8759</th>\n",
       "      <td>NaN</td>\n",
       "      <td>2018-12-31T21:00:00</td>\n",
       "    </tr>\n",
       "    <tr>\n",
       "      <th>8760</th>\n",
       "      <td>NaN</td>\n",
       "      <td>2018-12-31T22:00:00</td>\n",
       "    </tr>\n",
       "    <tr>\n",
       "      <th>8761</th>\n",
       "      <td>NaN</td>\n",
       "      <td>2018-12-31T23:00:00</td>\n",
       "    </tr>\n",
       "  </tbody>\n",
       "</table>\n",
       "<p>8762 rows × 2 columns</p>\n",
       "</div>"
      ],
      "text/plain": [
       "     DateTime                    0\n",
       "0        None                  NaN\n",
       "1        None                  NaN\n",
       "2        None  2018-01-01T00:00:00\n",
       "3        None  2018-01-01T01:00:00\n",
       "4        None  2018-01-01T02:00:00\n",
       "...       ...                  ...\n",
       "8757      NaN  2018-12-31T19:00:00\n",
       "8758      NaN  2018-12-31T20:00:00\n",
       "8759      NaN  2018-12-31T21:00:00\n",
       "8760      NaN  2018-12-31T22:00:00\n",
       "8761      NaN  2018-12-31T23:00:00\n",
       "\n",
       "[8762 rows x 2 columns]"
      ]
     },
     "execution_count": 28,
     "metadata": {},
     "output_type": "execute_result"
    }
   ],
   "source": [
    "Time_Total_df = pd.concat([df_time_head, df_time], ignore_index=True)\n",
    "Time_Total_df"
   ]
  },
  {
   "cell_type": "code",
   "execution_count": null,
   "id": "bca2a468-fa9f-4eaa-bc22-95cdec4df243",
   "metadata": {},
   "outputs": [],
   "source": []
  }
 ],
 "metadata": {
  "kernelspec": {
   "display_name": "Python 3 (ipykernel)",
   "language": "python",
   "name": "python3"
  },
  "language_info": {
   "codemirror_mode": {
    "name": "ipython",
    "version": 3
   },
   "file_extension": ".py",
   "mimetype": "text/x-python",
   "name": "python",
   "nbconvert_exporter": "python",
   "pygments_lexer": "ipython3",
   "version": "3.11.5"
  }
 },
 "nbformat": 4,
 "nbformat_minor": 5
}
