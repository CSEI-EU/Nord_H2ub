{
 "cells": [
  {
   "cell_type": "markdown",
   "id": "43ea4b8f-0ba4-4513-8872-53f4a538a0d3",
   "metadata": {},
   "source": [
    "# Data Preparation for the Nord_H2ub Spine Model"
   ]
  },
  {
   "cell_type": "markdown",
   "id": "1aa86773-4431-4a2f-9490-4b3cf0aa8d70",
   "metadata": {},
   "source": [
    "This jupyter notebook contains all routines for the preparation of the input data sources into a input data file for the model in Spine. \n",
    "\n",
    "**Authors:** Johannes Giehl (jfg.eco@cbs.dk)"
   ]
  },
  {
   "cell_type": "markdown",
   "id": "eb8175ae-f246-4788-a309-c1a4890992f2",
   "metadata": {},
   "source": [
    "## Import of packages"
   ]
  },
  {
   "cell_type": "code",
   "execution_count": 2,
   "id": "f8f47a1c-073f-46c0-8a4d-7dafb1716b9b",
   "metadata": {},
   "outputs": [],
   "source": [
    "import numpy as np\n",
    "import pandas as pd"
   ]
  },
  {
   "cell_type": "markdown",
   "id": "3e50630f-868b-40f0-842e-c74d936b5d54",
   "metadata": {},
   "source": [
    "## General setting"
   ]
  },
  {
   "cell_type": "code",
   "execution_count": 44,
   "id": "5678470b-cd0b-4b6f-b698-2f166d1afd7b",
   "metadata": {},
   "outputs": [],
   "source": [
    "year = 2019   #change to desired year\n",
    "start_date = pd.Timestamp(f'{year}-01-01 00:00:00')\n",
    "end_date = pd.Timestamp(f'{year}-12-31 23:00:00')\n",
    "\n",
    "area = 'DK1'   #change to desired area"
   ]
  },
  {
   "cell_type": "markdown",
   "id": "4c56b541-1fbd-4e7e-9cf3-2ff25f8da472",
   "metadata": {},
   "source": [
    "## File paths"
   ]
  },
  {
   "cell_type": "code",
   "execution_count": 4,
   "id": "5b811bdc-ac7b-4cd7-8e32-8f84bda412a2",
   "metadata": {},
   "outputs": [],
   "source": [
    "#set path to correct folders\n",
    "\n",
    "excel_file_path = '../Input_data/Input_raw/'"
   ]
  },
  {
   "cell_type": "code",
   "execution_count": 5,
   "id": "89169e64-f204-47bb-9a83-17156a4aefa8",
   "metadata": {},
   "outputs": [],
   "source": [
    "#set name of the relevant files\n",
    "\n",
    "PV_data_availabilityfactors = f'PV_availability_factors_Kasso_{year}.xlsx'\n",
    "PV_data_powerprices = f'Day_ahead_prices_{year}.xlsx'"
   ]
  },
  {
   "cell_type": "markdown",
   "id": "86d15fe8-064f-4c28-be28-8d924a4ba31b",
   "metadata": {},
   "source": [
    "## Workflow of the data preparation\n",
    "\n",
    "- general parameters\n",
    "- data import\n",
    "- data adjustments\n",
    "- final data settings\n",
    "- excel/csv export\n"
   ]
  },
  {
   "cell_type": "markdown",
   "id": "ef6ad49f-470e-4b29-aa02-c7babb08befb",
   "metadata": {},
   "source": [
    "### General parameters"
   ]
  },
  {
   "cell_type": "code",
   "execution_count": 6,
   "id": "c50f50c3-e43d-41c2-8158-75596632213b",
   "metadata": {},
   "outputs": [],
   "source": [
    "#date index\n",
    "date_index = pd.date_range(start=start_date, end=end_date, freq='H')\n",
    "formatted_dates = date_index.strftime('%Y-%m-%dT%H:%M:%S')\n",
    "df_formatted_dates = pd.DataFrame(formatted_dates, columns=['DateTime'])\n",
    "\n",
    "df_time = pd.DataFrame(df_formatted_dates)"
   ]
  },
  {
   "cell_type": "markdown",
   "id": "88fb746a-7cd3-4655-88cf-ac543b003918",
   "metadata": {},
   "source": [
    "### Data import"
   ]
  },
  {
   "cell_type": "code",
   "execution_count": 12,
   "id": "395cd25e-643e-455d-9b6b-dc4f54a03120",
   "metadata": {},
   "outputs": [],
   "source": [
    "df_PV_availabilityfactors_values = pd.read_excel(excel_file_path+PV_data_availabilityfactors, skiprows=2, usecols=[0,1,2,3,4,5])"
   ]
  },
  {
   "cell_type": "code",
   "execution_count": 46,
   "id": "fea218e5-be05-463f-b450-4f231487866d",
   "metadata": {},
   "outputs": [],
   "source": [
    "df_PV_powerprices_total_values = pd.read_excel(excel_file_path+PV_data_powerprices)\n",
    "#only extracting the prices from our earlier defined area\n",
    "df_PV_powerprices_values = df_PV_powerprices_total_values[df_PV_powerprices_total_values['PriceArea'] == area]"
   ]
  },
  {
   "cell_type": "markdown",
   "id": "c2693fc2-fe36-47a1-9b08-00f73dd53b9f",
   "metadata": {},
   "source": [
    "### Adjustments"
   ]
  },
  {
   "cell_type": "code",
   "execution_count": 14,
   "id": "ff73f686-a800-4b5f-a94e-2d220d26f457",
   "metadata": {},
   "outputs": [
    {
     "data": {
      "text/html": [
       "<div>\n",
       "<style scoped>\n",
       "    .dataframe tbody tr th:only-of-type {\n",
       "        vertical-align: middle;\n",
       "    }\n",
       "\n",
       "    .dataframe tbody tr th {\n",
       "        vertical-align: top;\n",
       "    }\n",
       "\n",
       "    .dataframe thead th {\n",
       "        text-align: right;\n",
       "    }\n",
       "</style>\n",
       "<table border=\"1\" class=\"dataframe\">\n",
       "  <thead>\n",
       "    <tr style=\"text-align: right;\">\n",
       "      <th></th>\n",
       "      <th>time [UTC]</th>\n",
       "      <th>local_time</th>\n",
       "      <th>unit_availability_factor</th>\n",
       "      <th>irradiance_direct</th>\n",
       "      <th>irradiance_diffuse</th>\n",
       "      <th>temperature</th>\n",
       "    </tr>\n",
       "  </thead>\n",
       "  <tbody>\n",
       "    <tr>\n",
       "      <th>0</th>\n",
       "      <td>2019-01-01 00:00:00</td>\n",
       "      <td>2019-01-01 01:00:00</td>\n",
       "      <td>0.0</td>\n",
       "      <td>0.0</td>\n",
       "      <td>0.0</td>\n",
       "      <td>7.426</td>\n",
       "    </tr>\n",
       "    <tr>\n",
       "      <th>1</th>\n",
       "      <td>2019-01-01 01:00:00</td>\n",
       "      <td>2019-01-01 02:00:00</td>\n",
       "      <td>0.0</td>\n",
       "      <td>0.0</td>\n",
       "      <td>0.0</td>\n",
       "      <td>7.517</td>\n",
       "    </tr>\n",
       "    <tr>\n",
       "      <th>2</th>\n",
       "      <td>2019-01-01 02:00:00</td>\n",
       "      <td>2019-01-01 03:00:00</td>\n",
       "      <td>0.0</td>\n",
       "      <td>0.0</td>\n",
       "      <td>0.0</td>\n",
       "      <td>7.611</td>\n",
       "    </tr>\n",
       "    <tr>\n",
       "      <th>3</th>\n",
       "      <td>2019-01-01 03:00:00</td>\n",
       "      <td>2019-01-01 04:00:00</td>\n",
       "      <td>0.0</td>\n",
       "      <td>0.0</td>\n",
       "      <td>0.0</td>\n",
       "      <td>7.716</td>\n",
       "    </tr>\n",
       "    <tr>\n",
       "      <th>4</th>\n",
       "      <td>2019-01-01 04:00:00</td>\n",
       "      <td>2019-01-01 05:00:00</td>\n",
       "      <td>0.0</td>\n",
       "      <td>0.0</td>\n",
       "      <td>0.0</td>\n",
       "      <td>7.582</td>\n",
       "    </tr>\n",
       "  </tbody>\n",
       "</table>\n",
       "</div>"
      ],
      "text/plain": [
       "           time [UTC]          local_time  unit_availability_factor  \\\n",
       "0 2019-01-01 00:00:00 2019-01-01 01:00:00                       0.0   \n",
       "1 2019-01-01 01:00:00 2019-01-01 02:00:00                       0.0   \n",
       "2 2019-01-01 02:00:00 2019-01-01 03:00:00                       0.0   \n",
       "3 2019-01-01 03:00:00 2019-01-01 04:00:00                       0.0   \n",
       "4 2019-01-01 04:00:00 2019-01-01 05:00:00                       0.0   \n",
       "\n",
       "   irradiance_direct  irradiance_diffuse  temperature  \n",
       "0                0.0                 0.0        7.426  \n",
       "1                0.0                 0.0        7.517  \n",
       "2                0.0                 0.0        7.611  \n",
       "3                0.0                 0.0        7.716  \n",
       "4                0.0                 0.0        7.582  "
      ]
     },
     "execution_count": 14,
     "metadata": {},
     "output_type": "execute_result"
    }
   ],
   "source": [
    "df_PV_availabilityfactors_values.rename(columns={'time': 'time [UTC]', 'electricity': 'unit_availability_factor'}, inplace=True)\n",
    "df_PV_availabilityfactors_values.head()"
   ]
  },
  {
   "cell_type": "code",
   "execution_count": 37,
   "id": "7c75634e-835c-48f9-af08-2dc0d1c1395d",
   "metadata": {},
   "outputs": [
    {
     "data": {
      "text/html": [
       "<div>\n",
       "<style scoped>\n",
       "    .dataframe tbody tr th:only-of-type {\n",
       "        vertical-align: middle;\n",
       "    }\n",
       "\n",
       "    .dataframe tbody tr th {\n",
       "        vertical-align: top;\n",
       "    }\n",
       "\n",
       "    .dataframe thead th {\n",
       "        text-align: right;\n",
       "    }\n",
       "</style>\n",
       "<table border=\"1\" class=\"dataframe\">\n",
       "  <thead>\n",
       "    <tr style=\"text-align: right;\">\n",
       "      <th></th>\n",
       "      <th>time [UTC]</th>\n",
       "      <th>time [DK]</th>\n",
       "      <th>PriceArea</th>\n",
       "      <th>SpotPriceDKK</th>\n",
       "      <th>SpotPriceEUR</th>\n",
       "    </tr>\n",
       "  </thead>\n",
       "  <tbody>\n",
       "    <tr>\n",
       "      <th>0</th>\n",
       "      <td>2018-12-31 23:00:00</td>\n",
       "      <td>2019-01-01</td>\n",
       "      <td>SE3</td>\n",
       "      <td>211.479996</td>\n",
       "      <td>28.320000</td>\n",
       "    </tr>\n",
       "    <tr>\n",
       "      <th>1</th>\n",
       "      <td>2018-12-31 23:00:00</td>\n",
       "      <td>2019-01-01</td>\n",
       "      <td>DK1</td>\n",
       "      <td>211.479996</td>\n",
       "      <td>28.320000</td>\n",
       "    </tr>\n",
       "    <tr>\n",
       "      <th>2</th>\n",
       "      <td>2018-12-31 23:00:00</td>\n",
       "      <td>2019-01-01</td>\n",
       "      <td>DK2</td>\n",
       "      <td>211.479996</td>\n",
       "      <td>28.320000</td>\n",
       "    </tr>\n",
       "    <tr>\n",
       "      <th>3</th>\n",
       "      <td>2018-12-31 23:00:00</td>\n",
       "      <td>2019-01-01</td>\n",
       "      <td>SYSTEM</td>\n",
       "      <td>332.679993</td>\n",
       "      <td>44.549999</td>\n",
       "    </tr>\n",
       "    <tr>\n",
       "      <th>4</th>\n",
       "      <td>2018-12-31 23:00:00</td>\n",
       "      <td>2019-01-01</td>\n",
       "      <td>DE</td>\n",
       "      <td>211.479996</td>\n",
       "      <td>28.320000</td>\n",
       "    </tr>\n",
       "  </tbody>\n",
       "</table>\n",
       "</div>"
      ],
      "text/plain": [
       "           time [UTC]  time [DK] PriceArea  SpotPriceDKK  SpotPriceEUR\n",
       "0 2018-12-31 23:00:00 2019-01-01       SE3    211.479996     28.320000\n",
       "1 2018-12-31 23:00:00 2019-01-01       DK1    211.479996     28.320000\n",
       "2 2018-12-31 23:00:00 2019-01-01       DK2    211.479996     28.320000\n",
       "3 2018-12-31 23:00:00 2019-01-01    SYSTEM    332.679993     44.549999\n",
       "4 2018-12-31 23:00:00 2019-01-01        DE    211.479996     28.320000"
      ]
     },
     "execution_count": 37,
     "metadata": {},
     "output_type": "execute_result"
    }
   ],
   "source": [
    "df_PV_powerprices_values.rename(columns={'HourUTC': 'time [UTC]', \n",
    "                                         'HourDK': 'time [DK]'}, inplace=True)\n",
    "df_PV_powerprices_values.head()"
   ]
  },
  {
   "cell_type": "markdown",
   "id": "287b3c37-228f-47f0-a99e-2df1f87512d5",
   "metadata": {},
   "source": [
    "### Fitting data into format"
   ]
  },
  {
   "cell_type": "markdown",
   "id": "99b06362-af38-4e4b-ab1b-fc2f8024bee0",
   "metadata": {},
   "source": [
    "Creating a joint table for demand and availability factors:"
   ]
  },
  {
   "cell_type": "code",
   "execution_count": 27,
   "id": "53e3a0a5-95ae-4de5-ab5c-e24ffe261059",
   "metadata": {
    "scrolled": true
   },
   "outputs": [],
   "source": [
    "column_names_1 = {'DateTime': [None, None],\n",
    "                'Hydrogen_Kasso': ['node','demand'], \n",
    "                'E-Methanol_Kasso': ['node','demand'], \n",
    "                'Solar_Plant_Kasso': ['node','unit_availability_factor']}\n",
    "df_blank_table_1 = pd.DataFrame(column_names_1, index=None)"
   ]
  },
  {
   "cell_type": "code",
   "execution_count": 35,
   "id": "eccc1b34-e4e6-4187-8299-e66590b125d1",
   "metadata": {},
   "outputs": [
    {
     "data": {
      "text/html": [
       "<div>\n",
       "<style scoped>\n",
       "    .dataframe tbody tr th:only-of-type {\n",
       "        vertical-align: middle;\n",
       "    }\n",
       "\n",
       "    .dataframe tbody tr th {\n",
       "        vertical-align: top;\n",
       "    }\n",
       "\n",
       "    .dataframe thead th {\n",
       "        text-align: right;\n",
       "    }\n",
       "</style>\n",
       "<table border=\"1\" class=\"dataframe\">\n",
       "  <thead>\n",
       "    <tr style=\"text-align: right;\">\n",
       "      <th></th>\n",
       "      <th>DateTime</th>\n",
       "      <th>Hydrogen_Kasso</th>\n",
       "      <th>E-Methanol_Kasso</th>\n",
       "      <th>Solar_Plant_Kasso</th>\n",
       "    </tr>\n",
       "  </thead>\n",
       "  <tbody>\n",
       "    <tr>\n",
       "      <th>0</th>\n",
       "      <td>None</td>\n",
       "      <td>node</td>\n",
       "      <td>node</td>\n",
       "      <td>node</td>\n",
       "    </tr>\n",
       "    <tr>\n",
       "      <th>1</th>\n",
       "      <td>None</td>\n",
       "      <td>demand</td>\n",
       "      <td>demand</td>\n",
       "      <td>unit_availability_factor</td>\n",
       "    </tr>\n",
       "    <tr>\n",
       "      <th>0</th>\n",
       "      <td>2019-01-01T00:00:00</td>\n",
       "      <td>0</td>\n",
       "      <td>25</td>\n",
       "      <td>0.0</td>\n",
       "    </tr>\n",
       "    <tr>\n",
       "      <th>1</th>\n",
       "      <td>2019-01-01T01:00:00</td>\n",
       "      <td>0</td>\n",
       "      <td>25</td>\n",
       "      <td>0.0</td>\n",
       "    </tr>\n",
       "    <tr>\n",
       "      <th>2</th>\n",
       "      <td>2019-01-01T02:00:00</td>\n",
       "      <td>0</td>\n",
       "      <td>25</td>\n",
       "      <td>0.0</td>\n",
       "    </tr>\n",
       "  </tbody>\n",
       "</table>\n",
       "</div>"
      ],
      "text/plain": [
       "              DateTime Hydrogen_Kasso E-Methanol_Kasso  \\\n",
       "0                 None           node             node   \n",
       "1                 None         demand           demand   \n",
       "0  2019-01-01T00:00:00              0               25   \n",
       "1  2019-01-01T01:00:00              0               25   \n",
       "2  2019-01-01T02:00:00              0               25   \n",
       "\n",
       "          Solar_Plant_Kasso  \n",
       "0                      node  \n",
       "1  unit_availability_factor  \n",
       "0                       0.0  \n",
       "1                       0.0  \n",
       "2                       0.0  "
      ]
     },
     "execution_count": 35,
     "metadata": {},
     "output_type": "execute_result"
    }
   ],
   "source": [
    "df_temp_1 = pd.DataFrame(columns=['DateTime', 'Hydrogen_Kasso', 'E-Methanol_Kasso', 'Solar_Plant_Kasso'])\n",
    "\n",
    "df_temp_1['DateTime'] = df_time\n",
    "df_temp_1['Hydrogen_Kasso'] = 0\n",
    "df_temp_1['E-Methanol_Kasso'] = 25\n",
    "df_temp_1['Solar_Plant_Kasso'] = df_PV_availabilityfactors_values['unit_availability_factor']\n",
    "\n",
    "df_table_1 = pd.concat([df_blank_table_1, df_temp_1])\n",
    "\n",
    "df_table_1.head()"
   ]
  },
  {
   "cell_type": "markdown",
   "id": "46e74f16-846f-4ba0-b9c6-869e32be6676",
   "metadata": {},
   "source": [
    "Creating a joint table for power prices and prices for district heating:"
   ]
  },
  {
   "cell_type": "code",
   "execution_count": 48,
   "id": "a785d20b-2cbe-4f0b-8842-2878a3335580",
   "metadata": {},
   "outputs": [],
   "source": [
    "column_names_2 = {'DateTime': ['relationship class','connection','node','parameter name'],\n",
    "                'Power_Wholesale_In': ['connection__from_node','power_line_Wholesale_Kasso','Power_Wholesale','connection_flow_cost'], \n",
    "                'Power_Wholesale_Out': ['connection__to_node','power_line_Wholesale_Kasso','Power_Wholesale','connection_flow_cost'], \n",
    "                'District_Heating': ['connection__to_node','pipeline_District_Heating','District_Heating','connection_flow_cost']}\n",
    "df_blank_table_2 = pd.DataFrame(column_names_2, index=None)"
   ]
  },
  {
   "cell_type": "code",
   "execution_count": 49,
   "id": "4dbe8402-e2a3-49da-8e78-dda6108731b3",
   "metadata": {},
   "outputs": [
    {
     "data": {
      "text/html": [
       "<div>\n",
       "<style scoped>\n",
       "    .dataframe tbody tr th:only-of-type {\n",
       "        vertical-align: middle;\n",
       "    }\n",
       "\n",
       "    .dataframe tbody tr th {\n",
       "        vertical-align: top;\n",
       "    }\n",
       "\n",
       "    .dataframe thead th {\n",
       "        text-align: right;\n",
       "    }\n",
       "</style>\n",
       "<table border=\"1\" class=\"dataframe\">\n",
       "  <thead>\n",
       "    <tr style=\"text-align: right;\">\n",
       "      <th></th>\n",
       "      <th>DateTime</th>\n",
       "      <th>Power_Wholesale_In</th>\n",
       "      <th>Power_Wholesale_Out</th>\n",
       "      <th>District_Heating</th>\n",
       "    </tr>\n",
       "  </thead>\n",
       "  <tbody>\n",
       "    <tr>\n",
       "      <th>0</th>\n",
       "      <td>relationship class</td>\n",
       "      <td>connection__from_node</td>\n",
       "      <td>connection__to_node</td>\n",
       "      <td>connection__to_node</td>\n",
       "    </tr>\n",
       "    <tr>\n",
       "      <th>1</th>\n",
       "      <td>connection</td>\n",
       "      <td>power_line_Wholesale_Kasso</td>\n",
       "      <td>power_line_Wholesale_Kasso</td>\n",
       "      <td>pipeline_District_Heating</td>\n",
       "    </tr>\n",
       "    <tr>\n",
       "      <th>2</th>\n",
       "      <td>node</td>\n",
       "      <td>Power_Wholesale</td>\n",
       "      <td>Power_Wholesale</td>\n",
       "      <td>District_Heating</td>\n",
       "    </tr>\n",
       "    <tr>\n",
       "      <th>3</th>\n",
       "      <td>parameter name</td>\n",
       "      <td>connection_flow_cost</td>\n",
       "      <td>connection_flow_cost</td>\n",
       "      <td>connection_flow_cost</td>\n",
       "    </tr>\n",
       "    <tr>\n",
       "      <th>4</th>\n",
       "      <td>2019-01-01T00:00:00</td>\n",
       "      <td>NaN</td>\n",
       "      <td>NaN</td>\n",
       "      <td>-1</td>\n",
       "    </tr>\n",
       "    <tr>\n",
       "      <th>...</th>\n",
       "      <td>...</td>\n",
       "      <td>...</td>\n",
       "      <td>...</td>\n",
       "      <td>...</td>\n",
       "    </tr>\n",
       "    <tr>\n",
       "      <th>8759</th>\n",
       "      <td>2019-12-31T19:00:00</td>\n",
       "      <td>NaN</td>\n",
       "      <td>NaN</td>\n",
       "      <td>-1</td>\n",
       "    </tr>\n",
       "    <tr>\n",
       "      <th>8760</th>\n",
       "      <td>2019-12-31T20:00:00</td>\n",
       "      <td>NaN</td>\n",
       "      <td>NaN</td>\n",
       "      <td>-1</td>\n",
       "    </tr>\n",
       "    <tr>\n",
       "      <th>8761</th>\n",
       "      <td>2019-12-31T21:00:00</td>\n",
       "      <td>NaN</td>\n",
       "      <td>NaN</td>\n",
       "      <td>-1</td>\n",
       "    </tr>\n",
       "    <tr>\n",
       "      <th>8762</th>\n",
       "      <td>2019-12-31T22:00:00</td>\n",
       "      <td>40.560001</td>\n",
       "      <td>-40.560001</td>\n",
       "      <td>-1</td>\n",
       "    </tr>\n",
       "    <tr>\n",
       "      <th>8763</th>\n",
       "      <td>2019-12-31T23:00:00</td>\n",
       "      <td>NaN</td>\n",
       "      <td>NaN</td>\n",
       "      <td>-1</td>\n",
       "    </tr>\n",
       "  </tbody>\n",
       "</table>\n",
       "<p>8764 rows × 4 columns</p>\n",
       "</div>"
      ],
      "text/plain": [
       "                 DateTime          Power_Wholesale_In  \\\n",
       "0      relationship class       connection__from_node   \n",
       "1              connection  power_line_Wholesale_Kasso   \n",
       "2                    node             Power_Wholesale   \n",
       "3          parameter name        connection_flow_cost   \n",
       "4     2019-01-01T00:00:00                         NaN   \n",
       "...                   ...                         ...   \n",
       "8759  2019-12-31T19:00:00                         NaN   \n",
       "8760  2019-12-31T20:00:00                         NaN   \n",
       "8761  2019-12-31T21:00:00                         NaN   \n",
       "8762  2019-12-31T22:00:00                   40.560001   \n",
       "8763  2019-12-31T23:00:00                         NaN   \n",
       "\n",
       "             Power_Wholesale_Out           District_Heating  \n",
       "0            connection__to_node        connection__to_node  \n",
       "1     power_line_Wholesale_Kasso  pipeline_District_Heating  \n",
       "2                Power_Wholesale           District_Heating  \n",
       "3           connection_flow_cost       connection_flow_cost  \n",
       "4                            NaN                         -1  \n",
       "...                          ...                        ...  \n",
       "8759                         NaN                         -1  \n",
       "8760                         NaN                         -1  \n",
       "8761                         NaN                         -1  \n",
       "8762                  -40.560001                         -1  \n",
       "8763                         NaN                         -1  \n",
       "\n",
       "[8764 rows x 4 columns]"
      ]
     },
     "execution_count": 49,
     "metadata": {},
     "output_type": "execute_result"
    }
   ],
   "source": [
    "df_temp_2 = pd.DataFrame(columns=['DateTime', 'Power_Wholesale_In', 'Power_Wholesale_Out', 'District_Heating'])\n",
    "\n",
    "df_temp_2['DateTime'] = df_time\n",
    "df_temp_2['Power_Wholesale_In'] = df_PV_powerprices_values['SpotPriceEUR']\n",
    "df_temp_2['Power_Wholesale_Out'] = -1*df_PV_powerprices_values['SpotPriceEUR']\n",
    "df_temp_2['District_Heating'] = -1\n",
    "\n",
    "df_table_2 = pd.concat([df_blank_table_2, df_temp_2], ignore_index=True)\n",
    "\n",
    "df_table_2"
   ]
  },
  {
   "cell_type": "markdown",
   "id": "18dfbf3e-1928-4547-8b3a-dac782ca46a3",
   "metadata": {},
   "source": [
    "### Creating one combined excel and export"
   ]
  },
  {
   "cell_type": "code",
   "execution_count": null,
   "id": "9cff330e-8932-40c3-b208-71fd72d095a0",
   "metadata": {},
   "outputs": [],
   "source": []
  }
 ],
 "metadata": {
  "kernelspec": {
   "display_name": "Python 3 (ipykernel)",
   "language": "python",
   "name": "python3"
  },
  "language_info": {
   "codemirror_mode": {
    "name": "ipython",
    "version": 3
   },
   "file_extension": ".py",
   "mimetype": "text/x-python",
   "name": "python",
   "nbconvert_exporter": "python",
   "pygments_lexer": "ipython3",
   "version": "3.9.18"
  }
 },
 "nbformat": 4,
 "nbformat_minor": 5
}
