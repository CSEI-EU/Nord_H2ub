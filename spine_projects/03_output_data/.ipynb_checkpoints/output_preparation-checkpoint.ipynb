{
 "cells": [
  {
   "cell_type": "markdown",
   "id": "1c3b89db",
   "metadata": {},
   "source": [
    "# Output Preparation for the Nord_H2ub Spine Model"
   ]
  },
  {
   "cell_type": "markdown",
   "id": "98756f88",
   "metadata": {},
   "source": [
    "This jupyter notebook contains all routines for the preparation of the input data sources into a input data file for the model in Spine.\n",
    "\n",
    "Authors: Johannes Giehl (jfg.eco@cbs.dk), Dana J. Hentschel (djh.eco@cbs.dk), Lucia Ciprian (luc.eco@cbs.dk)"
   ]
  },
  {
   "cell_type": "markdown",
   "id": "ddde8c69",
   "metadata": {},
   "source": [
    "## General settings"
   ]
  },
  {
   "cell_type": "markdown",
   "id": "230fb0d6",
   "metadata": {},
   "source": [
    "### Packages:"
   ]
  },
  {
   "cell_type": "code",
   "execution_count": 52,
   "id": "92e386b9",
   "metadata": {},
   "outputs": [],
   "source": [
    "import pandas as pd\n",
    "import os\n",
    "import openpyxl\n",
    "import numpy as np\n",
    "import matplotlib.pyplot as plt"
   ]
  },
  {
   "cell_type": "code",
   "execution_count": 11,
   "id": "a91e42e2-c60f-4f07-8ad7-2f54f20911a1",
   "metadata": {},
   "outputs": [],
   "source": [
    "def present_value_factor(n, r):\n",
    "    \"\"\"\n",
    "    Calculate the present value factor of an annuity (Rentenbarwertfaktor).\n",
    "\n",
    "    Parameters:\n",
    "    n (int): The number of periods (time horizon).\n",
    "    r (float): The discount rate (WACC).\n",
    "\n",
    "    Returns:\n",
    "    float: The present value factor of the annuity.\n",
    "    \"\"\"\n",
    "    if r == 0:\n",
    "        return n\n",
    "    else:\n",
    "        return (1 - (1 + r) ** -n) / r"
   ]
  },
  {
   "cell_type": "markdown",
   "id": "86f45aa4-1dbc-483f-a682-bbb73b0bf6aa",
   "metadata": {},
   "source": [
    "### define parameters"
   ]
  },
  {
   "cell_type": "code",
   "execution_count": 12,
   "id": "927cbddd-f9a5-4746-b0ea-cf9ffdafbea6",
   "metadata": {},
   "outputs": [],
   "source": [
    "#define if the model should use the last spine optimization results or a specific file\n",
    "last_model_run = True # True or False\n",
    "\n",
    "#set names of specific files\n",
    "run_name = 'base_case'\n",
    "specific_file_name = 'Output_exported' #+ run_name +'.xlsx'\n",
    "\n",
    "#output files of this script\n",
    "#file names to store the prepared output\n",
    "output_prepared_export = 'output_'+ run_name +'_run.xlsx'"
   ]
  },
  {
   "cell_type": "code",
   "execution_count": 13,
   "id": "3e359b2e-26e6-42d1-872d-60ad48a0348c",
   "metadata": {},
   "outputs": [],
   "source": [
    "#parameters for present_value_factor calculation\n",
    "time_horizon = 25  # Number of periods (years)\n",
    "wacc = 0.1 * 1        # Discount rate\n",
    "starting_year = \"2020\""
   ]
  },
  {
   "cell_type": "markdown",
   "id": "24bfae1e-39ac-470c-bdc0-bfb255f2780f",
   "metadata": {},
   "source": [
    "### define variables"
   ]
  },
  {
   "cell_type": "code",
   "execution_count": 14,
   "id": "d15f75c8-69dc-4c75-9983-a0f5cdb5763a",
   "metadata": {},
   "outputs": [],
   "source": [
    "#TBA"
   ]
  },
  {
   "cell_type": "markdown",
   "id": "65afa152",
   "metadata": {},
   "source": [
    "### File paths:"
   ]
  },
  {
   "cell_type": "code",
   "execution_count": 15,
   "id": "619a209a",
   "metadata": {},
   "outputs": [],
   "source": [
    "#get path of latest spine results\n",
    "#parent folder\n",
    "parent_folder_results = '../02_basic_energy_model/.spinetoolbox/items/exporter/output'\n",
    "folders = [f for f in os.listdir(parent_folder_results) if os.path.isdir(os.path.join(parent_folder_results, f))]\n",
    "if not folders:\n",
    "    print(\"No folders found.\")\n",
    "else:\n",
    "    latest_folder = max(folders, key=lambda x: os.path.getmtime(os.path.join(parent_folder_results, x)))\n",
    "    #latest_folder = \"run@2024-10-14T13.04.57\"\n",
    "    latest_folder_path = os.path.join(parent_folder_results, latest_folder)\n",
    "latest_folder_path = latest_folder_path.replace('\\\\', '/')\n",
    "folder_path_results = latest_folder_path\n",
    "folder_path_results += '/'\n",
    "\n",
    "#get the information of the prepared input data that is used for the spine optimization\n",
    "prepared_input_file_path = os.path.join('..', '01_input_data', '02_input_prepared')\n",
    "\n",
    "#path to files from specific runs\n",
    "path_specific_runs = '02_runs_EURO/01_output_raw/'\n",
    "\n",
    "#prepared output data export to\n",
    "output_file_path = '../03_output_data/01_basic_energy_model_outputs/'"
   ]
  },
  {
   "cell_type": "code",
   "execution_count": 16,
   "id": "bf67eba6",
   "metadata": {},
   "outputs": [],
   "source": [
    "#set the name of the relevant files\n",
    "#input files for this script\n",
    "\n",
    "#file name export from SpineToolbox\n",
    "output_exported_file = 'Output_exported.xlsx'\n",
    "\n",
    "#input file used for the optimization\n",
    "data_from_inputs = '\\methanol_Input_prepared.xlsx'\n",
    "\n",
    "#this way of the output data preparation must be changed\n",
    "#the information is manually added to the input xlsx and does not exist in the automated input generation\n",
    "data_from_inputs_temporary = '\\methanol_Input_prepared_for_output_temporary.xlsx'"
   ]
  },
  {
   "cell_type": "code",
   "execution_count": 17,
   "id": "836c4970-3077-40a1-9856-6806c5d04d6b",
   "metadata": {},
   "outputs": [],
   "source": [
    "#combine input path and files\n",
    "#to input files\n",
    "file_path_data_from_inputs  = prepared_input_file_path + data_from_inputs\n",
    "full_path_data_from_inputs = os.path.abspath(os.path.join(os.getcwd(), file_path_data_from_inputs))\n",
    "\n",
    "#to specific files\n",
    "full_path_specific_files = path_specific_runs + specific_file_name\n",
    "\n",
    "#for temporary appraoch\n",
    "file_path_data_from_inputs_temporary  = prepared_input_file_path + data_from_inputs_temporary\n",
    "full_path_data_from_inputs_temporary = os.path.abspath(os.path.join(os.getcwd(), file_path_data_from_inputs_temporary))"
   ]
  },
  {
   "cell_type": "markdown",
   "id": "fb235bf6",
   "metadata": {},
   "source": [
    "## Workflow of the data preparation"
   ]
  },
  {
   "cell_type": "markdown",
   "id": "91613263",
   "metadata": {},
   "source": [
    "### Data Import"
   ]
  },
  {
   "cell_type": "code",
   "execution_count": 18,
   "id": "236dcad8",
   "metadata": {},
   "outputs": [
    {
     "name": "stdout",
     "output_type": "stream",
     "text": [
      "Done\n"
     ]
    }
   ],
   "source": [
    "if last_model_run == True:\n",
    "    df_output_raw = pd.read_excel(os.path.join(folder_path_results + output_exported_file), sheet_name=-1)\n",
    "else:\n",
    "    df_output_raw = pd.read_excel(full_path_specific_files)\n",
    "\n",
    "df_PV_prices = pd.read_excel(file_path_data_from_inputs, sheet_name='Energy_prices')\n",
    "con_inv_params = pd.read_excel(full_path_data_from_inputs, sheet_name=\"Connection_Inv_Parameters\")\n",
    "unit_inv_params = pd.read_excel(full_path_data_from_inputs, sheet_name=\"Unit_Inv_Parameters\")\n",
    "stor_inv_params = pd.read_excel(full_path_data_from_inputs, sheet_name=\"Storage_Inv_Parameters\")\n",
    "nodes_params = pd.read_excel(full_path_data_from_inputs, sheet_name=\"Nodes\")\n",
    "model_params = pd.read_excel(full_path_data_from_inputs, sheet_name=\"Model\")\n",
    "print(\"Done\")"
   ]
  },
  {
   "cell_type": "markdown",
   "id": "8cd08ef9-da8a-4ca6-9b92-1fd94803b09c",
   "metadata": {},
   "source": [
    "### data frame preparation"
   ]
  },
  {
   "cell_type": "code",
   "execution_count": 19,
   "id": "ccfe8c51-e998-4097-8581-de729189a451",
   "metadata": {},
   "outputs": [],
   "source": [
    "#create a copy of the original output DataFrame\n",
    "df_output = df_output_raw.copy()\n",
    "\n",
    "# Replace NaN values with empty strings in the first three rows\n",
    "df_output.iloc[:3] = df_output.iloc[:3].fillna('')\n",
    "\n",
    "# Combine the old header with the strings from the first three rows for each column\n",
    "new_headers = df_output.columns + '_' + df_output.iloc[0] + '_' + df_output.iloc[1] + '_' + df_output.iloc[2]\n",
    "old_headers = df_output.columns\n",
    "# Set the new headers\n",
    "df_output.columns = new_headers\n",
    "\n",
    "# Drop the first three rows\n",
    "#might be helpful bot not implemented now\n",
    "#df_output = df_output.drop([0, 1, 2])\n",
    "\n",
    "# Reset the index\n",
    "df_output.reset_index(drop=True, inplace=True)\n",
    "# Rename the first column to \"timeseries\"\n",
    "df_output.columns.values[0] = \"timeseries\""
   ]
  },
  {
   "cell_type": "markdown",
   "id": "97c2942e-e16d-4fac-9aa7-d9a07739a075",
   "metadata": {},
   "source": [
    "### data adjustments"
   ]
  },
  {
   "cell_type": "code",
   "execution_count": 20,
   "id": "befc6f2a",
   "metadata": {},
   "outputs": [],
   "source": [
    "#calculate revenues from PV sales on the wholesale market\n",
    "selected_column_name = None\n",
    "for column_index in range(len(df_output.columns)):\n",
    "    if (df_output.iloc[0, column_index] == 'pl_wholesale' and \n",
    "        df_output.iloc[1, column_index] == 'to_node' and df_output.iloc[2, column_index] == 'power_wholesale'):         \n",
    "        selected_column_name = df_output.columns[column_index]\n",
    "        break\n",
    "\n",
    "# If connected to grid PV power is sold, else revenue is 0\n",
    "if 'power_wholesale_out' in df_PV_prices.columns:                 #To adjust\n",
    "    if selected_column_name:\n",
    "        df_output['Revenue_from_PV'] = df_output[selected_column_name].iloc[3:] * df_PV_prices['power_wholesale_out'].iloc[4]          \n",
    "    else:\n",
    "        print(\"Column with specified headers not found in output.\")\n",
    "\n",
    "else: \n",
    "    df_output['Revenue_from_PV'] = 0 "
   ]
  },
  {
   "cell_type": "code",
   "execution_count": 21,
   "id": "3ad80575-a2ab-427b-8370-196d6989a345",
   "metadata": {},
   "outputs": [],
   "source": [
    "# Subtract slack penalty if any (Penalty costs assumed to be equal for all nodes)\n",
    "slacks = df_output.filter(like='node_slack_pos')\n",
    "slacks = slacks.apply(pd.to_numeric, errors='coerce')\n",
    "total_slack = slacks[(slacks != 0) & (slacks.notna())].sum().sum()\n",
    "# node slack penalty\n",
    "slack_penalty = nodes_params['node_slack_penalty'][(nodes_params['node_slack_penalty'] != 0)&(nodes_params['node_slack_penalty'].notna())].iloc[0]\n",
    "\n",
    "# total penalty that had to be paid \n",
    "total_slack_penalty = total_slack*slack_penalty"
   ]
  },
  {
   "cell_type": "code",
   "execution_count": 22,
   "id": "5054c581",
   "metadata": {},
   "outputs": [],
   "source": [
    "#get total cost of the system\n",
    "total_costs = df_output.filter(like='total_costs')\n",
    "total_costs = total_costs.apply(pd.to_numeric, errors='coerce')\n",
    "total_costs = total_costs[(total_costs != 0) & (total_costs.notna())].sum().sum()\n",
    "total_costs -= total_slack_penalty\n",
    "#get total revenue form PV power sale (times -1 is relevant as the input is structured that negative prices for exports reduce total cost). \n",
    "total_PV_revenue = df_output['Revenue_from_PV'].sum()*(-1)\n",
    "#calculate cost without PV revenue\n",
    "adjusted_costs = total_costs - total_PV_revenue \n",
    "                            \n",
    "#create separate DataFrame for total and adjusted cost\n",
    "df_system_cost_output = pd.DataFrame({\n",
    "    'Total_cost': [total_costs],\n",
    "    'PV_revenue': [total_PV_revenue],\n",
    "    'Total_adjusted_cost': [adjusted_costs]\n",
    "})"
   ]
  },
  {
   "cell_type": "code",
   "execution_count": 23,
   "id": "0eb21b73-892f-4a38-88e7-fcc0855554f2",
   "metadata": {},
   "outputs": [],
   "source": [
    "# Identify columns to drop\n",
    "columns_to_drop_1 = df_output.filter(like='total_costs').columns\n",
    "# Drop the identified columns if any are found\n",
    "if not columns_to_drop_1.empty:\n",
    "    df_output.drop(columns=columns_to_drop_1, inplace=True)\n",
    "\n",
    "#test this and implement an if check\n",
    "columns_to_drop_2 = df_output.filter(like='unit_flow_op').columns\n",
    "# Drop the identified columns if any are found\n",
    "if not columns_to_drop_2.empty:\n",
    "    df_output.drop(columns=columns_to_drop_2, inplace=True)"
   ]
  },
  {
   "cell_type": "markdown",
   "id": "93fa6f46-03f4-4f47-b857-9cd184ed6f72",
   "metadata": {},
   "source": [
    "## calculate LCOE\n",
    "\n",
    "calculation of levelized cost of energy"
   ]
  },
  {
   "cell_type": "markdown",
   "id": "0f84ba6b-2dba-4b27-8042-1b3f6a35274e",
   "metadata": {},
   "source": [
    "### calculate investment cost"
   ]
  },
  {
   "cell_type": "code",
   "execution_count": 24,
   "id": "9605ad7b-3cec-48b4-99be-a44db712dbcd",
   "metadata": {},
   "outputs": [
    {
     "name": "stdout",
     "output_type": "stream",
     "text": [
      "335027343.6369662\n"
     ]
    },
    {
     "name": "stderr",
     "output_type": "stream",
     "text": [
      "C:\\Users\\luc.eco\\AppData\\Local\\Temp\\ipykernel_1696\\1040277338.py:19: SettingWithCopyWarning: \n",
      "A value is trying to be set on a copy of a slice from a DataFrame\n",
      "\n",
      "See the caveats in the documentation: https://pandas.pydata.org/pandas-docs/stable/user_guide/indexing.html#returning-a-view-versus-a-copy\n",
      "  objects_invested_df.iloc[4:] = objects_invested_df.iloc[4:].apply(pd.to_numeric, errors='coerce')\n"
     ]
    }
   ],
   "source": [
    "dict_investments = {}\n",
    "connection_costs = 0\n",
    "unit_costs = 0\n",
    "storage_costs = 0\n",
    "\n",
    "## Check number of slices of roll forward\n",
    "for line_number, line in model_params.iterrows():\n",
    "    if line[\"Parameter\"] == \"roll_forward\":\n",
    "        number_str = ''.join([char for char in line[\"Value\"] if char.isdigit()])\n",
    "        number = int(number_str)\n",
    "        roll_forward_slices = 8760//number\n",
    "        break\n",
    "    else:\n",
    "        roll_forward_slices = 1\n",
    "\n",
    "\n",
    "# Keep only the data of object_invested for each object \n",
    "objects_invested_df = df_output.filter(like='_invested')\n",
    "objects_invested_df.iloc[4:] = objects_invested_df.iloc[4:].apply(pd.to_numeric, errors='coerce')\n",
    "\n",
    "# Create dictionary with total number of object_invested for each object\n",
    "objects_invested_dict = {}\n",
    "for col_name, col_data in objects_invested_df.items():\n",
    "    objects_invested_dict[col_data.iloc[0]] = col_data[3:].loc[(col_data[3:] != 0) & (col_data[3:].notna())].sum()\n",
    "\n",
    "\n",
    "# Convert lifetime of '365D' for example to 365\n",
    "unit_inv_params[\"unit_investment_econ_lifetime\"] = unit_inv_params[\"unit_investment_econ_lifetime\"].astype(str).str.replace('D', '', regex=False).astype(float)\n",
    "con_inv_params[\"connection_investment_econ_lifetime\"] = con_inv_params[\"connection_investment_econ_lifetime\"].astype(str).str.replace('D', '', regex=False).astype(float)\n",
    "stor_inv_params[\"storage_investment_econ_lifetime\"] = stor_inv_params[\"storage_investment_econ_lifetime\"].astype(str).str.replace('D', '', regex=False).astype(float)\n",
    "\n",
    "\n",
    "\n",
    "# Adding investemnt costs of intially investested objects\n",
    "for row_number_con, row_con in con_inv_params.iterrows():\n",
    "    yearly_iv_cost = row_con[\"connection_investment_cost\"]* roll_forward_slices   # Investment costs for full capacity and one year\n",
    "    lifetime = row_con[\"connection_investment_econ_lifetime\"]/365                 # Lifetime of object in years\n",
    "    invested_available = row_con[\"initial_connections_invested_available\"]        # Number of objects initially available for investements \n",
    "    if row_con[\"Object_name\"] in objects_invested_dict:\n",
    "        invested_opt = objects_invested_dict[row_con[\"Object_name\"]]              # Number of objects invested in during optimization\n",
    "    else: \n",
    "        invested_opt = 0\n",
    "    invested_total = invested_available + invested_opt\n",
    "    connection_costs += (invested_total * yearly_iv_cost * lifetime)              # Total investment costs for connections\n",
    "    \n",
    "for row_number_unit, row_unit in unit_inv_params.iterrows():\n",
    "   \n",
    "    yearly_iv_cost = row_unit[\"unit_investment_cost\"]* roll_forward_slices\n",
    "    lifetime = row_unit[\"unit_investment_econ_lifetime\"]/365\n",
    "    invested_available = row_unit[\"initial_units_invested_available\"]\n",
    "    if row_unit[\"Object_name\"] in objects_invested_dict:\n",
    "        invested_opt = objects_invested_dict[row_unit[\"Object_name\"]]\n",
    "    else: \n",
    "        invested_opt = 0\n",
    "    invested_total = invested_available + invested_opt\n",
    "    unit_costs += (invested_total * yearly_iv_cost * lifetime)\n",
    "    \n",
    "for row_number_stor, row_stor in stor_inv_params.iterrows():\n",
    "    yearly_iv_cost = row_stor[\"storage_investment_cost\"]* roll_forward_slices\n",
    "    lifetime = row_stor[\"storage_investment_econ_lifetime\"]/365\n",
    "    invested_available = row_stor[\"initial_storages_invested\"]\n",
    "    if row_stor[\"Object_name\"] in objects_invested_dict:\n",
    "        invested_opt = objects_invested_dict[row_stor[\"Object_name\"]]\n",
    "    else: \n",
    "        invested_opt = 0\n",
    "    invested_total = invested_available + invested_opt\n",
    "    storage_costs += (invested_total * yearly_iv_cost * lifetime)\n",
    "    \n",
    "dict_investments[\"Connection_Investement_Costs\"]  = connection_costs\n",
    "dict_investments[\"Storage_Investement_Costs\"]  = storage_costs\n",
    "dict_investments[\"Unit_Investement_Costs\"]  = unit_costs\n",
    "\n",
    "\n",
    "total_investment = sum(dict_investments.values())\n",
    "print(total_investment)"
   ]
  },
  {
   "cell_type": "markdown",
   "id": "07f195cc",
   "metadata": {},
   "source": [
    "### slacks"
   ]
  },
  {
   "cell_type": "code",
   "execution_count": 25,
   "id": "e5188d2c",
   "metadata": {},
   "outputs": [],
   "source": [
    "# Calculate the slacks\n",
    "node_slack_neg = df_output.filter(like='node_slack_neg')\n",
    "node_slack_pos = df_output.filter(like='node_slack_pos')\n",
    "\n",
    "node_slack_neg_numeric = node_slack_neg.apply(pd.to_numeric, errors='coerce')\n",
    "node_slack_pos_numeric = node_slack_pos.apply(pd.to_numeric, errors='coerce')\n",
    "\n",
    "node_slack_neg_sum = node_slack_neg_numeric.sum().sum()\n",
    "node_slack_pos_sum = node_slack_pos_numeric.sum().sum()\n",
    "\n",
    "total_slack = node_slack_neg_sum + node_slack_pos_sum"
   ]
  },
  {
   "cell_type": "markdown",
   "id": "61ad742f-b940-4a64-a004-914589933af4",
   "metadata": {},
   "source": [
    "### variable costs"
   ]
  },
  {
   "cell_type": "code",
   "execution_count": 26,
   "id": "88f19d29-6149-4c56-b54a-05b77f220e8b",
   "metadata": {},
   "outputs": [],
   "source": [
    "#get annual costs\n",
    "#annual_costs = df_system_cost_output.loc['total_costs_toy__', 'Total_adjusted_cost'] - total_slack\n",
    "annual_costs = adjusted_costs-total_slack\n",
    "#annual cost including PV revenue\n",
    "#annual_costs_with_PV = df_system_cost_output.loc['total_costs_toy__', 'Total_cost'] - total_slack\n",
    "annual_costs_with_PV = total_costs-total_slack"
   ]
  },
  {
   "cell_type": "markdown",
   "id": "00292144-6cc4-4bd4-bf7a-5511be59f75f",
   "metadata": {},
   "source": [
    "### energy output"
   ]
  },
  {
   "cell_type": "code",
   "execution_count": 27,
   "id": "52470cc8-be24-4320-af22-d9ba493bdd9b",
   "metadata": {},
   "outputs": [],
   "source": [
    "#energy output\n",
    "energy_output = df_output.filter(like='dist_tower_to_node_ch3oh')         \n",
    "\n",
    "# Convert strings to numbers, ignoring non-numeric values (relevant as first rows are strings)\n",
    "energy_output_value = pd.to_numeric(energy_output.iloc[:,0], errors='coerce').sum() * 24"
   ]
  },
  {
   "cell_type": "code",
   "execution_count": 28,
   "id": "18ccb250-1289-4be1-9487-1cbf98597a86",
   "metadata": {},
   "outputs": [],
   "source": [
    "#calculation of the present value factor\n",
    "pcf_value = present_value_factor(time_horizon, wacc)\n",
    "\n",
    "LCOE = (total_investment + (annual_costs * pcf_value)) / (energy_output_value * pcf_value)\n",
    "LCOE_PV = (total_investment + (annual_costs_with_PV * pcf_value)) / (energy_output_value * pcf_value)"
   ]
  },
  {
   "cell_type": "code",
   "execution_count": 29,
   "id": "eda9ebff-1e9e-4035-b97d-575969b6c590",
   "metadata": {},
   "outputs": [],
   "source": [
    "#create a pandas data frame with all LCOE information\n",
    "\n",
    "LCOE_GJ = LCOE/3.6\n",
    "LCOE_t = LCOE_GJ*19.9\n",
    "\n",
    "LCOE_GJ_PV = LCOE_PV/3.6\n",
    "LCOE_PV_t = LCOE_GJ_PV*19.9\n",
    "\n",
    "energy_output_value_t = (energy_output_value * 3.6) / 19.9\n",
    "\n",
    "\n",
    "# Create a dictionary with the parameters\n",
    "data_LCOE = {\n",
    "    'LCOE [Euro/MWh]': LCOE,\n",
    "    'LCOE [Euro/t]': LCOE_t,\n",
    "    'total_investment': total_investment,\n",
    "    'annual_costs': annual_costs,\n",
    "    'energy_production [MWh]': energy_output_value,\n",
    "    'energy_production [t]': energy_output_value_t,\n",
    "    'pcf_value': pcf_value,\n",
    "    'run_name': run_name\n",
    "}\n",
    "\n",
    "data_LCOE_PV = {\n",
    "    'LCOE [Euro/MWh]': LCOE_PV,\n",
    "    'LCOE [Euro/t]': LCOE_PV_t,\n",
    "    'total_investment': total_investment,\n",
    "    'annual_costs': annual_costs_with_PV,\n",
    "    'energy_production [MWh]': energy_output_value,\n",
    "    'energy_production [t]': energy_output_value_t,\n",
    "    'pcf_value': pcf_value,\n",
    "    'run_name': run_name + '_PV'\n",
    "}\n",
    "\n",
    "# Convert the dictionary to a DataFrame and set the index to the run name\n",
    "df_LCOE_information = pd.DataFrame([data_LCOE])\n",
    "df_LCOE_information.set_index('run_name', inplace=True)\n",
    "\n",
    "df_LCOE_PV_information = pd.DataFrame([data_LCOE_PV])\n",
    "df_LCOE_PV_information.set_index('run_name', inplace=True)\n",
    "\n",
    "df_LCOE = pd.concat([df_LCOE_information, df_LCOE_PV_information])"
   ]
  },
  {
   "cell_type": "markdown",
   "id": "5ee1b225",
   "metadata": {},
   "source": [
    "### Creating one combined excel and export"
   ]
  },
  {
   "cell_type": "code",
   "execution_count": 30,
   "id": "92a38069",
   "metadata": {},
   "outputs": [
    {
     "data": {
      "text/plain": [
       "\"with pd.ExcelWriter(output_file_path + output_prepared_export) as writer:\\n    df_output.to_excel(writer, sheet_name='flows_node_states')\\n    df_system_cost_output.to_excel(writer, sheet_name='system_costs')\\n    df_LCOE.to_excel(writer, sheet_name='LCOE')\""
      ]
     },
     "execution_count": 30,
     "metadata": {},
     "output_type": "execute_result"
    }
   ],
   "source": [
    "'''with pd.ExcelWriter(output_file_path + output_prepared_export) as writer:\n",
    "    df_output.to_excel(writer, sheet_name='flows_node_states')\n",
    "    df_system_cost_output.to_excel(writer, sheet_name='system_costs')\n",
    "    df_LCOE.to_excel(writer, sheet_name='LCOE')'''"
   ]
  },
  {
   "cell_type": "code",
   "execution_count": 31,
   "id": "79d24bde-6276-4e5a-baa9-a1d01330adc2",
   "metadata": {},
   "outputs": [
    {
     "data": {
      "text/html": [
       "<div>\n",
       "<style scoped>\n",
       "    .dataframe tbody tr th:only-of-type {\n",
       "        vertical-align: middle;\n",
       "    }\n",
       "\n",
       "    .dataframe tbody tr th {\n",
       "        vertical-align: top;\n",
       "    }\n",
       "\n",
       "    .dataframe thead th {\n",
       "        text-align: right;\n",
       "    }\n",
       "</style>\n",
       "<table border=\"1\" class=\"dataframe\">\n",
       "  <thead>\n",
       "    <tr style=\"text-align: right;\">\n",
       "      <th></th>\n",
       "      <th>LCOE [Euro/MWh]</th>\n",
       "      <th>LCOE [Euro/t]</th>\n",
       "      <th>total_investment</th>\n",
       "      <th>annual_costs</th>\n",
       "      <th>energy_production [MWh]</th>\n",
       "      <th>energy_production [t]</th>\n",
       "      <th>pcf_value</th>\n",
       "    </tr>\n",
       "    <tr>\n",
       "      <th>run_name</th>\n",
       "      <th></th>\n",
       "      <th></th>\n",
       "      <th></th>\n",
       "      <th></th>\n",
       "      <th></th>\n",
       "      <th></th>\n",
       "      <th></th>\n",
       "    </tr>\n",
       "  </thead>\n",
       "  <tbody>\n",
       "    <tr>\n",
       "      <th>base_case</th>\n",
       "      <td>7719.282552</td>\n",
       "      <td>42670.478550</td>\n",
       "      <td>3.350273e+08</td>\n",
       "      <td>3.258161e+10</td>\n",
       "      <td>4.225589e+06</td>\n",
       "      <td>764428.149804</td>\n",
       "      <td>9.07704</td>\n",
       "    </tr>\n",
       "    <tr>\n",
       "      <th>base_case_PV</th>\n",
       "      <td>7721.037963</td>\n",
       "      <td>42680.182076</td>\n",
       "      <td>3.350273e+08</td>\n",
       "      <td>3.258902e+10</td>\n",
       "      <td>4.225589e+06</td>\n",
       "      <td>764428.149804</td>\n",
       "      <td>9.07704</td>\n",
       "    </tr>\n",
       "  </tbody>\n",
       "</table>\n",
       "</div>"
      ],
      "text/plain": [
       "              LCOE [Euro/MWh]  LCOE [Euro/t]  total_investment  annual_costs  \\\n",
       "run_name                                                                       \n",
       "base_case         7719.282552   42670.478550      3.350273e+08  3.258161e+10   \n",
       "base_case_PV      7721.037963   42680.182076      3.350273e+08  3.258902e+10   \n",
       "\n",
       "              energy_production [MWh]  energy_production [t]  pcf_value  \n",
       "run_name                                                                 \n",
       "base_case                4.225589e+06          764428.149804    9.07704  \n",
       "base_case_PV             4.225589e+06          764428.149804    9.07704  "
      ]
     },
     "execution_count": 31,
     "metadata": {},
     "output_type": "execute_result"
    }
   ],
   "source": [
    "df_LCOE"
   ]
  },
  {
   "cell_type": "markdown",
   "id": "75137946-e85a-4989-ac9d-e31df2015007",
   "metadata": {},
   "source": [
    "### Calculation of Carbon contract for Difference (CCfD)-price"
   ]
  },
  {
   "cell_type": "code",
   "execution_count": 42,
   "id": "33187ecc-9a0a-4167-b273-4be3131ccb69",
   "metadata": {},
   "outputs": [],
   "source": [
    "monthly_co2_prices_2019 = [23.27, 19.59, 21.13, 26.96, 25.41, 25.03, 28.5, 26.51, 26.22, 25.62, 23.88, 26.12] # https://sandbag.be/carbon-price-viewer/"
   ]
  },
  {
   "cell_type": "code",
   "execution_count": 56,
   "id": "3a846098-1ed1-4424-af9e-f9918505203e",
   "metadata": {},
   "outputs": [
    {
     "name": "stdout",
     "output_type": "stream",
     "text": [
      "530.0938214883944 313.21897104570473 313.2189710457046\n"
     ]
    }
   ],
   "source": [
    "# methanol data for calculations\n",
    "demand_daily_Wh = 20.1928*10**6                          # Wh\n",
    "price_methanol = 360                                     # €/tonne        (https://www.methanex.com/sites/default/files/methanol-price/Mx-Price-Sheet%20-%20Jan%2029%2C%202019.pdf)\n",
    "price_per_co2_2019 = sum(monthly_co2_prices_2019)/12     # €/(t*CO2-eq)\n",
    "energy_density = 19.9*10**9                              # J/tonne\n",
    "co2_equiv = 105*10**(-12)                                # t*CO2-eq/J\n",
    "\n",
    "# Daily demand\n",
    "demand_daily_J = demand_daily_Wh*3600\n",
    "demand_daily_t = demand_daily_J/energy_density\n",
    "\n",
    "# CO2-eq. per daily methanol and per tonne methanol\n",
    "co2_per_day = co2_equiv * demand_daily_J\n",
    "co2_per_tonne = co2_per_day / demand_daily_t\n",
    "\n",
    "# Methanol price excluding CO2 price to have the production costs\n",
    "costs_methanol = price_methanol - price_per_co2_2019* co2_per_tonne    # €/tonne\n",
    "daily_costs_conventional_M = costs_methanol * demand_daily_t           # €\n",
    "\n",
    "# Costs for modelled methanol per day\n",
    "#daily_costs_renewable_M_2019 = LCOE_t * demand_daily_t                       #€\n",
    "daily_costs_renewable_M_2019 = 1415.7 * demand_daily_t                        #€\n",
    "daily_costs_renewable_M_2050 = 962.54 * demand_daily_t                        #€\n",
    "\n",
    "# Cost and Emission differences \n",
    "Delta_costs_2019 = daily_costs_renewable_M_2019 - daily_costs_conventional_M\n",
    "Delta_costs_2050 = daily_costs_renewable_M_2050 - daily_costs_conventional_M\n",
    "Delta_emissions = co2_per_day\n",
    "\n",
    "# CCfD price\n",
    "CCfD_2019 = Delta_costs_2019/Delta_emissions\n",
    "CCfD_2050 = Delta_costs_2050/Delta_emissions\n",
    "\n",
    "# Necessary CO_2 price for 2050 if no CCfD\n",
    "LCOE_t_2050 = 962.54\n",
    "price_per_co2_2050 = -(costs_methanol-LCOE_t_2050)/co2_per_tonne \n",
    "\n",
    "print(CCfD_2019, CCfD_2050, price_per_co2_2050)"
   ]
  },
  {
   "cell_type": "code",
   "execution_count": 59,
   "id": "c9fbc9a1-0a83-4ad4-9473-87f91acec118",
   "metadata": {},
   "outputs": [
    {
     "data": {
      "image/png": "[encoded data removed]",
      "text/plain": [
       "<Figure size 1000x600 with 1 Axes>"
      ]
     },
     "metadata": {},
     "output_type": "display_data"
    }
   ],
   "source": [
    "#Plotting CCfD for years 2020-2050\n",
    "co2_prices_forecast = np.arange(25, 285, (260/30))\n",
    "linear_CCfD = np.arange(CCfD_2019, CCfD_2050, ((CCfD_2050-CCfD_2019)/30))\n",
    "years = np.arange(2020, 2051, 1)\n",
    "\n",
    "# Plotting the data\n",
    "plt.figure(figsize=(10, 6))\n",
    "plt.plot(years[:len(linear_CCfD)], linear_CCfD, marker='o', color='b', label=\"CCfD Payment Forecast\")\n",
    "\n",
    "# Set the x-axis to show every fifth year\n",
    "plt.xticks(np.arange(2020, 2051, 5))\n",
    "\n",
    "# Labeling\n",
    "plt.xlabel(\"Year\")\n",
    "plt.ylabel(\"CCfD Payment Forecast\")\n",
    "plt.title(\"CCfD Payment Forecast from 2020 to 2050\")\n",
    "plt.legend()\n",
    "plt.grid(True)\n",
    "plt.show()\n",
    "\n"
   ]
  },
  {
   "cell_type": "code",
   "execution_count": null,
   "id": "fd36141d-5fff-4511-ad96-b27c464b2269",
   "metadata": {},
   "outputs": [],
   "source": []
  }
 ],
 "metadata": {
  "kernelspec": {
   "display_name": "Python 3 (ipykernel)",
   "language": "python",
   "name": "python3"
  },
  "language_info": {
   "codemirror_mode": {
    "name": "ipython",
    "version": 3
   },
   "file_extension": ".py",
   "mimetype": "text/x-python",
   "name": "python",
   "nbconvert_exporter": "python",
   "pygments_lexer": "ipython3",
   "version": "3.9.19"
  }
 },
 "nbformat": 4,
 "nbformat_minor": 5
}
