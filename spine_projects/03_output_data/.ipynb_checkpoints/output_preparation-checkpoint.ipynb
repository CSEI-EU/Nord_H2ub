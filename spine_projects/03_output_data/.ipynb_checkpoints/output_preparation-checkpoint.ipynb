{
 "cells": [
  {
   "cell_type": "markdown",
   "id": "1c3b89db",
   "metadata": {},
   "source": [
    "# Output Preparation for the Nord_H2ub Spine Model"
   ]
  },
  {
   "cell_type": "markdown",
   "id": "98756f88",
   "metadata": {},
   "source": [
    "This jupyter notebook contains all routines for the preparation of the input data sources into a input data file for the model in Spine.\n",
    "\n",
    "Authors: Johannes Giehl (jfg.eco@cbs.dk), Dana J. Hentschel (djh.eco@cbs.dk), Lucia Ciprian (luc.eco@cbs.dk)"
   ]
  },
  {
   "cell_type": "markdown",
   "id": "ddde8c69",
   "metadata": {},
   "source": [
    "## General settings"
   ]
  },
  {
   "cell_type": "markdown",
   "id": "230fb0d6",
   "metadata": {},
   "source": [
    "### Packages:"
   ]
  },
  {
   "cell_type": "code",
   "execution_count": 1,
   "id": "92e386b9",
   "metadata": {},
   "outputs": [],
   "source": [
    "import pandas as pd\n",
    "import os\n",
    "import openpyxl\n",
    "import numpy as np"
   ]
  },
  {
   "cell_type": "code",
   "execution_count": 2,
   "id": "a91e42e2-c60f-4f07-8ad7-2f54f20911a1",
   "metadata": {},
   "outputs": [],
   "source": [
    "def present_value_factor(n, r):\n",
    "    \"\"\"\n",
    "    Calculate the present value factor of an annuity (Rentenbarwertfaktor).\n",
    "\n",
    "    Parameters:\n",
    "    n (int): The number of periods (time horizon).\n",
    "    r (float): The discount rate (WACC).\n",
    "\n",
    "    Returns:\n",
    "    float: The present value factor of the annuity.\n",
    "    \"\"\"\n",
    "    if r == 0:\n",
    "        return n\n",
    "    else:\n",
    "        return (1 - (1 + r) ** -n) / r"
   ]
  },
  {
   "cell_type": "markdown",
   "id": "86f45aa4-1dbc-483f-a682-bbb73b0bf6aa",
   "metadata": {},
   "source": [
    "### define parameters"
   ]
  },
  {
   "cell_type": "code",
   "execution_count": 3,
   "id": "927cbddd-f9a5-4746-b0ea-cf9ffdafbea6",
   "metadata": {},
   "outputs": [],
   "source": [
    "#define if the model should use the last spine optimization results or a specific file\n",
    "last_model_run = False # True or False\n",
    "\n",
    "#set names of specific files\n",
    "run_name = 'constant_efficiency'\n",
    "specific_file_name = 'Output_exported_' + run_name +'.xlsx'\n",
    "\n",
    "#output files of this script\n",
    "#file names to store the prepared output\n",
    "output_prepared_export = 'output_base_run.xlsx'"
   ]
  },
  {
   "cell_type": "code",
   "execution_count": 4,
   "id": "3e359b2e-26e6-42d1-872d-60ad48a0348c",
   "metadata": {},
   "outputs": [],
   "source": [
    "#parameters for present_value_factor calculation\n",
    "time_horizon = 25  # Number of periods (years)\n",
    "wacc = 0.05        # Discount rate\n",
    "starting_year = \"2020\"\n",
    "#os.chdir('C:/Users/luc.eco/OneDrive - CBS - Copenhagen Business School/Documents/GitHub/Nord_H2ub/Spine_Projects/03_output_data')"
   ]
  },
  {
   "cell_type": "markdown",
   "id": "24bfae1e-39ac-470c-bdc0-bfb255f2780f",
   "metadata": {},
   "source": [
    "### define variables"
   ]
  },
  {
   "cell_type": "code",
   "execution_count": 5,
   "id": "d15f75c8-69dc-4c75-9983-a0f5cdb5763a",
   "metadata": {},
   "outputs": [],
   "source": [
    "#TBA"
   ]
  },
  {
   "cell_type": "markdown",
   "id": "65afa152",
   "metadata": {},
   "source": [
    "### File paths:"
   ]
  },
  {
   "cell_type": "code",
   "execution_count": 6,
   "id": "619a209a",
   "metadata": {},
   "outputs": [],
   "source": [
    "#get path of latest spine results\n",
    "#parent folder\n",
    "parent_folder_results = '../02_basic_energy_model/.spinetoolbox/items/exporter/output'\n",
    "folders = [f for f in os.listdir(parent_folder_results) if os.path.isdir(os.path.join(parent_folder_results, f))]\n",
    "if not folders:\n",
    "    print(\"No folders found.\")\n",
    "else:\n",
    "    latest_folder = max(folders, key=lambda x: os.path.getmtime(os.path.join(parent_folder_results, x)))\n",
    "    latest_folder_path = os.path.join(parent_folder_results, latest_folder)\n",
    "latest_folder_path = latest_folder_path.replace('\\\\', '/')\n",
    "folder_path_results = latest_folder_path\n",
    "folder_path_results += '/'\n",
    "\n",
    "#get the information of the prepared input data that is used for the spine optimization\n",
    "prepared_input_file_path = os.path.join('..', '01_input_data', '02_input_prepared')\n",
    "\n",
    "#path to files from specific runs\n",
    "path_specific_runs = '02_runs_EURO/01_output_raw/'\n",
    "\n",
    "#prepared output data export to\n",
    "output_file_path = '../03_output_data/01_basic_energy_model_outputs/'"
   ]
  },
  {
   "cell_type": "code",
   "execution_count": 7,
   "id": "bf67eba6",
   "metadata": {},
   "outputs": [],
   "source": [
    "#set the name of the relevant files\n",
    "#input files for this script\n",
    "\n",
    "#file name export from SpineToolbox\n",
    "output_exported_file = 'Output_exported.xlsx'\n",
    "\n",
    "#input file used for the optimization\n",
    "data_from_inputs = '\\methanol_Input_prepared.xlsx'\n",
    "\n",
    "#this way of the output data preparation must be changed\n",
    "#the information is manually added to the input xlsx and does not exist in the automated input generation\n",
    "data_from_inputs_temporary = '\\methanol_Input_prepared_for_output_temporary.xlsx'"
   ]
  },
  {
   "cell_type": "code",
   "execution_count": 8,
   "id": "836c4970-3077-40a1-9856-6806c5d04d6b",
   "metadata": {},
   "outputs": [],
   "source": [
    "#combine input path and files\n",
    "#to input files\n",
    "file_path_data_from_inputs  = prepared_input_file_path + data_from_inputs\n",
    "full_path_data_from_inputs = os.path.abspath(os.path.join(os.getcwd(), file_path_data_from_inputs))\n",
    "\n",
    "#to specific files\n",
    "full_path_specific_files = path_specific_runs + specific_file_name\n",
    "\n",
    "#for temporary appraoch\n",
    "file_path_data_from_inputs_temporary  = prepared_input_file_path + data_from_inputs_temporary\n",
    "full_path_data_from_inputs_temporary = os.path.abspath(os.path.join(os.getcwd(), file_path_data_from_inputs_temporary))"
   ]
  },
  {
   "cell_type": "markdown",
   "id": "fb235bf6",
   "metadata": {},
   "source": [
    "## Workflow of the data preparation"
   ]
  },
  {
   "cell_type": "markdown",
   "id": "91613263",
   "metadata": {},
   "source": [
    "### Data Import"
   ]
  },
  {
   "cell_type": "code",
   "execution_count": 9,
   "id": "236dcad8",
   "metadata": {},
   "outputs": [
    {
     "name": "stderr",
     "output_type": "stream",
     "text": [
      "C:\\Users\\jfg.eco\\AppData\\Local\\anaconda3\\Lib\\site-packages\\openpyxl\\worksheet\\_read_only.py:79: UserWarning: Data Validation extension is not supported and will be removed\n",
      "  for idx, row in parser.parse():\n",
      "C:\\Users\\jfg.eco\\AppData\\Local\\anaconda3\\Lib\\site-packages\\openpyxl\\worksheet\\_read_only.py:79: UserWarning: Data Validation extension is not supported and will be removed\n",
      "  for idx, row in parser.parse():\n"
     ]
    }
   ],
   "source": [
    "if last_model_run == True:\n",
    "    df_output_raw = pd.read_excel(os.path.join(folder_path_results + output_exported_file), sheet_name=-1)\n",
    "else:\n",
    "    df_output_raw = pd.read_excel(full_path_specific_files)\n",
    "\n",
    "df_PV_prices = pd.read_excel(file_path_data_from_inputs, sheet_name='Energy_prices')\n",
    "df_model_definition = pd.read_excel(full_path_data_from_inputs_temporary, sheet_name='Definition')\n",
    "df_units = pd.read_excel('../01_input_data/01_input_raw/methanol/Model_Data_Base.xlsx', sheet_name='Units')\n",
    "df_storages = pd.read_excel('../01_input_data/01_input_raw/methanol/Model_Data_Base.xlsx', sheet_name='Storages')\n",
    "#the next one seems to cause an issue\n",
    "df_investment_costs = pd.read_excel('../01_input_data/01_input_raw/investment_cost_overview/investment_cost_overview.xlsx', sheet_name='Investment_Cost')\n",
    "df_model_mapping = pd.read_excel('../01_input_data/02_input_prepared/methanol_object_mapping.xlsx', sheet_name='Object_Mapping')"
   ]
  },
  {
   "cell_type": "markdown",
   "id": "8cd08ef9-da8a-4ca6-9b92-1fd94803b09c",
   "metadata": {},
   "source": [
    "### data frame preparation"
   ]
  },
  {
   "cell_type": "code",
   "execution_count": 10,
   "id": "ccfe8c51-e998-4097-8581-de729189a451",
   "metadata": {},
   "outputs": [],
   "source": [
    "#create a copy of the original output DataFrame\n",
    "df_output = df_output_raw.copy()\n",
    "\n",
    "# Replace NaN values with empty strings in the first three rows\n",
    "df_output.iloc[:3] = df_output.iloc[:3].fillna('')\n",
    "\n",
    "# Combine the old header with the strings from the first three rows for each column\n",
    "new_headers = df_output.columns + '_' + df_output.iloc[0] + '_' + df_output.iloc[1] + '_' + df_output.iloc[2]\n",
    "\n",
    "# Set the new headers\n",
    "df_output.columns = new_headers\n",
    "\n",
    "# Drop the first three rows\n",
    "#might be helpful bot not implemented now\n",
    "#df_output = df_output.drop([0, 1, 2])\n",
    "\n",
    "# Reset the index\n",
    "df_output.reset_index(drop=True, inplace=True)\n",
    "\n",
    "# Rename the first column to \"timeseries\"\n",
    "df_output.columns.values[0] = \"timeseries\""
   ]
  },
  {
   "cell_type": "markdown",
   "id": "97c2942e-e16d-4fac-9aa7-d9a07739a075",
   "metadata": {},
   "source": [
    "### data adjustments"
   ]
  },
  {
   "cell_type": "code",
   "execution_count": 11,
   "id": "befc6f2a",
   "metadata": {},
   "outputs": [],
   "source": [
    "#calculate revenues from PV sales on the wholesale market\n",
    "selected_column_name = None\n",
    "for column_index in range(len(df_output.columns)):\n",
    "    if df_output.iloc[0, column_index] == 'power_line_Wholesale_Kasso' \\\n",
    "        and df_output.iloc[1, column_index] == 'to_node' \\\n",
    "        and df_output.iloc[2, column_index] == 'Power_Wholesale':\n",
    "        selected_column_name = df_output.columns[column_index]\n",
    "        break\n",
    "\n",
    "if selected_column_name:\n",
    "    df_output['Revenue_from_PV'] = df_output[selected_column_name].iloc[3:] * df_PV_prices['Power_Wholesale_Out'].iloc[4]\n",
    "else:\n",
    "    print(\"Column with specified headers not found in output.\")"
   ]
  },
  {
   "cell_type": "code",
   "execution_count": 12,
   "id": "5054c581",
   "metadata": {},
   "outputs": [],
   "source": [
    "#get total cost of the system\n",
    "total_costs = df_output.filter(like='costs').iloc[3]\n",
    "#get total revenue form PV power sale (times -1 is relevant as the input is structured that negative prices for exports reduce total cost). \n",
    "total_PV_revenue = df_output['Revenue_from_PV'].sum()*(-1)\n",
    "#calculate cost without PV revenue\n",
    "adjusted_costs = total_costs - (total_PV_revenue * (-1))\n",
    "\n",
    "#create separate DataFrame for total and adjusted cost\n",
    "df_system_cost_output = pd.DataFrame()\n",
    "df_system_cost_output['Total_cost'] = total_costs\n",
    "df_system_cost_output['PV_revenue'] = total_PV_revenue\n",
    "df_system_cost_output['Total_adjusted_cost'] = adjusted_costs"
   ]
  },
  {
   "cell_type": "code",
   "execution_count": 13,
   "id": "0eb21b73-892f-4a38-88e7-fcc0855554f2",
   "metadata": {},
   "outputs": [],
   "source": [
    "# Identify columns to drop\n",
    "columns_to_drop_1 = df_output.filter(like='costs').columns\n",
    "# Drop the identified columns if any are found\n",
    "if not columns_to_drop_1.empty:\n",
    "    df_output.drop(columns=columns_to_drop_1, inplace=True)\n",
    "\n",
    "#test this and implement an if check\n",
    "columns_to_drop_2 = df_output.filter(like='unit_flow_op').columns\n",
    "# Drop the identified columns if any are found\n",
    "if not columns_to_drop_2.empty:\n",
    "    df_output.drop(columns=columns_to_drop_2, inplace=True)"
   ]
  },
  {
   "cell_type": "markdown",
   "id": "93fa6f46-03f4-4f47-b857-9cd184ed6f72",
   "metadata": {},
   "source": [
    "## calculate LCOE\n",
    "\n",
    "calculation of levelized cost of energy"
   ]
  },
  {
   "cell_type": "markdown",
   "id": "0f84ba6b-2dba-4b27-8042-1b3f6a35274e",
   "metadata": {},
   "source": [
    "### calculate investment cost"
   ]
  },
  {
   "cell_type": "code",
   "execution_count": 14,
   "id": "6605f7d3",
   "metadata": {},
   "outputs": [
    {
     "data": {
      "text/html": [
       "<div>\n",
       "<style scoped>\n",
       "    .dataframe tbody tr th:only-of-type {\n",
       "        vertical-align: middle;\n",
       "    }\n",
       "\n",
       "    .dataframe tbody tr th {\n",
       "        vertical-align: top;\n",
       "    }\n",
       "\n",
       "    .dataframe thead th {\n",
       "        text-align: right;\n",
       "    }\n",
       "</style>\n",
       "<table border=\"1\" class=\"dataframe\">\n",
       "  <thead>\n",
       "    <tr style=\"text-align: right;\">\n",
       "      <th></th>\n",
       "      <th>Object_Name</th>\n",
       "      <th>Category</th>\n",
       "      <th>Object_type</th>\n",
       "    </tr>\n",
       "  </thead>\n",
       "  <tbody>\n",
       "    <tr>\n",
       "      <th>0</th>\n",
       "      <td>Solar_Plant_Kasso</td>\n",
       "      <td>unit</td>\n",
       "      <td>PV_plant</td>\n",
       "    </tr>\n",
       "    <tr>\n",
       "      <th>1</th>\n",
       "      <td>Electrolyzer</td>\n",
       "      <td>unit</td>\n",
       "      <td>Electrolyzer PEM</td>\n",
       "    </tr>\n",
       "    <tr>\n",
       "      <th>2</th>\n",
       "      <td>CO2_Vaporizer</td>\n",
       "      <td>unit</td>\n",
       "      <td>CO2_Vaporizer</td>\n",
       "    </tr>\n",
       "    <tr>\n",
       "      <th>3</th>\n",
       "      <td>Destilation_Tower</td>\n",
       "      <td>unit</td>\n",
       "      <td>Destilation_Tower</td>\n",
       "    </tr>\n",
       "    <tr>\n",
       "      <th>4</th>\n",
       "      <td>Methanol_Reactor</td>\n",
       "      <td>unit</td>\n",
       "      <td>Methanol_Reactor</td>\n",
       "    </tr>\n",
       "    <tr>\n",
       "      <th>5</th>\n",
       "      <td>Steam_Plant</td>\n",
       "      <td>unit</td>\n",
       "      <td>Steam_Plant</td>\n",
       "    </tr>\n",
       "    <tr>\n",
       "      <th>6</th>\n",
       "      <td>Water</td>\n",
       "      <td>node</td>\n",
       "      <td>Water</td>\n",
       "    </tr>\n",
       "    <tr>\n",
       "      <th>7</th>\n",
       "      <td>E-Methanol_storage_Kasso</td>\n",
       "      <td>node</td>\n",
       "      <td>Methanol storage</td>\n",
       "    </tr>\n",
       "    <tr>\n",
       "      <th>8</th>\n",
       "      <td>Raw_Methanol</td>\n",
       "      <td>node</td>\n",
       "      <td>Raw_Methanol</td>\n",
       "    </tr>\n",
       "    <tr>\n",
       "      <th>9</th>\n",
       "      <td>Power_Wholesale</td>\n",
       "      <td>node</td>\n",
       "      <td>Power_Wholesale</td>\n",
       "    </tr>\n",
       "    <tr>\n",
       "      <th>10</th>\n",
       "      <td>Hydrogen_storage_Kasso</td>\n",
       "      <td>node</td>\n",
       "      <td>Hydrogen storage</td>\n",
       "    </tr>\n",
       "    <tr>\n",
       "      <th>11</th>\n",
       "      <td>Steam</td>\n",
       "      <td>node</td>\n",
       "      <td>Steam</td>\n",
       "    </tr>\n",
       "    <tr>\n",
       "      <th>12</th>\n",
       "      <td>Waste_Heat</td>\n",
       "      <td>node</td>\n",
       "      <td>Waste_Heat</td>\n",
       "    </tr>\n",
       "    <tr>\n",
       "      <th>13</th>\n",
       "      <td>E-Methanol_Kasso</td>\n",
       "      <td>node</td>\n",
       "      <td>E-Methanol_Kasso</td>\n",
       "    </tr>\n",
       "    <tr>\n",
       "      <th>14</th>\n",
       "      <td>Carbon_Dioxide</td>\n",
       "      <td>node</td>\n",
       "      <td>Carbon_Dioxide</td>\n",
       "    </tr>\n",
       "    <tr>\n",
       "      <th>15</th>\n",
       "      <td>Vaporized_Carbon_Dioxide</td>\n",
       "      <td>node</td>\n",
       "      <td>Vaporized_Carbon_Dioxide</td>\n",
       "    </tr>\n",
       "    <tr>\n",
       "      <th>16</th>\n",
       "      <td>Hydrogen_Kasso</td>\n",
       "      <td>node</td>\n",
       "      <td>Hydrogen_Kasso</td>\n",
       "    </tr>\n",
       "    <tr>\n",
       "      <th>17</th>\n",
       "      <td>District_Heating</td>\n",
       "      <td>node</td>\n",
       "      <td>District_Heating</td>\n",
       "    </tr>\n",
       "    <tr>\n",
       "      <th>18</th>\n",
       "      <td>Power_Kasso</td>\n",
       "      <td>node</td>\n",
       "      <td>Power_Kasso</td>\n",
       "    </tr>\n",
       "    <tr>\n",
       "      <th>19</th>\n",
       "      <td>power_line_Wholesale_Kasso</td>\n",
       "      <td>connection</td>\n",
       "      <td>power_line_Wholesale_Kasso</td>\n",
       "    </tr>\n",
       "    <tr>\n",
       "      <th>20</th>\n",
       "      <td>pipeline_storage_hydrogen</td>\n",
       "      <td>connection</td>\n",
       "      <td>pipeline_storage_hydrogen</td>\n",
       "    </tr>\n",
       "    <tr>\n",
       "      <th>21</th>\n",
       "      <td>pipeline_storage_e-methanol</td>\n",
       "      <td>connection</td>\n",
       "      <td>pipeline_storage_e-methanol</td>\n",
       "    </tr>\n",
       "    <tr>\n",
       "      <th>22</th>\n",
       "      <td>pipeline_District_Heating</td>\n",
       "      <td>connection</td>\n",
       "      <td>pipeline_District_Heating</td>\n",
       "    </tr>\n",
       "  </tbody>\n",
       "</table>\n",
       "</div>"
      ],
      "text/plain": [
       "                    Object_Name    Category                  Object_type\n",
       "0             Solar_Plant_Kasso        unit                     PV_plant\n",
       "1                  Electrolyzer        unit             Electrolyzer PEM\n",
       "2                 CO2_Vaporizer        unit                CO2_Vaporizer\n",
       "3             Destilation_Tower        unit            Destilation_Tower\n",
       "4              Methanol_Reactor        unit             Methanol_Reactor\n",
       "5                   Steam_Plant        unit                  Steam_Plant\n",
       "6                         Water        node                        Water\n",
       "7      E-Methanol_storage_Kasso        node             Methanol storage\n",
       "8                  Raw_Methanol        node                 Raw_Methanol\n",
       "9               Power_Wholesale        node              Power_Wholesale\n",
       "10       Hydrogen_storage_Kasso        node             Hydrogen storage\n",
       "11                        Steam        node                        Steam\n",
       "12                   Waste_Heat        node                   Waste_Heat\n",
       "13             E-Methanol_Kasso        node             E-Methanol_Kasso\n",
       "14               Carbon_Dioxide        node               Carbon_Dioxide\n",
       "15     Vaporized_Carbon_Dioxide        node     Vaporized_Carbon_Dioxide\n",
       "16               Hydrogen_Kasso        node               Hydrogen_Kasso\n",
       "17             District_Heating        node             District_Heating\n",
       "18                  Power_Kasso        node                  Power_Kasso\n",
       "19   power_line_Wholesale_Kasso  connection   power_line_Wholesale_Kasso\n",
       "20    pipeline_storage_hydrogen  connection    pipeline_storage_hydrogen\n",
       "21  pipeline_storage_e-methanol  connection  pipeline_storage_e-methanol\n",
       "22    pipeline_District_Heating  connection    pipeline_District_Heating"
      ]
     },
     "execution_count": 14,
     "metadata": {},
     "output_type": "execute_result"
    }
   ],
   "source": [
    "df_model_definition"
   ]
  },
  {
   "cell_type": "code",
   "execution_count": 15,
   "id": "9605ad7b-3cec-48b4-99be-a44db712dbcd",
   "metadata": {},
   "outputs": [
    {
     "name": "stdout",
     "output_type": "stream",
     "text": [
      "{'investment_Solar_Plant_Kasso': 170240000.0, 'investment_Electrolyzer': 98800000.0, 'investment_CO2_Vaporizer': 50000000.0, 'investment_Methanol_Reactor': 55809000.00000001, 'investment_Steam_Plant': 15000000.0, 'investment_Hydrogen_storage_Kasso': 662.9198505112057, 'investment_E-Methanol_storage_Kasso': 0.3685092127303183}\n",
      "389849663.28835976\n"
     ]
    }
   ],
   "source": [
    "#implementation of either from the existing capacity as input from the model\n",
    "#or if no input capacity is defined as max capacity used in the model\n",
    "\n",
    "dict_investments = {}\n",
    "    \n",
    "for index_mapping, row_mapping in df_model_mapping.iterrows():\n",
    "    investment = 0\n",
    "    # Check if object is a unit\n",
    "    for index_definition, row_definition in df_model_definition.iterrows():\n",
    "        if row_definition[\"Category\"] == \"unit\" and row_definition[\"Object_Name\"]==row_mapping[\"Object_Name\"]:\n",
    "            for index_units, row_units in df_units.iterrows():   \n",
    "                # Find capacities of units\n",
    "\n",
    "                if row_mapping[\"Object_Name\"] == \"Destilation_Tower\":\n",
    "                    break # to not calculate the costs twice as investment costs are for Destilation Tower and Methanol Reactor combined\n",
    "                if row_mapping[\"Object_Name\"] == row_units[\"Unit\"]:\n",
    "                    # If no capacity is given, find the maximum needed capacity calculated by the model\n",
    "                    if pd.isnull(row_units[\"Cap_Input1_existing\"]) and pd.isnull(row_units[\"Cap_Output1_existing\"]):\n",
    "                        for index_output, column_name in enumerate(df_output_raw.columns):\n",
    "                            if \"unit_flow\" in column_name:\n",
    "                                # Exception: Capacity of Methanol plant, ToDo: Change capacity so it's not hard-coded \n",
    "                                if row_mapping[\"Object_type\"] == \"Methanol_Plant\":\n",
    "                                    if df_output_raw.iloc[0, index_output] == \"Destilation_Tower\" and df_output_raw.iloc[2, index_output]==\"Raw_Methanol\":\n",
    "                                        df_output_raw.loc[3:, column_name] = df_output_raw.loc[3:, column_name].astype(float)\n",
    "                                        cap = df_output_raw.loc[3:,column_name].max()*0.795\n",
    "                                        \n",
    "                                # Capacities for other units\n",
    "                                elif row_mapping[\"Object_Name\"] == df_output_raw.iloc[0, index_output]:\n",
    "                                    if \"Power\" in df_output_raw.iloc[2, index_output]:\n",
    "                                        df_output_raw.loc[3:, column_name] = df_output_raw.loc[3:, column_name].astype(float)\n",
    "                                        cap = df_output_raw.loc[3:,column_name].max()\n",
    "    \n",
    "                    # If capacity is known, choose it to calculate investment costs\n",
    "                    else:   \n",
    "                        if not pd.isnull(row_units[\"Cap_Input1_existing\"]):\n",
    "                            cap = row_units[\"Cap_Input1_existing\"]\n",
    "                        else:\n",
    "                            cap = row_units[\"Cap_Output1_existing\"]\n",
    "\n",
    "                    # Calculate investment cost\n",
    "                    for index_costs, row_costs in df_investment_costs.iterrows():\n",
    "                        if row_costs[\"Object_type\"] == row_mapping[\"Object_type\"]:\n",
    "                            costs_per_energy = row_costs[f\"Investment_Cost [Euro/MW or MWh] Value {starting_year}\"]\n",
    "                    investment = cap * costs_per_energy\n",
    "                    dict_investments[f\"investment_{row_mapping['Object_Name']}\"] = investment\n",
    "                 \n",
    "    \n",
    "    # Check if object is a storage   \n",
    "    if \"storage\" in row_mapping[\"Object_type\"].lower():\n",
    "        for index_storages, row_storages in df_storages.iterrows():\n",
    "            # Find capacities of storages\n",
    "            if row_storages[\"Storage\"] == row_mapping[\"Object_Name\"]:\n",
    "                # If no capacity is given, find the maximum needed capacity calculated by the model\n",
    "                if pd.isnull(row_storages[\"node_state_cap\"]):  \n",
    "                    for index_output, column_name in enumerate(df_output_raw.columns):\n",
    "                        if \"node_state\" in column_name:\n",
    "                            if row_mapping[\"Object_Name\"] == df_output_raw.iloc[0, index_output]:\n",
    "                                df_output_raw.loc[3:, column_name] = df_output_raw.loc[3:, column_name].astype(float)\n",
    "                                cap = df_output_raw.loc[3:,column_name].max()\n",
    "                                \n",
    "                # If capacity is known, choose it to calculate investment costs\n",
    "                else:   \n",
    "                    cap = row_storages[\"node_state_cap\"]\n",
    "\n",
    "                # Calculate investment cost\n",
    "                for index_costs, row_costs in df_investment_costs.iterrows():\n",
    "                    if row_costs[\"Object_type\"] == row_mapping[\"Object_type\"]:\n",
    "                        costs_per_energy = row_costs[f\"Investment_Cost [Euro/MW or MWh] Value {starting_year}\"]\n",
    "                investment = cap * costs_per_energy\n",
    "                dict_investments[f\"investment_{row_mapping['Object_Name']}\"] = investment\n",
    "    \n",
    "    \n",
    "\n",
    "print(dict_investments)\n",
    "total_investment = sum(dict_investments.values())\n",
    "print(total_investment)\n",
    "\n",
    "#electrolysis\n",
    "#investment_electrolysis = 50000000\n",
    "\n",
    "#methanol plant\n",
    "#investment_methanol = 50000000\n",
    "\n",
    "#hydrogen storage\n",
    "#investment_hydrogen_storage = 50000000\n",
    "\n",
    "#hydrogen storage\n",
    "#investment_methanol_storage = 50000000\n",
    "\n",
    "#further components like CO2 vaporizer, steam engine etc. \n",
    "#relevant to have a routine that identifies the units automatically. \n",
    "\n",
    "\n",
    "# changes made in excel sheets:\n",
    "# methanol input prep file: object_type was added\n",
    "# unit investment costs for detilation tower changed from see methanol reactor to values of methanol reactor\n",
    "# To adjust:\n",
    "# unit investment costs for each object type and uniform units (€/kW, €/MW ?) \n",
    "# delete Calculation of investment for destilation tower?\n",
    "# Steam_Plant investments costs?"
   ]
  },
  {
   "cell_type": "code",
   "execution_count": 16,
   "id": "4c1124e8-754f-4ab5-8365-39f01ed40e74",
   "metadata": {},
   "outputs": [
    {
     "data": {
      "text/html": [
       "<div>\n",
       "<style scoped>\n",
       "    .dataframe tbody tr th:only-of-type {\n",
       "        vertical-align: middle;\n",
       "    }\n",
       "\n",
       "    .dataframe tbody tr th {\n",
       "        vertical-align: top;\n",
       "    }\n",
       "\n",
       "    .dataframe thead th {\n",
       "        text-align: right;\n",
       "    }\n",
       "</style>\n",
       "<table border=\"1\" class=\"dataframe\">\n",
       "  <thead>\n",
       "    <tr style=\"text-align: right;\">\n",
       "      <th></th>\n",
       "      <th>Total_cost</th>\n",
       "      <th>PV_revenue</th>\n",
       "      <th>Total_adjusted_cost</th>\n",
       "    </tr>\n",
       "  </thead>\n",
       "  <tbody>\n",
       "    <tr>\n",
       "      <th>total_costs_toy__</th>\n",
       "      <td>444311.009626</td>\n",
       "      <td>7.985892e+06</td>\n",
       "      <td>8430202.587879</td>\n",
       "    </tr>\n",
       "  </tbody>\n",
       "</table>\n",
       "</div>"
      ],
      "text/plain": [
       "                      Total_cost    PV_revenue Total_adjusted_cost\n",
       "total_costs_toy__  444311.009626  7.985892e+06      8430202.587879"
      ]
     },
     "execution_count": 16,
     "metadata": {},
     "output_type": "execute_result"
    }
   ],
   "source": [
    "df_system_cost_output"
   ]
  },
  {
   "cell_type": "markdown",
   "id": "07f195cc",
   "metadata": {},
   "source": [
    "### slacks"
   ]
  },
  {
   "cell_type": "code",
   "execution_count": 17,
   "id": "e5188d2c",
   "metadata": {},
   "outputs": [],
   "source": [
    "# Calculate the slacks\n",
    "node_slack_neg = df_output.filter(like='node_slack_neg')\n",
    "node_slack_pos = df_output.filter(like='node_slack_pos')\n",
    "\n",
    "node_slack_neg_numeric = node_slack_neg.apply(pd.to_numeric, errors='coerce')\n",
    "node_slack_pos_numeric = node_slack_pos.apply(pd.to_numeric, errors='coerce')\n",
    "\n",
    "node_slack_neg_sum = node_slack_neg_numeric.sum().sum()\n",
    "node_slack_pos_sum = node_slack_pos_numeric.sum().sum()\n",
    "\n",
    "total_slack = node_slack_neg_sum + node_slack_pos_sum"
   ]
  },
  {
   "cell_type": "markdown",
   "id": "61ad742f-b940-4a64-a004-914589933af4",
   "metadata": {},
   "source": [
    "### variable costs"
   ]
  },
  {
   "cell_type": "code",
   "execution_count": 18,
   "id": "88f19d29-6149-4c56-b54a-05b77f220e8b",
   "metadata": {},
   "outputs": [],
   "source": [
    "#get annual costs\n",
    "annual_costs = df_system_cost_output.loc['total_costs_toy__', 'Total_adjusted_cost'] - total_slack\n",
    "\n",
    "#annual cost including PV revenue\n",
    "annual_costs_with_PV = df_system_cost_output.loc['total_costs_toy__', 'Total_cost'] - total_slack"
   ]
  },
  {
   "cell_type": "markdown",
   "id": "00292144-6cc4-4bd4-bf7a-5511be59f75f",
   "metadata": {},
   "source": [
    "### energy output"
   ]
  },
  {
   "cell_type": "code",
   "execution_count": 20,
   "id": "52470cc8-be24-4320-af22-d9ba493bdd9b",
   "metadata": {},
   "outputs": [],
   "source": [
    "#energy output\n",
    "energy_output = df_output.filter(like='Destilation_Tower_to_node_E-Methanol_Kasso')\n",
    "\n",
    "# Convert strings to numbers, ignoring non-numeric values (relevant as first rows are strings)\n",
    "energy_output_value = pd.to_numeric(energy_output.iloc[:,0], errors='coerce').sum() * 24"
   ]
  },
  {
   "cell_type": "code",
   "execution_count": 21,
   "id": "18ccb250-1289-4be1-9487-1cbf98597a86",
   "metadata": {},
   "outputs": [],
   "source": [
    "#calculation of the present value factor\n",
    "pcf_value = present_value_factor(time_horizon, wacc)\n",
    "\n",
    "LCOE = (total_investment + (annual_costs * pcf_value)) / (energy_output_value * pcf_value)\n",
    "LCOE_PV = (total_investment + (annual_costs_with_PV * pcf_value)) / (energy_output_value * pcf_value)"
   ]
  },
  {
   "cell_type": "code",
   "execution_count": 25,
   "id": "eda9ebff-1e9e-4035-b97d-575969b6c590",
   "metadata": {},
   "outputs": [],
   "source": [
    "#create a pandas data frame with all LCOE information\n",
    "\n",
    "LCOE_GJ = LCOE/3.6\n",
    "LCOE_t = LCOE_GJ*19.9\n",
    "\n",
    "LCOE_GJ_PV = LCOE_PV/3.6\n",
    "LCOE_PV_t = LCOE_GJ_PV*19.9\n",
    "\n",
    "energy_output_value_t = (energy_output_value * 3.6) / 19.9\n",
    "\n",
    "\n",
    "# Create a dictionary with the parameters\n",
    "data_LCOE = {\n",
    "    'LCOE [Euro/MWh]': LCOE,\n",
    "    'LCOE [Euro/t]': LCOE_t,\n",
    "    'total_investment': total_investment,\n",
    "    'annual_costs': annual_costs,\n",
    "    'energy_production [MWh]': energy_output_value,\n",
    "    'energy_production [t]': energy_output_value_t,\n",
    "    'pcf_value': pcf_value,\n",
    "    'run_name': run_name\n",
    "}\n",
    "\n",
    "data_LCOE_PV = {\n",
    "    'LCOE [Euro/MWh]': LCOE_PV,\n",
    "    'LCOE [Euro/t]': LCOE_PV_t,\n",
    "    'total_investment': total_investment,\n",
    "    'annual_costs': annual_costs_with_PV,\n",
    "    'energy_production [MWh]': energy_output_value,\n",
    "    'energy_production [t]': energy_output_value_t,\n",
    "    'pcf_value': pcf_value,\n",
    "    'run_name': run_name + '_PV'\n",
    "}\n",
    "\n",
    "# Convert the dictionary to a DataFrame and set the index to the run name\n",
    "df_LCOE_information = pd.DataFrame([data_LCOE])\n",
    "df_LCOE_information.set_index('run_name', inplace=True)\n",
    "\n",
    "df_LCOE_PV_information = pd.DataFrame([data_LCOE_PV])\n",
    "df_LCOE_PV_information.set_index('run_name', inplace=True)\n",
    "\n",
    "df_LCOE = pd.concat([df_LCOE_information, df_LCOE_PV_information])"
   ]
  },
  {
   "cell_type": "markdown",
   "id": "5ee1b225",
   "metadata": {},
   "source": [
    "### Creating one combined excel and export"
   ]
  },
  {
   "cell_type": "code",
   "execution_count": 27,
   "id": "92a38069",
   "metadata": {},
   "outputs": [],
   "source": [
    "with pd.ExcelWriter(output_file_path + output_prepared_export) as writer:\n",
    "    df_output.to_excel(writer, sheet_name='flows_node_states')\n",
    "    df_system_cost_output.to_excel(writer, sheet_name='system_costs')\n",
    "    df_LCOE.to_excel(writer, sheet_name='LCOE')"
   ]
  },
  {
   "cell_type": "code",
   "execution_count": null,
   "id": "79d24bde-6276-4e5a-baa9-a1d01330adc2",
   "metadata": {},
   "outputs": [],
   "source": []
  }
 ],
 "metadata": {
  "kernelspec": {
   "display_name": "Python 3 (ipykernel)",
   "language": "python",
   "name": "python3"
  },
  "language_info": {
   "codemirror_mode": {
    "name": "ipython",
    "version": 3
   },
   "file_extension": ".py",
   "mimetype": "text/x-python",
   "name": "python",
   "nbconvert_exporter": "python",
   "pygments_lexer": "ipython3",
   "version": "3.11.5"
  }
 },
 "nbformat": 4,
 "nbformat_minor": 5
}
