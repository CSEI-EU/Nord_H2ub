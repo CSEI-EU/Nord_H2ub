{
 "cells": [
  {
   "cell_type": "markdown",
   "id": "1c3b89db",
   "metadata": {},
   "source": [
    "# Output Preparation for the Nord_H2ub Spine Model"
   ]
  },
  {
   "cell_type": "markdown",
   "id": "98756f88",
   "metadata": {},
   "source": [
    "This jupyter notebook contains all routines for the preparation of the input data sources into a input data file for the model in Spine.\n",
    "\n",
    "Authors: Johannes Giehl (jfg.eco@cbs.dk), Dana J. Hentschel (djh.eco@cbs.dk)"
   ]
  },
  {
   "cell_type": "markdown",
   "id": "ddde8c69",
   "metadata": {},
   "source": [
    "## General settings"
   ]
  },
  {
   "cell_type": "markdown",
   "id": "230fb0d6",
   "metadata": {},
   "source": [
    "### Packages:"
   ]
  },
  {
   "cell_type": "code",
   "execution_count": 1,
   "id": "92e386b9",
   "metadata": {},
   "outputs": [],
   "source": [
    "import pandas as pd\n",
    "import os\n",
    "import openpyxl\n",
    "import numpy as np"
   ]
  },
  {
   "cell_type": "code",
   "execution_count": 2,
   "id": "a91e42e2-c60f-4f07-8ad7-2f54f20911a1",
   "metadata": {},
   "outputs": [],
   "source": [
    "def present_value_factor(n, r):\n",
    "    \"\"\"\n",
    "    Calculate the present value factor of an annuity (Rentenbarwertfaktor).\n",
    "\n",
    "    Parameters:\n",
    "    n (int): The number of periods (time horizon).\n",
    "    r (float): The discount rate (WACC).\n",
    "\n",
    "    Returns:\n",
    "    float: The present value factor of the annuity.\n",
    "    \"\"\"\n",
    "    if r == 0:\n",
    "        return n\n",
    "    else:\n",
    "        return (1 - (1 + r) ** -n) / r"
   ]
  },
  {
   "cell_type": "markdown",
   "id": "86f45aa4-1dbc-483f-a682-bbb73b0bf6aa",
   "metadata": {},
   "source": [
    "### define parameters"
   ]
  },
  {
   "cell_type": "code",
   "execution_count": 3,
   "id": "3e359b2e-26e6-42d1-872d-60ad48a0348c",
   "metadata": {},
   "outputs": [],
   "source": [
    "#parameters for present_value_factor calculation\n",
    "time_horizon = 25  # Number of periods (years)\n",
    "wacc = 0.05        # Discount rate"
   ]
  },
  {
   "cell_type": "markdown",
   "id": "24bfae1e-39ac-470c-bdc0-bfb255f2780f",
   "metadata": {},
   "source": [
    "### define variables"
   ]
  },
  {
   "cell_type": "code",
   "execution_count": 4,
   "id": "d15f75c8-69dc-4c75-9983-a0f5cdb5763a",
   "metadata": {},
   "outputs": [],
   "source": [
    "excel_name = 'output_last_run'"
   ]
  },
  {
   "cell_type": "markdown",
   "id": "65afa152",
   "metadata": {},
   "source": [
    "### File paths:"
   ]
  },
  {
   "cell_type": "code",
   "execution_count": 5,
   "id": "619a209a",
   "metadata": {},
   "outputs": [],
   "source": [
    "#parent folder\n",
    "parent_folder = '../02_basic_energy_model/.spinetoolbox/items/exporter/output'\n",
    "folders = [f for f in os.listdir(parent_folder) if os.path.isdir(os.path.join(parent_folder, f))]\n",
    "if not folders:\n",
    "    print(\"No folders found.\")\n",
    "else:\n",
    "    latest_folder = max(folders, key=lambda x: os.path.getmtime(os.path.join(parent_folder, x)))\n",
    "    latest_folder_path = os.path.join(parent_folder, latest_folder)\n",
    "latest_folder_path = latest_folder_path.replace('\\\\', '/')\n",
    "folder_path = latest_folder_path\n",
    "folder_path += '/'\n",
    "\n",
    "#prepared input data\n",
    "output_file_path = '../02_output_data/01_basic_energy_model_outputs/'"
   ]
  },
  {
   "cell_type": "code",
   "execution_count": 6,
   "id": "bf67eba6",
   "metadata": {},
   "outputs": [],
   "source": [
    "#set the name of the relevant files\n",
    "#input file\n",
    "output_old = 'Output_exported.xlsx'"
   ]
  },
  {
   "cell_type": "markdown",
   "id": "fb235bf6",
   "metadata": {},
   "source": [
    "## Workflow of the data preparation"
   ]
  },
  {
   "cell_type": "markdown",
   "id": "91613263",
   "metadata": {},
   "source": [
    "### Data Import"
   ]
  },
  {
   "cell_type": "code",
   "execution_count": 7,
   "id": "236dcad8",
   "metadata": {},
   "outputs": [],
   "source": [
    "df_output_raw = pd.read_excel(folder_path + output_old, sheet_name=-1)\n",
    "df_PV_prices = pd.read_excel('../01_input_data/02_input_prepared/Maersk_Example_Input_prepared.xlsx', sheet_name='Energy_prices')"
   ]
  },
  {
   "cell_type": "markdown",
   "id": "8cd08ef9-da8a-4ca6-9b92-1fd94803b09c",
   "metadata": {},
   "source": [
    "### data frame preparation"
   ]
  },
  {
   "cell_type": "code",
   "execution_count": 8,
   "id": "ccfe8c51-e998-4097-8581-de729189a451",
   "metadata": {},
   "outputs": [],
   "source": [
    "#create a copy of the original output DataFrame\n",
    "df_output = df_output_raw.copy()\n",
    "\n",
    "# Replace NaN values with empty strings in the first three rows\n",
    "df_output.iloc[:3] = df_output.iloc[:3].fillna('')\n",
    "\n",
    "# Combine the old header with the strings from the first three rows for each column\n",
    "new_headers = df_output.columns + '_' + df_output.iloc[0] + '_' + df_output.iloc[1] + '_' + df_output.iloc[2]\n",
    "\n",
    "# Set the new headers\n",
    "df_output.columns = new_headers\n",
    "\n",
    "# Drop the first three rows\n",
    "#df = df.drop([0, 1, 2])\n",
    "\n",
    "# Reset the index\n",
    "df_output.reset_index(drop=True, inplace=True)\n",
    "\n",
    "# Rename the first column to \"timeseries\"\n",
    "df_output.columns.values[0] = \"timeseries\""
   ]
  },
  {
   "cell_type": "markdown",
   "id": "97c2942e-e16d-4fac-9aa7-d9a07739a075",
   "metadata": {},
   "source": [
    "### data adjustments"
   ]
  },
  {
   "cell_type": "code",
   "execution_count": 9,
   "id": "befc6f2a",
   "metadata": {},
   "outputs": [],
   "source": [
    "#calculate revenues from PV sales on the wholesale market\n",
    "selected_column_name = None\n",
    "for column_index in range(len(df_output.columns)):\n",
    "    if df_output.iloc[0, column_index] == 'power_line_Wholesale_Kasso' \\\n",
    "        and df_output.iloc[1, column_index] == 'to_node' \\\n",
    "        and df_output.iloc[2, column_index] == 'Power_Wholesale':\n",
    "        selected_column_name = df_output.columns[column_index]\n",
    "        break\n",
    "\n",
    "if selected_column_name:\n",
    "    df_output['Revenue_from_PV'] = df_output[selected_column_name].iloc[3:] * df_PV_prices['Power_Wholesale_Out'].iloc[4]\n",
    "else:\n",
    "    print(\"Column with specified headers not found in output.\")"
   ]
  },
  {
   "cell_type": "code",
   "execution_count": 10,
   "id": "5054c581",
   "metadata": {},
   "outputs": [],
   "source": [
    "#get total cost of the system\n",
    "total_costs = df_output.filter(like='costs').iloc[3]\n",
    "#get total revenue form PV power sale (times -1 is relevant as the input is structured that negative prices for exports reduce total cost). \n",
    "total_PV_revenue = df_output['Revenue_from_PV'].sum()*(-1)\n",
    "#calculate cost without PV revenue\n",
    "adjusted_costs = total_costs - total_PV_revenue\n",
    "\n",
    "#create separate DataFrame for total and adjusted cost\n",
    "df_system_cost_output = pd.DataFrame()\n",
    "df_system_cost_output['Total_cost'] = total_costs\n",
    "df_system_cost_output['PV_revenue'] = total_PV_revenue\n",
    "df_system_cost_output['Total_adjusted_cost'] = adjusted_costs"
   ]
  },
  {
   "cell_type": "code",
   "execution_count": 11,
   "id": "0eb21b73-892f-4a38-88e7-fcc0855554f2",
   "metadata": {},
   "outputs": [],
   "source": [
    "# Identify columns to drop\n",
    "columns_to_drop_1 = df_output.filter(like='costs').columns\n",
    "# Drop the identified columns\n",
    "df_output.drop(columns=columns_to_drop_1, inplace=True)\n",
    "\n",
    "#test this and implement an if check\n",
    "#columns_to_drop_2 = df_output.filter(like='unit_flow_op').columns\n",
    "#df_output.drop(columns=columns_to_drop_2, inplace=True)"
   ]
  },
  {
   "cell_type": "markdown",
   "id": "93fa6f46-03f4-4f47-b857-9cd184ed6f72",
   "metadata": {},
   "source": [
    "## calculate LCOE\n",
    "\n",
    "calculation of levelized cost of energy"
   ]
  },
  {
   "cell_type": "markdown",
   "id": "0f84ba6b-2dba-4b27-8042-1b3f6a35274e",
   "metadata": {},
   "source": [
    "### calculate investment cost"
   ]
  },
  {
   "cell_type": "code",
   "execution_count": 12,
   "id": "9605ad7b-3cec-48b4-99be-a44db712dbcd",
   "metadata": {},
   "outputs": [],
   "source": [
    "#implementation of either from the existing capacity as input from the model\n",
    "#or if no input capacity is defined as max capacity used in the model\n",
    "\n",
    "#electrolysis\n",
    "investment_electrolysis = 50000000\n",
    "\n",
    "#methanol plant\n",
    "investment_methanol = 50000000\n",
    "\n",
    "#hydrogen storage\n",
    "investment_hydrogen_storage = 50000000\n",
    "\n",
    "#hydrogen storage\n",
    "investment_methanol_storage = 50000000\n",
    "\n",
    "#further components like CO2 vaporizer, steam engine etc. \n",
    "#relevant to have a routine that identifies the units automatically. \n",
    "\n",
    "total_investment = investment_electrolysis + investment_methanol + investment_hydrogen_storage + investment_methanol_storage"
   ]
  },
  {
   "cell_type": "code",
   "execution_count": 13,
   "id": "4c1124e8-754f-4ab5-8365-39f01ed40e74",
   "metadata": {},
   "outputs": [
    {
     "data": {
      "text/html": [
       "<div>\n",
       "<style scoped>\n",
       "    .dataframe tbody tr th:only-of-type {\n",
       "        vertical-align: middle;\n",
       "    }\n",
       "\n",
       "    .dataframe tbody tr th {\n",
       "        vertical-align: top;\n",
       "    }\n",
       "\n",
       "    .dataframe thead th {\n",
       "        text-align: right;\n",
       "    }\n",
       "</style>\n",
       "<table border=\"1\" class=\"dataframe\">\n",
       "  <thead>\n",
       "    <tr style=\"text-align: right;\">\n",
       "      <th></th>\n",
       "      <th>Total_cost</th>\n",
       "      <th>PV_revenue</th>\n",
       "      <th>Total_adjusted_cost</th>\n",
       "    </tr>\n",
       "  </thead>\n",
       "  <tbody>\n",
       "    <tr>\n",
       "      <th>total_costs_toy__</th>\n",
       "      <td>9822379.098829</td>\n",
       "      <td>5.790770e+06</td>\n",
       "      <td>4031609.486008</td>\n",
       "    </tr>\n",
       "  </tbody>\n",
       "</table>\n",
       "</div>"
      ],
      "text/plain": [
       "                       Total_cost    PV_revenue Total_adjusted_cost\n",
       "total_costs_toy__  9822379.098829  5.790770e+06      4031609.486008"
      ]
     },
     "execution_count": 13,
     "metadata": {},
     "output_type": "execute_result"
    }
   ],
   "source": [
    "df_system_cost_output"
   ]
  },
  {
   "cell_type": "markdown",
   "id": "61ad742f-b940-4a64-a004-914589933af4",
   "metadata": {},
   "source": [
    "### variable costs"
   ]
  },
  {
   "cell_type": "code",
   "execution_count": 14,
   "id": "88f19d29-6149-4c56-b54a-05b77f220e8b",
   "metadata": {},
   "outputs": [],
   "source": [
    "#get annual costs\n",
    "annual_costs = df_system_cost_output.loc['total_costs_toy__', 'Total_adjusted_cost']"
   ]
  },
  {
   "cell_type": "markdown",
   "id": "00292144-6cc4-4bd4-bf7a-5511be59f75f",
   "metadata": {},
   "source": [
    "### energy output"
   ]
  },
  {
   "cell_type": "code",
   "execution_count": 15,
   "id": "52470cc8-be24-4320-af22-d9ba493bdd9b",
   "metadata": {},
   "outputs": [],
   "source": [
    "#energy output\n",
    "energy_output_methanol = df_output.filter(like='Tower_to_node_E-Methanol_Kasso')\n",
    "\n",
    "# Convert strings to numbers, ignoring non-numeric values (relevant as first rows are strings)\n",
    "energy_output_methanol_value = pd.to_numeric(energy_output_methanol.iloc[:,0], errors='coerce').sum()"
   ]
  },
  {
   "cell_type": "code",
   "execution_count": 16,
   "id": "18ccb250-1289-4be1-9487-1cbf98597a86",
   "metadata": {},
   "outputs": [
    {
     "data": {
      "text/plain": [
       "100.92828806398074"
      ]
     },
     "execution_count": 16,
     "metadata": {},
     "output_type": "execute_result"
    }
   ],
   "source": [
    "#calculation of the present value factor\n",
    "pcf_value = present_value_factor(time_horizon, wacc)\n",
    "\n",
    "LCOE = (total_investment + (annual_costs * pcf_value)) / (energy_output_methanol_value * pcf_value)\n",
    "LCOE"
   ]
  },
  {
   "cell_type": "markdown",
   "id": "5ee1b225",
   "metadata": {},
   "source": [
    "### Creating one combined excel and export"
   ]
  },
  {
   "cell_type": "code",
   "execution_count": 17,
   "id": "92a38069",
   "metadata": {},
   "outputs": [],
   "source": [
    "with pd.ExcelWriter(output_file_path + excel_name + '.xlsx') as writer:\n",
    "    df_output.to_excel(writer, sheet_name='flows_node_states')\n",
    "    df_system_cost_output.to_excel(writer, sheet_name='system_costs')"
   ]
  },
  {
   "cell_type": "code",
   "execution_count": null,
   "id": "38e6f2dd-710f-402b-8a4b-6e74c316a68b",
   "metadata": {},
   "outputs": [],
   "source": []
  }
 ],
 "metadata": {
  "kernelspec": {
   "display_name": "Python 3 (ipykernel)",
   "language": "python",
   "name": "python3"
  },
  "language_info": {
   "codemirror_mode": {
    "name": "ipython",
    "version": 3
   },
   "file_extension": ".py",
   "mimetype": "text/x-python",
   "name": "python",
   "nbconvert_exporter": "python",
   "pygments_lexer": "ipython3",
   "version": "3.11.5"
  }
 },
 "nbformat": 4,
 "nbformat_minor": 5
}
