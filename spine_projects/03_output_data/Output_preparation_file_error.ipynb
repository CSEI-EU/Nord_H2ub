{
 "cells": [
  {
   "cell_type": "markdown",
   "id": "1c3b89db",
   "metadata": {},
   "source": [
    "# Output Preparation for the Nord_H2ub Spine Model"
   ]
  },
  {
   "cell_type": "markdown",
   "id": "98756f88",
   "metadata": {},
   "source": [
    "This jupyter notebook contains all routines for the preparation of the input data sources into a input data file for the model in Spine.\n",
    "\n",
    "Authors: Johannes Giehl (jfg.eco@cbs.dk), Dana J. Hentschel (djh.eco@cbs.dk)"
   ]
  },
  {
   "cell_type": "markdown",
   "id": "ddde8c69",
   "metadata": {},
   "source": [
    "## General settings"
   ]
  },
  {
   "cell_type": "markdown",
   "id": "230fb0d6",
   "metadata": {},
   "source": [
    "### Packages:"
   ]
  },
  {
   "cell_type": "code",
<<<<<<< Updated upstream
   "execution_count": 25,
=======
   "execution_count": 12,
>>>>>>> Stashed changes
   "id": "92e386b9",
   "metadata": {},
   "outputs": [],
   "source": [
    "import pandas as pd\n",
    "import os\n",
    "import openpyxl\n",
    "import numpy as np"
   ]
  },
  {
   "cell_type": "code",
<<<<<<< Updated upstream
   "execution_count": 26,
=======
   "execution_count": 13,
>>>>>>> Stashed changes
   "id": "a91e42e2-c60f-4f07-8ad7-2f54f20911a1",
   "metadata": {},
   "outputs": [],
   "source": [
    "def present_value_factor(n, r):\n",
    "    \"\"\"\n",
    "    Calculate the present value factor of an annuity (Rentenbarwertfaktor).\n",
    "\n",
    "    Parameters:\n",
    "    n (int): The number of periods (time horizon).\n",
    "    r (float): The discount rate (WACC).\n",
    "\n",
    "    Returns:\n",
    "    float: The present value factor of the annuity.\n",
    "    \"\"\"\n",
    "    if r == 0:\n",
    "        return n\n",
    "    else:\n",
    "        return (1 - (1 + r) ** -n) / r"
   ]
  },
  {
   "cell_type": "markdown",
   "id": "86f45aa4-1dbc-483f-a682-bbb73b0bf6aa",
   "metadata": {},
   "source": [
    "### define parameters"
   ]
  },
  {
   "cell_type": "code",
<<<<<<< Updated upstream
   "execution_count": 36,
=======
   "execution_count": 14,
>>>>>>> Stashed changes
   "id": "3e359b2e-26e6-42d1-872d-60ad48a0348c",
   "metadata": {},
   "outputs": [
    {
     "name": "stdout",
     "output_type": "stream",
     "text": [
      "C:\\Users\\luc.eco\\OneDrive - CBS - Copenhagen Business School\\Documents\\GitHub\\Nord_H2ub\\Spine_Projects\\03_output_data\n"
     ]
    }
   ],
   "source": [
    "#parameters for present_value_factor calculation\n",
    "time_horizon = 25  # Number of periods (years)\n",
    "wacc = 0.05        # Discount rate\n",
    "starting_year = \"2020\"\n",
    "os.chdir('C:/Users/luc.eco/OneDrive - CBS - Copenhagen Business School/Documents/GitHub/Nord_H2ub/Spine_Projects/03_output_data')\n",
    "\n"
   ]
  },
  {
   "cell_type": "markdown",
   "id": "24bfae1e-39ac-470c-bdc0-bfb255f2780f",
   "metadata": {},
   "source": [
    "### define variables"
   ]
  },
  {
   "cell_type": "code",
<<<<<<< Updated upstream
   "execution_count": 28,
=======
   "execution_count": 15,
>>>>>>> Stashed changes
   "id": "d15f75c8-69dc-4c75-9983-a0f5cdb5763a",
   "metadata": {},
   "outputs": [],
   "source": [
    "excel_name = 'output_last_run'"
   ]
  },
  {
   "cell_type": "markdown",
   "id": "65afa152",
   "metadata": {},
   "source": [
    "### File paths:"
   ]
  },
  {
   "cell_type": "code",
<<<<<<< Updated upstream
   "execution_count": 31,
=======
   "execution_count": 16,
>>>>>>> Stashed changes
   "id": "619a209a",
   "metadata": {},
   "outputs": [],
   "source": [
    "#parent folder\n",
    "parent_folder = '../02_basic_energy_model/.spinetoolbox/items/exporter/output'\n",
    "folders = [f for f in os.listdir(parent_folder) if os.path.isdir(os.path.join(parent_folder, f))]\n",
    "if not folders:\n",
    "    print(\"No folders found.\")\n",
    "else:\n",
    "    latest_folder = max(folders, key=lambda x: os.path.getmtime(os.path.join(parent_folder, x)))\n",
    "    latest_folder_path = os.path.join(parent_folder, latest_folder)\n",
    "latest_folder_path = latest_folder_path.replace('\\\\', '/')\n",
    "folder_path = latest_folder_path\n",
    "folder_path += '/'\n",
    "\n",
    "#prepared input data\n",
    "output_file_path = '../03_output_data/01_basic_energy_model_outputs/'"
   ]
  },
  {
   "cell_type": "code",
<<<<<<< Updated upstream
   "execution_count": 37,
=======
   "execution_count": 17,
>>>>>>> Stashed changes
   "id": "bf67eba6",
   "metadata": {},
   "outputs": [],
   "source": [
    "#set the name of the relevant files\n",
    "#input file\n",
    "#output_old = 'Output_exported.xlsx'\n",
    "#prepared input data\n",
    "output_file_path = '../03_output_data/01_basic_energy_model_outputs/'\n",
    "output_old = \"output_last_run.xlsx\""
   ]
  },
  {
   "cell_type": "markdown",
   "id": "fb235bf6",
   "metadata": {},
   "source": [
    "## Workflow of the data preparation"
   ]
  },
  {
   "cell_type": "markdown",
   "id": "91613263",
   "metadata": {},
   "source": [
    "### Data Import"
   ]
  },
  {
   "cell_type": "code",
<<<<<<< Updated upstream
   "execution_count": 88,
=======
   "execution_count": 20,
>>>>>>> Stashed changes
   "id": "236dcad8",
   "metadata": {},
   "outputs": [
    {
<<<<<<< Updated upstream
     "name": "stderr",
     "output_type": "stream",
     "text": [
      "C:\\Users\\luc.eco\\AppData\\Local\\anaconda3\\Lib\\site-packages\\openpyxl\\worksheet\\_read_only.py:79: UserWarning: Data Validation extension is not supported and will be removed\n",
      "  for idx, row in parser.parse():\n"
=======
     "ename": "PermissionError",
     "evalue": "[Errno 13] Permission denied: '../01_input_data/02_input_prepared/methanol_Input_prepared.xlsx'",
     "output_type": "error",
     "traceback": [
      "\u001b[1;31m---------------------------------------------------------------------------\u001b[0m",
      "\u001b[1;31mPermissionError\u001b[0m                           Traceback (most recent call last)",
      "Cell \u001b[1;32mIn[20], line 2\u001b[0m\n\u001b[0;32m      1\u001b[0m df_output_raw \u001b[38;5;241m=\u001b[39m pd\u001b[38;5;241m.\u001b[39mread_excel(folder_path \u001b[38;5;241m+\u001b[39m output_old, sheet_name\u001b[38;5;241m=\u001b[39m\u001b[38;5;241m-\u001b[39m\u001b[38;5;241m1\u001b[39m)\n\u001b[1;32m----> 2\u001b[0m df_PV_prices \u001b[38;5;241m=\u001b[39m pd\u001b[38;5;241m.\u001b[39mread_excel(\u001b[38;5;124m'\u001b[39m\u001b[38;5;124m../01_input_data/02_input_prepared/methanol_Input_prepared.xlsx\u001b[39m\u001b[38;5;124m'\u001b[39m, sheet_name\u001b[38;5;241m=\u001b[39m\u001b[38;5;124m'\u001b[39m\u001b[38;5;124mEnergy_prices\u001b[39m\u001b[38;5;124m'\u001b[39m)\n\u001b[0;32m      3\u001b[0m df_model_definition \u001b[38;5;241m=\u001b[39m pd\u001b[38;5;241m.\u001b[39mread_excel(\u001b[38;5;124m'\u001b[39m\u001b[38;5;124m../01_input_data/02_input_prepared/methanol_Input_prepared.xlsx\u001b[39m\u001b[38;5;124m'\u001b[39m, sheet_name\u001b[38;5;241m=\u001b[39m\u001b[38;5;124m'\u001b[39m\u001b[38;5;124mDefinition\u001b[39m\u001b[38;5;124m'\u001b[39m)\n",
      "File \u001b[1;32m~\\AppData\\Local\\anaconda3\\Lib\\site-packages\\pandas\\io\\excel\\_base.py:504\u001b[0m, in \u001b[0;36mread_excel\u001b[1;34m(io, sheet_name, header, names, index_col, usecols, dtype, engine, converters, true_values, false_values, skiprows, nrows, na_values, keep_default_na, na_filter, verbose, parse_dates, date_parser, date_format, thousands, decimal, comment, skipfooter, storage_options, dtype_backend, engine_kwargs)\u001b[0m\n\u001b[0;32m    502\u001b[0m \u001b[38;5;28;01mif\u001b[39;00m \u001b[38;5;129;01mnot\u001b[39;00m \u001b[38;5;28misinstance\u001b[39m(io, ExcelFile):\n\u001b[0;32m    503\u001b[0m     should_close \u001b[38;5;241m=\u001b[39m \u001b[38;5;28;01mTrue\u001b[39;00m\n\u001b[1;32m--> 504\u001b[0m     io \u001b[38;5;241m=\u001b[39m ExcelFile(\n\u001b[0;32m    505\u001b[0m         io,\n\u001b[0;32m    506\u001b[0m         storage_options\u001b[38;5;241m=\u001b[39mstorage_options,\n\u001b[0;32m    507\u001b[0m         engine\u001b[38;5;241m=\u001b[39mengine,\n\u001b[0;32m    508\u001b[0m         engine_kwargs\u001b[38;5;241m=\u001b[39mengine_kwargs,\n\u001b[0;32m    509\u001b[0m     )\n\u001b[0;32m    510\u001b[0m \u001b[38;5;28;01melif\u001b[39;00m engine \u001b[38;5;129;01mand\u001b[39;00m engine \u001b[38;5;241m!=\u001b[39m io\u001b[38;5;241m.\u001b[39mengine:\n\u001b[0;32m    511\u001b[0m     \u001b[38;5;28;01mraise\u001b[39;00m \u001b[38;5;167;01mValueError\u001b[39;00m(\n\u001b[0;32m    512\u001b[0m         \u001b[38;5;124m\"\u001b[39m\u001b[38;5;124mEngine should not be specified when passing \u001b[39m\u001b[38;5;124m\"\u001b[39m\n\u001b[0;32m    513\u001b[0m         \u001b[38;5;124m\"\u001b[39m\u001b[38;5;124man ExcelFile - ExcelFile already has the engine set\u001b[39m\u001b[38;5;124m\"\u001b[39m\n\u001b[0;32m    514\u001b[0m     )\n",
      "File \u001b[1;32m~\\AppData\\Local\\anaconda3\\Lib\\site-packages\\pandas\\io\\excel\\_base.py:1563\u001b[0m, in \u001b[0;36mExcelFile.__init__\u001b[1;34m(self, path_or_buffer, engine, storage_options, engine_kwargs)\u001b[0m\n\u001b[0;32m   1561\u001b[0m     ext \u001b[38;5;241m=\u001b[39m \u001b[38;5;124m\"\u001b[39m\u001b[38;5;124mxls\u001b[39m\u001b[38;5;124m\"\u001b[39m\n\u001b[0;32m   1562\u001b[0m \u001b[38;5;28;01melse\u001b[39;00m:\n\u001b[1;32m-> 1563\u001b[0m     ext \u001b[38;5;241m=\u001b[39m inspect_excel_format(\n\u001b[0;32m   1564\u001b[0m         content_or_path\u001b[38;5;241m=\u001b[39mpath_or_buffer, storage_options\u001b[38;5;241m=\u001b[39mstorage_options\n\u001b[0;32m   1565\u001b[0m     )\n\u001b[0;32m   1566\u001b[0m     \u001b[38;5;28;01mif\u001b[39;00m ext \u001b[38;5;129;01mis\u001b[39;00m \u001b[38;5;28;01mNone\u001b[39;00m:\n\u001b[0;32m   1567\u001b[0m         \u001b[38;5;28;01mraise\u001b[39;00m \u001b[38;5;167;01mValueError\u001b[39;00m(\n\u001b[0;32m   1568\u001b[0m             \u001b[38;5;124m\"\u001b[39m\u001b[38;5;124mExcel file format cannot be determined, you must specify \u001b[39m\u001b[38;5;124m\"\u001b[39m\n\u001b[0;32m   1569\u001b[0m             \u001b[38;5;124m\"\u001b[39m\u001b[38;5;124man engine manually.\u001b[39m\u001b[38;5;124m\"\u001b[39m\n\u001b[0;32m   1570\u001b[0m         )\n",
      "File \u001b[1;32m~\\AppData\\Local\\anaconda3\\Lib\\site-packages\\pandas\\io\\excel\\_base.py:1419\u001b[0m, in \u001b[0;36minspect_excel_format\u001b[1;34m(content_or_path, storage_options)\u001b[0m\n\u001b[0;32m   1416\u001b[0m \u001b[38;5;28;01mif\u001b[39;00m \u001b[38;5;28misinstance\u001b[39m(content_or_path, \u001b[38;5;28mbytes\u001b[39m):\n\u001b[0;32m   1417\u001b[0m     content_or_path \u001b[38;5;241m=\u001b[39m BytesIO(content_or_path)\n\u001b[1;32m-> 1419\u001b[0m \u001b[38;5;28;01mwith\u001b[39;00m get_handle(\n\u001b[0;32m   1420\u001b[0m     content_or_path, \u001b[38;5;124m\"\u001b[39m\u001b[38;5;124mrb\u001b[39m\u001b[38;5;124m\"\u001b[39m, storage_options\u001b[38;5;241m=\u001b[39mstorage_options, is_text\u001b[38;5;241m=\u001b[39m\u001b[38;5;28;01mFalse\u001b[39;00m\n\u001b[0;32m   1421\u001b[0m ) \u001b[38;5;28;01mas\u001b[39;00m handle:\n\u001b[0;32m   1422\u001b[0m     stream \u001b[38;5;241m=\u001b[39m handle\u001b[38;5;241m.\u001b[39mhandle\n\u001b[0;32m   1423\u001b[0m     stream\u001b[38;5;241m.\u001b[39mseek(\u001b[38;5;241m0\u001b[39m)\n",
      "File \u001b[1;32m~\\AppData\\Local\\anaconda3\\Lib\\site-packages\\pandas\\io\\common.py:872\u001b[0m, in \u001b[0;36mget_handle\u001b[1;34m(path_or_buf, mode, encoding, compression, memory_map, is_text, errors, storage_options)\u001b[0m\n\u001b[0;32m    863\u001b[0m         handle \u001b[38;5;241m=\u001b[39m \u001b[38;5;28mopen\u001b[39m(\n\u001b[0;32m    864\u001b[0m             handle,\n\u001b[0;32m    865\u001b[0m             ioargs\u001b[38;5;241m.\u001b[39mmode,\n\u001b[1;32m   (...)\u001b[0m\n\u001b[0;32m    868\u001b[0m             newline\u001b[38;5;241m=\u001b[39m\u001b[38;5;124m\"\u001b[39m\u001b[38;5;124m\"\u001b[39m,\n\u001b[0;32m    869\u001b[0m         )\n\u001b[0;32m    870\u001b[0m     \u001b[38;5;28;01melse\u001b[39;00m:\n\u001b[0;32m    871\u001b[0m         \u001b[38;5;66;03m# Binary mode\u001b[39;00m\n\u001b[1;32m--> 872\u001b[0m         handle \u001b[38;5;241m=\u001b[39m \u001b[38;5;28mopen\u001b[39m(handle, ioargs\u001b[38;5;241m.\u001b[39mmode)\n\u001b[0;32m    873\u001b[0m     handles\u001b[38;5;241m.\u001b[39mappend(handle)\n\u001b[0;32m    875\u001b[0m \u001b[38;5;66;03m# Convert BytesIO or file objects passed with an encoding\u001b[39;00m\n",
      "\u001b[1;31mPermissionError\u001b[0m: [Errno 13] Permission denied: '../01_input_data/02_input_prepared/methanol_Input_prepared.xlsx'"
>>>>>>> Stashed changes
     ]
    }
   ],
   "source": [
<<<<<<< Updated upstream
    "#df_output_raw = pd.read_excel(folder_path + output_old, sheet_name=-1)\n",
    "df_output_raw = pd.read_excel(os.path.join(output_file_path, output_old), sheet_name=-1)  \n",
    "df_PV_prices = pd.read_excel('../01_input_data/02_input_prepared/methanol_Input_prepared.xlsx', sheet_name='Energy_prices')\n",
    "df_model_definition = pd.read_excel('../01_input_data/02_input_prepared/methanol_Input_prepared.xlsx', sheet_name='Definition')\n",
    "df_units = pd.read_excel('../01_input_data/01_input_raw/methanol/Model_Data_Base.xlsx', sheet_name='Units')\n",
    "df_storages = pd.read_excel('../01_input_data/01_input_raw/methanol/Model_Data_Base.xlsx', sheet_name='Storages')\n",
    "df_operation_prices = pd.read_excel('../01_input_data/03_overview_input/data_needed_overview.xlsx', sheet_name='Values')\n"
=======
    "df_output_raw = pd.read_excel(folder_path + output_old, sheet_name=-1)\n",
    "df_PV_prices = pd.read_excel('../01_input_data/02_input_prepared/methanol_Input_prepared.xlsx', sheet_name='Energy_prices')\n",
    "df_model_definition = pd.read_excel('../01_input_data/02_input_prepared/methanol_Input_prepared.xlsx', sheet_name='Definition')"
>>>>>>> Stashed changes
   ]
  },
  {
   "cell_type": "markdown",
   "id": "8cd08ef9-da8a-4ca6-9b92-1fd94803b09c",
   "metadata": {},
   "source": [
    "### data frame preparation"
   ]
  },
  {
   "cell_type": "code",
   "execution_count": null,
   "id": "ccfe8c51-e998-4097-8581-de729189a451",
   "metadata": {},
   "outputs": [],
   "source": [
    "#create a copy of the original output DataFrame\n",
    "df_output = df_output_raw.copy()\n",
    "\n",
    "# Replace NaN values with empty strings in the first three rows\n",
    "df_output.iloc[:3] = df_output.iloc[:3].fillna('')\n",
    "\n",
    "# Combine the old header with the strings from the first three rows for each column\n",
    "new_headers = df_output.columns + '_' + df_output.iloc[0] + '_' + df_output.iloc[1] + '_' + df_output.iloc[2]\n",
    "\n",
    "# Set the new headers\n",
    "df_output.columns = new_headers\n",
    "\n",
    "# Drop the first three rows\n",
    "#df = df.drop([0, 1, 2])\n",
    "\n",
    "# Reset the index\n",
    "df_output.reset_index(drop=True, inplace=True)\n",
    "\n",
    "# Rename the first column to \"timeseries\"\n",
    "df_output.columns.values[0] = \"timeseries\""
   ]
  },
  {
   "cell_type": "markdown",
   "id": "97c2942e-e16d-4fac-9aa7-d9a07739a075",
   "metadata": {},
   "source": [
    "### data adjustments"
   ]
  },
  {
   "cell_type": "code",
   "execution_count": null,
   "id": "befc6f2a",
   "metadata": {},
   "outputs": [],
   "source": [
    "#calculate revenues from PV sales on the wholesale market\n",
    "selected_column_name = None\n",
    "for column_index in range(len(df_output.columns)):\n",
    "    if df_output.iloc[0, column_index] == 'power_line_Wholesale_Kasso' \\\n",
    "        and df_output.iloc[1, column_index] == 'to_node' \\\n",
    "        and df_output.iloc[2, column_index] == 'Power_Wholesale':\n",
    "        selected_column_name = df_output.columns[column_index]\n",
    "        break\n",
    "\n",
    "if selected_column_name:\n",
    "    df_output['Revenue_from_PV'] = df_output[selected_column_name].iloc[3:] * df_PV_prices['Power_Wholesale_Out'].iloc[4]\n",
    "else:\n",
    "    print(\"Column with specified headers not found in output.\")"
   ]
  },
  {
   "cell_type": "code",
   "execution_count": null,
   "id": "5054c581",
   "metadata": {},
   "outputs": [],
   "source": [
    "#get total cost of the system\n",
    "total_costs = df_output.filter(like='costs').iloc[3]\n",
    "#get total revenue form PV power sale (times -1 is relevant as the input is structured that negative prices for exports reduce total cost). \n",
    "total_PV_revenue = df_output['Revenue_from_PV'].sum()*(-1)\n",
    "#calculate cost without PV revenue\n",
    "adjusted_costs = total_costs - (total_PV_revenue * (-1))\n",
    "\n",
    "#create separate DataFrame for total and adjusted cost\n",
    "df_system_cost_output = pd.DataFrame()\n",
    "df_system_cost_output['Total_cost'] = total_costs\n",
    "df_system_cost_output['PV_revenue'] = total_PV_revenue\n",
    "df_system_cost_output['Total_adjusted_cost'] = adjusted_costs"
   ]
  },
  {
   "cell_type": "code",
   "execution_count": null,
   "id": "0eb21b73-892f-4a38-88e7-fcc0855554f2",
   "metadata": {},
   "outputs": [],
   "source": [
    "# Identify columns to drop\n",
    "columns_to_drop_1 = df_output.filter(like='costs').columns\n",
    "# Drop the identified columns if any are found\n",
    "if not columns_to_drop_1.empty:\n",
    "    df_output.drop(columns=columns_to_drop_1, inplace=True)\n",
    "\n",
    "#test this and implement an if check\n",
    "columns_to_drop_2 = df_output.filter(like='unit_flow_op').columns\n",
    "# Drop the identified columns if any are found\n",
    "if not columns_to_drop_2.empty:\n",
    "    df_output.drop(columns=columns_to_drop_2, inplace=True)"
   ]
  },
  {
   "cell_type": "markdown",
   "id": "93fa6f46-03f4-4f47-b857-9cd184ed6f72",
   "metadata": {},
   "source": [
    "## calculate LCOE\n",
    "\n",
    "calculation of levelized cost of energy"
   ]
  },
  {
   "cell_type": "markdown",
   "id": "0f84ba6b-2dba-4b27-8042-1b3f6a35274e",
   "metadata": {},
   "source": [
    "### calculate investment cost"
   ]
  },
  {
   "cell_type": "code",
   "execution_count": 92,
   "id": "9605ad7b-3cec-48b4-99be-a44db712dbcd",
   "metadata": {},
   "outputs": [
    {
     "name": "stdout",
     "output_type": "stream",
     "text": [
      "object:  Solar_Plant_Kasso\n",
      "170.24\n",
      "object:  Electrolyzer\n",
      "98800.0\n",
      "object:  CO2_Vaporizer\n",
      "Operating price unknown for CO2_Vaporizer\n",
      "object:  Destilation_Tower\n",
      "70.2\n",
      "object:  Methanol_Reactor\n",
      "70.2\n",
      "object:  Steam_Plant\n",
      "object:  E-Methanol_storage_Kasso\n",
      "Operating price unknown for E-Methanol_storage_Kasso\n",
      "object:  Hydrogen_storage_Kasso\n",
      "12100.0\n",
      "111210.64\n"
     ]
    },
    {
     "name": "stderr",
     "output_type": "stream",
     "text": [
      "C:\\Users\\luc.eco\\AppData\\Local\\Temp\\ipykernel_15332\\864526285.py:48: FutureWarning: Series.__getitem__ treating keys as positions is deprecated. In a future version, integer keys will always be treated as labels (consistent with DataFrame behavior). To access a value by position, use `ser.iloc[pos]`\n",
      "  if row_values[0] == row[\"Object_type\"]:\n",
      "C:\\Users\\luc.eco\\AppData\\Local\\Temp\\ipykernel_15332\\864526285.py:76: FutureWarning: Series.__getitem__ treating keys as positions is deprecated. In a future version, integer keys will always be treated as labels (consistent with DataFrame behavior). To access a value by position, use `ser.iloc[pos]`\n",
      "  if row_values[0] == row[\"Object_type\"]:\n"
     ]
    }
   ],
   "source": [
    "#implementation of either from the existing capacity as input from the model\n",
    "#or if no input capacity is defined as max capacity used in the model\n",
    "\n",
<<<<<<< Updated upstream
    "\n",
    "d_investments = {}\n",
    "    \n",
    "for index, row in df_model_definition.iterrows():\n",
    "    investment = 0\n",
    "    in_entry = False\n",
    "    out_entry = False\n",
    "    if row[\"Category\"] == \"unit\":\n",
    "        # Go through unit sheet to find the capacities\n",
    "        print(\"object: \", row[\"Object_Name\"]) #Delete, just for testing\n",
    "        for index_units, row_units in df_units.iterrows():\n",
    "            \n",
    "            # Calculate investments of units\n",
    "            if row[\"Object_Name\"] == row_units[\"Unit\"]:\n",
    "                # If no capacity is given, find the maximum needed capacity calculated by the model\n",
    "                if pd.isnull(row_units[\"Cap_Input1_existing\"]) and pd.isnull(row_units[\"Cap_Output1_existing\"]):\n",
    "                    for index_output, column in enumerate(df_output_raw.columns):\n",
    "                        if df_output_raw.iloc[1, index_output] == row[\"Object_Name\"]:\n",
    "                            if \"Power_\" in df_output_raw.iloc[3, index_output]:\n",
    "                                cap = df_output_raw[column].max()\n",
    "                # If capacity is known, choose it to calculate investment costs\n",
    "                else:   \n",
    "                    if not pd.isnull(row_units[\"Cap_Input1_existing\"]):\n",
    "                        max_cap_in = row_units[\"Cap_Input1_existing\"]\n",
    "                        in_entry = True\n",
    "                    if not pd.isnull(row_units[\"Cap_Output1_existing\"]):\n",
    "                        max_cap_out = row_units[\"Cap_Output1_existing\"]\n",
    "                        out_entry = True\n",
    "                    # If there is an input and an output capacity it chooses the higher one, but to check: which one is really needed for investemnt costs \n",
    "                    if in_entry and out_entry:\n",
    "                        if max_cap_in > max_cap_out:\n",
    "                            cap = max_cap_in\n",
    "                        else: \n",
    "                            cap = max_cap_out\n",
    "                    elif in_entry:\n",
    "                        cap = max_cap_in\n",
    "                    elif out_entry:\n",
    "                        cap = max_cap_out\n",
    "\n",
    "                # Finding the unit investment costs with which the total investement cost per object is calculated\n",
    "                for index_values, row_values in df_operation_prices.iterrows():\n",
    "                    if row_values[\"Type\"] == \"unit investment cost\":\n",
    "                        if row_values[0] == row[\"Object_type\"]:\n",
    "                            costs_per_energy = row_values[\"Value 2020\"] \n",
    "                            if costs_per_energy ==\"depends on local conditions\":\n",
    "                                print(f\"Operating price unknown for {row['Object_Name']}\")                            \n",
    "                            else:\n",
    "                                investment = cap * costs_per_energy\n",
    "                                print(investment) #Delete, just for testing\n",
    "                                d_investments[f\"investment_{row['Object_Name']}\"] = investment\n",
    "                    \n",
    "\n",
    "    # Calculate investments of storages    \n",
    "    elif \"storage\" in row[\"Object_Name\"].lower() and row[\"Category\"] == \"node\":\n",
    "        for index_units, row_storages in df_storages.iterrows():\n",
    "            # Calculate investments of units\n",
    "            if row[\"Object_Name\"] == row_storages[\"Storage\"]:\n",
    "                print(\"object: \", row[\"Object_Name\"]) #Delete, just for testing\n",
    "                # If no capacity is given, find the maximum needed capacity calculated by the model\n",
    "                if pd.isnull(row_storages[\"node_state_cap\"]):\n",
    "                    for index_output, column in enumerate(df_output_raw.columns):\n",
    "                        if df_output_raw.iloc[1, index_output] == row[\"Object_Name\"]:\n",
    "                            if \"Power_\" in df_output_raw.iloc[3, index_output]:\n",
    "                                cap = df_output_raw[column].max()\n",
    "                # If capacity is known, choose it to calculate investment costs\n",
    "                else:   \n",
    "                    cap = row_storages[\"node_state_cap\"]\n",
    "\n",
    "                # Find the costs of each object and calculate the investment\n",
    "                for index_values, row_values in df_operation_prices.iterrows():\n",
    "                    if row_values[\"Type\"] == \"storage investment cost\":\n",
    "                        if row_values[0] == row[\"Object_type\"]:\n",
    "                            if pd.isnull(row_values[\"Value 2020\"]):\n",
    "                                print(f\"Operating price unknown for {row['Object_Name']}\") \n",
    "                            else:\n",
    "                                costs_per_energy = row_values[\"Value 2020\"] \n",
    "                                if costs_per_energy ==\"depends on local conditions\":\n",
    "                                    print(f\"Operating price unknown for {row['Object_Name']}\")                            \n",
    "                                else:\n",
    "                                    investment = cap * costs_per_energy\n",
    "                                    print(investment) #Delete, just for testing\n",
    "                                    d_investments[f\"investment_{row['Object_Name']}\"] = investment\n",
    "                    \n",
    "total_investment = sum(d_investments.values())\n",
    "print(total_investment)\n",
=======
    "# for element in df_model_definition[\"Category\"]\n",
    "    # if element == \"unit\" or element == \":\n",
    "#          calculate investe\n",
    "\n",
    "d_investments = {}\n",
    "\n",
    "for row in df_model_definition.iterrows():\n",
    "    if df_model_definition[row, \"Category\"] == \"unit\" or \"storage\" in df_model_definition[row, \"Object_Name\"].lower():\n",
    "        \n",
    "        investment = 50000000 # TO DO: calculate investment\n",
    "        d_investments[\"investment_\".format(df_model_definition[row, \"Object_Name\"])] = investment\n",
    "   \n",
    "\n",
>>>>>>> Stashed changes
    "\n",
    "#electrolysis\n",
    "#investment_electrolysis = 50000000\n",
    "\n",
    "#methanol plant\n",
    "#investment_methanol = 50000000\n",
    "\n",
    "#hydrogen storage\n",
    "#investment_hydrogen_storage = 50000000\n",
    "\n",
    "#hydrogen storage\n",
    "#investment_methanol_storage = 50000000\n",
    "\n",
    "#further components like CO2 vaporizer, steam engine etc. \n",
    "#relevant to have a routine that identifies the units automatically. \n",
    "\n",
    "\n",
    "# changes made in excel sheets:\n",
    "# methanol input prep file: object_type was added\n",
    "# unit investment costs for detilation tower changed from see methanol reactor to values of methanol reactor\n",
    "# To adjust:\n",
    "# unit investment costs for each object type and uniform units (€/kW, €/MW ?) \n",
    "# delete Calculation of investment for destilation tower?\n",
    "# Steam_Plant investments costs?"
   ]
  },
  {
   "cell_type": "code",
   "execution_count": null,
   "id": "4c1124e8-754f-4ab5-8365-39f01ed40e74",
   "metadata": {},
   "outputs": [],
   "source": [
    "df_system_cost_output"
   ]
  },
  {
   "cell_type": "markdown",
   "id": "61ad742f-b940-4a64-a004-914589933af4",
   "metadata": {},
   "source": [
    "### variable costs"
   ]
  },
  {
   "cell_type": "code",
   "execution_count": null,
   "id": "88f19d29-6149-4c56-b54a-05b77f220e8b",
   "metadata": {},
   "outputs": [],
   "source": [
    "#get annual costs\n",
    "annual_costs = df_system_cost_output.loc['total_costs_toy__', 'Total_adjusted_cost']"
   ]
  },
  {
   "cell_type": "markdown",
   "id": "00292144-6cc4-4bd4-bf7a-5511be59f75f",
   "metadata": {},
   "source": [
    "### energy output"
   ]
  },
  {
   "cell_type": "code",
   "execution_count": null,
   "id": "52470cc8-be24-4320-af22-d9ba493bdd9b",
   "metadata": {},
   "outputs": [],
   "source": [
    "#energy output\n",
    "energy_output_methanol = df_output.filter(like='Tower_to_node_E-Methanol_Kasso')\n",
    "\n",
    "# Convert strings to numbers, ignoring non-numeric values (relevant as first rows are strings)\n",
    "energy_output_methanol_value = pd.to_numeric(energy_output_methanol.iloc[:,0], errors='coerce').sum()"
   ]
  },
  {
   "cell_type": "code",
   "execution_count": null,
   "id": "18ccb250-1289-4be1-9487-1cbf98597a86",
   "metadata": {},
   "outputs": [],
   "source": [
    "#calculation of the present value factor\n",
    "pcf_value = present_value_factor(time_horizon, wacc)\n",
    "\n",
    "LCOE = (total_investment + (annual_costs * pcf_value)) / (energy_output_methanol_value * pcf_value)\n",
    "LCOE"
   ]
  },
  {
   "cell_type": "markdown",
   "id": "5ee1b225",
   "metadata": {},
   "source": [
    "### Creating one combined excel and export"
   ]
  },
  {
   "cell_type": "code",
   "execution_count": null,
   "id": "92a38069",
   "metadata": {},
   "outputs": [],
   "source": [
    "with pd.ExcelWriter(output_file_path + excel_name + '.xlsx') as writer:\n",
    "    df_output.to_excel(writer, sheet_name='flows_node_states')\n",
    "    df_system_cost_output.to_excel(writer, sheet_name='system_costs')"
   ]
  },
  {
   "cell_type": "code",
   "execution_count": 19,
   "id": "38e6f2dd-710f-402b-8a4b-6e74c316a68b",
   "metadata": {},
   "outputs": [
    {
     "name": "stdout",
     "output_type": "stream",
     "text": [
      "Hi\n"
     ]
    },
    {
     "ename": "NameError",
     "evalue": "name 'df_model_definition' is not defined",
     "output_type": "error",
     "traceback": [
      "\u001b[1;31m---------------------------------------------------------------------------\u001b[0m",
      "\u001b[1;31mNameError\u001b[0m                                 Traceback (most recent call last)",
      "Cell \u001b[1;32mIn[19], line 6\u001b[0m\n\u001b[0;32m      3\u001b[0m \u001b[38;5;28;01mif\u001b[39;00m \u001b[38;5;124m\"\u001b[39m\u001b[38;5;124mstorage\u001b[39m\u001b[38;5;124m\"\u001b[39m \u001b[38;5;129;01min\u001b[39;00m x\u001b[38;5;241m.\u001b[39mlower():\n\u001b[0;32m      4\u001b[0m     \u001b[38;5;28mprint\u001b[39m(\u001b[38;5;124m\"\u001b[39m\u001b[38;5;124mHi\u001b[39m\u001b[38;5;124m\"\u001b[39m)\n\u001b[1;32m----> 6\u001b[0m \u001b[38;5;28mprint\u001b[39m(df_model_definition[\u001b[38;5;241m3\u001b[39m, \u001b[38;5;124m\"\u001b[39m\u001b[38;5;124mObject_Name\u001b[39m\u001b[38;5;124m\"\u001b[39m]\u001b[38;5;241m.\u001b[39mlower())\n",
      "\u001b[1;31mNameError\u001b[0m: name 'df_model_definition' is not defined"
     ]
    }
   ],
   "source": [
    "# Test\n",
    "x = \"test_Storage_system\"\n",
    "if \"storage\" in x.lower():\n",
    "    print(\"Hi\")\n",
    "\n"
   ]
  },
  {
   "cell_type": "code",
   "execution_count": null,
   "id": "e1309e0b-a5b9-46bb-b468-c9670cf93ebb",
   "metadata": {},
   "outputs": [],
   "source": []
  },
  {
   "cell_type": "code",
   "execution_count": null,
   "id": "ca25d00d-c1ef-4d13-ad67-5c928df80cf5",
   "metadata": {},
   "outputs": [],
   "source": []
  }
 ],
 "metadata": {
  "kernelspec": {
   "display_name": "Python 3 (ipykernel)",
   "language": "python",
   "name": "python3"
  },
  "language_info": {
   "codemirror_mode": {
    "name": "ipython",
    "version": 3
   },
   "file_extension": ".py",
   "mimetype": "text/x-python",
   "name": "python",
   "nbconvert_exporter": "python",
   "pygments_lexer": "ipython3",
   "version": "3.11.7"
  }
 },
 "nbformat": 4,
 "nbformat_minor": 5
}
