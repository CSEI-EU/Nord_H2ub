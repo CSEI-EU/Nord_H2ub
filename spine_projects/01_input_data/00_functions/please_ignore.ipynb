{
 "cells": [
  {
   "cell_type": "markdown",
   "id": "43ea4b8f-0ba4-4513-8872-53f4a538a0d3",
   "metadata": {
    "papermill": {
     "duration": 0.014719,
     "end_time": "2024-11-08T12:49:42.072532",
     "exception": false,
     "start_time": "2024-11-08T12:49:42.057813",
     "status": "completed"
    },
    "tags": []
   },
   "source": [
    "# Data Preparation for the Nord_H2ub Spine Model"
   ]
  },
  {
   "cell_type": "markdown",
   "id": "1aa86773-4431-4a2f-9490-4b3cf0aa8d70",
   "metadata": {
    "papermill": {
     "duration": 0.01601,
     "end_time": "2024-11-08T12:49:42.102543",
     "exception": false,
     "start_time": "2024-11-08T12:49:42.086533",
     "status": "completed"
    },
    "tags": []
   },
   "source": [
    "This jupyter notebook contains all routines for the preparation of the input data sources into a input data file for the model in Spine. \n",
    "\n",
    "**Authors:** Johannes Giehl (jfg.eco@cbs.dk), Dana Hentschel (djh.eco@cbs.dk), Lucia Ciprian (luc.eco@cbs.dk)"
   ]
  },
  {
   "cell_type": "markdown",
   "id": "eb8175ae-f246-4788-a309-c1a4890992f2",
   "metadata": {
    "papermill": {
     "duration": 0.012984,
     "end_time": "2024-11-08T12:49:42.179061",
     "exception": false,
     "start_time": "2024-11-08T12:49:42.166077",
     "status": "completed"
    },
    "tags": []
   },
   "source": [
    "## General settings"
   ]
  },
  {
   "cell_type": "markdown",
   "id": "5bc68f78-3383-4889-bd9e-8b3e3e2f6c2e",
   "metadata": {
    "papermill": {
     "duration": 0.013523,
     "end_time": "2024-11-08T12:49:42.205586",
     "exception": false,
     "start_time": "2024-11-08T12:49:42.192063",
     "status": "completed"
    },
    "tags": []
   },
   "source": [
    "### Packages:"
   ]
  },
  {
   "cell_type": "code",
   "execution_count": 1,
   "id": "f8f47a1c-073f-46c0-8a4d-7dafb1716b9b",
   "metadata": {
    "execution": {
     "iopub.execute_input": "2024-11-08T12:49:42.238583Z",
     "iopub.status.busy": "2024-11-08T12:49:42.238583Z",
     "iopub.status.idle": "2024-11-08T12:49:43.394318Z",
     "shell.execute_reply": "2024-11-08T12:49:43.391313Z"
    },
    "papermill": {
     "duration": 1.176727,
     "end_time": "2024-11-08T12:49:43.398314",
     "exception": false,
     "start_time": "2024-11-08T12:49:42.221587",
     "status": "completed"
    },
    "tags": []
   },
   "outputs": [],
   "source": [
    "import numpy as np\n",
    "import pandas as pd\n",
    "import matplotlib.pyplot as plt\n",
    "from datetime import timedelta\n",
    "import math\n",
    "import sys\n",
    "import os\n",
    "import pickle\n",
    "import warnings\n",
    "import re"
   ]
  },
  {
   "cell_type": "markdown",
   "id": "92141795-3716-404e-8e35-a096dcaa0c40",
   "metadata": {
    "papermill": {
     "duration": 0.015002,
     "end_time": "2024-11-08T12:49:43.429898",
     "exception": false,
     "start_time": "2024-11-08T12:49:43.414896",
     "status": "completed"
    },
    "tags": []
   },
   "source": [
    "### Methods:"
   ]
  },
  {
   "cell_type": "code",
   "execution_count": 2,
   "id": "23418a81-7e7c-47c4-afc1-805a5eb7aed1",
   "metadata": {
    "execution": {
     "iopub.execute_input": "2024-11-08T12:49:43.466897Z",
     "iopub.status.busy": "2024-11-08T12:49:43.466897Z",
     "iopub.status.idle": "2024-11-08T12:49:43.489916Z",
     "shell.execute_reply": "2024-11-08T12:49:43.486898Z"
    },
    "papermill": {
     "duration": 0.04604,
     "end_time": "2024-11-08T12:49:43.492936",
     "exception": false,
     "start_time": "2024-11-08T12:49:43.446896",
     "status": "completed"
    },
    "tags": []
   },
   "outputs": [],
   "source": [
    "# Import the data preparation functions\n",
    "# Determine the current working directory\n",
    "module_path = os.getcwd()\n",
    "\n",
    "if os.path.basename(module_path) != '00_functions':\n",
    "# Set the module path (adjust the relative path if necessary)\n",
    "    module_path = os.path.abspath(os.path.join(module_path, '00_functions'))\n",
    "    if module_path not in sys.path:\n",
    "        sys.path.append(module_path)\n",
    "\n",
    "# Load the functions and methods from the corresponding file\n",
    "from nord_h2ub_data_preparation_functions import *\n",
    "from nord_h2ub_data_preparation_main_functions import *\n",
    "from nord_h2ub_data_preparation_helper_functions import *\n",
    "from nord_h2ub_data_preparation_investment_functions import *"
   ]
  },
  {
   "cell_type": "markdown",
   "id": "3e50630f-868b-40f0-842e-c74d936b5d54",
   "metadata": {
    "papermill": {
     "duration": 0.016003,
     "end_time": "2024-11-08T12:49:43.522526",
     "exception": false,
     "start_time": "2024-11-08T12:49:43.506523",
     "status": "completed"
    },
    "tags": []
   },
   "source": [
    "### Base parameters"
   ]
  },
  {
   "cell_type": "code",
   "execution_count": 3,
   "id": "f557c73c",
   "metadata": {
    "execution": {
     "iopub.execute_input": "2024-11-08T12:49:43.555489Z",
     "iopub.status.busy": "2024-11-08T12:49:43.554491Z",
     "iopub.status.idle": "2024-11-08T12:49:43.584321Z",
     "shell.execute_reply": "2024-11-08T12:49:43.582309Z"
    },
    "papermill": {
     "duration": 0.04778,
     "end_time": "2024-11-08T12:49:43.586303",
     "exception": false,
     "start_time": "2024-11-08T12:49:43.538523",
     "status": "completed"
    },
    "tags": []
   },
   "outputs": [],
   "source": [
    "#this should just be used when running it from the user interface\n",
    "with open(os.path.join(module_path, 'parameters.pkl'), 'rb') as file:\n",
    "    parameters = pickle.load(file)"
   ]
  },
  {
   "cell_type": "code",
   "execution_count": 4,
   "id": "b565675a",
   "metadata": {
    "execution": {
     "iopub.execute_input": "2024-11-08T12:49:43.617659Z",
     "iopub.status.busy": "2024-11-08T12:49:43.617659Z",
     "iopub.status.idle": "2024-11-08T12:49:43.631697Z",
     "shell.execute_reply": "2024-11-08T12:49:43.629816Z"
    },
    "papermill": {
     "duration": 0.032361,
     "end_time": "2024-11-08T12:49:43.633708",
     "exception": false,
     "start_time": "2024-11-08T12:49:43.601347",
     "status": "completed"
    },
    "tags": []
   },
   "outputs": [],
   "source": [
    "if not parameters:  \n",
    "    print(\"Warning: No parameters were injected. Using default parameters only.\")\n",
    "\n",
    "(year, start_date, end_date, area, product, \n",
    " powers, powers_capacities, scenario, frequency, \n",
    " model_name, temporal_block, \n",
    " stochastic_scenario, stochastic_structure, report_name, reports, \n",
    " electrolyzer_type, des_segments_electrolyzer, \n",
    " share_of_dh_price_cap, price_level_power, power_price_variance, \n",
    " roll_forward_use, roll_forward_size, num_slices, datetime_index, \n",
    " candidate_nonzero, \n",
    " investment_period_default, investment_cost_params, investment_limit_params,\n",
    " capacities_exisiting_params) = set_parameters(parameters)"
   ]
  },
  {
   "cell_type": "markdown",
   "id": "4c56b541-1fbd-4e7e-9cf3-2ff25f8da472",
   "metadata": {
    "papermill": {
     "duration": 0.015001,
     "end_time": "2024-11-08T12:49:43.661711",
     "exception": false,
     "start_time": "2024-11-08T12:49:43.646710",
     "status": "completed"
    },
    "tags": []
   },
   "source": [
    "### File paths"
   ]
  },
  {
   "cell_type": "code",
   "execution_count": 5,
   "id": "5b811bdc-ac7b-4cd7-8e32-8f84bda412a2",
   "metadata": {
    "execution": {
     "iopub.execute_input": "2024-11-08T12:49:43.705257Z",
     "iopub.status.busy": "2024-11-08T12:49:43.702722Z",
     "iopub.status.idle": "2024-11-08T12:49:43.725817Z",
     "shell.execute_reply": "2024-11-08T12:49:43.723983Z"
    },
    "papermill": {
     "duration": 0.049087,
     "end_time": "2024-11-08T12:49:43.727820",
     "exception": false,
     "start_time": "2024-11-08T12:49:43.678733",
     "status": "completed"
    },
    "tags": []
   },
   "outputs": [],
   "source": [
    "# Set path to correct folders\n",
    "'''still not working if it is not started from this jupyter notebook'''\n",
    "# Input data\n",
    "excel_file_path = get_excel_file_path() + '/01_input_raw/'\n",
    "# Prepared input data\n",
    "output_file_path = get_excel_file_path() + '/02_input_prepared/'"
   ]
  },
  {
   "cell_type": "code",
   "execution_count": 6,
   "id": "89169e64-f204-47bb-9a83-17156a4aefa8",
   "metadata": {
    "execution": {
     "iopub.execute_input": "2024-11-08T12:49:43.756819Z",
     "iopub.status.busy": "2024-11-08T12:49:43.755818Z",
     "iopub.status.idle": "2024-11-08T12:49:43.772818Z",
     "shell.execute_reply": "2024-11-08T12:49:43.771817Z"
    },
    "papermill": {
     "duration": 0.035002,
     "end_time": "2024-11-08T12:49:43.775821",
     "exception": false,
     "start_time": "2024-11-08T12:49:43.740819",
     "status": "completed"
    },
    "tags": []
   },
   "outputs": [],
   "source": [
    "# Set name of the relevant files\n",
    "\n",
    "Model_structure_file = '/Model_Data_Base_' + product + '.xlsx'\n",
    "efficiency_electrolyzer_file = 'Efficiency_Electrolyzers.xlsx'\n",
    "distric_heating_price_file = 'energy_prices/district_heating_price_cap.xlsx'\n",
    "investment_costs_file = '/investment_cost_overview/Investment_cost_overview.xlsx'\n",
    "mapping_file = '/methanol_object_mapping.xlsx'\n",
    "\n",
    "PV_data_availabilityfactors = 'PV_availability_factors_Kasso.xlsx'\n",
    "Wind_data_availabilityfactors = 'Wind_availability_factors_Kasso.xlsx'\n",
    "data_powerprices = 'Day_ahead_prices_' + str(year) + '.xlsx'\n",
    "grid_costs = 'energy_prices/grid_costs.xlsx'\n",
    "\n",
    "# Output file\n",
    "output_file_name = product + '_Input_prepared.xlsx'\n",
    "output_mapping_file_name = product + '_object_mapping.xlsx'"
   ]
  },
  {
   "cell_type": "markdown",
   "id": "86d15fe8-064f-4c28-be28-8d924a4ba31b",
   "metadata": {
    "papermill": {
     "duration": 0.013548,
     "end_time": "2024-11-08T12:49:43.805377",
     "exception": false,
     "start_time": "2024-11-08T12:49:43.791829",
     "status": "completed"
    },
    "tags": []
   },
   "source": [
    "\n",
    "## Workflow of the data preparation"
   ]
  },
  {
   "cell_type": "markdown",
   "id": "ef6ad49f-470e-4b29-aa02-c7babb08befb",
   "metadata": {
    "papermill": {
     "duration": 0.016006,
     "end_time": "2024-11-08T12:49:43.836422",
     "exception": false,
     "start_time": "2024-11-08T12:49:43.820416",
     "status": "completed"
    },
    "tags": []
   },
   "source": [
    "### General parameters"
   ]
  },
  {
   "cell_type": "code",
   "execution_count": 7,
   "id": "c50f50c3-e43d-41c2-8158-75596632213b",
   "metadata": {
    "execution": {
     "iopub.execute_input": "2024-11-08T12:49:43.870211Z",
     "iopub.status.busy": "2024-11-08T12:49:43.870211Z",
     "iopub.status.idle": "2024-11-08T12:49:43.947016Z",
     "shell.execute_reply": "2024-11-08T12:49:43.946280Z"
    },
    "papermill": {
     "duration": 0.097651,
     "end_time": "2024-11-08T12:49:43.949064",
     "exception": false,
     "start_time": "2024-11-08T12:49:43.851413",
     "status": "completed"
    },
    "tags": []
   },
   "outputs": [],
   "source": [
    "# Date index\n",
    "date_index = pd.date_range(start=start_date, end=end_date, freq='h')\n",
    "formatted_dates = date_index.strftime('%Y-%m-%dT%H:%M:%S')\n",
    "df_formatted_dates = pd.DataFrame(formatted_dates, columns=['DateTime'])\n",
    "\n",
    "df_time = pd.DataFrame(df_formatted_dates)"
   ]
  },
  {
   "cell_type": "markdown",
   "id": "88fb746a-7cd3-4655-88cf-ac543b003918",
   "metadata": {
    "papermill": {
     "duration": 0.014003,
     "end_time": "2024-11-08T12:49:43.977030",
     "exception": false,
     "start_time": "2024-11-08T12:49:43.963027",
     "status": "completed"
    },
    "tags": []
   },
   "source": [
    "### Data import"
   ]
  },
  {
   "cell_type": "code",
   "execution_count": 8,
   "id": "a42c5077-74ef-4f63-b6d9-4aa3c11aa878",
   "metadata": {
    "execution": {
     "iopub.execute_input": "2024-11-08T12:49:44.012629Z",
     "iopub.status.busy": "2024-11-08T12:49:44.012629Z",
     "iopub.status.idle": "2024-11-08T12:49:52.646454Z",
     "shell.execute_reply": "2024-11-08T12:49:52.642414Z"
    },
    "papermill": {
     "duration": 8.661405,
     "end_time": "2024-11-08T12:49:52.651485",
     "exception": false,
     "start_time": "2024-11-08T12:49:43.990080",
     "status": "completed"
    },
    "tags": []
   },
   "outputs": [],
   "source": [
    "warnings.filterwarnings(\"ignore\", category=UserWarning, module=\"openpyxl\")\n",
    "\n",
    "# Model structure\n",
    "df_model_units_raw = pd.read_excel(excel_file_path + product + Model_structure_file, sheet_name='Units', index_col=None)\n",
    "df_model_connections_raw = pd.read_excel(excel_file_path + product + Model_structure_file, sheet_name='Connections', index_col=None)\n",
    "df_model_storages_raw = pd.read_excel(excel_file_path + product + Model_structure_file, sheet_name='Storages', index_col=None)\n",
    "\n",
    "# Variable efficiency\n",
    "df_efficiency_electrolyzer = pd.read_excel(excel_file_path + efficiency_electrolyzer_file, sheet_name='Efficiency_'+electrolyzer_type)\n",
    "\n",
    "# Availability factor\n",
    "df_PV_availabilityfactors_values = pd.read_excel(excel_file_path+PV_data_availabilityfactors, skiprows=2, usecols=[0,1,2,3,4,5])\n",
    "df_wind_availabilityfactors_values = pd.read_excel(excel_file_path+Wind_data_availabilityfactors, skiprows=2, usecols=[0,1,2,3])\n",
    "\n",
    "# Power prices\n",
    "df_powerprices_total_values = pd.read_excel(excel_file_path+data_powerprices)\n",
    "# Only extracting the prices from our earlier defined area\n",
    "df_powerprices_values = df_powerprices_total_values[df_powerprices_total_values['PriceArea'] == area]\n",
    "df_powerprices_values = df_powerprices_values.reset_index(drop=True)\n",
    "df_grid_costs = pd.read_excel(excel_file_path + grid_costs)\n",
    "\n",
    "# District heating prices\n",
    "df_district_heating_price = pd.read_excel(excel_file_path + distric_heating_price_file, sheet_name='Price_Cap_Calculation', index_col=None)\n",
    "\n",
    "# Investment costs\n",
    "df_investment_costs_raw = pd.read_excel(excel_file_path + investment_costs_file, sheet_name='Investment_Cost', index_col=None)\n",
    "\n",
    "# Mapping between entity and parameter name\n",
    "df_mapping = pd.read_excel(excel_file_path + product + mapping_file, sheet_name='Object_Mapping', index_col=None)"
   ]
  },
  {
   "cell_type": "markdown",
   "id": "c2693fc2-fe36-47a1-9b08-00f73dd53b9f",
   "metadata": {
    "papermill": {
     "duration": 0.013997,
     "end_time": "2024-11-08T12:49:52.683448",
     "exception": false,
     "start_time": "2024-11-08T12:49:52.669451",
     "status": "completed"
    },
    "tags": []
   },
   "source": [
    "### Adjustments"
   ]
  },
  {
   "cell_type": "markdown",
   "id": "e73718c6",
   "metadata": {
    "papermill": {
     "duration": 0.013474,
     "end_time": "2024-11-08T12:49:52.711978",
     "exception": false,
     "start_time": "2024-11-08T12:49:52.698504",
     "status": "completed"
    },
    "tags": []
   },
   "source": [
    "#### Add powers information to database:"
   ]
  },
  {
   "cell_type": "code",
   "execution_count": 9,
   "id": "861e7dc2",
   "metadata": {
    "execution": {
     "iopub.execute_input": "2024-11-08T12:49:52.741986Z",
     "iopub.status.busy": "2024-11-08T12:49:52.740986Z",
     "iopub.status.idle": "2024-11-08T12:49:52.753979Z",
     "shell.execute_reply": "2024-11-08T12:49:52.752329Z"
    },
    "papermill": {
     "duration": 0.030482,
     "end_time": "2024-11-08T12:49:52.756466",
     "exception": false,
     "start_time": "2024-11-08T12:49:52.725984",
     "status": "completed"
    },
    "tags": []
   },
   "outputs": [],
   "source": [
    "# Add missing power source if necessary\n",
    "\n",
    "# Step 1: Check for Solar plant\n",
    "if 'Solar plant' in powers_capacities and powers_capacities['Solar plant'] is not None:\n",
    "    if not (df_model_units_raw['Object_type'] == 'PV_plant').any():\n",
    "        new_row = {col: np.nan for col in df_model_units_raw.columns}  # Initialize all columns with NaN\n",
    "        new_row['Unit'] = 'solar_plant'\n",
    "        new_row['Object_type'] = 'PV_plant'\n",
    "        new_row['Output1'] = 'power'\n",
    "        new_row_df = pd.DataFrame([new_row])\n",
    "        df_model_units_raw = pd.concat([df_model_units_raw, new_row_df], ignore_index = True)\n",
    "    capacities_exisiting_params['capacity_PV_plant'] = powers_capacities['Solar plant']\n",
    "\n",
    "# Step 2: Check for Wind_onshore\n",
    "if 'Wind onshore' in powers_capacities and pd.notna(powers_capacities['Wind onshore']):\n",
    "    if not (df_model_units_raw['Object_type'] == 'Wind_onshore').any():\n",
    "        new_row = {col: np.nan for col in df_model_units_raw.columns}  # Initialize all columns with NaN\n",
    "        new_row['Unit'] = 'wind_onshore'\n",
    "        new_row['Object_type'] = 'Wind_onshore'\n",
    "        new_row['Output1'] = 'power'\n",
    "        new_row_df = pd.DataFrame([new_row])\n",
    "        df_model_units_raw = pd.concat([df_model_units_raw, new_row_df], ignore_index = True)\n",
    "    capacities_exisiting_params['capacity_Wind_onshore'] = powers_capacities['Wind onshore']\n",
    "\n",
    "# Step 3: Check for Wind_offshore\n",
    "if 'Wind offshore' in powers_capacities and pd.notna(powers_capacities['Wind offshore']):\n",
    "    if not (df_model_units_raw['Object_type'] == 'Wind_offshore').any():\n",
    "        new_row = {col: np.nan for col in df_model_units_raw.columns}  # Initialize all columns with NaN\n",
    "        new_row['Unit'] = 'wind_offshore'\n",
    "        new_row['Object_type'] = 'Wind_offshore'\n",
    "        new_row['Output1'] = 'power'\n",
    "        new_row_df = pd.DataFrame([new_row])\n",
    "        df_model_units_raw = pd.concat([df_model_units_raw, new_row_df], ignore_index = True)\n",
    "    capacities_exisiting_params['Wind_offshore'] = powers_capacities['Wind offshore']\n",
    "\n",
    "# Check if Grid power is unchecked and if so, remove from db\n",
    "if 'Grid' not in powers:\n",
    "    df_model_connections_raw = df_model_connections_raw[~df_model_connections_raw['Connection'].str.contains(\"wholesale\", case=False)]"
   ]
  },
  {
   "cell_type": "markdown",
   "id": "28376bad-520d-4ab3-85ce-2d1cf91ac5e5",
   "metadata": {
    "papermill": {
     "duration": 0.013,
     "end_time": "2024-11-08T12:49:52.782505",
     "exception": false,
     "start_time": "2024-11-08T12:49:52.769505",
     "status": "completed"
    },
    "tags": []
   },
   "source": [
    "#### Adjust base elements:"
   ]
  },
  {
   "cell_type": "code",
   "execution_count": 10,
   "id": "7dfe4eb9-681a-4574-8170-cdc08156460b",
   "metadata": {
    "execution": {
     "iopub.execute_input": "2024-11-08T12:49:52.815621Z",
     "iopub.status.busy": "2024-11-08T12:49:52.815621Z",
     "iopub.status.idle": "2024-11-08T12:49:52.831843Z",
     "shell.execute_reply": "2024-11-08T12:49:52.829822Z"
    },
    "papermill": {
     "duration": 0.034329,
     "end_time": "2024-11-08T12:49:52.833844",
     "exception": false,
     "start_time": "2024-11-08T12:49:52.799515",
     "status": "completed"
    },
    "tags": []
   },
   "outputs": [],
   "source": [
    "# Drop some unnecessary information\n",
    "df_model_units = df_model_units_raw.drop(columns = ['Object_type']).copy()\n",
    "df_model_connections = df_model_connections_raw.drop(columns = ['Object_type']).copy()\n",
    "df_model_storages = df_model_storages_raw.drop(columns = ['Object_type']).copy()\n",
    "\n",
    "# Create mapping tables for object name to type\n",
    "df_model_units_mapping = df_model_units_raw[['Unit', 'Object_type']].copy()\n",
    "df_model_connections_mapping = df_model_connections_raw[['Connection', 'Object_type']].copy()\n",
    "df_model_storages_mapping = df_model_storages_raw[['Storage', 'Object_type']].copy()\n",
    "\n",
    "df_model_units_mapping.rename(columns={'Unit': 'Object_name'}, inplace=True)\n",
    "df_model_connections_mapping.rename(columns={'Connection': 'Object_name'}, inplace=True)\n",
    "df_model_storages_mapping.rename(columns={'Storage': 'Object_name'}, inplace=True)\n",
    "\n",
    "# Create a dataframe with mapping of all object in the model\n",
    "df_model_object_mapping = pd.concat([df_model_units_mapping, df_model_connections_mapping, df_model_storages_mapping], axis=0)\n",
    "df_model_object_mapping = df_model_object_mapping.reset_index(drop=True)"
   ]
  },
  {
   "cell_type": "code",
   "execution_count": 11,
   "id": "5bd925e8-09bd-4d8a-9563-39423bf0c804",
   "metadata": {
    "execution": {
     "iopub.execute_input": "2024-11-08T12:49:52.860880Z",
     "iopub.status.busy": "2024-11-08T12:49:52.860880Z",
     "iopub.status.idle": "2024-11-08T12:49:52.876830Z",
     "shell.execute_reply": "2024-11-08T12:49:52.876050Z"
    },
    "papermill": {
     "duration": 0.031952,
     "end_time": "2024-11-08T12:49:52.878833",
     "exception": false,
     "start_time": "2024-11-08T12:49:52.846881",
     "status": "completed"
    },
    "tags": []
   },
   "outputs": [],
   "source": [
    "# Transform the investment information from the user interface into a dataframe\n",
    "df_filtered_investment_cost = filter_investment_data(name_parameter='investment_cost', **investment_cost_params)\n",
    "df_filtered_investment_limit = filter_investment_data(name_parameter='investment_limit', **investment_limit_params)\n",
    "df_filtered_existing_cap = filter_investment_data(name_parameter='capacities_exisiting', **capacities_exisiting_params)"
   ]
  },
  {
   "cell_type": "code",
   "execution_count": 12,
   "id": "e1a2fb76-9d1a-4989-8cee-8f13b1f085a1",
   "metadata": {
    "execution": {
     "iopub.execute_input": "2024-11-08T12:49:52.908849Z",
     "iopub.status.busy": "2024-11-08T12:49:52.908849Z",
     "iopub.status.idle": "2024-11-08T12:49:52.940145Z",
     "shell.execute_reply": "2024-11-08T12:49:52.939144Z"
    },
    "papermill": {
     "duration": 0.051358,
     "end_time": "2024-11-08T12:49:52.943154",
     "exception": false,
     "start_time": "2024-11-08T12:49:52.891796",
     "status": "completed"
    },
    "tags": []
   },
   "outputs": [],
   "source": [
    "# Align information of the dataframes for investments\n",
    "df_investment_limit = map_parameters_by_similarity(df_model_object_mapping, df_filtered_investment_limit, 'inv_limit_')\n",
    "df_investment_cost = map_parameters_by_similarity(df_model_object_mapping, df_filtered_investment_cost, 'inv_cost_')\n",
    "df_existing_cap = map_parameters_by_similarity(df_model_object_mapping, df_filtered_existing_cap, 'capacity_')\n",
    "# Move Object_name column to first column \n",
    "df_investment_limit = move_column_to_first(df_investment_limit, 'Object_name')\n",
    "df_investment_cost = move_column_to_first(df_investment_cost, 'Object_name')\n",
    "df_existing_cap = move_column_to_first(df_existing_cap, 'Object_name')\n",
    "# Merge the two dataframes to have one dataframe with all the investment information from the user interface\n",
    "df_investment_params = pd.merge(df_investment_limit, df_investment_cost, on='Object_name', how='left')\n",
    "df_investment_params = pd.merge(df_investment_params, df_existing_cap, on='Object_name', how='left')\n",
    "#update the values of RES in the investment params based on the user input\n",
    "#relevant to set the limit and existing capacity in this df\n",
    "df_investment_params = update_res_parameter_in_invest(df_investment_params, powers_capacities, 'capacities_exisiting')\n",
    "df_investment_params = update_res_parameter_in_invest(df_investment_params, powers_capacities, 'investment_limit')"
   ]
  },
  {
   "cell_type": "code",
   "execution_count": 13,
   "id": "28e86607-2ad3-4aa8-8bbd-3bee30a62970",
   "metadata": {
    "execution": {
     "iopub.execute_input": "2024-11-08T12:49:52.971144Z",
     "iopub.status.busy": "2024-11-08T12:49:52.971144Z",
     "iopub.status.idle": "2024-11-08T12:49:52.991025Z",
     "shell.execute_reply": "2024-11-08T12:49:52.986963Z"
    },
    "papermill": {
     "duration": 0.039818,
     "end_time": "2024-11-08T12:49:52.995016",
     "exception": false,
     "start_time": "2024-11-08T12:49:52.955198",
     "status": "completed"
    },
    "scrolled": true,
    "tags": []
   },
   "outputs": [],
   "source": [
    "# Adjust the storage loss rate values to fit to the SpineOpt implementation\n",
    "df_model_storages = adjust_frac_state_loss(df_model_storages, 'frac_state_loss')"
   ]
  },
  {
   "cell_type": "code",
   "execution_count": 14,
   "id": "1f7ec120-9bbf-40af-ac29-9b429051d1a7",
   "metadata": {
    "execution": {
     "iopub.execute_input": "2024-11-08T12:49:53.029622Z",
     "iopub.status.busy": "2024-11-08T12:49:53.029622Z",
     "iopub.status.idle": "2024-11-08T12:49:53.052617Z",
     "shell.execute_reply": "2024-11-08T12:49:53.049563Z"
    },
    "papermill": {
     "duration": 0.04403,
     "end_time": "2024-11-08T12:49:53.057654",
     "exception": false,
     "start_time": "2024-11-08T12:49:53.013624",
     "status": "completed"
    },
    "tags": []
   },
   "outputs": [],
   "source": [
    "# Extract connections into a separate df\n",
    "df_connections = process_dataframe(df_model_connections, 'Connection', 'connection')\n",
    "\n",
    "# Define the elements of the network\n",
    "df_definition, df_nodes = create_definition_dataframe(df_model_units, df_model_connections)"
   ]
  },
  {
   "cell_type": "markdown",
   "id": "287b3c37-228f-47f0-a99e-2df1f87512d5",
   "metadata": {
    "papermill": {
     "duration": 0.012966,
     "end_time": "2024-11-08T12:49:53.087610",
     "exception": false,
     "start_time": "2024-11-08T12:49:53.074644",
     "status": "completed"
    },
    "tags": []
   },
   "source": [
    "## Fitting data into format"
   ]
  },
  {
   "cell_type": "markdown",
   "id": "d9140ca0",
   "metadata": {
    "papermill": {
     "duration": 0.012509,
     "end_time": "2024-11-08T12:49:53.113118",
     "exception": false,
     "start_time": "2024-11-08T12:49:53.100609",
     "status": "completed"
    },
    "tags": []
   },
   "source": [
    "### Object parameters:"
   ]
  },
  {
   "cell_type": "code",
   "execution_count": 15,
   "id": "f3c90d86-d62f-49aa-bf8c-a7ceec921d8b",
   "metadata": {
    "execution": {
     "iopub.execute_input": "2024-11-08T12:49:53.154135Z",
     "iopub.status.busy": "2024-11-08T12:49:53.154135Z",
     "iopub.status.idle": "2024-11-08T12:49:53.210147Z",
     "shell.execute_reply": "2024-11-08T12:49:53.209144Z"
    },
    "papermill": {
     "duration": 0.074532,
     "end_time": "2024-11-08T12:49:53.212666",
     "exception": false,
     "start_time": "2024-11-08T12:49:53.138134",
     "status": "completed"
    },
    "tags": []
   },
   "outputs": [
    {
     "name": "stderr",
     "output_type": "stream",
     "text": [
      "C:\\Users\\jfg.eco\\Documents\\GitHub\\Nord_H2ub\\Spine_Projects\\01_input_data\\00_functions\\nord_h2ub_data_preparation_functions.py:449: FutureWarning: The behavior of DataFrame concatenation with empty or all-NA entries is deprecated. In a future version, this will no longer exclude empty or all-NA columns when determining the result dtypes. To retain the old behavior, exclude the relevant entries before the concat operation.\n",
      "  unit_parameter_df = pd.concat([unit_parameter_df, pd.DataFrame([new_row])], ignore_index=True)\n",
      "C:\\Users\\jfg.eco\\Documents\\GitHub\\Nord_H2ub\\Spine_Projects\\01_input_data\\00_functions\\nord_h2ub_data_preparation_functions.py:449: FutureWarning: The behavior of DataFrame concatenation with empty or all-NA entries is deprecated. In a future version, this will no longer exclude empty or all-NA columns when determining the result dtypes. To retain the old behavior, exclude the relevant entries before the concat operation.\n",
      "  unit_parameter_df = pd.concat([unit_parameter_df, pd.DataFrame([new_row])], ignore_index=True)\n"
     ]
    },
    {
     "data": {
      "text/html": [
       "<div>\n",
       "<style scoped>\n",
       "    .dataframe tbody tr th:only-of-type {\n",
       "        vertical-align: middle;\n",
       "    }\n",
       "\n",
       "    .dataframe tbody tr th {\n",
       "        vertical-align: top;\n",
       "    }\n",
       "\n",
       "    .dataframe thead th {\n",
       "        text-align: right;\n",
       "    }\n",
       "</style>\n",
       "<table border=\"1\" class=\"dataframe\">\n",
       "  <thead>\n",
       "    <tr style=\"text-align: right;\">\n",
       "      <th></th>\n",
       "      <th>Object_name</th>\n",
       "      <th>Category</th>\n",
       "      <th>Parameter</th>\n",
       "      <th>Value</th>\n",
       "    </tr>\n",
       "  </thead>\n",
       "  <tbody>\n",
       "    <tr>\n",
       "      <th>0</th>\n",
       "      <td>solar_plant</td>\n",
       "      <td>unit</td>\n",
       "      <td>fom_cost</td>\n",
       "      <td>0.0</td>\n",
       "    </tr>\n",
       "    <tr>\n",
       "      <th>1</th>\n",
       "      <td>electrolyzer</td>\n",
       "      <td>unit</td>\n",
       "      <td>fom_cost</td>\n",
       "      <td>4.34</td>\n",
       "    </tr>\n",
       "    <tr>\n",
       "      <th>2</th>\n",
       "      <td>ch3oh_reactor</td>\n",
       "      <td>unit</td>\n",
       "      <td>fom_cost</td>\n",
       "      <td>4.45</td>\n",
       "    </tr>\n",
       "    <tr>\n",
       "      <th>3</th>\n",
       "      <td>steam_plant</td>\n",
       "      <td>unit</td>\n",
       "      <td>fom_cost</td>\n",
       "      <td>0.119292</td>\n",
       "    </tr>\n",
       "    <tr>\n",
       "      <th>4</th>\n",
       "      <td>ch3oh_reactor</td>\n",
       "      <td>unit</td>\n",
       "      <td>min_down_time</td>\n",
       "      <td>48h</td>\n",
       "    </tr>\n",
       "  </tbody>\n",
       "</table>\n",
       "</div>"
      ],
      "text/plain": [
       "     Object_name Category      Parameter     Value\n",
       "0    solar_plant     unit       fom_cost       0.0\n",
       "1   electrolyzer     unit       fom_cost      4.34\n",
       "2  ch3oh_reactor     unit       fom_cost      4.45\n",
       "3    steam_plant     unit       fom_cost  0.119292\n",
       "4  ch3oh_reactor     unit  min_down_time       48h"
      ]
     },
     "execution_count": 15,
     "metadata": {},
     "output_type": "execute_result"
    }
   ],
   "source": [
    "# Create a data frame for all parameters of units\n",
    "\n",
    "# Add fixed operation and maintenance cost\n",
    "unit_fom_cost_df = create_object_parameters(df_model_units, 'Unit', 'fom_cost')\n",
    "# Add unit minimal downtime\n",
    "unit_min_down_time_df = create_object_parameters(df_model_units, 'Unit', 'min_down_time')\n",
    "# Add unit on cost\n",
    "unit_on_cost_df = create_object_parameters(df_model_units, 'Unit', 'units_on_cost')\n",
    "# Add start up costs\n",
    "start_up_cost_df = create_object_parameters(df_model_units, 'Unit', 'start_up_cost')\n",
    "# Add shut down costs\n",
    "shut_down_cost_df = create_object_parameters(df_model_units, 'Unit', 'shut_down_cost')\n",
    "\n",
    "connection_fom_cost_df = create_object_parameters(df_model_connections, 'Connection', 'fom_cost')\n",
    "\n",
    "# Create a complete data frame with all parameters\n",
    "unit_parameters_df = pd.concat([unit_fom_cost_df, unit_min_down_time_df, unit_on_cost_df, start_up_cost_df, shut_down_cost_df, connection_fom_cost_df], ignore_index=True)\n",
    "\n",
    "# Show table head for control\n",
    "unit_parameters_df.head()"
   ]
  },
  {
   "cell_type": "code",
   "execution_count": 16,
   "id": "470215f7-7b7f-45f3-a1b6-daa11589ff79",
   "metadata": {
    "execution": {
     "iopub.execute_input": "2024-11-08T12:49:53.255666Z",
     "iopub.status.busy": "2024-11-08T12:49:53.254665Z",
     "iopub.status.idle": "2024-11-08T12:49:53.272668Z",
     "shell.execute_reply": "2024-11-08T12:49:53.271668Z"
    },
    "papermill": {
     "duration": 0.047005,
     "end_time": "2024-11-08T12:49:53.275668",
     "exception": false,
     "start_time": "2024-11-08T12:49:53.228663",
     "status": "completed"
    },
    "tags": []
   },
   "outputs": [],
   "source": [
    "# Create a new data frame for parameters that are given as durations\n",
    "# Necessary as SpineToolbox needs a separate input to map the parameter correctly\n",
    "\n",
    "duration_parameter = 'min_down_time'\n",
    "unit_parameters_duration_df = unit_parameters_df[unit_parameters_df['Parameter'] == duration_parameter]\n",
    "# Resetting the index\n",
    "unit_parameters_duration_df = unit_parameters_duration_df.reset_index(drop=True)\n",
    "\n",
    "# Creating another DataFrame with rows that do not meet the condition\n",
    "unit_parameters_rest_df = unit_parameters_df[unit_parameters_df['Parameter'] != duration_parameter]"
   ]
  },
  {
   "cell_type": "code",
   "execution_count": 17,
   "id": "1d4e42d4-76d0-480d-b7b2-bdb413adfc55",
   "metadata": {
    "execution": {
     "iopub.execute_input": "2024-11-08T12:49:53.337307Z",
     "iopub.status.busy": "2024-11-08T12:49:53.337307Z",
     "iopub.status.idle": "2024-11-08T12:49:53.383306Z",
     "shell.execute_reply": "2024-11-08T12:49:53.382304Z"
    },
    "papermill": {
     "duration": 0.082618,
     "end_time": "2024-11-08T12:49:53.385307",
     "exception": false,
     "start_time": "2024-11-08T12:49:53.302689",
     "status": "completed"
    },
    "tags": []
   },
   "outputs": [],
   "source": [
    "# Create the balance type of the nodes\n",
    "columns_to_select = ['Input1', 'Input2', 'Output1', 'Output2']\n",
    "df_combined = pd.concat([df_model_units, df_model_connections])\n",
    "df_combined = df_combined.reset_index(drop=True)\n",
    "\n",
    "df_nodes_network = create_connection_dataframe(df_combined, columns_to_select)\n",
    "\n",
    "# Get unique values from the 'in' column\n",
    "unique_in_values = df_nodes_network['in'].dropna().unique()\n",
    "\n",
    "# Identify values in 'in' column not present in 'out' column\n",
    "values_not_in_out = unique_in_values[~pd.Series(unique_in_values).isin(df_nodes_network['out'].dropna().unique())]\n",
    "\n",
    "# Get unique values from the 'in' column\n",
    "unique_out_values = df_nodes_network['out'].dropna().unique()\n",
    "\n",
    "# Identify values in 'in' column not present in 'out' column\n",
    "values_not_in_in = unique_out_values[~pd.Series(unique_out_values).isin(df_nodes_network['in'].dropna().unique())]\n",
    "\n",
    "# Create list of unique nodes that are either start or end nodes\n",
    "unique_nodes = values_not_in_out.tolist() + values_not_in_in.tolist()\n",
    "unique_nodes\n",
    "\n",
    "df_nodes_network.replace(np.nan, None, inplace=True)\n",
    "\n",
    "# Check for combinations that are mirrored\n",
    "mirrored_combinations = find_mirror_combinations(df_nodes_network)\n",
    "\n",
    "# Get information of connections for each node\n",
    "partners_dict1 = find_partners(df_nodes_network)\n",
    "partners_dict2 = find_partners(mirrored_combinations)\n",
    "\n",
    "# Check both lists if there are identical entries and list nodes that only have a connection to the same node\n",
    "# Storages are removed as they must be balanced\n",
    "nodes_identical = find_identical_entries(partners_dict1, partners_dict2)\n",
    "\n",
    "# Combined list of start and end nodes that should be unbalanced\n",
    "unbalanced_nodes = nodes_identical + unique_nodes\n",
    "\n",
    "df_nodes['balance_type'] = 'balance_type_node'\n",
    "df_nodes.loc[df_nodes['Object_name'].isin(unbalanced_nodes), 'balance_type'] = 'balance_type_none'"
   ]
  },
  {
   "cell_type": "code",
   "execution_count": 18,
   "id": "0403b80a-9d3f-4557-bda6-2803650bea2d",
   "metadata": {
    "execution": {
     "iopub.execute_input": "2024-11-08T12:49:53.435600Z",
     "iopub.status.busy": "2024-11-08T12:49:53.435600Z",
     "iopub.status.idle": "2024-11-08T12:49:53.462599Z",
     "shell.execute_reply": "2024-11-08T12:49:53.460596Z"
    },
    "papermill": {
     "duration": 0.056278,
     "end_time": "2024-11-08T12:49:53.465599",
     "exception": false,
     "start_time": "2024-11-08T12:49:53.409321",
     "status": "completed"
    },
    "tags": []
   },
   "outputs": [],
   "source": [
    "# Add has_state_node_state_cap and frac_state_loss\n",
    "df_storages_short = df_model_storages.loc[:, ['Storage', 'has_state', 'node_state_cap', 'frac_state_loss']].rename(columns={'Storage': 'Object_name'})\n",
    "df_storages_short['has_state'] = df_storages_short['has_state'].astype(str).str.lower().replace('true', 'true')\n",
    "\n",
    "df_nodes = pd.merge(df_nodes, df_storages_short, on='Object_name', how='left')\n",
    "df_nodes['demand'] = \"\""
   ]
  },
  {
   "cell_type": "code",
   "execution_count": 19,
   "id": "bb44a55f-bd0d-41f3-a96a-2fc67ae92a5e",
   "metadata": {
    "execution": {
     "iopub.execute_input": "2024-11-08T12:49:53.507641Z",
     "iopub.status.busy": "2024-11-08T12:49:53.507641Z",
     "iopub.status.idle": "2024-11-08T12:49:53.541694Z",
     "shell.execute_reply": "2024-11-08T12:49:53.540688Z"
    },
    "papermill": {
     "duration": 0.062105,
     "end_time": "2024-11-08T12:49:53.546696",
     "exception": false,
     "start_time": "2024-11-08T12:49:53.484591",
     "status": "completed"
    },
    "scrolled": true,
    "tags": []
   },
   "outputs": [
    {
     "data": {
      "text/html": [
       "<div>\n",
       "<style scoped>\n",
       "    .dataframe tbody tr th:only-of-type {\n",
       "        vertical-align: middle;\n",
       "    }\n",
       "\n",
       "    .dataframe tbody tr th {\n",
       "        vertical-align: top;\n",
       "    }\n",
       "\n",
       "    .dataframe thead th {\n",
       "        text-align: right;\n",
       "    }\n",
       "</style>\n",
       "<table border=\"1\" class=\"dataframe\">\n",
       "  <thead>\n",
       "    <tr style=\"text-align: right;\">\n",
       "      <th></th>\n",
       "      <th>Object_name</th>\n",
       "      <th>Category</th>\n",
       "      <th>balance_type</th>\n",
       "      <th>has_state</th>\n",
       "      <th>node_state_cap</th>\n",
       "      <th>frac_state_loss</th>\n",
       "      <th>demand</th>\n",
       "      <th>node_slack_penalty</th>\n",
       "    </tr>\n",
       "  </thead>\n",
       "  <tbody>\n",
       "    <tr>\n",
       "      <th>0</th>\n",
       "      <td>co2</td>\n",
       "      <td>node</td>\n",
       "      <td>balance_type_none</td>\n",
       "      <td>NaN</td>\n",
       "      <td>NaN</td>\n",
       "      <td>NaN</td>\n",
       "      <td></td>\n",
       "      <td></td>\n",
       "    </tr>\n",
       "    <tr>\n",
       "      <th>1</th>\n",
       "      <td>water</td>\n",
       "      <td>node</td>\n",
       "      <td>balance_type_none</td>\n",
       "      <td>NaN</td>\n",
       "      <td>NaN</td>\n",
       "      <td>NaN</td>\n",
       "      <td></td>\n",
       "      <td></td>\n",
       "    </tr>\n",
       "    <tr>\n",
       "      <th>2</th>\n",
       "      <td>power</td>\n",
       "      <td>node</td>\n",
       "      <td>balance_type_node</td>\n",
       "      <td>NaN</td>\n",
       "      <td>NaN</td>\n",
       "      <td>NaN</td>\n",
       "      <td></td>\n",
       "      <td>100000000</td>\n",
       "    </tr>\n",
       "    <tr>\n",
       "      <th>3</th>\n",
       "      <td>h2</td>\n",
       "      <td>node</td>\n",
       "      <td>balance_type_node</td>\n",
       "      <td>NaN</td>\n",
       "      <td>NaN</td>\n",
       "      <td>NaN</td>\n",
       "      <td></td>\n",
       "      <td>100000000</td>\n",
       "    </tr>\n",
       "    <tr>\n",
       "      <th>4</th>\n",
       "      <td>heat</td>\n",
       "      <td>node</td>\n",
       "      <td>balance_type_node</td>\n",
       "      <td>NaN</td>\n",
       "      <td>NaN</td>\n",
       "      <td>NaN</td>\n",
       "      <td></td>\n",
       "      <td></td>\n",
       "    </tr>\n",
       "  </tbody>\n",
       "</table>\n",
       "</div>"
      ],
      "text/plain": [
       "  Object_name Category       balance_type has_state  node_state_cap  \\\n",
       "0         co2     node  balance_type_none       NaN             NaN   \n",
       "1       water     node  balance_type_none       NaN             NaN   \n",
       "2       power     node  balance_type_node       NaN             NaN   \n",
       "3          h2     node  balance_type_node       NaN             NaN   \n",
       "4        heat     node  balance_type_node       NaN             NaN   \n",
       "\n",
       "   frac_state_loss demand node_slack_penalty  \n",
       "0              NaN                            \n",
       "1              NaN                            \n",
       "2              NaN                 100000000  \n",
       "3              NaN                 100000000  \n",
       "4              NaN                            "
      ]
     },
     "execution_count": 19,
     "metadata": {},
     "output_type": "execute_result"
    }
   ],
   "source": [
    "# Create a dataframe with all nodes that should have a slack based on the unit input and outputs\n",
    "nodes_for_slack_df = check_entries_exist(df_model_units, 'node')\n",
    "\n",
    "# Merge the information into the prepared data frame\n",
    "merged_df = pd.merge(df_nodes, nodes_for_slack_df, left_on='Object_name', right_on='node', how='left')\n",
    "merged_df = merged_df.drop(columns=['node'])\n",
    "merged_df['node_slack_penalty'] = merged_df['node_slack_penalty'].replace({True: 100000000, False: ''})\n",
    "# Create a dataframe with all nodes that should have a slack based on the connection input and outputs\n",
    "nodes_for_slack_df2 = check_entries_exist(df_model_connections, 'connection')\n",
    "# Merge the information into the prepared data frame\n",
    "merged_df2 = pd.merge(df_nodes, nodes_for_slack_df2, left_on='Object_name', right_on='connection', how='left')\n",
    "merged_df2 = merged_df2.drop(columns=['connection'])\n",
    "merged_df2['node_slack_penalty'] = merged_df2['node_slack_penalty'].replace({True: 100000000, False: ''})\n",
    "# Link the information about the slack of both data frames\n",
    "merged_df2['node_slack_penalty'] = merged_df['node_slack_penalty'].combine_first(merged_df2['node_slack_penalty'])\n",
    "# Clean the information that only nodes with 'balance_type_node' have a penalty\n",
    "merged_df2.loc[merged_df2['balance_type'] == 'balance_type_none', 'node_slack_penalty'] = ''\n",
    "\n",
    "# Add the information into the df_nodes\n",
    "df_nodes['node_slack_penalty'] = merged_df2['node_slack_penalty']\n",
    "\n",
    "# Show table head for control\n",
    "df_nodes.head()"
   ]
  },
  {
   "cell_type": "markdown",
   "id": "1b527344-851f-47c0-a12e-72942d4176eb",
   "metadata": {
    "papermill": {
     "duration": 0.04202,
     "end_time": "2024-11-08T12:49:53.611704",
     "exception": false,
     "start_time": "2024-11-08T12:49:53.569684",
     "status": "completed"
    },
    "tags": []
   },
   "source": [
    "### Relationships:"
   ]
  },
  {
   "cell_type": "markdown",
   "id": "19ea16b2-0e98-4ca2-b6ec-aa840ac09d20",
   "metadata": {
    "papermill": {
     "duration": 0.018993,
     "end_time": "2024-11-08T12:49:53.658236",
     "exception": false,
     "start_time": "2024-11-08T12:49:53.639243",
     "status": "completed"
    },
    "tags": []
   },
   "source": [
    "#### Object__from/to_node:"
   ]
  },
  {
   "cell_type": "code",
   "execution_count": 20,
   "id": "2a4c5f93-8fa4-4d88-83f9-767f83ff7ed9",
   "metadata": {
    "execution": {
     "iopub.execute_input": "2024-11-08T12:49:53.703335Z",
     "iopub.status.busy": "2024-11-08T12:49:53.702331Z",
     "iopub.status.idle": "2024-11-08T12:49:53.731001Z",
     "shell.execute_reply": "2024-11-08T12:49:53.730125Z"
    },
    "papermill": {
     "duration": 0.05168,
     "end_time": "2024-11-08T12:49:53.733999",
     "exception": false,
     "start_time": "2024-11-08T12:49:53.682319",
     "status": "completed"
    },
    "tags": []
   },
   "outputs": [
    {
     "data": {
      "text/html": [
       "<div>\n",
       "<style scoped>\n",
       "    .dataframe tbody tr th:only-of-type {\n",
       "        vertical-align: middle;\n",
       "    }\n",
       "\n",
       "    .dataframe tbody tr th {\n",
       "        vertical-align: top;\n",
       "    }\n",
       "\n",
       "    .dataframe thead th {\n",
       "        text-align: right;\n",
       "    }\n",
       "</style>\n",
       "<table border=\"1\" class=\"dataframe\">\n",
       "  <thead>\n",
       "    <tr style=\"text-align: right;\">\n",
       "      <th></th>\n",
       "      <th>Relationship_class_name</th>\n",
       "      <th>Object_class</th>\n",
       "      <th>Object_name</th>\n",
       "      <th>Node</th>\n",
       "      <th>Parameter</th>\n",
       "      <th>Value</th>\n",
       "    </tr>\n",
       "  </thead>\n",
       "  <tbody>\n",
       "    <tr>\n",
       "      <th>0</th>\n",
       "      <td>unit__to_node</td>\n",
       "      <td>unit</td>\n",
       "      <td>solar_plant</td>\n",
       "      <td>power</td>\n",
       "      <td>unit_capacity</td>\n",
       "      <td>304.0</td>\n",
       "    </tr>\n",
       "    <tr>\n",
       "      <th>1</th>\n",
       "      <td>unit__from_node</td>\n",
       "      <td>unit</td>\n",
       "      <td>electrolyzer</td>\n",
       "      <td>power</td>\n",
       "      <td>unit_capacity</td>\n",
       "      <td>52.0</td>\n",
       "    </tr>\n",
       "    <tr>\n",
       "      <th>2</th>\n",
       "      <td>unit__to_node</td>\n",
       "      <td>unit</td>\n",
       "      <td>co2_vaporizer</td>\n",
       "      <td>vaporized_co2</td>\n",
       "      <td>unit_capacity</td>\n",
       "      <td>100.0</td>\n",
       "    </tr>\n",
       "    <tr>\n",
       "      <th>3</th>\n",
       "      <td>unit__to_node</td>\n",
       "      <td>unit</td>\n",
       "      <td>dist_tower</td>\n",
       "      <td>ch3oh</td>\n",
       "      <td>unit_capacity</td>\n",
       "      <td>52.0</td>\n",
       "    </tr>\n",
       "    <tr>\n",
       "      <th>4</th>\n",
       "      <td>unit__to_node</td>\n",
       "      <td>unit</td>\n",
       "      <td>ch3oh_reactor</td>\n",
       "      <td>raw_ch3oh</td>\n",
       "      <td>unit_capacity</td>\n",
       "      <td>52.0</td>\n",
       "    </tr>\n",
       "  </tbody>\n",
       "</table>\n",
       "</div>"
      ],
      "text/plain": [
       "  Relationship_class_name Object_class    Object_name           Node  \\\n",
       "0           unit__to_node         unit    solar_plant          power   \n",
       "1         unit__from_node         unit   electrolyzer          power   \n",
       "2           unit__to_node         unit  co2_vaporizer  vaporized_co2   \n",
       "3           unit__to_node         unit     dist_tower          ch3oh   \n",
       "4           unit__to_node         unit  ch3oh_reactor      raw_ch3oh   \n",
       "\n",
       "       Parameter  Value  \n",
       "0  unit_capacity  304.0  \n",
       "1  unit_capacity   52.0  \n",
       "2  unit_capacity  100.0  \n",
       "3  unit_capacity   52.0  \n",
       "4  unit_capacity   52.0  "
      ]
     },
     "execution_count": 20,
     "metadata": {},
     "output_type": "execute_result"
    }
   ],
   "source": [
    "### UNITS ###\n",
    "# Add capacities or inv_limits if not.NA from chosen values\n",
    "df_unit_capacity_data = unit_capacity_relations(df_model_units_raw, capacities_exisiting_params, investment_limit_params, powers_capacities)\n",
    "\n",
    "# Retrieve other relationships from database\n",
    "df_unit_relation_data = object_relationship_unit_nodes(df_model_units)\n",
    "\n",
    "# Combine into one dataframe\n",
    "df_unit_relation_parameter_data = pd.concat([df_unit_capacity_data, df_unit_relation_data], ignore_index= True)\n",
    "\n",
    "# Show table head for control\n",
    "df_unit_relation_parameter_data.head()"
   ]
  },
  {
   "cell_type": "code",
   "execution_count": 21,
   "id": "64a07df7",
   "metadata": {
    "execution": {
     "iopub.execute_input": "2024-11-08T12:49:53.774825Z",
     "iopub.status.busy": "2024-11-08T12:49:53.774825Z",
     "iopub.status.idle": "2024-11-08T12:49:53.793656Z",
     "shell.execute_reply": "2024-11-08T12:49:53.792650Z"
    },
    "papermill": {
     "duration": 0.041556,
     "end_time": "2024-11-08T12:49:53.795815",
     "exception": false,
     "start_time": "2024-11-08T12:49:53.754259",
     "status": "completed"
    },
    "tags": []
   },
   "outputs": [],
   "source": [
    "# Add capacities if not already given for minimum_operating_point\n",
    "df_units_min_op_point = df_unit_relation_parameter_data[df_unit_relation_parameter_data['Parameter'].str.contains('minimum_operating_point')]\n",
    "df_nodes_capacity = df_unit_relation_parameter_data[df_unit_relation_parameter_data['Parameter'].str.contains('unit_capacity')]\n",
    "\n",
    "nodes_capacity = df_nodes_capacity['Node'].tolist()\n",
    "\n",
    "rows_to_add = []\n",
    "\n",
    "# Iterate over rows that have minimum_operating_points\n",
    "for index, row in df_units_min_op_point.iterrows():\n",
    "        parameter = row['Parameter']\n",
    "        unit = row['Object_name']\n",
    "        node = row['Node']\n",
    "        relationship = row['Relationship_class_name']\n",
    "        \n",
    "        if node not in nodes_capacity:\n",
    "            row_to_add = {'Relationship_class_name': relationship,\n",
    "                  'Object_class': 'unit',\n",
    "                  'Object_name': unit,\n",
    "                  'Node': node,\n",
    "                  'Parameter': 'unit_capacity',\n",
    "                  'Value': 100\n",
    "                  }\n",
    "            rows_to_add.append(row_to_add)\n",
    "\n",
    "if rows_to_add:\n",
    "    df_rows_to_add = pd.DataFrame(rows_to_add)\n",
    "    df_unit_relation_parameter_data = pd.concat([df_unit_relation_parameter_data, df_rows_to_add], ignore_index=True)"
   ]
  },
  {
   "cell_type": "code",
   "execution_count": 22,
   "id": "74ae88a6",
   "metadata": {
    "execution": {
     "iopub.execute_input": "2024-11-08T12:49:53.831783Z",
     "iopub.status.busy": "2024-11-08T12:49:53.831783Z",
     "iopub.status.idle": "2024-11-08T12:49:53.856780Z",
     "shell.execute_reply": "2024-11-08T12:49:53.855782Z"
    },
    "papermill": {
     "duration": 0.047037,
     "end_time": "2024-11-08T12:49:53.858809",
     "exception": false,
     "start_time": "2024-11-08T12:49:53.811772",
     "status": "completed"
    },
    "tags": []
   },
   "outputs": [
    {
     "data": {
      "text/plain": [
       "'\\nThis is not necessary currently. Until we do not use power flows for running the unit on standby, we do not need this. \\nstandby cost are represented by unit_on_cost. Thus, if the unit is on there is some cost. \\n# Add additional electricity connections if not already existent\\n\\nunits = df_model_units.iloc[:, 0].tolist()\\nlength = len(units)\\ndata = {\\n    \"Relationship_class_name\": [\"unit__from_node\"] * length,\\n    \"Object_class\": [\"unit\"] * length,\\n    \"Object_name\": units,\\n    \"Node\": [\"power\"] * length\\n}\\ndf_electricity = pd.DataFrame(data)\\n\\nunits_with_from_node = df_unit_relation_parameter_data[df_unit_relation_parameter_data[\\'Relationship_class_name\\'].str.contains(\\'unit__from_node\\')]\\nvalid_object_names = units_with_from_node[\\'Object_name\\']\\ndf_electricity_filtered = df_electricity[~df_electricity[\\'Object_name\\'].isin(valid_object_names)]\\n#remove the solar power plant as should not have power input\\n#TODO: improve to all RES used in the case\\ndf_electricity_filtered = df_electricity_filtered[df_electricity_filtered[\\'Object_name\\'] != \\'solar_plant\\']\\n\\nmerged_df = pd.merge(df_electricity_filtered, units_with_from_node, on=[\\'Relationship_class_name\\', \\'Object_class\\', \\'Object_name\\', \\'Node\\'], how=\\'left\\', indicator=True)\\ndf_electricity_nodes = merged_df[merged_df[\\'_merge\\'] == \\'left_only\\'].drop(columns=\\'_merge\\')\\n\\ndf_unit_relation_parameter_data = pd.concat([df_unit_relation_parameter_data, df_electricity_nodes], ignore_index=True)'"
      ]
     },
     "execution_count": 22,
     "metadata": {},
     "output_type": "execute_result"
    }
   ],
   "source": [
    "'''\n",
    "This is not necessary currently. Until we do not use power flows for running the unit on standby, we do not need this. \n",
    "standby cost are represented by unit_on_cost. Thus, if the unit is on there is some cost. \n",
    "# Add additional electricity connections if not already existent\n",
    "\n",
    "units = df_model_units.iloc[:, 0].tolist()\n",
    "length = len(units)\n",
    "data = {\n",
    "    \"Relationship_class_name\": [\"unit__from_node\"] * length,\n",
    "    \"Object_class\": [\"unit\"] * length,\n",
    "    \"Object_name\": units,\n",
    "    \"Node\": [\"power\"] * length\n",
    "}\n",
    "df_electricity = pd.DataFrame(data)\n",
    "\n",
    "units_with_from_node = df_unit_relation_parameter_data[df_unit_relation_parameter_data['Relationship_class_name'].str.contains('unit__from_node')]\n",
    "valid_object_names = units_with_from_node['Object_name']\n",
    "df_electricity_filtered = df_electricity[~df_electricity['Object_name'].isin(valid_object_names)]\n",
    "#remove the solar power plant as should not have power input\n",
    "#TODO: improve to all RES used in the case\n",
    "df_electricity_filtered = df_electricity_filtered[df_electricity_filtered['Object_name'] != 'solar_plant']\n",
    "\n",
    "merged_df = pd.merge(df_electricity_filtered, units_with_from_node, on=['Relationship_class_name', 'Object_class', 'Object_name', 'Node'], how='left', indicator=True)\n",
    "df_electricity_nodes = merged_df[merged_df['_merge'] == 'left_only'].drop(columns='_merge')\n",
    "\n",
    "df_unit_relation_parameter_data = pd.concat([df_unit_relation_parameter_data, df_electricity_nodes], ignore_index=True)'''"
   ]
  },
  {
   "cell_type": "code",
   "execution_count": 23,
   "id": "e92030e0-f252-49f5-b58c-defa9a0da163",
   "metadata": {
    "execution": {
     "iopub.execute_input": "2024-11-08T12:49:53.889785Z",
     "iopub.status.busy": "2024-11-08T12:49:53.889785Z",
     "iopub.status.idle": "2024-11-08T12:49:53.904974Z",
     "shell.execute_reply": "2024-11-08T12:49:53.903067Z"
    },
    "papermill": {
     "duration": 0.035251,
     "end_time": "2024-11-08T12:49:53.909035",
     "exception": false,
     "start_time": "2024-11-08T12:49:53.873784",
     "status": "completed"
    },
    "tags": []
   },
   "outputs": [],
   "source": [
    "### CONNECTIONS ###\n",
    "df_connection_relation_parameter_data = object_relationship_connection_nodes(df_model_connections)"
   ]
  },
  {
   "cell_type": "code",
   "execution_count": 24,
   "id": "65d8c41c-8fb4-4a60-883b-94b70f5ace80",
   "metadata": {
    "execution": {
     "iopub.execute_input": "2024-11-08T12:49:53.948101Z",
     "iopub.status.busy": "2024-11-08T12:49:53.948101Z",
     "iopub.status.idle": "2024-11-08T12:49:53.967952Z",
     "shell.execute_reply": "2024-11-08T12:49:53.967061Z"
    },
    "papermill": {
     "duration": 0.041858,
     "end_time": "2024-11-08T12:49:53.970953",
     "exception": false,
     "start_time": "2024-11-08T12:49:53.929095",
     "status": "completed"
    },
    "tags": []
   },
   "outputs": [
    {
     "data": {
      "text/html": [
       "<div>\n",
       "<style scoped>\n",
       "    .dataframe tbody tr th:only-of-type {\n",
       "        vertical-align: middle;\n",
       "    }\n",
       "\n",
       "    .dataframe tbody tr th {\n",
       "        vertical-align: top;\n",
       "    }\n",
       "\n",
       "    .dataframe thead th {\n",
       "        text-align: right;\n",
       "    }\n",
       "</style>\n",
       "<table border=\"1\" class=\"dataframe\">\n",
       "  <thead>\n",
       "    <tr style=\"text-align: right;\">\n",
       "      <th></th>\n",
       "      <th>Relationship_class_name</th>\n",
       "      <th>Object_class</th>\n",
       "      <th>Object_name</th>\n",
       "      <th>Node</th>\n",
       "      <th>Parameter</th>\n",
       "      <th>Value</th>\n",
       "    </tr>\n",
       "  </thead>\n",
       "  <tbody>\n",
       "    <tr>\n",
       "      <th>0</th>\n",
       "      <td>unit__to_node</td>\n",
       "      <td>unit</td>\n",
       "      <td>solar_plant</td>\n",
       "      <td>power</td>\n",
       "      <td>unit_capacity</td>\n",
       "      <td>304.0</td>\n",
       "    </tr>\n",
       "    <tr>\n",
       "      <th>1</th>\n",
       "      <td>unit__from_node</td>\n",
       "      <td>unit</td>\n",
       "      <td>electrolyzer</td>\n",
       "      <td>power</td>\n",
       "      <td>unit_capacity</td>\n",
       "      <td>52.0</td>\n",
       "    </tr>\n",
       "    <tr>\n",
       "      <th>2</th>\n",
       "      <td>unit__to_node</td>\n",
       "      <td>unit</td>\n",
       "      <td>co2_vaporizer</td>\n",
       "      <td>vaporized_co2</td>\n",
       "      <td>unit_capacity</td>\n",
       "      <td>100.0</td>\n",
       "    </tr>\n",
       "    <tr>\n",
       "      <th>3</th>\n",
       "      <td>unit__to_node</td>\n",
       "      <td>unit</td>\n",
       "      <td>dist_tower</td>\n",
       "      <td>ch3oh</td>\n",
       "      <td>unit_capacity</td>\n",
       "      <td>52.0</td>\n",
       "    </tr>\n",
       "    <tr>\n",
       "      <th>4</th>\n",
       "      <td>unit__to_node</td>\n",
       "      <td>unit</td>\n",
       "      <td>ch3oh_reactor</td>\n",
       "      <td>raw_ch3oh</td>\n",
       "      <td>unit_capacity</td>\n",
       "      <td>52.0</td>\n",
       "    </tr>\n",
       "  </tbody>\n",
       "</table>\n",
       "</div>"
      ],
      "text/plain": [
       "  Relationship_class_name Object_class    Object_name           Node  \\\n",
       "0           unit__to_node         unit    solar_plant          power   \n",
       "1         unit__from_node         unit   electrolyzer          power   \n",
       "2           unit__to_node         unit  co2_vaporizer  vaporized_co2   \n",
       "3           unit__to_node         unit     dist_tower          ch3oh   \n",
       "4           unit__to_node         unit  ch3oh_reactor      raw_ch3oh   \n",
       "\n",
       "       Parameter  Value  \n",
       "0  unit_capacity  304.0  \n",
       "1  unit_capacity   52.0  \n",
       "2  unit_capacity  100.0  \n",
       "3  unit_capacity   52.0  \n",
       "4  unit_capacity   52.0  "
      ]
     },
     "execution_count": 24,
     "metadata": {},
     "output_type": "execute_result"
    }
   ],
   "source": [
    "# Create combined DataFrame:\n",
    "df_object__node = pd.concat([df_unit_relation_parameter_data, df_connection_relation_parameter_data])\n",
    "df_object__node = df_object__node.reset_index(drop=True)\n",
    "\n",
    "# Show df head for control\n",
    "df_object__node.head()"
   ]
  },
  {
   "cell_type": "code",
   "execution_count": 25,
   "id": "36e1391f-d8cd-45dd-9867-7aefa0327740",
   "metadata": {
    "execution": {
     "iopub.execute_input": "2024-11-08T12:49:54.000997Z",
     "iopub.status.busy": "2024-11-08T12:49:54.000997Z",
     "iopub.status.idle": "2024-11-08T12:49:54.016142Z",
     "shell.execute_reply": "2024-11-08T12:49:54.014091Z"
    },
    "papermill": {
     "duration": 0.035185,
     "end_time": "2024-11-08T12:49:54.020135",
     "exception": false,
     "start_time": "2024-11-08T12:49:53.984950",
     "status": "completed"
    },
    "tags": []
   },
   "outputs": [],
   "source": [
    "# Create a DataFrame for the definition of the object_node relationships\n",
    "df_object__node_definitions = pd.DataFrame(df_object__node[['Relationship_class_name', 'Object_class', 'Object_name', 'Node']])\n",
    "df_object__node_definitions = df_object__node_definitions.drop_duplicates()\n",
    "df_object__node_definitions = df_object__node_definitions.reset_index(drop=True)\n",
    "\n",
    "# Drop rows where no parameters for the relationship are defined (column has missing values (NaN or None))\n",
    "drop_no_value_column = 'Parameter'\n",
    "df_object__node_values = df_object__node[df_object__node[drop_no_value_column] != '']"
   ]
  },
  {
   "cell_type": "code",
   "execution_count": 26,
   "id": "39ad3726",
   "metadata": {
    "execution": {
     "iopub.execute_input": "2024-11-08T12:49:54.060129Z",
     "iopub.status.busy": "2024-11-08T12:49:54.060129Z",
     "iopub.status.idle": "2024-11-08T12:49:54.110156Z",
     "shell.execute_reply": "2024-11-08T12:49:54.109179Z"
    },
    "papermill": {
     "duration": 0.073028,
     "end_time": "2024-11-08T12:49:54.112160",
     "exception": false,
     "start_time": "2024-11-08T12:49:54.039132",
     "status": "completed"
    },
    "tags": []
   },
   "outputs": [
    {
     "data": {
      "text/html": [
       "<div>\n",
       "<style scoped>\n",
       "    .dataframe tbody tr th:only-of-type {\n",
       "        vertical-align: middle;\n",
       "    }\n",
       "\n",
       "    .dataframe tbody tr th {\n",
       "        vertical-align: top;\n",
       "    }\n",
       "\n",
       "    .dataframe thead th {\n",
       "        text-align: right;\n",
       "    }\n",
       "</style>\n",
       "<table border=\"1\" class=\"dataframe\">\n",
       "  <thead>\n",
       "    <tr style=\"text-align: right;\">\n",
       "      <th></th>\n",
       "      <th>Relationship_class_name</th>\n",
       "      <th>Object_class</th>\n",
       "      <th>Object_name</th>\n",
       "      <th>Node</th>\n",
       "    </tr>\n",
       "  </thead>\n",
       "  <tbody>\n",
       "    <tr>\n",
       "      <th>0</th>\n",
       "      <td>unit__to_node</td>\n",
       "      <td>unit</td>\n",
       "      <td>solar_plant</td>\n",
       "      <td>power</td>\n",
       "    </tr>\n",
       "    <tr>\n",
       "      <th>1</th>\n",
       "      <td>unit__from_node</td>\n",
       "      <td>unit</td>\n",
       "      <td>electrolyzer</td>\n",
       "      <td>power</td>\n",
       "    </tr>\n",
       "    <tr>\n",
       "      <th>2</th>\n",
       "      <td>unit__to_node</td>\n",
       "      <td>unit</td>\n",
       "      <td>co2_vaporizer</td>\n",
       "      <td>vaporized_co2</td>\n",
       "    </tr>\n",
       "    <tr>\n",
       "      <th>3</th>\n",
       "      <td>unit__to_node</td>\n",
       "      <td>unit</td>\n",
       "      <td>dist_tower</td>\n",
       "      <td>ch3oh</td>\n",
       "    </tr>\n",
       "    <tr>\n",
       "      <th>4</th>\n",
       "      <td>unit__to_node</td>\n",
       "      <td>unit</td>\n",
       "      <td>ch3oh_reactor</td>\n",
       "      <td>raw_ch3oh</td>\n",
       "    </tr>\n",
       "  </tbody>\n",
       "</table>\n",
       "</div>"
      ],
      "text/plain": [
       "  Relationship_class_name Object_class    Object_name           Node\n",
       "0           unit__to_node         unit    solar_plant          power\n",
       "1         unit__from_node         unit   electrolyzer          power\n",
       "2           unit__to_node         unit  co2_vaporizer  vaporized_co2\n",
       "3           unit__to_node         unit     dist_tower          ch3oh\n",
       "4           unit__to_node         unit  ch3oh_reactor      raw_ch3oh"
      ]
     },
     "execution_count": 26,
     "metadata": {},
     "output_type": "execute_result"
    }
   ],
   "source": [
    "# Add rest of to/from_node relations\n",
    "rows_to_add = []\n",
    "# Add from\n",
    "for index, row in df_model_units_raw.iterrows():\n",
    "        in1 = row['Input1']\n",
    "        in2 = row['Input2']\n",
    "        \n",
    "        if pd.notna(in1):\n",
    "            row_to_add = {'Relationship_class_name': 'unit__from_node',\n",
    "                          'Object_class': 'unit',\n",
    "                          'Object_name': row['Unit'],\n",
    "                          'Node': in1\n",
    "                         }\n",
    "            if not any((df_object__node_definitions == pd.Series(row_to_add)).all(axis=1)):\n",
    "                rows_to_add.append(row_to_add)\n",
    "            \n",
    "        if pd.notna(in2):\n",
    "            row_to_add = {'Relationship_class_name': 'unit__from_node',\n",
    "                          'Object_class': 'unit',\n",
    "                          'Object_name': row['Unit'],\n",
    "                          'Node': in2\n",
    "                         }\n",
    "            if not any((df_object__node_definitions == pd.Series(row_to_add)).all(axis=1)):\n",
    "                rows_to_add.append(row_to_add)\n",
    "\n",
    "# Add to\n",
    "for index, row in df_model_units_raw.iterrows():\n",
    "        out1 = row['Output1']\n",
    "        out2 = row['Output2']\n",
    "        \n",
    "        if pd.notna(out1):\n",
    "            row_to_add = {'Relationship_class_name': 'unit__to_node',\n",
    "                          'Object_class': 'unit',\n",
    "                          'Object_name': row['Unit'],\n",
    "                          'Node': out1\n",
    "                         }\n",
    "            if not any((df_object__node_definitions == pd.Series(row_to_add)).all(axis=1)):\n",
    "                rows_to_add.append(row_to_add)\n",
    "            \n",
    "        if pd.notna(out2):\n",
    "            row_to_add = {'Relationship_class_name': 'unit__to_node',\n",
    "                          'Object_class': 'unit',\n",
    "                          'Object_name': row['Unit'],\n",
    "                          'Node': out2\n",
    "                         }\n",
    "            if not any((df_object__node_definitions == pd.Series(row_to_add)).all(axis=1)):\n",
    "                rows_to_add.append(row_to_add)\n",
    "\n",
    "df_object__node_definitions = pd.concat([df_object__node_definitions, pd.DataFrame(rows_to_add)], ignore_index=True)\n",
    "\n",
    "# Show df head for control\n",
    "df_object__node_definitions.head()"
   ]
  },
  {
   "cell_type": "markdown",
   "id": "9ebeb807-b807-4882-b8cd-67a174c8edbd",
   "metadata": {
    "papermill": {
     "duration": 0.018005,
     "end_time": "2024-11-08T12:49:54.146658",
     "exception": false,
     "start_time": "2024-11-08T12:49:54.128653",
     "status": "completed"
    },
    "tags": []
   },
   "source": [
    "#### Object__node_node:"
   ]
  },
  {
   "cell_type": "code",
   "execution_count": 27,
   "id": "1fd5a160-3f18-4656-82ee-484e7e703cc8",
   "metadata": {
    "execution": {
     "iopub.execute_input": "2024-11-08T12:49:54.182896Z",
     "iopub.status.busy": "2024-11-08T12:49:54.181897Z",
     "iopub.status.idle": "2024-11-08T12:49:54.267335Z",
     "shell.execute_reply": "2024-11-08T12:49:54.265304Z"
    },
    "papermill": {
     "duration": 0.106561,
     "end_time": "2024-11-08T12:49:54.270298",
     "exception": false,
     "start_time": "2024-11-08T12:49:54.163737",
     "status": "completed"
    },
    "scrolled": true,
    "tags": []
   },
   "outputs": [
    {
     "data": {
      "text/html": [
       "<div>\n",
       "<style scoped>\n",
       "    .dataframe tbody tr th:only-of-type {\n",
       "        vertical-align: middle;\n",
       "    }\n",
       "\n",
       "    .dataframe tbody tr th {\n",
       "        vertical-align: top;\n",
       "    }\n",
       "\n",
       "    .dataframe thead th {\n",
       "        text-align: right;\n",
       "    }\n",
       "</style>\n",
       "<table border=\"1\" class=\"dataframe\">\n",
       "  <thead>\n",
       "    <tr style=\"text-align: right;\">\n",
       "      <th></th>\n",
       "      <th>Relationship</th>\n",
       "      <th>Object_class</th>\n",
       "      <th>Object_name</th>\n",
       "      <th>Node1</th>\n",
       "      <th>Node2</th>\n",
       "      <th>Parameter</th>\n",
       "      <th>Value</th>\n",
       "    </tr>\n",
       "  </thead>\n",
       "  <tbody>\n",
       "    <tr>\n",
       "      <th>0</th>\n",
       "      <td>unit__node__node</td>\n",
       "      <td>unit</td>\n",
       "      <td>electrolyzer</td>\n",
       "      <td>power</td>\n",
       "      <td>water</td>\n",
       "      <td>fix_ratio_in_in_unit_flow</td>\n",
       "      <td>0.005850</td>\n",
       "    </tr>\n",
       "    <tr>\n",
       "      <th>1</th>\n",
       "      <td>unit__node__node</td>\n",
       "      <td>unit</td>\n",
       "      <td>co2_vaporizer</td>\n",
       "      <td>power</td>\n",
       "      <td>co2</td>\n",
       "      <td>fix_ratio_in_in_unit_flow</td>\n",
       "      <td>0.003529</td>\n",
       "    </tr>\n",
       "    <tr>\n",
       "      <th>2</th>\n",
       "      <td>unit__node__node</td>\n",
       "      <td>unit</td>\n",
       "      <td>dist_tower</td>\n",
       "      <td>raw_ch3oh</td>\n",
       "      <td>steam</td>\n",
       "      <td>fix_ratio_in_in_unit_flow</td>\n",
       "      <td>17.277902</td>\n",
       "    </tr>\n",
       "    <tr>\n",
       "      <th>3</th>\n",
       "      <td>unit__node__node</td>\n",
       "      <td>unit</td>\n",
       "      <td>ch3oh_reactor</td>\n",
       "      <td>h2</td>\n",
       "      <td>vaporized_co2</td>\n",
       "      <td>fix_ratio_in_in_unit_flow</td>\n",
       "      <td>5.173497</td>\n",
       "    </tr>\n",
       "    <tr>\n",
       "      <th>4</th>\n",
       "      <td>unit__node__node</td>\n",
       "      <td>unit</td>\n",
       "      <td>steam_plant</td>\n",
       "      <td>power</td>\n",
       "      <td>water</td>\n",
       "      <td>fix_ratio_in_in_unit_flow</td>\n",
       "      <td>0.000724</td>\n",
       "    </tr>\n",
       "  </tbody>\n",
       "</table>\n",
       "</div>"
      ],
      "text/plain": [
       "       Relationship Object_class    Object_name      Node1          Node2  \\\n",
       "0  unit__node__node         unit   electrolyzer      power          water   \n",
       "1  unit__node__node         unit  co2_vaporizer      power            co2   \n",
       "2  unit__node__node         unit     dist_tower  raw_ch3oh          steam   \n",
       "3  unit__node__node         unit  ch3oh_reactor         h2  vaporized_co2   \n",
       "4  unit__node__node         unit    steam_plant      power          water   \n",
       "\n",
       "                   Parameter      Value  \n",
       "0  fix_ratio_in_in_unit_flow   0.005850  \n",
       "1  fix_ratio_in_in_unit_flow   0.003529  \n",
       "2  fix_ratio_in_in_unit_flow  17.277902  \n",
       "3  fix_ratio_in_in_unit_flow   5.173497  \n",
       "4  fix_ratio_in_in_unit_flow   0.000724  "
      ]
     },
     "execution_count": 27,
     "metadata": {},
     "output_type": "execute_result"
    }
   ],
   "source": [
    "# Define which columns to check\n",
    "columns_In_In_Unit = ['Unit', 'Input1', 'Input2']\n",
    "columns_In_Out_Unit = ['Unit', 'Input1', 'Output1']\n",
    "columns_Out_Out_Unit = ['Unit', 'Output1', 'Output2']\n",
    "columns_In_In_Connection = ['Connection', 'Input1', 'Input2']\n",
    "columns_In_Out_Connection = ['Connection', 'Input1', 'Output1']\n",
    "columns_Out_Out_Connection = ['Connection', 'Output1', 'Output2']\n",
    "columns_Out_In_Connection = ['Connection', 'Output1', 'Input1']\n",
    "\n",
    "### UNITS ###\n",
    "# Create list of tuples with values of cells + fix_ratio_XXX_XXX\n",
    "values_in_in_units = [('unit__node__node', 'unit', row[columns_In_In_Unit[0]], row[columns_In_In_Unit[1]], row[columns_In_In_Unit[2]], \n",
    "                       'fix_ratio_in_in_unit_flow', row['Relation_In_In']) \n",
    "                      if not pd.isnull(row[columns_In_In_Unit]).any() else (np.nan, np.nan, None) for _, row in df_model_units.iterrows() \n",
    "                      if not pd.isnull(row[columns_In_In_Unit]).any()]\n",
    "values_in_out_units = [('unit__node__node', 'unit', row[columns_In_Out_Unit[0]], row[columns_In_Out_Unit[1]], row[columns_In_Out_Unit[2]], \n",
    "                        'fix_ratio_in_out_unit_flow', row['Relation_In_Out']) \n",
    "                      if not pd.isnull(row[columns_In_Out_Unit]).any() else (np.nan, np.nan, None) for _, row in df_model_units.iterrows() \n",
    "                      if not pd.isnull(row[columns_In_Out_Unit]).any()]\n",
    "values_out_out_units = [('unit__node__node', 'unit', row[columns_Out_Out_Unit[0]], row[columns_Out_Out_Unit[1]], row[columns_Out_Out_Unit[2]], \n",
    "                         'fix_ratio_out_out_unit_flow', row['Relation_Out_Out']) \n",
    "                      if not pd.isnull(row[columns_Out_Out_Unit]).any() else (np.nan, np.nan, None) for _, row in df_model_units.iterrows() \n",
    "                      if not pd.isnull(row[columns_Out_Out_Unit]).any()]\n",
    "\n",
    "df_fix_ratio_in_in_units = pd.DataFrame(values_in_in_units, columns=['Relationship', 'Object_class', 'Object_name', 'Node1', \n",
    "                                                                     'Node2', 'Parameter', 'Value'])\n",
    "df_fix_ratio_in_out_units = pd.DataFrame(values_in_out_units, columns=['Relationship', 'Object_class', 'Object_name', 'Node1', \n",
    "                                                                       'Node2', 'Parameter', 'Value'])\n",
    "df_fix_ratio_out_out_units = pd.DataFrame(values_out_out_units, columns=['Relationship', 'Object_class', 'Object_name', 'Node1', \n",
    "                                                                         'Node2', 'Parameter', 'Value'])\n",
    "\n",
    "### CONNECTIONS ###\n",
    "values_in_in_connections = [('connection__node__node', 'connection', row[columns_In_In_Connection[0]], \n",
    "                             row[columns_In_In_Connection[1]], row[columns_In_In_Connection[2]], \n",
    "                             'fix_ratio_in_in_connection_flow', row['Relation_In_In']) \n",
    "                            if not pd.isnull(row[columns_In_In_Connection]).any() else (np.nan, np.nan, None) for _, row in df_model_connections.iterrows() \n",
    "                            if not pd.isnull(row[columns_In_In_Connection]).any()]\n",
    "# Comment: connections_in_out are no longer supported by Spine, therefore the values get inverted\n",
    "values_in_out_connections = [('connection__node__node', 'connection', row[columns_In_Out_Connection[0]], \n",
    "                              row[columns_In_Out_Connection[1]], row[columns_In_Out_Connection[2]], \n",
    "                              'fix_ratio_out_in_connection_flow', row['Relation_In_Out']) \n",
    "                             if not pd.isnull(row[columns_In_Out_Connection]).any() else (np.nan, np.nan, None) for _, row in df_model_connections.iterrows() \n",
    "                             if not pd.isnull(row[columns_In_Out_Connection]).any()]\n",
    "values_out_out_connections = [('connection__node__node', 'connection', row[columns_Out_Out_Connection[0]], \n",
    "                               row[columns_Out_Out_Connection[1]], row[columns_Out_Out_Connection[2]], \n",
    "                               'fix_ratio_out_out_connection_flow', row['Relation_Out_Out']) \n",
    "                              if not pd.isnull(row[columns_Out_Out_Connection]).any() else (np.nan, np.nan, None) for _, row in df_model_connections.iterrows() \n",
    "                              if not pd.isnull(row[columns_Out_Out_Connection]).any()]\n",
    "values_out_in_connections = [('connection__node__node', 'connection', row[columns_Out_In_Connection[0]], \n",
    "                               row[columns_Out_In_Connection[1]], row[columns_Out_In_Connection[2]], \n",
    "                               'fix_ratio_out_in_connection_flow', row['Relation_Out_In']) \n",
    "                              if not pd.isnull(row[columns_Out_In_Connection]).any() else (np.nan, np.nan, None) for _, row in df_model_connections.iterrows() \n",
    "                              if not pd.isnull(row[columns_Out_In_Connection]).any()]\n",
    "\n",
    "df_fix_ratio_in_in_connections = pd.DataFrame(values_in_in_connections, columns=['Relationship', 'Object_class', 'Object_name', 'Node1', \n",
    "                                                                                 'Node2', 'Parameter', 'Value'])\n",
    "df_fix_ratio_in_out_connections = pd.DataFrame(values_in_out_connections, columns=['Relationship', 'Object_class', 'Object_name', 'Node1', \n",
    "                                                                                   'Node2', 'Parameter', 'Value'])\n",
    "df_fix_ratio_out_out_connections = pd.DataFrame(values_out_out_connections, columns=['Relationship', 'Object_class', 'Object_name', 'Node1', \n",
    "                                                                                     'Node2', 'Parameter', 'Value'])\n",
    "df_fix_ratio_out_in_connections = pd.DataFrame(values_out_in_connections, columns=['Relationship', 'Object_class', 'Object_name', 'Node1', \n",
    "                                                                                     'Node2', 'Parameter', 'Value'])\n",
    "\n",
    "# Create Object_node_node\n",
    "df_object_node_node = pd.concat([df_fix_ratio_in_in_units, df_fix_ratio_in_out_units, df_fix_ratio_out_out_units, \n",
    "                                df_fix_ratio_in_in_connections, df_fix_ratio_in_out_connections, \n",
    "                                df_fix_ratio_out_out_connections, df_fix_ratio_out_in_connections])\n",
    "df_object_node_node = df_object_node_node.reset_index(drop=True)\n",
    "\n",
    "df_object_node_node = df_object_node_node.dropna(subset=['Value'])\n",
    "\n",
    "# Show table head for control\n",
    "df_object_node_node.head()"
   ]
  },
  {
   "cell_type": "code",
   "execution_count": 28,
   "id": "1388dfc3-fb27-4571-ba84-8593ea8413df",
   "metadata": {
    "execution": {
     "iopub.execute_input": "2024-11-08T12:49:54.307308Z",
     "iopub.status.busy": "2024-11-08T12:49:54.306315Z",
     "iopub.status.idle": "2024-11-08T12:49:54.327829Z",
     "shell.execute_reply": "2024-11-08T12:49:54.326825Z"
    },
    "papermill": {
     "duration": 0.041525,
     "end_time": "2024-11-08T12:49:54.329826",
     "exception": false,
     "start_time": "2024-11-08T12:49:54.288301",
     "status": "completed"
    },
    "tags": []
   },
   "outputs": [],
   "source": [
    "# For storages, the out_in_connetion is set in both directions\n",
    "\n",
    "# Step 1: Check if the 'Object_name' column contains the word 'storage'\n",
    "storage_condition = df_object_node_node['Object_name'].str.contains('storage', case=False)\n",
    "\n",
    "# Step 2: Check if the 'Parameter' column starts with 'fix_ratio_'\n",
    "parameter_condition = df_object_node_node['Parameter'].str.startswith('fix_ratio_')\n",
    "\n",
    "# Step 3: Combine both conditions\n",
    "combined_condition = storage_condition & parameter_condition\n",
    "\n",
    "# Step 2: Update the 'Parameter' column for rows that meet the condition\n",
    "df_object_node_node.loc[storage_condition, 'Parameter'] = 'fix_ratio_out_in_connection_flow'"
   ]
  },
  {
   "cell_type": "code",
   "execution_count": 29,
   "id": "68543d3d",
   "metadata": {
    "execution": {
     "iopub.execute_input": "2024-11-08T12:49:54.365829Z",
     "iopub.status.busy": "2024-11-08T12:49:54.365829Z",
     "iopub.status.idle": "2024-11-08T12:49:54.389831Z",
     "shell.execute_reply": "2024-11-08T12:49:54.388827Z"
    },
    "papermill": {
     "duration": 0.046003,
     "end_time": "2024-11-08T12:49:54.391832",
     "exception": false,
     "start_time": "2024-11-08T12:49:54.345829",
     "status": "completed"
    },
    "tags": []
   },
   "outputs": [],
   "source": [
    "# Check if second node is necessary for demand\n",
    "for index, row in df_model_units.iterrows():\n",
    "    df_definition, df_nodes, df_connections, df_object__node_values, df_object_node_node = check_demand_node(\n",
    "        row, temporal_block, resolution_to_block, df_definition, df_nodes, df_connections, \n",
    "        df_object__node_definitions, df_object__node_values, df_object_node_node)"
   ]
  },
  {
   "cell_type": "markdown",
   "id": "c3870c8f",
   "metadata": {
    "papermill": {
     "duration": 0.016547,
     "end_time": "2024-11-08T12:49:54.423415",
     "exception": false,
     "start_time": "2024-11-08T12:49:54.406868",
     "status": "completed"
    },
    "tags": []
   },
   "source": [
    "#### Hard-coded parameter for distillation tower and methanol reactor (please remove once better solution is found)"
   ]
  },
  {
   "cell_type": "code",
   "execution_count": 30,
   "id": "f39b3512",
   "metadata": {
    "execution": {
     "iopub.execute_input": "2024-11-08T12:49:54.455933Z",
     "iopub.status.busy": "2024-11-08T12:49:54.455933Z",
     "iopub.status.idle": "2024-11-08T12:49:54.470290Z",
     "shell.execute_reply": "2024-11-08T12:49:54.467271Z"
    },
    "papermill": {
     "duration": 0.036407,
     "end_time": "2024-11-08T12:49:54.474341",
     "exception": false,
     "start_time": "2024-11-08T12:49:54.437934",
     "status": "completed"
    },
    "tags": []
   },
   "outputs": [],
   "source": [
    "#set the value of the methanol reactor to active in the first timestep \n",
    "data_reactor_start = {\n",
    "    \"Object_name\": [\"ch3oh_reactor\"],\n",
    "    \"Category\": \"unit\",\n",
    "    \"Parameter\": \"initial_units_on\",\n",
    "    \"Value\": 1\n",
    "}\n",
    "df_hardcode_reactor_start = pd.DataFrame(data_reactor_start)\n",
    "\n",
    "# Append new rows to the original DataFrame\n",
    "unit_parameters_rest_df = pd.concat([unit_parameters_rest_df, df_hardcode_reactor_start], ignore_index=True)"
   ]
  },
  {
   "cell_type": "markdown",
   "id": "c56d2046",
   "metadata": {
    "papermill": {
     "duration": 0.016076,
     "end_time": "2024-11-08T12:49:54.510361",
     "exception": false,
     "start_time": "2024-11-08T12:49:54.494285",
     "status": "completed"
    },
    "tags": []
   },
   "source": [
    "#### Investments:"
   ]
  },
  {
   "cell_type": "code",
   "execution_count": 31,
   "id": "8d0cccc8",
   "metadata": {
    "execution": {
     "iopub.execute_input": "2024-11-08T12:49:54.548851Z",
     "iopub.status.busy": "2024-11-08T12:49:54.547848Z",
     "iopub.status.idle": "2024-11-08T12:49:54.593542Z",
     "shell.execute_reply": "2024-11-08T12:49:54.592539Z"
    },
    "papermill": {
     "duration": 0.069687,
     "end_time": "2024-11-08T12:49:54.595541",
     "exception": false,
     "start_time": "2024-11-08T12:49:54.525854",
     "status": "completed"
    },
    "scrolled": true,
    "tags": []
   },
   "outputs": [
    {
     "name": "stderr",
     "output_type": "stream",
     "text": [
      "C:\\Users\\jfg.eco\\AppData\\Local\\Temp\\ipykernel_23640\\2128842004.py:98: FutureWarning: The behavior of DataFrame concatenation with empty or all-NA entries is deprecated. In a future version, this will no longer exclude empty or all-NA columns when determining the result dtypes. To retain the old behavior, exclude the relevant entries before the concat operation.\n",
      "  df_units_inv_parameters = pd.concat([df_units_inv_parameters, pd.DataFrame(rows_to_add)], ignore_index=True)\n"
     ]
    },
    {
     "data": {
      "text/html": [
       "<div>\n",
       "<style scoped>\n",
       "    .dataframe tbody tr th:only-of-type {\n",
       "        vertical-align: middle;\n",
       "    }\n",
       "\n",
       "    .dataframe tbody tr th {\n",
       "        vertical-align: top;\n",
       "    }\n",
       "\n",
       "    .dataframe thead th {\n",
       "        text-align: right;\n",
       "    }\n",
       "</style>\n",
       "<table border=\"1\" class=\"dataframe\">\n",
       "  <thead>\n",
       "    <tr style=\"text-align: right;\">\n",
       "      <th></th>\n",
       "      <th>Object_name</th>\n",
       "      <th>unit_investment_variable_type</th>\n",
       "      <th>initial_units_invested_available</th>\n",
       "      <th>number_of_units</th>\n",
       "      <th>candidate_units</th>\n",
       "      <th>unit_investment_cost</th>\n",
       "      <th>unit_investment_tech_lifetime</th>\n",
       "      <th>unit_investment_econ_lifetime</th>\n",
       "    </tr>\n",
       "  </thead>\n",
       "  <tbody>\n",
       "    <tr>\n",
       "      <th>0</th>\n",
       "      <td>solar_plant</td>\n",
       "      <td>unit_investment_variable_type_continuous</td>\n",
       "      <td>1</td>\n",
       "      <td>0</td>\n",
       "      <td>1</td>\n",
       "      <td>405333.333333</td>\n",
       "      <td>12775D</td>\n",
       "      <td>12775D</td>\n",
       "    </tr>\n",
       "    <tr>\n",
       "      <th>1</th>\n",
       "      <td>electrolyzer</td>\n",
       "      <td>unit_investment_variable_type_continuous</td>\n",
       "      <td>0</td>\n",
       "      <td>0</td>\n",
       "      <td>1</td>\n",
       "      <td>329333.333333</td>\n",
       "      <td>9125D</td>\n",
       "      <td>9125D</td>\n",
       "    </tr>\n",
       "    <tr>\n",
       "      <th>2</th>\n",
       "      <td>co2_vaporizer</td>\n",
       "      <td>unit_investment_variable_type_continuous</td>\n",
       "      <td>0</td>\n",
       "      <td>0</td>\n",
       "      <td>1</td>\n",
       "      <td>208333.333333</td>\n",
       "      <td>7300D</td>\n",
       "      <td>7300D</td>\n",
       "    </tr>\n",
       "    <tr>\n",
       "      <th>3</th>\n",
       "      <td>dist_tower</td>\n",
       "      <td>unit_investment_variable_type_continuous</td>\n",
       "      <td>0</td>\n",
       "      <td>0</td>\n",
       "      <td>1</td>\n",
       "      <td>195000.000000</td>\n",
       "      <td>10950D</td>\n",
       "      <td>10950D</td>\n",
       "    </tr>\n",
       "    <tr>\n",
       "      <th>4</th>\n",
       "      <td>ch3oh_reactor</td>\n",
       "      <td>unit_investment_variable_type_continuous</td>\n",
       "      <td>0</td>\n",
       "      <td>0</td>\n",
       "      <td>1</td>\n",
       "      <td>0.144444</td>\n",
       "      <td>10950D</td>\n",
       "      <td>10950D</td>\n",
       "    </tr>\n",
       "    <tr>\n",
       "      <th>5</th>\n",
       "      <td>steam_plant</td>\n",
       "      <td>unit_investment_variable_type_continuous</td>\n",
       "      <td>0</td>\n",
       "      <td>0</td>\n",
       "      <td>1</td>\n",
       "      <td>62500.000000</td>\n",
       "      <td>7300D</td>\n",
       "      <td>7300D</td>\n",
       "    </tr>\n",
       "  </tbody>\n",
       "</table>\n",
       "</div>"
      ],
      "text/plain": [
       "     Object_name             unit_investment_variable_type  \\\n",
       "0    solar_plant  unit_investment_variable_type_continuous   \n",
       "1   electrolyzer  unit_investment_variable_type_continuous   \n",
       "2  co2_vaporizer  unit_investment_variable_type_continuous   \n",
       "3     dist_tower  unit_investment_variable_type_continuous   \n",
       "4  ch3oh_reactor  unit_investment_variable_type_continuous   \n",
       "5    steam_plant  unit_investment_variable_type_continuous   \n",
       "\n",
       "  initial_units_invested_available number_of_units candidate_units  \\\n",
       "0                                1               0               1   \n",
       "1                                0               0               1   \n",
       "2                                0               0               1   \n",
       "3                                0               0               1   \n",
       "4                                0               0               1   \n",
       "5                                0               0               1   \n",
       "\n",
       "   unit_investment_cost unit_investment_tech_lifetime  \\\n",
       "0         405333.333333                        12775D   \n",
       "1         329333.333333                         9125D   \n",
       "2         208333.333333                         7300D   \n",
       "3         195000.000000                        10950D   \n",
       "4              0.144444                        10950D   \n",
       "5          62500.000000                         7300D   \n",
       "\n",
       "  unit_investment_econ_lifetime  \n",
       "0                        12775D  \n",
       "1                         9125D  \n",
       "2                         7300D  \n",
       "3                        10950D  \n",
       "4                        10950D  \n",
       "5                         7300D  "
      ]
     },
     "execution_count": 31,
     "metadata": {},
     "output_type": "execute_result"
    }
   ],
   "source": [
    "# Initialize df\n",
    "df_units_inv_parameters = pd.DataFrame(columns=['Object_name', 'unit_investment_variable_type', \n",
    "                                                'initial_units_invested_available', 'number_of_units',\n",
    "                                                'candidate_units', 'unit_investment_cost',\n",
    "                                                'unit_investment_tech_lifetime', 'unit_investment_econ_lifetime'])\n",
    "\n",
    "# Choose correct column for investment costs based on chosen year\n",
    "year_columns = {int(col.split()[-1]): col for col in df_investment_costs_raw.columns if 'Value' in col}\n",
    "closest_year = min(year_columns.keys(), key=lambda x: abs(x - year))\n",
    "selected_column = year_columns[closest_year]\n",
    "\n",
    "# Add values if investment is selected\n",
    "if candidate_nonzero:\n",
    "    rows_to_add = []\n",
    "    \n",
    "    for index, row in df_model_units_raw.iterrows():\n",
    "        object_type = row['Object_type']\n",
    "        object_type_inv = row['Object_type']\n",
    "        if object_type in ['PEM_Electrolyzer', 'AEC_Electrolyzer', 'SOEC_Electrolyzer']:\n",
    "            object_type = 'Electrolyzer'\n",
    "        \n",
    "        # Scaling by capacity\n",
    "        pattern_cap = re.compile(rf\"capacity_{object_type}\")\n",
    "        pattern_inv = re.compile(rf\"inv_limit_{object_type}\")\n",
    "        matching_vars_cap = [key for key in capacities_exisiting_params if pattern_cap.match(key)]\n",
    "        matching_vars_inv = [key for key in investment_limit_params if pattern_inv.match(key)]\n",
    "        \n",
    "        if matching_vars_cap:\n",
    "            capacity_name = matching_vars_cap[0]\n",
    "            capacity = capacities_exisiting_params[capacity_name]\n",
    "        else:\n",
    "            capacity = 100\n",
    "        if matching_vars_inv:\n",
    "            investment_limit_name = matching_vars_inv[0]\n",
    "            investment_limit = investment_limit_params[investment_limit_name]\n",
    "        else:\n",
    "            investment_limit = 0\n",
    "        \n",
    "        # Default investment cost\n",
    "        matching_row = df_investment_costs_raw[df_investment_costs_raw['Object_type'] == object_type_inv]\n",
    "        if not matching_row.empty:\n",
    "            # Extract the investment cost and lifetime from matching_row\n",
    "            investment_cost = matching_row[selected_column].values[0]\n",
    "            lifetime_str = matching_row['Lifetime'].values[0]\n",
    "            \n",
    "            # Convert the lifetime to days\n",
    "            lifetime = convert_to_days(lifetime_str, year)\n",
    "        else:\n",
    "            investment_cost = 0  # Default investment cost if no match is found\n",
    "            lifetime = '10950D'  # Default lifetime if no match is found\n",
    "        if investment_limit:\n",
    "            default_value = investment_cost * investment_limit\n",
    "        else:\n",
    "            default_value = investment_cost * capacity\n",
    "        \n",
    "        # Externally chosen investment cost        \n",
    "        pattern = re.compile(rf\"inv_cost_.*{object_type}\")\n",
    "        matching_vars = [key for key in investment_cost_params if pattern.match(key)]\n",
    "        \n",
    "        if matching_vars:\n",
    "            variable_name = matching_vars[0]\n",
    "            variable_value = investment_cost_params[variable_name]\n",
    "            \n",
    "            if variable_value is not None:\n",
    "                if investment_limit:\n",
    "                    unit_investment_cost = variable_value * investment_limit\n",
    "                else:\n",
    "                    unit_investment_cost = variable_value * capacity\n",
    "            else:\n",
    "                unit_investment_cost = default_value\n",
    "        else:\n",
    "            # If no external costs, use the default cost\n",
    "            unit_investment_cost = default_value\n",
    "        \n",
    "        # Calculate  initial units invested available + number of units\n",
    "        if object_type in {'PV_plant', 'Wind_onshore', 'Wind_offshore'}:\n",
    "            value = 1\n",
    "        else:\n",
    "            if investment_limit and capacity:\n",
    "                if capacity:\n",
    "                    value = capacity / investment_limit\n",
    "            else:\n",
    "                value = 0\n",
    "\n",
    "        # Add the results for this row to df_units_inv_parameters\n",
    "        row_to_add = {'Object_name': row['Unit'],\n",
    "                      'unit_investment_variable_type': 'unit_investment_variable_type_continuous',\n",
    "                      'initial_units_invested_available': value,\n",
    "                      'number_of_units': 0,\n",
    "                      'candidate_units': 1, # 1 = investment limit\n",
    "                      'unit_investment_cost': unit_investment_cost,\n",
    "                      'unit_investment_tech_lifetime': lifetime,\n",
    "                      'unit_investment_econ_lifetime': lifetime  # Same as tech lifetime\n",
    "                     }\n",
    "        \n",
    "        rows_to_add.append(row_to_add)\n",
    "        \n",
    "    df_units_inv_parameters = pd.concat([df_units_inv_parameters, pd.DataFrame(rows_to_add)], ignore_index=True)\n",
    "    \n",
    "    # Scale investment costs to lifetime\n",
    "    df_units_inv_parameters = scale_costs(df_units_inv_parameters, start_date, end_date, 'unit')\n",
    "    \n",
    "    # Scale investment costs to roll forward if used\n",
    "    if roll_forward_use:\n",
    "        df_units_inv_parameters['unit_investment_cost'] = df_units_inv_parameters['unit_investment_cost'] / num_slices\n",
    "    \n",
    "# Show table head for control\n",
    "df_units_inv_parameters.head(10)"
   ]
  },
  {
   "cell_type": "code",
   "execution_count": 32,
   "id": "df60b77d",
   "metadata": {
    "execution": {
     "iopub.execute_input": "2024-11-08T12:49:54.632074Z",
     "iopub.status.busy": "2024-11-08T12:49:54.632074Z",
     "iopub.status.idle": "2024-11-08T12:49:54.673094Z",
     "shell.execute_reply": "2024-11-08T12:49:54.671135Z"
    },
    "papermill": {
     "duration": 0.062045,
     "end_time": "2024-11-08T12:49:54.675103",
     "exception": false,
     "start_time": "2024-11-08T12:49:54.613058",
     "status": "completed"
    },
    "tags": []
   },
   "outputs": [
    {
     "data": {
      "text/html": [
       "<div>\n",
       "<style scoped>\n",
       "    .dataframe tbody tr th:only-of-type {\n",
       "        vertical-align: middle;\n",
       "    }\n",
       "\n",
       "    .dataframe tbody tr th {\n",
       "        vertical-align: top;\n",
       "    }\n",
       "\n",
       "    .dataframe thead th {\n",
       "        text-align: right;\n",
       "    }\n",
       "</style>\n",
       "<table border=\"1\" class=\"dataframe\">\n",
       "  <thead>\n",
       "    <tr style=\"text-align: right;\">\n",
       "      <th></th>\n",
       "      <th>Object_name</th>\n",
       "      <th>connection_type</th>\n",
       "      <th>connection_investment_variable_type</th>\n",
       "      <th>initial_connections_invested_available</th>\n",
       "      <th>number_of_connections</th>\n",
       "      <th>candidate_connections</th>\n",
       "      <th>connection_investment_cost</th>\n",
       "      <th>connection_investment_tech_lifetime</th>\n",
       "      <th>connection_investment_econ_lifetime</th>\n",
       "    </tr>\n",
       "  </thead>\n",
       "  <tbody>\n",
       "    <tr>\n",
       "      <th>0</th>\n",
       "      <td>pl_wholesale</td>\n",
       "      <td>connection_type_lossless_bidirectional</td>\n",
       "      <td>connection_investment_variable_type_continuous</td>\n",
       "      <td>1</td>\n",
       "      <td>0</td>\n",
       "      <td>1</td>\n",
       "      <td>0.0</td>\n",
       "      <td>14600D</td>\n",
       "      <td>14600D</td>\n",
       "    </tr>\n",
       "    <tr>\n",
       "      <th>1</th>\n",
       "      <td>pl_h2_st</td>\n",
       "      <td>connection_type_normal</td>\n",
       "      <td>connection_investment_variable_type_continuous</td>\n",
       "      <td>1</td>\n",
       "      <td>0</td>\n",
       "      <td>1</td>\n",
       "      <td>0.0</td>\n",
       "      <td>18250D</td>\n",
       "      <td>18250D</td>\n",
       "    </tr>\n",
       "    <tr>\n",
       "      <th>2</th>\n",
       "      <td>pl_ch3oh_st</td>\n",
       "      <td>connection_type_normal</td>\n",
       "      <td>connection_investment_variable_type_continuous</td>\n",
       "      <td>1</td>\n",
       "      <td>0</td>\n",
       "      <td>1</td>\n",
       "      <td>0.0</td>\n",
       "      <td>18250D</td>\n",
       "      <td>18250D</td>\n",
       "    </tr>\n",
       "    <tr>\n",
       "      <th>3</th>\n",
       "      <td>pl_dh</td>\n",
       "      <td>connection_type_normal</td>\n",
       "      <td>connection_investment_variable_type_continuous</td>\n",
       "      <td>1</td>\n",
       "      <td>0</td>\n",
       "      <td>1</td>\n",
       "      <td>0.0</td>\n",
       "      <td>14600D</td>\n",
       "      <td>14600D</td>\n",
       "    </tr>\n",
       "  </tbody>\n",
       "</table>\n",
       "</div>"
      ],
      "text/plain": [
       "    Object_name                         connection_type  \\\n",
       "0  pl_wholesale  connection_type_lossless_bidirectional   \n",
       "1      pl_h2_st                  connection_type_normal   \n",
       "2   pl_ch3oh_st                  connection_type_normal   \n",
       "3         pl_dh                  connection_type_normal   \n",
       "\n",
       "              connection_investment_variable_type  \\\n",
       "0  connection_investment_variable_type_continuous   \n",
       "1  connection_investment_variable_type_continuous   \n",
       "2  connection_investment_variable_type_continuous   \n",
       "3  connection_investment_variable_type_continuous   \n",
       "\n",
       "  initial_connections_invested_available number_of_connections  \\\n",
       "0                                      1                     0   \n",
       "1                                      1                     0   \n",
       "2                                      1                     0   \n",
       "3                                      1                     0   \n",
       "\n",
       "  candidate_connections connection_investment_cost  \\\n",
       "0                     1                        0.0   \n",
       "1                     1                        0.0   \n",
       "2                     1                        0.0   \n",
       "3                     1                        0.0   \n",
       "\n",
       "  connection_investment_tech_lifetime connection_investment_econ_lifetime  \n",
       "0                              14600D                              14600D  \n",
       "1                              18250D                              18250D  \n",
       "2                              18250D                              18250D  \n",
       "3                              14600D                              14600D  "
      ]
     },
     "execution_count": 32,
     "metadata": {},
     "output_type": "execute_result"
    }
   ],
   "source": [
    "# Initialize df\n",
    "df_connections_inv_parameters = pd.DataFrame(columns=['Object_name', 'connection_type', 'connection_investment_variable_type',\n",
    "                                                      'initial_connections_invested_available', 'number_of_connections',\n",
    "                                                      'candidate_connections', 'connection_investment_cost',\n",
    "                                                      'connection_investment_tech_lifetime', 'connection_investment_econ_lifetime'])\n",
    "\n",
    "# Add values if investment is selected\n",
    "if candidate_nonzero:\n",
    "    rows_to_add = []\n",
    "    \n",
    "    for index, row in df_model_connections_raw.iterrows():\n",
    "        object_type = row['Object_type']\n",
    "        \n",
    "        matching_row = df_investment_costs_raw[df_investment_costs_raw['Object_type'] == object_type]\n",
    "        if not matching_row.empty:\n",
    "            # Extract the investment cost and lifetime from matching_row\n",
    "            investment_cost_default = matching_row[selected_column].values[0]\n",
    "        else:\n",
    "            investment_cost_default = 0  # Default investment cost if no match is found\n",
    "        \n",
    "        connection_type = row['Connection_type']\n",
    "        lifetime = row['connection_investment_tech_lifetime']\n",
    "        lifetime_str = row['connection_investment_tech_lifetime']\n",
    "        # Convert the lifetime to days\n",
    "        lifetime = convert_to_days(lifetime_str, year)\n",
    "        \n",
    "        # Add the results for this row to df_units_inv_parameters\n",
    "        row_to_add = {'Object_name': row['Connection'],\n",
    "                      'connection_type': connection_type,\n",
    "                      'connection_investment_variable_type': 'connection_investment_variable_type_continuous',\n",
    "                      'initial_connections_invested_available': row['initial_connections_invested_available'],\n",
    "                      'number_of_connections': 0,\n",
    "                      'candidate_connections': 1,\n",
    "                      'connection_investment_cost': investment_cost_default,\n",
    "                      'connection_investment_tech_lifetime': lifetime,\n",
    "                      'connection_investment_econ_lifetime': lifetime  # Same as tech lifetime\n",
    "        }\n",
    "        \n",
    "        rows_to_add.append(row_to_add)\n",
    "        \n",
    "    df_connections_inv_parameters = pd.concat([df_connections_inv_parameters, pd.DataFrame(rows_to_add)], ignore_index=True)\n",
    "    \n",
    "    # Scale investment costs to lifetime\n",
    "    df_connections_inv_parameters = scale_costs(df_connections_inv_parameters, start_date, end_date, 'connection')\n",
    "    \n",
    "    # Scale investment costs to roll forward if used\n",
    "    if roll_forward_use:\n",
    "        df_connections_inv_parameters['connection_investment_cost'] = df_connections_inv_parameters['connection_investment_cost'] / num_slices\n",
    "    \n",
    "# Show table head for control\n",
    "df_connections_inv_parameters.head()"
   ]
  },
  {
   "cell_type": "code",
   "execution_count": 33,
   "id": "5a188ced",
   "metadata": {
    "execution": {
     "iopub.execute_input": "2024-11-08T12:49:54.708137Z",
     "iopub.status.busy": "2024-11-08T12:49:54.707142Z",
     "iopub.status.idle": "2024-11-08T12:49:54.750596Z",
     "shell.execute_reply": "2024-11-08T12:49:54.748807Z"
    },
    "papermill": {
     "duration": 0.06254,
     "end_time": "2024-11-08T12:49:54.752633",
     "exception": false,
     "start_time": "2024-11-08T12:49:54.690093",
     "status": "completed"
    },
    "tags": []
   },
   "outputs": [
    {
     "name": "stderr",
     "output_type": "stream",
     "text": [
      "C:\\Users\\jfg.eco\\AppData\\Local\\Temp\\ipykernel_23640\\4155658641.py:71: FutureWarning: The behavior of DataFrame concatenation with empty or all-NA entries is deprecated. In a future version, this will no longer exclude empty or all-NA columns when determining the result dtypes. To retain the old behavior, exclude the relevant entries before the concat operation.\n",
      "  df_storages_inv_parameters = pd.concat([df_storages_inv_parameters, pd.DataFrame(rows_to_add)], ignore_index=True)\n"
     ]
    },
    {
     "data": {
      "text/html": [
       "<div>\n",
       "<style scoped>\n",
       "    .dataframe tbody tr th:only-of-type {\n",
       "        vertical-align: middle;\n",
       "    }\n",
       "\n",
       "    .dataframe tbody tr th {\n",
       "        vertical-align: top;\n",
       "    }\n",
       "\n",
       "    .dataframe thead th {\n",
       "        text-align: right;\n",
       "    }\n",
       "</style>\n",
       "<table border=\"1\" class=\"dataframe\">\n",
       "  <thead>\n",
       "    <tr style=\"text-align: right;\">\n",
       "      <th></th>\n",
       "      <th>Object_name</th>\n",
       "      <th>storage_investment_variable_type</th>\n",
       "      <th>initial_storages_invested</th>\n",
       "      <th>number_of_storages</th>\n",
       "      <th>candidate_storages</th>\n",
       "      <th>storage_investment_cost</th>\n",
       "      <th>storage_investment_tech_lifetime</th>\n",
       "      <th>storage_investment_econ_lifetime</th>\n",
       "    </tr>\n",
       "  </thead>\n",
       "  <tbody>\n",
       "    <tr>\n",
       "      <th>0</th>\n",
       "      <td>h2_st</td>\n",
       "      <td>storage_investment_variable_type_continuous</td>\n",
       "      <td>0</td>\n",
       "      <td>0</td>\n",
       "      <td>1</td>\n",
       "      <td>2.209863e+06</td>\n",
       "      <td>9125D</td>\n",
       "      <td>9125D</td>\n",
       "    </tr>\n",
       "    <tr>\n",
       "      <th>1</th>\n",
       "      <td>ch3oh_st</td>\n",
       "      <td>storage_investment_variable_type_continuous</td>\n",
       "      <td>0</td>\n",
       "      <td>0</td>\n",
       "      <td>1</td>\n",
       "      <td>1.228364e+03</td>\n",
       "      <td>9125D</td>\n",
       "      <td>9125D</td>\n",
       "    </tr>\n",
       "  </tbody>\n",
       "</table>\n",
       "</div>"
      ],
      "text/plain": [
       "  Object_name             storage_investment_variable_type  \\\n",
       "0       h2_st  storage_investment_variable_type_continuous   \n",
       "1    ch3oh_st  storage_investment_variable_type_continuous   \n",
       "\n",
       "  initial_storages_invested number_of_storages candidate_storages  \\\n",
       "0                         0                  0                  1   \n",
       "1                         0                  0                  1   \n",
       "\n",
       "   storage_investment_cost storage_investment_tech_lifetime  \\\n",
       "0             2.209863e+06                            9125D   \n",
       "1             1.228364e+03                            9125D   \n",
       "\n",
       "  storage_investment_econ_lifetime  \n",
       "0                            9125D  \n",
       "1                            9125D  "
      ]
     },
     "execution_count": 33,
     "metadata": {},
     "output_type": "execute_result"
    }
   ],
   "source": [
    "# Initialize df\n",
    "df_storages_inv_parameters = pd.DataFrame(columns=['Object_name', 'storage_investment_variable_type',\n",
    "                                                   'initial_storages_invested', 'number_of_storages',\n",
    "                                                   'candidate_storages', 'storage_investment_cost',\n",
    "                                                   'storage_investment_tech_lifetime', 'storage_investment_econ_lifetime'])\n",
    "\n",
    "# Add values if investment is selected\n",
    "if candidate_nonzero:\n",
    "    rows_to_add = []\n",
    "    \n",
    "    for index, row in df_model_storages_raw.iterrows():\n",
    "        object_type = row['Object_type']\n",
    "        \n",
    "        # Investment cost\n",
    "        #default\n",
    "        matching_row = df_investment_costs_raw[df_investment_costs_raw['Object_type'] == object_type]\n",
    "        \n",
    "        #chosen\n",
    "        pattern_cost = re.compile(rf\"inv_cost_.*{object_type}\")\n",
    "        matching_vars_cost = [key for key in investment_cost_params if pattern_cost.match(key)]\n",
    "        \n",
    "        if matching_vars_cost:\n",
    "            variable_name = matching_vars_cost[0]\n",
    "            variable_value = investment_cost_params[variable_name]\n",
    "            \n",
    "            if variable_value:\n",
    "                investment_cost = variable_value\n",
    "            else: \n",
    "                if not matching_row.empty:\n",
    "                    investment_cost = matching_row[selected_column].values[0]\n",
    "                else: \n",
    "                    investment_cost = 0\n",
    "        else:\n",
    "            if not matching_row.empty:\n",
    "                investment_cost = matching_row[selected_column].values[0]\n",
    "            else:\n",
    "                investment_cost = 0  # Default investment cost if no match is found\n",
    "        \n",
    "        # Scaling by inv_limit\n",
    "        pattern_inv_limit = re.compile(rf\"inv_limit_{object_type}\")\n",
    "        matching_vars_inv_limit = [key for key in investment_limit_params if pattern_inv_limit.match(key)]\n",
    "        \n",
    "        if matching_vars_inv_limit:\n",
    "            inv_limit_name = matching_vars_inv_limit[0]\n",
    "            inv_limit = investment_limit_params[inv_limit_name]\n",
    "        else:\n",
    "            inv_limit = row['node_state_cap'] if not pd.isna(row['node_state_cap']) else 0\n",
    "        \n",
    "        scaled_investment_cost = investment_cost * inv_limit\n",
    "                \n",
    "        # Lifetime \n",
    "        if not matching_row.empty:\n",
    "            lifetime_str = matching_row['Lifetime'].values[0]\n",
    "            lifetime = convert_to_days(lifetime_str, year) # Convert the lifetime to days\n",
    "        else:\n",
    "            lifetime = '10950D'  # Default lifetime if no match is found\n",
    "        \n",
    "        # Add the results for this row to df_units_inv_parameters\n",
    "        row_to_add = {'Object_name': row['Storage'],\n",
    "            'storage_investment_variable_type': 'storage_investment_variable_type_continuous',\n",
    "            'initial_storages_invested': row['initial_storages_invested'],\n",
    "            'number_of_storages': 0,\n",
    "            'candidate_storages': 1,\n",
    "            'storage_investment_cost': scaled_investment_cost,\n",
    "            'storage_investment_tech_lifetime': lifetime,\n",
    "            'storage_investment_econ_lifetime': lifetime  # Same as tech lifetime\n",
    "        }\n",
    "        \n",
    "        rows_to_add.append(row_to_add)\n",
    "        \n",
    "    df_storages_inv_parameters = pd.concat([df_storages_inv_parameters, pd.DataFrame(rows_to_add)], ignore_index=True)\n",
    "    \n",
    "    # Scale investment costs from lifetime\n",
    "    df_storages_inv_parameters = scale_costs(df_storages_inv_parameters, start_date, end_date, 'storage')\n",
    "    \n",
    "    # Scale investment costs to roll forward if used\n",
    "    if roll_forward_use:\n",
    "        df_storages_inv_parameters['storage_investment_cost'] = df_storages_inv_parameters['storage_investment_cost'] / num_slices\n",
    "    \n",
    "# Show data head for control\n",
    "df_storages_inv_parameters.head()"
   ]
  },
  {
   "cell_type": "code",
   "execution_count": 34,
   "id": "4a065003-5983-4a8f-9914-c2b0e35feac7",
   "metadata": {
    "execution": {
     "iopub.execute_input": "2024-11-08T12:49:54.792048Z",
     "iopub.status.busy": "2024-11-08T12:49:54.791046Z",
     "iopub.status.idle": "2024-11-08T12:49:54.812057Z",
     "shell.execute_reply": "2024-11-08T12:49:54.810058Z"
    },
    "papermill": {
     "duration": 0.045978,
     "end_time": "2024-11-08T12:49:54.814573",
     "exception": false,
     "start_time": "2024-11-08T12:49:54.768595",
     "status": "completed"
    },
    "tags": []
   },
   "outputs": [
    {
     "data": {
      "text/html": [
       "<div>\n",
       "<style scoped>\n",
       "    .dataframe tbody tr th:only-of-type {\n",
       "        vertical-align: middle;\n",
       "    }\n",
       "\n",
       "    .dataframe tbody tr th {\n",
       "        vertical-align: top;\n",
       "    }\n",
       "\n",
       "    .dataframe thead th {\n",
       "        text-align: right;\n",
       "    }\n",
       "</style>\n",
       "<table border=\"1\" class=\"dataframe\">\n",
       "  <thead>\n",
       "    <tr style=\"text-align: right;\">\n",
       "      <th></th>\n",
       "      <th>Object_name</th>\n",
       "      <th>Category</th>\n",
       "      <th>balance_type</th>\n",
       "      <th>has_state</th>\n",
       "      <th>node_state_cap</th>\n",
       "      <th>frac_state_loss</th>\n",
       "      <th>demand</th>\n",
       "      <th>node_slack_penalty</th>\n",
       "    </tr>\n",
       "  </thead>\n",
       "  <tbody>\n",
       "    <tr>\n",
       "      <th>0</th>\n",
       "      <td>co2</td>\n",
       "      <td>node</td>\n",
       "      <td>balance_type_none</td>\n",
       "      <td>NaN</td>\n",
       "      <td>NaN</td>\n",
       "      <td>NaN</td>\n",
       "      <td></td>\n",
       "      <td></td>\n",
       "    </tr>\n",
       "    <tr>\n",
       "      <th>1</th>\n",
       "      <td>water</td>\n",
       "      <td>node</td>\n",
       "      <td>balance_type_none</td>\n",
       "      <td>NaN</td>\n",
       "      <td>NaN</td>\n",
       "      <td>NaN</td>\n",
       "      <td></td>\n",
       "      <td></td>\n",
       "    </tr>\n",
       "    <tr>\n",
       "      <th>2</th>\n",
       "      <td>power</td>\n",
       "      <td>node</td>\n",
       "      <td>balance_type_node</td>\n",
       "      <td>NaN</td>\n",
       "      <td>NaN</td>\n",
       "      <td>NaN</td>\n",
       "      <td></td>\n",
       "      <td>100000000</td>\n",
       "    </tr>\n",
       "    <tr>\n",
       "      <th>3</th>\n",
       "      <td>h2</td>\n",
       "      <td>node</td>\n",
       "      <td>balance_type_node</td>\n",
       "      <td>NaN</td>\n",
       "      <td>NaN</td>\n",
       "      <td>NaN</td>\n",
       "      <td></td>\n",
       "      <td>100000000</td>\n",
       "    </tr>\n",
       "    <tr>\n",
       "      <th>4</th>\n",
       "      <td>heat</td>\n",
       "      <td>node</td>\n",
       "      <td>balance_type_node</td>\n",
       "      <td>NaN</td>\n",
       "      <td>NaN</td>\n",
       "      <td>NaN</td>\n",
       "      <td></td>\n",
       "      <td></td>\n",
       "    </tr>\n",
       "  </tbody>\n",
       "</table>\n",
       "</div>"
      ],
      "text/plain": [
       "  Object_name Category       balance_type has_state  node_state_cap  \\\n",
       "0         co2     node  balance_type_none       NaN             NaN   \n",
       "1       water     node  balance_type_none       NaN             NaN   \n",
       "2       power     node  balance_type_node       NaN             NaN   \n",
       "3          h2     node  balance_type_node       NaN             NaN   \n",
       "4        heat     node  balance_type_node       NaN             NaN   \n",
       "\n",
       "   frac_state_loss demand node_slack_penalty  \n",
       "0              NaN                            \n",
       "1              NaN                            \n",
       "2              NaN                 100000000  \n",
       "3              NaN                 100000000  \n",
       "4              NaN                            "
      ]
     },
     "execution_count": 34,
     "metadata": {},
     "output_type": "execute_result"
    }
   ],
   "source": [
    "# Update the node_state_cap if an investment_limit exists as the parameter limits the capacity of a storage\n",
    "# for object in df_storages_inv_parameters:\n",
    "# look for corresponding object name in df_nodes and change value in column node_state_cap to inv_limit\n",
    "for index, row in df_model_storages_raw.iterrows():\n",
    "    object_name = row['Storage']\n",
    "    object_type = row['Object_type']\n",
    "    \n",
    "    pattern_inv_limit = re.compile(rf\"inv_limit_{object_type}\")\n",
    "    matching_vars_inv_limit = [key for key in investment_limit_params if pattern_inv_limit.match(key)]\n",
    "    \n",
    "    if matching_vars_inv_limit:\n",
    "        inv_limit_name = matching_vars_inv_limit[0]\n",
    "        inv_limit = investment_limit_params[inv_limit_name]\n",
    "        df_nodes.loc[df_nodes['Object_name'] == object_name, 'node_state_cap'] = inv_limit\n",
    "\n",
    "# Show data head for control\n",
    "df_nodes.head()"
   ]
  },
  {
   "cell_type": "markdown",
   "id": "55192bdb",
   "metadata": {
    "papermill": {
     "duration": 0.019998,
     "end_time": "2024-11-08T12:49:54.855576",
     "exception": false,
     "start_time": "2024-11-08T12:49:54.835578",
     "status": "completed"
    },
    "tags": []
   },
   "source": [
    "### Model:"
   ]
  },
  {
   "cell_type": "markdown",
   "id": "89b971c4",
   "metadata": {
    "papermill": {
     "duration": 0.018962,
     "end_time": "2024-11-08T12:49:54.897573",
     "exception": false,
     "start_time": "2024-11-08T12:49:54.878611",
     "status": "completed"
    },
    "tags": []
   },
   "source": [
    "#### Model relations:"
   ]
  },
  {
   "cell_type": "code",
   "execution_count": 35,
   "id": "ccf465d5",
   "metadata": {
    "execution": {
     "iopub.execute_input": "2024-11-08T12:49:54.954110Z",
     "iopub.status.busy": "2024-11-08T12:49:54.953110Z",
     "iopub.status.idle": "2024-11-08T12:49:54.982108Z",
     "shell.execute_reply": "2024-11-08T12:49:54.981135Z"
    },
    "papermill": {
     "duration": 0.063993,
     "end_time": "2024-11-08T12:49:54.984108",
     "exception": false,
     "start_time": "2024-11-08T12:49:54.920115",
     "status": "completed"
    },
    "tags": []
   },
   "outputs": [],
   "source": [
    "# Writing definition of model components\n",
    "column_names_model_components = {'Object_class_name':['model','temporal_block','stochastic_scenario', 'stochastic_structure', 'report'],\n",
    "                      'Object_name': [model_name, temporal_block, stochastic_scenario, stochastic_structure, report_name]}\n",
    "df_model_components = pd.DataFrame(column_names_model_components, index=None)\n",
    "\n",
    "# Adding a default investment temporal block if investment = true \n",
    "if candidate_nonzero:\n",
    "    df_model_components.loc[len(df_model_components.index)] = ['temporal_block', 'Default_Investment_period']\n",
    "\n",
    "# Outputs:\n",
    "reports_list = list(reports)\n",
    "df_outputs = pd.DataFrame({\n",
    "    'Object_class_name': ['output']*len(reports_list),\n",
    "    'Object_name': reports_list\n",
    "})\n",
    "df_model_components = pd.concat([df_model_components, df_outputs], axis=0)\n",
    "df_model_components = df_model_components.reset_index(drop=True)"
   ]
  },
  {
   "cell_type": "code",
   "execution_count": 36,
   "id": "c335dd9b",
   "metadata": {
    "execution": {
     "iopub.execute_input": "2024-11-08T12:49:55.052641Z",
     "iopub.status.busy": "2024-11-08T12:49:55.051642Z",
     "iopub.status.idle": "2024-11-08T12:49:55.094636Z",
     "shell.execute_reply": "2024-11-08T12:49:55.091661Z"
    },
    "papermill": {
     "duration": 0.081002,
     "end_time": "2024-11-08T12:49:55.097636",
     "exception": false,
     "start_time": "2024-11-08T12:49:55.016634",
     "status": "completed"
    },
    "tags": []
   },
   "outputs": [
    {
     "data": {
      "text/html": [
       "<div>\n",
       "<style scoped>\n",
       "    .dataframe tbody tr th:only-of-type {\n",
       "        vertical-align: middle;\n",
       "    }\n",
       "\n",
       "    .dataframe tbody tr th {\n",
       "        vertical-align: top;\n",
       "    }\n",
       "\n",
       "    .dataframe thead th {\n",
       "        text-align: right;\n",
       "    }\n",
       "</style>\n",
       "<table border=\"1\" class=\"dataframe\">\n",
       "  <thead>\n",
       "    <tr style=\"text-align: right;\">\n",
       "      <th></th>\n",
       "      <th>Relationship_class_name</th>\n",
       "      <th>Object_class_name_1</th>\n",
       "      <th>Object_class_name_2</th>\n",
       "      <th>Object_name_1</th>\n",
       "      <th>Object_name_2</th>\n",
       "    </tr>\n",
       "  </thead>\n",
       "  <tbody>\n",
       "    <tr>\n",
       "      <th>0</th>\n",
       "      <td>model__temporal_block</td>\n",
       "      <td>model</td>\n",
       "      <td>temporal_block</td>\n",
       "      <td>Model</td>\n",
       "      <td>hourly</td>\n",
       "    </tr>\n",
       "    <tr>\n",
       "      <th>1</th>\n",
       "      <td>model__default_temporal_block</td>\n",
       "      <td>model</td>\n",
       "      <td>temporal_block</td>\n",
       "      <td>Model</td>\n",
       "      <td>hourly</td>\n",
       "    </tr>\n",
       "    <tr>\n",
       "      <th>2</th>\n",
       "      <td>model__stochastic_structure</td>\n",
       "      <td>model</td>\n",
       "      <td>stochastic_structure</td>\n",
       "      <td>Model</td>\n",
       "      <td>deterministic</td>\n",
       "    </tr>\n",
       "    <tr>\n",
       "      <th>3</th>\n",
       "      <td>model__default_stochastic_structure</td>\n",
       "      <td>model</td>\n",
       "      <td>stochastic_structure</td>\n",
       "      <td>Model</td>\n",
       "      <td>deterministic</td>\n",
       "    </tr>\n",
       "    <tr>\n",
       "      <th>4</th>\n",
       "      <td>stochastic_structure__stochastic_scenario</td>\n",
       "      <td>stochastic_structure</td>\n",
       "      <td>stochastic_scenario</td>\n",
       "      <td>deterministic</td>\n",
       "      <td>realization</td>\n",
       "    </tr>\n",
       "  </tbody>\n",
       "</table>\n",
       "</div>"
      ],
      "text/plain": [
       "                     Relationship_class_name   Object_class_name_1  \\\n",
       "0                      model__temporal_block                 model   \n",
       "1              model__default_temporal_block                 model   \n",
       "2                model__stochastic_structure                 model   \n",
       "3        model__default_stochastic_structure                 model   \n",
       "4  stochastic_structure__stochastic_scenario  stochastic_structure   \n",
       "\n",
       "    Object_class_name_2  Object_name_1  Object_name_2  \n",
       "0        temporal_block          Model         hourly  \n",
       "1        temporal_block          Model         hourly  \n",
       "2  stochastic_structure          Model  deterministic  \n",
       "3  stochastic_structure          Model  deterministic  \n",
       "4   stochastic_scenario  deterministic    realization  "
      ]
     },
     "execution_count": 36,
     "metadata": {},
     "output_type": "execute_result"
    }
   ],
   "source": [
    "# Add reports chosen in main\n",
    "column_names_model_structure = {'Object_class_name':['model','temporal_block','stochastic_scenario', 'stochastic_structure', 'report'],\n",
    "                      'Object_name': [model_name, temporal_block, stochastic_scenario, stochastic_structure, report_name]}\n",
    "df_reports = pd.DataFrame({\n",
    "    'Relationship_class_name': ['report__output']*len(reports_list),\n",
    "    'Object_class_name_1': ['report']*len(reports_list),\n",
    "    'Object_class_name_2': ['output']*len(reports_list),\n",
    "    'Object_name_1': [report_name]*len(reports_list),\n",
    "    'Object_name_2': reports_list\n",
    "})\n",
    "\n",
    "# Add everything else\n",
    "df_model_struc = pd.DataFrame({\n",
    "    'Relationship_class_name': ['model__temporal_block','model__default_temporal_block', \n",
    "                                'model__stochastic_structure', 'model__default_stochastic_structure',\n",
    "                                'stochastic_structure__stochastic_scenario', 'model__report'],\n",
    "    'Object_class_name_1': ['model','model','model','model','stochastic_structure','model'],\n",
    "    'Object_class_name_2': ['temporal_block', 'temporal_block','stochastic_structure','stochastic_structure', 'stochastic_scenario','report'],\n",
    "    'Object_name_1': [model_name, model_name,model_name,model_name,stochastic_structure, model_name],\n",
    "    'Object_name_2': [temporal_block, temporal_block, stochastic_structure, stochastic_structure, stochastic_scenario, report_name]\n",
    "})\n",
    "df_model_relations = pd.concat([df_model_struc, df_reports], axis=0)\n",
    "df_model_relations = df_model_relations.reset_index(drop=True)\n",
    "\n",
    "# Defining default investment temporal block and stochastic structure if investment = true\n",
    "if candidate_nonzero:\n",
    "    df_model_relations.loc[len(df_model_relations.index)] = ['model__default_investment_temporal_block', 'model', 'temporal_block', model_name, 'Default_Investment_period']\n",
    "    df_model_relations.loc[len(df_model_relations.index)] = ['model__default_investment_stochastic_structure', 'model', 'stochastic_structure', model_name, stochastic_structure]\n",
    "\n",
    "# Show table head for control\n",
    "df_model_relations.head()"
   ]
  },
  {
   "cell_type": "markdown",
   "id": "892b88dc-3a5b-41c5-b184-64593c28c72c",
   "metadata": {
    "papermill": {
     "duration": 0.028004,
     "end_time": "2024-11-08T12:49:55.159169",
     "exception": false,
     "start_time": "2024-11-08T12:49:55.131165",
     "status": "completed"
    },
    "tags": []
   },
   "source": [
    "#### Start, end, resolution :"
   ]
  },
  {
   "cell_type": "code",
   "execution_count": 37,
   "id": "3960d14b-394b-4599-9e1e-8831aa59e6f8",
   "metadata": {
    "execution": {
     "iopub.execute_input": "2024-11-08T12:49:55.237255Z",
     "iopub.status.busy": "2024-11-08T12:49:55.236255Z",
     "iopub.status.idle": "2024-11-08T12:49:55.284255Z",
     "shell.execute_reply": "2024-11-08T12:49:55.281259Z"
    },
    "papermill": {
     "duration": 0.097092,
     "end_time": "2024-11-08T12:49:55.290259",
     "exception": false,
     "start_time": "2024-11-08T12:49:55.193167",
     "status": "completed"
    },
    "tags": []
   },
   "outputs": [
    {
     "data": {
      "text/html": [
       "<div>\n",
       "<style scoped>\n",
       "    .dataframe tbody tr th:only-of-type {\n",
       "        vertical-align: middle;\n",
       "    }\n",
       "\n",
       "    .dataframe tbody tr th {\n",
       "        vertical-align: top;\n",
       "    }\n",
       "\n",
       "    .dataframe thead th {\n",
       "        text-align: right;\n",
       "    }\n",
       "</style>\n",
       "<table border=\"1\" class=\"dataframe\">\n",
       "  <thead>\n",
       "    <tr style=\"text-align: right;\">\n",
       "      <th></th>\n",
       "      <th>Object_class_name</th>\n",
       "      <th>Object_name</th>\n",
       "      <th>Parameter</th>\n",
       "      <th>Alternative</th>\n",
       "      <th>Value</th>\n",
       "    </tr>\n",
       "  </thead>\n",
       "  <tbody>\n",
       "    <tr>\n",
       "      <th>0</th>\n",
       "      <td>model</td>\n",
       "      <td>Model</td>\n",
       "      <td>model_start</td>\n",
       "      <td>Base</td>\n",
       "      <td>{\"type\": \"date_time\", \"data\": \"2019-01-01T00:0...</td>\n",
       "    </tr>\n",
       "    <tr>\n",
       "      <th>1</th>\n",
       "      <td>model</td>\n",
       "      <td>Model</td>\n",
       "      <td>model_end</td>\n",
       "      <td>Base</td>\n",
       "      <td>{\"type\": \"date_time\", \"data\": \"2019-12-31T23:0...</td>\n",
       "    </tr>\n",
       "    <tr>\n",
       "      <th>2</th>\n",
       "      <td>temporal_block</td>\n",
       "      <td>hourly</td>\n",
       "      <td>resolution</td>\n",
       "      <td>Base</td>\n",
       "      <td>{\"type\":\"duration\", \"data\": \"1h\"}</td>\n",
       "    </tr>\n",
       "    <tr>\n",
       "      <th>3</th>\n",
       "      <td>model</td>\n",
       "      <td>Model</td>\n",
       "      <td>db_mip_solver_options</td>\n",
       "      <td>Base</td>\n",
       "      <td>{\"type\": \"map\", \"data\": [[\"HiGHS.jl\", {\"data\":...</td>\n",
       "    </tr>\n",
       "    <tr>\n",
       "      <th>4</th>\n",
       "      <td>temporal_block</td>\n",
       "      <td>Default_Investment_period</td>\n",
       "      <td>resolution</td>\n",
       "      <td>Base</td>\n",
       "      <td>{\"type\":\"duration\", \"data\": \"365D\"}</td>\n",
       "    </tr>\n",
       "  </tbody>\n",
       "</table>\n",
       "</div>"
      ],
      "text/plain": [
       "  Object_class_name                Object_name              Parameter  \\\n",
       "0             model                      Model            model_start   \n",
       "1             model                      Model              model_end   \n",
       "2    temporal_block                     hourly             resolution   \n",
       "3             model                      Model  db_mip_solver_options   \n",
       "4    temporal_block  Default_Investment_period             resolution   \n",
       "\n",
       "  Alternative                                              Value  \n",
       "0        Base  {\"type\": \"date_time\", \"data\": \"2019-01-01T00:0...  \n",
       "1        Base  {\"type\": \"date_time\", \"data\": \"2019-12-31T23:0...  \n",
       "2        Base                  {\"type\":\"duration\", \"data\": \"1h\"}  \n",
       "3        Base  {\"type\": \"map\", \"data\": [[\"HiGHS.jl\", {\"data\":...  \n",
       "4        Base                {\"type\":\"duration\", \"data\": \"365D\"}  "
      ]
     },
     "execution_count": 37,
     "metadata": {},
     "output_type": "execute_result"
    }
   ],
   "source": [
    "# Create values for model structure\n",
    "column_names_model = {'Object_class_name':['model','model','temporal_block', 'model'],\n",
    "                      'Object_name': [model_name, model_name, temporal_block, model_name],\n",
    "                      'Parameter':['model_start','model_end','resolution', 'db_mip_solver_options'],\n",
    "                      'Alternative': [scenario[0], scenario[0], scenario[0], scenario[0]],\n",
    "                      'Value': ['{\"type\": \"date_time\", \"data\": \"'+df_time.iloc[0]['DateTime']+'\"}',\n",
    "                                '{\"type\": \"date_time\", \"data\": \"'+df_time.iloc[-1]['DateTime']+'\"}',\n",
    "                                '{\"type\":\"duration\", \"data\": \"'+frequency+'\"}',\n",
    "                                '{\"type\": \"map\", \"data\": [[\"HiGHS.jl\", {\"data\": [[\"presolve\", \"on\"], [\"mip_rel_gap\", 0.0000000001], [\"threads\", 0.0], [\"time_limit\", 3000.01]], \"type\": \"map\", \"index_type\": \"str\"}], [\"Cbc.jl\", {\"data\": [[\"ratioGap\", 0.01], [\"logLevel\", 0.0]], \"type\": \"map\", \"index_type\": \"str\"}], [\"CPLEX.jl\", {\"data\": [[\"CPX_PARAM_EPGAP\", 0.01]], \"type\": \"map\", \"index_type\": \"str\"}]], \"index_type\": \"str\"}'\n",
    "                               ]\n",
    "                     }\n",
    "df_model = pd.DataFrame(column_names_model, index=None)\n",
    "\n",
    "# Add investment temporal blocks to model data frame in days if investment = true\n",
    "if candidate_nonzero:\n",
    "    df_model.loc[len(df_model.index)] = ['temporal_block', 'Default_Investment_period', 'resolution', scenario[0], '{\"type\":\"duration\", \"data\": \"'+convert_to_days(investment_period_default, year)+'\"}']\n",
    "\n",
    "# Show how table head for control\n",
    "df_model.head()"
   ]
  },
  {
   "cell_type": "code",
   "execution_count": 38,
   "id": "4b24d678-4167-4521-a6ab-aae160dc13ae",
   "metadata": {
    "execution": {
     "iopub.execute_input": "2024-11-08T12:49:55.366786Z",
     "iopub.status.busy": "2024-11-08T12:49:55.366786Z",
     "iopub.status.idle": "2024-11-08T12:49:55.406798Z",
     "shell.execute_reply": "2024-11-08T12:49:55.405799Z"
    },
    "papermill": {
     "duration": 0.08001,
     "end_time": "2024-11-08T12:49:55.409799",
     "exception": false,
     "start_time": "2024-11-08T12:49:55.329789",
     "status": "completed"
    },
    "tags": []
   },
   "outputs": [
    {
     "data": {
      "text/html": [
       "<div>\n",
       "<style scoped>\n",
       "    .dataframe tbody tr th:only-of-type {\n",
       "        vertical-align: middle;\n",
       "    }\n",
       "\n",
       "    .dataframe tbody tr th {\n",
       "        vertical-align: top;\n",
       "    }\n",
       "\n",
       "    .dataframe thead th {\n",
       "        text-align: right;\n",
       "    }\n",
       "</style>\n",
       "<table border=\"1\" class=\"dataframe\">\n",
       "  <thead>\n",
       "    <tr style=\"text-align: right;\">\n",
       "      <th></th>\n",
       "      <th>Object_class_name</th>\n",
       "      <th>Object_name</th>\n",
       "      <th>Parameter</th>\n",
       "      <th>Alternative</th>\n",
       "      <th>Value</th>\n",
       "    </tr>\n",
       "  </thead>\n",
       "  <tbody>\n",
       "    <tr>\n",
       "      <th>1</th>\n",
       "      <td>model</td>\n",
       "      <td>Model</td>\n",
       "      <td>model_end</td>\n",
       "      <td>Base</td>\n",
       "      <td>{\"type\": \"date_time\", \"data\": \"2019-12-31T23:0...</td>\n",
       "    </tr>\n",
       "    <tr>\n",
       "      <th>2</th>\n",
       "      <td>temporal_block</td>\n",
       "      <td>hourly</td>\n",
       "      <td>resolution</td>\n",
       "      <td>Base</td>\n",
       "      <td>{\"type\":\"duration\", \"data\": \"1h\"}</td>\n",
       "    </tr>\n",
       "    <tr>\n",
       "      <th>3</th>\n",
       "      <td>model</td>\n",
       "      <td>Model</td>\n",
       "      <td>db_mip_solver_options</td>\n",
       "      <td>Base</td>\n",
       "      <td>{\"type\": \"map\", \"data\": [[\"HiGHS.jl\", {\"data\":...</td>\n",
       "    </tr>\n",
       "    <tr>\n",
       "      <th>4</th>\n",
       "      <td>temporal_block</td>\n",
       "      <td>Default_Investment_period</td>\n",
       "      <td>resolution</td>\n",
       "      <td>Base</td>\n",
       "      <td>{\"type\":\"duration\", \"data\": \"365D\"}</td>\n",
       "    </tr>\n",
       "    <tr>\n",
       "      <th>5</th>\n",
       "      <td>model</td>\n",
       "      <td>Model</td>\n",
       "      <td>roll_forward</td>\n",
       "      <td>Base</td>\n",
       "      <td>{\"type\": \"duration\", \"data\": \"730h\"}</td>\n",
       "    </tr>\n",
       "  </tbody>\n",
       "</table>\n",
       "</div>"
      ],
      "text/plain": [
       "  Object_class_name                Object_name              Parameter  \\\n",
       "1             model                      Model              model_end   \n",
       "2    temporal_block                     hourly             resolution   \n",
       "3             model                      Model  db_mip_solver_options   \n",
       "4    temporal_block  Default_Investment_period             resolution   \n",
       "5             model                      Model           roll_forward   \n",
       "\n",
       "  Alternative                                              Value  \n",
       "1        Base  {\"type\": \"date_time\", \"data\": \"2019-12-31T23:0...  \n",
       "2        Base                  {\"type\":\"duration\", \"data\": \"1h\"}  \n",
       "3        Base  {\"type\": \"map\", \"data\": [[\"HiGHS.jl\", {\"data\":...  \n",
       "4        Base                {\"type\":\"duration\", \"data\": \"365D\"}  \n",
       "5        Base               {\"type\": \"duration\", \"data\": \"730h\"}  "
      ]
     },
     "execution_count": 38,
     "metadata": {},
     "output_type": "execute_result"
    }
   ],
   "source": [
    "# Add information in case roll forward is used\n",
    "if roll_forward_use:\n",
    "    if temporal_block == 'hourly':\n",
    "        unit = 'h'\n",
    "    elif temporal_block == 'daily':\n",
    "        unit = 'D'\n",
    "    elif temporal_block == 'monthly':\n",
    "        unit = 'M'\n",
    "    else:\n",
    "        unit = ''\n",
    "        print(\"\\033[91mWARNING:\\033[0m Duration not defined!!!\")\n",
    "    # Add the new row to the df\n",
    "    roll_forward_size_with_unit = str(roll_forward_size) + unit\n",
    "    roll_forward_row = {'Object_class_name': 'model', \n",
    "                        'Object_name': model_name, \n",
    "                        'Parameter': 'roll_forward',\n",
    "                        'Alternative': scenario[0],\n",
    "                        'Value': '{\"type\": \"duration\", \"data\": \"' + roll_forward_size_with_unit +'\"}'\n",
    "                       }\n",
    "    # Add new row to df_model DataFrame\n",
    "    df_model.loc[len(df_model)] = roll_forward_row\n",
    "    '''This part is not finalized and active as it is not working in the model (the end of the optimization window is a problem). \n",
    "    #add information for overlap of the roll forward period. Thus, the model optimizes a bit longer than just the roll_forward\n",
    "    block_start_row = {'Object_class_name': 'model', \n",
    "                        'Object_name': model_name, \n",
    "                        'Parameter': 'block_start',\n",
    "                        'Alternative': scenario[0],\n",
    "                        'Value': '{\"type\": \"duration\", \"data\": \"' + str(0) + unit +'\"}'\n",
    "                       }\n",
    "    # Add new row to df_model DataFrame\n",
    "    df_model.loc[len(df_model)] = block_start_row\n",
    "\n",
    "    #add information for overlap of the roll forward period. Thus, the model optimizes a bit longer than just the roll_forward\n",
    "    block_end_row = {'Object_class_name': 'model', \n",
    "                        'Object_name': model_name, \n",
    "                        'Parameter': 'block_end',\n",
    "                        'Alternative': scenario[0],\n",
    "                        'Value': '{\"type\": \"duration\", \"data\": \"' + str(roll_forward_size + 48) + unit +'\"}'\n",
    "                       }\n",
    "     # Add new row to df_model DataFrame\n",
    "    df_model.loc[len(df_model)] = block_end_row'''\n",
    "\n",
    "# Show table head for control\n",
    "df_model.tail()"
   ]
  },
  {
   "cell_type": "code",
   "execution_count": 39,
   "id": "14842492",
   "metadata": {
    "execution": {
     "iopub.execute_input": "2024-11-08T12:49:55.465325Z",
     "iopub.status.busy": "2024-11-08T12:49:55.464324Z",
     "iopub.status.idle": "2024-11-08T12:49:55.503332Z",
     "shell.execute_reply": "2024-11-08T12:49:55.501336Z"
    },
    "papermill": {
     "duration": 0.071006,
     "end_time": "2024-11-08T12:49:55.508332",
     "exception": false,
     "start_time": "2024-11-08T12:49:55.437326",
     "status": "completed"
    },
    "tags": []
   },
   "outputs": [
    {
     "data": {
      "text/plain": [
       "0    None\n",
       "1    None\n",
       "2    None\n",
       "3    None\n",
       "4    None\n",
       "5    None\n",
       "Name: resolution_output, dtype: object"
      ]
     },
     "execution_count": 39,
     "metadata": {},
     "output_type": "execute_result"
    }
   ],
   "source": [
    "# Temporal resolution for demand\n",
    "# Add temporal block to definition, if necessary\n",
    "df_model_units['resolution_output'].apply(lambda x: check_temporal_block(x, df_model_components))\n",
    "\n",
    "# Add temporal relation to respective node\n",
    "df_temporal_relations = pd.DataFrame(columns = ['Relationship_class_name', 'Node', 'Temporal_block'], index=None)\n",
    "df_model_units.apply(lambda row: create_temporal_block_relationships(row['resolution_output'],row['Output1'], df_model_relations, model_name, df_definition, df_temporal_relations),axis=1)\n",
    "\n",
    "# Add values to temporal block\n",
    "df_model_units['resolution_output'].apply(lambda x: create_temporal_block_input(x, df_model))"
   ]
  },
  {
   "cell_type": "markdown",
   "id": "36be54c5-1d66-4841-a002-30a94697b84e",
   "metadata": {
    "papermill": {
     "duration": 0.029005,
     "end_time": "2024-11-08T12:49:55.563367",
     "exception": false,
     "start_time": "2024-11-08T12:49:55.534362",
     "status": "completed"
    },
    "tags": []
   },
   "source": [
    "### Variable Efficiency Units:"
   ]
  },
  {
   "cell_type": "markdown",
   "id": "17268ecd-53bc-49ec-b6b8-6132ce181b2f",
   "metadata": {
    "papermill": {
     "duration": 0.049534,
     "end_time": "2024-11-08T12:49:55.648909",
     "exception": false,
     "start_time": "2024-11-08T12:49:55.599375",
     "status": "completed"
    },
    "tags": []
   },
   "source": [
    "#### Calculate adjusted efficiency for each unit"
   ]
  },
  {
   "cell_type": "code",
   "execution_count": 40,
   "id": "cecb0765",
   "metadata": {
    "execution": {
     "iopub.execute_input": "2024-11-08T12:49:55.718433Z",
     "iopub.status.busy": "2024-11-08T12:49:55.717433Z",
     "iopub.status.idle": "2024-11-08T12:49:55.788437Z",
     "shell.execute_reply": "2024-11-08T12:49:55.787442Z"
    },
    "papermill": {
     "duration": 0.107523,
     "end_time": "2024-11-08T12:49:55.791434",
     "exception": false,
     "start_time": "2024-11-08T12:49:55.683911",
     "status": "completed"
    },
    "scrolled": true,
    "tags": []
   },
   "outputs": [
    {
     "name": "stdout",
     "output_type": "stream",
     "text": [
      "Actual mean efficiency of electrolyzer after scaling: 0.7500\n",
      "   relationship_class_name:  unit__from_node\n",
      "0                         0         0.130774\n",
      "1                         1         0.227355\n",
      "2                         2         0.323935\n",
      "3                         3         0.420516\n",
      "4                         4         0.517097\n",
      "5                         5         0.613677\n",
      "6                         6         0.710258\n",
      "7                         7         0.806839\n",
      "8                         8         0.903419\n",
      "9                         9         1.000000\n",
      "WARNING: No variable efficiency defined for ch3oh_reactor\n"
     ]
    }
   ],
   "source": [
    "# Important as the SpineOpt implementation is piecewise but when producing at high capacity the lower segments also produce\n",
    "# This way, we avoid overestimation of production when running at higher capacities\n",
    "\n",
    "for index, row in df_model_units.iterrows():\n",
    "    if pd.notna(row['mean_efficiency']):\n",
    "        # If 'mean_efficiency' column has a value, check if corresponding DataFrame exists\n",
    "        column_name = row['Unit'].lower()\n",
    "        df_name = f\"df_efficiency_{column_name}\"\n",
    "        goal = row['mean_efficiency']\n",
    "        output_1 = row['Output1']\n",
    "        input_1 = row['Input1']\n",
    "        \n",
    "        if df_name in globals() and isinstance(globals()[df_name], pd.DataFrame):\n",
    "            \n",
    "            # Calculate adjusted efficiency\n",
    "            df_efficiency_adj = create_adj_efficiency(globals()[df_name], goal, column_name)\n",
    "            globals()[f\"df_efficiency_{column_name}_adj\"] = df_efficiency_adj\n",
    "            \n",
    "            # Fit with operating points\n",
    "            des_segment = globals()['des_segments_' + column_name]\n",
    "            df_var_efficiency, df_operating_points, segment_x_values, segment_averages, x_values, y_values = calculate_op_points(\n",
    "                column_name, des_segment, df_efficiency_adj, input_1, output_1\n",
    "            )\n",
    "            globals()[f\"variable_efficiency_{column_name}\"] = df_var_efficiency\n",
    "            globals()[f\"operating_points_{column_name}\"] = df_operating_points\n",
    "            globals()[f\"segment_x_values_{column_name}\"] = segment_x_values\n",
    "            globals()[f\"segment_averages_{column_name}\"] = segment_averages\n",
    "            globals()[f\"x_values_{column_name}\"] = x_values\n",
    "            globals()[f\"y_values_{column_name}\"] = y_values\n",
    "            \n",
    "            # Create ordered_unit_flow\n",
    "            ordered_unit_flow = check_decreasing(df_var_efficiency, column_name, input_1)\n",
    "            globals()[f\"ordered_unit_flow_{column_name}\"] = ordered_unit_flow\n",
    "            \n",
    "        else:\n",
    "            print(f\"WARNING: No variable efficiency defined for {column_name}\")\n",
    "    else:\n",
    "        # If 'mean_efficiency' column is NA, skip\n",
    "        continue"
   ]
  },
  {
   "cell_type": "code",
   "execution_count": 41,
   "id": "6bf17dac-b552-4369-84fc-4417439747a1",
   "metadata": {
    "execution": {
     "iopub.execute_input": "2024-11-08T12:49:55.843961Z",
     "iopub.status.busy": "2024-11-08T12:49:55.842964Z",
     "iopub.status.idle": "2024-11-08T12:49:56.072008Z",
     "shell.execute_reply": "2024-11-08T12:49:56.071052Z"
    },
    "papermill": {
     "duration": 0.26005,
     "end_time": "2024-11-08T12:49:56.075008",
     "exception": false,
     "start_time": "2024-11-08T12:49:55.814958",
     "status": "completed"
    },
    "scrolled": true,
    "tags": []
   },
   "outputs": [
    {
     "data": {
      "image/png": "[encoded data removed]",
      "text/plain": [
       "<Figure size 700x300 with 1 Axes>"
      ]
     },
     "metadata": {},
     "output_type": "display_data"
    }
   ],
   "source": [
    "# Plot the data of the original efficiency curve and the adjusted ones\n",
    "plt.figure(figsize=(7, 3))\n",
    "plt.plot(df_efficiency_electrolyzer_adj['Power [%]'], df_efficiency_electrolyzer_adj['Efficiency [%]'], label='Eff raw', marker='o')\n",
    "plt.plot(df_efficiency_electrolyzer_adj['Power [%]'], df_efficiency_electrolyzer_adj['Efficiency_scaled [%]'], label='Eff scaled', marker='x')\n",
    "plt.plot(df_efficiency_adj['Power [%]'], df_efficiency_adj['eff_adjusted_electrolyzer'], label='Eff adjusted', marker='x', \n",
    "         linestyle='dashed', dashes=(5, 7))\n",
    "\n",
    "plt.xlabel('Power [%]')\n",
    "plt.ylabel('Efficiency [%]')\n",
    "plt.title('Efficiency vs Power')\n",
    "plt.legend()\n",
    "plt.grid(True)\n",
    "plt.show()"
   ]
  },
  {
   "cell_type": "code",
   "execution_count": 42,
   "id": "6107fc7e",
   "metadata": {
    "execution": {
     "iopub.execute_input": "2024-11-08T12:49:56.114537Z",
     "iopub.status.busy": "2024-11-08T12:49:56.113527Z",
     "iopub.status.idle": "2024-11-08T12:49:56.388107Z",
     "shell.execute_reply": "2024-11-08T12:49:56.387109Z"
    },
    "papermill": {
     "duration": 0.298097,
     "end_time": "2024-11-08T12:49:56.392108",
     "exception": false,
     "start_time": "2024-11-08T12:49:56.094011",
     "status": "completed"
    },
    "tags": []
   },
   "outputs": [
    {
     "data": {
      "image/png": "[encoded data removed]",
      "text/plain": [
       "<Figure size 500x400 with 1 Axes>"
      ]
     },
     "metadata": {},
     "output_type": "display_data"
    }
   ],
   "source": [
    "# Plotting the data points and the curve\n",
    "plt.figure(figsize=(5, 4))\n",
    "plt.scatter(df_efficiency_electrolyzer_adj['Power [%]'], df_efficiency_electrolyzer_adj['eff_adjusted_electrolyzer'], color='blue', label='Efficiency Adjusted')\n",
    "plt.plot(x_values_electrolyzer, y_values_electrolyzer, color='red', label='Fitted Efficiency Curve Electrolyzer')\n",
    "\n",
    "# Plotting segment averages\n",
    "for i, (x_start, x_end) in enumerate(segment_x_values_electrolyzer):\n",
    "    plt.plot([x_start, x_end], [segment_averages_electrolyzer[i], segment_averages_electrolyzer[i]], color='green', linestyle='--', linewidth=2)\n",
    "\n",
    "plt.xlabel('x')\n",
    "plt.ylabel('y')\n",
    "plt.title('Curve Fitted to Data Points')\n",
    "plt.legend()\n",
    "plt.grid(True)\n",
    "plt.show()"
   ]
  },
  {
   "cell_type": "markdown",
   "id": "722bb069",
   "metadata": {
    "papermill": {
     "duration": 0.023,
     "end_time": "2024-11-08T12:49:56.446640",
     "exception": false,
     "start_time": "2024-11-08T12:49:56.423640",
     "status": "completed"
    },
    "tags": []
   },
   "source": [
    "#### Add operating points to user constraint"
   ]
  },
  {
   "cell_type": "code",
   "execution_count": 43,
   "id": "38694351",
   "metadata": {
    "execution": {
     "iopub.execute_input": "2024-11-08T12:49:56.512647Z",
     "iopub.status.busy": "2024-11-08T12:49:56.512647Z",
     "iopub.status.idle": "2024-11-08T12:49:56.549169Z",
     "shell.execute_reply": "2024-11-08T12:49:56.546168Z"
    },
    "papermill": {
     "duration": 0.070514,
     "end_time": "2024-11-08T12:49:56.554171",
     "exception": false,
     "start_time": "2024-11-08T12:49:56.483657",
     "status": "completed"
    },
    "tags": []
   },
   "outputs": [
    {
     "data": {
      "text/html": [
       "<div>\n",
       "<style scoped>\n",
       "    .dataframe tbody tr th:only-of-type {\n",
       "        vertical-align: middle;\n",
       "    }\n",
       "\n",
       "    .dataframe tbody tr th {\n",
       "        vertical-align: top;\n",
       "    }\n",
       "\n",
       "    .dataframe thead th {\n",
       "        text-align: right;\n",
       "    }\n",
       "</style>\n",
       "<table border=\"1\" class=\"dataframe\">\n",
       "  <thead>\n",
       "    <tr style=\"text-align: right;\">\n",
       "      <th></th>\n",
       "      <th>relationship_class_name:</th>\n",
       "      <th>unit__from_node__user_constraint</th>\n",
       "      <th>unit__to_node__user_constraint</th>\n",
       "    </tr>\n",
       "  </thead>\n",
       "  <tbody>\n",
       "    <tr>\n",
       "      <th>0</th>\n",
       "      <td>User_constraint_name</td>\n",
       "      <td>effcurve_electrolyzer</td>\n",
       "      <td>effcurve_electrolyzer</td>\n",
       "    </tr>\n",
       "    <tr>\n",
       "      <th>1</th>\n",
       "      <td>Object_name</td>\n",
       "      <td>electrolyzer</td>\n",
       "      <td>electrolyzer</td>\n",
       "    </tr>\n",
       "    <tr>\n",
       "      <th>2</th>\n",
       "      <td>Node_name</td>\n",
       "      <td>power</td>\n",
       "      <td>h2</td>\n",
       "    </tr>\n",
       "    <tr>\n",
       "      <th>3</th>\n",
       "      <td>Parameter</td>\n",
       "      <td>unit_flow_coefficient</td>\n",
       "      <td>unit_flow_coefficient</td>\n",
       "    </tr>\n",
       "    <tr>\n",
       "      <th>4</th>\n",
       "      <td>0</td>\n",
       "      <td>0.792754</td>\n",
       "      <td>-1.0</td>\n",
       "    </tr>\n",
       "    <tr>\n",
       "      <th>5</th>\n",
       "      <td>1</td>\n",
       "      <td>0.791459</td>\n",
       "      <td>NaN</td>\n",
       "    </tr>\n",
       "    <tr>\n",
       "      <th>6</th>\n",
       "      <td>2</td>\n",
       "      <td>0.777282</td>\n",
       "      <td>NaN</td>\n",
       "    </tr>\n",
       "    <tr>\n",
       "      <th>7</th>\n",
       "      <td>3</td>\n",
       "      <td>0.750889</td>\n",
       "      <td>NaN</td>\n",
       "    </tr>\n",
       "    <tr>\n",
       "      <th>8</th>\n",
       "      <td>4</td>\n",
       "      <td>0.737692</td>\n",
       "      <td>NaN</td>\n",
       "    </tr>\n",
       "    <tr>\n",
       "      <th>9</th>\n",
       "      <td>5</td>\n",
       "      <td>0.737692</td>\n",
       "      <td>NaN</td>\n",
       "    </tr>\n",
       "    <tr>\n",
       "      <th>10</th>\n",
       "      <td>6</td>\n",
       "      <td>0.722133</td>\n",
       "      <td>NaN</td>\n",
       "    </tr>\n",
       "    <tr>\n",
       "      <th>11</th>\n",
       "      <td>7</td>\n",
       "      <td>0.706575</td>\n",
       "      <td>NaN</td>\n",
       "    </tr>\n",
       "    <tr>\n",
       "      <th>12</th>\n",
       "      <td>8</td>\n",
       "      <td>0.706575</td>\n",
       "      <td>NaN</td>\n",
       "    </tr>\n",
       "    <tr>\n",
       "      <th>13</th>\n",
       "      <td>9</td>\n",
       "      <td>0.679797</td>\n",
       "      <td>NaN</td>\n",
       "    </tr>\n",
       "  </tbody>\n",
       "</table>\n",
       "</div>"
      ],
      "text/plain": [
       "   relationship_class_name: unit__from_node__user_constraint  \\\n",
       "0      User_constraint_name            effcurve_electrolyzer   \n",
       "1               Object_name                     electrolyzer   \n",
       "2                 Node_name                            power   \n",
       "3                 Parameter            unit_flow_coefficient   \n",
       "4                         0                         0.792754   \n",
       "5                         1                         0.791459   \n",
       "6                         2                         0.777282   \n",
       "7                         3                         0.750889   \n",
       "8                         4                         0.737692   \n",
       "9                         5                         0.737692   \n",
       "10                        6                         0.722133   \n",
       "11                        7                         0.706575   \n",
       "12                        8                         0.706575   \n",
       "13                        9                         0.679797   \n",
       "\n",
       "   unit__to_node__user_constraint  \n",
       "0           effcurve_electrolyzer  \n",
       "1                    electrolyzer  \n",
       "2                              h2  \n",
       "3           unit_flow_coefficient  \n",
       "4                            -1.0  \n",
       "5                             NaN  \n",
       "6                             NaN  \n",
       "7                             NaN  \n",
       "8                             NaN  \n",
       "9                             NaN  \n",
       "10                            NaN  \n",
       "11                            NaN  \n",
       "12                            NaN  \n",
       "13                            NaN  "
      ]
     },
     "execution_count": 43,
     "metadata": {},
     "output_type": "execute_result"
    }
   ],
   "source": [
    "###Summarize all variable efficiencies\n",
    "# Collect all data frames that start with variable_efficiency\n",
    "dfs = [value for key, value in globals().items() if key.startswith('variable_efficiency') and isinstance(value, pd.DataFrame)]\n",
    "\n",
    "# Choose the first column with the most segments\n",
    "longest_df = max(dfs, key=lambda df: df.shape[0])\n",
    "first_column = longest_df.iloc[:, 0]\n",
    "\n",
    "# Concatenate the remaining columns from all DataFrames, ensuring no duplicate \"first column\"\n",
    "remaining_columns = [df.iloc[:, 1:] for df in dfs]\n",
    "\n",
    "# Concatenate the remaining columns to the longest first column\n",
    "df_variable_efficiency = pd.concat([first_column] + remaining_columns, axis=1)\n",
    "df_variable_efficiency"
   ]
  },
  {
   "cell_type": "code",
   "execution_count": 44,
   "id": "7b94c1a0-c73d-45b6-b048-df9ae8c0261a",
   "metadata": {
    "execution": {
     "iopub.execute_input": "2024-11-08T12:49:56.616745Z",
     "iopub.status.busy": "2024-11-08T12:49:56.615736Z",
     "iopub.status.idle": "2024-11-08T12:49:56.643246Z",
     "shell.execute_reply": "2024-11-08T12:49:56.640144Z"
    },
    "papermill": {
     "duration": 0.064883,
     "end_time": "2024-11-08T12:49:56.649048",
     "exception": false,
     "start_time": "2024-11-08T12:49:56.584165",
     "status": "completed"
    },
    "tags": []
   },
   "outputs": [
    {
     "data": {
      "text/html": [
       "<div>\n",
       "<style scoped>\n",
       "    .dataframe tbody tr th:only-of-type {\n",
       "        vertical-align: middle;\n",
       "    }\n",
       "\n",
       "    .dataframe tbody tr th {\n",
       "        vertical-align: top;\n",
       "    }\n",
       "\n",
       "    .dataframe thead th {\n",
       "        text-align: right;\n",
       "    }\n",
       "</style>\n",
       "<table border=\"1\" class=\"dataframe\">\n",
       "  <thead>\n",
       "    <tr style=\"text-align: right;\">\n",
       "      <th></th>\n",
       "      <th>Entity class names</th>\n",
       "      <th>Entity names</th>\n",
       "    </tr>\n",
       "  </thead>\n",
       "  <tbody>\n",
       "    <tr>\n",
       "      <th>0</th>\n",
       "      <td>user_constraint</td>\n",
       "      <td>effcurve_electrolyzer</td>\n",
       "    </tr>\n",
       "  </tbody>\n",
       "</table>\n",
       "</div>"
      ],
      "text/plain": [
       "  Entity class names           Entity names\n",
       "0    user_constraint  effcurve_electrolyzer"
      ]
     },
     "execution_count": 44,
     "metadata": {},
     "output_type": "execute_result"
    }
   ],
   "source": [
    "# Relate all user_constraints to entity class name \"user_constraint\" \n",
    "\n",
    "Entity_names_duplicate = df_variable_efficiency.iloc[0,1:]\n",
    "User_constraint_entities = []\n",
    "for name in Entity_names_duplicate:\n",
    "    if name not in User_constraint_entities:\n",
    "        User_constraint_entities.append(name)\n",
    "        \n",
    "\n",
    "User_constraint_column = [\"user_constraint\"]*len(User_constraint_entities)\n",
    "\n",
    "merged_columns = {\"Entity class names\": User_constraint_column, \"Entity names\": User_constraint_entities}\n",
    "df_variable_eff_def= pd.DataFrame(merged_columns)\n",
    "df_variable_eff_def"
   ]
  },
  {
   "cell_type": "code",
   "execution_count": 45,
   "id": "f6fb592c",
   "metadata": {
    "execution": {
     "iopub.execute_input": "2024-11-08T12:49:56.704148Z",
     "iopub.status.busy": "2024-11-08T12:49:56.703138Z",
     "iopub.status.idle": "2024-11-08T12:49:56.722802Z",
     "shell.execute_reply": "2024-11-08T12:49:56.718279Z"
    },
    "papermill": {
     "duration": 0.051189,
     "end_time": "2024-11-08T12:49:56.727214",
     "exception": false,
     "start_time": "2024-11-08T12:49:56.676025",
     "status": "completed"
    },
    "tags": []
   },
   "outputs": [],
   "source": [
    "### Summarize all operating points\n",
    "# Collect all data frames that start with operating_points\n",
    "dfs = [value for key, value in globals().items() if key.startswith('operating_points') and isinstance(value, pd.DataFrame)]\n",
    "\n",
    "# Choose the first column with the most segments\n",
    "longest_df = max(dfs, key=lambda df: df.shape[0])\n",
    "first_column = longest_df.iloc[:, 0]\n",
    "\n",
    "# Concatenate the remaining columns from all DataFrames, ensuring no duplicate \"first column\"\n",
    "remaining_columns = [df.iloc[:, 1:] for df in dfs]\n",
    "\n",
    "# Concatenate the remaining columns to the longest first column\n",
    "df_operating_points = pd.concat([first_column] + remaining_columns, axis=1)"
   ]
  },
  {
   "cell_type": "code",
   "execution_count": 46,
   "id": "899403f8",
   "metadata": {
    "execution": {
     "iopub.execute_input": "2024-11-08T12:49:56.783046Z",
     "iopub.status.busy": "2024-11-08T12:49:56.782040Z",
     "iopub.status.idle": "2024-11-08T12:49:56.796037Z",
     "shell.execute_reply": "2024-11-08T12:49:56.795080Z"
    },
    "papermill": {
     "duration": 0.041032,
     "end_time": "2024-11-08T12:49:56.798039",
     "exception": false,
     "start_time": "2024-11-08T12:49:56.757007",
     "status": "completed"
    },
    "tags": []
   },
   "outputs": [],
   "source": [
    "### Summarize all ordered_unit_flow_op\n",
    "# Collect all data frames that start with ordered_unit_flow_op\n",
    "dfs = [value for key, value in globals().items() if key.startswith('ordered_unit_flow_') and isinstance(value, pd.DataFrame)]\n",
    "\n",
    "# Concatenate the remaining columns to the longest first column\n",
    "df_boolean_relations = pd.concat(dfs, ignore_index=True)"
   ]
  },
  {
   "cell_type": "markdown",
   "id": "85f878c0",
   "metadata": {
    "papermill": {
     "duration": 0.022125,
     "end_time": "2024-11-08T12:49:56.849723",
     "exception": false,
     "start_time": "2024-11-08T12:49:56.827598",
     "status": "completed"
    },
    "tags": []
   },
   "source": [
    "### Environment and Storages"
   ]
  },
  {
   "cell_type": "markdown",
   "id": "6af08c35",
   "metadata": {
    "papermill": {
     "duration": 0.023,
     "end_time": "2024-11-08T12:49:56.893736",
     "exception": false,
     "start_time": "2024-11-08T12:49:56.870736",
     "status": "completed"
    },
    "tags": []
   },
   "source": [
    "#### Time Series:"
   ]
  },
  {
   "cell_type": "code",
   "execution_count": 47,
   "id": "33534c6a",
   "metadata": {
    "execution": {
     "iopub.execute_input": "2024-11-08T12:49:56.939822Z",
     "iopub.status.busy": "2024-11-08T12:49:56.939822Z",
     "iopub.status.idle": "2024-11-08T12:49:56.955424Z",
     "shell.execute_reply": "2024-11-08T12:49:56.954582Z"
    },
    "papermill": {
     "duration": 0.040671,
     "end_time": "2024-11-08T12:49:56.957453",
     "exception": false,
     "start_time": "2024-11-08T12:49:56.916782",
     "status": "completed"
    },
    "tags": []
   },
   "outputs": [],
   "source": [
    "# Adjust renewables columns names\n",
    "df_PV_availabilityfactors_values.rename(columns={'time': 'time [UTC]', \n",
    "                                                 'local_time': 'time [' + area + ']',\n",
    "                                                 'electricity': 'unit_availability_factor'}, inplace=True)\n",
    "df_wind_availabilityfactors_values.rename(columns={'time': 'time [UTC]',\n",
    "                                                   'local_time': 'time [' + area + ']',\n",
    "                                                   'electricity_onshore': 'unit_availability_factor_onshore',\n",
    "                                                   'electricity_offshore': 'unit_availability_factor_offshore'}, inplace=True)\n",
    "# Adjust power prices\n",
    "df_powerprices_values.rename(columns={'HourUTC': 'time [UTC]', \n",
    "                                         'HourDK': 'time [' + area + ']'}, inplace=True)"
   ]
  },
  {
   "cell_type": "markdown",
   "id": "99b06362-af38-4e4b-ab1b-fc2f8024bee0",
   "metadata": {
    "papermill": {
     "duration": 0.019974,
     "end_time": "2024-11-08T12:49:56.996431",
     "exception": false,
     "start_time": "2024-11-08T12:49:56.976457",
     "status": "completed"
    },
    "tags": []
   },
   "source": [
    "#### Renewables Availability:"
   ]
  },
  {
   "cell_type": "code",
   "execution_count": 48,
   "id": "05c49bd0",
   "metadata": {
    "execution": {
     "iopub.execute_input": "2024-11-08T12:49:57.042025Z",
     "iopub.status.busy": "2024-11-08T12:49:57.042025Z",
     "iopub.status.idle": "2024-11-08T12:49:57.066249Z",
     "shell.execute_reply": "2024-11-08T12:49:57.065225Z"
    },
    "papermill": {
     "duration": 0.051296,
     "end_time": "2024-11-08T12:49:57.068284",
     "exception": false,
     "start_time": "2024-11-08T12:49:57.016988",
     "status": "completed"
    },
    "tags": []
   },
   "outputs": [
    {
     "data": {
      "text/html": [
       "<div>\n",
       "<style scoped>\n",
       "    .dataframe tbody tr th:only-of-type {\n",
       "        vertical-align: middle;\n",
       "    }\n",
       "\n",
       "    .dataframe tbody tr th {\n",
       "        vertical-align: top;\n",
       "    }\n",
       "\n",
       "    .dataframe thead th {\n",
       "        text-align: right;\n",
       "    }\n",
       "</style>\n",
       "<table border=\"1\" class=\"dataframe\">\n",
       "  <thead>\n",
       "    <tr style=\"text-align: right;\">\n",
       "      <th></th>\n",
       "      <th>DateTime DK1</th>\n",
       "      <th>solar_plant</th>\n",
       "    </tr>\n",
       "  </thead>\n",
       "  <tbody>\n",
       "    <tr>\n",
       "      <th>0</th>\n",
       "      <td>None</td>\n",
       "      <td>unit</td>\n",
       "    </tr>\n",
       "    <tr>\n",
       "      <th>1</th>\n",
       "      <td>None</td>\n",
       "      <td>unit_availability_factor</td>\n",
       "    </tr>\n",
       "    <tr>\n",
       "      <th>0</th>\n",
       "      <td>2019-01-01T00:00:00</td>\n",
       "      <td>0.0</td>\n",
       "    </tr>\n",
       "    <tr>\n",
       "      <th>1</th>\n",
       "      <td>2019-01-01T01:00:00</td>\n",
       "      <td>0.0</td>\n",
       "    </tr>\n",
       "    <tr>\n",
       "      <th>2</th>\n",
       "      <td>2019-01-01T02:00:00</td>\n",
       "      <td>0.0</td>\n",
       "    </tr>\n",
       "  </tbody>\n",
       "</table>\n",
       "</div>"
      ],
      "text/plain": [
       "          DateTime DK1               solar_plant\n",
       "0                 None                      unit\n",
       "1                 None  unit_availability_factor\n",
       "0  2019-01-01T00:00:00                       0.0\n",
       "1  2019-01-01T01:00:00                       0.0\n",
       "2  2019-01-01T02:00:00                       0.0"
      ]
     },
     "execution_count": 48,
     "metadata": {},
     "output_type": "execute_result"
    }
   ],
   "source": [
    "# Create table headers and relations\n",
    "column_names_1 = {'DateTime '+area: [None, None]}\n",
    "\n",
    "# Add time values\n",
    "df_temp_1 = pd.DataFrame(columns=['DateTime ' + area])\n",
    "df_temp_1['DateTime '+area] = df_time\n",
    "\n",
    "# Add solar values\n",
    "if 'Solar plant' in powers:\n",
    "    column_names_1['solar_plant'] = ['unit', 'unit_availability_factor']\n",
    "    df_temp_1['solar_plant'] = df_PV_availabilityfactors_values['unit_availability_factor']\n",
    "    \n",
    "    # Fill NaNs on last day by copying previous day (only for leap years)\n",
    "    df_temp_1['solar_plant_shifted'] = df_temp_1['solar_plant'].shift(24)\n",
    "    df_temp_1['solar_plant'] = df_temp_1['solar_plant'].fillna(df_temp_1['solar_plant_shifted'])\n",
    "    df_temp_1 = df_temp_1.drop(columns=['solar_plant_shifted'])\n",
    "\n",
    "# Add onshore wind values\n",
    "if 'Wind onshore' in powers:\n",
    "    column_names_1['wind_onshore'] = ['unit', 'unit_availability_factor']\n",
    "    df_temp_1['wind_onshore'] = df_wind_availabilityfactors_values['unit_availability_factor_onshore']\n",
    "    \n",
    "    # Fill NaNs on last day by copying previous day (only for leap years)\n",
    "    df_temp_1['wind_onshore_shifted'] = df_temp_1['wind_onshore'].shift(24)\n",
    "    df_temp_1['wind_onshore'] = df_temp_1['wind_onshore'].fillna(df_temp_1['wind_onshore_shifted'])\n",
    "    df_temp_1 = df_temp_1.drop(columns=['wind_onshore_shifted'])\n",
    "\n",
    "# Add offshore wind values\n",
    "if 'Wind offshore' in powers:\n",
    "    column_names_1['wind_offshore'] = ['unit', 'unit_availability_factor']\n",
    "    df_temp_1['wind_offshore'] = df_wind_availabilityfactors_values['unit_availability_factor_offshore']\n",
    "    \n",
    "    # Fill NaNs on last day by copying previous day (only for leap years)\n",
    "    df_temp_1['wind_offshore_shifted'] = df_temp_1['wind_offshore'].shift(24)\n",
    "    df_temp_1['wind_offshore'] = df_temp_1['wind_offshore'].fillna(df_temp_1['wind_offshore_shifted'])\n",
    "    df_temp_1 = df_temp_1.drop(columns=['wind_offshore_shifted'])\n",
    "\n",
    "\n",
    "#Add chosen availability factors to one combined dataframe\n",
    "df_blank_table_1 = pd.DataFrame(column_names_1, index=None)\n",
    "df_time_series = pd.concat([df_blank_table_1, df_temp_1])\n",
    "\n",
    "# Show table head for control\n",
    "df_time_series.head()"
   ]
  },
  {
   "cell_type": "markdown",
   "id": "46e74f16-846f-4ba0-b9c6-869e32be6676",
   "metadata": {
    "papermill": {
     "duration": 0.018998,
     "end_time": "2024-11-08T12:49:57.106285",
     "exception": false,
     "start_time": "2024-11-08T12:49:57.087287",
     "status": "completed"
    },
    "tags": []
   },
   "source": [
    "#### Energy prices:"
   ]
  },
  {
   "cell_type": "code",
   "execution_count": 49,
   "id": "4679f8e3-8ce3-4f00-b57e-e3f1427db970",
   "metadata": {
    "execution": {
     "iopub.execute_input": "2024-11-08T12:49:57.150794Z",
     "iopub.status.busy": "2024-11-08T12:49:57.150794Z",
     "iopub.status.idle": "2024-11-08T12:49:57.161183Z",
     "shell.execute_reply": "2024-11-08T12:49:57.160280Z"
    },
    "papermill": {
     "duration": 0.035379,
     "end_time": "2024-11-08T12:49:57.163220",
     "exception": false,
     "start_time": "2024-11-08T12:49:57.127841",
     "status": "completed"
    },
    "tags": []
   },
   "outputs": [],
   "source": [
    "# Adjustments of power price variance\n",
    "\n",
    "# Calculate the current mean and variance\n",
    "mean = df_powerprices_values['SpotPriceEUR'].mean()\n",
    "current_variance = df_powerprices_values['SpotPriceEUR'].var()\n",
    "\n",
    "# Define the new desired variance \n",
    "desired_variance = current_variance * power_price_variance\n",
    "\n",
    "# Calculate the scaling factor\n",
    "scaling_factor = np.sqrt(desired_variance / current_variance)\n",
    "\n",
    "# Adjust the time series to achieve the new variance\n",
    "df_powerprices_values['SpotPriceEUR'] = mean + (df_powerprices_values['SpotPriceEUR'] - mean) * scaling_factor"
   ]
  },
  {
   "cell_type": "code",
   "execution_count": 50,
   "id": "a785d20b-2cbe-4f0b-8842-2878a3335580",
   "metadata": {
    "execution": {
     "iopub.execute_input": "2024-11-08T12:49:57.205197Z",
     "iopub.status.busy": "2024-11-08T12:49:57.205197Z",
     "iopub.status.idle": "2024-11-08T12:49:57.226020Z",
     "shell.execute_reply": "2024-11-08T12:49:57.224011Z"
    },
    "papermill": {
     "duration": 0.045862,
     "end_time": "2024-11-08T12:49:57.228047",
     "exception": false,
     "start_time": "2024-11-08T12:49:57.182185",
     "status": "completed"
    },
    "scrolled": true,
    "tags": []
   },
   "outputs": [],
   "source": [
    "# Create table\n",
    "column_names_2 = {'DateTime ' + area: ['relationship class','connection','node','parameter name'],\n",
    "                'power_wholesale_in': ['connection__from_node','pl_wholesale','power_wholesale','connection_flow_cost'], \n",
    "                'power_wholesale_out': ['connection__to_node','pl_wholesale','power_wholesale','connection_flow_cost'], \n",
    "                'district_heating': ['connection__to_node','pl_dh','dh','connection_flow_cost']}\n",
    "df_blank_table_2 = pd.DataFrame(column_names_2, index=None)\n",
    "\n",
    "# Add values\n",
    "df_temp_2 = pd.DataFrame(columns=['DateTime ' + area, 'power_wholesale_in', 'power_wholesale_out', 'district_heating'])\n",
    "\n",
    "df_temp_2['DateTime ' + area] = df_time\n",
    "df_temp_2['power_wholesale_in'] = price_level_power * df_powerprices_values['SpotPriceEUR']\n",
    "df_temp_2['power_wholesale_out'] = -1 * price_level_power * df_powerprices_values['SpotPriceEUR']\n",
    "df_temp_2['district_heating'] = -1 * df_district_heating_price[str(year)].loc[2] * share_of_dh_price_cap\n",
    "\n",
    "df_table_2 = pd.concat([df_blank_table_2, df_temp_2], ignore_index=True)\n",
    "\n",
    "# Remove wholesale \n",
    "if 'Grid' not in powers:\n",
    "    df_table_2 = df_table_2.drop(columns=['power_wholesale_in', 'power_wholesale_out'])"
   ]
  },
  {
   "cell_type": "code",
   "execution_count": 51,
   "id": "5cca46fa",
   "metadata": {
    "execution": {
     "iopub.execute_input": "2024-11-08T12:49:57.273024Z",
     "iopub.status.busy": "2024-11-08T12:49:57.273024Z",
     "iopub.status.idle": "2024-11-08T12:49:57.319436Z",
     "shell.execute_reply": "2024-11-08T12:49:57.317763Z"
    },
    "papermill": {
     "duration": 0.07446,
     "end_time": "2024-11-08T12:49:57.322478",
     "exception": false,
     "start_time": "2024-11-08T12:49:57.248018",
     "status": "completed"
    },
    "tags": []
   },
   "outputs": [
    {
     "data": {
      "text/html": [
       "<div>\n",
       "<style scoped>\n",
       "    .dataframe tbody tr th:only-of-type {\n",
       "        vertical-align: middle;\n",
       "    }\n",
       "\n",
       "    .dataframe tbody tr th {\n",
       "        vertical-align: top;\n",
       "    }\n",
       "\n",
       "    .dataframe thead th {\n",
       "        text-align: right;\n",
       "    }\n",
       "</style>\n",
       "<table border=\"1\" class=\"dataframe\">\n",
       "  <thead>\n",
       "    <tr style=\"text-align: right;\">\n",
       "      <th></th>\n",
       "      <th>DateTime DK1</th>\n",
       "      <th>power_wholesale_in</th>\n",
       "      <th>power_wholesale_out</th>\n",
       "      <th>district_heating</th>\n",
       "      <th>grid_costs_consumption</th>\n",
       "      <th>grid_costs_production</th>\n",
       "      <th>Grid_costs_consumption</th>\n",
       "      <th>Grid_costs_production</th>\n",
       "    </tr>\n",
       "  </thead>\n",
       "  <tbody>\n",
       "    <tr>\n",
       "      <th>0</th>\n",
       "      <td>relationship class</td>\n",
       "      <td>connection__from_node</td>\n",
       "      <td>connection__to_node</td>\n",
       "      <td>connection__to_node</td>\n",
       "      <td>connection__to_node</td>\n",
       "      <td>connection__from_node</td>\n",
       "      <td>NaN</td>\n",
       "      <td>NaN</td>\n",
       "    </tr>\n",
       "    <tr>\n",
       "      <th>1</th>\n",
       "      <td>connection</td>\n",
       "      <td>pl_wholesale</td>\n",
       "      <td>pl_wholesale</td>\n",
       "      <td>pl_dh</td>\n",
       "      <td>pl_wholesale</td>\n",
       "      <td>pl_wholesale</td>\n",
       "      <td>NaN</td>\n",
       "      <td>NaN</td>\n",
       "    </tr>\n",
       "    <tr>\n",
       "      <th>2</th>\n",
       "      <td>node</td>\n",
       "      <td>power_wholesale</td>\n",
       "      <td>power_wholesale</td>\n",
       "      <td>dh</td>\n",
       "      <td>power</td>\n",
       "      <td>power</td>\n",
       "      <td>NaN</td>\n",
       "      <td>NaN</td>\n",
       "    </tr>\n",
       "    <tr>\n",
       "      <th>3</th>\n",
       "      <td>parameter name</td>\n",
       "      <td>connection_flow_cost</td>\n",
       "      <td>connection_flow_cost</td>\n",
       "      <td>connection_flow_cost</td>\n",
       "      <td>connection_flow_cost</td>\n",
       "      <td>connection_flow_cost</td>\n",
       "      <td>NaN</td>\n",
       "      <td>NaN</td>\n",
       "    </tr>\n",
       "    <tr>\n",
       "      <th>4</th>\n",
       "      <td>2019-01-01T00:00:00</td>\n",
       "      <td>28.32</td>\n",
       "      <td>-28.32</td>\n",
       "      <td>-18.579088</td>\n",
       "      <td>11.702413</td>\n",
       "      <td>0</td>\n",
       "      <td>NaN</td>\n",
       "      <td>NaN</td>\n",
       "    </tr>\n",
       "  </tbody>\n",
       "</table>\n",
       "</div>"
      ],
      "text/plain": [
       "          DateTime DK1     power_wholesale_in   power_wholesale_out  \\\n",
       "0   relationship class  connection__from_node   connection__to_node   \n",
       "1           connection           pl_wholesale          pl_wholesale   \n",
       "2                 node        power_wholesale       power_wholesale   \n",
       "3       parameter name   connection_flow_cost  connection_flow_cost   \n",
       "4  2019-01-01T00:00:00                  28.32                -28.32   \n",
       "\n",
       "       district_heating grid_costs_consumption  grid_costs_production  \\\n",
       "0   connection__to_node    connection__to_node  connection__from_node   \n",
       "1                 pl_dh           pl_wholesale           pl_wholesale   \n",
       "2                    dh                  power                  power   \n",
       "3  connection_flow_cost   connection_flow_cost   connection_flow_cost   \n",
       "4            -18.579088              11.702413                      0   \n",
       "\n",
       "  Grid_costs_consumption Grid_costs_production  \n",
       "0                    NaN                   NaN  \n",
       "1                    NaN                   NaN  \n",
       "2                    NaN                   NaN  \n",
       "3                    NaN                   NaN  \n",
       "4                    NaN                   NaN  "
      ]
     },
     "execution_count": 51,
     "metadata": {},
     "output_type": "execute_result"
    }
   ],
   "source": [
    "# Add grid costs for consumption and production\n",
    "if 'Grid' in powers:\n",
    "    # Create table\n",
    "    column_names_3 = {'grid_costs_consumption': ['connection__to_node', 'pl_wholesale', 'power', 'connection_flow_cost'],\n",
    "                 'grid_costs_production': ['connection__from_node', 'pl_wholesale', 'power', 'connection_flow_cost']}\n",
    "    df_blank_table_3 = pd.DataFrame(column_names_3, index=None)\n",
    "    \n",
    "    # Add values\n",
    "    df_temp_3 = pd.DataFrame(columns=['Grid_costs_consumption', 'Grid_costs_production'])\n",
    "    \n",
    "    df_temp_3['grid_costs_consumption'] = df_grid_costs['consumption costs']\n",
    "    df_temp_3['grid_costs_production'] = df_grid_costs['production costs']\n",
    "    \n",
    "    df_table_3 = pd.concat([df_blank_table_3, df_temp_3], ignore_index = True)\n",
    "    \n",
    "    # Merge all energy prices\n",
    "    df_energy_prices = pd.concat([df_table_2, df_table_3], axis = 1)\n",
    "else:\n",
    "    df_energy_prices = df_table_2\n",
    "\n",
    "# Show table head for control\n",
    "df_energy_prices.head()"
   ]
  },
  {
   "cell_type": "markdown",
   "id": "0c6190d8",
   "metadata": {
    "papermill": {
     "duration": 0.020999,
     "end_time": "2024-11-08T12:49:57.362437",
     "exception": false,
     "start_time": "2024-11-08T12:49:57.341438",
     "status": "completed"
    },
    "tags": []
   },
   "source": [
    "#### Units on costs:"
   ]
  },
  {
   "cell_type": "code",
   "execution_count": 52,
   "id": "f1031bc3",
   "metadata": {
    "execution": {
     "iopub.execute_input": "2024-11-08T12:49:57.410167Z",
     "iopub.status.busy": "2024-11-08T12:49:57.410167Z",
     "iopub.status.idle": "2024-11-08T12:49:57.443891Z",
     "shell.execute_reply": "2024-11-08T12:49:57.442891Z"
    },
    "papermill": {
     "duration": 0.059739,
     "end_time": "2024-11-08T12:49:57.445891",
     "exception": false,
     "start_time": "2024-11-08T12:49:57.386152",
     "status": "completed"
    },
    "tags": []
   },
   "outputs": [
    {
     "data": {
      "text/html": [
       "<div>\n",
       "<style scoped>\n",
       "    .dataframe tbody tr th:only-of-type {\n",
       "        vertical-align: middle;\n",
       "    }\n",
       "\n",
       "    .dataframe tbody tr th {\n",
       "        vertical-align: top;\n",
       "    }\n",
       "\n",
       "    .dataframe thead th {\n",
       "        text-align: right;\n",
       "    }\n",
       "</style>\n",
       "<table border=\"1\" class=\"dataframe\">\n",
       "  <thead>\n",
       "    <tr style=\"text-align: right;\">\n",
       "      <th></th>\n",
       "      <th>DateTime DK1</th>\n",
       "      <th>solar_plant</th>\n",
       "      <th>ch3oh_reactor</th>\n",
       "    </tr>\n",
       "  </thead>\n",
       "  <tbody>\n",
       "    <tr>\n",
       "      <th>0</th>\n",
       "      <td>None</td>\n",
       "      <td>unit</td>\n",
       "      <td>unit</td>\n",
       "    </tr>\n",
       "    <tr>\n",
       "      <th>1</th>\n",
       "      <td>None</td>\n",
       "      <td>unit_availability_factor</td>\n",
       "      <td>units_on_cost</td>\n",
       "    </tr>\n",
       "    <tr>\n",
       "      <th>2</th>\n",
       "      <td>2019-01-01T00:00:00</td>\n",
       "      <td>0.0</td>\n",
       "      <td>28.32</td>\n",
       "    </tr>\n",
       "    <tr>\n",
       "      <th>3</th>\n",
       "      <td>2019-01-01T01:00:00</td>\n",
       "      <td>0.0</td>\n",
       "      <td>10.07</td>\n",
       "    </tr>\n",
       "    <tr>\n",
       "      <th>4</th>\n",
       "      <td>2019-01-01T02:00:00</td>\n",
       "      <td>0.0</td>\n",
       "      <td>-4.08</td>\n",
       "    </tr>\n",
       "  </tbody>\n",
       "</table>\n",
       "</div>"
      ],
      "text/plain": [
       "          DateTime DK1               solar_plant  ch3oh_reactor\n",
       "0                 None                      unit           unit\n",
       "1                 None  unit_availability_factor  units_on_cost\n",
       "2  2019-01-01T00:00:00                       0.0          28.32\n",
       "3  2019-01-01T01:00:00                       0.0          10.07\n",
       "4  2019-01-01T02:00:00                       0.0          -4.08"
      ]
     },
     "execution_count": 52,
     "metadata": {},
     "output_type": "execute_result"
    }
   ],
   "source": [
    "# Add units on costs for all units that have either min_down_time, ramp_up/down_limits, or start_up/shut_down limits/costs\n",
    "# Filter units_parameter_df and df_object__node\n",
    "cost_parameters = ['min_down_time', 'min_up_time', 'shut_down_cost', 'start_up_cost', \n",
    "                   'ramp_down_limit', 'ramp_up_limit', 'start_up_limit', 'shut_down_limit']\n",
    "filtered_units_parameter_df = unit_parameters_df[unit_parameters_df['Parameter'].isin(cost_parameters)]\n",
    "filtered_df_object__node = df_object__node[df_object__node['Parameter'].isin(cost_parameters)]\n",
    "\n",
    "combined_object_names = pd.concat([filtered_units_parameter_df['Object_name'], filtered_df_object__node['Object_name']])\n",
    "unique_objects = combined_object_names.unique()\n",
    "\n",
    "# Check if they already have a units_on_cost value other than 0\n",
    "non_zero_units_df = unit_parameters_df[(unit_parameters_df['Parameter'] == 'units_on_cost') & \n",
    "                                       (unit_parameters_df['Value'] != 0.0)]\n",
    "non_zero_units = non_zero_units_df['Object_name'].unique()\n",
    "\n",
    "# Remove units_on_cost = 0 from unit_parameters_df if in unique_objects\n",
    "unit_parameters_df = unit_parameters_df[~(\n",
    "    (unit_parameters_df['Parameter'] == 'units_on_cost') & \n",
    "    (unit_parameters_df['Value'] == 0) & \n",
    "    (unit_parameters_df['Object_name'].isin(unique_objects))\n",
    ")]\n",
    "\n",
    "unique_units = [unit for unit in unique_objects if unit not in non_zero_units]\n",
    "\n",
    "# Create new columns for each unique unit in df_time_series\n",
    "for unit in unique_units:\n",
    "    unit_data = [\"unit\", \"units_on_cost\"]\n",
    "    \n",
    "    power_data = df_temp_2['power_wholesale_in'].tolist()\n",
    "    \n",
    "    #df_time_series[unit] = unit_data + power_data\n",
    "    # Reset the index of df_time_series to avoid non-unique index error\n",
    "    df_time_series = df_time_series.reset_index(drop=True)\n",
    "    # Create a temporary DataFrame for the new column\n",
    "    new_column = pd.DataFrame({unit: unit_data + power_data})\n",
    "    # Ensure the new column has the same length as df_time_series\n",
    "    new_column = new_column.reindex(df_time_series.index)\n",
    "    # Use pd.concat to add new columns without overwriting existing ones\n",
    "    df_time_series = pd.concat([df_time_series, new_column], axis=1)\n",
    "\n",
    "\n",
    "# Show table head for control\n",
    "df_time_series.head()"
   ]
  },
  {
   "cell_type": "markdown",
   "id": "df00bdab-f254-437f-b78d-d32b19e2f9db",
   "metadata": {
    "papermill": {
     "duration": 0.026969,
     "end_time": "2024-11-08T12:49:57.494860",
     "exception": false,
     "start_time": "2024-11-08T12:49:57.467891",
     "status": "completed"
    },
    "tags": []
   },
   "source": [
    "#### Time Series Storage:"
   ]
  },
  {
   "cell_type": "code",
   "execution_count": 53,
   "id": "2cfefe35",
   "metadata": {
    "execution": {
     "iopub.execute_input": "2024-11-08T12:49:57.541426Z",
     "iopub.status.busy": "2024-11-08T12:49:57.540424Z",
     "iopub.status.idle": "2024-11-08T12:49:57.555428Z",
     "shell.execute_reply": "2024-11-08T12:49:57.553435Z"
    },
    "papermill": {
     "duration": 0.042549,
     "end_time": "2024-11-08T12:49:57.557429",
     "exception": false,
     "start_time": "2024-11-08T12:49:57.514880",
     "status": "completed"
    },
    "scrolled": true,
    "tags": []
   },
   "outputs": [],
   "source": [
    "# Date index\n",
    "start_date = pd.to_datetime(start_date)\n",
    "before = start_date-timedelta(hours=1)\n",
    "formatted_before = before.strftime('%Y-%m-%dT%H:%M:%S')\n",
    "\n",
    "df_beginning = pd.DataFrame({'DateTime': [np.nan, formatted_before]})\n",
    "\n",
    "df_temp4 = pd.DataFrame(columns=['DateTime'])\n",
    "df_temp4 = pd.concat([df_beginning, df_time], ignore_index = True)\n",
    "\n",
    "# Get storage values for fix_node_state\n",
    "storage_values = df_model_storages.iloc[:,[0, 1, 2, 6]]\n",
    "storage_values = storage_values.iloc[:, [0, 3, 1, 2]]\n",
    "storage_values_transposed = storage_values.T\n",
    "storage_values_transposed.columns = storage_values_transposed.iloc[0]\n",
    "storage_values_transposed = storage_values_transposed[1:]\n",
    "storage_values_transposed.reset_index(drop=True, inplace=True)\n",
    "\n",
    "df_storage = pd.concat([df_temp4, storage_values_transposed], axis=1)"
   ]
  },
  {
   "cell_type": "code",
   "execution_count": 54,
   "id": "c8c562b3",
   "metadata": {
    "execution": {
     "iopub.execute_input": "2024-11-08T12:49:57.601471Z",
     "iopub.status.busy": "2024-11-08T12:49:57.601471Z",
     "iopub.status.idle": "2024-11-08T12:49:57.633989Z",
     "shell.execute_reply": "2024-11-08T12:49:57.632989Z"
    },
    "papermill": {
     "duration": 0.058594,
     "end_time": "2024-11-08T12:49:57.637025",
     "exception": false,
     "start_time": "2024-11-08T12:49:57.578431",
     "status": "completed"
    },
    "tags": []
   },
   "outputs": [
    {
     "data": {
      "text/html": [
       "<div>\n",
       "<style scoped>\n",
       "    .dataframe tbody tr th:only-of-type {\n",
       "        vertical-align: middle;\n",
       "    }\n",
       "\n",
       "    .dataframe tbody tr th {\n",
       "        vertical-align: top;\n",
       "    }\n",
       "\n",
       "    .dataframe thead th {\n",
       "        text-align: right;\n",
       "    }\n",
       "</style>\n",
       "<table border=\"1\" class=\"dataframe\">\n",
       "  <thead>\n",
       "    <tr style=\"text-align: right;\">\n",
       "      <th></th>\n",
       "      <th>DateTime</th>\n",
       "      <th>h2_st</th>\n",
       "      <th>ch3oh_st</th>\n",
       "      <th>ch3oh_st</th>\n",
       "    </tr>\n",
       "  </thead>\n",
       "  <tbody>\n",
       "    <tr>\n",
       "      <th>0</th>\n",
       "      <td>NaN</td>\n",
       "      <td>fix_node_state</td>\n",
       "      <td>fix_node_state</td>\n",
       "      <td>node_state_min</td>\n",
       "    </tr>\n",
       "    <tr>\n",
       "      <th>1</th>\n",
       "      <td>2018-12-31T23:00:00</td>\n",
       "      <td>0</td>\n",
       "      <td>0</td>\n",
       "      <td>NaN</td>\n",
       "    </tr>\n",
       "    <tr>\n",
       "      <th>2</th>\n",
       "      <td>2019-01-01T00:00:00</td>\n",
       "      <td>NaN</td>\n",
       "      <td>NaN</td>\n",
       "      <td>NaN</td>\n",
       "    </tr>\n",
       "    <tr>\n",
       "      <th>3</th>\n",
       "      <td>2019-01-01T01:00:00</td>\n",
       "      <td>NaN</td>\n",
       "      <td>NaN</td>\n",
       "      <td>NaN</td>\n",
       "    </tr>\n",
       "    <tr>\n",
       "      <th>4</th>\n",
       "      <td>2019-01-01T02:00:00</td>\n",
       "      <td>NaN</td>\n",
       "      <td>NaN</td>\n",
       "      <td>NaN</td>\n",
       "    </tr>\n",
       "  </tbody>\n",
       "</table>\n",
       "</div>"
      ],
      "text/plain": [
       "              DateTime           h2_st        ch3oh_st        ch3oh_st\n",
       "0                  NaN  fix_node_state  fix_node_state  node_state_min\n",
       "1  2018-12-31T23:00:00               0               0             NaN\n",
       "2  2019-01-01T00:00:00             NaN             NaN             NaN\n",
       "3  2019-01-01T01:00:00             NaN             NaN             NaN\n",
       "4  2019-01-01T02:00:00             NaN             NaN             NaN"
      ]
     },
     "execution_count": 54,
     "metadata": {},
     "output_type": "execute_result"
    }
   ],
   "source": [
    "# Add storage if roll_forward and a min_shut_down_period are used\n",
    "product_tr = translate_product(product)\n",
    "last_storage = f\"{product_tr}_st\"\n",
    "indices = list(range(1, num_slices))\n",
    "\n",
    "if \"min_down_time\" in unit_parameters_duration_df['Parameter'].values and roll_forward_use:\n",
    "    new_column = pd.DataFrame({last_storage: ['node_state_min']})\n",
    "    # Add to the rest of the storage df\n",
    "    df_storage = pd.concat([df_storage, new_column], axis=1)\n",
    "    \n",
    "    # Down time\n",
    "    min_down_df = unit_parameters_duration_df[unit_parameters_duration_df['Parameter'].isin({'min_down_time'})]\n",
    "    min_down_df['Value'] = min_down_df['Value'].str[:-1].astype(float)\n",
    "    time_down = max(min_down_df['Value'])\n",
    "    \n",
    "    # Demand hourly\n",
    "    demand = df_nodes.loc[df_nodes['Object_name'] == f\"{product_tr}_demand\", 'demand'].values\n",
    "    demand = demand[0]\n",
    "    \n",
    "    storage_needed = demand * time_down\n",
    "    \n",
    "    # Add storage_needed at relevant indices and set the next cell to 0\n",
    "    for i in indices:\n",
    "        index_value = (i * roll_forward_size) + 1 #plus one as it starts in the last hour of the prior period\n",
    "        df_storage.iloc[index_value, -1] = storage_needed\n",
    "        \n",
    "        # Set the cell after storage_needed to 0 if it exists within bounds\n",
    "        next_index = index_value + 1\n",
    "        if next_index < len(df_storage):\n",
    "            df_storage.iloc[next_index, -1] = 0\n",
    "    \n",
    "# Show table head for control\n",
    "df_storage.head()"
   ]
  },
  {
   "cell_type": "markdown",
   "id": "18dfbf3e-1928-4547-8b3a-dac782ca46a3",
   "metadata": {
    "papermill": {
     "duration": 0.023002,
     "end_time": "2024-11-08T12:49:57.679992",
     "exception": false,
     "start_time": "2024-11-08T12:49:57.656990",
     "status": "completed"
    },
    "tags": []
   },
   "source": [
    "## Creating one combined excel and export"
   ]
  },
  {
   "cell_type": "code",
   "execution_count": 55,
   "id": "5523a4cd-ad6f-44d6-993d-3ebaf00680c2",
   "metadata": {
    "execution": {
     "iopub.execute_input": "2024-11-08T12:49:57.732519Z",
     "iopub.status.busy": "2024-11-08T12:49:57.732519Z",
     "iopub.status.idle": "2024-11-08T12:50:02.252156Z",
     "shell.execute_reply": "2024-11-08T12:50:02.251161Z"
    },
    "papermill": {
     "duration": 4.547156,
     "end_time": "2024-11-08T12:50:02.255152",
     "exception": false,
     "start_time": "2024-11-08T12:49:57.707996",
     "status": "completed"
    },
    "tags": []
   },
   "outputs": [],
   "source": [
    "# Create the prepared input excel for the use in SpineToolbox\n",
    "with pd.ExcelWriter(output_file_path + output_file_name) as writer:\n",
    "    df_definition.to_excel(writer, sheet_name='Definition', index=False)\n",
    "    unit_parameters_rest_df.to_excel(writer, sheet_name='Definition_parameters', index=False)\n",
    "    unit_parameters_duration_df.to_excel(writer, sheet_name='Definition_parameters_duration', index=False)\n",
    "    df_units_inv_parameters.to_excel(writer, sheet_name='Unit_Inv_Parameters', index=False)\n",
    "    df_nodes.to_excel(writer, sheet_name='Nodes', index=False)\n",
    "    df_connections_inv_parameters.to_excel(writer, sheet_name='Connection_Inv_Parameters', index=False)\n",
    "    df_storages_inv_parameters.to_excel(writer, sheet_name='Storage_Inv_Parameters', index=False)\n",
    "    df_object__node_definitions.to_excel(writer, sheet_name='Object__to_from_node_definition', index=False)\n",
    "    df_object__node_values.to_excel(writer, sheet_name='Object__to_from_node', index=False)\n",
    "    df_boolean_relations.to_excel(writer, sheet_name='Boolean_relations', index=False)\n",
    "    df_object_node_node.to_excel(writer, sheet_name='Object__node_node', index=False)\n",
    "    df_variable_eff_def.to_excel(writer, sheet_name='Variable_Eff_Definition', index=False)\n",
    "    df_variable_efficiency.to_excel(writer, sheet_name='Variable_Eff', index=False)\n",
    "    df_operating_points.to_excel(writer, sheet_name='Operating_points', index=False)\n",
    "    df_storage.to_excel(writer, sheet_name='Time_series_storage', index=False)\n",
    "    df_time_series.to_excel(writer, sheet_name='Time_series', index=False)\n",
    "    df_energy_prices.to_excel(writer, sheet_name='Energy_prices', index=False)\n",
    "    df_model_components.to_excel(writer, sheet_name='Model_components', index=False)\n",
    "    df_model_relations.to_excel(writer, sheet_name='Model_relations', index=False)\n",
    "    df_model.to_excel(writer, sheet_name='Model', index=False)\n",
    "    df_temporal_relations.to_excel(writer, sheet_name='Temporal_relations', index=False)"
   ]
  },
  {
   "cell_type": "code",
   "execution_count": 56,
   "id": "7ecfd010-a65f-4cfc-8ec2-a7d3bbded502",
   "metadata": {
    "execution": {
     "iopub.execute_input": "2024-11-08T12:50:02.311216Z",
     "iopub.status.busy": "2024-11-08T12:50:02.310167Z",
     "iopub.status.idle": "2024-11-08T12:50:02.331770Z",
     "shell.execute_reply": "2024-11-08T12:50:02.330741Z"
    },
    "papermill": {
     "duration": 0.05559,
     "end_time": "2024-11-08T12:50:02.334787",
     "exception": false,
     "start_time": "2024-11-08T12:50:02.279197",
     "status": "completed"
    },
    "tags": []
   },
   "outputs": [],
   "source": [
    "# Create output of the mapping excel\n",
    "with pd.ExcelWriter(output_file_path + output_mapping_file_name) as writer:\n",
    "    df_model_object_mapping.to_excel(writer, sheet_name='Object_Mapping', index=False)"
   ]
  },
  {
   "cell_type": "code",
   "execution_count": 57,
   "id": "6fd66540-33e4-4200-8c13-6ee0ed292334",
   "metadata": {
    "execution": {
     "iopub.execute_input": "2024-11-08T12:50:02.384790Z",
     "iopub.status.busy": "2024-11-08T12:50:02.383790Z",
     "iopub.status.idle": "2024-11-08T12:50:02.409164Z",
     "shell.execute_reply": "2024-11-08T12:50:02.408222Z"
    },
    "papermill": {
     "duration": 0.053374,
     "end_time": "2024-11-08T12:50:02.411199",
     "exception": false,
     "start_time": "2024-11-08T12:50:02.357825",
     "status": "completed"
    },
    "tags": []
   },
   "outputs": [],
   "source": [
    "# Copy efficiency\n",
    "other_name = \"other.xlsx\"\n",
    "with pd.ExcelWriter(output_file_path + other_name) as writer:\n",
    "    df_efficiency_electrolyzer_adj.to_excel(writer, sheet_name='efficiency', index=False)"
   ]
  },
  {
   "cell_type": "code",
   "execution_count": null,
   "id": "b1654007-0d9e-4012-b448-3ef2f9f73f89",
   "metadata": {
    "papermill": {
     "duration": 0.022957,
     "end_time": "2024-11-08T12:50:02.454750",
     "exception": false,
     "start_time": "2024-11-08T12:50:02.431793",
     "status": "completed"
    },
    "tags": []
   },
   "outputs": [],
   "source": []
  }
 ],
 "metadata": {
  "kernelspec": {
   "display_name": "Python 3 (ipykernel)",
   "language": "python",
   "name": "python3"
  },
  "language_info": {
   "codemirror_mode": {
    "name": "ipython",
    "version": 3
   },
   "file_extension": ".py",
   "mimetype": "text/x-python",
   "name": "python",
   "nbconvert_exporter": "python",
   "pygments_lexer": "ipython3",
   "version": "3.9.18"
  },
  "papermill": {
   "default_parameters": {},
   "duration": 22.611427,
   "end_time": "2024-11-08T12:50:02.835737",
   "environment_variables": {},
   "exception": null,
   "input_path": "00_functions\\data_preparation_nord_h2ub_spine.ipynb",
   "output_path": "00_functions\\please_ignore.ipynb",
   "parameters": {},
   "start_time": "2024-11-08T12:49:40.224310",
   "version": "2.6.0"
  }
 },
 "nbformat": 4,
 "nbformat_minor": 5
}