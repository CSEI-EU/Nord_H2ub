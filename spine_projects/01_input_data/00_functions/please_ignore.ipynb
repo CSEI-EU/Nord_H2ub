{
 "cells": [
  {
   "cell_type": "markdown",
   "id": "43ea4b8f-0ba4-4513-8872-53f4a538a0d3",
   "metadata": {
    "papermill": {
     "duration": 0.022262,
     "end_time": "2024-10-04T14:11:00.789084",
     "exception": false,
     "start_time": "2024-10-04T14:11:00.766822",
     "status": "completed"
    },
    "tags": []
   },
   "source": [
    "# Data Preparation for the Nord_H2ub Spine Model"
   ]
  },
  {
   "cell_type": "markdown",
   "id": "1aa86773-4431-4a2f-9490-4b3cf0aa8d70",
   "metadata": {
    "papermill": {
     "duration": 0.011966,
     "end_time": "2024-10-04T14:11:00.814107",
     "exception": false,
     "start_time": "2024-10-04T14:11:00.802141",
     "status": "completed"
    },
    "tags": []
   },
   "source": [
    "This jupyter notebook contains all routines for the preparation of the input data sources into a input data file for the model in Spine. \n",
    "\n",
    "**Authors:** Johannes Giehl (jfg.eco@cbs.dk), Dana Hentschel (djh.eco@cbs.dk), Lucia Ciprian (luc.eco@cbs.dk)"
   ]
  },
  {
   "cell_type": "markdown",
   "id": "eb8175ae-f246-4788-a309-c1a4890992f2",
   "metadata": {
    "papermill": {
     "duration": 0.012972,
     "end_time": "2024-10-04T14:11:00.839108",
     "exception": false,
     "start_time": "2024-10-04T14:11:00.826136",
     "status": "completed"
    },
    "tags": []
   },
   "source": [
    "## General settings"
   ]
  },
  {
   "cell_type": "markdown",
   "id": "5bc68f78-3383-4889-bd9e-8b3e3e2f6c2e",
   "metadata": {
    "papermill": {
     "duration": 0.01102,
     "end_time": "2024-10-04T14:11:00.861756",
     "exception": false,
     "start_time": "2024-10-04T14:11:00.850736",
     "status": "completed"
    },
    "tags": []
   },
   "source": [
    "### Packages:"
   ]
  },
  {
   "cell_type": "code",
   "execution_count": 1,
   "id": "f8f47a1c-073f-46c0-8a4d-7dafb1716b9b",
   "metadata": {
    "execution": {
     "iopub.execute_input": "2024-10-04T14:11:00.887700Z",
     "iopub.status.busy": "2024-10-04T14:11:00.886696Z",
     "iopub.status.idle": "2024-10-04T14:11:03.403668Z",
     "shell.execute_reply": "2024-10-04T14:11:03.400609Z"
    },
    "papermill": {
     "duration": 2.534975,
     "end_time": "2024-10-04T14:11:03.408705",
     "exception": false,
     "start_time": "2024-10-04T14:11:00.873730",
     "status": "completed"
    },
    "tags": []
   },
   "outputs": [],
   "source": [
    "import numpy as np\n",
    "import pandas as pd\n",
    "import matplotlib.pyplot as plt\n",
    "from datetime import timedelta\n",
    "import math\n",
    "import sys\n",
    "import os\n",
    "import pickle\n",
    "import warnings\n",
    "import re"
   ]
  },
  {
   "cell_type": "markdown",
   "id": "92141795-3716-404e-8e35-a096dcaa0c40",
   "metadata": {
    "papermill": {
     "duration": 0.013331,
     "end_time": "2024-10-04T14:11:03.438987",
     "exception": false,
     "start_time": "2024-10-04T14:11:03.425656",
     "status": "completed"
    },
    "tags": []
   },
   "source": [
    "### Methods:"
   ]
  },
  {
   "cell_type": "code",
   "execution_count": 2,
   "id": "23418a81-7e7c-47c4-afc1-805a5eb7aed1",
   "metadata": {
    "execution": {
     "iopub.execute_input": "2024-10-04T14:11:03.466526Z",
     "iopub.status.busy": "2024-10-04T14:11:03.465524Z",
     "iopub.status.idle": "2024-10-04T14:11:03.480921Z",
     "shell.execute_reply": "2024-10-04T14:11:03.479920Z"
    },
    "papermill": {
     "duration": 0.031354,
     "end_time": "2024-10-04T14:11:03.482914",
     "exception": false,
     "start_time": "2024-10-04T14:11:03.451560",
     "status": "completed"
    },
    "tags": []
   },
   "outputs": [],
   "source": [
    "# Import the data preparation functions\n",
    "# Determine the current working directory\n",
    "module_path = os.getcwd()\n",
    "\n",
    "if os.path.basename(module_path) != '00_functions':\n",
    "# Set the module path (adjust the relative path if necessary)\n",
    "    module_path = os.path.abspath(os.path.join(module_path, '00_functions'))\n",
    "    if module_path not in sys.path:\n",
    "        sys.path.append(module_path)\n",
    "\n",
    "# Load the functions and methods from the corresponding file\n",
    "from nord_h2ub_data_preparation_functions import *\n",
    "from nord_h2ub_data_preparation_main_functions import *"
   ]
  },
  {
   "cell_type": "markdown",
   "id": "3e50630f-868b-40f0-842e-c74d936b5d54",
   "metadata": {
    "papermill": {
     "duration": 0.012659,
     "end_time": "2024-10-04T14:11:03.506541",
     "exception": false,
     "start_time": "2024-10-04T14:11:03.493882",
     "status": "completed"
    },
    "tags": []
   },
   "source": [
    "### Base parameters"
   ]
  },
  {
   "cell_type": "code",
   "execution_count": 3,
   "id": "f557c73c",
   "metadata": {
    "execution": {
     "iopub.execute_input": "2024-10-04T14:11:03.531787Z",
     "iopub.status.busy": "2024-10-04T14:11:03.531787Z",
     "iopub.status.idle": "2024-10-04T14:11:03.544591Z",
     "shell.execute_reply": "2024-10-04T14:11:03.542795Z"
    },
    "papermill": {
     "duration": 0.028016,
     "end_time": "2024-10-04T14:11:03.546597",
     "exception": false,
     "start_time": "2024-10-04T14:11:03.518581",
     "status": "completed"
    },
    "tags": []
   },
   "outputs": [],
   "source": [
    "with open(os.path.join(module_path, 'parameters.pkl'), 'rb') as file:\n",
    "    parameters = pickle.load(file)"
   ]
  },
  {
   "cell_type": "code",
   "execution_count": 4,
   "id": "b565675a",
   "metadata": {
    "execution": {
     "iopub.execute_input": "2024-10-04T14:11:03.571192Z",
     "iopub.status.busy": "2024-10-04T14:11:03.571192Z",
     "iopub.status.idle": "2024-10-04T14:11:03.592206Z",
     "shell.execute_reply": "2024-10-04T14:11:03.589328Z"
    },
    "papermill": {
     "duration": 0.04002,
     "end_time": "2024-10-04T14:11:03.598259",
     "exception": false,
     "start_time": "2024-10-04T14:11:03.558239",
     "status": "completed"
    },
    "tags": []
   },
   "outputs": [],
   "source": [
    "if not parameters:  \n",
    "    print(\"Warning: No parameters were injected. Using default parameters only.\")\n",
    "    # Optionally, you could provide some default initialization here.\n",
    "\n",
    "(year, start_date, end_date, area, product, powers, powers_capacities, scenario, frequency, \n",
    "    model_name, temporal_block, stochastic_scenario, stochastic_structure, \n",
    "    report_name, reports, \n",
    "    electrolyzer_type, des_segments_electrolyzer, \n",
    "    share_of_dh_price_cap, price_level_power, power_price_variance, \n",
    "    roll_forward_use, roll_forward_size, num_slices, datetime_index, \n",
    "    candidate_nonzero, investment_period_default, \n",
    "    inv_cost_Ammonia_storage, inv_cost_anaerobic, inv_cost_ASU, inv_cost_biomethanation,\n",
    "    inv_cost_co2_removal, inv_cost_egasoline_storage, inv_cost_Electrolyzer, inv_cost_Fischer_Tropsch_unit, \n",
    "    inv_cost_Haber_Bosch_reactor, inv_cost_Hydrogen_storage, inv_cost_Jet_fuel_storage, inv_cost_Methane_storage, \n",
    "    inv_cost_Methanol_Plant, inv_cost_Methanol_storage, inv_cost_RWGS_unit, inv_cost_Electric_Steam_Boiler, capacity_ASU, \n",
    "    capacity_Electrolyzer, capacity_Haber_Bosch_reactor, capacity_Fischer_Tropsch_unit, capacity_RWGS_unit, capacity_Methanol_Plant,\n",
    "    capacity_Electric_Steam_Boiler, capacity_anaerobic, capacity_biomethanation, capacity_co2_removal) = set_parameters(parameters)"
   ]
  },
  {
   "cell_type": "markdown",
   "id": "4c56b541-1fbd-4e7e-9cf3-2ff25f8da472",
   "metadata": {
    "papermill": {
     "duration": 0.011044,
     "end_time": "2024-10-04T14:11:03.626251",
     "exception": false,
     "start_time": "2024-10-04T14:11:03.615207",
     "status": "completed"
    },
    "tags": []
   },
   "source": [
    "### File paths"
   ]
  },
  {
   "cell_type": "code",
   "execution_count": 5,
   "id": "5b811bdc-ac7b-4cd7-8e32-8f84bda412a2",
   "metadata": {
    "execution": {
     "iopub.execute_input": "2024-10-04T14:11:03.653756Z",
     "iopub.status.busy": "2024-10-04T14:11:03.652755Z",
     "iopub.status.idle": "2024-10-04T14:11:03.667959Z",
     "shell.execute_reply": "2024-10-04T14:11:03.667402Z"
    },
    "papermill": {
     "duration": 0.030796,
     "end_time": "2024-10-04T14:11:03.670002",
     "exception": false,
     "start_time": "2024-10-04T14:11:03.639206",
     "status": "completed"
    },
    "tags": []
   },
   "outputs": [],
   "source": [
    "# Set path to correct folders\n",
    "'''still not working if it is not started from this jupyter notebook'''\n",
    "# Input data\n",
    "excel_file_path = get_excel_file_path() + '/01_input_raw/'\n",
    "# Prepared input data\n",
    "output_file_path = get_excel_file_path() + '/02_input_prepared/'"
   ]
  },
  {
   "cell_type": "code",
   "execution_count": 6,
   "id": "89169e64-f204-47bb-9a83-17156a4aefa8",
   "metadata": {
    "execution": {
     "iopub.execute_input": "2024-10-04T14:11:03.699973Z",
     "iopub.status.busy": "2024-10-04T14:11:03.698991Z",
     "iopub.status.idle": "2024-10-04T14:11:03.718472Z",
     "shell.execute_reply": "2024-10-04T14:11:03.713528Z"
    },
    "papermill": {
     "duration": 0.04147,
     "end_time": "2024-10-04T14:11:03.724444",
     "exception": false,
     "start_time": "2024-10-04T14:11:03.682974",
     "status": "completed"
    },
    "tags": []
   },
   "outputs": [],
   "source": [
    "# Set name of the relevant files\n",
    "\n",
    "Model_structure_file = '/Model_Data_Base_' + product + '.xlsx'\n",
    "efficiency_electrolyzer_file = '/Efficiency_Electrolyzers.xlsx'\n",
    "distric_heating_price_file = 'energy_prices/district_heating_price_cap.xlsx'\n",
    "investment_costs_file = '/investment_cost_overview/Investment_cost_overview.xlsx'\n",
    "mapping_file = '/methanol_object_mapping.xlsx'\n",
    "\n",
    "PV_data_availabilityfactors = 'PV_availability_factors_Kasso.xlsx'\n",
    "Wind_data_availabilityfactors = 'Wind_availability_factors_Kasso.xlsx'\n",
    "data_powerprices = 'Day_ahead_prices_' + str(year) + '.xlsx'\n",
    "grid_costs = 'energy_prices/grid_costs.xlsx'\n",
    "\n",
    "# Output file\n",
    "output_file_name = product + '_Input_prepared.xlsx'\n",
    "output_mapping_file_name = product + '_object_mapping.xlsx'"
   ]
  },
  {
   "cell_type": "markdown",
   "id": "86d15fe8-064f-4c28-be28-8d924a4ba31b",
   "metadata": {
    "papermill": {
     "duration": 0.014006,
     "end_time": "2024-10-04T14:11:03.752452",
     "exception": false,
     "start_time": "2024-10-04T14:11:03.738446",
     "status": "completed"
    },
    "tags": []
   },
   "source": [
    "\n",
    "## Workflow of the data preparation"
   ]
  },
  {
   "cell_type": "markdown",
   "id": "ef6ad49f-470e-4b29-aa02-c7babb08befb",
   "metadata": {
    "papermill": {
     "duration": 0.012025,
     "end_time": "2024-10-04T14:11:03.776502",
     "exception": false,
     "start_time": "2024-10-04T14:11:03.764477",
     "status": "completed"
    },
    "tags": []
   },
   "source": [
    "### General parameters"
   ]
  },
  {
   "cell_type": "code",
   "execution_count": 7,
   "id": "c50f50c3-e43d-41c2-8158-75596632213b",
   "metadata": {
    "execution": {
     "iopub.execute_input": "2024-10-04T14:11:03.808473Z",
     "iopub.status.busy": "2024-10-04T14:11:03.807469Z",
     "iopub.status.idle": "2024-10-04T14:11:03.902344Z",
     "shell.execute_reply": "2024-10-04T14:11:03.900609Z"
    },
    "papermill": {
     "duration": 0.112924,
     "end_time": "2024-10-04T14:11:03.904388",
     "exception": false,
     "start_time": "2024-10-04T14:11:03.791464",
     "status": "completed"
    },
    "tags": []
   },
   "outputs": [],
   "source": [
    "# Date index\n",
    "date_index = pd.date_range(start=start_date, end=end_date, freq='h')\n",
    "formatted_dates = date_index.strftime('%Y-%m-%dT%H:%M:%S')\n",
    "df_formatted_dates = pd.DataFrame(formatted_dates, columns=['DateTime'])\n",
    "\n",
    "df_time = pd.DataFrame(df_formatted_dates)"
   ]
  },
  {
   "cell_type": "markdown",
   "id": "88fb746a-7cd3-4655-88cf-ac543b003918",
   "metadata": {
    "papermill": {
     "duration": 0.013007,
     "end_time": "2024-10-04T14:11:03.931361",
     "exception": false,
     "start_time": "2024-10-04T14:11:03.918354",
     "status": "completed"
    },
    "tags": []
   },
   "source": [
    "### Data import"
   ]
  },
  {
   "cell_type": "code",
   "execution_count": 8,
   "id": "a42c5077-74ef-4f63-b6d9-4aa3c11aa878",
   "metadata": {
    "execution": {
     "iopub.execute_input": "2024-10-04T14:11:03.957290Z",
     "iopub.status.busy": "2024-10-04T14:11:03.957290Z",
     "iopub.status.idle": "2024-10-04T14:11:12.001414Z",
     "shell.execute_reply": "2024-10-04T14:11:11.999421Z"
    },
    "papermill": {
     "duration": 8.059615,
     "end_time": "2024-10-04T14:11:12.002985",
     "exception": false,
     "start_time": "2024-10-04T14:11:03.943370",
     "status": "completed"
    },
    "tags": []
   },
   "outputs": [],
   "source": [
    "warnings.filterwarnings(\"ignore\", category=UserWarning, module=\"openpyxl\")\n",
    "\n",
    "# Model structure\n",
    "df_model_units_raw = pd.read_excel(excel_file_path + product + Model_structure_file, sheet_name='Units', index_col=None)\n",
    "df_model_connections_raw = pd.read_excel(excel_file_path + product + Model_structure_file, sheet_name='Connections', index_col=None)\n",
    "df_model_storages_raw = pd.read_excel(excel_file_path + product + Model_structure_file, sheet_name='Storages', index_col=None)\n",
    "\n",
    "# Variable efficiency\n",
    "df_efficiency_electrolyzer = pd.read_excel(excel_file_path + product + efficiency_electrolyzer_file, sheet_name='Efficiency_'+electrolyzer_type)\n",
    "\n",
    "# Availability factor\n",
    "df_PV_availabilityfactors_values = pd.read_excel(excel_file_path+PV_data_availabilityfactors, skiprows=2, usecols=[0,1,2,3,4,5])\n",
    "df_wind_availabilityfactors_values = pd.read_excel(excel_file_path+Wind_data_availabilityfactors, skiprows=2, usecols=[0,1,2,3])\n",
    "\n",
    "# Power prices\n",
    "df_powerprices_total_values = pd.read_excel(excel_file_path+data_powerprices)\n",
    "# Only extracting the prices from our earlier defined area\n",
    "df_powerprices_values = df_powerprices_total_values[df_powerprices_total_values['PriceArea'] == area]\n",
    "df_powerprices_values = df_powerprices_values.reset_index(drop=True)\n",
    "df_grid_costs = pd.read_excel(excel_file_path + grid_costs)\n",
    "\n",
    "# District heating prices\n",
    "df_district_heating_price = pd.read_excel(excel_file_path + distric_heating_price_file, sheet_name='Price_Cap_Calculation', index_col=None)\n",
    "\n",
    "# Investment costs\n",
    "df_investment_costs_raw = pd.read_excel(excel_file_path + investment_costs_file, sheet_name='Investment_Cost', index_col=None)\n",
    "\n",
    "# Mapping between entity and parameter name\n",
    "df_mapping = pd.read_excel(excel_file_path + product + mapping_file, sheet_name='Object_Mapping', index_col=None)"
   ]
  },
  {
   "cell_type": "markdown",
   "id": "c2693fc2-fe36-47a1-9b08-00f73dd53b9f",
   "metadata": {
    "papermill": {
     "duration": 0.012003,
     "end_time": "2024-10-04T14:11:12.026951",
     "exception": false,
     "start_time": "2024-10-04T14:11:12.014948",
     "status": "completed"
    },
    "tags": []
   },
   "source": [
    "### Adjustments"
   ]
  },
  {
   "cell_type": "markdown",
   "id": "28376bad-520d-4ab3-85ce-2d1cf91ac5e5",
   "metadata": {
    "papermill": {
     "duration": 0.011883,
     "end_time": "2024-10-04T14:11:12.051831",
     "exception": false,
     "start_time": "2024-10-04T14:11:12.039948",
     "status": "completed"
    },
    "tags": []
   },
   "source": [
    "#### Adjust base elements:"
   ]
  },
  {
   "cell_type": "code",
   "execution_count": 9,
   "id": "73594a49",
   "metadata": {
    "execution": {
     "iopub.execute_input": "2024-10-04T14:11:12.077351Z",
     "iopub.status.busy": "2024-10-04T14:11:12.077351Z",
     "iopub.status.idle": "2024-10-04T14:11:12.096431Z",
     "shell.execute_reply": "2024-10-04T14:11:12.094544Z"
    },
    "papermill": {
     "duration": 0.038125,
     "end_time": "2024-10-04T14:11:12.101476",
     "exception": false,
     "start_time": "2024-10-04T14:11:12.063351",
     "status": "completed"
    },
    "tags": []
   },
   "outputs": [],
   "source": [
    "# Overwrite capacities with set ones from dropdowns\n",
    "# Depends on what capacity is related to (input or output) -> needs to be done for products other than methanol!!!\n",
    "for index, row in df_model_units_raw.iterrows():\n",
    "    object_type = row['Object_type']\n",
    "    if object_type in ['PEM_Electrolyzer', 'AEC_Electrolyzer', 'SOEC_Electrolyzer']:\n",
    "        object_type = 'Electrolyzer'\n",
    "    \n",
    "    # Default capacity in/out: existing row\n",
    "    \n",
    "    # Check if external capacities given\n",
    "    pattern = re.compile(rf\"capacity_.*{object_type}\")\n",
    "    matching_vars = [var for var in globals() if pattern.match(var)]\n",
    "    \n",
    "    if matching_vars:\n",
    "        variable_name = matching_vars[0]\n",
    "        variable_value = globals()[variable_name]\n",
    "        \n",
    "        if variable_value is not None:\n",
    "            if object_type in ['Electrolyzer', 'Electric_Steam_Boiler']:\n",
    "                df_model_units_raw.at[index, 'Cap_Input1_existing'] = variable_value\n",
    "            else: df_model_units_raw.at[index, 'Cap_Output1_existing'] = variable_value"
   ]
  },
  {
   "cell_type": "code",
   "execution_count": 10,
   "id": "861e7dc2",
   "metadata": {
    "execution": {
     "iopub.execute_input": "2024-10-04T14:11:12.133423Z",
     "iopub.status.busy": "2024-10-04T14:11:12.133423Z",
     "iopub.status.idle": "2024-10-04T14:11:12.161945Z",
     "shell.execute_reply": "2024-10-04T14:11:12.157930Z"
    },
    "papermill": {
     "duration": 0.047522,
     "end_time": "2024-10-04T14:11:12.165979",
     "exception": false,
     "start_time": "2024-10-04T14:11:12.118457",
     "status": "completed"
    },
    "tags": []
   },
   "outputs": [],
   "source": [
    "# Overwrite power capacity value with value from powers_capacities set in dropdowns\n",
    "# Add missing power source if necessary\n",
    "\n",
    "# Step 1: Check and update for Solar plant\n",
    "if 'Solar plant' in powers_capacities and powers_capacities['Solar plant'] is not None:\n",
    "    if not (df_model_units_raw['Object_type'] == 'PV_plant').any():\n",
    "        new_row = {col: np.nan for col in df_model_units_raw.columns}  # Initialize all columns with NaN\n",
    "        new_row['Unit'] = 'PV_plant'\n",
    "        new_row['Object_type'] = 'PV_plant'\n",
    "        new_row['Output1'] = 'Power_Kasso'\n",
    "        new_row['Cap_Output1_existing'] = powers_capacities['Solar plant']\n",
    "        new_row_df = pd.DataFrame([new_row])\n",
    "        df_model_units_raw = pd.concat([df_model_units_raw, new_row_df], ignore_index = True)\n",
    "    else:\n",
    "        df_model_units_raw.loc[df_model_units_raw['Object_type'] == 'PV_plant', 'Cap_Output1_existing'] = powers_capacities['Solar plant']\n",
    "\n",
    "# Step 2: Check and update for Wind_onshore\n",
    "if 'Wind onshore' in powers_capacities and pd.notna(powers_capacities['Wind onshore']):\n",
    "    if not (df_model_units_raw['Object_type'] == 'Wind_onshore').any():\n",
    "        new_row = {col: np.nan for col in df_model_units_raw.columns}  # Initialize all columns with NaN\n",
    "        new_row['Unit'] = 'Wind_onshore'\n",
    "        new_row['Object_type'] = 'Wind_onshore'\n",
    "        new_row['Output1'] = 'Power_Kasso'\n",
    "        new_row['Cap_Output1_existing'] = powers_capacities['Wind onshore']\n",
    "        new_row_df = pd.DataFrame([new_row])\n",
    "        df_model_units_raw = pd.concat([df_model_units_raw, new_row_df], ignore_index = True)\n",
    "    else:\n",
    "        df_model_units_raw.loc[df_model_units_raw['Object_type'] == 'Wind_onshore', 'Cap_Output1_existing'] = powers_capacities['Wind onshore']\n",
    "\n",
    "# Step 3: Check and update for Wind_offshore\n",
    "if 'Wind offshore' in powers_capacities and pd.notna(powers_capacities['Wind offshore']):\n",
    "    if not (df_model_units_raw['Object_type'] == 'Wind_offshore').any():\n",
    "        new_row = {col: np.nan for col in df_model_units_raw.columns}  # Initialize all columns with NaN\n",
    "        new_row['Unit'] = 'Wind_offshore'\n",
    "        new_row['Object_type'] = 'Wind_offshore'\n",
    "        new_row['Output1'] = 'Power_Kasso'\n",
    "        new_row['Cap_Output1_existing'] = powers_capacities['Wind offshore']\n",
    "        new_row_df = pd.DataFrame([new_row])\n",
    "        df_model_units_raw = pd.concat([df_model_units_raw, new_row_df], ignore_index = True)\n",
    "    else:\n",
    "        df_model_units_raw.loc[df_model_units_raw['Object_type'] == 'Wind_offshore', 'Cap_Output1_existing'] = powers_capacities['Wind offshore']"
   ]
  },
  {
   "cell_type": "code",
   "execution_count": 11,
   "id": "7dfe4eb9-681a-4574-8170-cdc08156460b",
   "metadata": {
    "execution": {
     "iopub.execute_input": "2024-10-04T14:11:12.194943Z",
     "iopub.status.busy": "2024-10-04T14:11:12.193944Z",
     "iopub.status.idle": "2024-10-04T14:11:12.221568Z",
     "shell.execute_reply": "2024-10-04T14:11:12.219484Z"
    },
    "papermill": {
     "duration": 0.042641,
     "end_time": "2024-10-04T14:11:12.223622",
     "exception": false,
     "start_time": "2024-10-04T14:11:12.180981",
     "status": "completed"
    },
    "tags": []
   },
   "outputs": [],
   "source": [
    "# Drop some unnecessary information\n",
    "df_model_units = df_model_units_raw.drop(columns = ['Object_type']).copy()\n",
    "df_model_connections = df_model_connections_raw.drop(columns = ['Object_type']).copy()\n",
    "df_model_storages = df_model_storages_raw.drop(columns = ['Object_type']).copy()\n",
    "\n",
    "# Create mapping tables for object name to type\n",
    "df_model_units_mapping = df_model_units_raw[['Unit', 'Object_type']].copy()\n",
    "df_model_connections_mapping = df_model_connections_raw[['Connection', 'Object_type']].copy()\n",
    "df_model_storages_mapping = df_model_storages_raw[['Storage', 'Object_type']].copy()\n",
    "\n",
    "df_model_units_mapping.rename(columns={'Unit': 'Object_name'}, inplace=True)\n",
    "df_model_connections_mapping.rename(columns={'Connection': 'Object_name'}, inplace=True)\n",
    "df_model_storages_mapping.rename(columns={'Storage': 'Object_name'}, inplace=True)\n",
    "\n",
    "# Create a dataframe with mapping of all object in the model\n",
    "df_model_object_mapping = pd.concat([df_model_units_mapping, df_model_connections_mapping, df_model_storages_mapping], axis=0)\n",
    "df_model_object_mapping = df_model_object_mapping.reset_index(drop=True)"
   ]
  },
  {
   "cell_type": "code",
   "execution_count": 12,
   "id": "582acf93-55ae-492a-ac60-bb447644e425",
   "metadata": {
    "execution": {
     "iopub.execute_input": "2024-10-04T14:11:12.249587Z",
     "iopub.status.busy": "2024-10-04T14:11:12.249587Z",
     "iopub.status.idle": "2024-10-04T14:11:12.267897Z",
     "shell.execute_reply": "2024-10-04T14:11:12.266888Z"
    },
    "papermill": {
     "duration": 0.03435,
     "end_time": "2024-10-04T14:11:12.269931",
     "exception": false,
     "start_time": "2024-10-04T14:11:12.235581",
     "status": "completed"
    },
    "tags": []
   },
   "outputs": [],
   "source": [
    "df_units = process_dataframe(df_model_units, 'Unit', 'unit')\n",
    "df_connections = process_dataframe(df_model_connections, 'Connection', 'connection')"
   ]
  },
  {
   "cell_type": "code",
   "execution_count": 13,
   "id": "28e86607-2ad3-4aa8-8bbd-3bee30a62970",
   "metadata": {
    "execution": {
     "iopub.execute_input": "2024-10-04T14:11:12.295932Z",
     "iopub.status.busy": "2024-10-04T14:11:12.294893Z",
     "iopub.status.idle": "2024-10-04T14:11:12.317365Z",
     "shell.execute_reply": "2024-10-04T14:11:12.314256Z"
    },
    "papermill": {
     "duration": 0.041435,
     "end_time": "2024-10-04T14:11:12.323366",
     "exception": false,
     "start_time": "2024-10-04T14:11:12.281931",
     "status": "completed"
    },
    "scrolled": true,
    "tags": []
   },
   "outputs": [],
   "source": [
    "# Adjust the storage loss rate values to fit to the SpineOpt implementation\n",
    "df_model_storages = adjust_frac_state_loss(df_model_storages, 'frac_state_loss')"
   ]
  },
  {
   "cell_type": "code",
   "execution_count": 14,
   "id": "1f7ec120-9bbf-40af-ac29-9b429051d1a7",
   "metadata": {
    "execution": {
     "iopub.execute_input": "2024-10-04T14:11:12.365827Z",
     "iopub.status.busy": "2024-10-04T14:11:12.364836Z",
     "iopub.status.idle": "2024-10-04T14:11:12.378843Z",
     "shell.execute_reply": "2024-10-04T14:11:12.376856Z"
    },
    "papermill": {
     "duration": 0.029531,
     "end_time": "2024-10-04T14:11:12.380845",
     "exception": false,
     "start_time": "2024-10-04T14:11:12.351314",
     "status": "completed"
    },
    "tags": []
   },
   "outputs": [],
   "source": [
    "# Define the elements of the network\n",
    "df_definition, df_nodes = create_definition_dataframe(df_model_units, df_model_connections)"
   ]
  },
  {
   "cell_type": "code",
   "execution_count": 15,
   "id": "f3c90d86-d62f-49aa-bf8c-a7ceec921d8b",
   "metadata": {
    "execution": {
     "iopub.execute_input": "2024-10-04T14:11:12.406240Z",
     "iopub.status.busy": "2024-10-04T14:11:12.406240Z",
     "iopub.status.idle": "2024-10-04T14:11:12.471143Z",
     "shell.execute_reply": "2024-10-04T14:11:12.470140Z"
    },
    "papermill": {
     "duration": 0.080294,
     "end_time": "2024-10-04T14:11:12.473142",
     "exception": false,
     "start_time": "2024-10-04T14:11:12.392848",
     "status": "completed"
    },
    "tags": []
   },
   "outputs": [
    {
     "name": "stderr",
     "output_type": "stream",
     "text": [
      "C:\\Users\\jfg.eco\\Documents\\GitHub\\Nord_H2ub\\spine_projects\\01_input_data\\00_functions\\nord_h2ub_data_preparation_functions.py:388: FutureWarning: The behavior of DataFrame concatenation with empty or all-NA entries is deprecated. In a future version, this will no longer exclude empty or all-NA columns when determining the result dtypes. To retain the old behavior, exclude the relevant entries before the concat operation.\n",
      "  unit_parameter_df = pd.concat([unit_parameter_df, pd.DataFrame([new_row])], ignore_index=True)\n",
      "C:\\Users\\jfg.eco\\Documents\\GitHub\\Nord_H2ub\\spine_projects\\01_input_data\\00_functions\\nord_h2ub_data_preparation_functions.py:388: FutureWarning: The behavior of DataFrame concatenation with empty or all-NA entries is deprecated. In a future version, this will no longer exclude empty or all-NA columns when determining the result dtypes. To retain the old behavior, exclude the relevant entries before the concat operation.\n",
      "  unit_parameter_df = pd.concat([unit_parameter_df, pd.DataFrame([new_row])], ignore_index=True)\n"
     ]
    },
    {
     "data": {
      "text/html": [
       "<div>\n",
       "<style scoped>\n",
       "    .dataframe tbody tr th:only-of-type {\n",
       "        vertical-align: middle;\n",
       "    }\n",
       "\n",
       "    .dataframe tbody tr th {\n",
       "        vertical-align: top;\n",
       "    }\n",
       "\n",
       "    .dataframe thead th {\n",
       "        text-align: right;\n",
       "    }\n",
       "</style>\n",
       "<table border=\"1\" class=\"dataframe\">\n",
       "  <thead>\n",
       "    <tr style=\"text-align: right;\">\n",
       "      <th></th>\n",
       "      <th>Object_name</th>\n",
       "      <th>Category</th>\n",
       "      <th>Parameter</th>\n",
       "      <th>Value</th>\n",
       "    </tr>\n",
       "  </thead>\n",
       "  <tbody>\n",
       "    <tr>\n",
       "      <th>0</th>\n",
       "      <td>Solar_Plant</td>\n",
       "      <td>unit</td>\n",
       "      <td>fom_cost</td>\n",
       "      <td>1.29</td>\n",
       "    </tr>\n",
       "    <tr>\n",
       "      <th>1</th>\n",
       "      <td>Electrolyzer</td>\n",
       "      <td>unit</td>\n",
       "      <td>fom_cost</td>\n",
       "      <td>4.34</td>\n",
       "    </tr>\n",
       "    <tr>\n",
       "      <th>2</th>\n",
       "      <td>Methanol_Reactor</td>\n",
       "      <td>unit</td>\n",
       "      <td>fom_cost</td>\n",
       "      <td>4.45</td>\n",
       "    </tr>\n",
       "    <tr>\n",
       "      <th>3</th>\n",
       "      <td>Steam_Plant</td>\n",
       "      <td>unit</td>\n",
       "      <td>fom_cost</td>\n",
       "      <td>0.119292</td>\n",
       "    </tr>\n",
       "    <tr>\n",
       "      <th>4</th>\n",
       "      <td>Methanol_Reactor</td>\n",
       "      <td>unit</td>\n",
       "      <td>min_down_time</td>\n",
       "      <td>48h</td>\n",
       "    </tr>\n",
       "  </tbody>\n",
       "</table>\n",
       "</div>"
      ],
      "text/plain": [
       "        Object_name Category      Parameter     Value\n",
       "0       Solar_Plant     unit       fom_cost      1.29\n",
       "1      Electrolyzer     unit       fom_cost      4.34\n",
       "2  Methanol_Reactor     unit       fom_cost      4.45\n",
       "3       Steam_Plant     unit       fom_cost  0.119292\n",
       "4  Methanol_Reactor     unit  min_down_time       48h"
      ]
     },
     "execution_count": 15,
     "metadata": {},
     "output_type": "execute_result"
    }
   ],
   "source": [
    "# Create a data frame for all parameters of units\n",
    "\n",
    "# Add fixed operation and maintenance cost\n",
    "unit_fom_cost_df = create_object_parameters(df_model_units, 'Unit', 'fom_cost')\n",
    "# Add unit minimal downtime\n",
    "unit_min_down_time_df = create_object_parameters(df_model_units, 'Unit', 'min_down_time')\n",
    "# Add unit on cost\n",
    "unit_on_cost_df = create_object_parameters(df_model_units, 'Unit', 'units_on_cost')\n",
    "# Add start up costs\n",
    "start_up_cost_df = create_object_parameters(df_model_units, 'Unit', 'start_up_cost')\n",
    "# Add shut down costs\n",
    "shut_down_cost_df = create_object_parameters(df_model_units, 'Unit', 'shut_down_cost')\n",
    "\n",
    "connection_fom_cost_df = create_object_parameters(df_model_connections, 'Connection', 'fom_cost')\n",
    "\n",
    "# Create a complete data frame with all parameters\n",
    "unit_parameters_df = pd.concat([unit_fom_cost_df, unit_min_down_time_df, unit_on_cost_df, start_up_cost_df, shut_down_cost_df, connection_fom_cost_df], ignore_index=True)\n",
    "\n",
    "# Show table head for control\n",
    "unit_parameters_df.head()"
   ]
  },
  {
   "cell_type": "code",
   "execution_count": 16,
   "id": "470215f7-7b7f-45f3-a1b6-daa11589ff79",
   "metadata": {
    "execution": {
     "iopub.execute_input": "2024-10-04T14:11:12.501152Z",
     "iopub.status.busy": "2024-10-04T14:11:12.501152Z",
     "iopub.status.idle": "2024-10-04T14:11:12.519237Z",
     "shell.execute_reply": "2024-10-04T14:11:12.518205Z"
    },
    "papermill": {
     "duration": 0.034156,
     "end_time": "2024-10-04T14:11:12.521334",
     "exception": false,
     "start_time": "2024-10-04T14:11:12.487178",
     "status": "completed"
    },
    "tags": []
   },
   "outputs": [],
   "source": [
    "# Create a new data frame for parameters that are given as durations\n",
    "# Necessary as SpineToolbox needs a separate input to map the parameter correctly\n",
    "\n",
    "duration_parameter = 'min_down_time'\n",
    "unit_parameters_duration_df = unit_parameters_df[unit_parameters_df['Parameter'] == duration_parameter]\n",
    "# Resetting the index\n",
    "unit_parameters_duration_df = unit_parameters_duration_df.reset_index(drop=True)\n",
    "\n",
    "# Creating another DataFrame with rows that do not meet the condition\n",
    "unit_parameters_rest_df = unit_parameters_df[unit_parameters_df['Parameter'] != duration_parameter]"
   ]
  },
  {
   "cell_type": "code",
   "execution_count": 17,
   "id": "1d4e42d4-76d0-480d-b7b2-bdb413adfc55",
   "metadata": {
    "execution": {
     "iopub.execute_input": "2024-10-04T14:11:12.547351Z",
     "iopub.status.busy": "2024-10-04T14:11:12.547351Z",
     "iopub.status.idle": "2024-10-04T14:11:12.597991Z",
     "shell.execute_reply": "2024-10-04T14:11:12.596194Z"
    },
    "papermill": {
     "duration": 0.066635,
     "end_time": "2024-10-04T14:11:12.600024",
     "exception": false,
     "start_time": "2024-10-04T14:11:12.533389",
     "status": "completed"
    },
    "tags": []
   },
   "outputs": [],
   "source": [
    "# Create the balance type of the nodes\n",
    "columns_to_select = ['Input1', 'Input2', 'Output1', 'Output2']\n",
    "df_combined = pd.concat([df_model_units, df_model_connections])\n",
    "df_combined = df_combined.reset_index(drop=True)\n",
    "\n",
    "df_nodes_network = create_connection_dataframe(df_combined, columns_to_select)\n",
    "\n",
    "# Get unique values from the 'in' column\n",
    "unique_in_values = df_nodes_network['in'].dropna().unique()\n",
    "\n",
    "# Identify values in 'in' column not present in 'out' column\n",
    "values_not_in_out = unique_in_values[~pd.Series(unique_in_values).isin(df_nodes_network['out'].dropna().unique())]\n",
    "\n",
    "# Get unique values from the 'in' column\n",
    "unique_out_values = df_nodes_network['out'].dropna().unique()\n",
    "\n",
    "# Identify values in 'in' column not present in 'out' column\n",
    "values_not_in_in = unique_out_values[~pd.Series(unique_out_values).isin(df_nodes_network['in'].dropna().unique())]\n",
    "\n",
    "# Create list of unique nodes that are either start or end nodes\n",
    "unique_nodes = values_not_in_out.tolist() + values_not_in_in.tolist()\n",
    "unique_nodes\n",
    "\n",
    "df_nodes_network.replace(np.nan, None, inplace=True)\n",
    "\n",
    "# Check for combinations that are mirrored\n",
    "mirrored_combinations = find_mirror_combinations(df_nodes_network)\n",
    "\n",
    "# Get information of connections for each node\n",
    "partners_dict1 = find_partners(df_nodes_network)\n",
    "partners_dict2 = find_partners(mirrored_combinations)\n",
    "\n",
    "# Check both lists if there are identical entries and list nodes that only have a connection to the same node\n",
    "# Storages are removed as they must be balanced\n",
    "nodes_identical = find_identical_entries(partners_dict1, partners_dict2)\n",
    "\n",
    "# Combined list of start and end nodes that should be unbalanced\n",
    "unbalanced_nodes = nodes_identical + unique_nodes\n",
    "\n",
    "df_nodes['balance_type'] = 'balance_type_node'\n",
    "df_nodes.loc[df_nodes['Object_name'].isin(unbalanced_nodes), 'balance_type'] = 'balance_type_none'"
   ]
  },
  {
   "cell_type": "code",
   "execution_count": 18,
   "id": "0403b80a-9d3f-4557-bda6-2803650bea2d",
   "metadata": {
    "execution": {
     "iopub.execute_input": "2024-10-04T14:11:12.626994Z",
     "iopub.status.busy": "2024-10-04T14:11:12.626994Z",
     "iopub.status.idle": "2024-10-04T14:11:12.644052Z",
     "shell.execute_reply": "2024-10-04T14:11:12.643063Z"
    },
    "papermill": {
     "duration": 0.035064,
     "end_time": "2024-10-04T14:11:12.647071",
     "exception": false,
     "start_time": "2024-10-04T14:11:12.612007",
     "status": "completed"
    },
    "tags": []
   },
   "outputs": [],
   "source": [
    "# Add has_state_node_state_cap and frac_state_loss\n",
    "df_storages_short = df_model_storages.loc[:, ['Storage', 'has_state', 'node_state_cap', 'frac_state_loss']].rename(columns={'Storage': 'Object_name'})\n",
    "df_storages_short['has_state'] = df_storages_short['has_state'].astype(str).str.lower().replace('true', 'true')\n",
    "\n",
    "df_nodes = pd.merge(df_nodes, df_storages_short, on='Object_name', how='left')\n",
    "df_nodes['demand'] = \"\""
   ]
  },
  {
   "cell_type": "code",
   "execution_count": 19,
   "id": "bb44a55f-bd0d-41f3-a96a-2fc67ae92a5e",
   "metadata": {
    "execution": {
     "iopub.execute_input": "2024-10-04T14:11:12.674563Z",
     "iopub.status.busy": "2024-10-04T14:11:12.673579Z",
     "iopub.status.idle": "2024-10-04T14:11:12.706687Z",
     "shell.execute_reply": "2024-10-04T14:11:12.705798Z"
    },
    "papermill": {
     "duration": 0.05012,
     "end_time": "2024-10-04T14:11:12.709687",
     "exception": false,
     "start_time": "2024-10-04T14:11:12.659567",
     "status": "completed"
    },
    "scrolled": true,
    "tags": []
   },
   "outputs": [
    {
     "data": {
      "text/html": [
       "<div>\n",
       "<style scoped>\n",
       "    .dataframe tbody tr th:only-of-type {\n",
       "        vertical-align: middle;\n",
       "    }\n",
       "\n",
       "    .dataframe tbody tr th {\n",
       "        vertical-align: top;\n",
       "    }\n",
       "\n",
       "    .dataframe thead th {\n",
       "        text-align: right;\n",
       "    }\n",
       "</style>\n",
       "<table border=\"1\" class=\"dataframe\">\n",
       "  <thead>\n",
       "    <tr style=\"text-align: right;\">\n",
       "      <th></th>\n",
       "      <th>Object_name</th>\n",
       "      <th>Category</th>\n",
       "      <th>balance_type</th>\n",
       "      <th>has_state</th>\n",
       "      <th>node_state_cap</th>\n",
       "      <th>frac_state_loss</th>\n",
       "      <th>demand</th>\n",
       "      <th>node_slack_penalty</th>\n",
       "    </tr>\n",
       "  </thead>\n",
       "  <tbody>\n",
       "    <tr>\n",
       "      <th>0</th>\n",
       "      <td>E-Methanol_storage_Kasso</td>\n",
       "      <td>node</td>\n",
       "      <td>balance_type_node</td>\n",
       "      <td>true</td>\n",
       "      <td>2640.000000</td>\n",
       "      <td>0.000000</td>\n",
       "      <td></td>\n",
       "      <td>1000000</td>\n",
       "    </tr>\n",
       "    <tr>\n",
       "      <th>1</th>\n",
       "      <td>E-Methanol_Kasso</td>\n",
       "      <td>node</td>\n",
       "      <td>balance_type_node</td>\n",
       "      <td>NaN</td>\n",
       "      <td>NaN</td>\n",
       "      <td>NaN</td>\n",
       "      <td></td>\n",
       "      <td>1000000</td>\n",
       "    </tr>\n",
       "    <tr>\n",
       "      <th>2</th>\n",
       "      <td>Vaporized_Carbon_Dioxide</td>\n",
       "      <td>node</td>\n",
       "      <td>balance_type_node</td>\n",
       "      <td>NaN</td>\n",
       "      <td>NaN</td>\n",
       "      <td>NaN</td>\n",
       "      <td></td>\n",
       "      <td>1000000</td>\n",
       "    </tr>\n",
       "    <tr>\n",
       "      <th>3</th>\n",
       "      <td>Hydrogen_storage_Kasso</td>\n",
       "      <td>node</td>\n",
       "      <td>balance_type_node</td>\n",
       "      <td>true</td>\n",
       "      <td>5478.676451</td>\n",
       "      <td>0.043264</td>\n",
       "      <td></td>\n",
       "      <td>1000000</td>\n",
       "    </tr>\n",
       "    <tr>\n",
       "      <th>4</th>\n",
       "      <td>District_Heating</td>\n",
       "      <td>node</td>\n",
       "      <td>balance_type_none</td>\n",
       "      <td>NaN</td>\n",
       "      <td>NaN</td>\n",
       "      <td>NaN</td>\n",
       "      <td></td>\n",
       "      <td></td>\n",
       "    </tr>\n",
       "  </tbody>\n",
       "</table>\n",
       "</div>"
      ],
      "text/plain": [
       "                Object_name Category       balance_type has_state  \\\n",
       "0  E-Methanol_storage_Kasso     node  balance_type_node      true   \n",
       "1          E-Methanol_Kasso     node  balance_type_node       NaN   \n",
       "2  Vaporized_Carbon_Dioxide     node  balance_type_node       NaN   \n",
       "3    Hydrogen_storage_Kasso     node  balance_type_node      true   \n",
       "4          District_Heating     node  balance_type_none       NaN   \n",
       "\n",
       "   node_state_cap  frac_state_loss demand node_slack_penalty  \n",
       "0     2640.000000         0.000000                   1000000  \n",
       "1             NaN              NaN                   1000000  \n",
       "2             NaN              NaN                   1000000  \n",
       "3     5478.676451         0.043264                   1000000  \n",
       "4             NaN              NaN                            "
      ]
     },
     "execution_count": 19,
     "metadata": {},
     "output_type": "execute_result"
    }
   ],
   "source": [
    "# Create a dataframe with all nodes that should have a slack based on the unit input and outputs\n",
    "nodes_for_slack_df = check_entries_exist(df_model_units, 'node')\n",
    "# Merge the information into the prepared data frame\n",
    "merged_df = pd.merge(df_nodes, nodes_for_slack_df, left_on='Object_name', right_on='node', how='left')\n",
    "merged_df = merged_df.drop(columns=['node'])\n",
    "merged_df['node_slack_penalty'] = merged_df['node_slack_penalty'].replace({True: 1000000, False: ''})\n",
    "# Create a dataframe with all nodes that should have a slack based on the connection input and outputs\n",
    "nodes_for_slack_df2 = check_entries_exist(df_model_connections, 'connection')\n",
    "# Merge the information into the prepared data frame\n",
    "merged_df2 = pd.merge(df_nodes, nodes_for_slack_df2, left_on='Object_name', right_on='connection', how='left')\n",
    "merged_df2 = merged_df2.drop(columns=['connection'])\n",
    "merged_df2['node_slack_penalty'] = merged_df2['node_slack_penalty'].replace({True: 1000000, False: ''})\n",
    "# Link the information about the slack of both data frames\n",
    "merged_df2['node_slack_penalty'] = merged_df['node_slack_penalty'].combine_first(merged_df2['node_slack_penalty'])\n",
    "# Clean the information that only nodes with 'balance_type_node' have a penalty\n",
    "merged_df2.loc[merged_df2['balance_type'] == 'balance_type_none', 'node_slack_penalty'] = ''\n",
    "\n",
    "# Add the information into the df_nodes\n",
    "df_nodes['node_slack_penalty'] = merged_df2['node_slack_penalty']\n",
    "\n",
    "# Show table head for control\n",
    "df_nodes.head()"
   ]
  },
  {
   "cell_type": "markdown",
   "id": "c56d2046",
   "metadata": {
    "papermill": {
     "duration": 0.014003,
     "end_time": "2024-10-04T14:11:12.741691",
     "exception": false,
     "start_time": "2024-10-04T14:11:12.727688",
     "status": "completed"
    },
    "tags": []
   },
   "source": [
    "#### Investments:"
   ]
  },
  {
   "cell_type": "code",
   "execution_count": 20,
   "id": "8d0cccc8",
   "metadata": {
    "execution": {
     "iopub.execute_input": "2024-10-04T14:11:12.771256Z",
     "iopub.status.busy": "2024-10-04T14:11:12.771256Z",
     "iopub.status.idle": "2024-10-04T14:11:12.816676Z",
     "shell.execute_reply": "2024-10-04T14:11:12.815652Z"
    },
    "papermill": {
     "duration": 0.064008,
     "end_time": "2024-10-04T14:11:12.818710",
     "exception": false,
     "start_time": "2024-10-04T14:11:12.754702",
     "status": "completed"
    },
    "tags": []
   },
   "outputs": [
    {
     "name": "stderr",
     "output_type": "stream",
     "text": [
      "C:\\Users\\jfg.eco\\AppData\\Local\\Temp\\ipykernel_13148\\4270891350.py:66: FutureWarning: The behavior of DataFrame concatenation with empty or all-NA entries is deprecated. In a future version, this will no longer exclude empty or all-NA columns when determining the result dtypes. To retain the old behavior, exclude the relevant entries before the concat operation.\n",
      "  df_units_inv_parameters = pd.concat([df_units_inv_parameters, pd.DataFrame(rows_to_add)], ignore_index=True)\n"
     ]
    },
    {
     "data": {
      "text/html": [
       "<div>\n",
       "<style scoped>\n",
       "    .dataframe tbody tr th:only-of-type {\n",
       "        vertical-align: middle;\n",
       "    }\n",
       "\n",
       "    .dataframe tbody tr th {\n",
       "        vertical-align: top;\n",
       "    }\n",
       "\n",
       "    .dataframe thead th {\n",
       "        text-align: right;\n",
       "    }\n",
       "</style>\n",
       "<table border=\"1\" class=\"dataframe\">\n",
       "  <thead>\n",
       "    <tr style=\"text-align: right;\">\n",
       "      <th></th>\n",
       "      <th>Object_name</th>\n",
       "      <th>unit_investment_variable_type</th>\n",
       "      <th>initial_units_invested_available</th>\n",
       "      <th>number_of_units</th>\n",
       "      <th>candidate_units</th>\n",
       "      <th>unit_investment_cost</th>\n",
       "      <th>unit_investment_tech_lifetime</th>\n",
       "      <th>unit_investment_econ_lifetime</th>\n",
       "    </tr>\n",
       "  </thead>\n",
       "  <tbody>\n",
       "    <tr>\n",
       "      <th>0</th>\n",
       "      <td>Solar_Plant</td>\n",
       "      <td>unit_investment_variable_type_continuous</td>\n",
       "      <td>0</td>\n",
       "      <td>0</td>\n",
       "      <td>1</td>\n",
       "      <td>4.850674e+06</td>\n",
       "      <td>12775D</td>\n",
       "      <td>12775D</td>\n",
       "    </tr>\n",
       "    <tr>\n",
       "      <th>1</th>\n",
       "      <td>Electrolyzer</td>\n",
       "      <td>unit_investment_variable_type_continuous</td>\n",
       "      <td>0</td>\n",
       "      <td>0</td>\n",
       "      <td>1</td>\n",
       "      <td>0.000000e+00</td>\n",
       "      <td>9125D</td>\n",
       "      <td>9125D</td>\n",
       "    </tr>\n",
       "    <tr>\n",
       "      <th>2</th>\n",
       "      <td>CO2_Vaporizer</td>\n",
       "      <td>unit_investment_variable_type_continuous</td>\n",
       "      <td>0</td>\n",
       "      <td>0</td>\n",
       "      <td>1</td>\n",
       "      <td>2.493151e+06</td>\n",
       "      <td>7300D</td>\n",
       "      <td>7300D</td>\n",
       "    </tr>\n",
       "    <tr>\n",
       "      <th>3</th>\n",
       "      <td>Destilation_Tower</td>\n",
       "      <td>unit_investment_variable_type_continuous</td>\n",
       "      <td>0</td>\n",
       "      <td>0</td>\n",
       "      <td>1</td>\n",
       "      <td>2.333589e+06</td>\n",
       "      <td>10950D</td>\n",
       "      <td>10950D</td>\n",
       "    </tr>\n",
       "    <tr>\n",
       "      <th>4</th>\n",
       "      <td>Methanol_Reactor</td>\n",
       "      <td>unit_investment_variable_type_continuous</td>\n",
       "      <td>0</td>\n",
       "      <td>0</td>\n",
       "      <td>1</td>\n",
       "      <td>0.000000e+00</td>\n",
       "      <td>10950D</td>\n",
       "      <td>10950D</td>\n",
       "    </tr>\n",
       "  </tbody>\n",
       "</table>\n",
       "</div>"
      ],
      "text/plain": [
       "         Object_name             unit_investment_variable_type  \\\n",
       "0        Solar_Plant  unit_investment_variable_type_continuous   \n",
       "1       Electrolyzer  unit_investment_variable_type_continuous   \n",
       "2      CO2_Vaporizer  unit_investment_variable_type_continuous   \n",
       "3  Destilation_Tower  unit_investment_variable_type_continuous   \n",
       "4   Methanol_Reactor  unit_investment_variable_type_continuous   \n",
       "\n",
       "  initial_units_invested_available number_of_units candidate_units  \\\n",
       "0                                0               0               1   \n",
       "1                                0               0               1   \n",
       "2                                0               0               1   \n",
       "3                                0               0               1   \n",
       "4                                0               0               1   \n",
       "\n",
       "   unit_investment_cost unit_investment_tech_lifetime  \\\n",
       "0          4.850674e+06                        12775D   \n",
       "1          0.000000e+00                         9125D   \n",
       "2          2.493151e+06                         7300D   \n",
       "3          2.333589e+06                        10950D   \n",
       "4          0.000000e+00                        10950D   \n",
       "\n",
       "  unit_investment_econ_lifetime  \n",
       "0                        12775D  \n",
       "1                         9125D  \n",
       "2                         7300D  \n",
       "3                        10950D  \n",
       "4                        10950D  "
      ]
     },
     "execution_count": 20,
     "metadata": {},
     "output_type": "execute_result"
    }
   ],
   "source": [
    "# Initialize df\n",
    "df_units_inv_parameters = pd.DataFrame(columns=['Object_name', 'unit_investment_variable_type', \n",
    "                                                    'initial_units_invested_available', 'number_of_units', \n",
    "                                                    'candidate_units', 'unit_investment_cost', \n",
    "                                                    'unit_investment_tech_lifetime', 'unit_investment_econ_lifetime'])\n",
    "\n",
    "# Choose correct column for investment costs based on chosen year\n",
    "year_columns = {int(col.split()[-1]): col for col in df_investment_costs_raw.columns if 'Value' in col}\n",
    "closest_year = min(year_columns.keys(), key=lambda x: abs(x - year))\n",
    "selected_column = year_columns[closest_year]\n",
    "\n",
    "# Add values if investment is selected\n",
    "if candidate_nonzero:\n",
    "    rows_to_add = []\n",
    "    \n",
    "    for index, row in df_model_units_raw.iterrows():\n",
    "        object_type = row['Object_type']\n",
    "        \n",
    "        cap_input = row['Cap_Input1_existing'] if not pd.isna(row['Cap_Input1_existing']) else 0\n",
    "        cap_output = row['Cap_Output1_existing'] if not pd.isna(row['Cap_Output1_existing']) else 0\n",
    "        \n",
    "        # Default investment cost\n",
    "        matching_row = df_investment_costs_raw[df_investment_costs_raw['Object_type'] == object_type]\n",
    "        if not matching_row.empty:\n",
    "            # Extract the investment cost and lifetime from matching_row\n",
    "            investment_cost = matching_row[selected_column].values[0]\n",
    "            lifetime_str = matching_row['Lifetime'].values[0]\n",
    "            \n",
    "            # Convert the lifetime to days\n",
    "            lifetime = convert_to_days(lifetime_str, year)\n",
    "        else:\n",
    "            investment_cost = 0  # Default investment cost if no match is found\n",
    "            lifetime = '10950D'  # Default lifetime if no match is found\n",
    "        default_value = investment_cost * (cap_input + cap_output)\n",
    "        \n",
    "        # Externally chosen investment cost\n",
    "        pattern = re.compile(rf\"inv_cost_.*{object_type}\")\n",
    "        matching_vars = [var for var in globals() if pattern.match(var)]\n",
    "        \n",
    "        if matching_vars:\n",
    "            variable_name = matching_vars[0]\n",
    "            variable_value = globals()[variable_name]\n",
    "            \n",
    "            if variable_value is not None:\n",
    "                special_value = variable_value * (cap_input + cap_output)\n",
    "                unit_investment_cost = special_value\n",
    "            else:\n",
    "                unit_investment_cost = default_value\n",
    "        else:\n",
    "            # If no external costs, use the default cost\n",
    "            unit_investment_cost = default_value\n",
    "        \n",
    "        # Add the results for this row to df_units_inv_parameters\n",
    "        row_to_add = {'Object_name': row['Unit'],\n",
    "            'unit_investment_variable_type': 'unit_investment_variable_type_continuous',\n",
    "            'initial_units_invested_available': 0,\n",
    "            'number_of_units': row['number_of_units'],\n",
    "            'candidate_units': 1,\n",
    "            'unit_investment_cost': unit_investment_cost,\n",
    "            'unit_investment_tech_lifetime': lifetime,\n",
    "            'unit_investment_econ_lifetime': lifetime  # Same as tech lifetime\n",
    "        }\n",
    "        \n",
    "        rows_to_add.append(row_to_add)\n",
    "        \n",
    "    df_units_inv_parameters = pd.concat([df_units_inv_parameters, pd.DataFrame(rows_to_add)], ignore_index=True)\n",
    "    \n",
    "    # Scale investment costs to lifetime\n",
    "    df_units_inv_parameters = scale_costs(df_units_inv_parameters, start_date, end_date, 'unit')\n",
    "    \n",
    "# Show table head for control\n",
    "df_units_inv_parameters.head()"
   ]
  },
  {
   "cell_type": "code",
   "execution_count": 21,
   "id": "df60b77d",
   "metadata": {
    "execution": {
     "iopub.execute_input": "2024-10-04T14:11:12.847722Z",
     "iopub.status.busy": "2024-10-04T14:11:12.846723Z",
     "iopub.status.idle": "2024-10-04T14:11:12.880861Z",
     "shell.execute_reply": "2024-10-04T14:11:12.879064Z"
    },
    "papermill": {
     "duration": 0.051233,
     "end_time": "2024-10-04T14:11:12.882908",
     "exception": false,
     "start_time": "2024-10-04T14:11:12.831675",
     "status": "completed"
    },
    "tags": []
   },
   "outputs": [
    {
     "data": {
      "text/html": [
       "<div>\n",
       "<style scoped>\n",
       "    .dataframe tbody tr th:only-of-type {\n",
       "        vertical-align: middle;\n",
       "    }\n",
       "\n",
       "    .dataframe tbody tr th {\n",
       "        vertical-align: top;\n",
       "    }\n",
       "\n",
       "    .dataframe thead th {\n",
       "        text-align: right;\n",
       "    }\n",
       "</style>\n",
       "<table border=\"1\" class=\"dataframe\">\n",
       "  <thead>\n",
       "    <tr style=\"text-align: right;\">\n",
       "      <th></th>\n",
       "      <th>Object_name</th>\n",
       "      <th>Parameter_name</th>\n",
       "      <th>Connection_type</th>\n",
       "      <th>connection_investment_variable_type</th>\n",
       "      <th>initial_connections_invested_available</th>\n",
       "      <th>number_of_connections</th>\n",
       "      <th>candidate_connections</th>\n",
       "      <th>connection_investment_cost</th>\n",
       "      <th>connection_investment_tech_lifetime</th>\n",
       "      <th>connection_investment_econ_lifetime</th>\n",
       "    </tr>\n",
       "  </thead>\n",
       "  <tbody>\n",
       "    <tr>\n",
       "      <th>0</th>\n",
       "      <td>power_line_Wholesale_Kasso</td>\n",
       "      <td>connection_type</td>\n",
       "      <td>connection_type_lossless_bidirectional</td>\n",
       "      <td>connection_investment_variable_type_continuous</td>\n",
       "      <td>0</td>\n",
       "      <td>1</td>\n",
       "      <td>1</td>\n",
       "      <td>0.0</td>\n",
       "      <td>14600D</td>\n",
       "      <td>14600D</td>\n",
       "    </tr>\n",
       "    <tr>\n",
       "      <th>1</th>\n",
       "      <td>pipeline_storage_hydrogen</td>\n",
       "      <td>connection_type</td>\n",
       "      <td>connection_type_normal</td>\n",
       "      <td>connection_investment_variable_type_continuous</td>\n",
       "      <td>0</td>\n",
       "      <td>1</td>\n",
       "      <td>1</td>\n",
       "      <td>0.0</td>\n",
       "      <td>18250D</td>\n",
       "      <td>18250D</td>\n",
       "    </tr>\n",
       "    <tr>\n",
       "      <th>2</th>\n",
       "      <td>pipeline_storage_e-methanol</td>\n",
       "      <td>connection_type</td>\n",
       "      <td>connection_type_normal</td>\n",
       "      <td>connection_investment_variable_type_continuous</td>\n",
       "      <td>0</td>\n",
       "      <td>1</td>\n",
       "      <td>1</td>\n",
       "      <td>0.0</td>\n",
       "      <td>18250D</td>\n",
       "      <td>18250D</td>\n",
       "    </tr>\n",
       "    <tr>\n",
       "      <th>3</th>\n",
       "      <td>pipeline_District_Heating</td>\n",
       "      <td>connection_type</td>\n",
       "      <td>connection_type_normal</td>\n",
       "      <td>connection_investment_variable_type_continuous</td>\n",
       "      <td>0</td>\n",
       "      <td>1</td>\n",
       "      <td>1</td>\n",
       "      <td>0.0</td>\n",
       "      <td>14600D</td>\n",
       "      <td>14600D</td>\n",
       "    </tr>\n",
       "  </tbody>\n",
       "</table>\n",
       "</div>"
      ],
      "text/plain": [
       "                   Object_name   Parameter_name  \\\n",
       "0   power_line_Wholesale_Kasso  connection_type   \n",
       "1    pipeline_storage_hydrogen  connection_type   \n",
       "2  pipeline_storage_e-methanol  connection_type   \n",
       "3    pipeline_District_Heating  connection_type   \n",
       "\n",
       "                          Connection_type  \\\n",
       "0  connection_type_lossless_bidirectional   \n",
       "1                  connection_type_normal   \n",
       "2                  connection_type_normal   \n",
       "3                  connection_type_normal   \n",
       "\n",
       "              connection_investment_variable_type  \\\n",
       "0  connection_investment_variable_type_continuous   \n",
       "1  connection_investment_variable_type_continuous   \n",
       "2  connection_investment_variable_type_continuous   \n",
       "3  connection_investment_variable_type_continuous   \n",
       "\n",
       "  initial_connections_invested_available number_of_connections  \\\n",
       "0                                      0                     1   \n",
       "1                                      0                     1   \n",
       "2                                      0                     1   \n",
       "3                                      0                     1   \n",
       "\n",
       "  candidate_connections connection_investment_cost  \\\n",
       "0                     1                        0.0   \n",
       "1                     1                        0.0   \n",
       "2                     1                        0.0   \n",
       "3                     1                        0.0   \n",
       "\n",
       "  connection_investment_tech_lifetime connection_investment_econ_lifetime  \n",
       "0                              14600D                              14600D  \n",
       "1                              18250D                              18250D  \n",
       "2                              18250D                              18250D  \n",
       "3                              14600D                              14600D  "
      ]
     },
     "execution_count": 21,
     "metadata": {},
     "output_type": "execute_result"
    }
   ],
   "source": [
    "# Initialize df\n",
    "df_connections_inv_parameters = pd.DataFrame(columns=['Object_name', 'Parameter_name',\n",
    "                                                      'Connection_type', 'connection_investment_variable_type',\n",
    "                                                      'initial_connections_invested_available', 'number_of_connections',\n",
    "                                                      'candidate_connections', 'connection_investment_cost',\n",
    "                                                      'connection_investment_tech_lifetime', 'connection_investment_econ_lifetime'])\n",
    "\n",
    "# Add values if investment is selected\n",
    "if candidate_nonzero:\n",
    "    rows_to_add = []\n",
    "    \n",
    "    for index, row in df_model_connections_raw.iterrows():\n",
    "        object_type = row['Object_type']\n",
    "        \n",
    "        matching_row = df_investment_costs_raw[df_investment_costs_raw['Object_type'] == object_type]\n",
    "        if not matching_row.empty:\n",
    "            # Extract the investment cost and lifetime from matching_row\n",
    "            investment_cost_default = matching_row[selected_column].values[0]\n",
    "        else:\n",
    "            investment_cost_default = 0  # Default investment cost if no match is found\n",
    "        \n",
    "        # Scale default costs up with meters\n",
    "        \n",
    "        connection_type = row['Connection_type']\n",
    "        lifetime = row['connection_investment_tech_lifetime']\n",
    "        lifetime_str = row['connection_investment_tech_lifetime']\n",
    "        # Convert the lifetime to days\n",
    "        lifetime = convert_to_days(lifetime_str, year)\n",
    "        \n",
    "        # Add the results for this row to df_units_inv_parameters\n",
    "        row_to_add = {'Object_name': row['Connection'],\n",
    "                      'Parameter_name': 'connection_type',\n",
    "                      'Connection_type': connection_type,\n",
    "                      'connection_investment_variable_type': 'connection_investment_variable_type_continuous',\n",
    "                      'initial_connections_invested_available': 0,\n",
    "                      'number_of_connections': row['number_of_connections'],\n",
    "                      'candidate_connections': 1,\n",
    "                      'connection_investment_cost': investment_cost_default,\n",
    "                      'connection_investment_tech_lifetime': lifetime,\n",
    "                      'connection_investment_econ_lifetime': lifetime  # Same as tech lifetime\n",
    "        }\n",
    "        \n",
    "        rows_to_add.append(row_to_add)\n",
    "        \n",
    "    df_connections_inv_parameters = pd.concat([df_connections_inv_parameters, pd.DataFrame(rows_to_add)], ignore_index=True)\n",
    "    \n",
    "    # Scale investment costs to lifetime\n",
    "    df_connections_inv_parameters = scale_costs(df_connections_inv_parameters, start_date, end_date, 'connection')\n",
    "    \n",
    "# Show table head for control\n",
    "df_connections_inv_parameters.head()"
   ]
  },
  {
   "cell_type": "code",
   "execution_count": 22,
   "id": "5a188ced",
   "metadata": {
    "execution": {
     "iopub.execute_input": "2024-10-04T14:11:12.909909Z",
     "iopub.status.busy": "2024-10-04T14:11:12.909909Z",
     "iopub.status.idle": "2024-10-04T14:11:12.942959Z",
     "shell.execute_reply": "2024-10-04T14:11:12.941948Z"
    },
    "papermill": {
     "duration": 0.05106,
     "end_time": "2024-10-04T14:11:12.945958",
     "exception": false,
     "start_time": "2024-10-04T14:11:12.894898",
     "status": "completed"
    },
    "tags": []
   },
   "outputs": [
    {
     "name": "stderr",
     "output_type": "stream",
     "text": [
      "C:\\Users\\jfg.eco\\AppData\\Local\\Temp\\ipykernel_13148\\4148021052.py:61: FutureWarning: The behavior of DataFrame concatenation with empty or all-NA entries is deprecated. In a future version, this will no longer exclude empty or all-NA columns when determining the result dtypes. To retain the old behavior, exclude the relevant entries before the concat operation.\n",
      "  df_storages_inv_parameters = pd.concat([df_storages_inv_parameters, pd.DataFrame(rows_to_add)], ignore_index=True)\n"
     ]
    }
   ],
   "source": [
    "# Initialize df\n",
    "df_storages_inv_parameters = pd.DataFrame(columns=['Object_name', 'storage_investment_variable_type',\n",
    "                                                       'initial_storages_invested', 'number_of_storages',\n",
    "                                                       'candidate_storages', 'storage_investment_cost',\n",
    "                                                       'storage_investment_tech_lifetime', 'storage_investment_econ_lifetime'])\n",
    "\n",
    "# Add values if investment is selected\n",
    "if candidate_nonzero:\n",
    "    rows_to_add = []\n",
    "    \n",
    "    for index, row in df_model_storages_raw.iterrows():\n",
    "        object_type = row['Object_type']\n",
    "        \n",
    "        node_value = row['node_state_cap'] if not pd.isna(row['node_state_cap']) else 0\n",
    "        \n",
    "        # Default investment cost\n",
    "        matching_row = df_investment_costs_raw[df_investment_costs_raw['Object_type'] == object_type]\n",
    "        if not matching_row.empty:\n",
    "            # Extract the investment cost and lifetime from matching_row\n",
    "            investment_cost = matching_row[selected_column].values[0]\n",
    "            lifetime_str = matching_row['Lifetime'].values[0]\n",
    "            # Convert the lifetime to days\n",
    "            lifetime = convert_to_days(lifetime_str, year)\n",
    "            \n",
    "        else:\n",
    "            investment_cost = 0  # Default investment cost if no match is found\n",
    "            lifetime = '10950D'  # Default lifetime if no match is found\n",
    "        \n",
    "        default_value = investment_cost * node_value\n",
    "        \n",
    "        # Externally chosen investment cost\n",
    "        pattern = re.compile(rf\"inv_cost_.*{object_type}\")\n",
    "        matching_vars = [var for var in globals() if pattern.match(var)]\n",
    "        \n",
    "        if matching_vars:\n",
    "            variable_name = matching_vars[0]\n",
    "            variable_value = globals()[variable_name]\n",
    "            \n",
    "            if variable_value is not None:\n",
    "                special_value = variable_value * node_value\n",
    "                storage_investment_cost = special_value\n",
    "            else:\n",
    "                storage_investment_cost = default_value\n",
    "        else:\n",
    "            # If no matching variable, use the default calculation\n",
    "            storage_investment_cost = default_value\n",
    "        \n",
    "        # Add the results for this row to df_units_inv_parameters\n",
    "        row_to_add = {'Object_name': row['Storage'],\n",
    "            'storage_investment_variable_type': 'storage_investment_variable_type_continuous',\n",
    "            'initial_storages_invested': 0,\n",
    "            'number_of_storages': row['number_of_storages'],\n",
    "            'candidate_storages': 1,\n",
    "            'storage_investment_cost': storage_investment_cost,\n",
    "            'storage_investment_tech_lifetime': lifetime,\n",
    "            'storage_investment_econ_lifetime': lifetime  # Same as tech lifetime\n",
    "        }\n",
    "        \n",
    "        rows_to_add.append(row_to_add)\n",
    "        \n",
    "    df_storages_inv_parameters = pd.concat([df_storages_inv_parameters, pd.DataFrame(rows_to_add)], ignore_index=True)\n",
    "    \n",
    "    # Scale investment costs to lifetime\n",
    "    df_storages_inv_parameters = scale_costs(df_storages_inv_parameters, start_date, end_date, 'storage')\n",
    "    \n",
    "# Add to df_nodes table\n",
    "df_nodes = pd.merge(df_nodes, df_storages_inv_parameters, on = 'Object_name', how = 'left')"
   ]
  },
  {
   "cell_type": "markdown",
   "id": "c33f3dc6-ea13-486b-9860-6bd41f57b3a7",
   "metadata": {
    "papermill": {
     "duration": 0.012963,
     "end_time": "2024-10-04T14:11:12.973465",
     "exception": false,
     "start_time": "2024-10-04T14:11:12.960502",
     "status": "completed"
    },
    "tags": []
   },
   "source": [
    "#### Times series:"
   ]
  },
  {
   "cell_type": "code",
   "execution_count": 23,
   "id": "e60a7947-9d7f-480f-847a-f22419719660",
   "metadata": {
    "execution": {
     "iopub.execute_input": "2024-10-04T14:11:13.005466Z",
     "iopub.status.busy": "2024-10-04T14:11:13.005466Z",
     "iopub.status.idle": "2024-10-04T14:11:13.020697Z",
     "shell.execute_reply": "2024-10-04T14:11:13.019893Z"
    },
    "papermill": {
     "duration": 0.037188,
     "end_time": "2024-10-04T14:11:13.023689",
     "exception": false,
     "start_time": "2024-10-04T14:11:12.986501",
     "status": "completed"
    },
    "tags": []
   },
   "outputs": [],
   "source": [
    "# Adjust renewables columns names\n",
    "df_PV_availabilityfactors_values.rename(columns={'time': 'time [UTC]', \n",
    "                                                 'local_time': 'time [' + area + ']',\n",
    "                                                 'electricity': 'unit_availability_factor'}, inplace=True)\n",
    "df_wind_availabilityfactors_values.rename(columns={'time': 'time [UTC]',\n",
    "                                                   'local_time': 'time [' + area + ']',\n",
    "                                                   'electricity_onshore': 'unit_availability_factor_onshore',\n",
    "                                                   'electricity_offshore': 'unit_availability_factor_offshore'}, inplace=True)\n",
    "# Adjust power prices\n",
    "df_powerprices_values.rename(columns={'HourUTC': 'time [UTC]', \n",
    "                                         'HourDK': 'time [' + area + ']'}, inplace=True)"
   ]
  },
  {
   "cell_type": "markdown",
   "id": "287b3c37-228f-47f0-a99e-2df1f87512d5",
   "metadata": {
    "papermill": {
     "duration": 0.01501,
     "end_time": "2024-10-04T14:11:13.053702",
     "exception": false,
     "start_time": "2024-10-04T14:11:13.038692",
     "status": "completed"
    },
    "tags": []
   },
   "source": [
    "## Fitting data into format"
   ]
  },
  {
   "cell_type": "markdown",
   "id": "1b527344-851f-47c0-a12e-72942d4176eb",
   "metadata": {
    "papermill": {
     "duration": 0.016003,
     "end_time": "2024-10-04T14:11:13.084219",
     "exception": false,
     "start_time": "2024-10-04T14:11:13.068216",
     "status": "completed"
    },
    "tags": []
   },
   "source": [
    "### Relationships:"
   ]
  },
  {
   "cell_type": "markdown",
   "id": "19ea16b2-0e98-4ca2-b6ec-aa840ac09d20",
   "metadata": {
    "papermill": {
     "duration": 0.017,
     "end_time": "2024-10-04T14:11:13.120216",
     "exception": false,
     "start_time": "2024-10-04T14:11:13.103216",
     "status": "completed"
    },
    "tags": []
   },
   "source": [
    "#### Object__from/to_node:"
   ]
  },
  {
   "cell_type": "code",
   "execution_count": 24,
   "id": "2a4c5f93-8fa4-4d88-83f9-767f83ff7ed9",
   "metadata": {
    "execution": {
     "iopub.execute_input": "2024-10-04T14:11:13.152227Z",
     "iopub.status.busy": "2024-10-04T14:11:13.152227Z",
     "iopub.status.idle": "2024-10-04T14:11:13.159333Z",
     "shell.execute_reply": "2024-10-04T14:11:13.158337Z"
    },
    "papermill": {
     "duration": 0.026118,
     "end_time": "2024-10-04T14:11:13.161339",
     "exception": false,
     "start_time": "2024-10-04T14:11:13.135221",
     "status": "completed"
    },
    "tags": []
   },
   "outputs": [],
   "source": [
    "### UNITS ###\n",
    "df_unit_relation_parameter_data = pd.DataFrame(object_relationship_unit_nodes(df_model_units))"
   ]
  },
  {
   "cell_type": "code",
   "execution_count": 25,
   "id": "74ae88a6",
   "metadata": {
    "execution": {
     "iopub.execute_input": "2024-10-04T14:11:13.208339Z",
     "iopub.status.busy": "2024-10-04T14:11:13.207336Z",
     "iopub.status.idle": "2024-10-04T14:11:13.237337Z",
     "shell.execute_reply": "2024-10-04T14:11:13.236332Z"
    },
    "papermill": {
     "duration": 0.056003,
     "end_time": "2024-10-04T14:11:13.241337",
     "exception": false,
     "start_time": "2024-10-04T14:11:13.185334",
     "status": "completed"
    },
    "tags": []
   },
   "outputs": [],
   "source": [
    "# Add additional electricity connections if not already existent\n",
    "\n",
    "units = df_units.iloc[:, 0].tolist()\n",
    "length = len(units)\n",
    "data = {\n",
    "    \"Relationship_class_name\": [\"unit__from_node\"] * length,\n",
    "    \"Object_class\": [\"unit\"] * length,\n",
    "    \"Object_name\": units,\n",
    "    \"Node\": [\"Power_Kasso\"] * length\n",
    "}\n",
    "df_electricity = pd.DataFrame(data)\n",
    "\n",
    "units_with_from_node = df_unit_relation_parameter_data[df_unit_relation_parameter_data['Relationship_class_name'].str.contains('unit__from_node')]\n",
    "valid_object_names = units_with_from_node['Object_name']\n",
    "df_electricity_filtered = df_electricity[df_electricity['Object_name'].isin(valid_object_names)]\n",
    "\n",
    "merged_df = pd.merge(df_electricity_filtered, units_with_from_node, on=['Relationship_class_name', 'Object_class', 'Object_name', 'Node'], how='left', indicator=True)\n",
    "df_electricity_nodes = merged_df[merged_df['_merge'] == 'left_only'].drop(columns='_merge')\n",
    "\n",
    "df_unit_relation_parameter_data = pd.concat([df_unit_relation_parameter_data, df_electricity_nodes], ignore_index=True)"
   ]
  },
  {
   "cell_type": "code",
   "execution_count": 26,
   "id": "e92030e0-f252-49f5-b58c-defa9a0da163",
   "metadata": {
    "execution": {
     "iopub.execute_input": "2024-10-04T14:11:13.282862Z",
     "iopub.status.busy": "2024-10-04T14:11:13.282862Z",
     "iopub.status.idle": "2024-10-04T14:11:13.300863Z",
     "shell.execute_reply": "2024-10-04T14:11:13.299868Z"
    },
    "papermill": {
     "duration": 0.039996,
     "end_time": "2024-10-04T14:11:13.303863",
     "exception": false,
     "start_time": "2024-10-04T14:11:13.263867",
     "status": "completed"
    },
    "tags": []
   },
   "outputs": [],
   "source": [
    "### CONNECTIONS ###\n",
    "df_connection_relation_parameter_data = object_relationship_connection_nodes(df_model_connections)"
   ]
  },
  {
   "cell_type": "code",
   "execution_count": 27,
   "id": "65d8c41c-8fb4-4a60-883b-94b70f5ace80",
   "metadata": {
    "execution": {
     "iopub.execute_input": "2024-10-04T14:11:13.338863Z",
     "iopub.status.busy": "2024-10-04T14:11:13.338863Z",
     "iopub.status.idle": "2024-10-04T14:11:13.362389Z",
     "shell.execute_reply": "2024-10-04T14:11:13.361391Z"
    },
    "papermill": {
     "duration": 0.043527,
     "end_time": "2024-10-04T14:11:13.365391",
     "exception": false,
     "start_time": "2024-10-04T14:11:13.321864",
     "status": "completed"
    },
    "tags": []
   },
   "outputs": [
    {
     "data": {
      "text/html": [
       "<div>\n",
       "<style scoped>\n",
       "    .dataframe tbody tr th:only-of-type {\n",
       "        vertical-align: middle;\n",
       "    }\n",
       "\n",
       "    .dataframe tbody tr th {\n",
       "        vertical-align: top;\n",
       "    }\n",
       "\n",
       "    .dataframe thead th {\n",
       "        text-align: right;\n",
       "    }\n",
       "</style>\n",
       "<table border=\"1\" class=\"dataframe\">\n",
       "  <thead>\n",
       "    <tr style=\"text-align: right;\">\n",
       "      <th></th>\n",
       "      <th>Relationship_class_name</th>\n",
       "      <th>Object_class</th>\n",
       "      <th>Object_name</th>\n",
       "      <th>Node</th>\n",
       "      <th>Parameter</th>\n",
       "      <th>Value</th>\n",
       "    </tr>\n",
       "  </thead>\n",
       "  <tbody>\n",
       "    <tr>\n",
       "      <th>0</th>\n",
       "      <td>unit__to_node</td>\n",
       "      <td>unit</td>\n",
       "      <td>Solar_Plant</td>\n",
       "      <td>Power_Kasso</td>\n",
       "      <td>unit_capacity</td>\n",
       "      <td>304.0</td>\n",
       "    </tr>\n",
       "    <tr>\n",
       "      <th>1</th>\n",
       "      <td>unit__from_node</td>\n",
       "      <td>unit</td>\n",
       "      <td>Electrolyzer</td>\n",
       "      <td>Power_Kasso</td>\n",
       "      <td>unit_capacity</td>\n",
       "      <td>0.0</td>\n",
       "    </tr>\n",
       "    <tr>\n",
       "      <th>2</th>\n",
       "      <td>unit__from_node</td>\n",
       "      <td>unit</td>\n",
       "      <td>Electrolyzer</td>\n",
       "      <td>Power_Kasso</td>\n",
       "      <td>minimum_operating_point</td>\n",
       "      <td>0.02</td>\n",
       "    </tr>\n",
       "    <tr>\n",
       "      <th>3</th>\n",
       "      <td>unit__to_node</td>\n",
       "      <td>unit</td>\n",
       "      <td>Electrolyzer</td>\n",
       "      <td>Hydrogen_Kasso</td>\n",
       "      <td></td>\n",
       "      <td></td>\n",
       "    </tr>\n",
       "    <tr>\n",
       "      <th>4</th>\n",
       "      <td>unit__from_node</td>\n",
       "      <td>unit</td>\n",
       "      <td>Electrolyzer</td>\n",
       "      <td>Water</td>\n",
       "      <td></td>\n",
       "      <td></td>\n",
       "    </tr>\n",
       "  </tbody>\n",
       "</table>\n",
       "</div>"
      ],
      "text/plain": [
       "  Relationship_class_name Object_class   Object_name            Node  \\\n",
       "0           unit__to_node         unit   Solar_Plant     Power_Kasso   \n",
       "1         unit__from_node         unit  Electrolyzer     Power_Kasso   \n",
       "2         unit__from_node         unit  Electrolyzer     Power_Kasso   \n",
       "3           unit__to_node         unit  Electrolyzer  Hydrogen_Kasso   \n",
       "4         unit__from_node         unit  Electrolyzer           Water   \n",
       "\n",
       "                 Parameter  Value  \n",
       "0            unit_capacity  304.0  \n",
       "1            unit_capacity    0.0  \n",
       "2  minimum_operating_point   0.02  \n",
       "3                                  \n",
       "4                                  "
      ]
     },
     "execution_count": 27,
     "metadata": {},
     "output_type": "execute_result"
    }
   ],
   "source": [
    "# Create combined DataFrame:\n",
    "df_object__node = pd.concat([df_unit_relation_parameter_data, df_connection_relation_parameter_data])\n",
    "df_object__node = df_object__node.reset_index(drop=True)\n",
    "\n",
    "# Show df head for control\n",
    "df_object__node.head()"
   ]
  },
  {
   "cell_type": "code",
   "execution_count": 28,
   "id": "36e1391f-d8cd-45dd-9867-7aefa0327740",
   "metadata": {
    "execution": {
     "iopub.execute_input": "2024-10-04T14:11:13.404391Z",
     "iopub.status.busy": "2024-10-04T14:11:13.403394Z",
     "iopub.status.idle": "2024-10-04T14:11:13.425393Z",
     "shell.execute_reply": "2024-10-04T14:11:13.424391Z"
    },
    "papermill": {
     "duration": 0.048001,
     "end_time": "2024-10-04T14:11:13.429392",
     "exception": false,
     "start_time": "2024-10-04T14:11:13.381391",
     "status": "completed"
    },
    "tags": []
   },
   "outputs": [
    {
     "data": {
      "text/html": [
       "<div>\n",
       "<style scoped>\n",
       "    .dataframe tbody tr th:only-of-type {\n",
       "        vertical-align: middle;\n",
       "    }\n",
       "\n",
       "    .dataframe tbody tr th {\n",
       "        vertical-align: top;\n",
       "    }\n",
       "\n",
       "    .dataframe thead th {\n",
       "        text-align: right;\n",
       "    }\n",
       "</style>\n",
       "<table border=\"1\" class=\"dataframe\">\n",
       "  <thead>\n",
       "    <tr style=\"text-align: right;\">\n",
       "      <th></th>\n",
       "      <th>Relationship_class_name</th>\n",
       "      <th>Object_class</th>\n",
       "      <th>Object_name</th>\n",
       "      <th>Node</th>\n",
       "    </tr>\n",
       "  </thead>\n",
       "  <tbody>\n",
       "    <tr>\n",
       "      <th>0</th>\n",
       "      <td>unit__to_node</td>\n",
       "      <td>unit</td>\n",
       "      <td>Solar_Plant</td>\n",
       "      <td>Power_Kasso</td>\n",
       "    </tr>\n",
       "    <tr>\n",
       "      <th>1</th>\n",
       "      <td>unit__from_node</td>\n",
       "      <td>unit</td>\n",
       "      <td>Electrolyzer</td>\n",
       "      <td>Power_Kasso</td>\n",
       "    </tr>\n",
       "    <tr>\n",
       "      <th>2</th>\n",
       "      <td>unit__to_node</td>\n",
       "      <td>unit</td>\n",
       "      <td>Electrolyzer</td>\n",
       "      <td>Hydrogen_Kasso</td>\n",
       "    </tr>\n",
       "    <tr>\n",
       "      <th>3</th>\n",
       "      <td>unit__from_node</td>\n",
       "      <td>unit</td>\n",
       "      <td>Electrolyzer</td>\n",
       "      <td>Water</td>\n",
       "    </tr>\n",
       "    <tr>\n",
       "      <th>4</th>\n",
       "      <td>unit__to_node</td>\n",
       "      <td>unit</td>\n",
       "      <td>Electrolyzer</td>\n",
       "      <td>Waste_Heat</td>\n",
       "    </tr>\n",
       "  </tbody>\n",
       "</table>\n",
       "</div>"
      ],
      "text/plain": [
       "  Relationship_class_name Object_class   Object_name            Node\n",
       "0           unit__to_node         unit   Solar_Plant     Power_Kasso\n",
       "1         unit__from_node         unit  Electrolyzer     Power_Kasso\n",
       "2           unit__to_node         unit  Electrolyzer  Hydrogen_Kasso\n",
       "3         unit__from_node         unit  Electrolyzer           Water\n",
       "4           unit__to_node         unit  Electrolyzer      Waste_Heat"
      ]
     },
     "execution_count": 28,
     "metadata": {},
     "output_type": "execute_result"
    }
   ],
   "source": [
    "# Create a DataFrame for the definition of the object_node relationships\n",
    "df_object__node_definitions = pd.DataFrame(df_object__node[['Relationship_class_name', 'Object_class', 'Object_name', 'Node']])\n",
    "df_object__node_definitions = df_object__node_definitions.drop_duplicates()\n",
    "df_object__node_definitions = df_object__node_definitions.reset_index(drop=True)\n",
    "\n",
    "# To avoid import errors the connections  will be removed from the definitions df\n",
    "# Dropping rows where 'Object_class' is 'connection'\n",
    "df_object__node_definitions  = df_object__node_definitions [df_object__node_definitions ['Object_class'] != 'connection']\n",
    "\n",
    "# Drop rows where no parameters for the relationship are defined (column has missing values (NaN or None))\n",
    "drop_no_value_column = 'Parameter'\n",
    "df_object__node_values = df_object__node[df_object__node[drop_no_value_column] != '']\n",
    "\n",
    "# Show df head for control\n",
    "df_object__node_definitions.head()"
   ]
  },
  {
   "cell_type": "markdown",
   "id": "9ebeb807-b807-4882-b8cd-67a174c8edbd",
   "metadata": {
    "papermill": {
     "duration": 0.016172,
     "end_time": "2024-10-04T14:11:13.464571",
     "exception": false,
     "start_time": "2024-10-04T14:11:13.448399",
     "status": "completed"
    },
    "tags": []
   },
   "source": [
    "#### Object__node_node:"
   ]
  },
  {
   "cell_type": "code",
   "execution_count": 29,
   "id": "1fd5a160-3f18-4656-82ee-484e7e703cc8",
   "metadata": {
    "execution": {
     "iopub.execute_input": "2024-10-04T14:11:13.512580Z",
     "iopub.status.busy": "2024-10-04T14:11:13.512580Z",
     "iopub.status.idle": "2024-10-04T14:11:13.581018Z",
     "shell.execute_reply": "2024-10-04T14:11:13.578976Z"
    },
    "papermill": {
     "duration": 0.09745,
     "end_time": "2024-10-04T14:11:13.585025",
     "exception": false,
     "start_time": "2024-10-04T14:11:13.487575",
     "status": "completed"
    },
    "tags": []
   },
   "outputs": [
    {
     "data": {
      "text/html": [
       "<div>\n",
       "<style scoped>\n",
       "    .dataframe tbody tr th:only-of-type {\n",
       "        vertical-align: middle;\n",
       "    }\n",
       "\n",
       "    .dataframe tbody tr th {\n",
       "        vertical-align: top;\n",
       "    }\n",
       "\n",
       "    .dataframe thead th {\n",
       "        text-align: right;\n",
       "    }\n",
       "</style>\n",
       "<table border=\"1\" class=\"dataframe\">\n",
       "  <thead>\n",
       "    <tr style=\"text-align: right;\">\n",
       "      <th></th>\n",
       "      <th>Relationship</th>\n",
       "      <th>Object_class</th>\n",
       "      <th>Object_name</th>\n",
       "      <th>Node1</th>\n",
       "      <th>Node2</th>\n",
       "      <th>Parameter</th>\n",
       "      <th>Value</th>\n",
       "    </tr>\n",
       "  </thead>\n",
       "  <tbody>\n",
       "    <tr>\n",
       "      <th>0</th>\n",
       "      <td>unit__node__node</td>\n",
       "      <td>unit</td>\n",
       "      <td>Electrolyzer</td>\n",
       "      <td>Power_Kasso</td>\n",
       "      <td>Water</td>\n",
       "      <td>fix_ratio_in_in_unit_flow</td>\n",
       "      <td>0.005850</td>\n",
       "    </tr>\n",
       "    <tr>\n",
       "      <th>1</th>\n",
       "      <td>unit__node__node</td>\n",
       "      <td>unit</td>\n",
       "      <td>CO2_Vaporizer</td>\n",
       "      <td>Power_Kasso</td>\n",
       "      <td>Carbon_Dioxide</td>\n",
       "      <td>fix_ratio_in_in_unit_flow</td>\n",
       "      <td>0.003601</td>\n",
       "    </tr>\n",
       "    <tr>\n",
       "      <th>2</th>\n",
       "      <td>unit__node__node</td>\n",
       "      <td>unit</td>\n",
       "      <td>Destilation_Tower</td>\n",
       "      <td>Raw_Methanol</td>\n",
       "      <td>Steam</td>\n",
       "      <td>fix_ratio_in_in_unit_flow</td>\n",
       "      <td>17.277902</td>\n",
       "    </tr>\n",
       "    <tr>\n",
       "      <th>3</th>\n",
       "      <td>unit__node__node</td>\n",
       "      <td>unit</td>\n",
       "      <td>Methanol_Reactor</td>\n",
       "      <td>Hydrogen_Kasso</td>\n",
       "      <td>Vaporized_Carbon_Dioxide</td>\n",
       "      <td>fix_ratio_in_in_unit_flow</td>\n",
       "      <td>5.173497</td>\n",
       "    </tr>\n",
       "    <tr>\n",
       "      <th>4</th>\n",
       "      <td>unit__node__node</td>\n",
       "      <td>unit</td>\n",
       "      <td>Steam_Plant</td>\n",
       "      <td>Power_Kasso</td>\n",
       "      <td>Water</td>\n",
       "      <td>fix_ratio_in_in_unit_flow</td>\n",
       "      <td>0.000724</td>\n",
       "    </tr>\n",
       "  </tbody>\n",
       "</table>\n",
       "</div>"
      ],
      "text/plain": [
       "       Relationship Object_class        Object_name           Node1  \\\n",
       "0  unit__node__node         unit       Electrolyzer     Power_Kasso   \n",
       "1  unit__node__node         unit      CO2_Vaporizer     Power_Kasso   \n",
       "2  unit__node__node         unit  Destilation_Tower    Raw_Methanol   \n",
       "3  unit__node__node         unit   Methanol_Reactor  Hydrogen_Kasso   \n",
       "4  unit__node__node         unit        Steam_Plant     Power_Kasso   \n",
       "\n",
       "                      Node2                  Parameter      Value  \n",
       "0                     Water  fix_ratio_in_in_unit_flow   0.005850  \n",
       "1            Carbon_Dioxide  fix_ratio_in_in_unit_flow   0.003601  \n",
       "2                     Steam  fix_ratio_in_in_unit_flow  17.277902  \n",
       "3  Vaporized_Carbon_Dioxide  fix_ratio_in_in_unit_flow   5.173497  \n",
       "4                     Water  fix_ratio_in_in_unit_flow   0.000724  "
      ]
     },
     "execution_count": 29,
     "metadata": {},
     "output_type": "execute_result"
    }
   ],
   "source": [
    "# Define which columns to check\n",
    "columns_In_In_Unit = ['Unit', 'Input1', 'Input2']\n",
    "columns_In_Out_Unit = ['Unit', 'Input1', 'Output1']\n",
    "columns_Out_Out_Unit = ['Unit', 'Output1', 'Output2']\n",
    "columns_In_In_Connection = ['Connection', 'Input1', 'Input2']\n",
    "columns_In_Out_Connection = ['Connection', 'Input1', 'Output1']\n",
    "columns_Out_Out_Connection = ['Connection', 'Output1', 'Output2']\n",
    "columns_Out_In_Connection = ['Connection', 'Output1', 'Input1']\n",
    "\n",
    "### UNITS ###\n",
    "# Create list of tuples with values of cells + fix_ratio_XXX_XXX\n",
    "values_in_in_units = [('unit__node__node', 'unit', row[columns_In_In_Unit[0]], row[columns_In_In_Unit[1]], row[columns_In_In_Unit[2]], \n",
    "                       'fix_ratio_in_in_unit_flow', row['Relation_In_In']) \n",
    "                      if not pd.isnull(row[columns_In_In_Unit]).any() else (np.nan, np.nan, None) for _, row in df_model_units.iterrows() \n",
    "                      if not pd.isnull(row[columns_In_In_Unit]).any()]\n",
    "values_in_out_units = [('unit__node__node', 'unit', row[columns_In_Out_Unit[0]], row[columns_In_Out_Unit[1]], row[columns_In_Out_Unit[2]], \n",
    "                        'fix_ratio_in_out_unit_flow', row['Relation_In_Out']) \n",
    "                      if not pd.isnull(row[columns_In_Out_Unit]).any() else (np.nan, np.nan, None) for _, row in df_model_units.iterrows() \n",
    "                      if not pd.isnull(row[columns_In_Out_Unit]).any()]\n",
    "values_out_out_units = [('unit__node__node', 'unit', row[columns_Out_Out_Unit[0]], row[columns_Out_Out_Unit[1]], row[columns_Out_Out_Unit[2]], \n",
    "                         'fix_ratio_out_out_unit_flow', row['Relation_Out_Out']) \n",
    "                      if not pd.isnull(row[columns_Out_Out_Unit]).any() else (np.nan, np.nan, None) for _, row in df_model_units.iterrows() \n",
    "                      if not pd.isnull(row[columns_Out_Out_Unit]).any()]\n",
    "\n",
    "df_fix_ratio_in_in_units = pd.DataFrame(values_in_in_units, columns=['Relationship', 'Object_class', 'Object_name', 'Node1', \n",
    "                                                                     'Node2', 'Parameter', 'Value'])\n",
    "df_fix_ratio_in_out_units = pd.DataFrame(values_in_out_units, columns=['Relationship', 'Object_class', 'Object_name', 'Node1', \n",
    "                                                                       'Node2', 'Parameter', 'Value'])\n",
    "df_fix_ratio_out_out_units = pd.DataFrame(values_out_out_units, columns=['Relationship', 'Object_class', 'Object_name', 'Node1', \n",
    "                                                                         'Node2', 'Parameter', 'Value'])\n",
    "\n",
    "### CONNECTIONS ###\n",
    "values_in_in_connections = [('connection__node__node', 'connection', row[columns_In_In_Connection[0]], \n",
    "                             row[columns_In_In_Connection[1]], row[columns_In_In_Connection[2]], \n",
    "                             'fix_ratio_in_in_connection_flow', row['Relation_In_In']) \n",
    "                            if not pd.isnull(row[columns_In_In_Connection]).any() else (np.nan, np.nan, None) for _, row in df_model_connections.iterrows() \n",
    "                            if not pd.isnull(row[columns_In_In_Connection]).any()]\n",
    "# Comment: connections_in_out are no longer supported by Spine, therefore the values get inverted\n",
    "values_in_out_connections_inverted = [('connection__node__node', 'connection', row[columns_In_Out_Connection[0]], \n",
    "                              row[columns_In_Out_Connection[1]], row[columns_In_Out_Connection[2]], \n",
    "                              'fix_ratio_out_in_connection_flow', 1/row['Relation_In_Out']) \n",
    "                             if not pd.isnull(row[columns_In_Out_Connection]).any() else (np.nan, np.nan, None) for _, row in df_model_connections.iterrows() \n",
    "                             if not pd.isnull(row[columns_In_Out_Connection]).any()]\n",
    "values_out_out_connections = [('connection__node__node', 'connection', row[columns_Out_Out_Connection[0]], \n",
    "                               row[columns_Out_Out_Connection[1]], row[columns_Out_Out_Connection[2]], \n",
    "                               'fix_ratio_out_out_connection_flow', row['Relation_Out_Out']) \n",
    "                              if not pd.isnull(row[columns_Out_Out_Connection]).any() else (np.nan, np.nan, None) for _, row in df_model_connections.iterrows() \n",
    "                              if not pd.isnull(row[columns_Out_Out_Connection]).any()]\n",
    "values_out_in_connections = [('connection__node__node', 'connection', row[columns_Out_In_Connection[0]], \n",
    "                               row[columns_Out_In_Connection[1]], row[columns_Out_In_Connection[2]], \n",
    "                               'fix_ratio_out_in_connection_flow', row['Relation_Out_In']) \n",
    "                              if not pd.isnull(row[columns_Out_In_Connection]).any() else (np.nan, np.nan, None) for _, row in df_model_connections.iterrows() \n",
    "                              if not pd.isnull(row[columns_Out_In_Connection]).any()]\n",
    "\n",
    "df_fix_ratio_in_in_connections = pd.DataFrame(values_in_in_connections, columns=['Relationship', 'Object_class', 'Object_name', 'Node1', \n",
    "                                                                                 'Node2', 'Parameter', 'Value'])\n",
    "df_fix_ratio_in_out_connections = pd.DataFrame(values_in_out_connections_inverted, columns=['Relationship', 'Object_class', 'Object_name', 'Node1', \n",
    "                                                                                   'Node2', 'Parameter', 'Value'])\n",
    "df_fix_ratio_out_out_connections = pd.DataFrame(values_out_out_connections, columns=['Relationship', 'Object_class', 'Object_name', 'Node1', \n",
    "                                                                                     'Node2', 'Parameter', 'Value'])\n",
    "df_fix_ratio_out_in_connections = pd.DataFrame(values_out_in_connections, columns=['Relationship', 'Object_class', 'Object_name', 'Node1', \n",
    "                                                                                     'Node2', 'Parameter', 'Value'])\n",
    "\n",
    "# Create Object_node_node\n",
    "df_object_node_node = pd.concat([df_fix_ratio_in_in_units, df_fix_ratio_in_out_units, df_fix_ratio_out_out_units, \n",
    "                                df_fix_ratio_in_in_connections, df_fix_ratio_in_out_connections, \n",
    "                                df_fix_ratio_out_out_connections, df_fix_ratio_out_in_connections])\n",
    "df_object_node_node = df_object_node_node.reset_index(drop=True)\n",
    "\n",
    "df_object_node_node = df_object_node_node.dropna(subset=['Value'])\n",
    "\n",
    "# Show table head for control\n",
    "df_object_node_node.head()"
   ]
  },
  {
   "cell_type": "code",
   "execution_count": 30,
   "id": "1388dfc3-fb27-4571-ba84-8593ea8413df",
   "metadata": {
    "execution": {
     "iopub.execute_input": "2024-10-04T14:11:13.620206Z",
     "iopub.status.busy": "2024-10-04T14:11:13.620206Z",
     "iopub.status.idle": "2024-10-04T14:11:13.628168Z",
     "shell.execute_reply": "2024-10-04T14:11:13.627289Z"
    },
    "papermill": {
     "duration": 0.026031,
     "end_time": "2024-10-04T14:11:13.630197",
     "exception": false,
     "start_time": "2024-10-04T14:11:13.604166",
     "status": "completed"
    },
    "tags": []
   },
   "outputs": [],
   "source": [
    "# For storages, the out_in_connetion is set in both directions\n",
    "\n",
    "# Step 1: Check if the 'Object_name' column contains the word 'storage'\n",
    "storage_condition = df_object_node_node['Object_name'].str.contains('storage', case=False)\n",
    "\n",
    "# Step 2: Check if the 'Parameter' column starts with 'fix_ratio_'\n",
    "parameter_condition = df_object_node_node['Parameter'].str.startswith('fix_ratio_')\n",
    "\n",
    "# Step 3: Combine both conditions\n",
    "combined_condition = storage_condition & parameter_condition\n",
    "\n",
    "# Step 2: Update the 'Parameter' column for rows that meet the condition\n",
    "df_object_node_node.loc[storage_condition, 'Parameter'] = 'fix_ratio_out_in_connection_flow'"
   ]
  },
  {
   "cell_type": "code",
   "execution_count": 31,
   "id": "68543d3d",
   "metadata": {
    "execution": {
     "iopub.execute_input": "2024-10-04T14:11:13.661774Z",
     "iopub.status.busy": "2024-10-04T14:11:13.660770Z",
     "iopub.status.idle": "2024-10-04T14:11:13.674890Z",
     "shell.execute_reply": "2024-10-04T14:11:13.673871Z"
    },
    "papermill": {
     "duration": 0.032677,
     "end_time": "2024-10-04T14:11:13.677892",
     "exception": false,
     "start_time": "2024-10-04T14:11:13.645215",
     "status": "completed"
    },
    "tags": []
   },
   "outputs": [],
   "source": [
    "# Check if second node is necessary for demand\n",
    "for index, row in df_model_units.iterrows():\n",
    "    df_definition, df_nodes, df_connections, df_object__node_values, df_object_node_node = check_demand_node(\n",
    "        row, temporal_block, resolution_to_block, df_definition, \n",
    "        df_nodes, df_connections, df_object__node_values, \n",
    "        df_object_node_node)"
   ]
  },
  {
   "cell_type": "markdown",
   "id": "c3870c8f",
   "metadata": {
    "papermill": {
     "duration": 0.014771,
     "end_time": "2024-10-04T14:11:13.707704",
     "exception": false,
     "start_time": "2024-10-04T14:11:13.692933",
     "status": "completed"
    },
    "tags": []
   },
   "source": [
    "#### Hard-coded parameter for destillation tower (please remove once better solution is found)"
   ]
  },
  {
   "cell_type": "code",
   "execution_count": 32,
   "id": "f39b3512",
   "metadata": {
    "execution": {
     "iopub.execute_input": "2024-10-04T14:11:13.737703Z",
     "iopub.status.busy": "2024-10-04T14:11:13.737703Z",
     "iopub.status.idle": "2024-10-04T14:11:13.754407Z",
     "shell.execute_reply": "2024-10-04T14:11:13.752362Z"
    },
    "papermill": {
     "duration": 0.038292,
     "end_time": "2024-10-04T14:11:13.759994",
     "exception": false,
     "start_time": "2024-10-04T14:11:13.721702",
     "status": "completed"
    },
    "tags": []
   },
   "outputs": [],
   "source": [
    "data = {\n",
    "    \"Relationship\": [\"unit__node__node\"],\n",
    "    \"Object_class\": \"unit\",\n",
    "    \"Object_name\": \"Destilation_Tower\",\n",
    "    \"Node1\": \"Power_Kasso\",\n",
    "    \"Node2\": \"E-Methanol_Kasso\",\n",
    "    \"Parameter\": \"max_ratio_in_out_unit_flow\",\n",
    "    \"Value\": 1\n",
    "}\n",
    "df_hardcode_destillation = pd.DataFrame(data)\n",
    "\n",
    "# Append new rows to the original DataFrame\n",
    "df_object_node_node = pd.concat([df_object_node_node, df_hardcode_destillation], ignore_index=True)"
   ]
  },
  {
   "cell_type": "markdown",
   "id": "55192bdb",
   "metadata": {
    "papermill": {
     "duration": 0.015002,
     "end_time": "2024-10-04T14:11:13.796948",
     "exception": false,
     "start_time": "2024-10-04T14:11:13.781946",
     "status": "completed"
    },
    "tags": []
   },
   "source": [
    "### Model:"
   ]
  },
  {
   "cell_type": "markdown",
   "id": "89b971c4",
   "metadata": {
    "papermill": {
     "duration": 0.015663,
     "end_time": "2024-10-04T14:11:13.828213",
     "exception": false,
     "start_time": "2024-10-04T14:11:13.812550",
     "status": "completed"
    },
    "tags": []
   },
   "source": [
    "#### Model relations:"
   ]
  },
  {
   "cell_type": "code",
   "execution_count": 33,
   "id": "ccf465d5",
   "metadata": {
    "execution": {
     "iopub.execute_input": "2024-10-04T14:11:13.857240Z",
     "iopub.status.busy": "2024-10-04T14:11:13.857240Z",
     "iopub.status.idle": "2024-10-04T14:11:13.879794Z",
     "shell.execute_reply": "2024-10-04T14:11:13.878792Z"
    },
    "papermill": {
     "duration": 0.03856,
     "end_time": "2024-10-04T14:11:13.880794",
     "exception": false,
     "start_time": "2024-10-04T14:11:13.842234",
     "status": "completed"
    },
    "tags": []
   },
   "outputs": [],
   "source": [
    "# Writing definition of model components\n",
    "column_names_model_components = {'Object_class_name':['model','temporal_block','stochastic_scenario', 'stochastic_structure', 'report'],\n",
    "                      'Object_name': [model_name, temporal_block, stochastic_scenario, stochastic_structure, report_name]}\n",
    "df_model_components = pd.DataFrame(column_names_model_components, index=None)\n",
    "\n",
    "# Adding a default investment temporal block if investment = true \n",
    "if candidate_nonzero:\n",
    "    df_model_components.loc[len(df_model_components.index)] = ['temporal_block', 'Default_Investment_period']\n",
    "\n",
    "# Outputs:\n",
    "reports_list = list(reports)\n",
    "df_outputs = pd.DataFrame({\n",
    "    'Object_class_name': ['output']*len(reports_list),\n",
    "    'Object_name': reports_list\n",
    "})\n",
    "df_model_components = pd.concat([df_model_components, df_outputs], axis=0)\n",
    "df_model_components = df_model_components.reset_index(drop=True)"
   ]
  },
  {
   "cell_type": "code",
   "execution_count": 34,
   "id": "c335dd9b",
   "metadata": {
    "execution": {
     "iopub.execute_input": "2024-10-04T14:11:13.912798Z",
     "iopub.status.busy": "2024-10-04T14:11:13.911793Z",
     "iopub.status.idle": "2024-10-04T14:11:13.943812Z",
     "shell.execute_reply": "2024-10-04T14:11:13.940811Z"
    },
    "papermill": {
     "duration": 0.051018,
     "end_time": "2024-10-04T14:11:13.946811",
     "exception": false,
     "start_time": "2024-10-04T14:11:13.895793",
     "status": "completed"
    },
    "tags": []
   },
   "outputs": [
    {
     "data": {
      "text/html": [
       "<div>\n",
       "<style scoped>\n",
       "    .dataframe tbody tr th:only-of-type {\n",
       "        vertical-align: middle;\n",
       "    }\n",
       "\n",
       "    .dataframe tbody tr th {\n",
       "        vertical-align: top;\n",
       "    }\n",
       "\n",
       "    .dataframe thead th {\n",
       "        text-align: right;\n",
       "    }\n",
       "</style>\n",
       "<table border=\"1\" class=\"dataframe\">\n",
       "  <thead>\n",
       "    <tr style=\"text-align: right;\">\n",
       "      <th></th>\n",
       "      <th>Relationship_class_name</th>\n",
       "      <th>Object_class_name_1</th>\n",
       "      <th>Object_class_name_2</th>\n",
       "      <th>Object_name_1</th>\n",
       "      <th>Object_name_2</th>\n",
       "    </tr>\n",
       "  </thead>\n",
       "  <tbody>\n",
       "    <tr>\n",
       "      <th>0</th>\n",
       "      <td>model__temporal_block</td>\n",
       "      <td>model</td>\n",
       "      <td>temporal_block</td>\n",
       "      <td>Model</td>\n",
       "      <td>hourly</td>\n",
       "    </tr>\n",
       "    <tr>\n",
       "      <th>1</th>\n",
       "      <td>model__default_temporal_block</td>\n",
       "      <td>model</td>\n",
       "      <td>temporal_block</td>\n",
       "      <td>Model</td>\n",
       "      <td>hourly</td>\n",
       "    </tr>\n",
       "    <tr>\n",
       "      <th>2</th>\n",
       "      <td>model__stochastic_structure</td>\n",
       "      <td>model</td>\n",
       "      <td>stochastic_structure</td>\n",
       "      <td>Model</td>\n",
       "      <td>deterministic</td>\n",
       "    </tr>\n",
       "    <tr>\n",
       "      <th>3</th>\n",
       "      <td>model__default_stochastic_structure</td>\n",
       "      <td>model</td>\n",
       "      <td>stochastic_structure</td>\n",
       "      <td>Model</td>\n",
       "      <td>deterministic</td>\n",
       "    </tr>\n",
       "    <tr>\n",
       "      <th>4</th>\n",
       "      <td>stochastic_structure__stochastic_scenario</td>\n",
       "      <td>stochastic_structure</td>\n",
       "      <td>stochastic_scenario</td>\n",
       "      <td>deterministic</td>\n",
       "      <td>realization</td>\n",
       "    </tr>\n",
       "  </tbody>\n",
       "</table>\n",
       "</div>"
      ],
      "text/plain": [
       "                     Relationship_class_name   Object_class_name_1  \\\n",
       "0                      model__temporal_block                 model   \n",
       "1              model__default_temporal_block                 model   \n",
       "2                model__stochastic_structure                 model   \n",
       "3        model__default_stochastic_structure                 model   \n",
       "4  stochastic_structure__stochastic_scenario  stochastic_structure   \n",
       "\n",
       "    Object_class_name_2  Object_name_1  Object_name_2  \n",
       "0        temporal_block          Model         hourly  \n",
       "1        temporal_block          Model         hourly  \n",
       "2  stochastic_structure          Model  deterministic  \n",
       "3  stochastic_structure          Model  deterministic  \n",
       "4   stochastic_scenario  deterministic    realization  "
      ]
     },
     "execution_count": 34,
     "metadata": {},
     "output_type": "execute_result"
    }
   ],
   "source": [
    "# Add reports chosen in main\n",
    "column_names_model_structure = {'Object_class_name':['model','temporal_block','stochastic_scenario', 'stochastic_structure', 'report'],\n",
    "                      'Object_name': [model_name, temporal_block, stochastic_scenario, stochastic_structure, report_name]}\n",
    "df_reports = pd.DataFrame({\n",
    "    'Relationship_class_name': ['report__output']*len(reports_list),\n",
    "    'Object_class_name_1': ['report']*len(reports_list),\n",
    "    'Object_class_name_2': ['output']*len(reports_list),\n",
    "    'Object_name_1': [report_name]*len(reports_list),\n",
    "    'Object_name_2': reports_list\n",
    "})\n",
    "\n",
    "# Add everything else\n",
    "df_model_struc = pd.DataFrame({\n",
    "    'Relationship_class_name': ['model__temporal_block','model__default_temporal_block', \n",
    "                                'model__stochastic_structure', 'model__default_stochastic_structure',\n",
    "                                'stochastic_structure__stochastic_scenario', 'model__report'],\n",
    "    'Object_class_name_1': ['model','model','model','model','stochastic_structure','model'],\n",
    "    'Object_class_name_2': ['temporal_block', 'temporal_block','stochastic_structure','stochastic_structure', 'stochastic_scenario','report'],\n",
    "    'Object_name_1': [model_name, model_name,model_name,model_name,stochastic_structure, model_name],\n",
    "    'Object_name_2': [temporal_block, temporal_block, stochastic_structure, stochastic_structure, stochastic_scenario, report_name]\n",
    "})\n",
    "df_model_relations = pd.concat([df_model_struc, df_reports], axis=0)\n",
    "df_model_relations = df_model_relations.reset_index(drop=True)\n",
    "\n",
    "# Defining default investment temporal block and stochastic structure if investment = true\n",
    "if candidate_nonzero:\n",
    "    df_model_relations.loc[len(df_model_relations.index)] = ['model__default_investment_temporal_block', 'model', 'temporal_block', model_name, 'Default_Investment_period']\n",
    "    df_model_relations.loc[len(df_model_relations.index)] = ['model__default_investment_stochastic_structure', 'model', 'stochastic_structure', model_name, stochastic_structure]\n",
    "\n",
    "# Show table head for control\n",
    "df_model_relations.head()"
   ]
  },
  {
   "cell_type": "markdown",
   "id": "892b88dc-3a5b-41c5-b184-64593c28c72c",
   "metadata": {
    "papermill": {
     "duration": 0.014038,
     "end_time": "2024-10-04T14:11:13.980414",
     "exception": false,
     "start_time": "2024-10-04T14:11:13.966376",
     "status": "completed"
    },
    "tags": []
   },
   "source": [
    "#### Start, end, resolution :"
   ]
  },
  {
   "cell_type": "code",
   "execution_count": 35,
   "id": "3960d14b-394b-4599-9e1e-8831aa59e6f8",
   "metadata": {
    "execution": {
     "iopub.execute_input": "2024-10-04T14:11:14.012378Z",
     "iopub.status.busy": "2024-10-04T14:11:14.012378Z",
     "iopub.status.idle": "2024-10-04T14:11:14.034640Z",
     "shell.execute_reply": "2024-10-04T14:11:14.033641Z"
    },
    "papermill": {
     "duration": 0.042222,
     "end_time": "2024-10-04T14:11:14.036638",
     "exception": false,
     "start_time": "2024-10-04T14:11:13.994416",
     "status": "completed"
    },
    "tags": []
   },
   "outputs": [
    {
     "data": {
      "text/html": [
       "<div>\n",
       "<style scoped>\n",
       "    .dataframe tbody tr th:only-of-type {\n",
       "        vertical-align: middle;\n",
       "    }\n",
       "\n",
       "    .dataframe tbody tr th {\n",
       "        vertical-align: top;\n",
       "    }\n",
       "\n",
       "    .dataframe thead th {\n",
       "        text-align: right;\n",
       "    }\n",
       "</style>\n",
       "<table border=\"1\" class=\"dataframe\">\n",
       "  <thead>\n",
       "    <tr style=\"text-align: right;\">\n",
       "      <th></th>\n",
       "      <th>Object_class_name</th>\n",
       "      <th>Object_name</th>\n",
       "      <th>Parameter</th>\n",
       "      <th>Alternative</th>\n",
       "      <th>Value</th>\n",
       "    </tr>\n",
       "  </thead>\n",
       "  <tbody>\n",
       "    <tr>\n",
       "      <th>0</th>\n",
       "      <td>model</td>\n",
       "      <td>Model</td>\n",
       "      <td>model_start</td>\n",
       "      <td>Base</td>\n",
       "      <td>{\"type\": \"date_time\", \"data\": \"2019-01-01T00:0...</td>\n",
       "    </tr>\n",
       "    <tr>\n",
       "      <th>1</th>\n",
       "      <td>model</td>\n",
       "      <td>Model</td>\n",
       "      <td>model_end</td>\n",
       "      <td>Base</td>\n",
       "      <td>{\"type\": \"date_time\", \"data\": \"2019-12-31T23:0...</td>\n",
       "    </tr>\n",
       "    <tr>\n",
       "      <th>2</th>\n",
       "      <td>temporal_block</td>\n",
       "      <td>hourly</td>\n",
       "      <td>resolution</td>\n",
       "      <td>Base</td>\n",
       "      <td>{\"type\":\"duration\", \"data\": \"1h\"}</td>\n",
       "    </tr>\n",
       "    <tr>\n",
       "      <th>3</th>\n",
       "      <td>temporal_block</td>\n",
       "      <td>Default_Investment_period</td>\n",
       "      <td>resolution</td>\n",
       "      <td>Base</td>\n",
       "      <td>{\"type\":\"duration\", \"data\": \"365D\"}</td>\n",
       "    </tr>\n",
       "  </tbody>\n",
       "</table>\n",
       "</div>"
      ],
      "text/plain": [
       "  Object_class_name                Object_name    Parameter Alternative  \\\n",
       "0             model                      Model  model_start        Base   \n",
       "1             model                      Model    model_end        Base   \n",
       "2    temporal_block                     hourly   resolution        Base   \n",
       "3    temporal_block  Default_Investment_period   resolution        Base   \n",
       "\n",
       "                                               Value  \n",
       "0  {\"type\": \"date_time\", \"data\": \"2019-01-01T00:0...  \n",
       "1  {\"type\": \"date_time\", \"data\": \"2019-12-31T23:0...  \n",
       "2                  {\"type\":\"duration\", \"data\": \"1h\"}  \n",
       "3                {\"type\":\"duration\", \"data\": \"365D\"}  "
      ]
     },
     "execution_count": 35,
     "metadata": {},
     "output_type": "execute_result"
    }
   ],
   "source": [
    "# Create values for model structure\n",
    "column_names_model = {'Object_class_name':['model','model','temporal_block'],\n",
    "                      'Object_name': [model_name, model_name, temporal_block],\n",
    "                      'Parameter':['model_start','model_end','resolution'],\n",
    "                      'Alternative': [scenario[0], scenario[0], scenario[0]],\n",
    "                      'Value': ['{\"type\": \"date_time\", \"data\": \"'+df_time.iloc[0]['DateTime']+'\"}',\n",
    "                          '{\"type\": \"date_time\", \"data\": \"'+df_time.iloc[-1]['DateTime']+'\"}', \n",
    "                          '{\"type\":\"duration\", \"data\": \"'+frequency+'\"}']}\n",
    "df_model = pd.DataFrame(column_names_model, index=None)\n",
    "\n",
    "# Add investment temporal blocks to model data frame in days if investment = true\n",
    "if candidate_nonzero:\n",
    "    df_model.loc[len(df_model.index)] = ['temporal_block', 'Default_Investment_period', 'resolution', scenario[0], '{\"type\":\"duration\", \"data\": \"'+convert_to_days(investment_period_default, year)+'\"}']\n",
    "\n",
    "# Show how table head for control\n",
    "df_model.head()"
   ]
  },
  {
   "cell_type": "code",
   "execution_count": 36,
   "id": "4b24d678-4167-4521-a6ab-aae160dc13ae",
   "metadata": {
    "execution": {
     "iopub.execute_input": "2024-10-04T14:11:14.069676Z",
     "iopub.status.busy": "2024-10-04T14:11:14.069676Z",
     "iopub.status.idle": "2024-10-04T14:11:14.098388Z",
     "shell.execute_reply": "2024-10-04T14:11:14.096592Z"
    },
    "papermill": {
     "duration": 0.048748,
     "end_time": "2024-10-04T14:11:14.100425",
     "exception": false,
     "start_time": "2024-10-04T14:11:14.051677",
     "status": "completed"
    },
    "tags": []
   },
   "outputs": [
    {
     "data": {
      "text/html": [
       "<div>\n",
       "<style scoped>\n",
       "    .dataframe tbody tr th:only-of-type {\n",
       "        vertical-align: middle;\n",
       "    }\n",
       "\n",
       "    .dataframe tbody tr th {\n",
       "        vertical-align: top;\n",
       "    }\n",
       "\n",
       "    .dataframe thead th {\n",
       "        text-align: right;\n",
       "    }\n",
       "</style>\n",
       "<table border=\"1\" class=\"dataframe\">\n",
       "  <thead>\n",
       "    <tr style=\"text-align: right;\">\n",
       "      <th></th>\n",
       "      <th>Object_class_name</th>\n",
       "      <th>Object_name</th>\n",
       "      <th>Parameter</th>\n",
       "      <th>Alternative</th>\n",
       "      <th>Value</th>\n",
       "    </tr>\n",
       "  </thead>\n",
       "  <tbody>\n",
       "    <tr>\n",
       "      <th>0</th>\n",
       "      <td>model</td>\n",
       "      <td>Model</td>\n",
       "      <td>model_start</td>\n",
       "      <td>Base</td>\n",
       "      <td>{\"type\": \"date_time\", \"data\": \"2019-01-01T00:0...</td>\n",
       "    </tr>\n",
       "    <tr>\n",
       "      <th>1</th>\n",
       "      <td>model</td>\n",
       "      <td>Model</td>\n",
       "      <td>model_end</td>\n",
       "      <td>Base</td>\n",
       "      <td>{\"type\": \"date_time\", \"data\": \"2019-12-31T23:0...</td>\n",
       "    </tr>\n",
       "    <tr>\n",
       "      <th>2</th>\n",
       "      <td>temporal_block</td>\n",
       "      <td>hourly</td>\n",
       "      <td>resolution</td>\n",
       "      <td>Base</td>\n",
       "      <td>{\"type\":\"duration\", \"data\": \"1h\"}</td>\n",
       "    </tr>\n",
       "    <tr>\n",
       "      <th>3</th>\n",
       "      <td>temporal_block</td>\n",
       "      <td>Default_Investment_period</td>\n",
       "      <td>resolution</td>\n",
       "      <td>Base</td>\n",
       "      <td>{\"type\":\"duration\", \"data\": \"365D\"}</td>\n",
       "    </tr>\n",
       "    <tr>\n",
       "      <th>4</th>\n",
       "      <td>model</td>\n",
       "      <td>Model</td>\n",
       "      <td>roll_forward</td>\n",
       "      <td>Base</td>\n",
       "      <td>{\"type\": \"duration\", \"data\": \"730h\"}</td>\n",
       "    </tr>\n",
       "  </tbody>\n",
       "</table>\n",
       "</div>"
      ],
      "text/plain": [
       "  Object_class_name                Object_name     Parameter Alternative  \\\n",
       "0             model                      Model   model_start        Base   \n",
       "1             model                      Model     model_end        Base   \n",
       "2    temporal_block                     hourly    resolution        Base   \n",
       "3    temporal_block  Default_Investment_period    resolution        Base   \n",
       "4             model                      Model  roll_forward        Base   \n",
       "\n",
       "                                               Value  \n",
       "0  {\"type\": \"date_time\", \"data\": \"2019-01-01T00:0...  \n",
       "1  {\"type\": \"date_time\", \"data\": \"2019-12-31T23:0...  \n",
       "2                  {\"type\":\"duration\", \"data\": \"1h\"}  \n",
       "3                {\"type\":\"duration\", \"data\": \"365D\"}  \n",
       "4               {\"type\": \"duration\", \"data\": \"730h\"}  "
      ]
     },
     "execution_count": 36,
     "metadata": {},
     "output_type": "execute_result"
    }
   ],
   "source": [
    "# Add information in case roll forward is used\n",
    "if roll_forward_use:\n",
    "    if temporal_block == 'hourly':\n",
    "        unit = 'h'\n",
    "    elif temporal_block == 'daily':\n",
    "        unit = 'D'\n",
    "    elif temporal_block == 'monthly':\n",
    "        unit = 'M'\n",
    "    else:\n",
    "        unit = ''\n",
    "        print(\"\\033[91mWARNING:\\033[0m Duration not defined!!!\")\n",
    "    # Add the new row to the df\n",
    "    roll_forward_size_with_unit = str(roll_forward_size) + unit\n",
    "    roll_forward_row = {'Object_class_name': 'model', \n",
    "                        'Object_name': model_name, \n",
    "                        'Parameter': 'roll_forward',\n",
    "                        'Alternative': scenario[0],\n",
    "                        'Value': '{\"type\": \"duration\", \"data\": \"' + roll_forward_size_with_unit +'\"}'\n",
    "                       }\n",
    "    # Add new row to df_model DataFrame\n",
    "    df_model.loc[len(df_model)] = roll_forward_row\n",
    "\n",
    "# Show table head for control\n",
    "df_model.head()"
   ]
  },
  {
   "cell_type": "code",
   "execution_count": 37,
   "id": "14842492",
   "metadata": {
    "execution": {
     "iopub.execute_input": "2024-10-04T14:11:14.132388Z",
     "iopub.status.busy": "2024-10-04T14:11:14.131394Z",
     "iopub.status.idle": "2024-10-04T14:11:14.159980Z",
     "shell.execute_reply": "2024-10-04T14:11:14.158919Z"
    },
    "papermill": {
     "duration": 0.047538,
     "end_time": "2024-10-04T14:11:14.161962",
     "exception": false,
     "start_time": "2024-10-04T14:11:14.114424",
     "status": "completed"
    },
    "tags": []
   },
   "outputs": [
    {
     "data": {
      "text/plain": [
       "0    None\n",
       "1    None\n",
       "2    None\n",
       "3    None\n",
       "4    None\n",
       "5    None\n",
       "Name: resolution_output, dtype: object"
      ]
     },
     "execution_count": 37,
     "metadata": {},
     "output_type": "execute_result"
    }
   ],
   "source": [
    "# Temporal resolution for demand\n",
    "# Add temporal block to definition, if necessary\n",
    "df_model_units['resolution_output'].apply(lambda x: check_temporal_block(x, df_model_components))\n",
    "\n",
    "# Add temporal relation to respective node\n",
    "df_temporal_relations = pd.DataFrame(columns = ['Relationship_class_name', 'Node', 'Temporal_block'], index=None)\n",
    "df_model_units.apply(lambda row: create_temporal_block_relationships(row['resolution_output'],row['Output1'], df_model_relations, model_name, df_definition, df_temporal_relations),axis=1)\n",
    "\n",
    "# Add values to temporal block\n",
    "df_model_units['resolution_output'].apply(lambda x: create_temporal_block_input(x, df_model))"
   ]
  },
  {
   "cell_type": "markdown",
   "id": "36be54c5-1d66-4841-a002-30a94697b84e",
   "metadata": {
    "papermill": {
     "duration": 0.013967,
     "end_time": "2024-10-04T14:11:14.190931",
     "exception": false,
     "start_time": "2024-10-04T14:11:14.176964",
     "status": "completed"
    },
    "tags": []
   },
   "source": [
    "### Variable Efficiency Units:"
   ]
  },
  {
   "cell_type": "markdown",
   "id": "17268ecd-53bc-49ec-b6b8-6132ce181b2f",
   "metadata": {
    "papermill": {
     "duration": 0.015998,
     "end_time": "2024-10-04T14:11:14.221927",
     "exception": false,
     "start_time": "2024-10-04T14:11:14.205929",
     "status": "completed"
    },
    "tags": []
   },
   "source": [
    "#### Calculate adjusted efficiency for each unit"
   ]
  },
  {
   "cell_type": "code",
   "execution_count": 38,
   "id": "cecb0765",
   "metadata": {
    "execution": {
     "iopub.execute_input": "2024-10-04T14:11:14.254934Z",
     "iopub.status.busy": "2024-10-04T14:11:14.254012Z",
     "iopub.status.idle": "2024-10-04T14:11:14.348256Z",
     "shell.execute_reply": "2024-10-04T14:11:14.347254Z"
    },
    "papermill": {
     "duration": 0.113336,
     "end_time": "2024-10-04T14:11:14.350262",
     "exception": false,
     "start_time": "2024-10-04T14:11:14.236926",
     "status": "completed"
    },
    "scrolled": true,
    "tags": []
   },
   "outputs": [
    {
     "name": "stdout",
     "output_type": "stream",
     "text": [
      "Actual mean efficiency of electrolyzer after scaling: 0.7500\n",
      "   relationship_class_name:  unit__from_node\n",
      "0                         0         0.130774\n",
      "1                         1         0.348081\n",
      "2                         2         0.565387\n",
      "3                         3         0.782693\n",
      "4                         4         1.000000\n",
      "WARNING: No variable efficiency defined for methanol_reactor\n"
     ]
    }
   ],
   "source": [
    "# Important as the SpineOpt implementation is piecewise but when producing at high capacity the lower segments also produce\n",
    "# This way, we avoid overestimation of production when running at higher capacities\n",
    "\n",
    "for index, row in df_model_units.iterrows():\n",
    "    if pd.notna(row['mean_efficiency']):\n",
    "        # If 'mean_efficiency' column has a value, check if corresponding DataFrame exists\n",
    "        column_name = row['Unit'].lower()\n",
    "        df_name = f\"df_efficiency_{column_name}\"\n",
    "        goal = row['mean_efficiency']\n",
    "        output_1 = row['Output1']\n",
    "        input_1 = row['Input1']\n",
    "        \n",
    "        if df_name in globals() and isinstance(globals()[df_name], pd.DataFrame):\n",
    "            \n",
    "            # Calculate adjusted efficiency\n",
    "            df_efficiency_adj = create_adj_efficiency(globals()[df_name], goal, column_name)\n",
    "            globals()[f\"df_efficiency_{column_name}_adj\"] = df_efficiency_adj\n",
    "            \n",
    "            # Fit with operating points\n",
    "            des_segment = globals()['des_segments_' + column_name]\n",
    "            df_var_efficiency, df_operating_points, segment_x_values, segment_averages, x_values, y_values = calculate_op_points(\n",
    "                column_name, des_segment, df_efficiency_adj, input_1, output_1\n",
    "            )\n",
    "            globals()[f\"variable_efficiency_{column_name}\"] = df_var_efficiency\n",
    "            globals()[f\"operating_points_{column_name}\"] = df_operating_points\n",
    "            globals()[f\"segment_x_values_{column_name}\"] = segment_x_values\n",
    "            globals()[f\"segment_averages_{column_name}\"] = segment_averages\n",
    "            globals()[f\"x_values_{column_name}\"] = x_values\n",
    "            globals()[f\"y_values_{column_name}\"] = y_values\n",
    "            \n",
    "            # Create ordered_unit_flow\n",
    "            ordered_unit_flow = check_decreasing(df_var_efficiency, column_name, input_1)\n",
    "            globals()[f\"ordered_unit_flow_{column_name}\"] = ordered_unit_flow\n",
    "            \n",
    "        else:\n",
    "            print(f\"WARNING: No variable efficiency defined for {column_name}\")\n",
    "    else:\n",
    "        # If 'mean_efficiency' column is NA, skip\n",
    "        continue"
   ]
  },
  {
   "cell_type": "code",
   "execution_count": 39,
   "id": "6bf17dac-b552-4369-84fc-4417439747a1",
   "metadata": {
    "execution": {
     "iopub.execute_input": "2024-10-04T14:11:14.381872Z",
     "iopub.status.busy": "2024-10-04T14:11:14.381872Z",
     "iopub.status.idle": "2024-10-04T14:11:14.599979Z",
     "shell.execute_reply": "2024-10-04T14:11:14.598988Z"
    },
    "papermill": {
     "duration": 0.237316,
     "end_time": "2024-10-04T14:11:14.602158",
     "exception": false,
     "start_time": "2024-10-04T14:11:14.364842",
     "status": "completed"
    },
    "scrolled": true,
    "tags": []
   },
   "outputs": [
    {
     "data": {
      "image/png": "[encoded data removed]",
      "text/plain": [
       "<Figure size 700x300 with 1 Axes>"
      ]
     },
     "metadata": {},
     "output_type": "display_data"
    }
   ],
   "source": [
    "# Plot the data of the original efficiency curve and the adjusted ones\n",
    "plt.figure(figsize=(7, 3))\n",
    "plt.plot(df_efficiency_electrolyzer_adj['Power [%]'], df_efficiency_electrolyzer_adj['Efficiency [%]'], label='Eff raw', marker='o')\n",
    "plt.plot(df_efficiency_electrolyzer_adj['Power [%]'], df_efficiency_electrolyzer_adj['Efficiency_scaled [%]'], label='Eff scaled', marker='x')\n",
    "plt.plot(df_efficiency_adj['Power [%]'], df_efficiency_adj['eff_adjusted_electrolyzer'], label='Eff adjusted', marker='x', \n",
    "         linestyle='dashed', dashes=(5, 7))\n",
    "\n",
    "plt.xlabel('Power [%]')\n",
    "plt.ylabel('Efficiency [%]')\n",
    "plt.title('Efficiency vs Power')\n",
    "plt.legend()\n",
    "plt.grid(True)\n",
    "plt.show()"
   ]
  },
  {
   "cell_type": "code",
   "execution_count": 40,
   "id": "6107fc7e",
   "metadata": {
    "execution": {
     "iopub.execute_input": "2024-10-04T14:11:14.638055Z",
     "iopub.status.busy": "2024-10-04T14:11:14.637030Z",
     "iopub.status.idle": "2024-10-04T14:11:14.822545Z",
     "shell.execute_reply": "2024-10-04T14:11:14.820910Z"
    },
    "papermill": {
     "duration": 0.20558,
     "end_time": "2024-10-04T14:11:14.824606",
     "exception": false,
     "start_time": "2024-10-04T14:11:14.619026",
     "status": "completed"
    },
    "tags": []
   },
   "outputs": [
    {
     "data": {
      "image/png": "[encoded data removed]",
      "text/plain": [
       "<Figure size 500x400 with 1 Axes>"
      ]
     },
     "metadata": {},
     "output_type": "display_data"
    }
   ],
   "source": [
    "# Plotting the data points and the curve\n",
    "plt.figure(figsize=(5, 4))\n",
    "plt.scatter(df_efficiency_electrolyzer_adj['Power [%]'], df_efficiency_electrolyzer_adj['eff_adjusted_electrolyzer'], color='blue', label='Efficiency Adjusted')\n",
    "plt.plot(x_values_electrolyzer, y_values_electrolyzer, color='red', label='Fitted Efficiency Curve Electrolyzer')\n",
    "\n",
    "# Plotting segment averages\n",
    "for i, (x_start, x_end) in enumerate(segment_x_values_electrolyzer):\n",
    "    plt.plot([x_start, x_end], [segment_averages_electrolyzer[i], segment_averages_electrolyzer[i]], color='green', linestyle='--', linewidth=2)\n",
    "\n",
    "plt.xlabel('x')\n",
    "plt.ylabel('y')\n",
    "plt.title('Curve Fitted to Data Points')\n",
    "plt.legend()\n",
    "plt.grid(True)\n",
    "plt.show()"
   ]
  },
  {
   "cell_type": "markdown",
   "id": "722bb069",
   "metadata": {
    "papermill": {
     "duration": 0.015048,
     "end_time": "2024-10-04T14:11:14.857367",
     "exception": false,
     "start_time": "2024-10-04T14:11:14.842319",
     "status": "completed"
    },
    "tags": []
   },
   "source": [
    "#### Add operating points to user constraint"
   ]
  },
  {
   "cell_type": "code",
   "execution_count": 41,
   "id": "38694351",
   "metadata": {
    "execution": {
     "iopub.execute_input": "2024-10-04T14:11:14.896875Z",
     "iopub.status.busy": "2024-10-04T14:11:14.896875Z",
     "iopub.status.idle": "2024-10-04T14:11:14.915939Z",
     "shell.execute_reply": "2024-10-04T14:11:14.914928Z"
    },
    "papermill": {
     "duration": 0.039681,
     "end_time": "2024-10-04T14:11:14.917555",
     "exception": false,
     "start_time": "2024-10-04T14:11:14.877874",
     "status": "completed"
    },
    "tags": []
   },
   "outputs": [
    {
     "data": {
      "text/html": [
       "<div>\n",
       "<style scoped>\n",
       "    .dataframe tbody tr th:only-of-type {\n",
       "        vertical-align: middle;\n",
       "    }\n",
       "\n",
       "    .dataframe tbody tr th {\n",
       "        vertical-align: top;\n",
       "    }\n",
       "\n",
       "    .dataframe thead th {\n",
       "        text-align: right;\n",
       "    }\n",
       "</style>\n",
       "<table border=\"1\" class=\"dataframe\">\n",
       "  <thead>\n",
       "    <tr style=\"text-align: right;\">\n",
       "      <th></th>\n",
       "      <th>relationship_class_name:</th>\n",
       "      <th>unit__from_node__user_constraint</th>\n",
       "      <th>unit__to_node__user_constraint</th>\n",
       "    </tr>\n",
       "  </thead>\n",
       "  <tbody>\n",
       "    <tr>\n",
       "      <th>0</th>\n",
       "      <td>User_constraint_name</td>\n",
       "      <td>EffCurve_Electrolyzer</td>\n",
       "      <td>EffCurve_Electrolyzer</td>\n",
       "    </tr>\n",
       "    <tr>\n",
       "      <th>1</th>\n",
       "      <td>Object_name</td>\n",
       "      <td>Electrolyzer</td>\n",
       "      <td>Electrolyzer</td>\n",
       "    </tr>\n",
       "    <tr>\n",
       "      <th>2</th>\n",
       "      <td>Node_name</td>\n",
       "      <td>Power_Kasso</td>\n",
       "      <td>Hydrogen_Kasso</td>\n",
       "    </tr>\n",
       "    <tr>\n",
       "      <th>3</th>\n",
       "      <td>Parameter</td>\n",
       "      <td>unit_flow_coefficient</td>\n",
       "      <td>unit_flow_coefficient</td>\n",
       "    </tr>\n",
       "    <tr>\n",
       "      <th>4</th>\n",
       "      <td>0</td>\n",
       "      <td>0.792754</td>\n",
       "      <td>-1.0</td>\n",
       "    </tr>\n",
       "    <tr>\n",
       "      <th>5</th>\n",
       "      <td>1</td>\n",
       "      <td>0.784371</td>\n",
       "      <td>NaN</td>\n",
       "    </tr>\n",
       "    <tr>\n",
       "      <th>6</th>\n",
       "      <td>2</td>\n",
       "      <td>0.737692</td>\n",
       "      <td>NaN</td>\n",
       "    </tr>\n",
       "    <tr>\n",
       "      <th>7</th>\n",
       "      <td>3</td>\n",
       "      <td>0.725245</td>\n",
       "      <td>NaN</td>\n",
       "    </tr>\n",
       "    <tr>\n",
       "      <th>8</th>\n",
       "      <td>4</td>\n",
       "      <td>0.693186</td>\n",
       "      <td>NaN</td>\n",
       "    </tr>\n",
       "  </tbody>\n",
       "</table>\n",
       "</div>"
      ],
      "text/plain": [
       "  relationship_class_name: unit__from_node__user_constraint  \\\n",
       "0     User_constraint_name            EffCurve_Electrolyzer   \n",
       "1              Object_name                     Electrolyzer   \n",
       "2                Node_name                      Power_Kasso   \n",
       "3                Parameter            unit_flow_coefficient   \n",
       "4                        0                         0.792754   \n",
       "5                        1                         0.784371   \n",
       "6                        2                         0.737692   \n",
       "7                        3                         0.725245   \n",
       "8                        4                         0.693186   \n",
       "\n",
       "  unit__to_node__user_constraint  \n",
       "0          EffCurve_Electrolyzer  \n",
       "1                   Electrolyzer  \n",
       "2                 Hydrogen_Kasso  \n",
       "3          unit_flow_coefficient  \n",
       "4                           -1.0  \n",
       "5                            NaN  \n",
       "6                            NaN  \n",
       "7                            NaN  \n",
       "8                            NaN  "
      ]
     },
     "execution_count": 41,
     "metadata": {},
     "output_type": "execute_result"
    }
   ],
   "source": [
    "###Summarize all variable efficiencies\n",
    "# Collect all data frames that start with variable_efficiency\n",
    "dfs = [value for key, value in globals().items() if key.startswith('variable_efficiency') and isinstance(value, pd.DataFrame)]\n",
    "\n",
    "# Choose the first column with the most segments\n",
    "longest_df = max(dfs, key=lambda df: df.shape[0])\n",
    "first_column = longest_df.iloc[:, 0]\n",
    "\n",
    "# Concatenate the remaining columns from all DataFrames, ensuring no duplicate \"first column\"\n",
    "remaining_columns = [df.iloc[:, 1:] for df in dfs]\n",
    "\n",
    "# Concatenate the remaining columns to the longest first column\n",
    "df_variable_efficiency = pd.concat([first_column] + remaining_columns, axis=1)\n",
    "df_variable_efficiency"
   ]
  },
  {
   "cell_type": "code",
   "execution_count": 42,
   "id": "7b94c1a0-c73d-45b6-b048-df9ae8c0261a",
   "metadata": {
    "execution": {
     "iopub.execute_input": "2024-10-04T14:11:14.952984Z",
     "iopub.status.busy": "2024-10-04T14:11:14.951983Z",
     "iopub.status.idle": "2024-10-04T14:11:14.978056Z",
     "shell.execute_reply": "2024-10-04T14:11:14.977072Z"
    },
    "papermill": {
     "duration": 0.045549,
     "end_time": "2024-10-04T14:11:14.980070",
     "exception": false,
     "start_time": "2024-10-04T14:11:14.934521",
     "status": "completed"
    },
    "tags": []
   },
   "outputs": [
    {
     "data": {
      "text/html": [
       "<div>\n",
       "<style scoped>\n",
       "    .dataframe tbody tr th:only-of-type {\n",
       "        vertical-align: middle;\n",
       "    }\n",
       "\n",
       "    .dataframe tbody tr th {\n",
       "        vertical-align: top;\n",
       "    }\n",
       "\n",
       "    .dataframe thead th {\n",
       "        text-align: right;\n",
       "    }\n",
       "</style>\n",
       "<table border=\"1\" class=\"dataframe\">\n",
       "  <thead>\n",
       "    <tr style=\"text-align: right;\">\n",
       "      <th></th>\n",
       "      <th>Entity class names</th>\n",
       "      <th>Entity names</th>\n",
       "    </tr>\n",
       "  </thead>\n",
       "  <tbody>\n",
       "    <tr>\n",
       "      <th>0</th>\n",
       "      <td>user_constraint</td>\n",
       "      <td>EffCurve_Electrolyzer</td>\n",
       "    </tr>\n",
       "  </tbody>\n",
       "</table>\n",
       "</div>"
      ],
      "text/plain": [
       "  Entity class names           Entity names\n",
       "0    user_constraint  EffCurve_Electrolyzer"
      ]
     },
     "execution_count": 42,
     "metadata": {},
     "output_type": "execute_result"
    }
   ],
   "source": [
    "# Relate all user_constraints to entity class name \"user_constraint\" \n",
    "\n",
    "Entity_names_duplicate = df_variable_efficiency.iloc[0,1:]\n",
    "User_constraint_entities = []\n",
    "for name in Entity_names_duplicate:\n",
    "    if name not in User_constraint_entities:\n",
    "        User_constraint_entities.append(name)\n",
    "        \n",
    "\n",
    "User_constraint_column = [\"user_constraint\"]*len(User_constraint_entities)\n",
    "\n",
    "merged_columns = {\"Entity class names\": User_constraint_column, \"Entity names\": User_constraint_entities}\n",
    "df_variable_eff_def= pd.DataFrame(merged_columns)\n",
    "df_variable_eff_def"
   ]
  },
  {
   "cell_type": "code",
   "execution_count": 43,
   "id": "f6fb592c",
   "metadata": {
    "execution": {
     "iopub.execute_input": "2024-10-04T14:11:15.015047Z",
     "iopub.status.busy": "2024-10-04T14:11:15.015047Z",
     "iopub.status.idle": "2024-10-04T14:11:15.027067Z",
     "shell.execute_reply": "2024-10-04T14:11:15.025064Z"
    },
    "papermill": {
     "duration": 0.032968,
     "end_time": "2024-10-04T14:11:15.030065",
     "exception": false,
     "start_time": "2024-10-04T14:11:14.997097",
     "status": "completed"
    },
    "tags": []
   },
   "outputs": [],
   "source": [
    "### Summarize all operating points\n",
    "# Collect all data frames that start with operating_points\n",
    "dfs = [value for key, value in globals().items() if key.startswith('operating_points') and isinstance(value, pd.DataFrame)]\n",
    "\n",
    "# Choose the first column with the most segments\n",
    "longest_df = max(dfs, key=lambda df: df.shape[0])\n",
    "first_column = longest_df.iloc[:, 0]\n",
    "\n",
    "# Concatenate the remaining columns from all DataFrames, ensuring no duplicate \"first column\"\n",
    "remaining_columns = [df.iloc[:, 1:] for df in dfs]\n",
    "\n",
    "# Concatenate the remaining columns to the longest first column\n",
    "df_operating_points = pd.concat([first_column] + remaining_columns, axis=1)"
   ]
  },
  {
   "cell_type": "code",
   "execution_count": 44,
   "id": "899403f8",
   "metadata": {
    "execution": {
     "iopub.execute_input": "2024-10-04T14:11:15.064695Z",
     "iopub.status.busy": "2024-10-04T14:11:15.064695Z",
     "iopub.status.idle": "2024-10-04T14:11:15.073772Z",
     "shell.execute_reply": "2024-10-04T14:11:15.072761Z"
    },
    "papermill": {
     "duration": 0.029547,
     "end_time": "2024-10-04T14:11:15.076624",
     "exception": false,
     "start_time": "2024-10-04T14:11:15.047077",
     "status": "completed"
    },
    "tags": []
   },
   "outputs": [],
   "source": [
    "### Summarize all ordered_unit_flow_op\n",
    "# Collect all data frames that start with ordered_unit_flow_op\n",
    "dfs = [value for key, value in globals().items() if key.startswith('ordered_unit_flow_') and isinstance(value, pd.DataFrame)]\n",
    "\n",
    "# Concatenate the remaining columns to the longest first column\n",
    "df_boolean_relations = pd.concat(dfs, ignore_index=True)"
   ]
  },
  {
   "cell_type": "markdown",
   "id": "85f878c0",
   "metadata": {
    "papermill": {
     "duration": 0.017001,
     "end_time": "2024-10-04T14:11:15.108638",
     "exception": false,
     "start_time": "2024-10-04T14:11:15.091637",
     "status": "completed"
    },
    "tags": []
   },
   "source": [
    "### Environment and Storages"
   ]
  },
  {
   "cell_type": "markdown",
   "id": "99b06362-af38-4e4b-ab1b-fc2f8024bee0",
   "metadata": {
    "papermill": {
     "duration": 0.018,
     "end_time": "2024-10-04T14:11:15.142638",
     "exception": false,
     "start_time": "2024-10-04T14:11:15.124638",
     "status": "completed"
    },
    "tags": []
   },
   "source": [
    "#### Renewables Availability:"
   ]
  },
  {
   "cell_type": "code",
   "execution_count": 45,
   "id": "05c49bd0",
   "metadata": {
    "execution": {
     "iopub.execute_input": "2024-10-04T14:11:15.178172Z",
     "iopub.status.busy": "2024-10-04T14:11:15.178172Z",
     "iopub.status.idle": "2024-10-04T14:11:15.202027Z",
     "shell.execute_reply": "2024-10-04T14:11:15.200239Z"
    },
    "papermill": {
     "duration": 0.045411,
     "end_time": "2024-10-04T14:11:15.204064",
     "exception": false,
     "start_time": "2024-10-04T14:11:15.158653",
     "status": "completed"
    },
    "tags": []
   },
   "outputs": [
    {
     "data": {
      "text/html": [
       "<div>\n",
       "<style scoped>\n",
       "    .dataframe tbody tr th:only-of-type {\n",
       "        vertical-align: middle;\n",
       "    }\n",
       "\n",
       "    .dataframe tbody tr th {\n",
       "        vertical-align: top;\n",
       "    }\n",
       "\n",
       "    .dataframe thead th {\n",
       "        text-align: right;\n",
       "    }\n",
       "</style>\n",
       "<table border=\"1\" class=\"dataframe\">\n",
       "  <thead>\n",
       "    <tr style=\"text-align: right;\">\n",
       "      <th></th>\n",
       "      <th>DateTime DK1</th>\n",
       "      <th>Solar_Plant</th>\n",
       "    </tr>\n",
       "  </thead>\n",
       "  <tbody>\n",
       "    <tr>\n",
       "      <th>0</th>\n",
       "      <td>None</td>\n",
       "      <td>unit</td>\n",
       "    </tr>\n",
       "    <tr>\n",
       "      <th>1</th>\n",
       "      <td>None</td>\n",
       "      <td>unit_availability_factor</td>\n",
       "    </tr>\n",
       "    <tr>\n",
       "      <th>0</th>\n",
       "      <td>2019-01-01T00:00:00</td>\n",
       "      <td>0.0</td>\n",
       "    </tr>\n",
       "    <tr>\n",
       "      <th>1</th>\n",
       "      <td>2019-01-01T01:00:00</td>\n",
       "      <td>0.0</td>\n",
       "    </tr>\n",
       "    <tr>\n",
       "      <th>2</th>\n",
       "      <td>2019-01-01T02:00:00</td>\n",
       "      <td>0.0</td>\n",
       "    </tr>\n",
       "  </tbody>\n",
       "</table>\n",
       "</div>"
      ],
      "text/plain": [
       "          DateTime DK1               Solar_Plant\n",
       "0                 None                      unit\n",
       "1                 None  unit_availability_factor\n",
       "0  2019-01-01T00:00:00                       0.0\n",
       "1  2019-01-01T01:00:00                       0.0\n",
       "2  2019-01-01T02:00:00                       0.0"
      ]
     },
     "execution_count": 45,
     "metadata": {},
     "output_type": "execute_result"
    }
   ],
   "source": [
    "# Create table headers and relations\n",
    "column_names_1 = {'DateTime '+area: [None, None]}\n",
    "\n",
    "# Add time values\n",
    "df_temp_1 = pd.DataFrame(columns=['DateTime ' + area])\n",
    "df_temp_1['DateTime '+area] = df_time\n",
    "\n",
    "# Add solar values\n",
    "if 'Solar plant' in powers:\n",
    "    column_names_1['Solar_Plant'] = ['unit', 'unit_availability_factor']\n",
    "    df_temp_1['Solar_Plant'] = df_PV_availabilityfactors_values['unit_availability_factor']\n",
    "    \n",
    "    # Fill NaNs on last day by copying previous day (only for leap years)\n",
    "    df_temp_1['Solar_Plant_shifted'] = df_temp_1['Solar_Plant'].shift(24)\n",
    "    df_temp_1['Solar_Plant'] = df_temp_1['Solar_Plant'].fillna(df_temp_1['Solar_Plant_shifted'])\n",
    "    df_temp_1 = df_temp_1.drop(columns=['Solar_Plant_shifted'])\n",
    "\n",
    "# Add onshore wind values\n",
    "if 'Wind onshore' in powers:\n",
    "    column_names_1['Wind_onshore'] = ['unit', 'unit_availability_factor']\n",
    "    df_temp_1['Wind_onshore'] = df_wind_availabilityfactors_values['unit_availability_factor_onshore']\n",
    "    \n",
    "    # Fill NaNs on last day by copying previous day (only for leap years)\n",
    "    df_temp_1['Wind_onshore_shifted'] = df_temp_1['Wind_onshore'].shift(24)\n",
    "    df_temp_1['Wind_onshore'] = df_temp_1['Wind_onshore'].fillna(df_temp_1['Wind_onshore_shifted'])\n",
    "    df_temp_1 = df_temp_1.drop(columns=['Wind_onshore_shifted'])\n",
    "\n",
    "# Add offshore wind values\n",
    "if 'Wind offshore' in powers:\n",
    "    column_names_1['Wind_offshore'] = ['unit', 'unit_availability_factor']\n",
    "    df_temp_1['Wind_offshore'] = df_wind_availabilityfactors_values['unit_availability_factor_offshore']\n",
    "    \n",
    "    # Fill NaNs on last day by copying previous day (only for leap years)\n",
    "    df_temp_1['Wind_offshore_shifted'] = df_temp_1['Wind_offshore'].shift(24)\n",
    "    df_temp_1['Wind_offshore'] = df_temp_1['Wind_offshore'].fillna(df_temp_1['Wind_offshore_shifted'])\n",
    "    df_temp_1 = df_temp_1.drop(columns=['Wind_offshore_shifted'])\n",
    "\n",
    "\n",
    "#Add chosen availability factors to one combined dataframe\n",
    "df_blank_table_1 = pd.DataFrame(column_names_1, index=None)\n",
    "df_time_series = pd.concat([df_blank_table_1, df_temp_1])\n",
    "\n",
    "# Show table head for control\n",
    "df_time_series.head()"
   ]
  },
  {
   "cell_type": "markdown",
   "id": "46e74f16-846f-4ba0-b9c6-869e32be6676",
   "metadata": {
    "papermill": {
     "duration": 0.016168,
     "end_time": "2024-10-04T14:11:15.236228",
     "exception": false,
     "start_time": "2024-10-04T14:11:15.220060",
     "status": "completed"
    },
    "tags": []
   },
   "source": [
    "#### Energy prices:"
   ]
  },
  {
   "cell_type": "code",
   "execution_count": 46,
   "id": "4679f8e3-8ce3-4f00-b57e-e3f1427db970",
   "metadata": {
    "execution": {
     "iopub.execute_input": "2024-10-04T14:11:15.272229Z",
     "iopub.status.busy": "2024-10-04T14:11:15.271216Z",
     "iopub.status.idle": "2024-10-04T14:11:15.295448Z",
     "shell.execute_reply": "2024-10-04T14:11:15.294448Z"
    },
    "papermill": {
     "duration": 0.045165,
     "end_time": "2024-10-04T14:11:15.297408",
     "exception": false,
     "start_time": "2024-10-04T14:11:15.252243",
     "status": "completed"
    },
    "tags": []
   },
   "outputs": [],
   "source": [
    "# Adjustments of power price variance\n",
    "\n",
    "# Calculate the current mean and variance\n",
    "mean = df_powerprices_values['SpotPriceEUR'].mean()\n",
    "current_variance = df_powerprices_values['SpotPriceEUR'].var()\n",
    "\n",
    "# Define the new desired variance \n",
    "desired_variance = current_variance * power_price_variance\n",
    "\n",
    "# Calculate the scaling factor\n",
    "scaling_factor = np.sqrt(desired_variance / current_variance)\n",
    "\n",
    "# Adjust the time series to achieve the new variance\n",
    "df_powerprices_values['SpotPriceEUR'] = mean + (df_powerprices_values['SpotPriceEUR'] - mean) * scaling_factor"
   ]
  },
  {
   "cell_type": "code",
   "execution_count": 47,
   "id": "a785d20b-2cbe-4f0b-8842-2878a3335580",
   "metadata": {
    "execution": {
     "iopub.execute_input": "2024-10-04T14:11:15.332457Z",
     "iopub.status.busy": "2024-10-04T14:11:15.332457Z",
     "iopub.status.idle": "2024-10-04T14:11:15.360495Z",
     "shell.execute_reply": "2024-10-04T14:11:15.355978Z"
    },
    "papermill": {
     "duration": 0.052156,
     "end_time": "2024-10-04T14:11:15.366575",
     "exception": false,
     "start_time": "2024-10-04T14:11:15.314419",
     "status": "completed"
    },
    "scrolled": true,
    "tags": []
   },
   "outputs": [],
   "source": [
    "# Create table\n",
    "column_names_2 = {'DateTime ' + area: ['relationship class','connection','node','parameter name'],\n",
    "                'Power_Wholesale_In': ['connection__from_node','power_line_Wholesale_Kasso','Power_Wholesale','connection_flow_cost'], \n",
    "                'Power_Wholesale_Out': ['connection__to_node','power_line_Wholesale_Kasso','Power_Wholesale','connection_flow_cost'], \n",
    "                'District_Heating': ['connection__to_node','pipeline_District_Heating','District_Heating','connection_flow_cost']}\n",
    "df_blank_table_2 = pd.DataFrame(column_names_2, index=None)\n",
    "\n",
    "# Add values\n",
    "df_temp_2 = pd.DataFrame(columns=['DateTime ' + area, 'Power_Wholesale_In', 'Power_Wholesale_Out', 'District_Heating'])\n",
    "\n",
    "df_temp_2['DateTime ' + area] = df_time\n",
    "df_temp_2['Power_Wholesale_In'] = price_level_power * df_powerprices_values['SpotPriceEUR']\n",
    "df_temp_2['Power_Wholesale_Out'] = -1 * price_level_power * df_powerprices_values['SpotPriceEUR']\n",
    "df_temp_2['District_Heating'] = -1 * df_district_heating_price[str(year)].loc[2] * share_of_dh_price_cap\n",
    "\n",
    "df_table_2 = pd.concat([df_blank_table_2, df_temp_2], ignore_index=True)"
   ]
  },
  {
   "cell_type": "code",
   "execution_count": 48,
   "id": "5cca46fa",
   "metadata": {
    "execution": {
     "iopub.execute_input": "2024-10-04T14:11:15.415721Z",
     "iopub.status.busy": "2024-10-04T14:11:15.415721Z",
     "iopub.status.idle": "2024-10-04T14:11:15.450405Z",
     "shell.execute_reply": "2024-10-04T14:11:15.448392Z"
    },
    "papermill": {
     "duration": 0.056433,
     "end_time": "2024-10-04T14:11:15.454154",
     "exception": false,
     "start_time": "2024-10-04T14:11:15.397721",
     "status": "completed"
    },
    "tags": []
   },
   "outputs": [
    {
     "data": {
      "text/html": [
       "<div>\n",
       "<style scoped>\n",
       "    .dataframe tbody tr th:only-of-type {\n",
       "        vertical-align: middle;\n",
       "    }\n",
       "\n",
       "    .dataframe tbody tr th {\n",
       "        vertical-align: top;\n",
       "    }\n",
       "\n",
       "    .dataframe thead th {\n",
       "        text-align: right;\n",
       "    }\n",
       "</style>\n",
       "<table border=\"1\" class=\"dataframe\">\n",
       "  <thead>\n",
       "    <tr style=\"text-align: right;\">\n",
       "      <th></th>\n",
       "      <th>DateTime DK1</th>\n",
       "      <th>Power_Wholesale_In</th>\n",
       "      <th>Power_Wholesale_Out</th>\n",
       "      <th>District_Heating</th>\n",
       "      <th>Grid_costs_consumption</th>\n",
       "      <th>Grid_costs_production</th>\n",
       "    </tr>\n",
       "  </thead>\n",
       "  <tbody>\n",
       "    <tr>\n",
       "      <th>0</th>\n",
       "      <td>relationship class</td>\n",
       "      <td>connection__from_node</td>\n",
       "      <td>connection__to_node</td>\n",
       "      <td>connection__to_node</td>\n",
       "      <td>connection__to_node</td>\n",
       "      <td>connection__from_node</td>\n",
       "    </tr>\n",
       "    <tr>\n",
       "      <th>1</th>\n",
       "      <td>connection</td>\n",
       "      <td>power_line_Wholesale_Kasso</td>\n",
       "      <td>power_line_Wholesale_Kasso</td>\n",
       "      <td>pipeline_District_Heating</td>\n",
       "      <td>power_line_Wholesale_Kasso</td>\n",
       "      <td>power_line_Wholesale_Kasso</td>\n",
       "    </tr>\n",
       "    <tr>\n",
       "      <th>2</th>\n",
       "      <td>node</td>\n",
       "      <td>Power_Wholesale</td>\n",
       "      <td>Power_Wholesale</td>\n",
       "      <td>District_Heating</td>\n",
       "      <td>Power_Kasso</td>\n",
       "      <td>Power_Kasso</td>\n",
       "    </tr>\n",
       "    <tr>\n",
       "      <th>3</th>\n",
       "      <td>parameter name</td>\n",
       "      <td>connection_flow_cost</td>\n",
       "      <td>connection_flow_cost</td>\n",
       "      <td>connection_flow_cost</td>\n",
       "      <td>connection_flow_cost</td>\n",
       "      <td>connection_flow_cost</td>\n",
       "    </tr>\n",
       "    <tr>\n",
       "      <th>4</th>\n",
       "      <td>2019-01-01T00:00:00</td>\n",
       "      <td>28.32</td>\n",
       "      <td>-28.32</td>\n",
       "      <td>-18.579088</td>\n",
       "      <td>1</td>\n",
       "      <td>0.5</td>\n",
       "    </tr>\n",
       "  </tbody>\n",
       "</table>\n",
       "</div>"
      ],
      "text/plain": [
       "          DateTime DK1          Power_Wholesale_In  \\\n",
       "0   relationship class       connection__from_node   \n",
       "1           connection  power_line_Wholesale_Kasso   \n",
       "2                 node             Power_Wholesale   \n",
       "3       parameter name        connection_flow_cost   \n",
       "4  2019-01-01T00:00:00                       28.32   \n",
       "\n",
       "          Power_Wholesale_Out           District_Heating  \\\n",
       "0         connection__to_node        connection__to_node   \n",
       "1  power_line_Wholesale_Kasso  pipeline_District_Heating   \n",
       "2             Power_Wholesale           District_Heating   \n",
       "3        connection_flow_cost       connection_flow_cost   \n",
       "4                      -28.32                 -18.579088   \n",
       "\n",
       "       Grid_costs_consumption       Grid_costs_production  \n",
       "0         connection__to_node       connection__from_node  \n",
       "1  power_line_Wholesale_Kasso  power_line_Wholesale_Kasso  \n",
       "2                 Power_Kasso                 Power_Kasso  \n",
       "3        connection_flow_cost        connection_flow_cost  \n",
       "4                           1                         0.5  "
      ]
     },
     "execution_count": 48,
     "metadata": {},
     "output_type": "execute_result"
    }
   ],
   "source": [
    "# Add grid costs for consumption and production\n",
    "# Create table\n",
    "column_names_3 = {'Grid_costs_consumption': ['connection__to_node', 'power_line_Wholesale_Kasso', 'Power_Kasso', 'connection_flow_cost'],\n",
    "                 'Grid_costs_production': ['connection__from_node', 'power_line_Wholesale_Kasso', 'Power_Kasso', 'connection_flow_cost']}\n",
    "df_blank_table_3 = pd.DataFrame(column_names_3, index=None)\n",
    "\n",
    "# Add values\n",
    "df_temp_3 = pd.DataFrame(columns=['Grid_costs_consumption', 'Grid_costs_production'])\n",
    "\n",
    "df_temp_3['Grid_costs_consumption'] = df_grid_costs['consumption costs']\n",
    "df_temp_3['Grid_costs_production'] = df_grid_costs['production costs']\n",
    "\n",
    "df_table_3 = pd.concat([df_blank_table_3, df_temp_3], ignore_index = True)\n",
    "\n",
    "# Merge all energy prices\n",
    "df_energy_prices = pd.concat([df_table_2, df_table_3], axis = 1)\n",
    "\n",
    "# Show table head for control\n",
    "df_energy_prices.head()"
   ]
  },
  {
   "cell_type": "markdown",
   "id": "0c6190d8",
   "metadata": {
    "papermill": {
     "duration": 0.018004,
     "end_time": "2024-10-04T14:11:15.490687",
     "exception": false,
     "start_time": "2024-10-04T14:11:15.472683",
     "status": "completed"
    },
    "tags": []
   },
   "source": [
    "#### Units on costs:"
   ]
  },
  {
   "cell_type": "code",
   "execution_count": 49,
   "id": "f1031bc3",
   "metadata": {
    "execution": {
     "iopub.execute_input": "2024-10-04T14:11:15.527686Z",
     "iopub.status.busy": "2024-10-04T14:11:15.527686Z",
     "iopub.status.idle": "2024-10-04T14:11:15.560531Z",
     "shell.execute_reply": "2024-10-04T14:11:15.559576Z"
    },
    "papermill": {
     "duration": 0.054358,
     "end_time": "2024-10-04T14:11:15.562043",
     "exception": false,
     "start_time": "2024-10-04T14:11:15.507685",
     "status": "completed"
    },
    "tags": []
   },
   "outputs": [
    {
     "data": {
      "text/html": [
       "<div>\n",
       "<style scoped>\n",
       "    .dataframe tbody tr th:only-of-type {\n",
       "        vertical-align: middle;\n",
       "    }\n",
       "\n",
       "    .dataframe tbody tr th {\n",
       "        vertical-align: top;\n",
       "    }\n",
       "\n",
       "    .dataframe thead th {\n",
       "        text-align: right;\n",
       "    }\n",
       "</style>\n",
       "<table border=\"1\" class=\"dataframe\">\n",
       "  <thead>\n",
       "    <tr style=\"text-align: right;\">\n",
       "      <th></th>\n",
       "      <th>DateTime DK1</th>\n",
       "      <th>Solar_Plant</th>\n",
       "      <th>Methanol_Reactor</th>\n",
       "    </tr>\n",
       "  </thead>\n",
       "  <tbody>\n",
       "    <tr>\n",
       "      <th>0</th>\n",
       "      <td>None</td>\n",
       "      <td>unit</td>\n",
       "      <td>unit</td>\n",
       "    </tr>\n",
       "    <tr>\n",
       "      <th>1</th>\n",
       "      <td>None</td>\n",
       "      <td>unit_availability_factor</td>\n",
       "      <td>units_on_cost</td>\n",
       "    </tr>\n",
       "    <tr>\n",
       "      <th>2</th>\n",
       "      <td>2019-01-01T00:00:00</td>\n",
       "      <td>0.0</td>\n",
       "      <td>28.32</td>\n",
       "    </tr>\n",
       "    <tr>\n",
       "      <th>3</th>\n",
       "      <td>2019-01-01T01:00:00</td>\n",
       "      <td>0.0</td>\n",
       "      <td>10.07</td>\n",
       "    </tr>\n",
       "    <tr>\n",
       "      <th>4</th>\n",
       "      <td>2019-01-01T02:00:00</td>\n",
       "      <td>0.0</td>\n",
       "      <td>-4.08</td>\n",
       "    </tr>\n",
       "  </tbody>\n",
       "</table>\n",
       "</div>"
      ],
      "text/plain": [
       "          DateTime DK1               Solar_Plant Methanol_Reactor\n",
       "0                 None                      unit             unit\n",
       "1                 None  unit_availability_factor    units_on_cost\n",
       "2  2019-01-01T00:00:00                       0.0            28.32\n",
       "3  2019-01-01T01:00:00                       0.0            10.07\n",
       "4  2019-01-01T02:00:00                       0.0            -4.08"
      ]
     },
     "execution_count": 49,
     "metadata": {},
     "output_type": "execute_result"
    }
   ],
   "source": [
    "# Add units on costs for all units that have either min_down_time, ramp_up/down_limits, or start_up/shut_down limits/costs\n",
    "# Filter units_parameter_df and df_object__node\n",
    "cost_parameters = ['min_down_time', 'min_up_time', 'shut_down_cost', 'start_up_cost', \n",
    "                   'ramp_down_limit', 'ramp_up_limit', 'start_up_limit', 'shut_down_limit']\n",
    "filtered_units_parameter_df = unit_parameters_df[unit_parameters_df['Parameter'].isin(cost_parameters)]\n",
    "filtered_df_object__node = df_object__node[df_object__node['Parameter'].isin(cost_parameters)]\n",
    "\n",
    "combined_object_names = pd.concat([filtered_units_parameter_df['Object_name'], filtered_df_object__node['Object_name']])\n",
    "unique_objects = combined_object_names.unique()\n",
    "\n",
    "# Check if they already have a units_on_cost value other than 0\n",
    "non_zero_units_df = unit_parameters_df[(unit_parameters_df['Parameter'] == 'units_on_cost') & \n",
    "                                       (unit_parameters_df['Value'] != 0.0)]\n",
    "non_zero_units = non_zero_units_df['Object_name'].unique()\n",
    "\n",
    "# Remove units_on_cost = 0 from unit_parameters_df if in unique_objects\n",
    "unit_parameters_df = unit_parameters_df[~(\n",
    "    (unit_parameters_df['Parameter'] == 'units_on_cost') & \n",
    "    (unit_parameters_df['Value'] == 0) & \n",
    "    (unit_parameters_df['Object_name'].isin(unique_objects))\n",
    ")]\n",
    "\n",
    "unique_units = [unit for unit in unique_objects if unit not in non_zero_units]\n",
    "\n",
    "# Create new columns for each unique unit in df_time_series\n",
    "for unit in unique_units:\n",
    "    unit_data = [\"unit\", \"units_on_cost\"]\n",
    "    \n",
    "    power_data = df_temp_2['Power_Wholesale_In'].tolist()\n",
    "    \n",
    "    #df_time_series[unit] = unit_data + power_data\n",
    "    # Reset the index of df_time_series to avoid non-unique index error\n",
    "    df_time_series = df_time_series.reset_index(drop=True)\n",
    "    # Create a temporary DataFrame for the new column\n",
    "    new_column = pd.DataFrame({unit: unit_data + power_data})\n",
    "    # Ensure the new column has the same length as df_time_series\n",
    "    new_column = new_column.reindex(df_time_series.index)\n",
    "    # Use pd.concat to add new columns without overwriting existing ones\n",
    "    df_time_series = pd.concat([df_time_series, new_column], axis=1)\n",
    "\n",
    "\n",
    "# Show table head for control\n",
    "df_time_series.head()"
   ]
  },
  {
   "cell_type": "markdown",
   "id": "df00bdab-f254-437f-b78d-d32b19e2f9db",
   "metadata": {
    "papermill": {
     "duration": 0.017083,
     "end_time": "2024-10-04T14:11:15.596126",
     "exception": false,
     "start_time": "2024-10-04T14:11:15.579043",
     "status": "completed"
    },
    "tags": []
   },
   "source": [
    "#### Time Series Storage:"
   ]
  },
  {
   "cell_type": "code",
   "execution_count": 50,
   "id": "d5e2a8a3",
   "metadata": {
    "execution": {
     "iopub.execute_input": "2024-10-04T14:11:15.633174Z",
     "iopub.status.busy": "2024-10-04T14:11:15.632142Z",
     "iopub.status.idle": "2024-10-04T14:11:15.656392Z",
     "shell.execute_reply": "2024-10-04T14:11:15.655367Z"
    },
    "papermill": {
     "duration": 0.046273,
     "end_time": "2024-10-04T14:11:15.659444",
     "exception": false,
     "start_time": "2024-10-04T14:11:15.613171",
     "status": "completed"
    },
    "tags": []
   },
   "outputs": [
    {
     "name": "stderr",
     "output_type": "stream",
     "text": [
      "C:\\Users\\jfg.eco\\AppData\\Local\\Temp\\ipykernel_13148\\1391295776.py:4: FutureWarning: 'H' is deprecated and will be removed in a future version, please use 'h' instead.\n",
      "  date_index_beginning = pd.date_range(start=before, end=start_date, freq='H')\n"
     ]
    },
    {
     "data": {
      "text/html": [
       "<div>\n",
       "<style scoped>\n",
       "    .dataframe tbody tr th:only-of-type {\n",
       "        vertical-align: middle;\n",
       "    }\n",
       "\n",
       "    .dataframe tbody tr th {\n",
       "        vertical-align: top;\n",
       "    }\n",
       "\n",
       "    .dataframe thead th {\n",
       "        text-align: right;\n",
       "    }\n",
       "</style>\n",
       "<table border=\"1\" class=\"dataframe\">\n",
       "  <thead>\n",
       "    <tr style=\"text-align: right;\">\n",
       "      <th></th>\n",
       "      <th>DateTime</th>\n",
       "      <th>Hydrogen_storage_Kasso</th>\n",
       "      <th>E-Methanol_storage_Kasso</th>\n",
       "    </tr>\n",
       "  </thead>\n",
       "  <tbody>\n",
       "    <tr>\n",
       "      <th>0</th>\n",
       "      <td>NaN</td>\n",
       "      <td>fix_node_state</td>\n",
       "      <td>fix_node_state</td>\n",
       "    </tr>\n",
       "    <tr>\n",
       "      <th>1</th>\n",
       "      <td>2018-12-31T23:00:00</td>\n",
       "      <td>0</td>\n",
       "      <td>0</td>\n",
       "    </tr>\n",
       "    <tr>\n",
       "      <th>2</th>\n",
       "      <td>2019-01-01T00:00:00</td>\n",
       "      <td>NaN</td>\n",
       "      <td>NaN</td>\n",
       "    </tr>\n",
       "  </tbody>\n",
       "</table>\n",
       "</div>"
      ],
      "text/plain": [
       "              DateTime Hydrogen_storage_Kasso E-Methanol_storage_Kasso\n",
       "0                  NaN         fix_node_state           fix_node_state\n",
       "1  2018-12-31T23:00:00                      0                        0\n",
       "2  2019-01-01T00:00:00                    NaN                      NaN"
      ]
     },
     "execution_count": 50,
     "metadata": {},
     "output_type": "execute_result"
    }
   ],
   "source": [
    "# Date index\n",
    "start_date = pd.to_datetime(start_date)\n",
    "before = start_date-timedelta(hours=1)\n",
    "date_index_beginning = pd.date_range(start=before, end=start_date, freq='H')\n",
    "formatted_beginning = date_index_beginning.strftime('%Y-%m-%dT%H:%M:%S')\n",
    "df_formatted_beginning = pd.DataFrame(formatted_beginning, columns=['DateTime'])\n",
    "df_time_beginning = pd.DataFrame(df_formatted_beginning)\n",
    "# Add one blank row\n",
    "new_row = pd.Series([])\n",
    "df_time_beginning = pd.concat([pd.DataFrame([new_row]), df_time_beginning]).reset_index(drop=True)\n",
    "\n",
    "# Concat raw data with time index\n",
    "storage_values = df_model_storages.iloc[:,[0, 1, 2, 6]]\n",
    "storage_values = storage_values.iloc[:, [0, 3, 1, 2]]\n",
    "storage_values_transposed = storage_values.T\n",
    "storage_values_transposed.columns = storage_values_transposed.iloc[0]\n",
    "storage_values_transposed = storage_values_transposed[1:]\n",
    "storage_values_transposed.reset_index(drop=True, inplace=True)\n",
    "\n",
    "df_storage = pd.concat([df_time_beginning, storage_values_transposed], axis=1)\n",
    "\n",
    "# Show table head for control\n",
    "df_storage.head()"
   ]
  },
  {
   "cell_type": "markdown",
   "id": "18dfbf3e-1928-4547-8b3a-dac782ca46a3",
   "metadata": {
    "papermill": {
     "duration": 0.016996,
     "end_time": "2024-10-04T14:11:15.692996",
     "exception": false,
     "start_time": "2024-10-04T14:11:15.676000",
     "status": "completed"
    },
    "tags": []
   },
   "source": [
    "## Creating one combined excel and export"
   ]
  },
  {
   "cell_type": "code",
   "execution_count": 51,
   "id": "5523a4cd-ad6f-44d6-993d-3ebaf00680c2",
   "metadata": {
    "execution": {
     "iopub.execute_input": "2024-10-04T14:11:15.730996Z",
     "iopub.status.busy": "2024-10-04T14:11:15.729961Z",
     "iopub.status.idle": "2024-10-04T14:11:18.106366Z",
     "shell.execute_reply": "2024-10-04T14:11:18.104365Z"
    },
    "papermill": {
     "duration": 2.396374,
     "end_time": "2024-10-04T14:11:18.108394",
     "exception": false,
     "start_time": "2024-10-04T14:11:15.712020",
     "status": "completed"
    },
    "tags": []
   },
   "outputs": [],
   "source": [
    "# Create the prepared input excel for the use in SpineToolbox\n",
    "with pd.ExcelWriter(output_file_path + output_file_name) as writer:\n",
    "    df_definition.to_excel(writer, sheet_name='Definition', index=False)\n",
    "    unit_parameters_rest_df.to_excel(writer, sheet_name='Definition_parameters', index=False)\n",
    "    unit_parameters_duration_df.to_excel(writer, sheet_name='Definition_parameters_duration', index=False)\n",
    "    df_units_inv_parameters.to_excel(writer, sheet_name='Unit_Inv_Parameters', index=False)\n",
    "    df_nodes.to_excel(writer, sheet_name='Nodes', index=False)\n",
    "    df_connections_inv_parameters.to_excel(writer, sheet_name='Connection_Inv_Parameters', index=False)\n",
    "    df_object__node_definitions.to_excel(writer, sheet_name='Object__to_from_node_definition', index=False)\n",
    "    df_object__node_values.to_excel(writer, sheet_name='Object__to_from_node', index=False)\n",
    "    df_boolean_relations.to_excel(writer, sheet_name='Boolean_relations', index=False)\n",
    "    df_object_node_node.to_excel(writer, sheet_name='Object__node_node', index=False)\n",
    "    df_variable_eff_def.to_excel(writer, sheet_name='Variable_Eff_Definition', index=False)\n",
    "    df_variable_efficiency.to_excel(writer, sheet_name='Variable_Eff', index=False)\n",
    "    df_operating_points.to_excel(writer, sheet_name='Operating_points', index=False)\n",
    "    df_storage.to_excel(writer, sheet_name='Time_series_storage', index=False)\n",
    "    df_time_series.to_excel(writer, sheet_name='Time_series', index=False)\n",
    "    df_energy_prices.to_excel(writer, sheet_name='Energy_prices', index=False)\n",
    "    df_model_components.to_excel(writer, sheet_name='Model_components', index=False)\n",
    "    df_model_relations.to_excel(writer, sheet_name='Model_relations', index=False)\n",
    "    df_model.to_excel(writer, sheet_name='Model', index=False)\n",
    "    df_temporal_relations.to_excel(writer, sheet_name='Temporal_relations', index=False)"
   ]
  },
  {
   "cell_type": "code",
   "execution_count": 52,
   "id": "7ecfd010-a65f-4cfc-8ec2-a7d3bbded502",
   "metadata": {
    "execution": {
     "iopub.execute_input": "2024-10-04T14:11:18.145618Z",
     "iopub.status.busy": "2024-10-04T14:11:18.145618Z",
     "iopub.status.idle": "2024-10-04T14:11:18.184983Z",
     "shell.execute_reply": "2024-10-04T14:11:18.183322Z"
    },
    "papermill": {
     "duration": 0.059398,
     "end_time": "2024-10-04T14:11:18.186020",
     "exception": false,
     "start_time": "2024-10-04T14:11:18.126622",
     "status": "completed"
    },
    "tags": []
   },
   "outputs": [],
   "source": [
    "# Create output of the mapping excel\n",
    "with pd.ExcelWriter(output_file_path + output_mapping_file_name) as writer:\n",
    "    df_model_object_mapping.to_excel(writer, sheet_name='Object_Mapping', index=False)"
   ]
  },
  {
   "cell_type": "code",
   "execution_count": 53,
   "id": "6fd66540-33e4-4200-8c13-6ee0ed292334",
   "metadata": {
    "execution": {
     "iopub.execute_input": "2024-10-04T14:11:18.225924Z",
     "iopub.status.busy": "2024-10-04T14:11:18.225924Z",
     "iopub.status.idle": "2024-10-04T14:11:18.264884Z",
     "shell.execute_reply": "2024-10-04T14:11:18.262797Z"
    },
    "papermill": {
     "duration": 0.059912,
     "end_time": "2024-10-04T14:11:18.266895",
     "exception": false,
     "start_time": "2024-10-04T14:11:18.206983",
     "status": "completed"
    },
    "tags": []
   },
   "outputs": [],
   "source": [
    "# Copy efficiency\n",
    "other_name = \"other.xlsx\"\n",
    "with pd.ExcelWriter(output_file_path + other_name) as writer:\n",
    "    df_efficiency_electrolyzer_adj.to_excel(writer, sheet_name='efficiency', index=False)"
   ]
  }
 ],
 "metadata": {
  "kernelspec": {
   "display_name": "Python 3 (ipykernel)",
   "language": "python",
   "name": "python3"
  },
  "language_info": {
   "codemirror_mode": {
    "name": "ipython",
    "version": 3
   },
   "file_extension": ".py",
   "mimetype": "text/x-python",
   "name": "python",
   "nbconvert_exporter": "python",
   "pygments_lexer": "ipython3",
   "version": "3.9.18"
  },
  "papermill": {
   "default_parameters": {},
   "duration": 21.005572,
   "end_time": "2024-10-04T14:11:18.627288",
   "environment_variables": {},
   "exception": null,
   "input_path": "00_functions\\data_preparation_nord_h2ub_spine.ipynb",
   "output_path": "00_functions\\please_ignore.ipynb",
   "parameters": {},
   "start_time": "2024-10-04T14:10:57.621716",
   "version": "2.6.0"
  }
 },
 "nbformat": 4,
 "nbformat_minor": 5
}