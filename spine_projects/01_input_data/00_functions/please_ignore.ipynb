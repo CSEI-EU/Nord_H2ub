{
 "cells": [
  {
   "cell_type": "markdown",
   "id": "43ea4b8f-0ba4-4513-8872-53f4a538a0d3",
   "metadata": {
    "papermill": {
     "duration": 0.031248,
     "end_time": "2024-08-25T18:49:23.792226",
     "exception": false,
     "start_time": "2024-08-25T18:49:23.760978",
     "status": "completed"
    },
    "tags": []
   },
   "source": [
    "# Data Preparation for the Nord_H2ub Spine Model"
   ]
  },
  {
   "cell_type": "markdown",
   "id": "1aa86773-4431-4a2f-9490-4b3cf0aa8d70",
   "metadata": {
    "papermill": {
     "duration": 0.031255,
     "end_time": "2024-08-25T18:49:23.861247",
     "exception": false,
     "start_time": "2024-08-25T18:49:23.829992",
     "status": "completed"
    },
    "tags": []
   },
   "source": [
    "This jupyter notebook contains all routines for the preparation of the input data sources into a input data file for the model in Spine. \n",
    "\n",
    "**Authors:** Johannes Giehl (jfg.eco@cbs.dk), Dana Hentschel (djh.eco@cbs.dk)"
   ]
  },
  {
   "cell_type": "markdown",
   "id": "eb8175ae-f246-4788-a309-c1a4890992f2",
   "metadata": {
    "papermill": {
     "duration": 0.037766,
     "end_time": "2024-08-25T18:49:23.930261",
     "exception": false,
     "start_time": "2024-08-25T18:49:23.892495",
     "status": "completed"
    },
    "tags": []
   },
   "source": [
    "## General settings"
   ]
  },
  {
   "cell_type": "markdown",
   "id": "5bc68f78-3383-4889-bd9e-8b3e3e2f6c2e",
   "metadata": {
    "papermill": {
     "duration": 0.046873,
     "end_time": "2024-08-25T18:49:24.024017",
     "exception": false,
     "start_time": "2024-08-25T18:49:23.977144",
     "status": "completed"
    },
    "tags": []
   },
   "source": [
    "### Packages:"
   ]
  },
  {
   "cell_type": "code",
   "execution_count": 1,
   "id": "f8f47a1c-073f-46c0-8a4d-7dafb1716b9b",
   "metadata": {
    "execution": {
     "iopub.execute_input": "2024-08-25T18:49:24.093756Z",
     "iopub.status.busy": "2024-08-25T18:49:24.093756Z",
     "iopub.status.idle": "2024-08-25T18:49:27.084026Z",
     "shell.execute_reply": "2024-08-25T18:49:27.084026Z"
    },
    "papermill": {
     "duration": 3.02803,
     "end_time": "2024-08-25T18:49:27.090541",
     "exception": false,
     "start_time": "2024-08-25T18:49:24.062511",
     "status": "completed"
    },
    "tags": []
   },
   "outputs": [],
   "source": [
    "import numpy as np\n",
    "import pandas as pd\n",
    "import matplotlib.pyplot as plt\n",
    "from datetime import timedelta\n",
    "import math\n",
    "import sys\n",
    "import os\n",
    "import pickle"
   ]
  },
  {
   "cell_type": "markdown",
   "id": "92141795-3716-404e-8e35-a096dcaa0c40",
   "metadata": {
    "papermill": {
     "duration": 0.031251,
     "end_time": "2024-08-25T18:49:27.137420",
     "exception": false,
     "start_time": "2024-08-25T18:49:27.106169",
     "status": "completed"
    },
    "tags": []
   },
   "source": [
    "### Methods:"
   ]
  },
  {
   "cell_type": "code",
   "execution_count": 2,
   "id": "23418a81-7e7c-47c4-afc1-805a5eb7aed1",
   "metadata": {
    "execution": {
     "iopub.execute_input": "2024-08-25T18:49:27.190812Z",
     "iopub.status.busy": "2024-08-25T18:49:27.190812Z",
     "iopub.status.idle": "2024-08-25T18:49:27.222069Z",
     "shell.execute_reply": "2024-08-25T18:49:27.222069Z"
    },
    "papermill": {
     "duration": 0.0534,
     "end_time": "2024-08-25T18:49:27.222069",
     "exception": false,
     "start_time": "2024-08-25T18:49:27.168669",
     "status": "completed"
    },
    "tags": []
   },
   "outputs": [],
   "source": [
    "#import the data preparation functions\n",
    "# Determine the current working directory\n",
    "module_path = os.getcwd()\n",
    "\n",
    "if os.path.basename(module_path) != '00_functions':\n",
    "# Set the module path (adjust the relative path if necessary)\n",
    "    module_path = os.path.abspath(os.path.join(module_path, '00_functions'))\n",
    "    if module_path not in sys.path:\n",
    "        sys.path.append(module_path)\n",
    "\n",
    "#load the functions and methods from the corresponding file\n",
    "from nord_h2ub_data_preparation_functions import *\n",
    "from nord_h2ub_data_preparation_main_functions import *"
   ]
  },
  {
   "cell_type": "markdown",
   "id": "3e50630f-868b-40f0-842e-c74d936b5d54",
   "metadata": {
    "papermill": {
     "duration": 0.037765,
     "end_time": "2024-08-25T18:49:27.291081",
     "exception": false,
     "start_time": "2024-08-25T18:49:27.253316",
     "status": "completed"
    },
    "tags": []
   },
   "source": [
    "### Base parameters"
   ]
  },
  {
   "cell_type": "code",
   "execution_count": 3,
   "id": "f557c73c",
   "metadata": {
    "execution": {
     "iopub.execute_input": "2024-08-25T18:49:27.369212Z",
     "iopub.status.busy": "2024-08-25T18:49:27.369212Z",
     "iopub.status.idle": "2024-08-25T18:49:27.422603Z",
     "shell.execute_reply": "2024-08-25T18:49:27.422603Z"
    },
    "papermill": {
     "duration": 0.100267,
     "end_time": "2024-08-25T18:49:27.422603",
     "exception": false,
     "start_time": "2024-08-25T18:49:27.322336",
     "status": "completed"
    },
    "tags": []
   },
   "outputs": [],
   "source": [
    "with open(os.path.join(module_path, 'parameters.pkl'), 'rb') as file:\n",
    "    parameters = pickle.load(file)\n",
    "\n",
    "### Comment: when testing in this notebook, please remove '00_functions\\\\'"
   ]
  },
  {
   "cell_type": "code",
   "execution_count": 4,
   "id": "b565675a",
   "metadata": {
    "execution": {
     "iopub.execute_input": "2024-08-25T18:49:27.491616Z",
     "iopub.status.busy": "2024-08-25T18:49:27.491616Z",
     "iopub.status.idle": "2024-08-25T18:49:27.522870Z",
     "shell.execute_reply": "2024-08-25T18:49:27.522870Z"
    },
    "papermill": {
     "duration": 0.069016,
     "end_time": "2024-08-25T18:49:27.522870",
     "exception": false,
     "start_time": "2024-08-25T18:49:27.453854",
     "status": "completed"
    },
    "tags": []
   },
   "outputs": [],
   "source": [
    "if not parameters:  \n",
    "    print(\"Warning: No parameters were injected. Using default parameters only.\")\n",
    "    # Optionally, you could provide some default initialization here.\n",
    "\n",
    "(year, start_date, end_date, area, product, scenario, frequency, \n",
    "model_name, temporal_block, stochastic_scenario, stochastic_structure, \n",
    "report_name, reports, \n",
    "electrolyzer_type, des_segments_electrolyzer, \n",
    "share_of_dh_price_cap, price_level_power, power_price_variance, \n",
    "roll_forward_use, roll_forward_size, num_slices, datetime_index, \n",
    "candidate_nonzero, investment_period_default) = set_parameters(parameters)"
   ]
  },
  {
   "cell_type": "markdown",
   "id": "4c56b541-1fbd-4e7e-9cf3-2ff25f8da472",
   "metadata": {
    "papermill": {
     "duration": 0.037765,
     "end_time": "2024-08-25T18:49:27.591883",
     "exception": false,
     "start_time": "2024-08-25T18:49:27.554118",
     "status": "completed"
    },
    "tags": []
   },
   "source": [
    "### File paths"
   ]
  },
  {
   "cell_type": "code",
   "execution_count": 5,
   "id": "5b811bdc-ac7b-4cd7-8e32-8f84bda412a2",
   "metadata": {
    "execution": {
     "iopub.execute_input": "2024-08-25T18:49:27.670014Z",
     "iopub.status.busy": "2024-08-25T18:49:27.670014Z",
     "iopub.status.idle": "2024-08-25T18:49:27.685641Z",
     "shell.execute_reply": "2024-08-25T18:49:27.685641Z"
    },
    "papermill": {
     "duration": 0.062501,
     "end_time": "2024-08-25T18:49:27.685641",
     "exception": false,
     "start_time": "2024-08-25T18:49:27.623140",
     "status": "completed"
    },
    "tags": []
   },
   "outputs": [],
   "source": [
    "#set path to correct folders\n",
    "'''still not working if it is not started from this jupyter notebook'''\n",
    "#input data\n",
    "excel_file_path = get_excel_file_path() + '/01_input_raw/'\n",
    "#prepared input data\n",
    "output_file_path = get_excel_file_path() + '/02_input_prepared/'"
   ]
  },
  {
   "cell_type": "code",
   "execution_count": 6,
   "id": "89169e64-f204-47bb-9a83-17156a4aefa8",
   "metadata": {
    "execution": {
     "iopub.execute_input": "2024-08-25T18:49:27.754658Z",
     "iopub.status.busy": "2024-08-25T18:49:27.754658Z",
     "iopub.status.idle": "2024-08-25T18:49:27.785909Z",
     "shell.execute_reply": "2024-08-25T18:49:27.785909Z"
    },
    "papermill": {
     "duration": 0.069013,
     "end_time": "2024-08-25T18:49:27.792422",
     "exception": false,
     "start_time": "2024-08-25T18:49:27.723409",
     "status": "completed"
    },
    "tags": []
   },
   "outputs": [],
   "source": [
    "#set name of the relevant files\n",
    "\n",
    "Model_structure_file = '/Model_Data_Base.xlsx'\n",
    "efficiency_electrolyzer_file = '/Efficiency_Electrolyzers.xlsx'\n",
    "distric_heating_price_file = 'energy_prices/district_heating_price_cap.xlsx'\n",
    "investment_costs_file = '/Investment_cost_overview.xlsx'\n",
    "mapping_file = '/methanol_object_mapping.xlsx'\n",
    "\n",
    "PV_data_availabilityfactors = 'PV_availability_factors_Kasso.xlsx'\n",
    "data_powerprices = 'Day_ahead_prices_' + str(year) + '.xlsx'\n",
    "\n",
    "#output file\n",
    "output_file_name = product + '_Input_prepared.xlsx'\n",
    "output_mapping_file_name = product + '_object_mapping.xlsx'"
   ]
  },
  {
   "cell_type": "markdown",
   "id": "86d15fe8-064f-4c28-be28-8d924a4ba31b",
   "metadata": {
    "papermill": {
     "duration": 0.031248,
     "end_time": "2024-08-25T18:49:27.854927",
     "exception": false,
     "start_time": "2024-08-25T18:49:27.823679",
     "status": "completed"
    },
    "tags": []
   },
   "source": [
    "\n",
    "## Workflow of the data preparation"
   ]
  },
  {
   "cell_type": "markdown",
   "id": "ef6ad49f-470e-4b29-aa02-c7babb08befb",
   "metadata": {
    "papermill": {
     "duration": 0.015622,
     "end_time": "2024-08-25T18:49:27.886174",
     "exception": false,
     "start_time": "2024-08-25T18:49:27.870552",
     "status": "completed"
    },
    "tags": []
   },
   "source": [
    "### General parameters"
   ]
  },
  {
   "cell_type": "code",
   "execution_count": 7,
   "id": "c50f50c3-e43d-41c2-8158-75596632213b",
   "metadata": {
    "execution": {
     "iopub.execute_input": "2024-08-25T18:49:27.955194Z",
     "iopub.status.busy": "2024-08-25T18:49:27.955194Z",
     "iopub.status.idle": "2024-08-25T18:49:28.186980Z",
     "shell.execute_reply": "2024-08-25T18:49:28.186980Z"
    },
    "papermill": {
     "duration": 0.269557,
     "end_time": "2024-08-25T18:49:28.193498",
     "exception": false,
     "start_time": "2024-08-25T18:49:27.923941",
     "status": "completed"
    },
    "tags": []
   },
   "outputs": [],
   "source": [
    "#date index\n",
    "date_index = pd.date_range(start=start_date, end=end_date, freq='h')\n",
    "formatted_dates = date_index.strftime('%Y-%m-%dT%H:%M:%S')\n",
    "df_formatted_dates = pd.DataFrame(formatted_dates, columns=['DateTime'])\n",
    "\n",
    "df_time = pd.DataFrame(df_formatted_dates)"
   ]
  },
  {
   "cell_type": "markdown",
   "id": "88fb746a-7cd3-4655-88cf-ac543b003918",
   "metadata": {
    "papermill": {
     "duration": 0.046868,
     "end_time": "2024-08-25T18:49:28.271626",
     "exception": false,
     "start_time": "2024-08-25T18:49:28.224758",
     "status": "completed"
    },
    "tags": []
   },
   "source": [
    "### Data import"
   ]
  },
  {
   "cell_type": "code",
   "execution_count": 8,
   "id": "a42c5077-74ef-4f63-b6d9-4aa3c11aa878",
   "metadata": {
    "execution": {
     "iopub.execute_input": "2024-08-25T18:49:28.309396Z",
     "iopub.status.busy": "2024-08-25T18:49:28.309396Z",
     "iopub.status.idle": "2024-08-25T18:49:45.624847Z",
     "shell.execute_reply": "2024-08-25T18:49:45.624847Z"
    },
    "papermill": {
     "duration": 17.337595,
     "end_time": "2024-08-25T18:49:45.631360",
     "exception": false,
     "start_time": "2024-08-25T18:49:28.293765",
     "status": "completed"
    },
    "tags": []
   },
   "outputs": [
    {
     "name": "stderr",
     "output_type": "stream",
     "text": [
      "C:\\Users\\luc.eco\\AppData\\Local\\anaconda3\\envs\\py39\\lib\\site-packages\\openpyxl\\worksheet\\_reader.py:329: UserWarning: Data Validation extension is not supported and will be removed\n",
      "  warn(msg)\n",
      "C:\\Users\\luc.eco\\AppData\\Local\\anaconda3\\envs\\py39\\lib\\site-packages\\openpyxl\\worksheet\\_reader.py:329: UserWarning: Data Validation extension is not supported and will be removed\n",
      "  warn(msg)\n",
      "C:\\Users\\luc.eco\\AppData\\Local\\anaconda3\\envs\\py39\\lib\\site-packages\\openpyxl\\worksheet\\_reader.py:329: UserWarning: Data Validation extension is not supported and will be removed\n",
      "  warn(msg)\n"
     ]
    }
   ],
   "source": [
    "#read in the model structure from a new excel\n",
    "df_model_units_raw = pd.read_excel(excel_file_path + product + Model_structure_file, sheet_name='Units', index_col=None)\n",
    "df_model_connections_raw = pd.read_excel(excel_file_path + product + Model_structure_file, sheet_name='Connections', index_col=None)\n",
    "df_model_storages_raw = pd.read_excel(excel_file_path + product + Model_structure_file, sheet_name='Storages', index_col=None)\n",
    "#Variable efficiency\n",
    "df_efficiency_electrolyzer = pd.read_excel(excel_file_path + product + efficiency_electrolyzer_file, sheet_name='Efficiency_'+electrolyzer_type)\n",
    "#Availability factor\n",
    "df_PV_availabilityfactors_values = pd.read_excel(excel_file_path+PV_data_availabilityfactors, skiprows=2, usecols=[0,1,2,3,4,5])\n",
    "#Power prices\n",
    "df_powerprices_total_values = pd.read_excel(excel_file_path+data_powerprices)\n",
    "#only extracting the prices from our earlier defined area\n",
    "df_powerprices_values = df_powerprices_total_values[df_powerprices_total_values['PriceArea'] == area]\n",
    "df_powerprices_values = df_powerprices_values.reset_index(drop=True)\n",
    "#district heating prices\n",
    "df_district_heating_price = pd.read_excel(excel_file_path + distric_heating_price_file, sheet_name='Price_Cap_Calculation', index_col=None)\n",
    "#Investment costs\n",
    "df_investment_costs_raw = pd.read_excel(excel_file_path + product + investment_costs_file, sheet_name='Investment_Cost', index_col=None)\n",
    "#Mapping between entity and parameter name\n",
    "df_mapping = pd.read_excel(excel_file_path + product + mapping_file, sheet_name='Object_Mapping', index_col=None)"
   ]
  },
  {
   "cell_type": "markdown",
   "id": "c2693fc2-fe36-47a1-9b08-00f73dd53b9f",
   "metadata": {
    "papermill": {
     "duration": 0.036915,
     "end_time": "2024-08-25T18:49:45.711679",
     "exception": false,
     "start_time": "2024-08-25T18:49:45.674764",
     "status": "completed"
    },
    "tags": []
   },
   "source": [
    "### Adjustments"
   ]
  },
  {
   "cell_type": "markdown",
   "id": "28376bad-520d-4ab3-85ce-2d1cf91ac5e5",
   "metadata": {
    "papermill": {
     "duration": 0.046874,
     "end_time": "2024-08-25T18:49:45.793822",
     "exception": false,
     "start_time": "2024-08-25T18:49:45.746948",
     "status": "completed"
    },
    "tags": []
   },
   "source": [
    "#### Adjust base elements:"
   ]
  },
  {
   "cell_type": "code",
   "execution_count": 9,
   "id": "7dfe4eb9-681a-4574-8170-cdc08156460b",
   "metadata": {
    "execution": {
     "iopub.execute_input": "2024-08-25T18:49:45.862846Z",
     "iopub.status.busy": "2024-08-25T18:49:45.862846Z",
     "iopub.status.idle": "2024-08-25T18:49:45.909722Z",
     "shell.execute_reply": "2024-08-25T18:49:45.909722Z"
    },
    "papermill": {
     "duration": 0.084651,
     "end_time": "2024-08-25T18:49:45.909722",
     "exception": false,
     "start_time": "2024-08-25T18:49:45.825071",
     "status": "completed"
    },
    "tags": []
   },
   "outputs": [
    {
     "name": "stderr",
     "output_type": "stream",
     "text": [
      "C:\\Users\\luc.eco\\AppData\\Local\\Temp\\ipykernel_17608\\2161447612.py:11: SettingWithCopyWarning: \n",
      "A value is trying to be set on a copy of a slice from a DataFrame\n",
      "\n",
      "See the caveats in the documentation: https://pandas.pydata.org/pandas-docs/stable/user_guide/indexing.html#returning-a-view-versus-a-copy\n",
      "  df_model_units_mapping.rename(columns={'Unit': 'Object_Name'}, inplace=True)\n",
      "C:\\Users\\luc.eco\\AppData\\Local\\Temp\\ipykernel_17608\\2161447612.py:12: SettingWithCopyWarning: \n",
      "A value is trying to be set on a copy of a slice from a DataFrame\n",
      "\n",
      "See the caveats in the documentation: https://pandas.pydata.org/pandas-docs/stable/user_guide/indexing.html#returning-a-view-versus-a-copy\n",
      "  df_model_connections_mapping.rename(columns={'Connection': 'Object_Name'}, inplace=True)\n",
      "C:\\Users\\luc.eco\\AppData\\Local\\Temp\\ipykernel_17608\\2161447612.py:13: SettingWithCopyWarning: \n",
      "A value is trying to be set on a copy of a slice from a DataFrame\n",
      "\n",
      "See the caveats in the documentation: https://pandas.pydata.org/pandas-docs/stable/user_guide/indexing.html#returning-a-view-versus-a-copy\n",
      "  df_model_storages_mapping.rename(columns={'Storage': 'Object_Name'}, inplace=True)\n"
     ]
    }
   ],
   "source": [
    "#drop some unnecessary information\n",
    "df_model_units = df_model_units_raw.drop(columns = ['Object_type']).copy()\n",
    "df_model_connections = df_model_connections_raw.drop(columns = ['Object_type']).copy()\n",
    "df_model_storages = df_model_storages_raw.drop(columns = ['Object_type']).copy()\n",
    "\n",
    "#create mapping tables for object name to type\n",
    "df_model_units_mapping = df_model_units_raw[['Unit', 'Object_type']]\n",
    "df_model_connections_mapping = df_model_connections_raw[['Connection', 'Object_type']]\n",
    "df_model_storages_mapping = df_model_storages_raw[['Storage', 'Object_type']]\n",
    "\n",
    "df_model_units_mapping.rename(columns={'Unit': 'Object_Name'}, inplace=True)\n",
    "df_model_connections_mapping.rename(columns={'Connection': 'Object_Name'}, inplace=True)\n",
    "df_model_storages_mapping.rename(columns={'Storage': 'Object_Name'}, inplace=True)\n",
    "\n",
    "#create a dataframe with mapping of all object in the model\n",
    "df_model_object_mapping = pd.concat([df_model_units_mapping, df_model_connections_mapping, df_model_storages_mapping], axis=0)\n",
    "df_model_object_mapping = df_model_object_mapping.reset_index(drop=True)"
   ]
  },
  {
   "cell_type": "code",
   "execution_count": 10,
   "id": "582acf93-55ae-492a-ac60-bb447644e425",
   "metadata": {
    "execution": {
     "iopub.execute_input": "2024-08-25T18:49:45.978733Z",
     "iopub.status.busy": "2024-08-25T18:49:45.978733Z",
     "iopub.status.idle": "2024-08-25T18:49:46.009984Z",
     "shell.execute_reply": "2024-08-25T18:49:46.009984Z"
    },
    "papermill": {
     "duration": 0.062498,
     "end_time": "2024-08-25T18:49:46.009984",
     "exception": false,
     "start_time": "2024-08-25T18:49:45.947486",
     "status": "completed"
    },
    "tags": []
   },
   "outputs": [],
   "source": [
    "df_units = process_dataframe(df_model_units, 'Unit', 'unit')\n",
    "df_connections = process_dataframe(df_model_connections, 'Connection', 'connection')"
   ]
  },
  {
   "cell_type": "code",
   "execution_count": 11,
   "id": "28e86607-2ad3-4aa8-8bbd-3bee30a62970",
   "metadata": {
    "execution": {
     "iopub.execute_input": "2024-08-25T18:49:46.094625Z",
     "iopub.status.busy": "2024-08-25T18:49:46.079003Z",
     "iopub.status.idle": "2024-08-25T18:49:46.110249Z",
     "shell.execute_reply": "2024-08-25T18:49:46.110249Z"
    },
    "papermill": {
     "duration": 0.0625,
     "end_time": "2024-08-25T18:49:46.110249",
     "exception": false,
     "start_time": "2024-08-25T18:49:46.047749",
     "status": "completed"
    },
    "scrolled": true,
    "tags": []
   },
   "outputs": [],
   "source": [
    "#adjust the storage loss rate values to fit to the SpineOpt implementation\n",
    "df_model_storages = adjust_frac_state_loss(df_model_storages, 'frac_state_loss')"
   ]
  },
  {
   "cell_type": "code",
   "execution_count": 12,
   "id": "1f7ec120-9bbf-40af-ac29-9b429051d1a7",
   "metadata": {
    "execution": {
     "iopub.execute_input": "2024-08-25T18:49:46.194891Z",
     "iopub.status.busy": "2024-08-25T18:49:46.194891Z",
     "iopub.status.idle": "2024-08-25T18:49:46.226142Z",
     "shell.execute_reply": "2024-08-25T18:49:46.226142Z"
    },
    "papermill": {
     "duration": 0.084642,
     "end_time": "2024-08-25T18:49:46.232660",
     "exception": false,
     "start_time": "2024-08-25T18:49:46.148018",
     "status": "completed"
    },
    "tags": []
   },
   "outputs": [],
   "source": [
    "#define the elements of the network\n",
    "df_definition, df_nodes = create_definition_dataframe(df_model_units, df_model_connections)"
   ]
  },
  {
   "cell_type": "code",
   "execution_count": 13,
   "id": "f3c90d86-d62f-49aa-bf8c-a7ceec921d8b",
   "metadata": {
    "execution": {
     "iopub.execute_input": "2024-08-25T18:49:46.304852Z",
     "iopub.status.busy": "2024-08-25T18:49:46.304852Z",
     "iopub.status.idle": "2024-08-25T18:49:46.363755Z",
     "shell.execute_reply": "2024-08-25T18:49:46.363755Z"
    },
    "papermill": {
     "duration": 0.099838,
     "end_time": "2024-08-25T18:49:46.363755",
     "exception": false,
     "start_time": "2024-08-25T18:49:46.263917",
     "status": "completed"
    },
    "tags": []
   },
   "outputs": [
    {
     "name": "stderr",
     "output_type": "stream",
     "text": [
      "C:\\Users\\luc.eco\\OneDrive - CBS - Copenhagen Business School\\Documents\\GitHub\\Nord_H2ub\\Spine_Projects\\01_input_data\\00_functions\\nord_h2ub_data_preparation_functions.py:378: FutureWarning: The behavior of DataFrame concatenation with empty or all-NA entries is deprecated. In a future version, this will no longer exclude empty or all-NA columns when determining the result dtypes. To retain the old behavior, exclude the relevant entries before the concat operation.\n",
      "  unit_parameter_df = pd.concat([unit_parameter_df, pd.DataFrame([new_row])], ignore_index=True)\n",
      "C:\\Users\\luc.eco\\OneDrive - CBS - Copenhagen Business School\\Documents\\GitHub\\Nord_H2ub\\Spine_Projects\\01_input_data\\00_functions\\nord_h2ub_data_preparation_functions.py:378: FutureWarning: The behavior of DataFrame concatenation with empty or all-NA entries is deprecated. In a future version, this will no longer exclude empty or all-NA columns when determining the result dtypes. To retain the old behavior, exclude the relevant entries before the concat operation.\n",
      "  unit_parameter_df = pd.concat([unit_parameter_df, pd.DataFrame([new_row])], ignore_index=True)\n"
     ]
    }
   ],
   "source": [
    "#create a data frame for all parameters of units\n",
    "\n",
    "#add fixed operation and maintenance cost\n",
    "unit_fom_cost_df = create_unit_parameters(df_model_units, 'Unit', 'fom_cost')\n",
    "#add unit minimal downtime\n",
    "unit_min_down_time_df = create_unit_parameters(df_model_units, 'Unit', 'min_down_time')\n",
    "#add unit on cost\n",
    "unit_on_cost_df = create_unit_parameters(df_model_units, 'Unit', 'unit_on_cost')\n",
    "\n",
    "connection_fom_cost_df = create_unit_parameters(df_model_connections, 'Connection', 'fom_cost')\n",
    "\n",
    "#create a complete data frame with all parameters\n",
    "unit_parameters_df = pd.concat([unit_fom_cost_df, unit_on_cost_df, unit_min_down_time_df, connection_fom_cost_df], ignore_index=True)"
   ]
  },
  {
   "cell_type": "code",
   "execution_count": 14,
   "id": "470215f7-7b7f-45f3-a1b6-daa11589ff79",
   "metadata": {
    "execution": {
     "iopub.execute_input": "2024-08-25T18:49:46.432766Z",
     "iopub.status.busy": "2024-08-25T18:49:46.432766Z",
     "iopub.status.idle": "2024-08-25T18:49:46.464019Z",
     "shell.execute_reply": "2024-08-25T18:49:46.464019Z"
    },
    "papermill": {
     "duration": 0.069013,
     "end_time": "2024-08-25T18:49:46.464019",
     "exception": false,
     "start_time": "2024-08-25T18:49:46.395006",
     "status": "completed"
    },
    "tags": []
   },
   "outputs": [],
   "source": [
    "#create a new data frame for parameters that are given as durations\n",
    "#necessary as SpineToolbox needs a separate input to map the parameter correctly\n",
    "\n",
    "duration_parameter = 'min_down_time'\n",
    "unit_parameters_duration_df = unit_parameters_df[unit_parameters_df['parameter'] == duration_parameter]\n",
    "# Resetting the index\n",
    "unit_parameters_duration_df = unit_parameters_duration_df.reset_index(drop=True)\n",
    "\n",
    "# Creating another DataFrame with rows that do not meet the condition\n",
    "unit_parameters_rest_df = unit_parameters_df[unit_parameters_df['parameter'] != duration_parameter]"
   ]
  },
  {
   "cell_type": "code",
   "execution_count": 15,
   "id": "1d4e42d4-76d0-480d-b7b2-bdb413adfc55",
   "metadata": {
    "execution": {
     "iopub.execute_input": "2024-08-25T18:49:46.533030Z",
     "iopub.status.busy": "2024-08-25T18:49:46.533030Z",
     "iopub.status.idle": "2024-08-25T18:49:46.611160Z",
     "shell.execute_reply": "2024-08-25T18:49:46.611160Z"
    },
    "papermill": {
     "duration": 0.11589,
     "end_time": "2024-08-25T18:49:46.611160",
     "exception": false,
     "start_time": "2024-08-25T18:49:46.495270",
     "status": "completed"
    },
    "tags": []
   },
   "outputs": [],
   "source": [
    "#create the balance type of the nodes\n",
    "columns_to_select = ['Input1', 'Input2', 'Output1', 'Output2']\n",
    "df_combined = pd.concat([df_model_units, df_model_connections])\n",
    "df_combined = df_combined.reset_index(drop=True)\n",
    "\n",
    "df_nodes_network = create_connection_dataframe(df_combined, columns_to_select)\n",
    "\n",
    "# Get unique values from the 'in' column\n",
    "unique_in_values = df_nodes_network['in'].dropna().unique()\n",
    "\n",
    "# Identify values in 'in' column not present in 'out' column\n",
    "values_not_in_out = unique_in_values[~pd.Series(unique_in_values).isin(df_nodes_network['out'].dropna().unique())]\n",
    "\n",
    "# Get unique values from the 'in' column\n",
    "unique_out_values = df_nodes_network['out'].dropna().unique()\n",
    "\n",
    "# Identify values in 'in' column not present in 'out' column\n",
    "values_not_in_in = unique_out_values[~pd.Series(unique_out_values).isin(df_nodes_network['in'].dropna().unique())]\n",
    "\n",
    "#create list of unique nodes that are either start or end nodes\n",
    "unique_nodes = values_not_in_out.tolist() + values_not_in_in.tolist()\n",
    "unique_nodes\n",
    "\n",
    "df_nodes_network.replace(np.nan, None, inplace=True)\n",
    "\n",
    "#check for combinations that are mirrored\n",
    "mirrored_combinations = find_mirror_combinations(df_nodes_network)\n",
    "\n",
    "#get information of connections for each node\n",
    "partners_dict1 = find_partners(df_nodes_network)\n",
    "partners_dict2 = find_partners(mirrored_combinations)\n",
    "\n",
    "#check both lists if there are identical entries and list nodes that only have a connection to the same node\n",
    "#storages are removed as they must be balanced\n",
    "nodes_identical = find_identical_entries(partners_dict1, partners_dict2)\n",
    "\n",
    "#combined list of start and end nodes that should be unbalanced\n",
    "unbalanced_nodes = nodes_identical + unique_nodes\n",
    "\n",
    "df_nodes['balance_type'] = 'balance_type_node'\n",
    "df_nodes.loc[df_nodes['Object_Name'].isin(unbalanced_nodes), 'balance_type'] = 'balance_type_none'"
   ]
  },
  {
   "cell_type": "code",
   "execution_count": 16,
   "id": "0403b80a-9d3f-4557-bda6-2803650bea2d",
   "metadata": {
    "execution": {
     "iopub.execute_input": "2024-08-25T18:49:46.680175Z",
     "iopub.status.busy": "2024-08-25T18:49:46.680175Z",
     "iopub.status.idle": "2024-08-25T18:49:46.727047Z",
     "shell.execute_reply": "2024-08-25T18:49:46.727047Z"
    },
    "papermill": {
     "duration": 0.084639,
     "end_time": "2024-08-25T18:49:46.733562",
     "exception": false,
     "start_time": "2024-08-25T18:49:46.648923",
     "status": "completed"
    },
    "tags": []
   },
   "outputs": [],
   "source": [
    "#add has_state_node_state_cap and frac_state_loss\n",
    "df_storages_short = df_model_storages.loc[:, ['Storage', 'has_state', 'node_state_cap', 'frac_state_loss']].rename(columns={'Storage': 'Object_Name'})\n",
    "df_storages_short['has_state'] = df_storages_short['has_state'].astype(str).str.lower().replace('true', 'true')\n",
    "\n",
    "df_nodes = pd.merge(df_nodes, df_storages_short, on='Object_Name', how='left')\n",
    "df_nodes['demand'] = \"\""
   ]
  },
  {
   "cell_type": "code",
   "execution_count": 17,
   "id": "bb44a55f-bd0d-41f3-a96a-2fc67ae92a5e",
   "metadata": {
    "execution": {
     "iopub.execute_input": "2024-08-25T18:49:46.811689Z",
     "iopub.status.busy": "2024-08-25T18:49:46.811689Z",
     "iopub.status.idle": "2024-08-25T18:49:46.911965Z",
     "shell.execute_reply": "2024-08-25T18:49:46.911965Z"
    },
    "papermill": {
     "duration": 0.147148,
     "end_time": "2024-08-25T18:49:46.911965",
     "exception": false,
     "start_time": "2024-08-25T18:49:46.764817",
     "status": "completed"
    },
    "scrolled": true,
    "tags": []
   },
   "outputs": [
    {
     "data": {
      "text/html": [
       "<div>\n",
       "<style scoped>\n",
       "    .dataframe tbody tr th:only-of-type {\n",
       "        vertical-align: middle;\n",
       "    }\n",
       "\n",
       "    .dataframe tbody tr th {\n",
       "        vertical-align: top;\n",
       "    }\n",
       "\n",
       "    .dataframe thead th {\n",
       "        text-align: right;\n",
       "    }\n",
       "</style>\n",
       "<table border=\"1\" class=\"dataframe\">\n",
       "  <thead>\n",
       "    <tr style=\"text-align: right;\">\n",
       "      <th></th>\n",
       "      <th>Object_Name</th>\n",
       "      <th>Category</th>\n",
       "      <th>balance_type</th>\n",
       "      <th>has_state</th>\n",
       "      <th>node_state_cap</th>\n",
       "      <th>frac_state_loss</th>\n",
       "      <th>demand</th>\n",
       "      <th>node_slack_penalty</th>\n",
       "    </tr>\n",
       "  </thead>\n",
       "  <tbody>\n",
       "    <tr>\n",
       "      <th>0</th>\n",
       "      <td>Vaporized_Carbon_Dioxide</td>\n",
       "      <td>node</td>\n",
       "      <td>balance_type_node</td>\n",
       "      <td>NaN</td>\n",
       "      <td>NaN</td>\n",
       "      <td>NaN</td>\n",
       "      <td></td>\n",
       "      <td>1000000</td>\n",
       "    </tr>\n",
       "    <tr>\n",
       "      <th>1</th>\n",
       "      <td>E-Methanol_Kasso</td>\n",
       "      <td>node</td>\n",
       "      <td>balance_type_node</td>\n",
       "      <td>NaN</td>\n",
       "      <td>NaN</td>\n",
       "      <td>NaN</td>\n",
       "      <td></td>\n",
       "      <td>100000</td>\n",
       "    </tr>\n",
       "    <tr>\n",
       "      <th>2</th>\n",
       "      <td>Hydrogen_Kasso</td>\n",
       "      <td>node</td>\n",
       "      <td>balance_type_node</td>\n",
       "      <td>NaN</td>\n",
       "      <td>NaN</td>\n",
       "      <td>NaN</td>\n",
       "      <td></td>\n",
       "      <td>1000000</td>\n",
       "    </tr>\n",
       "    <tr>\n",
       "      <th>3</th>\n",
       "      <td>Power_Wholesale</td>\n",
       "      <td>node</td>\n",
       "      <td>balance_type_none</td>\n",
       "      <td>NaN</td>\n",
       "      <td>NaN</td>\n",
       "      <td>NaN</td>\n",
       "      <td></td>\n",
       "      <td></td>\n",
       "    </tr>\n",
       "    <tr>\n",
       "      <th>4</th>\n",
       "      <td>Power_Kasso</td>\n",
       "      <td>node</td>\n",
       "      <td>balance_type_node</td>\n",
       "      <td>NaN</td>\n",
       "      <td>NaN</td>\n",
       "      <td>NaN</td>\n",
       "      <td></td>\n",
       "      <td>1000000</td>\n",
       "    </tr>\n",
       "  </tbody>\n",
       "</table>\n",
       "</div>"
      ],
      "text/plain": [
       "                Object_Name Category       balance_type has_state  \\\n",
       "0  Vaporized_Carbon_Dioxide     node  balance_type_node       NaN   \n",
       "1          E-Methanol_Kasso     node  balance_type_node       NaN   \n",
       "2            Hydrogen_Kasso     node  balance_type_node       NaN   \n",
       "3           Power_Wholesale     node  balance_type_none       NaN   \n",
       "4               Power_Kasso     node  balance_type_node       NaN   \n",
       "\n",
       "   node_state_cap  frac_state_loss demand node_slack_penalty  \n",
       "0             NaN              NaN                   1000000  \n",
       "1             NaN              NaN                    100000  \n",
       "2             NaN              NaN                   1000000  \n",
       "3             NaN              NaN                            \n",
       "4             NaN              NaN                   1000000  "
      ]
     },
     "execution_count": 17,
     "metadata": {},
     "output_type": "execute_result"
    }
   ],
   "source": [
    "#create a dataframe with all nodes that should have a slack based on the unit input and outputs\n",
    "nodes_for_slack_df = check_entries_exist(df_model_units, 'node')\n",
    "#merge the information into the prepared data frame\n",
    "merged_df = pd.merge(df_nodes, nodes_for_slack_df, left_on='Object_Name', right_on='node', how='left')\n",
    "merged_df = merged_df.drop(columns=['node'])\n",
    "merged_df['node_slack_penalty'] = merged_df['node_slack_penalty'].replace({True: 1000000, False: ''})\n",
    "#create a dataframe with all nodes that should have a slack based on the connection input and outputs\n",
    "nodes_for_slack_df2 = check_entries_exist(df_model_connections, 'connection')\n",
    "#merge the information into the prepared data frame\n",
    "merged_df2 = pd.merge(df_nodes, nodes_for_slack_df2, left_on='Object_Name', right_on='connection', how='left')\n",
    "merged_df2 = merged_df2.drop(columns=['connection'])\n",
    "merged_df2['node_slack_penalty'] = merged_df2['node_slack_penalty'].replace({True: 100000, False: ''})\n",
    "#link the information about the slack of both data frames\n",
    "merged_df2['node_slack_penalty'] = merged_df['node_slack_penalty'].combine_first(merged_df2['node_slack_penalty'])\n",
    "#clean the information that only nodes with 'balance_type_node' have a penalty\n",
    "merged_df2.loc[merged_df2['balance_type'] == 'balance_type_none', 'node_slack_penalty'] = ''\n",
    "#add the information into the df_nodes\n",
    "df_nodes['node_slack_penalty'] = merged_df2['node_slack_penalty']\n",
    "\n",
    "#show table head for control\n",
    "df_nodes.head()"
   ]
  },
  {
   "cell_type": "markdown",
   "id": "c56d2046",
   "metadata": {
    "papermill": {
     "duration": 0.031253,
     "end_time": "2024-08-25T18:49:46.989684",
     "exception": false,
     "start_time": "2024-08-25T18:49:46.958431",
     "status": "completed"
    },
    "tags": []
   },
   "source": [
    "#### Investments:"
   ]
  },
  {
   "cell_type": "code",
   "execution_count": 18,
   "id": "51c20b9c",
   "metadata": {
    "execution": {
     "iopub.execute_input": "2024-08-25T18:49:47.080832Z",
     "iopub.status.busy": "2024-08-25T18:49:47.080832Z",
     "iopub.status.idle": "2024-08-25T18:49:47.149861Z",
     "shell.execute_reply": "2024-08-25T18:49:47.149861Z"
    },
    "papermill": {
     "duration": 0.115908,
     "end_time": "2024-08-25T18:49:47.149861",
     "exception": false,
     "start_time": "2024-08-25T18:49:47.033953",
     "status": "completed"
    },
    "tags": []
   },
   "outputs": [
    {
     "data": {
      "text/html": [
       "<div>\n",
       "<style scoped>\n",
       "    .dataframe tbody tr th:only-of-type {\n",
       "        vertical-align: middle;\n",
       "    }\n",
       "\n",
       "    .dataframe tbody tr th {\n",
       "        vertical-align: top;\n",
       "    }\n",
       "\n",
       "    .dataframe thead th {\n",
       "        text-align: right;\n",
       "    }\n",
       "</style>\n",
       "<table border=\"1\" class=\"dataframe\">\n",
       "  <thead>\n",
       "    <tr style=\"text-align: right;\">\n",
       "      <th></th>\n",
       "      <th>Object_Name</th>\n",
       "      <th>unit_investment_variable_type</th>\n",
       "      <th>initial_units_invested_available</th>\n",
       "      <th>number_of_units</th>\n",
       "      <th>candidate_units</th>\n",
       "      <th>unit_investment_cost</th>\n",
       "      <th>unit_investment_tech_lifetime</th>\n",
       "      <th>unit_investment_econ_lifetime</th>\n",
       "    </tr>\n",
       "  </thead>\n",
       "  <tbody>\n",
       "    <tr>\n",
       "      <th>0</th>\n",
       "      <td>Solar_Plant_Kasso</td>\n",
       "      <td>unit_investment_variable_type_continuous</td>\n",
       "      <td>0</td>\n",
       "      <td>1.0</td>\n",
       "      <td>1</td>\n",
       "      <td>170240000.0</td>\n",
       "      <td>365D</td>\n",
       "      <td>365D</td>\n",
       "    </tr>\n",
       "    <tr>\n",
       "      <th>1</th>\n",
       "      <td>Electrolyzer</td>\n",
       "      <td>unit_investment_variable_type_continuous</td>\n",
       "      <td>0</td>\n",
       "      <td>0.2</td>\n",
       "      <td>1</td>\n",
       "      <td>98800000.0</td>\n",
       "      <td>365D</td>\n",
       "      <td>365D</td>\n",
       "    </tr>\n",
       "    <tr>\n",
       "      <th>2</th>\n",
       "      <td>CO2_Vaporizer</td>\n",
       "      <td>unit_investment_variable_type_continuous</td>\n",
       "      <td>0</td>\n",
       "      <td>0.2</td>\n",
       "      <td>1</td>\n",
       "      <td>190000000.0</td>\n",
       "      <td>365D</td>\n",
       "      <td>365D</td>\n",
       "    </tr>\n",
       "    <tr>\n",
       "      <th>3</th>\n",
       "      <td>Destilation_Tower</td>\n",
       "      <td>unit_investment_variable_type_continuous</td>\n",
       "      <td>0</td>\n",
       "      <td>0.2</td>\n",
       "      <td>1</td>\n",
       "      <td>150800000.0</td>\n",
       "      <td>365D</td>\n",
       "      <td>365D</td>\n",
       "    </tr>\n",
       "    <tr>\n",
       "      <th>4</th>\n",
       "      <td>Methanol_Reactor</td>\n",
       "      <td>unit_investment_variable_type_continuous</td>\n",
       "      <td>0</td>\n",
       "      <td>0.2</td>\n",
       "      <td>1</td>\n",
       "      <td>26000000.0</td>\n",
       "      <td>365D</td>\n",
       "      <td>365D</td>\n",
       "    </tr>\n",
       "    <tr>\n",
       "      <th>5</th>\n",
       "      <td>Steam_Plant</td>\n",
       "      <td>unit_investment_variable_type_continuous</td>\n",
       "      <td>0</td>\n",
       "      <td>0.2</td>\n",
       "      <td>1</td>\n",
       "      <td>135000000.0</td>\n",
       "      <td>365D</td>\n",
       "      <td>365D</td>\n",
       "    </tr>\n",
       "  </tbody>\n",
       "</table>\n",
       "</div>"
      ],
      "text/plain": [
       "         Object_Name             unit_investment_variable_type  \\\n",
       "0  Solar_Plant_Kasso  unit_investment_variable_type_continuous   \n",
       "1       Electrolyzer  unit_investment_variable_type_continuous   \n",
       "2      CO2_Vaporizer  unit_investment_variable_type_continuous   \n",
       "3  Destilation_Tower  unit_investment_variable_type_continuous   \n",
       "4   Methanol_Reactor  unit_investment_variable_type_continuous   \n",
       "5        Steam_Plant  unit_investment_variable_type_continuous   \n",
       "\n",
       "   initial_units_invested_available  number_of_units  candidate_units  \\\n",
       "0                                 0              1.0                1   \n",
       "1                                 0              0.2                1   \n",
       "2                                 0              0.2                1   \n",
       "3                                 0              0.2                1   \n",
       "4                                 0              0.2                1   \n",
       "5                                 0              0.2                1   \n",
       "\n",
       "   unit_investment_cost unit_investment_tech_lifetime  \\\n",
       "0           170240000.0                          365D   \n",
       "1            98800000.0                          365D   \n",
       "2           190000000.0                          365D   \n",
       "3           150800000.0                          365D   \n",
       "4            26000000.0                          365D   \n",
       "5           135000000.0                          365D   \n",
       "\n",
       "  unit_investment_econ_lifetime  \n",
       "0                          365D  \n",
       "1                          365D  \n",
       "2                          365D  \n",
       "3                          365D  \n",
       "4                          365D  \n",
       "5                          365D  "
      ]
     },
     "execution_count": 18,
     "metadata": {},
     "output_type": "execute_result"
    }
   ],
   "source": [
    "#Create a dataframe for the units' investment parameters\n",
    "df_units_inv_parameters = df_model_units.loc[:, ['Unit']].rename(columns={'Unit': 'Object_Name'})\n",
    "df_units_inv_parameters['unit_investment_variable_type'] = 'unit_investment_variable_type_continuous'\n",
    "df_units_inv_parameters['initial_units_invested_available'] = 0\n",
    "df_units_inv_parameters['number_of_units'] = df_model_units['number_of_units']\n",
    "df_units_inv_parameters['candidate_units'] = 1\n",
    "\n",
    "#Choose closest investment costs based on year\n",
    "year_columns = {int(col.split()[-1]): col for col in df_investment_costs_raw.columns if 'Value' in col}\n",
    "closest_year = min(year_columns.keys(), key=lambda x: abs(x - year))\n",
    "selected_column = year_columns[closest_year]\n",
    "\n",
    "#Scale investment costs from MW to unit\n",
    "df_units_inv_parameters['unit_investment_cost'] = df_investment_costs_raw[selected_column] * (df_model_units_raw['Cap_Input1_existing'].fillna(0)+df_model_units_raw['Cap_Output1_existing'].fillna(0))\n",
    "\n",
    "df_units_inv_parameters['unit_investment_tech_lifetime'] = df_model_units['unit_investment_tech_lifetime']\n",
    "\n",
    "# Add economical investment lifetime and set to same value as the technical lifetime\n",
    "df_units_inv_parameters['unit_investment_econ_lifetime'] = df_units_inv_parameters['unit_investment_tech_lifetime']\n",
    "\n",
    "df_units_inv_parameters"
   ]
  },
  {
   "cell_type": "code",
   "execution_count": 19,
   "id": "114da0ef",
   "metadata": {
    "execution": {
     "iopub.execute_input": "2024-08-25T18:49:47.250131Z",
     "iopub.status.busy": "2024-08-25T18:49:47.250131Z",
     "iopub.status.idle": "2024-08-25T18:49:47.328254Z",
     "shell.execute_reply": "2024-08-25T18:49:47.328254Z"
    },
    "papermill": {
     "duration": 0.153659,
     "end_time": "2024-08-25T18:49:47.334771",
     "exception": false,
     "start_time": "2024-08-25T18:49:47.181112",
     "status": "completed"
    },
    "tags": []
   },
   "outputs": [
    {
     "data": {
      "text/html": [
       "<div>\n",
       "<style scoped>\n",
       "    .dataframe tbody tr th:only-of-type {\n",
       "        vertical-align: middle;\n",
       "    }\n",
       "\n",
       "    .dataframe tbody tr th {\n",
       "        vertical-align: top;\n",
       "    }\n",
       "\n",
       "    .dataframe thead th {\n",
       "        text-align: right;\n",
       "    }\n",
       "</style>\n",
       "<table border=\"1\" class=\"dataframe\">\n",
       "  <thead>\n",
       "    <tr style=\"text-align: right;\">\n",
       "      <th></th>\n",
       "      <th>Object_name</th>\n",
       "      <th>Parameter_name</th>\n",
       "      <th>Connection_type</th>\n",
       "      <th>connection_investment_variable_type</th>\n",
       "      <th>initial_connections_invested_available</th>\n",
       "      <th>number_of_connections</th>\n",
       "      <th>candidate_connections</th>\n",
       "      <th>connection_investment_cost</th>\n",
       "      <th>connection_investment_tech_lifetime</th>\n",
       "      <th>connection_investment_econ_lifetime</th>\n",
       "    </tr>\n",
       "  </thead>\n",
       "  <tbody>\n",
       "    <tr>\n",
       "      <th>0</th>\n",
       "      <td>power_line_Wholesale_Kasso</td>\n",
       "      <td>connection_type</td>\n",
       "      <td>connection_type_lossless_bidirectional</td>\n",
       "      <td>connection_investment_variable_type_continuous</td>\n",
       "      <td>0</td>\n",
       "      <td>0.1</td>\n",
       "      <td>1</td>\n",
       "      <td>0.0</td>\n",
       "      <td>365D</td>\n",
       "      <td>365D</td>\n",
       "    </tr>\n",
       "    <tr>\n",
       "      <th>1</th>\n",
       "      <td>pipeline_storage_hydrogen</td>\n",
       "      <td>connection_type</td>\n",
       "      <td>connection_type_normal</td>\n",
       "      <td>connection_investment_variable_type_continuous</td>\n",
       "      <td>0</td>\n",
       "      <td>0.1</td>\n",
       "      <td>1</td>\n",
       "      <td>0.0</td>\n",
       "      <td>365D</td>\n",
       "      <td>365D</td>\n",
       "    </tr>\n",
       "    <tr>\n",
       "      <th>2</th>\n",
       "      <td>pipeline_storage_e-methanol</td>\n",
       "      <td>connection_type</td>\n",
       "      <td>connection_type_normal</td>\n",
       "      <td>connection_investment_variable_type_continuous</td>\n",
       "      <td>0</td>\n",
       "      <td>0.1</td>\n",
       "      <td>1</td>\n",
       "      <td>0.0</td>\n",
       "      <td>365D</td>\n",
       "      <td>365D</td>\n",
       "    </tr>\n",
       "    <tr>\n",
       "      <th>3</th>\n",
       "      <td>pipeline_District_Heating</td>\n",
       "      <td>connection_type</td>\n",
       "      <td>connection_type_normal</td>\n",
       "      <td>connection_investment_variable_type_continuous</td>\n",
       "      <td>0</td>\n",
       "      <td>0.1</td>\n",
       "      <td>1</td>\n",
       "      <td>0.0</td>\n",
       "      <td>365D</td>\n",
       "      <td>365D</td>\n",
       "    </tr>\n",
       "  </tbody>\n",
       "</table>\n",
       "</div>"
      ],
      "text/plain": [
       "                   Object_name   Parameter_name  \\\n",
       "0   power_line_Wholesale_Kasso  connection_type   \n",
       "1    pipeline_storage_hydrogen  connection_type   \n",
       "2  pipeline_storage_e-methanol  connection_type   \n",
       "3    pipeline_District_Heating  connection_type   \n",
       "\n",
       "                          Connection_type  \\\n",
       "0  connection_type_lossless_bidirectional   \n",
       "1                  connection_type_normal   \n",
       "2                  connection_type_normal   \n",
       "3                  connection_type_normal   \n",
       "\n",
       "              connection_investment_variable_type  \\\n",
       "0  connection_investment_variable_type_continuous   \n",
       "1  connection_investment_variable_type_continuous   \n",
       "2  connection_investment_variable_type_continuous   \n",
       "3  connection_investment_variable_type_continuous   \n",
       "\n",
       "   initial_connections_invested_available  number_of_connections  \\\n",
       "0                                       0                    0.1   \n",
       "1                                       0                    0.1   \n",
       "2                                       0                    0.1   \n",
       "3                                       0                    0.1   \n",
       "\n",
       "   candidate_connections  connection_investment_cost  \\\n",
       "0                      1                         0.0   \n",
       "1                      1                         0.0   \n",
       "2                      1                         0.0   \n",
       "3                      1                         0.0   \n",
       "\n",
       "  connection_investment_tech_lifetime connection_investment_econ_lifetime  \n",
       "0                                365D                                365D  \n",
       "1                                365D                                365D  \n",
       "2                                365D                                365D  \n",
       "3                                365D                                365D  "
      ]
     },
     "execution_count": 19,
     "metadata": {},
     "output_type": "execute_result"
    }
   ],
   "source": [
    "#Create a dataframe for the connections' investment parameters\n",
    "df_connections_inv_parameters = df_model_connections.loc[:, ['Connection']].rename(columns = {'Connection': 'Object_name'})\n",
    "df_connections_inv_parameters['Parameter_name'] = 'connection_type'\n",
    "\n",
    "df_connections_inv_parameters['Connection_type'] = df_model_connections['Connection_type']\n",
    "df_connections_inv_parameters['connection_investment_variable_type'] = 'connection_investment_variable_type_continuous'\n",
    "\n",
    "df_connections_inv_parameters['initial_connections_invested_available'] = 0\n",
    "df_connections_inv_parameters['number_of_connections'] = df_model_connections['number_of_connections']\n",
    "df_connections_inv_parameters['candidate_connections'] = 1\n",
    "\n",
    "#Get investment costs\n",
    "connection_costs = pd.merge(df_model_connections_raw.loc[:, ['Connection','Object_type']], df_investment_costs_raw, on='Object_type')[['Connection','Object_type', selected_column]].rename(columns = {'Connection': 'Object_name'})\n",
    "df_connections_inv_parameters['connection_investment_cost'] = connection_costs[selected_column]\n",
    "\n",
    "#Scale investment costs from meter to connection\n",
    "df_connections_inv_parameters['connection_investment_cost'] = df_connections_inv_parameters['connection_investment_cost'] # * meter from dropdown menu\n",
    "\n",
    "df_connections_inv_parameters['connection_investment_tech_lifetime'] = df_model_connections['connection_investment_tech_lifetime']\n",
    "\n",
    "# Add economical investment lifetime and set to same value as the technical lifetime\n",
    "df_connections_inv_parameters['connection_investment_econ_lifetime'] = df_connections_inv_parameters['connection_investment_tech_lifetime']\n",
    "\n",
    "df_connections_inv_parameters"
   ]
  },
  {
   "cell_type": "code",
   "execution_count": 20,
   "id": "df403594",
   "metadata": {
    "execution": {
     "iopub.execute_input": "2024-08-25T18:49:47.412900Z",
     "iopub.status.busy": "2024-08-25T18:49:47.412900Z",
     "iopub.status.idle": "2024-08-25T18:49:47.450677Z",
     "shell.execute_reply": "2024-08-25T18:49:47.450677Z"
    },
    "papermill": {
     "duration": 0.084651,
     "end_time": "2024-08-25T18:49:47.450677",
     "exception": false,
     "start_time": "2024-08-25T18:49:47.366026",
     "status": "completed"
    },
    "tags": []
   },
   "outputs": [],
   "source": [
    "#add investments in storages\n",
    "df_storages_inv_parameters = df_model_storages.loc[:, ['Storage']].rename(columns={'Storage': 'Object_Name'})\n",
    "\n",
    "df_storages_inv_parameters['storage_investment_variable_type'] = 'storage_investment_variable_type_continuous'\n",
    "df_storages_inv_parameters['initial_storages_invested_available'] = 0\n",
    "df_storages_inv_parameters['number_of_storages'] = df_model_storages['number_of_storages']\n",
    "df_storages_inv_parameters['candidate_storages'] = 1\n",
    "\n",
    "#Get investment costs\n",
    "storage_costs = pd.merge(df_model_storages_raw.loc[:, ['Storage','Object_type']], df_investment_costs_raw, on='Object_type')[['Storage','Object_type', selected_column]].rename(columns = {'Storage': 'Object_name'})\n",
    "df_connections_inv_parameters['storage_investment_cost'] = connection_costs[selected_column]\n",
    "\n",
    "#Scale investment costs to max node state cap\n",
    "df_storages_inv_parameters['storage_investment_cost'] = df_connections_inv_parameters['storage_investment_cost'] * df_model_storages_raw['node_state_cap']\n",
    "\n",
    "df_storages_inv_parameters['storage_investment_tech_lifetime'] = df_model_storages['storage_investment_tech_lifetime']\n",
    "\n",
    "#Add economical investment lifetime\n",
    "df_storages_inv_parameters['storage_investment_econ_lifetime'] = df_storages_inv_parameters['storage_investment_tech_lifetime']\n",
    "\n",
    "#Add to node db\n",
    "df_nodes = pd.merge(df_nodes, df_storages_inv_parameters, on='Object_Name', how='left')"
   ]
  },
  {
   "cell_type": "markdown",
   "id": "c33f3dc6-ea13-486b-9860-6bd41f57b3a7",
   "metadata": {
    "papermill": {
     "duration": 0.046876,
     "end_time": "2024-08-25T18:49:47.528799",
     "exception": false,
     "start_time": "2024-08-25T18:49:47.481923",
     "status": "completed"
    },
    "tags": []
   },
   "source": [
    "#### Times series:"
   ]
  },
  {
   "cell_type": "code",
   "execution_count": 21,
   "id": "e60a7947-9d7f-480f-847a-f22419719660",
   "metadata": {
    "execution": {
     "iopub.execute_input": "2024-08-25T18:49:47.613446Z",
     "iopub.status.busy": "2024-08-25T18:49:47.613446Z",
     "iopub.status.idle": "2024-08-25T18:49:47.654239Z",
     "shell.execute_reply": "2024-08-25T18:49:47.651217Z"
    },
    "papermill": {
     "duration": 0.088677,
     "end_time": "2024-08-25T18:49:47.655248",
     "exception": false,
     "start_time": "2024-08-25T18:49:47.566571",
     "status": "completed"
    },
    "tags": []
   },
   "outputs": [],
   "source": [
    "#adjust PV columns names\n",
    "df_PV_availabilityfactors_values.rename(columns={'time': 'time [UTC]', \n",
    "                                                 'local_time': 'time [' + area + ']',\n",
    "                                                 'electricity': 'unit_availability_factor'}, inplace=True)\n",
    "df_powerprices_values.rename(columns={'HourUTC': 'time [UTC]', \n",
    "                                         'HourDK': 'time [' + area + ']'}, inplace=True)"
   ]
  },
  {
   "cell_type": "markdown",
   "id": "287b3c37-228f-47f0-a99e-2df1f87512d5",
   "metadata": {
    "papermill": {
     "duration": 0.049386,
     "end_time": "2024-08-25T18:49:47.735889",
     "exception": false,
     "start_time": "2024-08-25T18:49:47.686503",
     "status": "completed"
    },
    "tags": []
   },
   "source": [
    "## Fitting data into format"
   ]
  },
  {
   "cell_type": "markdown",
   "id": "1b527344-851f-47c0-a12e-72942d4176eb",
   "metadata": {
    "papermill": {
     "duration": 0.031246,
     "end_time": "2024-08-25T18:49:47.798394",
     "exception": false,
     "start_time": "2024-08-25T18:49:47.767148",
     "status": "completed"
    },
    "tags": []
   },
   "source": [
    "### Relationships:"
   ]
  },
  {
   "cell_type": "markdown",
   "id": "19ea16b2-0e98-4ca2-b6ec-aa840ac09d20",
   "metadata": {
    "papermill": {
     "duration": 0.046877,
     "end_time": "2024-08-25T18:49:47.883033",
     "exception": false,
     "start_time": "2024-08-25T18:49:47.836156",
     "status": "completed"
    },
    "tags": []
   },
   "source": [
    "#### Object__from/to_node:"
   ]
  },
  {
   "cell_type": "code",
   "execution_count": 22,
   "id": "2a4c5f93-8fa4-4d88-83f9-767f83ff7ed9",
   "metadata": {
    "execution": {
     "iopub.execute_input": "2024-08-25T18:49:47.952052Z",
     "iopub.status.busy": "2024-08-25T18:49:47.952052Z",
     "iopub.status.idle": "2024-08-25T18:49:47.983303Z",
     "shell.execute_reply": "2024-08-25T18:49:47.983303Z"
    },
    "papermill": {
     "duration": 0.069019,
     "end_time": "2024-08-25T18:49:47.983303",
     "exception": false,
     "start_time": "2024-08-25T18:49:47.914284",
     "status": "completed"
    },
    "tags": []
   },
   "outputs": [],
   "source": [
    "### UNITS ###\n",
    "df_unit_relation_parameter_data = pd.DataFrame(object_relationship_unit_nodes(df_model_units))"
   ]
  },
  {
   "cell_type": "code",
   "execution_count": 23,
   "id": "74ae88a6",
   "metadata": {
    "execution": {
     "iopub.execute_input": "2024-08-25T18:49:48.067948Z",
     "iopub.status.busy": "2024-08-25T18:49:48.067948Z",
     "iopub.status.idle": "2024-08-25T18:49:48.130446Z",
     "shell.execute_reply": "2024-08-25T18:49:48.130446Z"
    },
    "papermill": {
     "duration": 0.122408,
     "end_time": "2024-08-25T18:49:48.136960",
     "exception": false,
     "start_time": "2024-08-25T18:49:48.014552",
     "status": "completed"
    },
    "tags": []
   },
   "outputs": [],
   "source": [
    "#Add additional electricity connections if not already existent\n",
    "\n",
    "units = df_units.iloc[:, 0].tolist()\n",
    "length = len(units)\n",
    "data = {\n",
    "    \"Relationship_class_name\": [\"unit__from_node\"] * length,\n",
    "    \"Object_class\": [\"unit\"] * length,\n",
    "    \"Object_name\": units,\n",
    "    \"Node\": [\"Power_Kasso\"] * length\n",
    "}\n",
    "df_electricity = pd.DataFrame(data)\n",
    "\n",
    "units_with_from_node = df_unit_relation_parameter_data[df_unit_relation_parameter_data['Relationship_class_name'].str.contains('unit__from_node')]\n",
    "valid_object_names = units_with_from_node['Object_name']\n",
    "df_electricity_filtered = df_electricity[df_electricity['Object_name'].isin(valid_object_names)]\n",
    "\n",
    "merged_df = pd.merge(df_electricity_filtered, units_with_from_node, on=['Relationship_class_name', 'Object_class', 'Object_name', 'Node'], how='left', indicator=True)\n",
    "df_electricity_nodes = merged_df[merged_df['_merge'] == 'left_only'].drop(columns='_merge')\n",
    "\n",
    "df_unit_relation_parameter_data = pd.concat([df_unit_relation_parameter_data, df_electricity_nodes], ignore_index=True)"
   ]
  },
  {
   "cell_type": "code",
   "execution_count": 24,
   "id": "e92030e0-f252-49f5-b58c-defa9a0da163",
   "metadata": {
    "execution": {
     "iopub.execute_input": "2024-08-25T18:49:48.230716Z",
     "iopub.status.busy": "2024-08-25T18:49:48.215091Z",
     "iopub.status.idle": "2024-08-25T18:49:48.252861Z",
     "shell.execute_reply": "2024-08-25T18:49:48.252861Z"
    },
    "papermill": {
     "duration": 0.069018,
     "end_time": "2024-08-25T18:49:48.252861",
     "exception": false,
     "start_time": "2024-08-25T18:49:48.183843",
     "status": "completed"
    },
    "tags": []
   },
   "outputs": [],
   "source": [
    "### CONNECTIONS ###\n",
    "df_connection_relation_parameter_data = object_relationship_connection_nodes(df_model_connections)"
   ]
  },
  {
   "cell_type": "code",
   "execution_count": 25,
   "id": "65d8c41c-8fb4-4a60-883b-94b70f5ace80",
   "metadata": {
    "execution": {
     "iopub.execute_input": "2024-08-25T18:49:48.337500Z",
     "iopub.status.busy": "2024-08-25T18:49:48.337500Z",
     "iopub.status.idle": "2024-08-25T18:49:48.368754Z",
     "shell.execute_reply": "2024-08-25T18:49:48.368754Z"
    },
    "papermill": {
     "duration": 0.084644,
     "end_time": "2024-08-25T18:49:48.368754",
     "exception": false,
     "start_time": "2024-08-25T18:49:48.284110",
     "status": "completed"
    },
    "tags": []
   },
   "outputs": [
    {
     "data": {
      "text/html": [
       "<div>\n",
       "<style scoped>\n",
       "    .dataframe tbody tr th:only-of-type {\n",
       "        vertical-align: middle;\n",
       "    }\n",
       "\n",
       "    .dataframe tbody tr th {\n",
       "        vertical-align: top;\n",
       "    }\n",
       "\n",
       "    .dataframe thead th {\n",
       "        text-align: right;\n",
       "    }\n",
       "</style>\n",
       "<table border=\"1\" class=\"dataframe\">\n",
       "  <thead>\n",
       "    <tr style=\"text-align: right;\">\n",
       "      <th></th>\n",
       "      <th>Relationship_class_name</th>\n",
       "      <th>Object_class</th>\n",
       "      <th>Object_name</th>\n",
       "      <th>Node</th>\n",
       "      <th>Parameter</th>\n",
       "      <th>Value</th>\n",
       "    </tr>\n",
       "  </thead>\n",
       "  <tbody>\n",
       "    <tr>\n",
       "      <th>0</th>\n",
       "      <td>unit__to_node</td>\n",
       "      <td>unit</td>\n",
       "      <td>Solar_Plant_Kasso</td>\n",
       "      <td>Power_Kasso</td>\n",
       "      <td>unit_capacity</td>\n",
       "      <td>304.0</td>\n",
       "    </tr>\n",
       "    <tr>\n",
       "      <th>1</th>\n",
       "      <td>unit__from_node</td>\n",
       "      <td>unit</td>\n",
       "      <td>Electrolyzer</td>\n",
       "      <td>Power_Kasso</td>\n",
       "      <td>unit_capacity</td>\n",
       "      <td>52.0</td>\n",
       "    </tr>\n",
       "    <tr>\n",
       "      <th>2</th>\n",
       "      <td>unit__from_node</td>\n",
       "      <td>unit</td>\n",
       "      <td>Electrolyzer</td>\n",
       "      <td>Power_Kasso</td>\n",
       "      <td>minimum_operating_point</td>\n",
       "      <td>0.02</td>\n",
       "    </tr>\n",
       "    <tr>\n",
       "      <th>3</th>\n",
       "      <td>unit__to_node</td>\n",
       "      <td>unit</td>\n",
       "      <td>Electrolyzer</td>\n",
       "      <td>Hydrogen_Kasso</td>\n",
       "      <td></td>\n",
       "      <td></td>\n",
       "    </tr>\n",
       "    <tr>\n",
       "      <th>4</th>\n",
       "      <td>unit__from_node</td>\n",
       "      <td>unit</td>\n",
       "      <td>Electrolyzer</td>\n",
       "      <td>Water</td>\n",
       "      <td></td>\n",
       "      <td></td>\n",
       "    </tr>\n",
       "  </tbody>\n",
       "</table>\n",
       "</div>"
      ],
      "text/plain": [
       "  Relationship_class_name Object_class        Object_name            Node  \\\n",
       "0           unit__to_node         unit  Solar_Plant_Kasso     Power_Kasso   \n",
       "1         unit__from_node         unit       Electrolyzer     Power_Kasso   \n",
       "2         unit__from_node         unit       Electrolyzer     Power_Kasso   \n",
       "3           unit__to_node         unit       Electrolyzer  Hydrogen_Kasso   \n",
       "4         unit__from_node         unit       Electrolyzer           Water   \n",
       "\n",
       "                 Parameter  Value  \n",
       "0            unit_capacity  304.0  \n",
       "1            unit_capacity   52.0  \n",
       "2  minimum_operating_point   0.02  \n",
       "3                                  \n",
       "4                                  "
      ]
     },
     "execution_count": 25,
     "metadata": {},
     "output_type": "execute_result"
    }
   ],
   "source": [
    "#Create combined DataFrame:\n",
    "df_object__node = pd.concat([df_unit_relation_parameter_data, df_connection_relation_parameter_data])\n",
    "df_object__node = df_object__node.reset_index(drop=True)\n",
    "\n",
    "#show df head for control\n",
    "df_object__node.head()"
   ]
  },
  {
   "cell_type": "code",
   "execution_count": 26,
   "id": "36e1391f-d8cd-45dd-9867-7aefa0327740",
   "metadata": {
    "execution": {
     "iopub.execute_input": "2024-08-25T18:49:48.453399Z",
     "iopub.status.busy": "2024-08-25T18:49:48.453399Z",
     "iopub.status.idle": "2024-08-25T18:49:48.508217Z",
     "shell.execute_reply": "2024-08-25T18:49:48.508217Z"
    },
    "papermill": {
     "duration": 0.092586,
     "end_time": "2024-08-25T18:49:48.508217",
     "exception": false,
     "start_time": "2024-08-25T18:49:48.415631",
     "status": "completed"
    },
    "tags": []
   },
   "outputs": [
    {
     "data": {
      "text/html": [
       "<div>\n",
       "<style scoped>\n",
       "    .dataframe tbody tr th:only-of-type {\n",
       "        vertical-align: middle;\n",
       "    }\n",
       "\n",
       "    .dataframe tbody tr th {\n",
       "        vertical-align: top;\n",
       "    }\n",
       "\n",
       "    .dataframe thead th {\n",
       "        text-align: right;\n",
       "    }\n",
       "</style>\n",
       "<table border=\"1\" class=\"dataframe\">\n",
       "  <thead>\n",
       "    <tr style=\"text-align: right;\">\n",
       "      <th></th>\n",
       "      <th>Relationship_class_name</th>\n",
       "      <th>Object_class</th>\n",
       "      <th>Object_name</th>\n",
       "      <th>Node</th>\n",
       "    </tr>\n",
       "  </thead>\n",
       "  <tbody>\n",
       "    <tr>\n",
       "      <th>0</th>\n",
       "      <td>unit__to_node</td>\n",
       "      <td>unit</td>\n",
       "      <td>Solar_Plant_Kasso</td>\n",
       "      <td>Power_Kasso</td>\n",
       "    </tr>\n",
       "    <tr>\n",
       "      <th>1</th>\n",
       "      <td>unit__from_node</td>\n",
       "      <td>unit</td>\n",
       "      <td>Electrolyzer</td>\n",
       "      <td>Power_Kasso</td>\n",
       "    </tr>\n",
       "    <tr>\n",
       "      <th>2</th>\n",
       "      <td>unit__to_node</td>\n",
       "      <td>unit</td>\n",
       "      <td>Electrolyzer</td>\n",
       "      <td>Hydrogen_Kasso</td>\n",
       "    </tr>\n",
       "    <tr>\n",
       "      <th>3</th>\n",
       "      <td>unit__from_node</td>\n",
       "      <td>unit</td>\n",
       "      <td>Electrolyzer</td>\n",
       "      <td>Water</td>\n",
       "    </tr>\n",
       "    <tr>\n",
       "      <th>4</th>\n",
       "      <td>unit__to_node</td>\n",
       "      <td>unit</td>\n",
       "      <td>Electrolyzer</td>\n",
       "      <td>Waste_Heat</td>\n",
       "    </tr>\n",
       "  </tbody>\n",
       "</table>\n",
       "</div>"
      ],
      "text/plain": [
       "  Relationship_class_name Object_class        Object_name            Node\n",
       "0           unit__to_node         unit  Solar_Plant_Kasso     Power_Kasso\n",
       "1         unit__from_node         unit       Electrolyzer     Power_Kasso\n",
       "2           unit__to_node         unit       Electrolyzer  Hydrogen_Kasso\n",
       "3         unit__from_node         unit       Electrolyzer           Water\n",
       "4           unit__to_node         unit       Electrolyzer      Waste_Heat"
      ]
     },
     "execution_count": 26,
     "metadata": {},
     "output_type": "execute_result"
    }
   ],
   "source": [
    "#create a DataFrame for the definition of the object_node relationships\n",
    "df_object__node_definitions = pd.DataFrame(df_object__node[['Relationship_class_name', 'Object_class', 'Object_name', 'Node']])\n",
    "df_object__node_definitions = df_object__node_definitions.drop_duplicates()\n",
    "df_object__node_definitions = df_object__node_definitions.reset_index(drop=True)\n",
    "\n",
    "#to avoid import errors the connections  will be removed from the definitions df\n",
    "# Dropping rows where 'Object_class' is 'connection'\n",
    "df_object__node_definitions  = df_object__node_definitions [df_object__node_definitions ['Object_class'] != 'connection']\n",
    "\n",
    "# Drop rows where no parameters for the relationship are defined (column has missing values (NaN or None))\n",
    "drop_no_value_column = 'Parameter'\n",
    "df_object__node_values = df_object__node[df_object__node[drop_no_value_column] != '']\n",
    "df_object__node_definitions.head()"
   ]
  },
  {
   "cell_type": "markdown",
   "id": "9ebeb807-b807-4882-b8cd-67a174c8edbd",
   "metadata": {
    "papermill": {
     "duration": 0.03125,
     "end_time": "2024-08-25T18:49:48.584738",
     "exception": false,
     "start_time": "2024-08-25T18:49:48.553488",
     "status": "completed"
    },
    "tags": []
   },
   "source": [
    "#### Object__node_node:"
   ]
  },
  {
   "cell_type": "code",
   "execution_count": 27,
   "id": "1fd5a160-3f18-4656-82ee-484e7e703cc8",
   "metadata": {
    "execution": {
     "iopub.execute_input": "2024-08-25T18:49:48.669382Z",
     "iopub.status.busy": "2024-08-25T18:49:48.669382Z",
     "iopub.status.idle": "2024-08-25T18:49:48.854300Z",
     "shell.execute_reply": "2024-08-25T18:49:48.854300Z"
    },
    "papermill": {
     "duration": 0.216172,
     "end_time": "2024-08-25T18:49:48.854300",
     "exception": false,
     "start_time": "2024-08-25T18:49:48.638128",
     "status": "completed"
    },
    "tags": []
   },
   "outputs": [
    {
     "data": {
      "text/html": [
       "<div>\n",
       "<style scoped>\n",
       "    .dataframe tbody tr th:only-of-type {\n",
       "        vertical-align: middle;\n",
       "    }\n",
       "\n",
       "    .dataframe tbody tr th {\n",
       "        vertical-align: top;\n",
       "    }\n",
       "\n",
       "    .dataframe thead th {\n",
       "        text-align: right;\n",
       "    }\n",
       "</style>\n",
       "<table border=\"1\" class=\"dataframe\">\n",
       "  <thead>\n",
       "    <tr style=\"text-align: right;\">\n",
       "      <th></th>\n",
       "      <th>Relationship</th>\n",
       "      <th>Object_class</th>\n",
       "      <th>Object_name</th>\n",
       "      <th>Node1</th>\n",
       "      <th>Node2</th>\n",
       "      <th>Parameter</th>\n",
       "      <th>Value</th>\n",
       "    </tr>\n",
       "  </thead>\n",
       "  <tbody>\n",
       "    <tr>\n",
       "      <th>0</th>\n",
       "      <td>unit__node__node</td>\n",
       "      <td>unit</td>\n",
       "      <td>Electrolyzer</td>\n",
       "      <td>Power_Kasso</td>\n",
       "      <td>Water</td>\n",
       "      <td>fix_ratio_in_in_unit_flow</td>\n",
       "      <td>0.005850</td>\n",
       "    </tr>\n",
       "    <tr>\n",
       "      <th>1</th>\n",
       "      <td>unit__node__node</td>\n",
       "      <td>unit</td>\n",
       "      <td>CO2_Vaporizer</td>\n",
       "      <td>Power_Kasso</td>\n",
       "      <td>Carbon_Dioxide</td>\n",
       "      <td>fix_ratio_in_in_unit_flow</td>\n",
       "      <td>0.003601</td>\n",
       "    </tr>\n",
       "    <tr>\n",
       "      <th>2</th>\n",
       "      <td>unit__node__node</td>\n",
       "      <td>unit</td>\n",
       "      <td>Destilation_Tower</td>\n",
       "      <td>Raw_Methanol</td>\n",
       "      <td>Steam</td>\n",
       "      <td>fix_ratio_in_in_unit_flow</td>\n",
       "      <td>17.277902</td>\n",
       "    </tr>\n",
       "    <tr>\n",
       "      <th>3</th>\n",
       "      <td>unit__node__node</td>\n",
       "      <td>unit</td>\n",
       "      <td>Methanol_Reactor</td>\n",
       "      <td>Hydrogen_Kasso</td>\n",
       "      <td>Vaporized_Carbon_Dioxide</td>\n",
       "      <td>fix_ratio_in_in_unit_flow</td>\n",
       "      <td>5.173497</td>\n",
       "    </tr>\n",
       "    <tr>\n",
       "      <th>4</th>\n",
       "      <td>unit__node__node</td>\n",
       "      <td>unit</td>\n",
       "      <td>Steam_Plant</td>\n",
       "      <td>Power_Kasso</td>\n",
       "      <td>Water</td>\n",
       "      <td>fix_ratio_in_in_unit_flow</td>\n",
       "      <td>0.000724</td>\n",
       "    </tr>\n",
       "  </tbody>\n",
       "</table>\n",
       "</div>"
      ],
      "text/plain": [
       "       Relationship Object_class        Object_name           Node1  \\\n",
       "0  unit__node__node         unit       Electrolyzer     Power_Kasso   \n",
       "1  unit__node__node         unit      CO2_Vaporizer     Power_Kasso   \n",
       "2  unit__node__node         unit  Destilation_Tower    Raw_Methanol   \n",
       "3  unit__node__node         unit   Methanol_Reactor  Hydrogen_Kasso   \n",
       "4  unit__node__node         unit        Steam_Plant     Power_Kasso   \n",
       "\n",
       "                      Node2                  Parameter      Value  \n",
       "0                     Water  fix_ratio_in_in_unit_flow   0.005850  \n",
       "1            Carbon_Dioxide  fix_ratio_in_in_unit_flow   0.003601  \n",
       "2                     Steam  fix_ratio_in_in_unit_flow  17.277902  \n",
       "3  Vaporized_Carbon_Dioxide  fix_ratio_in_in_unit_flow   5.173497  \n",
       "4                     Water  fix_ratio_in_in_unit_flow   0.000724  "
      ]
     },
     "execution_count": 27,
     "metadata": {},
     "output_type": "execute_result"
    }
   ],
   "source": [
    "#Define which columns to check\n",
    "columns_In_In_Unit = ['Unit', 'Input1', 'Input2']\n",
    "columns_In_Out_Unit = ['Unit', 'Input1', 'Output1']\n",
    "columns_Out_Out_Unit = ['Unit', 'Output1', 'Output2']\n",
    "columns_In_In_Connection = ['Connection', 'Input1', 'Input2']\n",
    "columns_In_Out_Connection = ['Connection', 'Input1', 'Output1']\n",
    "columns_Out_Out_Connection = ['Connection', 'Output1', 'Output2']\n",
    "columns_Out_In_Connection = ['Connection', 'Output1', 'Input1']\n",
    "\n",
    "### UNITS ###\n",
    "#create list of tuples with values of cells + fix_ratio_XXX_XXX\n",
    "values_in_in_units = [('unit__node__node', 'unit', row[columns_In_In_Unit[0]], row[columns_In_In_Unit[1]], row[columns_In_In_Unit[2]], \n",
    "                       'fix_ratio_in_in_unit_flow', row['Relation_In_In']) \n",
    "                      if not pd.isnull(row[columns_In_In_Unit]).any() else (np.nan, np.nan, None) for _, row in df_model_units.iterrows() \n",
    "                      if not pd.isnull(row[columns_In_In_Unit]).any()]\n",
    "values_in_out_units = [('unit__node__node', 'unit', row[columns_In_Out_Unit[0]], row[columns_In_Out_Unit[1]], row[columns_In_Out_Unit[2]], \n",
    "                        'fix_ratio_in_out_unit_flow', row['Relation_In_Out']) \n",
    "                      if not pd.isnull(row[columns_In_Out_Unit]).any() else (np.nan, np.nan, None) for _, row in df_model_units.iterrows() \n",
    "                      if not pd.isnull(row[columns_In_Out_Unit]).any()]\n",
    "values_out_out_units = [('unit__node__node', 'unit', row[columns_Out_Out_Unit[0]], row[columns_Out_Out_Unit[1]], row[columns_Out_Out_Unit[2]], \n",
    "                         'fix_ratio_out_out_unit_flow', row['Relation_Out_Out']) \n",
    "                      if not pd.isnull(row[columns_Out_Out_Unit]).any() else (np.nan, np.nan, None) for _, row in df_model_units.iterrows() \n",
    "                      if not pd.isnull(row[columns_Out_Out_Unit]).any()]\n",
    "\n",
    "df_fix_ratio_in_in_units = pd.DataFrame(values_in_in_units, columns=['Relationship', 'Object_class', 'Object_name', 'Node1', \n",
    "                                                                     'Node2', 'Parameter', 'Value'])\n",
    "df_fix_ratio_in_out_units = pd.DataFrame(values_in_out_units, columns=['Relationship', 'Object_class', 'Object_name', 'Node1', \n",
    "                                                                       'Node2', 'Parameter', 'Value'])\n",
    "df_fix_ratio_out_out_units = pd.DataFrame(values_out_out_units, columns=['Relationship', 'Object_class', 'Object_name', 'Node1', \n",
    "                                                                         'Node2', 'Parameter', 'Value'])\n",
    "\n",
    "### CONNECTIONS ###\n",
    "values_in_in_connections = [('connection__node__node', 'connection', row[columns_In_In_Connection[0]], \n",
    "                             row[columns_In_In_Connection[1]], row[columns_In_In_Connection[2]], \n",
    "                             'fix_ratio_in_in_connection_flow', row['Relation_In_In']) \n",
    "                            if not pd.isnull(row[columns_In_In_Connection]).any() else (np.nan, np.nan, None) for _, row in df_model_connections.iterrows() \n",
    "                            if not pd.isnull(row[columns_In_In_Connection]).any()]\n",
    "#comment: connections_in_out are no longer supported by Spine, therefore the values get inverted\n",
    "values_in_out_connections_inverted = [('connection__node__node', 'connection', row[columns_In_Out_Connection[0]], \n",
    "                              row[columns_In_Out_Connection[1]], row[columns_In_Out_Connection[2]], \n",
    "                              'fix_ratio_out_in_connection_flow', 1/row['Relation_In_Out']) \n",
    "                             if not pd.isnull(row[columns_In_Out_Connection]).any() else (np.nan, np.nan, None) for _, row in df_model_connections.iterrows() \n",
    "                             if not pd.isnull(row[columns_In_Out_Connection]).any()]\n",
    "values_out_out_connections = [('connection__node__node', 'connection', row[columns_Out_Out_Connection[0]], \n",
    "                               row[columns_Out_Out_Connection[1]], row[columns_Out_Out_Connection[2]], \n",
    "                               'fix_ratio_out_out_connection_flow', row['Relation_Out_Out']) \n",
    "                              if not pd.isnull(row[columns_Out_Out_Connection]).any() else (np.nan, np.nan, None) for _, row in df_model_connections.iterrows() \n",
    "                              if not pd.isnull(row[columns_Out_Out_Connection]).any()]\n",
    "values_out_in_connections = [('connection__node__node', 'connection', row[columns_Out_In_Connection[0]], \n",
    "                               row[columns_Out_In_Connection[1]], row[columns_Out_In_Connection[2]], \n",
    "                               'fix_ratio_out_in_connection_flow', row['Relation_Out_In']) \n",
    "                              if not pd.isnull(row[columns_Out_In_Connection]).any() else (np.nan, np.nan, None) for _, row in df_model_connections.iterrows() \n",
    "                              if not pd.isnull(row[columns_Out_In_Connection]).any()]\n",
    "\n",
    "df_fix_ratio_in_in_connections = pd.DataFrame(values_in_in_connections, columns=['Relationship', 'Object_class', 'Object_name', 'Node1', \n",
    "                                                                                 'Node2', 'Parameter', 'Value'])\n",
    "df_fix_ratio_in_out_connections = pd.DataFrame(values_in_out_connections_inverted, columns=['Relationship', 'Object_class', 'Object_name', 'Node1', \n",
    "                                                                                   'Node2', 'Parameter', 'Value'])\n",
    "df_fix_ratio_out_out_connections = pd.DataFrame(values_out_out_connections, columns=['Relationship', 'Object_class', 'Object_name', 'Node1', \n",
    "                                                                                     'Node2', 'Parameter', 'Value'])\n",
    "df_fix_ratio_out_in_connections = pd.DataFrame(values_out_in_connections, columns=['Relationship', 'Object_class', 'Object_name', 'Node1', \n",
    "                                                                                     'Node2', 'Parameter', 'Value'])\n",
    "\n",
    "#create Object_node_node\n",
    "df_object_node_node = pd.concat([df_fix_ratio_in_in_units, df_fix_ratio_in_out_units, df_fix_ratio_out_out_units, \n",
    "                                df_fix_ratio_in_in_connections, df_fix_ratio_in_out_connections, \n",
    "                                df_fix_ratio_out_out_connections, df_fix_ratio_out_in_connections])\n",
    "df_object_node_node = df_object_node_node.reset_index(drop=True)\n",
    "\n",
    "df_object_node_node = df_object_node_node.dropna(subset=['Value'])\n",
    "df_object_node_node.head()"
   ]
  },
  {
   "cell_type": "code",
   "execution_count": 28,
   "id": "1388dfc3-fb27-4571-ba84-8593ea8413df",
   "metadata": {
    "execution": {
     "iopub.execute_input": "2024-08-25T18:49:48.938940Z",
     "iopub.status.busy": "2024-08-25T18:49:48.938940Z",
     "iopub.status.idle": "2024-08-25T18:49:48.985818Z",
     "shell.execute_reply": "2024-08-25T18:49:48.985818Z"
    },
    "papermill": {
     "duration": 0.084641,
     "end_time": "2024-08-25T18:49:48.985818",
     "exception": false,
     "start_time": "2024-08-25T18:49:48.901177",
     "status": "completed"
    },
    "tags": []
   },
   "outputs": [],
   "source": [
    "#for storages, the out_in_connetion is set in both directions\n",
    "\n",
    "# Step 1: Check if the 'Object_name' column contains the word 'storage'\n",
    "storage_condition = df_object_node_node['Object_name'].str.contains('storage', case=False)\n",
    "\n",
    "# Step 2: Check if the 'Parameter' column starts with 'fix_ratio_'\n",
    "parameter_condition = df_object_node_node['Parameter'].str.startswith('fix_ratio_')\n",
    "\n",
    "# Step 3: Combine both conditions\n",
    "combined_condition = storage_condition & parameter_condition\n",
    "\n",
    "# Step 2: Update the 'Parameter' column for rows that meet the condition\n",
    "df_object_node_node.loc[storage_condition, 'Parameter'] = 'fix_ratio_out_in_connection_flow'"
   ]
  },
  {
   "cell_type": "code",
   "execution_count": 29,
   "id": "3ecebeb7",
   "metadata": {
    "execution": {
     "iopub.execute_input": "2024-08-25T18:49:49.085758Z",
     "iopub.status.busy": "2024-08-25T18:49:49.085758Z",
     "iopub.status.idle": "2024-08-25T18:49:49.132632Z",
     "shell.execute_reply": "2024-08-25T18:49:49.132632Z"
    },
    "papermill": {
     "duration": 0.114286,
     "end_time": "2024-08-25T18:49:49.139147",
     "exception": false,
     "start_time": "2024-08-25T18:49:49.024861",
     "status": "completed"
    },
    "tags": []
   },
   "outputs": [],
   "source": [
    "### ADD UNIT__NODE__NODE RELATIONSHIPS FOR UNIT_IDLE_HEAT_RATE ###\n",
    "in_and_outputs = df_model_units[['Unit', 'Input1', 'Output1', 'unit_idle_heat_rate']].copy()\n",
    "length = len(in_and_outputs)\n",
    "data = {\n",
    "    \"Relationship\": [\"unit__node__node\"] * length,\n",
    "    \"Object_class\": [\"unit\"] * length,\n",
    "    \"Object_name\": in_and_outputs.iloc[:, 0].tolist(),\n",
    "    \"Node1\": [\"Power_Kasso\"] * length,\n",
    "    \"Node2\": in_and_outputs.iloc[:, 2].tolist(),\n",
    "    \"Parameter\": [\"unit_idle_heat_rate\"] * length,\n",
    "    \"Value\": in_and_outputs.iloc[:, 3].tolist()\n",
    "}\n",
    "df_idle_node_node = pd.DataFrame(data)\n",
    "#drop all rows that now have input and output of electricity\n",
    "df_electricity_node_node = df_idle_node_node[df_idle_node_node['Node1'] != df_idle_node_node['Node2']]\n",
    "#drop all rows that do not have a unit_idle_heat rate\n",
    "df_electricity_node_node = df_electricity_node_node.dropna(subset=['Value'])\n",
    "\n",
    "df_object_node_node = pd.concat([df_object_node_node, df_electricity_node_node], ignore_index=True)"
   ]
  },
  {
   "cell_type": "code",
   "execution_count": 30,
   "id": "07cf2ef3",
   "metadata": {
    "execution": {
     "iopub.execute_input": "2024-08-25T18:49:49.217281Z",
     "iopub.status.busy": "2024-08-25T18:49:49.217281Z",
     "iopub.status.idle": "2024-08-25T18:49:49.286298Z",
     "shell.execute_reply": "2024-08-25T18:49:49.286298Z"
    },
    "papermill": {
     "duration": 0.10027,
     "end_time": "2024-08-25T18:49:49.286298",
     "exception": false,
     "start_time": "2024-08-25T18:49:49.186028",
     "status": "completed"
    },
    "tags": []
   },
   "outputs": [
    {
     "data": {
      "text/html": [
       "<div>\n",
       "<style scoped>\n",
       "    .dataframe tbody tr th:only-of-type {\n",
       "        vertical-align: middle;\n",
       "    }\n",
       "\n",
       "    .dataframe tbody tr th {\n",
       "        vertical-align: top;\n",
       "    }\n",
       "\n",
       "    .dataframe thead th {\n",
       "        text-align: right;\n",
       "    }\n",
       "</style>\n",
       "<table border=\"1\" class=\"dataframe\">\n",
       "  <thead>\n",
       "    <tr style=\"text-align: right;\">\n",
       "      <th></th>\n",
       "      <th>Relationship</th>\n",
       "      <th>Object_class</th>\n",
       "      <th>Object_name</th>\n",
       "      <th>Node1</th>\n",
       "      <th>Node2</th>\n",
       "      <th>Parameter</th>\n",
       "      <th>Value</th>\n",
       "    </tr>\n",
       "  </thead>\n",
       "  <tbody>\n",
       "    <tr>\n",
       "      <th>0</th>\n",
       "      <td>unit__node__node</td>\n",
       "      <td>unit</td>\n",
       "      <td>Electrolyzer</td>\n",
       "      <td>Power_Kasso</td>\n",
       "      <td>Water</td>\n",
       "      <td>fix_ratio_in_in_unit_flow</td>\n",
       "      <td>0.005850</td>\n",
       "    </tr>\n",
       "    <tr>\n",
       "      <th>1</th>\n",
       "      <td>unit__node__node</td>\n",
       "      <td>unit</td>\n",
       "      <td>CO2_Vaporizer</td>\n",
       "      <td>Power_Kasso</td>\n",
       "      <td>Carbon_Dioxide</td>\n",
       "      <td>fix_ratio_in_in_unit_flow</td>\n",
       "      <td>0.003601</td>\n",
       "    </tr>\n",
       "    <tr>\n",
       "      <th>2</th>\n",
       "      <td>unit__node__node</td>\n",
       "      <td>unit</td>\n",
       "      <td>Destilation_Tower</td>\n",
       "      <td>Raw_Methanol</td>\n",
       "      <td>Steam</td>\n",
       "      <td>fix_ratio_in_in_unit_flow</td>\n",
       "      <td>17.277902</td>\n",
       "    </tr>\n",
       "    <tr>\n",
       "      <th>3</th>\n",
       "      <td>unit__node__node</td>\n",
       "      <td>unit</td>\n",
       "      <td>Methanol_Reactor</td>\n",
       "      <td>Hydrogen_Kasso</td>\n",
       "      <td>Vaporized_Carbon_Dioxide</td>\n",
       "      <td>fix_ratio_in_in_unit_flow</td>\n",
       "      <td>5.173497</td>\n",
       "    </tr>\n",
       "    <tr>\n",
       "      <th>4</th>\n",
       "      <td>unit__node__node</td>\n",
       "      <td>unit</td>\n",
       "      <td>Steam_Plant</td>\n",
       "      <td>Power_Kasso</td>\n",
       "      <td>Water</td>\n",
       "      <td>fix_ratio_in_in_unit_flow</td>\n",
       "      <td>0.000724</td>\n",
       "    </tr>\n",
       "  </tbody>\n",
       "</table>\n",
       "</div>"
      ],
      "text/plain": [
       "       Relationship Object_class        Object_name           Node1  \\\n",
       "0  unit__node__node         unit       Electrolyzer     Power_Kasso   \n",
       "1  unit__node__node         unit      CO2_Vaporizer     Power_Kasso   \n",
       "2  unit__node__node         unit  Destilation_Tower    Raw_Methanol   \n",
       "3  unit__node__node         unit   Methanol_Reactor  Hydrogen_Kasso   \n",
       "4  unit__node__node         unit        Steam_Plant     Power_Kasso   \n",
       "\n",
       "                      Node2                  Parameter      Value  \n",
       "0                     Water  fix_ratio_in_in_unit_flow   0.005850  \n",
       "1            Carbon_Dioxide  fix_ratio_in_in_unit_flow   0.003601  \n",
       "2                     Steam  fix_ratio_in_in_unit_flow  17.277902  \n",
       "3  Vaporized_Carbon_Dioxide  fix_ratio_in_in_unit_flow   5.173497  \n",
       "4                     Water  fix_ratio_in_in_unit_flow   0.000724  "
      ]
     },
     "execution_count": 30,
     "metadata": {},
     "output_type": "execute_result"
    }
   ],
   "source": [
    "### Add a unit_start_flow of 1 for all units with idle_heat_rate for it to work\n",
    "\n",
    "# First, find the units that require a unit_idle_heat_rate (have Power_Kasso and unit_idle_heat_rate in df_object_node_node)\n",
    "filtered_power_idleHR_df = df_object_node_node[(df_object_node_node['Node1'] == 'Power_Kasso') \n",
    "                & (df_object_node_node['Parameter'] == 'unit_idle_heat_rate')]\n",
    "\n",
    "# Filter out rows from filtered_df that already have a unit start flow\n",
    "existing_fix_start_flow = df_object_node_node[(df_object_node_node['Parameter'] == 'unit_start_flow') \n",
    "                    & (df_object_node_node['Node1'] == 'Power_Kasso')]\n",
    "filtered_power_idleHR_df = filtered_power_idleHR_df[~filtered_power_idleHR_df['Object_name'].isin(existing_fix_start_flow['Object_name'])]\n",
    "\n",
    "# Create new rows with the additional parameter of the unit start flow and the value of 1\n",
    "new_rows_start_flow = filtered_power_idleHR_df.copy()\n",
    "new_rows_start_flow['Parameter'] = 'unit_start_flow'\n",
    "new_rows_start_flow['Value'] = 1\n",
    "\n",
    "# Append new rows to the original DataFrame\n",
    "df_object_node_node = pd.concat([df_object_node_node, new_rows_start_flow], ignore_index=True)\n",
    "\n",
    "\n",
    "### Add a unit incremental heat rate of 0 for all units with idle_heat_rate\n",
    "\n",
    "# Check if rows already have 'fix_ratio_in_out_unit_flow'\n",
    "existing_fix_ratio_input = df_object_node_node[(df_object_node_node['Parameter'] == 'fix_ratio_in_out_unit_flow') \n",
    "                    & (df_object_node_node['Node1'] == 'Power_Kasso')]\n",
    "#the following might not be relevant\n",
    "existing_fix_ratio_in_in = df_object_node_node[(df_object_node_node['Parameter'] == 'fix_ratio_in_in_unit_flow') \n",
    "                    & (df_object_node_node['Node1'] == 'Power_Kasso')]\n",
    "\n",
    "# Filter out rows from filtered_df that have 'fix_ratio_in_out_unit_flow'\n",
    "filtered_power_idleHR_df = filtered_power_idleHR_df[~filtered_power_idleHR_df['Object_name'].isin(existing_fix_ratio_input['Object_name'])]\n",
    "\n",
    "# Create new rows with the additional parameter of the unit incremental heat rate and the value of 0\n",
    "new_rows_incrementalHR = filtered_power_idleHR_df.copy()\n",
    "new_rows_incrementalHR['Parameter'] = 'unit_incremental_heat_rate'\n",
    "new_rows_incrementalHR['Value'] = 0\n",
    "\n",
    "# Append new rows to the original DataFrame\n",
    "df_object_node_node = pd.concat([df_object_node_node, new_rows_incrementalHR], ignore_index=True)\n",
    "\n",
    "\n",
    "df_object_node_node.head()"
   ]
  },
  {
   "cell_type": "code",
   "execution_count": 31,
   "id": "3e8e1c70",
   "metadata": {
    "execution": {
     "iopub.execute_input": "2024-08-25T18:49:49.370946Z",
     "iopub.status.busy": "2024-08-25T18:49:49.370946Z",
     "iopub.status.idle": "2024-08-25T18:49:49.402195Z",
     "shell.execute_reply": "2024-08-25T18:49:49.402195Z"
    },
    "papermill": {
     "duration": 0.069022,
     "end_time": "2024-08-25T18:49:49.402195",
     "exception": false,
     "start_time": "2024-08-25T18:49:49.333173",
     "status": "completed"
    },
    "tags": []
   },
   "outputs": [
    {
     "data": {
      "text/html": [
       "<div>\n",
       "<style scoped>\n",
       "    .dataframe tbody tr th:only-of-type {\n",
       "        vertical-align: middle;\n",
       "    }\n",
       "\n",
       "    .dataframe tbody tr th {\n",
       "        vertical-align: top;\n",
       "    }\n",
       "\n",
       "    .dataframe thead th {\n",
       "        text-align: right;\n",
       "    }\n",
       "</style>\n",
       "<table border=\"1\" class=\"dataframe\">\n",
       "  <thead>\n",
       "    <tr style=\"text-align: right;\">\n",
       "      <th></th>\n",
       "      <th>Relationship</th>\n",
       "      <th>Object_class</th>\n",
       "      <th>Object_name</th>\n",
       "      <th>Node1</th>\n",
       "      <th>Node2</th>\n",
       "      <th>Parameter</th>\n",
       "      <th>Value</th>\n",
       "    </tr>\n",
       "  </thead>\n",
       "  <tbody>\n",
       "  </tbody>\n",
       "</table>\n",
       "</div>"
      ],
      "text/plain": [
       "Empty DataFrame\n",
       "Columns: [Relationship, Object_class, Object_name, Node1, Node2, Parameter, Value]\n",
       "Index: []"
      ]
     },
     "execution_count": 31,
     "metadata": {},
     "output_type": "execute_result"
    }
   ],
   "source": [
    "# Add unit_node_node relationships for every unit that has power as output (e.g., PV)\n",
    "df_non_electricity_node_node = df_idle_node_node[df_idle_node_node['Node1'] == df_idle_node_node['Node2']].copy()\n",
    "df_non_electricity_node_node.loc[:, 'Node1'] = df_non_electricity_node_node['Object_name'] + '_node'\n",
    "\n",
    "#drop all rows that do not have a unit_idle_heat rate\n",
    "df_non_electricity_node_node = df_non_electricity_node_node.dropna(subset=['Value'])\n",
    "\n",
    "#df_object_node_node = pd.concat([df_object_node_node, df_non_electricity_node_node], ignore_index=True)\n",
    "df_non_electricity_node_node"
   ]
  },
  {
   "cell_type": "code",
   "execution_count": 32,
   "id": "1161ddbe",
   "metadata": {
    "execution": {
     "iopub.execute_input": "2024-08-25T18:49:49.486837Z",
     "iopub.status.busy": "2024-08-25T18:49:49.486837Z",
     "iopub.status.idle": "2024-08-25T18:49:49.518085Z",
     "shell.execute_reply": "2024-08-25T18:49:49.518085Z"
    },
    "papermill": {
     "duration": 0.078126,
     "end_time": "2024-08-25T18:49:49.518085",
     "exception": false,
     "start_time": "2024-08-25T18:49:49.439959",
     "status": "completed"
    },
    "tags": []
   },
   "outputs": [],
   "source": [
    "# add new [arbitrary] nodes to definition\n",
    "new_nodes = df_non_electricity_node_node['Node1']\n",
    "new_nodes = new_nodes[~new_nodes.isin(df_nodes['Object_Name'])]\n",
    "df_new_nodes = pd.DataFrame({\n",
    "    'Object_Name': new_nodes,\n",
    "    'Category': 'node'\n",
    "})\n",
    "\n",
    "df_nodes = pd.concat([df_nodes, df_new_nodes], ignore_index=True)\n",
    "# add new node to definition\n",
    "df_definition = pd.concat([df_definition, df_new_nodes], ignore_index=True)"
   ]
  },
  {
   "cell_type": "code",
   "execution_count": 33,
   "id": "9189bd8d",
   "metadata": {
    "execution": {
     "iopub.execute_input": "2024-08-25T18:49:49.602728Z",
     "iopub.status.busy": "2024-08-25T18:49:49.602728Z",
     "iopub.status.idle": "2024-08-25T18:49:49.633979Z",
     "shell.execute_reply": "2024-08-25T18:49:49.633979Z"
    },
    "papermill": {
     "duration": 0.084641,
     "end_time": "2024-08-25T18:49:49.640496",
     "exception": false,
     "start_time": "2024-08-25T18:49:49.555855",
     "status": "completed"
    },
    "tags": []
   },
   "outputs": [],
   "source": [
    "# add new unit_to_nodes relationship with new nodes\n",
    "df_new = df_non_electricity_node_node.copy()\n",
    "df_new = df_new.iloc[:, :4]\n",
    "new_headers = ['Relationship_class_name', 'Object_class', 'Object_name', 'Node']\n",
    "df_new.columns = new_headers\n",
    "df_new.iloc[:, 0] = \"unit__from_node\"\n",
    "\n",
    "df_object__node_definitions = pd.concat([df_object__node_definitions, df_new], ignore_index=True)"
   ]
  },
  {
   "cell_type": "code",
   "execution_count": 34,
   "id": "68543d3d",
   "metadata": {
    "execution": {
     "iopub.execute_input": "2024-08-25T18:49:49.718625Z",
     "iopub.status.busy": "2024-08-25T18:49:49.718625Z",
     "iopub.status.idle": "2024-08-25T18:49:49.756392Z",
     "shell.execute_reply": "2024-08-25T18:49:49.756392Z"
    },
    "papermill": {
     "duration": 0.084642,
     "end_time": "2024-08-25T18:49:49.756392",
     "exception": false,
     "start_time": "2024-08-25T18:49:49.671750",
     "status": "completed"
    },
    "tags": []
   },
   "outputs": [],
   "source": [
    "#Check if second node is necessary for demand\n",
    "for index, row in df_model_units.iterrows():\n",
    "    df_definition, df_nodes, df_connections, df_object__node_values, df_object_node_node = check_demand_node(\n",
    "        row, temporal_block, resolution_to_block, df_definition, \n",
    "        df_nodes, df_connections, df_object__node_values, \n",
    "        df_object_node_node)"
   ]
  },
  {
   "cell_type": "markdown",
   "id": "36be54c5-1d66-4841-a002-30a94697b84e",
   "metadata": {
    "papermill": {
     "duration": 0.037771,
     "end_time": "2024-08-25T18:49:49.856662",
     "exception": false,
     "start_time": "2024-08-25T18:49:49.818891",
     "status": "completed"
    },
    "tags": []
   },
   "source": [
    "#### Variable Efficiency Units:"
   ]
  },
  {
   "cell_type": "markdown",
   "id": "17268ecd-53bc-49ec-b6b8-6132ce181b2f",
   "metadata": {
    "papermill": {
     "duration": 0.037762,
     "end_time": "2024-08-25T18:49:49.941299",
     "exception": false,
     "start_time": "2024-08-25T18:49:49.903537",
     "status": "completed"
    },
    "tags": []
   },
   "source": [
    "##### Calculate adjusted efficiency for each unit"
   ]
  },
  {
   "cell_type": "code",
   "execution_count": 35,
   "id": "cecb0765",
   "metadata": {
    "execution": {
     "iopub.execute_input": "2024-08-25T18:49:50.019427Z",
     "iopub.status.busy": "2024-08-25T18:49:50.003801Z",
     "iopub.status.idle": "2024-08-25T18:49:50.219967Z",
     "shell.execute_reply": "2024-08-25T18:49:50.219967Z"
    },
    "papermill": {
     "duration": 0.247415,
     "end_time": "2024-08-25T18:49:50.219967",
     "exception": false,
     "start_time": "2024-08-25T18:49:49.972552",
     "status": "completed"
    },
    "scrolled": true,
    "tags": []
   },
   "outputs": [
    {
     "name": "stdout",
     "output_type": "stream",
     "text": [
      "Actual mean efficiency of electrolyzer after scaling: 0.7500\n",
      "   relationship_class_name:  unit__from_node\n",
      "0                         0             0.05\n",
      "WARNING: No variable efficiency defined for methanol_reactor\n"
     ]
    }
   ],
   "source": [
    "#important as the SpineOpt implementation is piecewise but when producing at high capacity the lower segments also produce\n",
    "#this way, we avoid overestimation of production when running at higher capacities\n",
    "\n",
    "for index, row in df_model_units.iterrows():\n",
    "    if pd.notna(row['mean_efficiency']):\n",
    "        # If 'mean_efficiency' column has a value, check if corresponding DataFrame exists\n",
    "        column_name = row['Unit'].lower()\n",
    "        df_name = f\"df_efficiency_{column_name}\"\n",
    "        goal = row['mean_efficiency']\n",
    "        output_1 = row['Output1']\n",
    "        input_1 = row['Input1']\n",
    "        \n",
    "        if df_name in globals() and isinstance(globals()[df_name], pd.DataFrame):\n",
    "            #Calculate adjusted efficiency\n",
    "            df_efficiency_adj = create_adj_efficiency(globals()[df_name], goal, column_name)\n",
    "            globals()[f\"df_efficiency_{column_name}_adj\"] = df_efficiency_adj\n",
    "            #fit with operating points\n",
    "            des_segment = globals()['des_segments_' + column_name]\n",
    "            df_var_efficiency, df_operating_points, segment_x_values, segment_averages, x_values, y_values = calculate_op_points(column_name, des_segment, df_efficiency_adj, input_1, output_1)\n",
    "            globals()[f\"variable_efficiency_{column_name}\"] = df_var_efficiency\n",
    "            globals()[f\"operating_points_{column_name}\"] = df_operating_points\n",
    "            globals()[f\"segment_x_values_{column_name}\"] = segment_x_values\n",
    "            globals()[f\"segment_averages_{column_name}\"] = segment_averages\n",
    "            globals()[f\"x_values_{column_name}\"] = x_values\n",
    "            globals()[f\"y_values_{column_name}\"] = y_values\n",
    "            #create ordered_unit_flow\n",
    "            ordered_unit_flow = check_decreasing(df_var_efficiency, column_name, input_1)\n",
    "            globals()[f\"ordered_unit_flow_{column_name}\"] = ordered_unit_flow\n",
    "        else:\n",
    "            print(f\"WARNING: No variable efficiency defined for {column_name}\")\n",
    "    else:\n",
    "        # If 'mean_efficiency' column is NA, skip\n",
    "        continue"
   ]
  },
  {
   "cell_type": "code",
   "execution_count": 36,
   "id": "6bf17dac-b552-4369-84fc-4417439747a1",
   "metadata": {
    "execution": {
     "iopub.execute_input": "2024-08-25T18:49:50.304606Z",
     "iopub.status.busy": "2024-08-25T18:49:50.304606Z",
     "iopub.status.idle": "2024-08-25T18:49:50.819615Z",
     "shell.execute_reply": "2024-08-25T18:49:50.819615Z"
    },
    "papermill": {
     "duration": 0.561884,
     "end_time": "2024-08-25T18:49:50.819615",
     "exception": false,
     "start_time": "2024-08-25T18:49:50.257731",
     "status": "completed"
    },
    "scrolled": true,
    "tags": []
   },
   "outputs": [
    {
     "data": {
      "image/png": "[encoded data removed]",
      "text/plain": [
       "<Figure size 700x300 with 1 Axes>"
      ]
     },
     "metadata": {},
     "output_type": "display_data"
    }
   ],
   "source": [
    "# Plot the data of the original efficiency curve and the adjusted ones\n",
    "plt.figure(figsize=(7, 3))\n",
    "plt.plot(df_efficiency_electrolyzer_adj['Power [%]'], df_efficiency_electrolyzer_adj['Efficiency [%]'], label='Eff raw', marker='o')\n",
    "plt.plot(df_efficiency_electrolyzer_adj['Power [%]'], df_efficiency_electrolyzer_adj['Efficiency_scaled [%]'], label='Eff scaled', marker='x')\n",
    "plt.plot(df_efficiency_adj['Power [%]'], df_efficiency_adj['eff_adjusted_electrolyzer'], label='Eff adjusted', marker='x', \n",
    "         linestyle='dashed', dashes=(5, 7))\n",
    "\n",
    "plt.xlabel('Power [%]')\n",
    "plt.ylabel('Efficiency [%]')\n",
    "plt.title('Efficiency vs Power')\n",
    "plt.legend()\n",
    "plt.grid(True)\n",
    "plt.show()"
   ]
  },
  {
   "cell_type": "code",
   "execution_count": 37,
   "id": "6107fc7e",
   "metadata": {
    "execution": {
     "iopub.execute_input": "2024-08-25T18:49:50.919886Z",
     "iopub.status.busy": "2024-08-25T18:49:50.919886Z",
     "iopub.status.idle": "2024-08-25T18:49:51.195381Z",
     "shell.execute_reply": "2024-08-25T18:49:51.195381Z"
    },
    "papermill": {
     "duration": 0.328892,
     "end_time": "2024-08-25T18:49:51.195381",
     "exception": false,
     "start_time": "2024-08-25T18:49:50.866489",
     "status": "completed"
    },
    "tags": []
   },
   "outputs": [
    {
     "data": {
      "image/png": "[encoded data removed]",
      "text/plain": [
       "<Figure size 500x400 with 1 Axes>"
      ]
     },
     "metadata": {},
     "output_type": "display_data"
    }
   ],
   "source": [
    "# Plotting the data points and the curve\n",
    "plt.figure(figsize=(5, 4))\n",
    "plt.scatter(df_efficiency_electrolyzer_adj['Power [%]'], df_efficiency_electrolyzer_adj['eff_adjusted_electrolyzer'], color='blue', label='Efficiency Adjusted')\n",
    "plt.plot(x_values_electrolyzer, y_values_electrolyzer, color='red', label='Fitted Efficiency Curve Electrolyzer')\n",
    "\n",
    "# Plotting segment averages\n",
    "for i, (x_start, x_end) in enumerate(segment_x_values_electrolyzer):\n",
    "    plt.plot([x_start, x_end], [segment_averages_electrolyzer[i], segment_averages_electrolyzer[i]], color='green', linestyle='--', linewidth=2)\n",
    "\n",
    "plt.xlabel('x')\n",
    "plt.ylabel('y')\n",
    "plt.title('Curve Fitted to Data Points')\n",
    "plt.legend()\n",
    "plt.grid(True)\n",
    "plt.show()"
   ]
  },
  {
   "cell_type": "code",
   "execution_count": 38,
   "id": "38694351",
   "metadata": {
    "execution": {
     "iopub.execute_input": "2024-08-25T18:49:51.295651Z",
     "iopub.status.busy": "2024-08-25T18:49:51.295651Z",
     "iopub.status.idle": "2024-08-25T18:49:51.342534Z",
     "shell.execute_reply": "2024-08-25T18:49:51.342534Z"
    },
    "papermill": {
     "duration": 0.100276,
     "end_time": "2024-08-25T18:49:51.342534",
     "exception": false,
     "start_time": "2024-08-25T18:49:51.242258",
     "status": "completed"
    },
    "tags": []
   },
   "outputs": [
    {
     "data": {
      "text/html": [
       "<div>\n",
       "<style scoped>\n",
       "    .dataframe tbody tr th:only-of-type {\n",
       "        vertical-align: middle;\n",
       "    }\n",
       "\n",
       "    .dataframe tbody tr th {\n",
       "        vertical-align: top;\n",
       "    }\n",
       "\n",
       "    .dataframe thead th {\n",
       "        text-align: right;\n",
       "    }\n",
       "</style>\n",
       "<table border=\"1\" class=\"dataframe\">\n",
       "  <thead>\n",
       "    <tr style=\"text-align: right;\">\n",
       "      <th></th>\n",
       "      <th>relationship_class_name:</th>\n",
       "      <th>unit__from_node__user_constraint</th>\n",
       "      <th>unit__to_node__user_constraint</th>\n",
       "    </tr>\n",
       "  </thead>\n",
       "  <tbody>\n",
       "    <tr>\n",
       "      <th>0</th>\n",
       "      <td>User_constraint_name</td>\n",
       "      <td>EffCurve_Electrolyzer</td>\n",
       "      <td>EffCurve_Electrolyzer</td>\n",
       "    </tr>\n",
       "    <tr>\n",
       "      <th>1</th>\n",
       "      <td>Object_name</td>\n",
       "      <td>Electrolyzer</td>\n",
       "      <td>Electrolyzer</td>\n",
       "    </tr>\n",
       "    <tr>\n",
       "      <th>2</th>\n",
       "      <td>Node_name</td>\n",
       "      <td>Power_Kasso</td>\n",
       "      <td>Hydrogen_Kasso</td>\n",
       "    </tr>\n",
       "    <tr>\n",
       "      <th>3</th>\n",
       "      <td>Parameter</td>\n",
       "      <td>unit_flow_coefficient</td>\n",
       "      <td>unit_flow_coefficient</td>\n",
       "    </tr>\n",
       "    <tr>\n",
       "      <th>4</th>\n",
       "      <td>0</td>\n",
       "      <td>0.89812</td>\n",
       "      <td>-1</td>\n",
       "    </tr>\n",
       "  </tbody>\n",
       "</table>\n",
       "</div>"
      ],
      "text/plain": [
       "  relationship_class_name: unit__from_node__user_constraint  \\\n",
       "0     User_constraint_name            EffCurve_Electrolyzer   \n",
       "1              Object_name                     Electrolyzer   \n",
       "2                Node_name                      Power_Kasso   \n",
       "3                Parameter            unit_flow_coefficient   \n",
       "4                        0                          0.89812   \n",
       "\n",
       "  unit__to_node__user_constraint  \n",
       "0          EffCurve_Electrolyzer  \n",
       "1                   Electrolyzer  \n",
       "2                 Hydrogen_Kasso  \n",
       "3          unit_flow_coefficient  \n",
       "4                             -1  "
      ]
     },
     "execution_count": 38,
     "metadata": {},
     "output_type": "execute_result"
    }
   ],
   "source": [
    "###Summarize all variable efficiencies\n",
    "#Collect all data frames that start with variable_efficiency\n",
    "dfs = [value for key, value in globals().items() if key.startswith('variable_efficiency') and isinstance(value, pd.DataFrame)]\n",
    "\n",
    "#Choose the first column with the most segments\n",
    "longest_df = max(dfs, key=lambda df: df.shape[0])\n",
    "first_column = longest_df.iloc[:, 0]\n",
    "\n",
    "#Concatenate the remaining columns from all DataFrames, ensuring no duplicate \"first column\"\n",
    "remaining_columns = [df.iloc[:, 1:] for df in dfs]\n",
    "\n",
    "#Concatenate the remaining columns to the longest first column\n",
    "df_variable_efficiency = pd.concat([first_column] + remaining_columns, axis=1)\n",
    "df_variable_efficiency"
   ]
  },
  {
   "cell_type": "code",
   "execution_count": 39,
   "id": "7b94c1a0-c73d-45b6-b048-df9ae8c0261a",
   "metadata": {
    "execution": {
     "iopub.execute_input": "2024-08-25T18:49:51.442802Z",
     "iopub.status.busy": "2024-08-25T18:49:51.442802Z",
     "iopub.status.idle": "2024-08-25T18:49:51.474050Z",
     "shell.execute_reply": "2024-08-25T18:49:51.474050Z"
    },
    "papermill": {
     "duration": 0.084644,
     "end_time": "2024-08-25T18:49:51.474050",
     "exception": false,
     "start_time": "2024-08-25T18:49:51.389406",
     "status": "completed"
    },
    "tags": []
   },
   "outputs": [
    {
     "data": {
      "text/html": [
       "<div>\n",
       "<style scoped>\n",
       "    .dataframe tbody tr th:only-of-type {\n",
       "        vertical-align: middle;\n",
       "    }\n",
       "\n",
       "    .dataframe tbody tr th {\n",
       "        vertical-align: top;\n",
       "    }\n",
       "\n",
       "    .dataframe thead th {\n",
       "        text-align: right;\n",
       "    }\n",
       "</style>\n",
       "<table border=\"1\" class=\"dataframe\">\n",
       "  <thead>\n",
       "    <tr style=\"text-align: right;\">\n",
       "      <th></th>\n",
       "      <th>Entity class names</th>\n",
       "      <th>Entity names</th>\n",
       "    </tr>\n",
       "  </thead>\n",
       "  <tbody>\n",
       "    <tr>\n",
       "      <th>0</th>\n",
       "      <td>user_constraint</td>\n",
       "      <td>EffCurve_Electrolyzer</td>\n",
       "    </tr>\n",
       "  </tbody>\n",
       "</table>\n",
       "</div>"
      ],
      "text/plain": [
       "  Entity class names           Entity names\n",
       "0    user_constraint  EffCurve_Electrolyzer"
      ]
     },
     "execution_count": 39,
     "metadata": {},
     "output_type": "execute_result"
    }
   ],
   "source": [
    "# Relate all user_constraints to entity class name \"user_constraint\" \n",
    "\n",
    "Entity_names_duplicate = df_variable_efficiency.iloc[0,1:]\n",
    "User_constraint_entities = []\n",
    "for name in Entity_names_duplicate:\n",
    "    if name not in User_constraint_entities:\n",
    "        User_constraint_entities.append(name)\n",
    "        \n",
    "\n",
    "User_constraint_column = [\"user_constraint\"]*len(User_constraint_entities)\n",
    "\n",
    "merged_columns = {\"Entity class names\": User_constraint_column, \"Entity names\": User_constraint_entities}\n",
    "df_variable_eff_def= pd.DataFrame(merged_columns)\n",
    "df_variable_eff_def"
   ]
  },
  {
   "cell_type": "code",
   "execution_count": 40,
   "id": "f6fb592c",
   "metadata": {
    "execution": {
     "iopub.execute_input": "2024-08-25T18:49:51.574314Z",
     "iopub.status.busy": "2024-08-25T18:49:51.574314Z",
     "iopub.status.idle": "2024-08-25T18:49:51.612084Z",
     "shell.execute_reply": "2024-08-25T18:49:51.612084Z"
    },
    "papermill": {
     "duration": 0.10027,
     "end_time": "2024-08-25T18:49:51.612084",
     "exception": false,
     "start_time": "2024-08-25T18:49:51.511814",
     "status": "completed"
    },
    "tags": []
   },
   "outputs": [],
   "source": [
    "### Summarize all operating points\n",
    "#Collect all data frames that start with operating_points\n",
    "dfs = [value for key, value in globals().items() if key.startswith('operating_points') and isinstance(value, pd.DataFrame)]\n",
    "\n",
    "#Choose the first column with the most segments\n",
    "longest_df = max(dfs, key=lambda df: df.shape[0])\n",
    "first_column = longest_df.iloc[:, 0]\n",
    "\n",
    "#Concatenate the remaining columns from all DataFrames, ensuring no duplicate \"first column\"\n",
    "remaining_columns = [df.iloc[:, 1:] for df in dfs]\n",
    "\n",
    "#Concatenate the remaining columns to the longest first column\n",
    "df_operating_points = pd.concat([first_column] + remaining_columns, axis=1)"
   ]
  },
  {
   "cell_type": "code",
   "execution_count": 41,
   "id": "899403f8",
   "metadata": {
    "execution": {
     "iopub.execute_input": "2024-08-25T18:49:51.713482Z",
     "iopub.status.busy": "2024-08-25T18:49:51.696719Z",
     "iopub.status.idle": "2024-08-25T18:49:51.736379Z",
     "shell.execute_reply": "2024-08-25T18:49:51.736379Z"
    },
    "papermill": {
     "duration": 0.077423,
     "end_time": "2024-08-25T18:49:51.736379",
     "exception": false,
     "start_time": "2024-08-25T18:49:51.658956",
     "status": "completed"
    },
    "tags": []
   },
   "outputs": [],
   "source": [
    "### Summarize all ordered_unit_flow_op\n",
    "#Collect all data frames that start with ordered_unit_flow_op\n",
    "dfs = [value for key, value in globals().items() if key.startswith('ordered_unit_flow_') and isinstance(value, pd.DataFrame)]\n",
    "\n",
    "#Concatenate the remaining columns to the longest first column\n",
    "df_boolean_relations = pd.concat(dfs, ignore_index=True)"
   ]
  },
  {
   "cell_type": "markdown",
   "id": "99b06362-af38-4e4b-ab1b-fc2f8024bee0",
   "metadata": {
    "papermill": {
     "duration": 0.044772,
     "end_time": "2024-08-25T18:49:51.828023",
     "exception": false,
     "start_time": "2024-08-25T18:49:51.783251",
     "status": "completed"
    },
    "tags": []
   },
   "source": [
    "#### Renewables Availability:"
   ]
  },
  {
   "cell_type": "code",
   "execution_count": 42,
   "id": "eccc1b34-e4e6-4187-8299-e66590b125d1",
   "metadata": {
    "execution": {
     "iopub.execute_input": "2024-08-25T18:49:51.928289Z",
     "iopub.status.busy": "2024-08-25T18:49:51.928289Z",
     "iopub.status.idle": "2024-08-25T18:49:51.990786Z",
     "shell.execute_reply": "2024-08-25T18:49:51.990786Z"
    },
    "papermill": {
     "duration": 0.122409,
     "end_time": "2024-08-25T18:49:51.997305",
     "exception": false,
     "start_time": "2024-08-25T18:49:51.874896",
     "status": "completed"
    },
    "tags": []
   },
   "outputs": [
    {
     "data": {
      "text/html": [
       "<div>\n",
       "<style scoped>\n",
       "    .dataframe tbody tr th:only-of-type {\n",
       "        vertical-align: middle;\n",
       "    }\n",
       "\n",
       "    .dataframe tbody tr th {\n",
       "        vertical-align: top;\n",
       "    }\n",
       "\n",
       "    .dataframe thead th {\n",
       "        text-align: right;\n",
       "    }\n",
       "</style>\n",
       "<table border=\"1\" class=\"dataframe\">\n",
       "  <thead>\n",
       "    <tr style=\"text-align: right;\">\n",
       "      <th></th>\n",
       "      <th>DateTime DK1</th>\n",
       "      <th>Solar_Plant_Kasso</th>\n",
       "    </tr>\n",
       "  </thead>\n",
       "  <tbody>\n",
       "    <tr>\n",
       "      <th>0</th>\n",
       "      <td>None</td>\n",
       "      <td>unit</td>\n",
       "    </tr>\n",
       "    <tr>\n",
       "      <th>1</th>\n",
       "      <td>None</td>\n",
       "      <td>unit_availability_factor</td>\n",
       "    </tr>\n",
       "    <tr>\n",
       "      <th>0</th>\n",
       "      <td>2020-01-01T00:00:00</td>\n",
       "      <td>0.0</td>\n",
       "    </tr>\n",
       "    <tr>\n",
       "      <th>1</th>\n",
       "      <td>2020-01-01T01:00:00</td>\n",
       "      <td>0.0</td>\n",
       "    </tr>\n",
       "    <tr>\n",
       "      <th>2</th>\n",
       "      <td>2020-01-01T02:00:00</td>\n",
       "      <td>0.0</td>\n",
       "    </tr>\n",
       "  </tbody>\n",
       "</table>\n",
       "</div>"
      ],
      "text/plain": [
       "          DateTime DK1         Solar_Plant_Kasso\n",
       "0                 None                      unit\n",
       "1                 None  unit_availability_factor\n",
       "0  2020-01-01T00:00:00                       0.0\n",
       "1  2020-01-01T01:00:00                       0.0\n",
       "2  2020-01-01T02:00:00                       0.0"
      ]
     },
     "execution_count": 42,
     "metadata": {},
     "output_type": "execute_result"
    }
   ],
   "source": [
    "#create table headers and relations\n",
    "column_names_1 = {'DateTime '+area: [None, None],\n",
    "                'Solar_Plant_Kasso': ['unit','unit_availability_factor']}\n",
    "df_blank_table_1 = pd.DataFrame(column_names_1, index=None)\n",
    "\n",
    "#add values\n",
    "df_temp_1 = pd.DataFrame(columns=['DateTime ' + area, 'Solar_Plant_Kasso'])\n",
    "df_temp_1['DateTime '+area] = df_time\n",
    "df_temp_1['Solar_Plant_Kasso'] = df_PV_availabilityfactors_values['unit_availability_factor']\n",
    "\n",
    "#fill NaNs on last day by copying previous day (only for leap years)\n",
    "df_temp_1['Solar_Plant_Kasso_shifted'] = df_temp_1['Solar_Plant_Kasso'].shift(24)\n",
    "df_temp_1['Solar_Plant_Kasso'] = df_temp_1['Solar_Plant_Kasso'].fillna(df_temp_1['Solar_Plant_Kasso_shifted'])\n",
    "df_temp_1 = df_temp_1.drop(columns=['Solar_Plant_Kasso_shifted'])\n",
    "\n",
    "df_table_1 = pd.concat([df_blank_table_1, df_temp_1])\n",
    "\n",
    "#show table head for control\n",
    "df_table_1.head()"
   ]
  },
  {
   "cell_type": "markdown",
   "id": "46e74f16-846f-4ba0-b9c6-869e32be6676",
   "metadata": {
    "papermill": {
     "duration": 0.046877,
     "end_time": "2024-08-25T18:49:52.075438",
     "exception": false,
     "start_time": "2024-08-25T18:49:52.028561",
     "status": "completed"
    },
    "tags": []
   },
   "source": [
    "#### Energy prices:"
   ]
  },
  {
   "cell_type": "code",
   "execution_count": 43,
   "id": "4679f8e3-8ce3-4f00-b57e-e3f1427db970",
   "metadata": {
    "execution": {
     "iopub.execute_input": "2024-08-25T18:49:52.191330Z",
     "iopub.status.busy": "2024-08-25T18:49:52.191330Z",
     "iopub.status.idle": "2024-08-25T18:49:52.213478Z",
     "shell.execute_reply": "2024-08-25T18:49:52.213478Z"
    },
    "papermill": {
     "duration": 0.084642,
     "end_time": "2024-08-25T18:49:52.213478",
     "exception": false,
     "start_time": "2024-08-25T18:49:52.128836",
     "status": "completed"
    },
    "tags": []
   },
   "outputs": [],
   "source": [
    "#adjustemnts of power price variance\n",
    "#df_powerprices_values['SpotPriceEUR']\n",
    "\n",
    "# Calculate the current mean and variance\n",
    "mean = df_powerprices_values['SpotPriceEUR'].mean()\n",
    "current_variance = df_powerprices_values['SpotPriceEUR'].var()\n",
    "\n",
    "# Define the new desired variance \n",
    "desired_variance = current_variance * power_price_variance\n",
    "\n",
    "# Calculate the scaling factor\n",
    "scaling_factor = np.sqrt(desired_variance / current_variance)\n",
    "\n",
    "# Adjust the time series to achieve the new variance\n",
    "df_powerprices_values['SpotPriceEUR'] = mean + (df_powerprices_values['SpotPriceEUR'] - mean) * scaling_factor"
   ]
  },
  {
   "cell_type": "code",
   "execution_count": 44,
   "id": "a785d20b-2cbe-4f0b-8842-2878a3335580",
   "metadata": {
    "execution": {
     "iopub.execute_input": "2024-08-25T18:49:52.313742Z",
     "iopub.status.busy": "2024-08-25T18:49:52.313742Z",
     "iopub.status.idle": "2024-08-25T18:49:52.360620Z",
     "shell.execute_reply": "2024-08-25T18:49:52.360620Z"
    },
    "papermill": {
     "duration": 0.100268,
     "end_time": "2024-08-25T18:49:52.360620",
     "exception": false,
     "start_time": "2024-08-25T18:49:52.260352",
     "status": "completed"
    },
    "scrolled": true,
    "tags": []
   },
   "outputs": [
    {
     "data": {
      "text/html": [
       "<div>\n",
       "<style scoped>\n",
       "    .dataframe tbody tr th:only-of-type {\n",
       "        vertical-align: middle;\n",
       "    }\n",
       "\n",
       "    .dataframe tbody tr th {\n",
       "        vertical-align: top;\n",
       "    }\n",
       "\n",
       "    .dataframe thead th {\n",
       "        text-align: right;\n",
       "    }\n",
       "</style>\n",
       "<table border=\"1\" class=\"dataframe\">\n",
       "  <thead>\n",
       "    <tr style=\"text-align: right;\">\n",
       "      <th></th>\n",
       "      <th>DateTime DK1</th>\n",
       "      <th>Power_Wholesale_In</th>\n",
       "      <th>Power_Wholesale_Out</th>\n",
       "      <th>District_Heating</th>\n",
       "    </tr>\n",
       "  </thead>\n",
       "  <tbody>\n",
       "    <tr>\n",
       "      <th>0</th>\n",
       "      <td>relationship class</td>\n",
       "      <td>connection__from_node</td>\n",
       "      <td>connection__to_node</td>\n",
       "      <td>connection__to_node</td>\n",
       "    </tr>\n",
       "    <tr>\n",
       "      <th>1</th>\n",
       "      <td>connection</td>\n",
       "      <td>power_line_Wholesale_Kasso</td>\n",
       "      <td>power_line_Wholesale_Kasso</td>\n",
       "      <td>pipeline_District_Heating</td>\n",
       "    </tr>\n",
       "    <tr>\n",
       "      <th>2</th>\n",
       "      <td>node</td>\n",
       "      <td>Power_Wholesale</td>\n",
       "      <td>Power_Wholesale</td>\n",
       "      <td>District_Heating</td>\n",
       "    </tr>\n",
       "    <tr>\n",
       "      <th>3</th>\n",
       "      <td>parameter name</td>\n",
       "      <td>connection_flow_cost</td>\n",
       "      <td>connection_flow_cost</td>\n",
       "      <td>connection_flow_cost</td>\n",
       "    </tr>\n",
       "    <tr>\n",
       "      <th>4</th>\n",
       "      <td>2020-01-01T00:00:00</td>\n",
       "      <td>33.419998</td>\n",
       "      <td>-33.419998</td>\n",
       "      <td>-18.579088</td>\n",
       "    </tr>\n",
       "  </tbody>\n",
       "</table>\n",
       "</div>"
      ],
      "text/plain": [
       "          DateTime DK1          Power_Wholesale_In  \\\n",
       "0   relationship class       connection__from_node   \n",
       "1           connection  power_line_Wholesale_Kasso   \n",
       "2                 node             Power_Wholesale   \n",
       "3       parameter name        connection_flow_cost   \n",
       "4  2020-01-01T00:00:00                   33.419998   \n",
       "\n",
       "          Power_Wholesale_Out           District_Heating  \n",
       "0         connection__to_node        connection__to_node  \n",
       "1  power_line_Wholesale_Kasso  pipeline_District_Heating  \n",
       "2             Power_Wholesale           District_Heating  \n",
       "3        connection_flow_cost       connection_flow_cost  \n",
       "4                  -33.419998                 -18.579088  "
      ]
     },
     "execution_count": 44,
     "metadata": {},
     "output_type": "execute_result"
    }
   ],
   "source": [
    "column_names_2 = {'DateTime ' + area: ['relationship class','connection','node','parameter name'],\n",
    "                'Power_Wholesale_In': ['connection__from_node','power_line_Wholesale_Kasso','Power_Wholesale','connection_flow_cost'], \n",
    "                'Power_Wholesale_Out': ['connection__to_node','power_line_Wholesale_Kasso','Power_Wholesale','connection_flow_cost'], \n",
    "                'District_Heating': ['connection__to_node','pipeline_District_Heating','District_Heating','connection_flow_cost']}\n",
    "df_blank_table_2 = pd.DataFrame(column_names_2, index=None)\n",
    "df_temp_2 = pd.DataFrame(columns=['DateTime ' + area, 'Power_Wholesale_In', 'Power_Wholesale_Out', 'District_Heating'])\n",
    "\n",
    "df_temp_2['DateTime ' + area] = df_time\n",
    "df_temp_2['Power_Wholesale_In'] = price_level_power * df_powerprices_values['SpotPriceEUR']\n",
    "df_temp_2['Power_Wholesale_Out'] = -1 * price_level_power * df_powerprices_values['SpotPriceEUR']\n",
    "df_temp_2['District_Heating'] = -1 * df_district_heating_price[str(year)].loc[2] * share_of_dh_price_cap\n",
    "\n",
    "df_table_2 = pd.concat([df_blank_table_2, df_temp_2], ignore_index=True)\n",
    "\n",
    "#show table head for control\n",
    "df_table_2.head()"
   ]
  },
  {
   "cell_type": "markdown",
   "id": "df00bdab-f254-437f-b78d-d32b19e2f9db",
   "metadata": {
    "papermill": {
     "duration": 0.053392,
     "end_time": "2024-08-25T18:49:52.429632",
     "exception": false,
     "start_time": "2024-08-25T18:49:52.376240",
     "status": "completed"
    },
    "tags": []
   },
   "source": [
    "#### Time Series Storage:"
   ]
  },
  {
   "cell_type": "code",
   "execution_count": 45,
   "id": "d5e2a8a3",
   "metadata": {
    "execution": {
     "iopub.execute_input": "2024-08-25T18:49:52.498645Z",
     "iopub.status.busy": "2024-08-25T18:49:52.498645Z",
     "iopub.status.idle": "2024-08-25T18:49:52.548187Z",
     "shell.execute_reply": "2024-08-25T18:49:52.545531Z"
    },
    "papermill": {
     "duration": 0.075822,
     "end_time": "2024-08-25T18:49:52.552331",
     "exception": false,
     "start_time": "2024-08-25T18:49:52.476509",
     "status": "completed"
    },
    "tags": []
   },
   "outputs": [
    {
     "name": "stderr",
     "output_type": "stream",
     "text": [
      "C:\\Users\\luc.eco\\AppData\\Local\\Temp\\ipykernel_17608\\1920608930.py:4: FutureWarning: 'H' is deprecated and will be removed in a future version, please use 'h' instead.\n",
      "  date_index_beginning = pd.date_range(start=before, end=start_date, freq='H')\n"
     ]
    },
    {
     "data": {
      "text/html": [
       "<div>\n",
       "<style scoped>\n",
       "    .dataframe tbody tr th:only-of-type {\n",
       "        vertical-align: middle;\n",
       "    }\n",
       "\n",
       "    .dataframe tbody tr th {\n",
       "        vertical-align: top;\n",
       "    }\n",
       "\n",
       "    .dataframe thead th {\n",
       "        text-align: right;\n",
       "    }\n",
       "</style>\n",
       "<table border=\"1\" class=\"dataframe\">\n",
       "  <thead>\n",
       "    <tr style=\"text-align: right;\">\n",
       "      <th></th>\n",
       "      <th>DateTime</th>\n",
       "      <th>Hydrogen_storage_Kasso</th>\n",
       "      <th>E-Methanol_storage_Kasso</th>\n",
       "    </tr>\n",
       "  </thead>\n",
       "  <tbody>\n",
       "    <tr>\n",
       "      <th>0</th>\n",
       "      <td>NaN</td>\n",
       "      <td>fix_node_state</td>\n",
       "      <td>fix_node_state</td>\n",
       "    </tr>\n",
       "    <tr>\n",
       "      <th>1</th>\n",
       "      <td>2019-12-31T23:00:00</td>\n",
       "      <td>0</td>\n",
       "      <td>0</td>\n",
       "    </tr>\n",
       "    <tr>\n",
       "      <th>2</th>\n",
       "      <td>2020-01-01T00:00:00</td>\n",
       "      <td>NaN</td>\n",
       "      <td>NaN</td>\n",
       "    </tr>\n",
       "  </tbody>\n",
       "</table>\n",
       "</div>"
      ],
      "text/plain": [
       "              DateTime Hydrogen_storage_Kasso E-Methanol_storage_Kasso\n",
       "0                  NaN         fix_node_state           fix_node_state\n",
       "1  2019-12-31T23:00:00                      0                        0\n",
       "2  2020-01-01T00:00:00                    NaN                      NaN"
      ]
     },
     "execution_count": 45,
     "metadata": {},
     "output_type": "execute_result"
    }
   ],
   "source": [
    "#date index\n",
    "start_date = pd.to_datetime(start_date)\n",
    "before = start_date-timedelta(hours=1)\n",
    "date_index_beginning = pd.date_range(start=before, end=start_date, freq='H')\n",
    "formatted_beginning = date_index_beginning.strftime('%Y-%m-%dT%H:%M:%S')\n",
    "df_formatted_beginning = pd.DataFrame(formatted_beginning, columns=['DateTime'])\n",
    "df_time_beginning = pd.DataFrame(df_formatted_beginning)\n",
    "#add one blank row\n",
    "new_row = pd.Series([])\n",
    "df_time_beginning = pd.concat([pd.DataFrame([new_row]), df_time_beginning]).reset_index(drop=True)\n",
    "\n",
    "#concat raw data with time index\n",
    "storage_values = df_model_storages.iloc[:,[0, 1, 2, 6]]\n",
    "storage_values = storage_values.iloc[:, [0, 3, 1, 2]]\n",
    "storage_values_transposed = storage_values.T\n",
    "storage_values_transposed.columns = storage_values_transposed.iloc[0]\n",
    "storage_values_transposed = storage_values_transposed[1:]\n",
    "storage_values_transposed.reset_index(drop=True, inplace=True)\n",
    "\n",
    "df_storage = pd.concat([df_time_beginning, storage_values_transposed], axis=1)\n",
    "#show table head for control\n",
    "df_storage.head()"
   ]
  },
  {
   "cell_type": "markdown",
   "id": "89b971c4",
   "metadata": {
    "papermill": {
     "duration": 0.04688,
     "end_time": "2024-08-25T18:49:52.645532",
     "exception": false,
     "start_time": "2024-08-25T18:49:52.598652",
     "status": "completed"
    },
    "tags": []
   },
   "source": [
    "#### Model relations:"
   ]
  },
  {
   "cell_type": "code",
   "execution_count": 46,
   "id": "ccf465d5",
   "metadata": {
    "execution": {
     "iopub.execute_input": "2024-08-25T18:49:52.745800Z",
     "iopub.status.busy": "2024-08-25T18:49:52.745800Z",
     "iopub.status.idle": "2024-08-25T18:49:52.777050Z",
     "shell.execute_reply": "2024-08-25T18:49:52.777050Z"
    },
    "papermill": {
     "duration": 0.084644,
     "end_time": "2024-08-25T18:49:52.777050",
     "exception": false,
     "start_time": "2024-08-25T18:49:52.692406",
     "status": "completed"
    },
    "tags": []
   },
   "outputs": [],
   "source": [
    "#Writing definition of model components\n",
    "column_names_model_components = {'Object_class_name':['model','temporal_block','stochastic_scenario', 'stochastic_structure', 'report'],\n",
    "                      'Object_name': [model_name, temporal_block, stochastic_scenario, stochastic_structure, report_name]}\n",
    "df_model_components = pd.DataFrame(column_names_model_components, index=None)\n",
    "\n",
    "#Addin a default invetsment temporal block \n",
    "df_model_components.loc[len(df_model_components.index)] = ['temporal_block', 'Default_Investment_period']\n",
    "\n",
    "#outputs:\n",
    "df_outputs = pd.DataFrame({\n",
    "    'Object_class_name': ['output']*len(reports),\n",
    "    'Object_name': reports\n",
    "})\n",
    "df_model_components = pd.concat([df_model_components, df_outputs], axis=0)\n",
    "df_model_components = df_model_components.reset_index(drop=True)"
   ]
  },
  {
   "cell_type": "code",
   "execution_count": 47,
   "id": "c335dd9b",
   "metadata": {
    "execution": {
     "iopub.execute_input": "2024-08-25T18:49:52.877315Z",
     "iopub.status.busy": "2024-08-25T18:49:52.877315Z",
     "iopub.status.idle": "2024-08-25T18:49:52.946336Z",
     "shell.execute_reply": "2024-08-25T18:49:52.946336Z"
    },
    "papermill": {
     "duration": 0.115894,
     "end_time": "2024-08-25T18:49:52.946336",
     "exception": false,
     "start_time": "2024-08-25T18:49:52.830442",
     "status": "completed"
    },
    "tags": []
   },
   "outputs": [
    {
     "data": {
      "text/html": [
       "<div>\n",
       "<style scoped>\n",
       "    .dataframe tbody tr th:only-of-type {\n",
       "        vertical-align: middle;\n",
       "    }\n",
       "\n",
       "    .dataframe tbody tr th {\n",
       "        vertical-align: top;\n",
       "    }\n",
       "\n",
       "    .dataframe thead th {\n",
       "        text-align: right;\n",
       "    }\n",
       "</style>\n",
       "<table border=\"1\" class=\"dataframe\">\n",
       "  <thead>\n",
       "    <tr style=\"text-align: right;\">\n",
       "      <th></th>\n",
       "      <th>Relationship_class_name</th>\n",
       "      <th>Object_class_name_1</th>\n",
       "      <th>Object_class_name_2</th>\n",
       "      <th>Object_name_1</th>\n",
       "      <th>Object_name_2</th>\n",
       "    </tr>\n",
       "  </thead>\n",
       "  <tbody>\n",
       "    <tr>\n",
       "      <th>0</th>\n",
       "      <td>model__temporal_block</td>\n",
       "      <td>model</td>\n",
       "      <td>temporal_block</td>\n",
       "      <td>Model</td>\n",
       "      <td>hourly</td>\n",
       "    </tr>\n",
       "    <tr>\n",
       "      <th>1</th>\n",
       "      <td>model__default_temporal_block</td>\n",
       "      <td>model</td>\n",
       "      <td>temporal_block</td>\n",
       "      <td>Model</td>\n",
       "      <td>hourly</td>\n",
       "    </tr>\n",
       "    <tr>\n",
       "      <th>2</th>\n",
       "      <td>model__stochastic_structure</td>\n",
       "      <td>model</td>\n",
       "      <td>stochastic_structure</td>\n",
       "      <td>Model</td>\n",
       "      <td>deterministic</td>\n",
       "    </tr>\n",
       "    <tr>\n",
       "      <th>3</th>\n",
       "      <td>model__default_stochastic_structure</td>\n",
       "      <td>model</td>\n",
       "      <td>stochastic_structure</td>\n",
       "      <td>Model</td>\n",
       "      <td>deterministic</td>\n",
       "    </tr>\n",
       "    <tr>\n",
       "      <th>4</th>\n",
       "      <td>stochastic_structure__stochastic_scenario</td>\n",
       "      <td>stochastic_structure</td>\n",
       "      <td>stochastic_scenario</td>\n",
       "      <td>deterministic</td>\n",
       "      <td>realisation</td>\n",
       "    </tr>\n",
       "  </tbody>\n",
       "</table>\n",
       "</div>"
      ],
      "text/plain": [
       "                     Relationship_class_name   Object_class_name_1  \\\n",
       "0                      model__temporal_block                 model   \n",
       "1              model__default_temporal_block                 model   \n",
       "2                model__stochastic_structure                 model   \n",
       "3        model__default_stochastic_structure                 model   \n",
       "4  stochastic_structure__stochastic_scenario  stochastic_structure   \n",
       "\n",
       "    Object_class_name_2  Object_name_1  Object_name_2  \n",
       "0        temporal_block          Model         hourly  \n",
       "1        temporal_block          Model         hourly  \n",
       "2  stochastic_structure          Model  deterministic  \n",
       "3  stochastic_structure          Model  deterministic  \n",
       "4   stochastic_scenario  deterministic    realisation  "
      ]
     },
     "execution_count": 47,
     "metadata": {},
     "output_type": "execute_result"
    }
   ],
   "source": [
    "#reports\n",
    "column_names_model_structure = {'Object_class_name':['model','temporal_block','stochastic_scenario', 'stochastic_structure', 'report'],\n",
    "                      'Object_name': [model_name, temporal_block, stochastic_scenario, stochastic_structure, report_name]}\n",
    "df_reports = pd.DataFrame({\n",
    "    'Relationship_class_name': ['report__output']*len(reports),\n",
    "    'Object_class_name_1': ['report']*len(reports),\n",
    "    'Object_class_name_2': ['output']*len(reports),\n",
    "    'Object_name_1': [report_name]*len(reports),\n",
    "    'Object_name_2': reports\n",
    "})\n",
    "#everything else\n",
    "df_model_struc = pd.DataFrame({\n",
    "    'Relationship_class_name': ['model__temporal_block','model__default_temporal_block', \n",
    "                                'model__stochastic_structure', 'model__default_stochastic_structure',\n",
    "                                'stochastic_structure__stochastic_scenario', 'model__report'],\n",
    "    'Object_class_name_1': ['model','model','model','model','stochastic_structure','model'],\n",
    "    'Object_class_name_2': ['temporal_block', 'temporal_block','stochastic_structure','stochastic_structure', 'stochastic_scenario','report'],\n",
    "    'Object_name_1': [model_name, model_name,model_name,model_name,stochastic_structure, model_name],\n",
    "    'Object_name_2': [temporal_block, temporal_block, stochastic_structure, stochastic_structure, stochastic_scenario, report_name]\n",
    "})\n",
    "df_model_relations = pd.concat([df_model_struc, df_reports], axis=0)\n",
    "df_model_relations = df_model_relations.reset_index(drop=True)\n",
    "\n",
    "# Defining default invetsment temporal block\n",
    "df_model_relations.loc[len(df_model_relations.index)] = ['model__default_investment_temporal_block', 'model', 'temporal_block', model_name, 'Default_Investment_period']\n",
    "\n",
    "# Defining default investment stochastic structure \n",
    "df_model_relations.loc[len(df_model_relations.index)] = ['model__default_investment_stochastic_structure', 'model', 'stochastic_structure', model_name, stochastic_structure]\n",
    "\n",
    "#show table head for control\n",
    "df_model_relations.head()"
   ]
  },
  {
   "cell_type": "markdown",
   "id": "892b88dc-3a5b-41c5-b184-64593c28c72c",
   "metadata": {
    "papermill": {
     "duration": 0.04688,
     "end_time": "2024-08-25T18:49:53.046603",
     "exception": false,
     "start_time": "2024-08-25T18:49:52.999723",
     "status": "completed"
    },
    "tags": []
   },
   "source": [
    "#### Model:"
   ]
  },
  {
   "cell_type": "code",
   "execution_count": 48,
   "id": "3960d14b-394b-4599-9e1e-8831aa59e6f8",
   "metadata": {
    "execution": {
     "iopub.execute_input": "2024-08-25T18:49:53.146880Z",
     "iopub.status.busy": "2024-08-25T18:49:53.146880Z",
     "iopub.status.idle": "2024-08-25T18:49:53.193757Z",
     "shell.execute_reply": "2024-08-25T18:49:53.193757Z"
    },
    "papermill": {
     "duration": 0.100276,
     "end_time": "2024-08-25T18:49:53.193757",
     "exception": false,
     "start_time": "2024-08-25T18:49:53.093481",
     "status": "completed"
    },
    "tags": []
   },
   "outputs": [
    {
     "data": {
      "text/html": [
       "<div>\n",
       "<style scoped>\n",
       "    .dataframe tbody tr th:only-of-type {\n",
       "        vertical-align: middle;\n",
       "    }\n",
       "\n",
       "    .dataframe tbody tr th {\n",
       "        vertical-align: top;\n",
       "    }\n",
       "\n",
       "    .dataframe thead th {\n",
       "        text-align: right;\n",
       "    }\n",
       "</style>\n",
       "<table border=\"1\" class=\"dataframe\">\n",
       "  <thead>\n",
       "    <tr style=\"text-align: right;\">\n",
       "      <th></th>\n",
       "      <th>Object_class_name</th>\n",
       "      <th>Object_name</th>\n",
       "      <th>Parameter</th>\n",
       "      <th>Alternative</th>\n",
       "      <th>Value</th>\n",
       "    </tr>\n",
       "  </thead>\n",
       "  <tbody>\n",
       "    <tr>\n",
       "      <th>0</th>\n",
       "      <td>model</td>\n",
       "      <td>Model</td>\n",
       "      <td>model_start</td>\n",
       "      <td>Base</td>\n",
       "      <td>{\"type\": \"date_time\", \"data\": \"2020-01-01T00:0...</td>\n",
       "    </tr>\n",
       "    <tr>\n",
       "      <th>1</th>\n",
       "      <td>model</td>\n",
       "      <td>Model</td>\n",
       "      <td>model_end</td>\n",
       "      <td>Base</td>\n",
       "      <td>{\"type\": \"date_time\", \"data\": \"2020-12-31T23:0...</td>\n",
       "    </tr>\n",
       "    <tr>\n",
       "      <th>2</th>\n",
       "      <td>temporal_block</td>\n",
       "      <td>hourly</td>\n",
       "      <td>resolution</td>\n",
       "      <td>Base</td>\n",
       "      <td>{\"type\":\"duration\", \"data\": \"1h\"}</td>\n",
       "    </tr>\n",
       "    <tr>\n",
       "      <th>3</th>\n",
       "      <td>temporal_block</td>\n",
       "      <td>Default_Investment_period</td>\n",
       "      <td>resolution</td>\n",
       "      <td>Base</td>\n",
       "      <td>{\"type\":\"duration\", \"data\": \"1Y\"}</td>\n",
       "    </tr>\n",
       "  </tbody>\n",
       "</table>\n",
       "</div>"
      ],
      "text/plain": [
       "  Object_class_name                Object_name    Parameter Alternative  \\\n",
       "0             model                      Model  model_start        Base   \n",
       "1             model                      Model    model_end        Base   \n",
       "2    temporal_block                     hourly   resolution        Base   \n",
       "3    temporal_block  Default_Investment_period   resolution        Base   \n",
       "\n",
       "                                               Value  \n",
       "0  {\"type\": \"date_time\", \"data\": \"2020-01-01T00:0...  \n",
       "1  {\"type\": \"date_time\", \"data\": \"2020-12-31T23:0...  \n",
       "2                  {\"type\":\"duration\", \"data\": \"1h\"}  \n",
       "3                  {\"type\":\"duration\", \"data\": \"1Y\"}  "
      ]
     },
     "execution_count": 48,
     "metadata": {},
     "output_type": "execute_result"
    }
   ],
   "source": [
    "### take first 3 columns and add another table with \"Alternative\", \"Value\"\n",
    "column_names_model = {'Object_class_name':['model','model','temporal_block'],\n",
    "                      'Object_name': [model_name, model_name, temporal_block],\n",
    "                      'Parameter':['model_start','model_end','resolution'],\n",
    "                      'Alternative': [scenario[0], scenario[0], scenario[0]],\n",
    "                      'Value': ['{\"type\": \"date_time\", \"data\": \"'+df_time.iloc[0]['DateTime']+'\"}',\n",
    "                          '{\"type\": \"date_time\", \"data\": \"'+df_time.iloc[-1]['DateTime']+'\"}', \n",
    "                          '{\"type\":\"duration\", \"data\": \"'+frequency+'\"}']}\n",
    "df_model = pd.DataFrame(column_names_model, index=None)\n",
    "\n",
    "#Add investment temporal blocks to model data frame\n",
    "df_model.loc[len(df_model.index)] = ['temporal_block', 'Default_Investment_period', 'resolution', scenario[0], '{\"type\":\"duration\", \"data\": \"'+investment_period_default+'\"}']\n",
    "\n",
    "#show table head for control\n",
    "df_model"
   ]
  },
  {
   "cell_type": "code",
   "execution_count": 49,
   "id": "4b24d678-4167-4521-a6ab-aae160dc13ae",
   "metadata": {
    "execution": {
     "iopub.execute_input": "2024-08-25T18:49:53.300538Z",
     "iopub.status.busy": "2024-08-25T18:49:53.300538Z",
     "iopub.status.idle": "2024-08-25T18:49:53.331795Z",
     "shell.execute_reply": "2024-08-25T18:49:53.331795Z"
    },
    "papermill": {
     "duration": 0.084641,
     "end_time": "2024-08-25T18:49:53.331795",
     "exception": false,
     "start_time": "2024-08-25T18:49:53.247154",
     "status": "completed"
    },
    "tags": []
   },
   "outputs": [],
   "source": [
    "# add information in case roll forward is used\n",
    "if roll_forward_use == True:\n",
    "    if temporal_block == 'hourly':\n",
    "        unit = 'h'\n",
    "    elif temporal_block == 'daily':\n",
    "        unit = 'D'\n",
    "    elif temporal_block == 'monthly':\n",
    "        unit = 'M'\n",
    "    else:\n",
    "        unit = ''\n",
    "        print(\"\\033[91mWARNING:\\033[0m Duration not defined!!!\")\n",
    "    #now add the new row to the df\n",
    "    roll_forward_size_with_unit = str(roll_forward_size) + unit\n",
    "    roll_forward_row = {'Object_class_name': 'model', \n",
    "                        'Object_name': model_name, \n",
    "                        'Parameter': 'roll_forward',\n",
    "                        'Alternative': scenario,\n",
    "                        'Value': '{\"type\": \"duration\", \"data\": \"' + roll_forward_size_with_unit +'\"}'\n",
    "                       }\n",
    "    # Add new row to df_model DataFrame\n",
    "    df_model.loc[len(df_model)] = roll_forward_row"
   ]
  },
  {
   "cell_type": "code",
   "execution_count": 50,
   "id": "14842492",
   "metadata": {
    "execution": {
     "iopub.execute_input": "2024-08-25T18:49:53.432066Z",
     "iopub.status.busy": "2024-08-25T18:49:53.432066Z",
     "iopub.status.idle": "2024-08-25T18:49:53.516717Z",
     "shell.execute_reply": "2024-08-25T18:49:53.516717Z"
    },
    "papermill": {
     "duration": 0.13805,
     "end_time": "2024-08-25T18:49:53.516717",
     "exception": false,
     "start_time": "2024-08-25T18:49:53.378667",
     "status": "completed"
    },
    "tags": []
   },
   "outputs": [
    {
     "data": {
      "text/html": [
       "<div>\n",
       "<style scoped>\n",
       "    .dataframe tbody tr th:only-of-type {\n",
       "        vertical-align: middle;\n",
       "    }\n",
       "\n",
       "    .dataframe tbody tr th {\n",
       "        vertical-align: top;\n",
       "    }\n",
       "\n",
       "    .dataframe thead th {\n",
       "        text-align: right;\n",
       "    }\n",
       "</style>\n",
       "<table border=\"1\" class=\"dataframe\">\n",
       "  <thead>\n",
       "    <tr style=\"text-align: right;\">\n",
       "      <th></th>\n",
       "      <th>Relationship_class_name</th>\n",
       "      <th>Object_class_name_1</th>\n",
       "      <th>Object_class_name_2</th>\n",
       "      <th>Object_name_1</th>\n",
       "      <th>Object_name_2</th>\n",
       "    </tr>\n",
       "  </thead>\n",
       "  <tbody>\n",
       "    <tr>\n",
       "      <th>0</th>\n",
       "      <td>model__temporal_block</td>\n",
       "      <td>model</td>\n",
       "      <td>temporal_block</td>\n",
       "      <td>Model</td>\n",
       "      <td>hourly</td>\n",
       "    </tr>\n",
       "    <tr>\n",
       "      <th>1</th>\n",
       "      <td>model__default_temporal_block</td>\n",
       "      <td>model</td>\n",
       "      <td>temporal_block</td>\n",
       "      <td>Model</td>\n",
       "      <td>hourly</td>\n",
       "    </tr>\n",
       "    <tr>\n",
       "      <th>2</th>\n",
       "      <td>model__stochastic_structure</td>\n",
       "      <td>model</td>\n",
       "      <td>stochastic_structure</td>\n",
       "      <td>Model</td>\n",
       "      <td>deterministic</td>\n",
       "    </tr>\n",
       "    <tr>\n",
       "      <th>3</th>\n",
       "      <td>model__default_stochastic_structure</td>\n",
       "      <td>model</td>\n",
       "      <td>stochastic_structure</td>\n",
       "      <td>Model</td>\n",
       "      <td>deterministic</td>\n",
       "    </tr>\n",
       "    <tr>\n",
       "      <th>4</th>\n",
       "      <td>stochastic_structure__stochastic_scenario</td>\n",
       "      <td>stochastic_structure</td>\n",
       "      <td>stochastic_scenario</td>\n",
       "      <td>deterministic</td>\n",
       "      <td>realisation</td>\n",
       "    </tr>\n",
       "    <tr>\n",
       "      <th>5</th>\n",
       "      <td>model__report</td>\n",
       "      <td>model</td>\n",
       "      <td>report</td>\n",
       "      <td>Model</td>\n",
       "      <td>Report</td>\n",
       "    </tr>\n",
       "    <tr>\n",
       "      <th>6</th>\n",
       "      <td>report__output</td>\n",
       "      <td>report</td>\n",
       "      <td>output</td>\n",
       "      <td>Report</td>\n",
       "      <td>unit_flow_op</td>\n",
       "    </tr>\n",
       "    <tr>\n",
       "      <th>7</th>\n",
       "      <td>report__output</td>\n",
       "      <td>report</td>\n",
       "      <td>output</td>\n",
       "      <td>Report</td>\n",
       "      <td>unit_flow</td>\n",
       "    </tr>\n",
       "    <tr>\n",
       "      <th>8</th>\n",
       "      <td>report__output</td>\n",
       "      <td>report</td>\n",
       "      <td>output</td>\n",
       "      <td>Report</td>\n",
       "      <td>total_costs</td>\n",
       "    </tr>\n",
       "    <tr>\n",
       "      <th>9</th>\n",
       "      <td>report__output</td>\n",
       "      <td>report</td>\n",
       "      <td>output</td>\n",
       "      <td>Report</td>\n",
       "      <td>node_slack_pos</td>\n",
       "    </tr>\n",
       "    <tr>\n",
       "      <th>10</th>\n",
       "      <td>report__output</td>\n",
       "      <td>report</td>\n",
       "      <td>output</td>\n",
       "      <td>Report</td>\n",
       "      <td>connection_flow</td>\n",
       "    </tr>\n",
       "    <tr>\n",
       "      <th>11</th>\n",
       "      <td>report__output</td>\n",
       "      <td>report</td>\n",
       "      <td>output</td>\n",
       "      <td>Report</td>\n",
       "      <td>node_state</td>\n",
       "    </tr>\n",
       "    <tr>\n",
       "      <th>12</th>\n",
       "      <td>report__output</td>\n",
       "      <td>report</td>\n",
       "      <td>output</td>\n",
       "      <td>Report</td>\n",
       "      <td>node_slack_neg</td>\n",
       "    </tr>\n",
       "    <tr>\n",
       "      <th>13</th>\n",
       "      <td>model__default_investment_temporal_block</td>\n",
       "      <td>model</td>\n",
       "      <td>temporal_block</td>\n",
       "      <td>Model</td>\n",
       "      <td>Default_Investment_period</td>\n",
       "    </tr>\n",
       "    <tr>\n",
       "      <th>14</th>\n",
       "      <td>model__default_investment_stochastic_structure</td>\n",
       "      <td>model</td>\n",
       "      <td>stochastic_structure</td>\n",
       "      <td>Model</td>\n",
       "      <td>deterministic</td>\n",
       "    </tr>\n",
       "    <tr>\n",
       "      <th>15</th>\n",
       "      <td>model__temporal_block</td>\n",
       "      <td>model</td>\n",
       "      <td>temporal_block</td>\n",
       "      <td>Model</td>\n",
       "      <td>daily</td>\n",
       "    </tr>\n",
       "    <tr>\n",
       "      <th>16</th>\n",
       "      <td>node__temporal_block</td>\n",
       "      <td>node</td>\n",
       "      <td>temporal_block</td>\n",
       "      <td>E-Methanol_Kasso_demand</td>\n",
       "      <td>daily</td>\n",
       "    </tr>\n",
       "  </tbody>\n",
       "</table>\n",
       "</div>"
      ],
      "text/plain": [
       "                           Relationship_class_name   Object_class_name_1  \\\n",
       "0                            model__temporal_block                 model   \n",
       "1                    model__default_temporal_block                 model   \n",
       "2                      model__stochastic_structure                 model   \n",
       "3              model__default_stochastic_structure                 model   \n",
       "4        stochastic_structure__stochastic_scenario  stochastic_structure   \n",
       "5                                    model__report                 model   \n",
       "6                                   report__output                report   \n",
       "7                                   report__output                report   \n",
       "8                                   report__output                report   \n",
       "9                                   report__output                report   \n",
       "10                                  report__output                report   \n",
       "11                                  report__output                report   \n",
       "12                                  report__output                report   \n",
       "13        model__default_investment_temporal_block                 model   \n",
       "14  model__default_investment_stochastic_structure                 model   \n",
       "15                           model__temporal_block                 model   \n",
       "16                            node__temporal_block                  node   \n",
       "\n",
       "     Object_class_name_2            Object_name_1              Object_name_2  \n",
       "0         temporal_block                    Model                     hourly  \n",
       "1         temporal_block                    Model                     hourly  \n",
       "2   stochastic_structure                    Model              deterministic  \n",
       "3   stochastic_structure                    Model              deterministic  \n",
       "4    stochastic_scenario            deterministic                realisation  \n",
       "5                 report                    Model                     Report  \n",
       "6                 output                   Report               unit_flow_op  \n",
       "7                 output                   Report                  unit_flow  \n",
       "8                 output                   Report                total_costs  \n",
       "9                 output                   Report             node_slack_pos  \n",
       "10                output                   Report            connection_flow  \n",
       "11                output                   Report                 node_state  \n",
       "12                output                   Report             node_slack_neg  \n",
       "13        temporal_block                    Model  Default_Investment_period  \n",
       "14  stochastic_structure                    Model              deterministic  \n",
       "15        temporal_block                    Model                      daily  \n",
       "16        temporal_block  E-Methanol_Kasso_demand                      daily  "
      ]
     },
     "execution_count": 50,
     "metadata": {},
     "output_type": "execute_result"
    }
   ],
   "source": [
    "# temporal resolution for demand\n",
    "#Add temporal block to definition, if necessary\n",
    "df_model_units['resolution_output'].apply(lambda x: check_temporal_block(x, df_model_components))\n",
    "\n",
    "#Add relation to respective node\n",
    "df_model_units.apply(lambda row: create_temporal_block_relationships(row['resolution_output'],row['Output1'], df_model_relations, model_name, df_definition),axis=1)\n",
    "\n",
    "#Add values to temporal block\n",
    "df_model_units['resolution_output'].apply(lambda x: create_temporal_block_input(x, df_model))\n",
    "df_model_relations"
   ]
  },
  {
   "cell_type": "markdown",
   "id": "18dfbf3e-1928-4547-8b3a-dac782ca46a3",
   "metadata": {
    "papermill": {
     "duration": 0.069017,
     "end_time": "2024-08-25T18:49:53.632608",
     "exception": false,
     "start_time": "2024-08-25T18:49:53.563591",
     "status": "completed"
    },
    "tags": []
   },
   "source": [
    "### Creating one combined excel and export"
   ]
  },
  {
   "cell_type": "code",
   "execution_count": 51,
   "id": "5523a4cd-ad6f-44d6-993d-3ebaf00680c2",
   "metadata": {
    "execution": {
     "iopub.execute_input": "2024-08-25T18:49:53.764127Z",
     "iopub.status.busy": "2024-08-25T18:49:53.764127Z",
     "iopub.status.idle": "2024-08-25T18:49:58.591097Z",
     "shell.execute_reply": "2024-08-25T18:49:58.591097Z"
    },
    "papermill": {
     "duration": 4.902505,
     "end_time": "2024-08-25T18:49:58.597611",
     "exception": false,
     "start_time": "2024-08-25T18:49:53.695106",
     "status": "completed"
    },
    "tags": []
   },
   "outputs": [],
   "source": [
    "#create the prepared input excel for the use in SpineToolbox\n",
    "with pd.ExcelWriter(output_file_path + output_file_name) as writer:\n",
    "    df_definition.to_excel(writer, sheet_name='Definition', index=False)\n",
    "    unit_parameters_rest_df.to_excel(writer, sheet_name='Definition_parameters', index=False)\n",
    "    unit_parameters_duration_df.to_excel(writer, sheet_name='Definition_parameters_duration', index=False)\n",
    "    df_units_inv_parameters.to_excel(writer, sheet_name='Unit_Inv_Parameters', index=False)\n",
    "    df_nodes.to_excel(writer, sheet_name='Nodes', index=False)\n",
    "    df_connections_inv_parameters.to_excel(writer, sheet_name='Connection_Inv_Parameters', index=False)\n",
    "    df_object__node_definitions.to_excel(writer, sheet_name='Object__to_from_node_definition', index=False)\n",
    "    df_object__node_values.to_excel(writer, sheet_name='Object__to_from_node', index=False)\n",
    "    df_boolean_relations.to_excel(writer, sheet_name='Boolean_relations', index=False)\n",
    "    df_object_node_node.to_excel(writer, sheet_name='Object__node_node', index=False)\n",
    "    df_variable_eff_def.to_excel(writer, sheet_name='Variable_Eff_Definition', index=False)\n",
    "    df_variable_efficiency.to_excel(writer, sheet_name='Variable_Eff', index=False)\n",
    "    df_operating_points.to_excel(writer, sheet_name='Operating_points', index=False)\n",
    "    df_storage.to_excel(writer, sheet_name='Time_series_storage', index=False)\n",
    "    df_table_1.to_excel(writer, sheet_name='Time_series', index=False)\n",
    "    df_table_2.to_excel(writer, sheet_name='Energy_prices', index=False)\n",
    "    df_model_components.to_excel(writer, sheet_name='Model_components', index=False)\n",
    "    df_model_relations.to_excel(writer, sheet_name='Model_relations', index=False)\n",
    "    df_model.to_excel(writer, sheet_name='Model', index=False)"
   ]
  },
  {
   "cell_type": "code",
   "execution_count": 52,
   "id": "7ecfd010-a65f-4cfc-8ec2-a7d3bbded502",
   "metadata": {
    "execution": {
     "iopub.execute_input": "2024-08-25T18:49:58.713517Z",
     "iopub.status.busy": "2024-08-25T18:49:58.713517Z",
     "iopub.status.idle": "2024-08-25T18:49:58.776012Z",
     "shell.execute_reply": "2024-08-25T18:49:58.776012Z"
    },
    "papermill": {
     "duration": 0.115895,
     "end_time": "2024-08-25T18:49:58.776012",
     "exception": false,
     "start_time": "2024-08-25T18:49:58.660117",
     "status": "completed"
    },
    "tags": []
   },
   "outputs": [],
   "source": [
    "#create output of the mapping excel\n",
    "with pd.ExcelWriter(output_file_path + output_mapping_file_name) as writer:\n",
    "    df_model_object_mapping.to_excel(writer, sheet_name='Object_Mapping', index=False)"
   ]
  },
  {
   "cell_type": "code",
   "execution_count": 53,
   "id": "6fd66540-33e4-4200-8c13-6ee0ed292334",
   "metadata": {
    "execution": {
     "iopub.execute_input": "2024-08-25T18:49:58.876274Z",
     "iopub.status.busy": "2024-08-25T18:49:58.876274Z",
     "iopub.status.idle": "2024-08-25T18:49:58.976545Z",
     "shell.execute_reply": "2024-08-25T18:49:58.976545Z"
    },
    "papermill": {
     "duration": 0.147145,
     "end_time": "2024-08-25T18:49:58.976545",
     "exception": false,
     "start_time": "2024-08-25T18:49:58.829400",
     "status": "completed"
    },
    "tags": []
   },
   "outputs": [],
   "source": [
    "#copy efficiency\n",
    "other_name = \"other.xlsx\"\n",
    "with pd.ExcelWriter(output_file_path + other_name) as writer:\n",
    "    df_efficiency_electrolyzer_adj.to_excel(writer, sheet_name='efficiency', index=False)"
   ]
  },
  {
   "cell_type": "code",
   "execution_count": null,
   "id": "ba92e5da-4779-47e6-b5f6-ffd79ec6298c",
   "metadata": {
    "papermill": {
     "duration": 0.046876,
     "end_time": "2024-08-25T18:49:59.076815",
     "exception": false,
     "start_time": "2024-08-25T18:49:59.029939",
     "status": "completed"
    },
    "tags": []
   },
   "outputs": [],
   "source": []
  }
 ],
 "metadata": {
  "kernelspec": {
   "display_name": "Python 3 (ipykernel)",
   "language": "python",
   "name": "python3"
  },
  "language_info": {
   "codemirror_mode": {
    "name": "ipython",
    "version": 3
   },
   "file_extension": ".py",
   "mimetype": "text/x-python",
   "name": "python",
   "nbconvert_exporter": "python",
   "pygments_lexer": "ipython3",
   "version": "3.9.19"
  },
  "papermill": {
   "default_parameters": {},
   "duration": 40.104989,
   "end_time": "2024-08-25T18:49:59.662779",
   "environment_variables": {},
   "exception": null,
   "input_path": "00_functions\\data_preparation_nord_h2ub_spine.ipynb",
   "output_path": "00_functions\\please_ignore.ipynb",
   "parameters": {},
   "start_time": "2024-08-25T18:49:19.557790",
   "version": "2.6.0"
  }
 },
 "nbformat": 4,
 "nbformat_minor": 5
}