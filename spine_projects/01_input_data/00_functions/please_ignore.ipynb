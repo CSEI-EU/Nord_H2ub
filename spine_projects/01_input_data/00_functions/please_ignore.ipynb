{
 "cells": [
  {
   "cell_type": "markdown",
   "id": "43ea4b8f-0ba4-4513-8872-53f4a538a0d3",
   "metadata": {
    "papermill": {
     "duration": 0.019914,
     "end_time": "2024-09-12T15:17:33.262703",
     "exception": false,
     "start_time": "2024-09-12T15:17:33.242789",
     "status": "completed"
    },
    "tags": []
   },
   "source": [
    "# Data Preparation for the Nord_H2ub Spine Model"
   ]
  },
  {
   "cell_type": "markdown",
   "id": "1aa86773-4431-4a2f-9490-4b3cf0aa8d70",
   "metadata": {
    "papermill": {
     "duration": 0.019229,
     "end_time": "2024-09-12T15:17:33.298635",
     "exception": false,
     "start_time": "2024-09-12T15:17:33.279406",
     "status": "completed"
    },
    "tags": []
   },
   "source": [
    "This jupyter notebook contains all routines for the preparation of the input data sources into a input data file for the model in Spine. \n",
    "\n",
    "**Authors:** Johannes Giehl (jfg.eco@cbs.dk), Dana Hentschel (djh.eco@cbs.dk)"
   ]
  },
  {
   "cell_type": "markdown",
   "id": "eb8175ae-f246-4788-a309-c1a4890992f2",
   "metadata": {
    "papermill": {
     "duration": 0.01456,
     "end_time": "2024-09-12T15:17:33.328630",
     "exception": false,
     "start_time": "2024-09-12T15:17:33.314070",
     "status": "completed"
    },
    "tags": []
   },
   "source": [
    "## General settings"
   ]
  },
  {
   "cell_type": "markdown",
   "id": "5bc68f78-3383-4889-bd9e-8b3e3e2f6c2e",
   "metadata": {
    "papermill": {
     "duration": 0.017097,
     "end_time": "2024-09-12T15:17:33.361738",
     "exception": false,
     "start_time": "2024-09-12T15:17:33.344641",
     "status": "completed"
    },
    "tags": []
   },
   "source": [
    "### Packages:"
   ]
  },
  {
   "cell_type": "code",
   "execution_count": 1,
   "id": "f8f47a1c-073f-46c0-8a4d-7dafb1716b9b",
   "metadata": {
    "execution": {
     "iopub.execute_input": "2024-09-12T15:17:33.393138Z",
     "iopub.status.busy": "2024-09-12T15:17:33.393138Z",
     "iopub.status.idle": "2024-09-12T15:17:35.358862Z",
     "shell.execute_reply": "2024-09-12T15:17:35.355503Z"
    },
    "papermill": {
     "duration": 1.986813,
     "end_time": "2024-09-12T15:17:35.362231",
     "exception": false,
     "start_time": "2024-09-12T15:17:33.375418",
     "status": "completed"
    },
    "tags": []
   },
   "outputs": [],
   "source": [
    "import numpy as np\n",
    "import pandas as pd\n",
    "import matplotlib.pyplot as plt\n",
    "from datetime import timedelta\n",
    "import math\n",
    "import sys\n",
    "import os\n",
    "import pickle\n",
    "import warnings"
   ]
  },
  {
   "cell_type": "markdown",
   "id": "92141795-3716-404e-8e35-a096dcaa0c40",
   "metadata": {
    "papermill": {
     "duration": 0.021081,
     "end_time": "2024-09-12T15:17:35.411742",
     "exception": false,
     "start_time": "2024-09-12T15:17:35.390661",
     "status": "completed"
    },
    "tags": []
   },
   "source": [
    "### Methods:"
   ]
  },
  {
   "cell_type": "code",
   "execution_count": 2,
   "id": "23418a81-7e7c-47c4-afc1-805a5eb7aed1",
   "metadata": {
    "execution": {
     "iopub.execute_input": "2024-09-12T15:17:35.445552Z",
     "iopub.status.busy": "2024-09-12T15:17:35.444359Z",
     "iopub.status.idle": "2024-09-12T15:17:35.464424Z",
     "shell.execute_reply": "2024-09-12T15:17:35.463740Z"
    },
    "papermill": {
     "duration": 0.0367,
     "end_time": "2024-09-12T15:17:35.466506",
     "exception": false,
     "start_time": "2024-09-12T15:17:35.429806",
     "status": "completed"
    },
    "tags": []
   },
   "outputs": [],
   "source": [
    "#import the data preparation functions\n",
    "# Determine the current working directory\n",
    "module_path = os.getcwd()\n",
    "\n",
    "if os.path.basename(module_path) != '00_functions':\n",
    "# Set the module path (adjust the relative path if necessary)\n",
    "    module_path = os.path.abspath(os.path.join(module_path, '00_functions'))\n",
    "    if module_path not in sys.path:\n",
    "        sys.path.append(module_path)\n",
    "\n",
    "#load the functions and methods from the corresponding file\n",
    "from nord_h2ub_data_preparation_functions import *\n",
    "from nord_h2ub_data_preparation_main_functions import *"
   ]
  },
  {
   "cell_type": "markdown",
   "id": "3e50630f-868b-40f0-842e-c74d936b5d54",
   "metadata": {
    "papermill": {
     "duration": 0.016046,
     "end_time": "2024-09-12T15:17:35.496103",
     "exception": false,
     "start_time": "2024-09-12T15:17:35.480057",
     "status": "completed"
    },
    "tags": []
   },
   "source": [
    "### Base parameters"
   ]
  },
  {
   "cell_type": "code",
   "execution_count": 3,
   "id": "f557c73c",
   "metadata": {
    "execution": {
     "iopub.execute_input": "2024-09-12T15:17:35.535135Z",
     "iopub.status.busy": "2024-09-12T15:17:35.534123Z",
     "iopub.status.idle": "2024-09-12T15:17:35.560085Z",
     "shell.execute_reply": "2024-09-12T15:17:35.558471Z"
    },
    "papermill": {
     "duration": 0.04814,
     "end_time": "2024-09-12T15:17:35.562222",
     "exception": false,
     "start_time": "2024-09-12T15:17:35.514082",
     "status": "completed"
    },
    "tags": []
   },
   "outputs": [],
   "source": [
    "with open(os.path.join(module_path, 'parameters.pkl'), 'rb') as file:\n",
    "    parameters = pickle.load(file)"
   ]
  },
  {
   "cell_type": "code",
   "execution_count": 4,
   "id": "b565675a",
   "metadata": {
    "execution": {
     "iopub.execute_input": "2024-09-12T15:17:35.593942Z",
     "iopub.status.busy": "2024-09-12T15:17:35.593942Z",
     "iopub.status.idle": "2024-09-12T15:17:35.622508Z",
     "shell.execute_reply": "2024-09-12T15:17:35.621001Z"
    },
    "papermill": {
     "duration": 0.048157,
     "end_time": "2024-09-12T15:17:35.624521",
     "exception": false,
     "start_time": "2024-09-12T15:17:35.576364",
     "status": "completed"
    },
    "tags": []
   },
   "outputs": [],
   "source": [
    "if not parameters:  \n",
    "    print(\"Warning: No parameters were injected. Using default parameters only.\")\n",
    "    # Optionally, you could provide some default initialization here.\n",
    "\n",
    "(year, start_date, end_date, area, product, scenario, frequency, \n",
    "model_name, temporal_block, stochastic_scenario, stochastic_structure, \n",
    "report_name, reports, \n",
    "electrolyzer_type, des_segments_electrolyzer, \n",
    "share_of_dh_price_cap, price_level_power, power_price_variance, \n",
    "roll_forward_use, roll_forward_size, num_slices, datetime_index, \n",
    "candidate_nonzero, investment_period_default) = set_parameters(parameters)"
   ]
  },
  {
   "cell_type": "markdown",
   "id": "4c56b541-1fbd-4e7e-9cf3-2ff25f8da472",
   "metadata": {
    "papermill": {
     "duration": 0.01821,
     "end_time": "2024-09-12T15:17:35.656728",
     "exception": false,
     "start_time": "2024-09-12T15:17:35.638518",
     "status": "completed"
    },
    "tags": []
   },
   "source": [
    "### File paths"
   ]
  },
  {
   "cell_type": "code",
   "execution_count": 5,
   "id": "5b811bdc-ac7b-4cd7-8e32-8f84bda412a2",
   "metadata": {
    "execution": {
     "iopub.execute_input": "2024-09-12T15:17:35.692655Z",
     "iopub.status.busy": "2024-09-12T15:17:35.691699Z",
     "iopub.status.idle": "2024-09-12T15:17:35.701654Z",
     "shell.execute_reply": "2024-09-12T15:17:35.699832Z"
    },
    "papermill": {
     "duration": 0.03129,
     "end_time": "2024-09-12T15:17:35.706013",
     "exception": false,
     "start_time": "2024-09-12T15:17:35.674723",
     "status": "completed"
    },
    "tags": []
   },
   "outputs": [],
   "source": [
    "#set path to correct folders\n",
    "'''still not working if it is not started from this jupyter notebook'''\n",
    "#input data\n",
    "excel_file_path = get_excel_file_path() + '/01_input_raw/'\n",
    "#prepared input data\n",
    "output_file_path = get_excel_file_path() + '/02_input_prepared/'"
   ]
  },
  {
   "cell_type": "code",
   "execution_count": 6,
   "id": "89169e64-f204-47bb-9a83-17156a4aefa8",
   "metadata": {
    "execution": {
     "iopub.execute_input": "2024-09-12T15:17:35.735659Z",
     "iopub.status.busy": "2024-09-12T15:17:35.735659Z",
     "iopub.status.idle": "2024-09-12T15:17:35.747714Z",
     "shell.execute_reply": "2024-09-12T15:17:35.746688Z"
    },
    "papermill": {
     "duration": 0.029281,
     "end_time": "2024-09-12T15:17:35.750291",
     "exception": false,
     "start_time": "2024-09-12T15:17:35.721010",
     "status": "completed"
    },
    "tags": []
   },
   "outputs": [],
   "source": [
    "#set name of the relevant files\n",
    "\n",
    "Model_structure_file = '/Model_Data_Base.xlsx'\n",
    "efficiency_electrolyzer_file = '/Efficiency_Electrolyzers.xlsx'\n",
    "distric_heating_price_file = 'energy_prices/district_heating_price_cap.xlsx'\n",
    "investment_costs_file = '/Investment_cost_overview.xlsx'\n",
    "mapping_file = '/methanol_object_mapping.xlsx'\n",
    "\n",
    "PV_data_availabilityfactors = 'PV_availability_factors_Kasso.xlsx'\n",
    "data_powerprices = 'Day_ahead_prices_' + str(year) + '.xlsx'\n",
    "\n",
    "#output file\n",
    "output_file_name = product + '_Input_prepared.xlsx'\n",
    "output_mapping_file_name = product + '_object_mapping.xlsx'"
   ]
  },
  {
   "cell_type": "markdown",
   "id": "86d15fe8-064f-4c28-be28-8d924a4ba31b",
   "metadata": {
    "papermill": {
     "duration": 0.021106,
     "end_time": "2024-09-12T15:17:35.790181",
     "exception": false,
     "start_time": "2024-09-12T15:17:35.769075",
     "status": "completed"
    },
    "tags": []
   },
   "source": [
    "\n",
    "## Workflow of the data preparation"
   ]
  },
  {
   "cell_type": "markdown",
   "id": "ef6ad49f-470e-4b29-aa02-c7babb08befb",
   "metadata": {
    "papermill": {
     "duration": 0.013381,
     "end_time": "2024-09-12T15:17:35.823894",
     "exception": false,
     "start_time": "2024-09-12T15:17:35.810513",
     "status": "completed"
    },
    "tags": []
   },
   "source": [
    "### General parameters"
   ]
  },
  {
   "cell_type": "code",
   "execution_count": 7,
   "id": "c50f50c3-e43d-41c2-8158-75596632213b",
   "metadata": {
    "execution": {
     "iopub.execute_input": "2024-09-12T15:17:35.858733Z",
     "iopub.status.busy": "2024-09-12T15:17:35.857741Z",
     "iopub.status.idle": "2024-09-12T15:17:35.953956Z",
     "shell.execute_reply": "2024-09-12T15:17:35.952538Z"
    },
    "papermill": {
     "duration": 0.115251,
     "end_time": "2024-09-12T15:17:35.955989",
     "exception": false,
     "start_time": "2024-09-12T15:17:35.840738",
     "status": "completed"
    },
    "tags": []
   },
   "outputs": [],
   "source": [
    "#date index\n",
    "date_index = pd.date_range(start=start_date, end=end_date, freq='h')\n",
    "formatted_dates = date_index.strftime('%Y-%m-%dT%H:%M:%S')\n",
    "df_formatted_dates = pd.DataFrame(formatted_dates, columns=['DateTime'])\n",
    "\n",
    "df_time = pd.DataFrame(df_formatted_dates)"
   ]
  },
  {
   "cell_type": "markdown",
   "id": "88fb746a-7cd3-4655-88cf-ac543b003918",
   "metadata": {
    "papermill": {
     "duration": 0.021188,
     "end_time": "2024-09-12T15:17:35.990184",
     "exception": false,
     "start_time": "2024-09-12T15:17:35.968996",
     "status": "completed"
    },
    "tags": []
   },
   "source": [
    "### Data import"
   ]
  },
  {
   "cell_type": "code",
   "execution_count": 8,
   "id": "a42c5077-74ef-4f63-b6d9-4aa3c11aa878",
   "metadata": {
    "execution": {
     "iopub.execute_input": "2024-09-12T15:17:36.036745Z",
     "iopub.status.busy": "2024-09-12T15:17:36.036745Z",
     "iopub.status.idle": "2024-09-12T15:17:45.021087Z",
     "shell.execute_reply": "2024-09-12T15:17:45.018879Z"
    },
    "papermill": {
     "duration": 9.00834,
     "end_time": "2024-09-12T15:17:45.024353",
     "exception": false,
     "start_time": "2024-09-12T15:17:36.016013",
     "status": "completed"
    },
    "tags": []
   },
   "outputs": [],
   "source": [
    "warnings.filterwarnings(\"ignore\", category=UserWarning, module=\"openpyxl\")\n",
    "\n",
    "#Model structure\n",
    "df_model_units_raw = pd.read_excel(excel_file_path + product + Model_structure_file, sheet_name='Units', index_col=None)\n",
    "df_model_connections_raw = pd.read_excel(excel_file_path + product + Model_structure_file, sheet_name='Connections', index_col=None)\n",
    "df_model_storages_raw = pd.read_excel(excel_file_path + product + Model_structure_file, sheet_name='Storages', index_col=None)\n",
    "\n",
    "#Variable efficiency\n",
    "df_efficiency_electrolyzer = pd.read_excel(excel_file_path + product + efficiency_electrolyzer_file, sheet_name='Efficiency_'+electrolyzer_type)\n",
    "\n",
    "#Availability factor\n",
    "df_PV_availabilityfactors_values = pd.read_excel(excel_file_path+PV_data_availabilityfactors, skiprows=2, usecols=[0,1,2,3,4,5])\n",
    "\n",
    "#Power prices\n",
    "df_powerprices_total_values = pd.read_excel(excel_file_path+data_powerprices)\n",
    "#only extracting the prices from our earlier defined area\n",
    "df_powerprices_values = df_powerprices_total_values[df_powerprices_total_values['PriceArea'] == area]\n",
    "df_powerprices_values = df_powerprices_values.reset_index(drop=True)\n",
    "\n",
    "#District heating prices\n",
    "df_district_heating_price = pd.read_excel(excel_file_path + distric_heating_price_file, sheet_name='Price_Cap_Calculation', index_col=None)\n",
    "\n",
    "#Investment costs\n",
    "df_investment_costs_raw = pd.read_excel(excel_file_path + product + investment_costs_file, sheet_name='Investment_Cost', index_col=None)\n",
    "\n",
    "#Mapping between entity and parameter name\n",
    "df_mapping = pd.read_excel(excel_file_path + product + mapping_file, sheet_name='Object_Mapping', index_col=None)"
   ]
  },
  {
   "cell_type": "markdown",
   "id": "c2693fc2-fe36-47a1-9b08-00f73dd53b9f",
   "metadata": {
    "papermill": {
     "duration": 0.035216,
     "end_time": "2024-09-12T15:17:45.090675",
     "exception": false,
     "start_time": "2024-09-12T15:17:45.055459",
     "status": "completed"
    },
    "tags": []
   },
   "source": [
    "### Adjustments"
   ]
  },
  {
   "cell_type": "markdown",
   "id": "28376bad-520d-4ab3-85ce-2d1cf91ac5e5",
   "metadata": {
    "papermill": {
     "duration": 0.03108,
     "end_time": "2024-09-12T15:17:45.156833",
     "exception": false,
     "start_time": "2024-09-12T15:17:45.125753",
     "status": "completed"
    },
    "tags": []
   },
   "source": [
    "#### Adjust base elements:"
   ]
  },
  {
   "cell_type": "code",
   "execution_count": 9,
   "id": "7dfe4eb9-681a-4574-8170-cdc08156460b",
   "metadata": {
    "execution": {
     "iopub.execute_input": "2024-09-12T15:17:45.228562Z",
     "iopub.status.busy": "2024-09-12T15:17:45.227552Z",
     "iopub.status.idle": "2024-09-12T15:17:45.273498Z",
     "shell.execute_reply": "2024-09-12T15:17:45.271495Z"
    },
    "papermill": {
     "duration": 0.08964,
     "end_time": "2024-09-12T15:17:45.278497",
     "exception": false,
     "start_time": "2024-09-12T15:17:45.188857",
     "status": "completed"
    },
    "tags": []
   },
   "outputs": [],
   "source": [
    "#drop some unnecessary information\n",
    "df_model_units = df_model_units_raw.drop(columns = ['Object_type']).copy()\n",
    "df_model_connections = df_model_connections_raw.drop(columns = ['Object_type']).copy()\n",
    "df_model_storages = df_model_storages_raw.drop(columns = ['Object_type']).copy()\n",
    "\n",
    "#create mapping tables for object name to type\n",
    "df_model_units_mapping = df_model_units_raw[['Unit', 'Object_type']].copy()\n",
    "df_model_connections_mapping = df_model_connections_raw[['Connection', 'Object_type']].copy()\n",
    "df_model_storages_mapping = df_model_storages_raw[['Storage', 'Object_type']].copy()\n",
    "\n",
    "df_model_units_mapping.rename(columns={'Unit': 'Object_Name'}, inplace=True)\n",
    "df_model_connections_mapping.rename(columns={'Connection': 'Object_Name'}, inplace=True)\n",
    "df_model_storages_mapping.rename(columns={'Storage': 'Object_Name'}, inplace=True)\n",
    "\n",
    "#create a dataframe with mapping of all object in the model\n",
    "df_model_object_mapping = pd.concat([df_model_units_mapping, df_model_connections_mapping, df_model_storages_mapping], axis=0)\n",
    "df_model_object_mapping = df_model_object_mapping.reset_index(drop=True)"
   ]
  },
  {
   "cell_type": "code",
   "execution_count": 10,
   "id": "c925e933",
   "metadata": {
    "execution": {
     "iopub.execute_input": "2024-09-12T15:17:45.367348Z",
     "iopub.status.busy": "2024-09-12T15:17:45.366334Z",
     "iopub.status.idle": "2024-09-12T15:17:45.397925Z",
     "shell.execute_reply": "2024-09-12T15:17:45.395832Z"
    },
    "papermill": {
     "duration": 0.090914,
     "end_time": "2024-09-12T15:17:45.403198",
     "exception": false,
     "start_time": "2024-09-12T15:17:45.312284",
     "status": "completed"
    },
    "tags": []
   },
   "outputs": [],
   "source": [
    "#Adjust time by transforming years/months etc into days\n",
    "df_model_units['unit_investment_tech_lifetime'] = df_model_units['unit_investment_tech_lifetime'].apply(lambda x: convert_to_days(x, year))\n",
    "df_model_connections['connection_investment_tech_lifetime'] = df_model_connections['connection_investment_tech_lifetime'].apply(lambda x: convert_to_days(x, year))\n",
    "df_model_storages['storage_investment_tech_lifetime'] = df_model_storages['storage_investment_tech_lifetime'].apply(lambda x: convert_to_days(x, year))"
   ]
  },
  {
   "cell_type": "code",
   "execution_count": 11,
   "id": "582acf93-55ae-492a-ac60-bb447644e425",
   "metadata": {
    "execution": {
     "iopub.execute_input": "2024-09-12T15:17:45.490353Z",
     "iopub.status.busy": "2024-09-12T15:17:45.489353Z",
     "iopub.status.idle": "2024-09-12T15:17:45.504960Z",
     "shell.execute_reply": "2024-09-12T15:17:45.503828Z"
    },
    "papermill": {
     "duration": 0.066994,
     "end_time": "2024-09-12T15:17:45.509395",
     "exception": false,
     "start_time": "2024-09-12T15:17:45.442401",
     "status": "completed"
    },
    "tags": []
   },
   "outputs": [],
   "source": [
    "df_units = process_dataframe(df_model_units, 'Unit', 'unit')\n",
    "df_connections = process_dataframe(df_model_connections, 'Connection', 'connection')"
   ]
  },
  {
   "cell_type": "code",
   "execution_count": 12,
   "id": "28e86607-2ad3-4aa8-8bbd-3bee30a62970",
   "metadata": {
    "execution": {
     "iopub.execute_input": "2024-09-12T15:17:45.566356Z",
     "iopub.status.busy": "2024-09-12T15:17:45.566356Z",
     "iopub.status.idle": "2024-09-12T15:17:45.583379Z",
     "shell.execute_reply": "2024-09-12T15:17:45.582041Z"
    },
    "papermill": {
     "duration": 0.055932,
     "end_time": "2024-09-12T15:17:45.589394",
     "exception": false,
     "start_time": "2024-09-12T15:17:45.533462",
     "status": "completed"
    },
    "scrolled": true,
    "tags": []
   },
   "outputs": [],
   "source": [
    "#adjust the storage loss rate values to fit to the SpineOpt implementation\n",
    "df_model_storages = adjust_frac_state_loss(df_model_storages, 'frac_state_loss')"
   ]
  },
  {
   "cell_type": "code",
   "execution_count": 13,
   "id": "1f7ec120-9bbf-40af-ac29-9b429051d1a7",
   "metadata": {
    "execution": {
     "iopub.execute_input": "2024-09-12T15:17:45.650896Z",
     "iopub.status.busy": "2024-09-12T15:17:45.650896Z",
     "iopub.status.idle": "2024-09-12T15:17:45.676223Z",
     "shell.execute_reply": "2024-09-12T15:17:45.674156Z"
    },
    "papermill": {
     "duration": 0.060463,
     "end_time": "2024-09-12T15:17:45.678612",
     "exception": false,
     "start_time": "2024-09-12T15:17:45.618149",
     "status": "completed"
    },
    "tags": []
   },
   "outputs": [],
   "source": [
    "#define the elements of the network\n",
    "df_definition, df_nodes = create_definition_dataframe(df_model_units, df_model_connections)"
   ]
  },
  {
   "cell_type": "code",
   "execution_count": 14,
   "id": "f3c90d86-d62f-49aa-bf8c-a7ceec921d8b",
   "metadata": {
    "execution": {
     "iopub.execute_input": "2024-09-12T15:17:45.714652Z",
     "iopub.status.busy": "2024-09-12T15:17:45.713653Z",
     "iopub.status.idle": "2024-09-12T15:17:45.784517Z",
     "shell.execute_reply": "2024-09-12T15:17:45.782189Z"
    },
    "papermill": {
     "duration": 0.093369,
     "end_time": "2024-09-12T15:17:45.788898",
     "exception": false,
     "start_time": "2024-09-12T15:17:45.695529",
     "status": "completed"
    },
    "tags": []
   },
   "outputs": [
    {
     "name": "stderr",
     "output_type": "stream",
     "text": [
      "C:\\Users\\jfg.eco\\Documents\\GitHub\\Nord_H2ub\\Spine_Projects\\01_input_data\\00_functions\\nord_h2ub_data_preparation_functions.py:385: FutureWarning: The behavior of DataFrame concatenation with empty or all-NA entries is deprecated. In a future version, this will no longer exclude empty or all-NA columns when determining the result dtypes. To retain the old behavior, exclude the relevant entries before the concat operation.\n",
      "  unit_parameter_df = pd.concat([unit_parameter_df, pd.DataFrame([new_row])], ignore_index=True)\n",
      "C:\\Users\\jfg.eco\\Documents\\GitHub\\Nord_H2ub\\Spine_Projects\\01_input_data\\00_functions\\nord_h2ub_data_preparation_functions.py:385: FutureWarning: The behavior of DataFrame concatenation with empty or all-NA entries is deprecated. In a future version, this will no longer exclude empty or all-NA columns when determining the result dtypes. To retain the old behavior, exclude the relevant entries before the concat operation.\n",
      "  unit_parameter_df = pd.concat([unit_parameter_df, pd.DataFrame([new_row])], ignore_index=True)\n",
      "C:\\Users\\jfg.eco\\Documents\\GitHub\\Nord_H2ub\\Spine_Projects\\01_input_data\\00_functions\\nord_h2ub_data_preparation_functions.py:385: FutureWarning: The behavior of DataFrame concatenation with empty or all-NA entries is deprecated. In a future version, this will no longer exclude empty or all-NA columns when determining the result dtypes. To retain the old behavior, exclude the relevant entries before the concat operation.\n",
      "  unit_parameter_df = pd.concat([unit_parameter_df, pd.DataFrame([new_row])], ignore_index=True)\n"
     ]
    },
    {
     "data": {
      "text/html": [
       "<div>\n",
       "<style scoped>\n",
       "    .dataframe tbody tr th:only-of-type {\n",
       "        vertical-align: middle;\n",
       "    }\n",
       "\n",
       "    .dataframe tbody tr th {\n",
       "        vertical-align: top;\n",
       "    }\n",
       "\n",
       "    .dataframe thead th {\n",
       "        text-align: right;\n",
       "    }\n",
       "</style>\n",
       "<table border=\"1\" class=\"dataframe\">\n",
       "  <thead>\n",
       "    <tr style=\"text-align: right;\">\n",
       "      <th></th>\n",
       "      <th>Object_Name</th>\n",
       "      <th>Category</th>\n",
       "      <th>parameter</th>\n",
       "      <th>value</th>\n",
       "    </tr>\n",
       "  </thead>\n",
       "  <tbody>\n",
       "    <tr>\n",
       "      <th>0</th>\n",
       "      <td>Solar_Plant_Kasso</td>\n",
       "      <td>unit</td>\n",
       "      <td>fom_cost</td>\n",
       "      <td>1.29</td>\n",
       "    </tr>\n",
       "    <tr>\n",
       "      <th>1</th>\n",
       "      <td>Electrolyzer</td>\n",
       "      <td>unit</td>\n",
       "      <td>fom_cost</td>\n",
       "      <td>4.34</td>\n",
       "    </tr>\n",
       "    <tr>\n",
       "      <th>2</th>\n",
       "      <td>Methanol_Reactor</td>\n",
       "      <td>unit</td>\n",
       "      <td>fom_cost</td>\n",
       "      <td>4.45</td>\n",
       "    </tr>\n",
       "    <tr>\n",
       "      <th>3</th>\n",
       "      <td>Steam_Plant</td>\n",
       "      <td>unit</td>\n",
       "      <td>fom_cost</td>\n",
       "      <td>0.119292</td>\n",
       "    </tr>\n",
       "    <tr>\n",
       "      <th>4</th>\n",
       "      <td>Solar_Plant_Kasso</td>\n",
       "      <td>unit</td>\n",
       "      <td>units_on_cost</td>\n",
       "      <td>0.0</td>\n",
       "    </tr>\n",
       "    <tr>\n",
       "      <th>5</th>\n",
       "      <td>Electrolyzer</td>\n",
       "      <td>unit</td>\n",
       "      <td>units_on_cost</td>\n",
       "      <td>0.0</td>\n",
       "    </tr>\n",
       "    <tr>\n",
       "      <th>6</th>\n",
       "      <td>CO2_Vaporizer</td>\n",
       "      <td>unit</td>\n",
       "      <td>units_on_cost</td>\n",
       "      <td>0.0</td>\n",
       "    </tr>\n",
       "    <tr>\n",
       "      <th>7</th>\n",
       "      <td>Destilation_Tower</td>\n",
       "      <td>unit</td>\n",
       "      <td>units_on_cost</td>\n",
       "      <td>0.0</td>\n",
       "    </tr>\n",
       "    <tr>\n",
       "      <th>8</th>\n",
       "      <td>Methanol_Reactor</td>\n",
       "      <td>unit</td>\n",
       "      <td>units_on_cost</td>\n",
       "      <td>0.0</td>\n",
       "    </tr>\n",
       "    <tr>\n",
       "      <th>9</th>\n",
       "      <td>Steam_Plant</td>\n",
       "      <td>unit</td>\n",
       "      <td>units_on_cost</td>\n",
       "      <td>0.0</td>\n",
       "    </tr>\n",
       "    <tr>\n",
       "      <th>10</th>\n",
       "      <td>Methanol_Reactor</td>\n",
       "      <td>unit</td>\n",
       "      <td>min_down_time</td>\n",
       "      <td>48h</td>\n",
       "    </tr>\n",
       "    <tr>\n",
       "      <th>11</th>\n",
       "      <td>Methanol_Reactor</td>\n",
       "      <td>unit</td>\n",
       "      <td>online_variable_type</td>\n",
       "      <td>unit_online_variable_type_integer</td>\n",
       "    </tr>\n",
       "    <tr>\n",
       "      <th>12</th>\n",
       "      <td>pipeline_storage_hydrogen</td>\n",
       "      <td>connection</td>\n",
       "      <td>fom_cost</td>\n",
       "      <td>0.072836</td>\n",
       "    </tr>\n",
       "    <tr>\n",
       "      <th>13</th>\n",
       "      <td>pipeline_storage_e-methanol</td>\n",
       "      <td>connection</td>\n",
       "      <td>fom_cost</td>\n",
       "      <td>0.010959</td>\n",
       "    </tr>\n",
       "  </tbody>\n",
       "</table>\n",
       "</div>"
      ],
      "text/plain": [
       "                    Object_Name    Category             parameter  \\\n",
       "0             Solar_Plant_Kasso        unit              fom_cost   \n",
       "1                  Electrolyzer        unit              fom_cost   \n",
       "2              Methanol_Reactor        unit              fom_cost   \n",
       "3                   Steam_Plant        unit              fom_cost   \n",
       "4             Solar_Plant_Kasso        unit         units_on_cost   \n",
       "5                  Electrolyzer        unit         units_on_cost   \n",
       "6                 CO2_Vaporizer        unit         units_on_cost   \n",
       "7             Destilation_Tower        unit         units_on_cost   \n",
       "8              Methanol_Reactor        unit         units_on_cost   \n",
       "9                   Steam_Plant        unit         units_on_cost   \n",
       "10             Methanol_Reactor        unit         min_down_time   \n",
       "11             Methanol_Reactor        unit  online_variable_type   \n",
       "12    pipeline_storage_hydrogen  connection              fom_cost   \n",
       "13  pipeline_storage_e-methanol  connection              fom_cost   \n",
       "\n",
       "                                value  \n",
       "0                                1.29  \n",
       "1                                4.34  \n",
       "2                                4.45  \n",
       "3                            0.119292  \n",
       "4                                 0.0  \n",
       "5                                 0.0  \n",
       "6                                 0.0  \n",
       "7                                 0.0  \n",
       "8                                 0.0  \n",
       "9                                 0.0  \n",
       "10                                48h  \n",
       "11  unit_online_variable_type_integer  \n",
       "12                           0.072836  \n",
       "13                           0.010959  "
      ]
     },
     "execution_count": 14,
     "metadata": {},
     "output_type": "execute_result"
    }
   ],
   "source": [
    "#create a data frame for all parameters of units\n",
    "\n",
    "#add fixed operation and maintenance cost\n",
    "unit_fom_cost_df = create_unit_parameters(df_model_units, 'Unit', 'fom_cost')\n",
    "#add unit minimal downtime\n",
    "unit_min_down_time_df = create_unit_parameters(df_model_units, 'Unit', 'min_down_time')\n",
    "#add unit on cost (Set to 0 if no entry was made)\n",
    "df_model_units['units_on_cost'] = df_model_units['units_on_cost'].fillna(0)\n",
    "unit_on_cost_df = create_unit_parameters(df_model_units, 'Unit', 'units_on_cost')\n",
    "\n",
    "\n",
    "connection_fom_cost_df = create_unit_parameters(df_model_connections, 'Connection', 'fom_cost')\n",
    "\n",
    "#create a complete data frame with all parameters\n",
    "unit_parameters_df = pd.concat([unit_fom_cost_df, unit_on_cost_df, unit_min_down_time_df, connection_fom_cost_df], ignore_index=True)\n",
    "unit_parameters_df"
   ]
  },
  {
   "cell_type": "code",
   "execution_count": 15,
   "id": "470215f7-7b7f-45f3-a1b6-daa11589ff79",
   "metadata": {
    "execution": {
     "iopub.execute_input": "2024-09-12T15:17:45.834469Z",
     "iopub.status.busy": "2024-09-12T15:17:45.833455Z",
     "iopub.status.idle": "2024-09-12T15:17:45.844504Z",
     "shell.execute_reply": "2024-09-12T15:17:45.843503Z"
    },
    "papermill": {
     "duration": 0.03653,
     "end_time": "2024-09-12T15:17:45.848503",
     "exception": false,
     "start_time": "2024-09-12T15:17:45.811973",
     "status": "completed"
    },
    "tags": []
   },
   "outputs": [],
   "source": [
    "#create a new data frame for parameters that are given as durations\n",
    "#necessary as SpineToolbox needs a separate input to map the parameter correctly\n",
    "\n",
    "duration_parameter = 'min_down_time'\n",
    "unit_parameters_duration_df = unit_parameters_df[unit_parameters_df['parameter'] == duration_parameter]\n",
    "# Resetting the index\n",
    "unit_parameters_duration_df = unit_parameters_duration_df.reset_index(drop=True)\n",
    "\n",
    "# Creating another DataFrame with rows that do not meet the condition\n",
    "unit_parameters_rest_df = unit_parameters_df[unit_parameters_df['parameter'] != duration_parameter]"
   ]
  },
  {
   "cell_type": "code",
   "execution_count": 16,
   "id": "1d4e42d4-76d0-480d-b7b2-bdb413adfc55",
   "metadata": {
    "execution": {
     "iopub.execute_input": "2024-09-12T15:17:45.891794Z",
     "iopub.status.busy": "2024-09-12T15:17:45.891794Z",
     "iopub.status.idle": "2024-09-12T15:17:45.954414Z",
     "shell.execute_reply": "2024-09-12T15:17:45.952005Z"
    },
    "papermill": {
     "duration": 0.087872,
     "end_time": "2024-09-12T15:17:45.957540",
     "exception": false,
     "start_time": "2024-09-12T15:17:45.869668",
     "status": "completed"
    },
    "tags": []
   },
   "outputs": [],
   "source": [
    "#create the balance type of the nodes\n",
    "columns_to_select = ['Input1', 'Input2', 'Output1', 'Output2']\n",
    "df_combined = pd.concat([df_model_units, df_model_connections])\n",
    "df_combined = df_combined.reset_index(drop=True)\n",
    "\n",
    "df_nodes_network = create_connection_dataframe(df_combined, columns_to_select)\n",
    "\n",
    "# Get unique values from the 'in' column\n",
    "unique_in_values = df_nodes_network['in'].dropna().unique()\n",
    "\n",
    "# Identify values in 'in' column not present in 'out' column\n",
    "values_not_in_out = unique_in_values[~pd.Series(unique_in_values).isin(df_nodes_network['out'].dropna().unique())]\n",
    "\n",
    "# Get unique values from the 'in' column\n",
    "unique_out_values = df_nodes_network['out'].dropna().unique()\n",
    "\n",
    "# Identify values in 'in' column not present in 'out' column\n",
    "values_not_in_in = unique_out_values[~pd.Series(unique_out_values).isin(df_nodes_network['in'].dropna().unique())]\n",
    "\n",
    "#create list of unique nodes that are either start or end nodes\n",
    "unique_nodes = values_not_in_out.tolist() + values_not_in_in.tolist()\n",
    "unique_nodes\n",
    "\n",
    "df_nodes_network.replace(np.nan, None, inplace=True)\n",
    "\n",
    "#check for combinations that are mirrored\n",
    "mirrored_combinations = find_mirror_combinations(df_nodes_network)\n",
    "\n",
    "#get information of connections for each node\n",
    "partners_dict1 = find_partners(df_nodes_network)\n",
    "partners_dict2 = find_partners(mirrored_combinations)\n",
    "\n",
    "#check both lists if there are identical entries and list nodes that only have a connection to the same node\n",
    "#storages are removed as they must be balanced\n",
    "nodes_identical = find_identical_entries(partners_dict1, partners_dict2)\n",
    "\n",
    "#combined list of start and end nodes that should be unbalanced\n",
    "unbalanced_nodes = nodes_identical + unique_nodes\n",
    "\n",
    "df_nodes['balance_type'] = 'balance_type_node'\n",
    "df_nodes.loc[df_nodes['Object_Name'].isin(unbalanced_nodes), 'balance_type'] = 'balance_type_none'"
   ]
  },
  {
   "cell_type": "code",
   "execution_count": 17,
   "id": "0403b80a-9d3f-4557-bda6-2803650bea2d",
   "metadata": {
    "execution": {
     "iopub.execute_input": "2024-09-12T15:17:46.000194Z",
     "iopub.status.busy": "2024-09-12T15:17:45.999195Z",
     "iopub.status.idle": "2024-09-12T15:17:46.029954Z",
     "shell.execute_reply": "2024-09-12T15:17:46.028987Z"
    },
    "papermill": {
     "duration": 0.053872,
     "end_time": "2024-09-12T15:17:46.032967",
     "exception": false,
     "start_time": "2024-09-12T15:17:45.979095",
     "status": "completed"
    },
    "tags": []
   },
   "outputs": [],
   "source": [
    "#add has_state_node_state_cap and frac_state_loss\n",
    "df_storages_short = df_model_storages.loc[:, ['Storage', 'has_state', 'node_state_cap', 'frac_state_loss']].rename(columns={'Storage': 'Object_Name'})\n",
    "df_storages_short['has_state'] = df_storages_short['has_state'].astype(str).str.lower().replace('true', 'true')\n",
    "\n",
    "df_nodes = pd.merge(df_nodes, df_storages_short, on='Object_Name', how='left')\n",
    "df_nodes['demand'] = \"\""
   ]
  },
  {
   "cell_type": "code",
   "execution_count": 18,
   "id": "bb44a55f-bd0d-41f3-a96a-2fc67ae92a5e",
   "metadata": {
    "execution": {
     "iopub.execute_input": "2024-09-12T15:17:46.071646Z",
     "iopub.status.busy": "2024-09-12T15:17:46.071646Z",
     "iopub.status.idle": "2024-09-12T15:17:46.123221Z",
     "shell.execute_reply": "2024-09-12T15:17:46.121246Z"
    },
    "papermill": {
     "duration": 0.076184,
     "end_time": "2024-09-12T15:17:46.128219",
     "exception": false,
     "start_time": "2024-09-12T15:17:46.052035",
     "status": "completed"
    },
    "scrolled": true,
    "tags": []
   },
   "outputs": [
    {
     "data": {
      "text/html": [
       "<div>\n",
       "<style scoped>\n",
       "    .dataframe tbody tr th:only-of-type {\n",
       "        vertical-align: middle;\n",
       "    }\n",
       "\n",
       "    .dataframe tbody tr th {\n",
       "        vertical-align: top;\n",
       "    }\n",
       "\n",
       "    .dataframe thead th {\n",
       "        text-align: right;\n",
       "    }\n",
       "</style>\n",
       "<table border=\"1\" class=\"dataframe\">\n",
       "  <thead>\n",
       "    <tr style=\"text-align: right;\">\n",
       "      <th></th>\n",
       "      <th>Object_Name</th>\n",
       "      <th>Category</th>\n",
       "      <th>balance_type</th>\n",
       "      <th>has_state</th>\n",
       "      <th>node_state_cap</th>\n",
       "      <th>frac_state_loss</th>\n",
       "      <th>demand</th>\n",
       "      <th>node_slack_penalty</th>\n",
       "    </tr>\n",
       "  </thead>\n",
       "  <tbody>\n",
       "    <tr>\n",
       "      <th>0</th>\n",
       "      <td>Carbon_Dioxide</td>\n",
       "      <td>node</td>\n",
       "      <td>balance_type_none</td>\n",
       "      <td>NaN</td>\n",
       "      <td>NaN</td>\n",
       "      <td>NaN</td>\n",
       "      <td></td>\n",
       "      <td></td>\n",
       "    </tr>\n",
       "    <tr>\n",
       "      <th>1</th>\n",
       "      <td>Power_Kasso</td>\n",
       "      <td>node</td>\n",
       "      <td>balance_type_node</td>\n",
       "      <td>NaN</td>\n",
       "      <td>NaN</td>\n",
       "      <td>NaN</td>\n",
       "      <td></td>\n",
       "      <td>1000000</td>\n",
       "    </tr>\n",
       "    <tr>\n",
       "      <th>2</th>\n",
       "      <td>Waste_Heat</td>\n",
       "      <td>node</td>\n",
       "      <td>balance_type_node</td>\n",
       "      <td>NaN</td>\n",
       "      <td>NaN</td>\n",
       "      <td>NaN</td>\n",
       "      <td></td>\n",
       "      <td></td>\n",
       "    </tr>\n",
       "    <tr>\n",
       "      <th>3</th>\n",
       "      <td>Steam</td>\n",
       "      <td>node</td>\n",
       "      <td>balance_type_node</td>\n",
       "      <td>NaN</td>\n",
       "      <td>NaN</td>\n",
       "      <td>NaN</td>\n",
       "      <td></td>\n",
       "      <td>1000000</td>\n",
       "    </tr>\n",
       "    <tr>\n",
       "      <th>4</th>\n",
       "      <td>Water</td>\n",
       "      <td>node</td>\n",
       "      <td>balance_type_none</td>\n",
       "      <td>NaN</td>\n",
       "      <td>NaN</td>\n",
       "      <td>NaN</td>\n",
       "      <td></td>\n",
       "      <td></td>\n",
       "    </tr>\n",
       "  </tbody>\n",
       "</table>\n",
       "</div>"
      ],
      "text/plain": [
       "      Object_Name Category       balance_type has_state  node_state_cap  \\\n",
       "0  Carbon_Dioxide     node  balance_type_none       NaN             NaN   \n",
       "1     Power_Kasso     node  balance_type_node       NaN             NaN   \n",
       "2      Waste_Heat     node  balance_type_node       NaN             NaN   \n",
       "3           Steam     node  balance_type_node       NaN             NaN   \n",
       "4           Water     node  balance_type_none       NaN             NaN   \n",
       "\n",
       "   frac_state_loss demand node_slack_penalty  \n",
       "0              NaN                            \n",
       "1              NaN                   1000000  \n",
       "2              NaN                            \n",
       "3              NaN                   1000000  \n",
       "4              NaN                            "
      ]
     },
     "execution_count": 18,
     "metadata": {},
     "output_type": "execute_result"
    }
   ],
   "source": [
    "#create a dataframe with all nodes that should have a slack based on the unit input and outputs\n",
    "nodes_for_slack_df = check_entries_exist(df_model_units, 'node')\n",
    "#merge the information into the prepared data frame\n",
    "merged_df = pd.merge(df_nodes, nodes_for_slack_df, left_on='Object_Name', right_on='node', how='left')\n",
    "merged_df = merged_df.drop(columns=['node'])\n",
    "merged_df['node_slack_penalty'] = merged_df['node_slack_penalty'].replace({True: 1000000, False: ''})\n",
    "#create a dataframe with all nodes that should have a slack based on the connection input and outputs\n",
    "nodes_for_slack_df2 = check_entries_exist(df_model_connections, 'connection')\n",
    "#merge the information into the prepared data frame\n",
    "merged_df2 = pd.merge(df_nodes, nodes_for_slack_df2, left_on='Object_Name', right_on='connection', how='left')\n",
    "merged_df2 = merged_df2.drop(columns=['connection'])\n",
    "merged_df2['node_slack_penalty'] = merged_df2['node_slack_penalty'].replace({True: 1000000, False: ''})\n",
    "#link the information about the slack of both data frames\n",
    "merged_df2['node_slack_penalty'] = merged_df['node_slack_penalty'].combine_first(merged_df2['node_slack_penalty'])\n",
    "#clean the information that only nodes with 'balance_type_node' have a penalty\n",
    "merged_df2.loc[merged_df2['balance_type'] == 'balance_type_none', 'node_slack_penalty'] = ''\n",
    "#add the information into the df_nodes\n",
    "df_nodes['node_slack_penalty'] = merged_df2['node_slack_penalty']\n",
    "\n",
    "#show table head for control\n",
    "df_nodes.head()"
   ]
  },
  {
   "cell_type": "markdown",
   "id": "c56d2046",
   "metadata": {
    "papermill": {
     "duration": 0.029439,
     "end_time": "2024-09-12T15:17:46.196848",
     "exception": false,
     "start_time": "2024-09-12T15:17:46.167409",
     "status": "completed"
    },
    "tags": []
   },
   "source": [
    "#### Investments:"
   ]
  },
  {
   "cell_type": "code",
   "execution_count": 19,
   "id": "51c20b9c",
   "metadata": {
    "execution": {
     "iopub.execute_input": "2024-09-12T15:17:46.252713Z",
     "iopub.status.busy": "2024-09-12T15:17:46.252713Z",
     "iopub.status.idle": "2024-09-12T15:17:46.294490Z",
     "shell.execute_reply": "2024-09-12T15:17:46.291882Z"
    },
    "papermill": {
     "duration": 0.079032,
     "end_time": "2024-09-12T15:17:46.302365",
     "exception": false,
     "start_time": "2024-09-12T15:17:46.223333",
     "status": "completed"
    },
    "tags": []
   },
   "outputs": [
    {
     "data": {
      "text/html": [
       "<div>\n",
       "<style scoped>\n",
       "    .dataframe tbody tr th:only-of-type {\n",
       "        vertical-align: middle;\n",
       "    }\n",
       "\n",
       "    .dataframe tbody tr th {\n",
       "        vertical-align: top;\n",
       "    }\n",
       "\n",
       "    .dataframe thead th {\n",
       "        text-align: right;\n",
       "    }\n",
       "</style>\n",
       "<table border=\"1\" class=\"dataframe\">\n",
       "  <thead>\n",
       "    <tr style=\"text-align: right;\">\n",
       "      <th></th>\n",
       "      <th>Object_Name</th>\n",
       "      <th>unit_investment_variable_type</th>\n",
       "      <th>initial_units_invested_available</th>\n",
       "      <th>number_of_units</th>\n",
       "      <th>candidate_units</th>\n",
       "      <th>unit_investment_cost</th>\n",
       "      <th>unit_investment_tech_lifetime</th>\n",
       "      <th>unit_investment_econ_lifetime</th>\n",
       "    </tr>\n",
       "  </thead>\n",
       "  <tbody>\n",
       "    <tr>\n",
       "      <th>0</th>\n",
       "      <td>Solar_Plant_Kasso</td>\n",
       "      <td>unit_investment_variable_type_continuous</td>\n",
       "      <td>0</td>\n",
       "      <td>0</td>\n",
       "      <td>1</td>\n",
       "      <td>4.850674e+06</td>\n",
       "      <td>12775D</td>\n",
       "      <td>12775D</td>\n",
       "    </tr>\n",
       "    <tr>\n",
       "      <th>1</th>\n",
       "      <td>Electrolyzer</td>\n",
       "      <td>unit_investment_variable_type_continuous</td>\n",
       "      <td>0</td>\n",
       "      <td>0</td>\n",
       "      <td>1</td>\n",
       "      <td>3.941173e+06</td>\n",
       "      <td>9125D</td>\n",
       "      <td>9125D</td>\n",
       "    </tr>\n",
       "    <tr>\n",
       "      <th>2</th>\n",
       "      <td>CO2_Vaporizer</td>\n",
       "      <td>unit_investment_variable_type_continuous</td>\n",
       "      <td>0</td>\n",
       "      <td>0</td>\n",
       "      <td>1</td>\n",
       "      <td>9.473973e+06</td>\n",
       "      <td>7300D</td>\n",
       "      <td>7300D</td>\n",
       "    </tr>\n",
       "    <tr>\n",
       "      <th>3</th>\n",
       "      <td>Destilation_Tower</td>\n",
       "      <td>unit_investment_variable_type_continuous</td>\n",
       "      <td>0</td>\n",
       "      <td>0</td>\n",
       "      <td>1</td>\n",
       "      <td>5.012895e+06</td>\n",
       "      <td>10950D</td>\n",
       "      <td>10950D</td>\n",
       "    </tr>\n",
       "    <tr>\n",
       "      <th>4</th>\n",
       "      <td>Methanol_Reactor</td>\n",
       "      <td>unit_investment_variable_type_continuous</td>\n",
       "      <td>0</td>\n",
       "      <td>0</td>\n",
       "      <td>1</td>\n",
       "      <td>8.642922e+05</td>\n",
       "      <td>10950D</td>\n",
       "      <td>10950D</td>\n",
       "    </tr>\n",
       "  </tbody>\n",
       "</table>\n",
       "</div>"
      ],
      "text/plain": [
       "         Object_Name             unit_investment_variable_type  \\\n",
       "0  Solar_Plant_Kasso  unit_investment_variable_type_continuous   \n",
       "1       Electrolyzer  unit_investment_variable_type_continuous   \n",
       "2      CO2_Vaporizer  unit_investment_variable_type_continuous   \n",
       "3  Destilation_Tower  unit_investment_variable_type_continuous   \n",
       "4   Methanol_Reactor  unit_investment_variable_type_continuous   \n",
       "\n",
       "   initial_units_invested_available  number_of_units  candidate_units  \\\n",
       "0                                 0                0                1   \n",
       "1                                 0                0                1   \n",
       "2                                 0                0                1   \n",
       "3                                 0                0                1   \n",
       "4                                 0                0                1   \n",
       "\n",
       "   unit_investment_cost unit_investment_tech_lifetime  \\\n",
       "0          4.850674e+06                        12775D   \n",
       "1          3.941173e+06                         9125D   \n",
       "2          9.473973e+06                         7300D   \n",
       "3          5.012895e+06                        10950D   \n",
       "4          8.642922e+05                        10950D   \n",
       "\n",
       "  unit_investment_econ_lifetime  \n",
       "0                        12775D  \n",
       "1                         9125D  \n",
       "2                         7300D  \n",
       "3                        10950D  \n",
       "4                        10950D  "
      ]
     },
     "execution_count": 19,
     "metadata": {},
     "output_type": "execute_result"
    }
   ],
   "source": [
    "#Create a dataframe for the units' investment parameters\n",
    "df_units_inv_parameters = df_model_units.loc[:, ['Unit']].rename(columns={'Unit': 'Object_Name'})\n",
    "df_units_inv_parameters['unit_investment_variable_type'] = 'unit_investment_variable_type_continuous'\n",
    "df_units_inv_parameters['initial_units_invested_available'] = 0\n",
    "df_units_inv_parameters['number_of_units'] = df_model_units['number_of_units']\n",
    "df_units_inv_parameters['candidate_units'] = 1\n",
    "\n",
    "#Choose closest investment costs based on year\n",
    "year_columns = {int(col.split()[-1]): col for col in df_investment_costs_raw.columns if 'Value' in col}\n",
    "closest_year = min(year_columns.keys(), key=lambda x: abs(x - year))\n",
    "selected_column = year_columns[closest_year]\n",
    "\n",
    "#Scale investment costs from MW to unit\n",
    "df_units_inv_parameters['unit_investment_cost'] = df_investment_costs_raw[selected_column] * (df_model_units_raw['Cap_Input1_existing'].fillna(0)+df_model_units_raw['Cap_Output1_existing'].fillna(0))\n",
    "\n",
    "df_units_inv_parameters['unit_investment_tech_lifetime'] = df_model_units['unit_investment_tech_lifetime']\n",
    "\n",
    "#Scale investment costs to lifetime\n",
    "df_units_inv_parameters = scale_costs(df_units_inv_parameters, start_date, end_date, 'unit')\n",
    "\n",
    "# Add economical investment lifetime and set to same value as the technical lifetime\n",
    "df_units_inv_parameters['unit_investment_econ_lifetime'] = df_units_inv_parameters['unit_investment_tech_lifetime']\n",
    "\n",
    "#show table head for control\n",
    "df_units_inv_parameters.head()"
   ]
  },
  {
   "cell_type": "code",
   "execution_count": 20,
   "id": "114da0ef",
   "metadata": {
    "execution": {
     "iopub.execute_input": "2024-09-12T15:17:46.364635Z",
     "iopub.status.busy": "2024-09-12T15:17:46.364635Z",
     "iopub.status.idle": "2024-09-12T15:17:46.451850Z",
     "shell.execute_reply": "2024-09-12T15:17:46.447100Z"
    },
    "papermill": {
     "duration": 0.130439,
     "end_time": "2024-09-12T15:17:46.460749",
     "exception": false,
     "start_time": "2024-09-12T15:17:46.330310",
     "status": "completed"
    },
    "tags": []
   },
   "outputs": [
    {
     "data": {
      "text/html": [
       "<div>\n",
       "<style scoped>\n",
       "    .dataframe tbody tr th:only-of-type {\n",
       "        vertical-align: middle;\n",
       "    }\n",
       "\n",
       "    .dataframe tbody tr th {\n",
       "        vertical-align: top;\n",
       "    }\n",
       "\n",
       "    .dataframe thead th {\n",
       "        text-align: right;\n",
       "    }\n",
       "</style>\n",
       "<table border=\"1\" class=\"dataframe\">\n",
       "  <thead>\n",
       "    <tr style=\"text-align: right;\">\n",
       "      <th></th>\n",
       "      <th>Object_name</th>\n",
       "      <th>Parameter_name</th>\n",
       "      <th>Connection_type</th>\n",
       "      <th>connection_investment_variable_type</th>\n",
       "      <th>initial_connections_invested_available</th>\n",
       "      <th>number_of_connections</th>\n",
       "      <th>candidate_connections</th>\n",
       "      <th>connection_investment_cost</th>\n",
       "      <th>connection_investment_tech_lifetime</th>\n",
       "      <th>connection_investment_econ_lifetime</th>\n",
       "    </tr>\n",
       "  </thead>\n",
       "  <tbody>\n",
       "    <tr>\n",
       "      <th>0</th>\n",
       "      <td>power_line_Wholesale_Kasso</td>\n",
       "      <td>connection_type</td>\n",
       "      <td>connection_type_lossless_bidirectional</td>\n",
       "      <td>connection_investment_variable_type_continuous</td>\n",
       "      <td>0</td>\n",
       "      <td>1</td>\n",
       "      <td>1</td>\n",
       "      <td>0.0</td>\n",
       "      <td>14600D</td>\n",
       "      <td>14600D</td>\n",
       "    </tr>\n",
       "    <tr>\n",
       "      <th>1</th>\n",
       "      <td>pipeline_storage_hydrogen</td>\n",
       "      <td>connection_type</td>\n",
       "      <td>connection_type_normal</td>\n",
       "      <td>connection_investment_variable_type_continuous</td>\n",
       "      <td>0</td>\n",
       "      <td>1</td>\n",
       "      <td>1</td>\n",
       "      <td>0.0</td>\n",
       "      <td>18250D</td>\n",
       "      <td>18250D</td>\n",
       "    </tr>\n",
       "    <tr>\n",
       "      <th>2</th>\n",
       "      <td>pipeline_storage_e-methanol</td>\n",
       "      <td>connection_type</td>\n",
       "      <td>connection_type_normal</td>\n",
       "      <td>connection_investment_variable_type_continuous</td>\n",
       "      <td>0</td>\n",
       "      <td>1</td>\n",
       "      <td>1</td>\n",
       "      <td>0.0</td>\n",
       "      <td>18250D</td>\n",
       "      <td>18250D</td>\n",
       "    </tr>\n",
       "    <tr>\n",
       "      <th>3</th>\n",
       "      <td>pipeline_District_Heating</td>\n",
       "      <td>connection_type</td>\n",
       "      <td>connection_type_normal</td>\n",
       "      <td>connection_investment_variable_type_continuous</td>\n",
       "      <td>0</td>\n",
       "      <td>1</td>\n",
       "      <td>1</td>\n",
       "      <td>0.0</td>\n",
       "      <td>14600D</td>\n",
       "      <td>14600D</td>\n",
       "    </tr>\n",
       "  </tbody>\n",
       "</table>\n",
       "</div>"
      ],
      "text/plain": [
       "                   Object_name   Parameter_name  \\\n",
       "0   power_line_Wholesale_Kasso  connection_type   \n",
       "1    pipeline_storage_hydrogen  connection_type   \n",
       "2  pipeline_storage_e-methanol  connection_type   \n",
       "3    pipeline_District_Heating  connection_type   \n",
       "\n",
       "                          Connection_type  \\\n",
       "0  connection_type_lossless_bidirectional   \n",
       "1                  connection_type_normal   \n",
       "2                  connection_type_normal   \n",
       "3                  connection_type_normal   \n",
       "\n",
       "              connection_investment_variable_type  \\\n",
       "0  connection_investment_variable_type_continuous   \n",
       "1  connection_investment_variable_type_continuous   \n",
       "2  connection_investment_variable_type_continuous   \n",
       "3  connection_investment_variable_type_continuous   \n",
       "\n",
       "   initial_connections_invested_available  number_of_connections  \\\n",
       "0                                       0                      1   \n",
       "1                                       0                      1   \n",
       "2                                       0                      1   \n",
       "3                                       0                      1   \n",
       "\n",
       "   candidate_connections  connection_investment_cost  \\\n",
       "0                      1                         0.0   \n",
       "1                      1                         0.0   \n",
       "2                      1                         0.0   \n",
       "3                      1                         0.0   \n",
       "\n",
       "  connection_investment_tech_lifetime connection_investment_econ_lifetime  \n",
       "0                              14600D                              14600D  \n",
       "1                              18250D                              18250D  \n",
       "2                              18250D                              18250D  \n",
       "3                              14600D                              14600D  "
      ]
     },
     "execution_count": 20,
     "metadata": {},
     "output_type": "execute_result"
    }
   ],
   "source": [
    "#Create a dataframe for the connections' investment parameters\n",
    "df_connections_inv_parameters = df_model_connections.loc[:, ['Connection']].rename(columns = {'Connection': 'Object_name'})\n",
    "df_connections_inv_parameters['Parameter_name'] = 'connection_type'\n",
    "\n",
    "df_connections_inv_parameters['Connection_type'] = df_model_connections['Connection_type']\n",
    "df_connections_inv_parameters['connection_investment_variable_type'] = 'connection_investment_variable_type_continuous'\n",
    "\n",
    "df_connections_inv_parameters['initial_connections_invested_available'] = 0\n",
    "df_connections_inv_parameters['number_of_connections'] = df_model_connections['number_of_connections']\n",
    "df_connections_inv_parameters['candidate_connections'] = 1\n",
    "\n",
    "#Get investment costs\n",
    "connection_costs = pd.merge(df_model_connections_raw.loc[:, ['Connection','Object_type']], df_investment_costs_raw, on='Object_type')[['Connection','Object_type', selected_column]].rename(columns = {'Connection': 'Object_name'})\n",
    "df_connections_inv_parameters['connection_investment_cost'] = connection_costs[selected_column]\n",
    "\n",
    "#Scale investment costs from meter to connection\n",
    "df_connections_inv_parameters['connection_investment_cost'] = df_connections_inv_parameters['connection_investment_cost'] # * meter from dropdown menu\n",
    "\n",
    "df_connections_inv_parameters['connection_investment_tech_lifetime'] = df_model_connections['connection_investment_tech_lifetime']\n",
    "\n",
    "#Scale investment costs to lifetime\n",
    "df_connections_inv_parameters = scale_costs(df_connections_inv_parameters, start_date, end_date, 'connection')\n",
    "\n",
    "# Add economical investment lifetime and set to same value as the technical lifetime\n",
    "df_connections_inv_parameters['connection_investment_econ_lifetime'] = df_connections_inv_parameters['connection_investment_tech_lifetime']\n",
    "\n",
    "#show table head for control\n",
    "df_connections_inv_parameters.head()"
   ]
  },
  {
   "cell_type": "code",
   "execution_count": 21,
   "id": "df403594",
   "metadata": {
    "execution": {
     "iopub.execute_input": "2024-09-12T15:17:46.522574Z",
     "iopub.status.busy": "2024-09-12T15:17:46.522574Z",
     "iopub.status.idle": "2024-09-12T15:17:46.557155Z",
     "shell.execute_reply": "2024-09-12T15:17:46.555829Z"
    },
    "papermill": {
     "duration": 0.06372,
     "end_time": "2024-09-12T15:17:46.559210",
     "exception": false,
     "start_time": "2024-09-12T15:17:46.495490",
     "status": "completed"
    },
    "tags": []
   },
   "outputs": [],
   "source": [
    "#add investments in storages\n",
    "df_storages_inv_parameters = df_model_storages.loc[:, ['Storage']].rename(columns={'Storage': 'Object_Name'})\n",
    "\n",
    "df_storages_inv_parameters['storage_investment_variable_type'] = 'storage_investment_variable_type_continuous'\n",
    "df_storages_inv_parameters['initial_storages_invested'] = 0\n",
    "df_storages_inv_parameters['number_of_storages'] = df_model_storages['number_of_storages']\n",
    "df_storages_inv_parameters['candidate_storages'] = 1\n",
    "\n",
    "#Get investment costs\n",
    "storage_costs = pd.merge(df_model_storages_raw.loc[:, ['Storage','Object_type']], df_investment_costs_raw, on='Object_type')[['Storage','Object_type', selected_column]].rename(columns = {'Storage': 'Object_name'})\n",
    "df_connections_inv_parameters['storage_investment_cost'] = connection_costs[selected_column]\n",
    "\n",
    "#Scale investment costs to max node state cap\n",
    "df_storages_inv_parameters['storage_investment_cost'] = df_connections_inv_parameters['storage_investment_cost'] * df_model_storages_raw['node_state_cap']\n",
    "\n",
    "df_storages_inv_parameters['storage_investment_tech_lifetime'] = df_model_storages['storage_investment_tech_lifetime']\n",
    "\n",
    "#Scale investment costs to lifetime\n",
    "df_storages_inv_parameters = scale_costs(df_storages_inv_parameters, start_date, end_date, 'storage')\n",
    "\n",
    "#Add economical investment lifetime\n",
    "df_storages_inv_parameters['storage_investment_econ_lifetime'] = df_storages_inv_parameters['storage_investment_tech_lifetime']\n",
    "\n",
    "#Add to node db\n",
    "df_nodes = pd.merge(df_nodes, df_storages_inv_parameters, on='Object_Name', how='left')"
   ]
  },
  {
   "cell_type": "markdown",
   "id": "c33f3dc6-ea13-486b-9860-6bd41f57b3a7",
   "metadata": {
    "papermill": {
     "duration": 0.021216,
     "end_time": "2024-09-12T15:17:46.597422",
     "exception": false,
     "start_time": "2024-09-12T15:17:46.576206",
     "status": "completed"
    },
    "tags": []
   },
   "source": [
    "#### Times series:"
   ]
  },
  {
   "cell_type": "code",
   "execution_count": 22,
   "id": "e60a7947-9d7f-480f-847a-f22419719660",
   "metadata": {
    "execution": {
     "iopub.execute_input": "2024-09-12T15:17:46.640302Z",
     "iopub.status.busy": "2024-09-12T15:17:46.639304Z",
     "iopub.status.idle": "2024-09-12T15:17:46.651483Z",
     "shell.execute_reply": "2024-09-12T15:17:46.650215Z"
    },
    "papermill": {
     "duration": 0.03679,
     "end_time": "2024-09-12T15:17:46.653562",
     "exception": false,
     "start_time": "2024-09-12T15:17:46.616772",
     "status": "completed"
    },
    "tags": []
   },
   "outputs": [],
   "source": [
    "#adjust PV columns names\n",
    "df_PV_availabilityfactors_values.rename(columns={'time': 'time [UTC]', \n",
    "                                                 'local_time': 'time [' + area + ']',\n",
    "                                                 'electricity': 'unit_availability_factor'}, inplace=True)\n",
    "df_powerprices_values.rename(columns={'HourUTC': 'time [UTC]', \n",
    "                                         'HourDK': 'time [' + area + ']'}, inplace=True)"
   ]
  },
  {
   "cell_type": "markdown",
   "id": "287b3c37-228f-47f0-a99e-2df1f87512d5",
   "metadata": {
    "papermill": {
     "duration": 0.017285,
     "end_time": "2024-09-12T15:17:46.685934",
     "exception": false,
     "start_time": "2024-09-12T15:17:46.668649",
     "status": "completed"
    },
    "tags": []
   },
   "source": [
    "## Fitting data into format"
   ]
  },
  {
   "cell_type": "markdown",
   "id": "1b527344-851f-47c0-a12e-72942d4176eb",
   "metadata": {
    "papermill": {
     "duration": 0.017143,
     "end_time": "2024-09-12T15:17:46.719120",
     "exception": false,
     "start_time": "2024-09-12T15:17:46.701977",
     "status": "completed"
    },
    "tags": []
   },
   "source": [
    "### Relationships:"
   ]
  },
  {
   "cell_type": "markdown",
   "id": "19ea16b2-0e98-4ca2-b6ec-aa840ac09d20",
   "metadata": {
    "papermill": {
     "duration": 0.016184,
     "end_time": "2024-09-12T15:17:46.755192",
     "exception": false,
     "start_time": "2024-09-12T15:17:46.739008",
     "status": "completed"
    },
    "tags": []
   },
   "source": [
    "#### Object__from/to_node:"
   ]
  },
  {
   "cell_type": "code",
   "execution_count": 23,
   "id": "2a4c5f93-8fa4-4d88-83f9-767f83ff7ed9",
   "metadata": {
    "execution": {
     "iopub.execute_input": "2024-09-12T15:17:46.791808Z",
     "iopub.status.busy": "2024-09-12T15:17:46.791808Z",
     "iopub.status.idle": "2024-09-12T15:17:46.807371Z",
     "shell.execute_reply": "2024-09-12T15:17:46.806303Z"
    },
    "papermill": {
     "duration": 0.038768,
     "end_time": "2024-09-12T15:17:46.810334",
     "exception": false,
     "start_time": "2024-09-12T15:17:46.771566",
     "status": "completed"
    },
    "tags": []
   },
   "outputs": [],
   "source": [
    "### UNITS ###\n",
    "df_unit_relation_parameter_data = pd.DataFrame(object_relationship_unit_nodes(df_model_units))"
   ]
  },
  {
   "cell_type": "code",
   "execution_count": 24,
   "id": "74ae88a6",
   "metadata": {
    "execution": {
     "iopub.execute_input": "2024-09-12T15:17:46.854690Z",
     "iopub.status.busy": "2024-09-12T15:17:46.853514Z",
     "iopub.status.idle": "2024-09-12T15:17:46.884893Z",
     "shell.execute_reply": "2024-09-12T15:17:46.883840Z"
    },
    "papermill": {
     "duration": 0.054293,
     "end_time": "2024-09-12T15:17:46.887854",
     "exception": false,
     "start_time": "2024-09-12T15:17:46.833561",
     "status": "completed"
    },
    "tags": []
   },
   "outputs": [],
   "source": [
    "#Add additional electricity connections if not already existent\n",
    "\n",
    "units = df_units.iloc[:, 0].tolist()\n",
    "length = len(units)\n",
    "data = {\n",
    "    \"Relationship_class_name\": [\"unit__from_node\"] * length,\n",
    "    \"Object_class\": [\"unit\"] * length,\n",
    "    \"Object_name\": units,\n",
    "    \"Node\": [\"Power_Kasso\"] * length\n",
    "}\n",
    "df_electricity = pd.DataFrame(data)\n",
    "\n",
    "units_with_from_node = df_unit_relation_parameter_data[df_unit_relation_parameter_data['Relationship_class_name'].str.contains('unit__from_node')]\n",
    "valid_object_names = units_with_from_node['Object_name']\n",
    "df_electricity_filtered = df_electricity[df_electricity['Object_name'].isin(valid_object_names)]\n",
    "\n",
    "merged_df = pd.merge(df_electricity_filtered, units_with_from_node, on=['Relationship_class_name', 'Object_class', 'Object_name', 'Node'], how='left', indicator=True)\n",
    "df_electricity_nodes = merged_df[merged_df['_merge'] == 'left_only'].drop(columns='_merge')\n",
    "\n",
    "df_unit_relation_parameter_data = pd.concat([df_unit_relation_parameter_data, df_electricity_nodes], ignore_index=True)"
   ]
  },
  {
   "cell_type": "code",
   "execution_count": 25,
   "id": "e92030e0-f252-49f5-b58c-defa9a0da163",
   "metadata": {
    "execution": {
     "iopub.execute_input": "2024-09-12T15:17:46.924810Z",
     "iopub.status.busy": "2024-09-12T15:17:46.923808Z",
     "iopub.status.idle": "2024-09-12T15:17:46.946349Z",
     "shell.execute_reply": "2024-09-12T15:17:46.945388Z"
    },
    "papermill": {
     "duration": 0.045551,
     "end_time": "2024-09-12T15:17:46.949348",
     "exception": false,
     "start_time": "2024-09-12T15:17:46.903797",
     "status": "completed"
    },
    "tags": []
   },
   "outputs": [],
   "source": [
    "### CONNECTIONS ###\n",
    "df_connection_relation_parameter_data = object_relationship_connection_nodes(df_model_connections)"
   ]
  },
  {
   "cell_type": "code",
   "execution_count": 26,
   "id": "65d8c41c-8fb4-4a60-883b-94b70f5ace80",
   "metadata": {
    "execution": {
     "iopub.execute_input": "2024-09-12T15:17:46.989582Z",
     "iopub.status.busy": "2024-09-12T15:17:46.988582Z",
     "iopub.status.idle": "2024-09-12T15:17:47.009578Z",
     "shell.execute_reply": "2024-09-12T15:17:47.008575Z"
    },
    "papermill": {
     "duration": 0.044232,
     "end_time": "2024-09-12T15:17:47.012580",
     "exception": false,
     "start_time": "2024-09-12T15:17:46.968348",
     "status": "completed"
    },
    "tags": []
   },
   "outputs": [
    {
     "data": {
      "text/html": [
       "<div>\n",
       "<style scoped>\n",
       "    .dataframe tbody tr th:only-of-type {\n",
       "        vertical-align: middle;\n",
       "    }\n",
       "\n",
       "    .dataframe tbody tr th {\n",
       "        vertical-align: top;\n",
       "    }\n",
       "\n",
       "    .dataframe thead th {\n",
       "        text-align: right;\n",
       "    }\n",
       "</style>\n",
       "<table border=\"1\" class=\"dataframe\">\n",
       "  <thead>\n",
       "    <tr style=\"text-align: right;\">\n",
       "      <th></th>\n",
       "      <th>Relationship_class_name</th>\n",
       "      <th>Object_class</th>\n",
       "      <th>Object_name</th>\n",
       "      <th>Node</th>\n",
       "      <th>Parameter</th>\n",
       "      <th>Value</th>\n",
       "    </tr>\n",
       "  </thead>\n",
       "  <tbody>\n",
       "    <tr>\n",
       "      <th>0</th>\n",
       "      <td>unit__to_node</td>\n",
       "      <td>unit</td>\n",
       "      <td>Solar_Plant_Kasso</td>\n",
       "      <td>Power_Kasso</td>\n",
       "      <td>unit_capacity</td>\n",
       "      <td>304.0</td>\n",
       "    </tr>\n",
       "    <tr>\n",
       "      <th>1</th>\n",
       "      <td>unit__from_node</td>\n",
       "      <td>unit</td>\n",
       "      <td>Electrolyzer</td>\n",
       "      <td>Power_Kasso</td>\n",
       "      <td>unit_capacity</td>\n",
       "      <td>52.0</td>\n",
       "    </tr>\n",
       "    <tr>\n",
       "      <th>2</th>\n",
       "      <td>unit__from_node</td>\n",
       "      <td>unit</td>\n",
       "      <td>Electrolyzer</td>\n",
       "      <td>Power_Kasso</td>\n",
       "      <td>minimum_operating_point</td>\n",
       "      <td>0.02</td>\n",
       "    </tr>\n",
       "    <tr>\n",
       "      <th>3</th>\n",
       "      <td>unit__to_node</td>\n",
       "      <td>unit</td>\n",
       "      <td>Electrolyzer</td>\n",
       "      <td>Hydrogen_Kasso</td>\n",
       "      <td></td>\n",
       "      <td></td>\n",
       "    </tr>\n",
       "    <tr>\n",
       "      <th>4</th>\n",
       "      <td>unit__from_node</td>\n",
       "      <td>unit</td>\n",
       "      <td>Electrolyzer</td>\n",
       "      <td>Water</td>\n",
       "      <td></td>\n",
       "      <td></td>\n",
       "    </tr>\n",
       "  </tbody>\n",
       "</table>\n",
       "</div>"
      ],
      "text/plain": [
       "  Relationship_class_name Object_class        Object_name            Node  \\\n",
       "0           unit__to_node         unit  Solar_Plant_Kasso     Power_Kasso   \n",
       "1         unit__from_node         unit       Electrolyzer     Power_Kasso   \n",
       "2         unit__from_node         unit       Electrolyzer     Power_Kasso   \n",
       "3           unit__to_node         unit       Electrolyzer  Hydrogen_Kasso   \n",
       "4         unit__from_node         unit       Electrolyzer           Water   \n",
       "\n",
       "                 Parameter  Value  \n",
       "0            unit_capacity  304.0  \n",
       "1            unit_capacity   52.0  \n",
       "2  minimum_operating_point   0.02  \n",
       "3                                  \n",
       "4                                  "
      ]
     },
     "execution_count": 26,
     "metadata": {},
     "output_type": "execute_result"
    }
   ],
   "source": [
    "#Create combined DataFrame:\n",
    "df_object__node = pd.concat([df_unit_relation_parameter_data, df_connection_relation_parameter_data])\n",
    "df_object__node = df_object__node.reset_index(drop=True)\n",
    "\n",
    "#show df head for control\n",
    "df_object__node.head()"
   ]
  },
  {
   "cell_type": "code",
   "execution_count": 27,
   "id": "36e1391f-d8cd-45dd-9867-7aefa0327740",
   "metadata": {
    "execution": {
     "iopub.execute_input": "2024-09-12T15:17:47.054812Z",
     "iopub.status.busy": "2024-09-12T15:17:47.054812Z",
     "iopub.status.idle": "2024-09-12T15:17:47.089449Z",
     "shell.execute_reply": "2024-09-12T15:17:47.086585Z"
    },
    "papermill": {
     "duration": 0.066868,
     "end_time": "2024-09-12T15:17:47.094460",
     "exception": false,
     "start_time": "2024-09-12T15:17:47.027592",
     "status": "completed"
    },
    "tags": []
   },
   "outputs": [
    {
     "data": {
      "text/html": [
       "<div>\n",
       "<style scoped>\n",
       "    .dataframe tbody tr th:only-of-type {\n",
       "        vertical-align: middle;\n",
       "    }\n",
       "\n",
       "    .dataframe tbody tr th {\n",
       "        vertical-align: top;\n",
       "    }\n",
       "\n",
       "    .dataframe thead th {\n",
       "        text-align: right;\n",
       "    }\n",
       "</style>\n",
       "<table border=\"1\" class=\"dataframe\">\n",
       "  <thead>\n",
       "    <tr style=\"text-align: right;\">\n",
       "      <th></th>\n",
       "      <th>Relationship_class_name</th>\n",
       "      <th>Object_class</th>\n",
       "      <th>Object_name</th>\n",
       "      <th>Node</th>\n",
       "    </tr>\n",
       "  </thead>\n",
       "  <tbody>\n",
       "    <tr>\n",
       "      <th>0</th>\n",
       "      <td>unit__to_node</td>\n",
       "      <td>unit</td>\n",
       "      <td>Solar_Plant_Kasso</td>\n",
       "      <td>Power_Kasso</td>\n",
       "    </tr>\n",
       "    <tr>\n",
       "      <th>1</th>\n",
       "      <td>unit__from_node</td>\n",
       "      <td>unit</td>\n",
       "      <td>Electrolyzer</td>\n",
       "      <td>Power_Kasso</td>\n",
       "    </tr>\n",
       "    <tr>\n",
       "      <th>2</th>\n",
       "      <td>unit__to_node</td>\n",
       "      <td>unit</td>\n",
       "      <td>Electrolyzer</td>\n",
       "      <td>Hydrogen_Kasso</td>\n",
       "    </tr>\n",
       "    <tr>\n",
       "      <th>3</th>\n",
       "      <td>unit__from_node</td>\n",
       "      <td>unit</td>\n",
       "      <td>Electrolyzer</td>\n",
       "      <td>Water</td>\n",
       "    </tr>\n",
       "    <tr>\n",
       "      <th>4</th>\n",
       "      <td>unit__to_node</td>\n",
       "      <td>unit</td>\n",
       "      <td>Electrolyzer</td>\n",
       "      <td>Waste_Heat</td>\n",
       "    </tr>\n",
       "  </tbody>\n",
       "</table>\n",
       "</div>"
      ],
      "text/plain": [
       "  Relationship_class_name Object_class        Object_name            Node\n",
       "0           unit__to_node         unit  Solar_Plant_Kasso     Power_Kasso\n",
       "1         unit__from_node         unit       Electrolyzer     Power_Kasso\n",
       "2           unit__to_node         unit       Electrolyzer  Hydrogen_Kasso\n",
       "3         unit__from_node         unit       Electrolyzer           Water\n",
       "4           unit__to_node         unit       Electrolyzer      Waste_Heat"
      ]
     },
     "execution_count": 27,
     "metadata": {},
     "output_type": "execute_result"
    }
   ],
   "source": [
    "#create a DataFrame for the definition of the object_node relationships\n",
    "df_object__node_definitions = pd.DataFrame(df_object__node[['Relationship_class_name', 'Object_class', 'Object_name', 'Node']])\n",
    "df_object__node_definitions = df_object__node_definitions.drop_duplicates()\n",
    "df_object__node_definitions = df_object__node_definitions.reset_index(drop=True)\n",
    "\n",
    "#to avoid import errors the connections  will be removed from the definitions df\n",
    "# Dropping rows where 'Object_class' is 'connection'\n",
    "df_object__node_definitions  = df_object__node_definitions [df_object__node_definitions ['Object_class'] != 'connection']\n",
    "\n",
    "# Drop rows where no parameters for the relationship are defined (column has missing values (NaN or None))\n",
    "drop_no_value_column = 'Parameter'\n",
    "df_object__node_values = df_object__node[df_object__node[drop_no_value_column] != '']\n",
    "df_object__node_definitions.head()"
   ]
  },
  {
   "cell_type": "markdown",
   "id": "9ebeb807-b807-4882-b8cd-67a174c8edbd",
   "metadata": {
    "papermill": {
     "duration": 0.017207,
     "end_time": "2024-09-12T15:17:47.135861",
     "exception": false,
     "start_time": "2024-09-12T15:17:47.118654",
     "status": "completed"
    },
    "tags": []
   },
   "source": [
    "#### Object__node_node:"
   ]
  },
  {
   "cell_type": "code",
   "execution_count": 28,
   "id": "1fd5a160-3f18-4656-82ee-484e7e703cc8",
   "metadata": {
    "execution": {
     "iopub.execute_input": "2024-09-12T15:17:47.172174Z",
     "iopub.status.busy": "2024-09-12T15:17:47.171176Z",
     "iopub.status.idle": "2024-09-12T15:17:47.257016Z",
     "shell.execute_reply": "2024-09-12T15:17:47.256000Z"
    },
    "papermill": {
     "duration": 0.104814,
     "end_time": "2024-09-12T15:17:47.259048",
     "exception": false,
     "start_time": "2024-09-12T15:17:47.154234",
     "status": "completed"
    },
    "tags": []
   },
   "outputs": [
    {
     "data": {
      "text/html": [
       "<div>\n",
       "<style scoped>\n",
       "    .dataframe tbody tr th:only-of-type {\n",
       "        vertical-align: middle;\n",
       "    }\n",
       "\n",
       "    .dataframe tbody tr th {\n",
       "        vertical-align: top;\n",
       "    }\n",
       "\n",
       "    .dataframe thead th {\n",
       "        text-align: right;\n",
       "    }\n",
       "</style>\n",
       "<table border=\"1\" class=\"dataframe\">\n",
       "  <thead>\n",
       "    <tr style=\"text-align: right;\">\n",
       "      <th></th>\n",
       "      <th>Relationship</th>\n",
       "      <th>Object_class</th>\n",
       "      <th>Object_name</th>\n",
       "      <th>Node1</th>\n",
       "      <th>Node2</th>\n",
       "      <th>Parameter</th>\n",
       "      <th>Value</th>\n",
       "    </tr>\n",
       "  </thead>\n",
       "  <tbody>\n",
       "    <tr>\n",
       "      <th>0</th>\n",
       "      <td>unit__node__node</td>\n",
       "      <td>unit</td>\n",
       "      <td>Electrolyzer</td>\n",
       "      <td>Power_Kasso</td>\n",
       "      <td>Water</td>\n",
       "      <td>fix_ratio_in_in_unit_flow</td>\n",
       "      <td>0.005850</td>\n",
       "    </tr>\n",
       "    <tr>\n",
       "      <th>1</th>\n",
       "      <td>unit__node__node</td>\n",
       "      <td>unit</td>\n",
       "      <td>CO2_Vaporizer</td>\n",
       "      <td>Power_Kasso</td>\n",
       "      <td>Carbon_Dioxide</td>\n",
       "      <td>fix_ratio_in_in_unit_flow</td>\n",
       "      <td>0.003601</td>\n",
       "    </tr>\n",
       "    <tr>\n",
       "      <th>2</th>\n",
       "      <td>unit__node__node</td>\n",
       "      <td>unit</td>\n",
       "      <td>Destilation_Tower</td>\n",
       "      <td>Raw_Methanol</td>\n",
       "      <td>Steam</td>\n",
       "      <td>fix_ratio_in_in_unit_flow</td>\n",
       "      <td>17.277902</td>\n",
       "    </tr>\n",
       "    <tr>\n",
       "      <th>3</th>\n",
       "      <td>unit__node__node</td>\n",
       "      <td>unit</td>\n",
       "      <td>Methanol_Reactor</td>\n",
       "      <td>Hydrogen_Kasso</td>\n",
       "      <td>Vaporized_Carbon_Dioxide</td>\n",
       "      <td>fix_ratio_in_in_unit_flow</td>\n",
       "      <td>5.173497</td>\n",
       "    </tr>\n",
       "    <tr>\n",
       "      <th>4</th>\n",
       "      <td>unit__node__node</td>\n",
       "      <td>unit</td>\n",
       "      <td>Steam_Plant</td>\n",
       "      <td>Power_Kasso</td>\n",
       "      <td>Water</td>\n",
       "      <td>fix_ratio_in_in_unit_flow</td>\n",
       "      <td>0.000724</td>\n",
       "    </tr>\n",
       "  </tbody>\n",
       "</table>\n",
       "</div>"
      ],
      "text/plain": [
       "       Relationship Object_class        Object_name           Node1  \\\n",
       "0  unit__node__node         unit       Electrolyzer     Power_Kasso   \n",
       "1  unit__node__node         unit      CO2_Vaporizer     Power_Kasso   \n",
       "2  unit__node__node         unit  Destilation_Tower    Raw_Methanol   \n",
       "3  unit__node__node         unit   Methanol_Reactor  Hydrogen_Kasso   \n",
       "4  unit__node__node         unit        Steam_Plant     Power_Kasso   \n",
       "\n",
       "                      Node2                  Parameter      Value  \n",
       "0                     Water  fix_ratio_in_in_unit_flow   0.005850  \n",
       "1            Carbon_Dioxide  fix_ratio_in_in_unit_flow   0.003601  \n",
       "2                     Steam  fix_ratio_in_in_unit_flow  17.277902  \n",
       "3  Vaporized_Carbon_Dioxide  fix_ratio_in_in_unit_flow   5.173497  \n",
       "4                     Water  fix_ratio_in_in_unit_flow   0.000724  "
      ]
     },
     "execution_count": 28,
     "metadata": {},
     "output_type": "execute_result"
    }
   ],
   "source": [
    "#Define which columns to check\n",
    "columns_In_In_Unit = ['Unit', 'Input1', 'Input2']\n",
    "columns_In_Out_Unit = ['Unit', 'Input1', 'Output1']\n",
    "columns_Out_Out_Unit = ['Unit', 'Output1', 'Output2']\n",
    "columns_In_In_Connection = ['Connection', 'Input1', 'Input2']\n",
    "columns_In_Out_Connection = ['Connection', 'Input1', 'Output1']\n",
    "columns_Out_Out_Connection = ['Connection', 'Output1', 'Output2']\n",
    "columns_Out_In_Connection = ['Connection', 'Output1', 'Input1']\n",
    "\n",
    "### UNITS ###\n",
    "#create list of tuples with values of cells + fix_ratio_XXX_XXX\n",
    "values_in_in_units = [('unit__node__node', 'unit', row[columns_In_In_Unit[0]], row[columns_In_In_Unit[1]], row[columns_In_In_Unit[2]], \n",
    "                       'fix_ratio_in_in_unit_flow', row['Relation_In_In']) \n",
    "                      if not pd.isnull(row[columns_In_In_Unit]).any() else (np.nan, np.nan, None) for _, row in df_model_units.iterrows() \n",
    "                      if not pd.isnull(row[columns_In_In_Unit]).any()]\n",
    "values_in_out_units = [('unit__node__node', 'unit', row[columns_In_Out_Unit[0]], row[columns_In_Out_Unit[1]], row[columns_In_Out_Unit[2]], \n",
    "                        'fix_ratio_in_out_unit_flow', row['Relation_In_Out']) \n",
    "                      if not pd.isnull(row[columns_In_Out_Unit]).any() else (np.nan, np.nan, None) for _, row in df_model_units.iterrows() \n",
    "                      if not pd.isnull(row[columns_In_Out_Unit]).any()]\n",
    "values_out_out_units = [('unit__node__node', 'unit', row[columns_Out_Out_Unit[0]], row[columns_Out_Out_Unit[1]], row[columns_Out_Out_Unit[2]], \n",
    "                         'fix_ratio_out_out_unit_flow', row['Relation_Out_Out']) \n",
    "                      if not pd.isnull(row[columns_Out_Out_Unit]).any() else (np.nan, np.nan, None) for _, row in df_model_units.iterrows() \n",
    "                      if not pd.isnull(row[columns_Out_Out_Unit]).any()]\n",
    "\n",
    "df_fix_ratio_in_in_units = pd.DataFrame(values_in_in_units, columns=['Relationship', 'Object_class', 'Object_name', 'Node1', \n",
    "                                                                     'Node2', 'Parameter', 'Value'])\n",
    "df_fix_ratio_in_out_units = pd.DataFrame(values_in_out_units, columns=['Relationship', 'Object_class', 'Object_name', 'Node1', \n",
    "                                                                       'Node2', 'Parameter', 'Value'])\n",
    "df_fix_ratio_out_out_units = pd.DataFrame(values_out_out_units, columns=['Relationship', 'Object_class', 'Object_name', 'Node1', \n",
    "                                                                         'Node2', 'Parameter', 'Value'])\n",
    "\n",
    "### CONNECTIONS ###\n",
    "values_in_in_connections = [('connection__node__node', 'connection', row[columns_In_In_Connection[0]], \n",
    "                             row[columns_In_In_Connection[1]], row[columns_In_In_Connection[2]], \n",
    "                             'fix_ratio_in_in_connection_flow', row['Relation_In_In']) \n",
    "                            if not pd.isnull(row[columns_In_In_Connection]).any() else (np.nan, np.nan, None) for _, row in df_model_connections.iterrows() \n",
    "                            if not pd.isnull(row[columns_In_In_Connection]).any()]\n",
    "#comment: connections_in_out are no longer supported by Spine, therefore the values get inverted\n",
    "values_in_out_connections_inverted = [('connection__node__node', 'connection', row[columns_In_Out_Connection[0]], \n",
    "                              row[columns_In_Out_Connection[1]], row[columns_In_Out_Connection[2]], \n",
    "                              'fix_ratio_out_in_connection_flow', 1/row['Relation_In_Out']) \n",
    "                             if not pd.isnull(row[columns_In_Out_Connection]).any() else (np.nan, np.nan, None) for _, row in df_model_connections.iterrows() \n",
    "                             if not pd.isnull(row[columns_In_Out_Connection]).any()]\n",
    "values_out_out_connections = [('connection__node__node', 'connection', row[columns_Out_Out_Connection[0]], \n",
    "                               row[columns_Out_Out_Connection[1]], row[columns_Out_Out_Connection[2]], \n",
    "                               'fix_ratio_out_out_connection_flow', row['Relation_Out_Out']) \n",
    "                              if not pd.isnull(row[columns_Out_Out_Connection]).any() else (np.nan, np.nan, None) for _, row in df_model_connections.iterrows() \n",
    "                              if not pd.isnull(row[columns_Out_Out_Connection]).any()]\n",
    "values_out_in_connections = [('connection__node__node', 'connection', row[columns_Out_In_Connection[0]], \n",
    "                               row[columns_Out_In_Connection[1]], row[columns_Out_In_Connection[2]], \n",
    "                               'fix_ratio_out_in_connection_flow', row['Relation_Out_In']) \n",
    "                              if not pd.isnull(row[columns_Out_In_Connection]).any() else (np.nan, np.nan, None) for _, row in df_model_connections.iterrows() \n",
    "                              if not pd.isnull(row[columns_Out_In_Connection]).any()]\n",
    "\n",
    "df_fix_ratio_in_in_connections = pd.DataFrame(values_in_in_connections, columns=['Relationship', 'Object_class', 'Object_name', 'Node1', \n",
    "                                                                                 'Node2', 'Parameter', 'Value'])\n",
    "df_fix_ratio_in_out_connections = pd.DataFrame(values_in_out_connections_inverted, columns=['Relationship', 'Object_class', 'Object_name', 'Node1', \n",
    "                                                                                   'Node2', 'Parameter', 'Value'])\n",
    "df_fix_ratio_out_out_connections = pd.DataFrame(values_out_out_connections, columns=['Relationship', 'Object_class', 'Object_name', 'Node1', \n",
    "                                                                                     'Node2', 'Parameter', 'Value'])\n",
    "df_fix_ratio_out_in_connections = pd.DataFrame(values_out_in_connections, columns=['Relationship', 'Object_class', 'Object_name', 'Node1', \n",
    "                                                                                     'Node2', 'Parameter', 'Value'])\n",
    "\n",
    "#create Object_node_node\n",
    "df_object_node_node = pd.concat([df_fix_ratio_in_in_units, df_fix_ratio_in_out_units, df_fix_ratio_out_out_units, \n",
    "                                df_fix_ratio_in_in_connections, df_fix_ratio_in_out_connections, \n",
    "                                df_fix_ratio_out_out_connections, df_fix_ratio_out_in_connections])\n",
    "df_object_node_node = df_object_node_node.reset_index(drop=True)\n",
    "\n",
    "df_object_node_node = df_object_node_node.dropna(subset=['Value'])\n",
    "df_object_node_node.head()"
   ]
  },
  {
   "cell_type": "code",
   "execution_count": 29,
   "id": "1388dfc3-fb27-4571-ba84-8593ea8413df",
   "metadata": {
    "execution": {
     "iopub.execute_input": "2024-09-12T15:17:47.301658Z",
     "iopub.status.busy": "2024-09-12T15:17:47.301658Z",
     "iopub.status.idle": "2024-09-12T15:17:47.320263Z",
     "shell.execute_reply": "2024-09-12T15:17:47.318663Z"
    },
    "papermill": {
     "duration": 0.045852,
     "end_time": "2024-09-12T15:17:47.322260",
     "exception": false,
     "start_time": "2024-09-12T15:17:47.276408",
     "status": "completed"
    },
    "tags": []
   },
   "outputs": [],
   "source": [
    "#for storages, the out_in_connetion is set in both directions\n",
    "\n",
    "# Step 1: Check if the 'Object_name' column contains the word 'storage'\n",
    "storage_condition = df_object_node_node['Object_name'].str.contains('storage', case=False)\n",
    "\n",
    "# Step 2: Check if the 'Parameter' column starts with 'fix_ratio_'\n",
    "parameter_condition = df_object_node_node['Parameter'].str.startswith('fix_ratio_')\n",
    "\n",
    "# Step 3: Combine both conditions\n",
    "combined_condition = storage_condition & parameter_condition\n",
    "\n",
    "# Step 2: Update the 'Parameter' column for rows that meet the condition\n",
    "df_object_node_node.loc[storage_condition, 'Parameter'] = 'fix_ratio_out_in_connection_flow'"
   ]
  },
  {
   "cell_type": "code",
   "execution_count": 30,
   "id": "3ecebeb7",
   "metadata": {
    "execution": {
     "iopub.execute_input": "2024-09-12T15:17:47.368578Z",
     "iopub.status.busy": "2024-09-12T15:17:47.367379Z",
     "iopub.status.idle": "2024-09-12T15:17:47.381258Z",
     "shell.execute_reply": "2024-09-12T15:17:47.380246Z"
    },
    "papermill": {
     "duration": 0.037192,
     "end_time": "2024-09-12T15:17:47.384145",
     "exception": false,
     "start_time": "2024-09-12T15:17:47.346953",
     "status": "completed"
    },
    "tags": []
   },
   "outputs": [],
   "source": [
    "### ADD UNIT__NODE__NODE RELATIONSHIPS FOR UNIT_IDLE_HEAT_RATE ###\n",
    "in_and_outputs = df_model_units[['Unit', 'Input1', 'Output1', 'unit_idle_heat_rate']].copy()\n",
    "length = len(in_and_outputs)\n",
    "data = {\n",
    "    \"Relationship\": [\"unit__node__node\"] * length,\n",
    "    \"Object_class\": [\"unit\"] * length,\n",
    "    \"Object_name\": in_and_outputs.iloc[:, 0].tolist(),\n",
    "    \"Node1\": [\"Power_Kasso\"] * length,\n",
    "    \"Node2\": in_and_outputs.iloc[:, 2].tolist(),\n",
    "    \"Parameter\": [\"unit_idle_heat_rate\"] * length,\n",
    "    \"Value\": in_and_outputs.iloc[:, 3].tolist()\n",
    "}\n",
    "df_idle_node_node = pd.DataFrame(data)\n",
    "#drop all rows that now have input and output of electricity\n",
    "df_electricity_node_node = df_idle_node_node[df_idle_node_node['Node1'] != df_idle_node_node['Node2']]\n",
    "#drop all rows that do not have a unit_idle_heat rate\n",
    "df_electricity_node_node = df_electricity_node_node.dropna(subset=['Value'])\n",
    "\n",
    "df_object_node_node = pd.concat([df_object_node_node, df_electricity_node_node], ignore_index=True)"
   ]
  },
  {
   "cell_type": "code",
   "execution_count": 31,
   "id": "07cf2ef3",
   "metadata": {
    "execution": {
     "iopub.execute_input": "2024-09-12T15:17:47.422252Z",
     "iopub.status.busy": "2024-09-12T15:17:47.422252Z",
     "iopub.status.idle": "2024-09-12T15:17:47.459862Z",
     "shell.execute_reply": "2024-09-12T15:17:47.458136Z"
    },
    "papermill": {
     "duration": 0.060184,
     "end_time": "2024-09-12T15:17:47.462402",
     "exception": false,
     "start_time": "2024-09-12T15:17:47.402218",
     "status": "completed"
    },
    "tags": []
   },
   "outputs": [
    {
     "data": {
      "text/html": [
       "<div>\n",
       "<style scoped>\n",
       "    .dataframe tbody tr th:only-of-type {\n",
       "        vertical-align: middle;\n",
       "    }\n",
       "\n",
       "    .dataframe tbody tr th {\n",
       "        vertical-align: top;\n",
       "    }\n",
       "\n",
       "    .dataframe thead th {\n",
       "        text-align: right;\n",
       "    }\n",
       "</style>\n",
       "<table border=\"1\" class=\"dataframe\">\n",
       "  <thead>\n",
       "    <tr style=\"text-align: right;\">\n",
       "      <th></th>\n",
       "      <th>Relationship</th>\n",
       "      <th>Object_class</th>\n",
       "      <th>Object_name</th>\n",
       "      <th>Node1</th>\n",
       "      <th>Node2</th>\n",
       "      <th>Parameter</th>\n",
       "      <th>Value</th>\n",
       "    </tr>\n",
       "  </thead>\n",
       "  <tbody>\n",
       "    <tr>\n",
       "      <th>0</th>\n",
       "      <td>unit__node__node</td>\n",
       "      <td>unit</td>\n",
       "      <td>Electrolyzer</td>\n",
       "      <td>Power_Kasso</td>\n",
       "      <td>Water</td>\n",
       "      <td>fix_ratio_in_in_unit_flow</td>\n",
       "      <td>0.005850</td>\n",
       "    </tr>\n",
       "    <tr>\n",
       "      <th>1</th>\n",
       "      <td>unit__node__node</td>\n",
       "      <td>unit</td>\n",
       "      <td>CO2_Vaporizer</td>\n",
       "      <td>Power_Kasso</td>\n",
       "      <td>Carbon_Dioxide</td>\n",
       "      <td>fix_ratio_in_in_unit_flow</td>\n",
       "      <td>0.003601</td>\n",
       "    </tr>\n",
       "    <tr>\n",
       "      <th>2</th>\n",
       "      <td>unit__node__node</td>\n",
       "      <td>unit</td>\n",
       "      <td>Destilation_Tower</td>\n",
       "      <td>Raw_Methanol</td>\n",
       "      <td>Steam</td>\n",
       "      <td>fix_ratio_in_in_unit_flow</td>\n",
       "      <td>17.277902</td>\n",
       "    </tr>\n",
       "    <tr>\n",
       "      <th>3</th>\n",
       "      <td>unit__node__node</td>\n",
       "      <td>unit</td>\n",
       "      <td>Methanol_Reactor</td>\n",
       "      <td>Hydrogen_Kasso</td>\n",
       "      <td>Vaporized_Carbon_Dioxide</td>\n",
       "      <td>fix_ratio_in_in_unit_flow</td>\n",
       "      <td>5.173497</td>\n",
       "    </tr>\n",
       "    <tr>\n",
       "      <th>4</th>\n",
       "      <td>unit__node__node</td>\n",
       "      <td>unit</td>\n",
       "      <td>Steam_Plant</td>\n",
       "      <td>Power_Kasso</td>\n",
       "      <td>Water</td>\n",
       "      <td>fix_ratio_in_in_unit_flow</td>\n",
       "      <td>0.000724</td>\n",
       "    </tr>\n",
       "  </tbody>\n",
       "</table>\n",
       "</div>"
      ],
      "text/plain": [
       "       Relationship Object_class        Object_name           Node1  \\\n",
       "0  unit__node__node         unit       Electrolyzer     Power_Kasso   \n",
       "1  unit__node__node         unit      CO2_Vaporizer     Power_Kasso   \n",
       "2  unit__node__node         unit  Destilation_Tower    Raw_Methanol   \n",
       "3  unit__node__node         unit   Methanol_Reactor  Hydrogen_Kasso   \n",
       "4  unit__node__node         unit        Steam_Plant     Power_Kasso   \n",
       "\n",
       "                      Node2                  Parameter      Value  \n",
       "0                     Water  fix_ratio_in_in_unit_flow   0.005850  \n",
       "1            Carbon_Dioxide  fix_ratio_in_in_unit_flow   0.003601  \n",
       "2                     Steam  fix_ratio_in_in_unit_flow  17.277902  \n",
       "3  Vaporized_Carbon_Dioxide  fix_ratio_in_in_unit_flow   5.173497  \n",
       "4                     Water  fix_ratio_in_in_unit_flow   0.000724  "
      ]
     },
     "execution_count": 31,
     "metadata": {},
     "output_type": "execute_result"
    }
   ],
   "source": [
    "### Add a unit_start_flow of 1 for all units with idle_heat_rate for it to work\n",
    "\n",
    "# First, find the units that require a unit_idle_heat_rate (have Power_Kasso and unit_idle_heat_rate in df_object_node_node)\n",
    "filtered_power_idleHR_df = df_object_node_node[(df_object_node_node['Node1'] == 'Power_Kasso') \n",
    "                & (df_object_node_node['Parameter'] == 'unit_idle_heat_rate')]\n",
    "\n",
    "# Filter out rows from filtered_df that already have a unit start flow\n",
    "existing_fix_start_flow = df_object_node_node[(df_object_node_node['Parameter'] == 'unit_start_flow') \n",
    "                    & (df_object_node_node['Node1'] == 'Power_Kasso')]\n",
    "filtered_power_idleHR_df = filtered_power_idleHR_df[~filtered_power_idleHR_df['Object_name'].isin(existing_fix_start_flow['Object_name'])]\n",
    "\n",
    "# Create new rows with the additional parameter of the unit start flow and the value of 1\n",
    "new_rows_start_flow = filtered_power_idleHR_df.copy()\n",
    "new_rows_start_flow['Parameter'] = 'unit_start_flow'\n",
    "new_rows_start_flow['Value'] = 1\n",
    "\n",
    "# Append new rows to the original DataFrame\n",
    "df_object_node_node = pd.concat([df_object_node_node, new_rows_start_flow], ignore_index=True)\n",
    "\n",
    "\n",
    "### Add a unit incremental heat rate of 0 for all units with idle_heat_rate\n",
    "\n",
    "# Check if rows already have 'fix_ratio_in_out_unit_flow'\n",
    "existing_fix_ratio_input = df_object_node_node[(df_object_node_node['Parameter'] == 'fix_ratio_in_out_unit_flow') \n",
    "                    & (df_object_node_node['Node1'] == 'Power_Kasso')]\n",
    "#the following might not be relevant\n",
    "existing_fix_ratio_in_in = df_object_node_node[(df_object_node_node['Parameter'] == 'fix_ratio_in_in_unit_flow') \n",
    "                    & (df_object_node_node['Node1'] == 'Power_Kasso')]\n",
    "\n",
    "# Filter out rows from filtered_df that have 'fix_ratio_in_out_unit_flow'\n",
    "filtered_power_idleHR_df = filtered_power_idleHR_df[~filtered_power_idleHR_df['Object_name'].isin(existing_fix_ratio_input['Object_name'])]\n",
    "\n",
    "# Create new rows with the additional parameter of the unit incremental heat rate and the value of 0\n",
    "new_rows_incrementalHR = filtered_power_idleHR_df.copy()\n",
    "new_rows_incrementalHR['Parameter'] = 'unit_incremental_heat_rate'\n",
    "new_rows_incrementalHR['Value'] = 0\n",
    "\n",
    "# Append new rows to the original DataFrame\n",
    "df_object_node_node = pd.concat([df_object_node_node, new_rows_incrementalHR], ignore_index=True)\n",
    "\n",
    "\n",
    "df_object_node_node.head()"
   ]
  },
  {
   "cell_type": "code",
   "execution_count": 32,
   "id": "3e8e1c70",
   "metadata": {
    "execution": {
     "iopub.execute_input": "2024-09-12T15:17:47.513457Z",
     "iopub.status.busy": "2024-09-12T15:17:47.513457Z",
     "iopub.status.idle": "2024-09-12T15:17:47.540564Z",
     "shell.execute_reply": "2024-09-12T15:17:47.536641Z"
    },
    "papermill": {
     "duration": 0.062176,
     "end_time": "2024-09-12T15:17:47.548227",
     "exception": false,
     "start_time": "2024-09-12T15:17:47.486051",
     "status": "completed"
    },
    "tags": []
   },
   "outputs": [
    {
     "data": {
      "text/html": [
       "<div>\n",
       "<style scoped>\n",
       "    .dataframe tbody tr th:only-of-type {\n",
       "        vertical-align: middle;\n",
       "    }\n",
       "\n",
       "    .dataframe tbody tr th {\n",
       "        vertical-align: top;\n",
       "    }\n",
       "\n",
       "    .dataframe thead th {\n",
       "        text-align: right;\n",
       "    }\n",
       "</style>\n",
       "<table border=\"1\" class=\"dataframe\">\n",
       "  <thead>\n",
       "    <tr style=\"text-align: right;\">\n",
       "      <th></th>\n",
       "      <th>Relationship</th>\n",
       "      <th>Object_class</th>\n",
       "      <th>Object_name</th>\n",
       "      <th>Node1</th>\n",
       "      <th>Node2</th>\n",
       "      <th>Parameter</th>\n",
       "      <th>Value</th>\n",
       "    </tr>\n",
       "  </thead>\n",
       "  <tbody>\n",
       "  </tbody>\n",
       "</table>\n",
       "</div>"
      ],
      "text/plain": [
       "Empty DataFrame\n",
       "Columns: [Relationship, Object_class, Object_name, Node1, Node2, Parameter, Value]\n",
       "Index: []"
      ]
     },
     "execution_count": 32,
     "metadata": {},
     "output_type": "execute_result"
    }
   ],
   "source": [
    "# Add unit_node_node relationships for every unit that has power as output (e.g., PV)\n",
    "df_non_electricity_node_node = df_idle_node_node[df_idle_node_node['Node1'] == df_idle_node_node['Node2']].copy()\n",
    "df_non_electricity_node_node.loc[:, 'Node1'] = df_non_electricity_node_node['Object_name'] + '_node'\n",
    "\n",
    "#drop all rows that do not have a unit_idle_heat rate\n",
    "df_non_electricity_node_node = df_non_electricity_node_node.dropna(subset=['Value'])\n",
    "\n",
    "#df_object_node_node = pd.concat([df_object_node_node, df_non_electricity_node_node], ignore_index=True)\n",
    "df_non_electricity_node_node"
   ]
  },
  {
   "cell_type": "code",
   "execution_count": 33,
   "id": "1161ddbe",
   "metadata": {
    "execution": {
     "iopub.execute_input": "2024-09-12T15:17:47.608022Z",
     "iopub.status.busy": "2024-09-12T15:17:47.606919Z",
     "iopub.status.idle": "2024-09-12T15:17:47.616127Z",
     "shell.execute_reply": "2024-09-12T15:17:47.615127Z"
    },
    "papermill": {
     "duration": 0.041541,
     "end_time": "2024-09-12T15:17:47.620128",
     "exception": false,
     "start_time": "2024-09-12T15:17:47.578587",
     "status": "completed"
    },
    "tags": []
   },
   "outputs": [],
   "source": [
    "# add new [arbitrary] nodes to definition\n",
    "new_nodes = df_non_electricity_node_node['Node1']\n",
    "new_nodes = new_nodes[~new_nodes.isin(df_nodes['Object_Name'])]\n",
    "df_new_nodes = pd.DataFrame({\n",
    "    'Object_Name': new_nodes,\n",
    "    'Category': 'node'\n",
    "})\n",
    "\n",
    "df_nodes = pd.concat([df_nodes, df_new_nodes], ignore_index=True)\n",
    "# add new node to definition\n",
    "df_definition = pd.concat([df_definition, df_new_nodes], ignore_index=True)"
   ]
  },
  {
   "cell_type": "code",
   "execution_count": 34,
   "id": "9189bd8d",
   "metadata": {
    "execution": {
     "iopub.execute_input": "2024-09-12T15:17:47.658311Z",
     "iopub.status.busy": "2024-09-12T15:17:47.658311Z",
     "iopub.status.idle": "2024-09-12T15:17:47.678833Z",
     "shell.execute_reply": "2024-09-12T15:17:47.677836Z"
    },
    "papermill": {
     "duration": 0.044787,
     "end_time": "2024-09-12T15:17:47.681870",
     "exception": false,
     "start_time": "2024-09-12T15:17:47.637083",
     "status": "completed"
    },
    "tags": []
   },
   "outputs": [],
   "source": [
    "# add new unit_to_nodes relationship with new nodes\n",
    "df_new = df_non_electricity_node_node.copy()\n",
    "df_new = df_new.iloc[:, :4]\n",
    "new_headers = ['Relationship_class_name', 'Object_class', 'Object_name', 'Node']\n",
    "df_new.columns = new_headers\n",
    "df_new.iloc[:, 0] = \"unit__from_node\"\n",
    "\n",
    "df_object__node_definitions = pd.concat([df_object__node_definitions, df_new], ignore_index=True)"
   ]
  },
  {
   "cell_type": "code",
   "execution_count": 35,
   "id": "68543d3d",
   "metadata": {
    "execution": {
     "iopub.execute_input": "2024-09-12T15:17:47.725156Z",
     "iopub.status.busy": "2024-09-12T15:17:47.725156Z",
     "iopub.status.idle": "2024-09-12T15:17:47.741186Z",
     "shell.execute_reply": "2024-09-12T15:17:47.741186Z"
    },
    "papermill": {
     "duration": 0.042298,
     "end_time": "2024-09-12T15:17:47.744079",
     "exception": false,
     "start_time": "2024-09-12T15:17:47.701781",
     "status": "completed"
    },
    "tags": []
   },
   "outputs": [],
   "source": [
    "#Check if second node is necessary for demand\n",
    "for index, row in df_model_units.iterrows():\n",
    "    df_definition, df_nodes, df_connections, df_object__node_values, df_object_node_node = check_demand_node(\n",
    "        row, temporal_block, resolution_to_block, df_definition, \n",
    "        df_nodes, df_connections, df_object__node_values, \n",
    "        df_object_node_node)"
   ]
  },
  {
   "cell_type": "markdown",
   "id": "c3870c8f",
   "metadata": {
    "papermill": {
     "duration": 0.015844,
     "end_time": "2024-09-12T15:17:47.777594",
     "exception": false,
     "start_time": "2024-09-12T15:17:47.761750",
     "status": "completed"
    },
    "tags": []
   },
   "source": [
    "#### Hard-coded parameter for destillation tower (please remove once better solution is found)"
   ]
  },
  {
   "cell_type": "code",
   "execution_count": 36,
   "id": "f39b3512",
   "metadata": {
    "execution": {
     "iopub.execute_input": "2024-09-12T15:17:47.817006Z",
     "iopub.status.busy": "2024-09-12T15:17:47.817006Z",
     "iopub.status.idle": "2024-09-12T15:17:47.835218Z",
     "shell.execute_reply": "2024-09-12T15:17:47.833581Z"
    },
    "papermill": {
     "duration": 0.044649,
     "end_time": "2024-09-12T15:17:47.837807",
     "exception": false,
     "start_time": "2024-09-12T15:17:47.793158",
     "status": "completed"
    },
    "tags": []
   },
   "outputs": [],
   "source": [
    "data = {\n",
    "    \"Relationship\": [\"unit__node__node\"],\n",
    "    \"Object_class\": \"unit\",\n",
    "    \"Object_name\": \"Destilation_Tower\",\n",
    "    \"Node1\": \"Power_Kasso\",\n",
    "    \"Node2\": \"E-Methanol_Kasso\",\n",
    "    \"Parameter\": \"max_ratio_in_out_unit_flow\",\n",
    "    \"Value\": 1\n",
    "}\n",
    "df_hardcode_destillation = pd.DataFrame(data)\n",
    "\n",
    "# Append new rows to the original DataFrame\n",
    "df_object_node_node = pd.concat([df_object_node_node, df_hardcode_destillation], ignore_index=True)"
   ]
  },
  {
   "cell_type": "code",
   "execution_count": 37,
   "id": "b56f0efe",
   "metadata": {
    "execution": {
     "iopub.execute_input": "2024-09-12T15:17:47.886505Z",
     "iopub.status.busy": "2024-09-12T15:17:47.886505Z",
     "iopub.status.idle": "2024-09-12T15:17:47.912928Z",
     "shell.execute_reply": "2024-09-12T15:17:47.910891Z"
    },
    "papermill": {
     "duration": 0.05046,
     "end_time": "2024-09-12T15:17:47.915941",
     "exception": false,
     "start_time": "2024-09-12T15:17:47.865481",
     "status": "completed"
    },
    "tags": []
   },
   "outputs": [
    {
     "data": {
      "text/html": [
       "<div>\n",
       "<style scoped>\n",
       "    .dataframe tbody tr th:only-of-type {\n",
       "        vertical-align: middle;\n",
       "    }\n",
       "\n",
       "    .dataframe tbody tr th {\n",
       "        vertical-align: top;\n",
       "    }\n",
       "\n",
       "    .dataframe thead th {\n",
       "        text-align: right;\n",
       "    }\n",
       "</style>\n",
       "<table border=\"1\" class=\"dataframe\">\n",
       "  <thead>\n",
       "    <tr style=\"text-align: right;\">\n",
       "      <th></th>\n",
       "      <th>Relationship_class_name</th>\n",
       "      <th>Object_class</th>\n",
       "      <th>Object_name</th>\n",
       "      <th>Node</th>\n",
       "    </tr>\n",
       "  </thead>\n",
       "  <tbody>\n",
       "    <tr>\n",
       "      <th>0</th>\n",
       "      <td>unit__to_node</td>\n",
       "      <td>unit</td>\n",
       "      <td>Solar_Plant_Kasso</td>\n",
       "      <td>Power_Kasso</td>\n",
       "    </tr>\n",
       "    <tr>\n",
       "      <th>1</th>\n",
       "      <td>unit__from_node</td>\n",
       "      <td>unit</td>\n",
       "      <td>Electrolyzer</td>\n",
       "      <td>Power_Kasso</td>\n",
       "    </tr>\n",
       "    <tr>\n",
       "      <th>2</th>\n",
       "      <td>unit__to_node</td>\n",
       "      <td>unit</td>\n",
       "      <td>Electrolyzer</td>\n",
       "      <td>Hydrogen_Kasso</td>\n",
       "    </tr>\n",
       "    <tr>\n",
       "      <th>3</th>\n",
       "      <td>unit__from_node</td>\n",
       "      <td>unit</td>\n",
       "      <td>Electrolyzer</td>\n",
       "      <td>Water</td>\n",
       "    </tr>\n",
       "    <tr>\n",
       "      <th>4</th>\n",
       "      <td>unit__to_node</td>\n",
       "      <td>unit</td>\n",
       "      <td>Electrolyzer</td>\n",
       "      <td>Waste_Heat</td>\n",
       "    </tr>\n",
       "    <tr>\n",
       "      <th>5</th>\n",
       "      <td>unit__from_node</td>\n",
       "      <td>unit</td>\n",
       "      <td>CO2_Vaporizer</td>\n",
       "      <td>Power_Kasso</td>\n",
       "    </tr>\n",
       "    <tr>\n",
       "      <th>6</th>\n",
       "      <td>unit__to_node</td>\n",
       "      <td>unit</td>\n",
       "      <td>CO2_Vaporizer</td>\n",
       "      <td>Vaporized_Carbon_Dioxide</td>\n",
       "    </tr>\n",
       "    <tr>\n",
       "      <th>7</th>\n",
       "      <td>unit__from_node</td>\n",
       "      <td>unit</td>\n",
       "      <td>CO2_Vaporizer</td>\n",
       "      <td>Carbon_Dioxide</td>\n",
       "    </tr>\n",
       "    <tr>\n",
       "      <th>8</th>\n",
       "      <td>unit__from_node</td>\n",
       "      <td>unit</td>\n",
       "      <td>Destilation_Tower</td>\n",
       "      <td>Raw_Methanol</td>\n",
       "    </tr>\n",
       "    <tr>\n",
       "      <th>9</th>\n",
       "      <td>unit__to_node</td>\n",
       "      <td>unit</td>\n",
       "      <td>Destilation_Tower</td>\n",
       "      <td>E-Methanol_Kasso</td>\n",
       "    </tr>\n",
       "    <tr>\n",
       "      <th>10</th>\n",
       "      <td>unit__from_node</td>\n",
       "      <td>unit</td>\n",
       "      <td>Destilation_Tower</td>\n",
       "      <td>Steam</td>\n",
       "    </tr>\n",
       "    <tr>\n",
       "      <th>11</th>\n",
       "      <td>unit__from_node</td>\n",
       "      <td>unit</td>\n",
       "      <td>Methanol_Reactor</td>\n",
       "      <td>Hydrogen_Kasso</td>\n",
       "    </tr>\n",
       "    <tr>\n",
       "      <th>12</th>\n",
       "      <td>unit__to_node</td>\n",
       "      <td>unit</td>\n",
       "      <td>Methanol_Reactor</td>\n",
       "      <td>Raw_Methanol</td>\n",
       "    </tr>\n",
       "    <tr>\n",
       "      <th>13</th>\n",
       "      <td>unit__from_node</td>\n",
       "      <td>unit</td>\n",
       "      <td>Methanol_Reactor</td>\n",
       "      <td>Vaporized_Carbon_Dioxide</td>\n",
       "    </tr>\n",
       "    <tr>\n",
       "      <th>14</th>\n",
       "      <td>unit__to_node</td>\n",
       "      <td>unit</td>\n",
       "      <td>Methanol_Reactor</td>\n",
       "      <td>Waste_Heat</td>\n",
       "    </tr>\n",
       "    <tr>\n",
       "      <th>15</th>\n",
       "      <td>unit__from_node</td>\n",
       "      <td>unit</td>\n",
       "      <td>Steam_Plant</td>\n",
       "      <td>Power_Kasso</td>\n",
       "    </tr>\n",
       "    <tr>\n",
       "      <th>16</th>\n",
       "      <td>unit__to_node</td>\n",
       "      <td>unit</td>\n",
       "      <td>Steam_Plant</td>\n",
       "      <td>Steam</td>\n",
       "    </tr>\n",
       "    <tr>\n",
       "      <th>17</th>\n",
       "      <td>unit__from_node</td>\n",
       "      <td>unit</td>\n",
       "      <td>Steam_Plant</td>\n",
       "      <td>Water</td>\n",
       "    </tr>\n",
       "    <tr>\n",
       "      <th>18</th>\n",
       "      <td>unit__from_node</td>\n",
       "      <td>unit</td>\n",
       "      <td>Destilation_Tower</td>\n",
       "      <td>Power_Kasso</td>\n",
       "    </tr>\n",
       "    <tr>\n",
       "      <th>19</th>\n",
       "      <td>unit__from_node</td>\n",
       "      <td>unit</td>\n",
       "      <td>Methanol_Reactor</td>\n",
       "      <td>Power_Kasso</td>\n",
       "    </tr>\n",
       "  </tbody>\n",
       "</table>\n",
       "</div>"
      ],
      "text/plain": [
       "   Relationship_class_name Object_class        Object_name  \\\n",
       "0            unit__to_node         unit  Solar_Plant_Kasso   \n",
       "1          unit__from_node         unit       Electrolyzer   \n",
       "2            unit__to_node         unit       Electrolyzer   \n",
       "3          unit__from_node         unit       Electrolyzer   \n",
       "4            unit__to_node         unit       Electrolyzer   \n",
       "5          unit__from_node         unit      CO2_Vaporizer   \n",
       "6            unit__to_node         unit      CO2_Vaporizer   \n",
       "7          unit__from_node         unit      CO2_Vaporizer   \n",
       "8          unit__from_node         unit  Destilation_Tower   \n",
       "9            unit__to_node         unit  Destilation_Tower   \n",
       "10         unit__from_node         unit  Destilation_Tower   \n",
       "11         unit__from_node         unit   Methanol_Reactor   \n",
       "12           unit__to_node         unit   Methanol_Reactor   \n",
       "13         unit__from_node         unit   Methanol_Reactor   \n",
       "14           unit__to_node         unit   Methanol_Reactor   \n",
       "15         unit__from_node         unit        Steam_Plant   \n",
       "16           unit__to_node         unit        Steam_Plant   \n",
       "17         unit__from_node         unit        Steam_Plant   \n",
       "18         unit__from_node         unit  Destilation_Tower   \n",
       "19         unit__from_node         unit   Methanol_Reactor   \n",
       "\n",
       "                        Node  \n",
       "0                Power_Kasso  \n",
       "1                Power_Kasso  \n",
       "2             Hydrogen_Kasso  \n",
       "3                      Water  \n",
       "4                 Waste_Heat  \n",
       "5                Power_Kasso  \n",
       "6   Vaporized_Carbon_Dioxide  \n",
       "7             Carbon_Dioxide  \n",
       "8               Raw_Methanol  \n",
       "9           E-Methanol_Kasso  \n",
       "10                     Steam  \n",
       "11            Hydrogen_Kasso  \n",
       "12              Raw_Methanol  \n",
       "13  Vaporized_Carbon_Dioxide  \n",
       "14                Waste_Heat  \n",
       "15               Power_Kasso  \n",
       "16                     Steam  \n",
       "17                     Water  \n",
       "18               Power_Kasso  \n",
       "19               Power_Kasso  "
      ]
     },
     "execution_count": 37,
     "metadata": {},
     "output_type": "execute_result"
    }
   ],
   "source": [
    "df_object__node_definitions"
   ]
  },
  {
   "cell_type": "markdown",
   "id": "55192bdb",
   "metadata": {
    "papermill": {
     "duration": 0.016891,
     "end_time": "2024-09-12T15:17:47.949948",
     "exception": false,
     "start_time": "2024-09-12T15:17:47.933057",
     "status": "completed"
    },
    "tags": []
   },
   "source": [
    "### Model:"
   ]
  },
  {
   "cell_type": "markdown",
   "id": "89b971c4",
   "metadata": {
    "papermill": {
     "duration": 0.020101,
     "end_time": "2024-09-12T15:17:47.991806",
     "exception": false,
     "start_time": "2024-09-12T15:17:47.971705",
     "status": "completed"
    },
    "tags": []
   },
   "source": [
    "#### Model relations:"
   ]
  },
  {
   "cell_type": "code",
   "execution_count": 38,
   "id": "ccf465d5",
   "metadata": {
    "execution": {
     "iopub.execute_input": "2024-09-12T15:17:48.028939Z",
     "iopub.status.busy": "2024-09-12T15:17:48.027937Z",
     "iopub.status.idle": "2024-09-12T15:17:48.050306Z",
     "shell.execute_reply": "2024-09-12T15:17:48.049256Z"
    },
    "papermill": {
     "duration": 0.046058,
     "end_time": "2024-09-12T15:17:48.054321",
     "exception": false,
     "start_time": "2024-09-12T15:17:48.008263",
     "status": "completed"
    },
    "tags": []
   },
   "outputs": [],
   "source": [
    "#Writing definition of model components\n",
    "column_names_model_components = {'Object_class_name':['model','temporal_block','stochastic_scenario', 'stochastic_structure', 'report'],\n",
    "                      'Object_name': [model_name, temporal_block, stochastic_scenario, stochastic_structure, report_name]}\n",
    "df_model_components = pd.DataFrame(column_names_model_components, index=None)\n",
    "\n",
    "#Adding a default invetsment temporal block \n",
    "df_model_components.loc[len(df_model_components.index)] = ['temporal_block', 'Default_Investment_period']\n",
    "\n",
    "#Outputs:\n",
    "reports_list = list(reports)\n",
    "df_outputs = pd.DataFrame({\n",
    "    'Object_class_name': ['output']*len(reports_list),\n",
    "    'Object_name': reports_list\n",
    "})\n",
    "df_model_components = pd.concat([df_model_components, df_outputs], axis=0)\n",
    "df_model_components = df_model_components.reset_index(drop=True)"
   ]
  },
  {
   "cell_type": "code",
   "execution_count": 39,
   "id": "c335dd9b",
   "metadata": {
    "execution": {
     "iopub.execute_input": "2024-09-12T15:17:48.110902Z",
     "iopub.status.busy": "2024-09-12T15:17:48.109888Z",
     "iopub.status.idle": "2024-09-12T15:17:48.143309Z",
     "shell.execute_reply": "2024-09-12T15:17:48.142210Z"
    },
    "papermill": {
     "duration": 0.05843,
     "end_time": "2024-09-12T15:17:48.144823",
     "exception": false,
     "start_time": "2024-09-12T15:17:48.086393",
     "status": "completed"
    },
    "tags": []
   },
   "outputs": [
    {
     "data": {
      "text/html": [
       "<div>\n",
       "<style scoped>\n",
       "    .dataframe tbody tr th:only-of-type {\n",
       "        vertical-align: middle;\n",
       "    }\n",
       "\n",
       "    .dataframe tbody tr th {\n",
       "        vertical-align: top;\n",
       "    }\n",
       "\n",
       "    .dataframe thead th {\n",
       "        text-align: right;\n",
       "    }\n",
       "</style>\n",
       "<table border=\"1\" class=\"dataframe\">\n",
       "  <thead>\n",
       "    <tr style=\"text-align: right;\">\n",
       "      <th></th>\n",
       "      <th>Relationship_class_name</th>\n",
       "      <th>Object_class_name_1</th>\n",
       "      <th>Object_class_name_2</th>\n",
       "      <th>Object_name_1</th>\n",
       "      <th>Object_name_2</th>\n",
       "    </tr>\n",
       "  </thead>\n",
       "  <tbody>\n",
       "    <tr>\n",
       "      <th>0</th>\n",
       "      <td>model__temporal_block</td>\n",
       "      <td>model</td>\n",
       "      <td>temporal_block</td>\n",
       "      <td>Model</td>\n",
       "      <td>hourly</td>\n",
       "    </tr>\n",
       "    <tr>\n",
       "      <th>1</th>\n",
       "      <td>model__default_temporal_block</td>\n",
       "      <td>model</td>\n",
       "      <td>temporal_block</td>\n",
       "      <td>Model</td>\n",
       "      <td>hourly</td>\n",
       "    </tr>\n",
       "    <tr>\n",
       "      <th>2</th>\n",
       "      <td>model__stochastic_structure</td>\n",
       "      <td>model</td>\n",
       "      <td>stochastic_structure</td>\n",
       "      <td>Model</td>\n",
       "      <td>deterministic</td>\n",
       "    </tr>\n",
       "    <tr>\n",
       "      <th>3</th>\n",
       "      <td>model__default_stochastic_structure</td>\n",
       "      <td>model</td>\n",
       "      <td>stochastic_structure</td>\n",
       "      <td>Model</td>\n",
       "      <td>deterministic</td>\n",
       "    </tr>\n",
       "    <tr>\n",
       "      <th>4</th>\n",
       "      <td>stochastic_structure__stochastic_scenario</td>\n",
       "      <td>stochastic_structure</td>\n",
       "      <td>stochastic_scenario</td>\n",
       "      <td>deterministic</td>\n",
       "      <td>realization</td>\n",
       "    </tr>\n",
       "  </tbody>\n",
       "</table>\n",
       "</div>"
      ],
      "text/plain": [
       "                     Relationship_class_name   Object_class_name_1  \\\n",
       "0                      model__temporal_block                 model   \n",
       "1              model__default_temporal_block                 model   \n",
       "2                model__stochastic_structure                 model   \n",
       "3        model__default_stochastic_structure                 model   \n",
       "4  stochastic_structure__stochastic_scenario  stochastic_structure   \n",
       "\n",
       "    Object_class_name_2  Object_name_1  Object_name_2  \n",
       "0        temporal_block          Model         hourly  \n",
       "1        temporal_block          Model         hourly  \n",
       "2  stochastic_structure          Model  deterministic  \n",
       "3  stochastic_structure          Model  deterministic  \n",
       "4   stochastic_scenario  deterministic    realization  "
      ]
     },
     "execution_count": 39,
     "metadata": {},
     "output_type": "execute_result"
    }
   ],
   "source": [
    "#reports\n",
    "column_names_model_structure = {'Object_class_name':['model','temporal_block','stochastic_scenario', 'stochastic_structure', 'report'],\n",
    "                      'Object_name': [model_name, temporal_block, stochastic_scenario, stochastic_structure, report_name]}\n",
    "df_reports = pd.DataFrame({\n",
    "    'Relationship_class_name': ['report__output']*len(reports_list),\n",
    "    'Object_class_name_1': ['report']*len(reports_list),\n",
    "    'Object_class_name_2': ['output']*len(reports_list),\n",
    "    'Object_name_1': [report_name]*len(reports_list),\n",
    "    'Object_name_2': reports_list\n",
    "})\n",
    "#everything else\n",
    "df_model_struc = pd.DataFrame({\n",
    "    'Relationship_class_name': ['model__temporal_block','model__default_temporal_block', \n",
    "                                'model__stochastic_structure', 'model__default_stochastic_structure',\n",
    "                                'stochastic_structure__stochastic_scenario', 'model__report'],\n",
    "    'Object_class_name_1': ['model','model','model','model','stochastic_structure','model'],\n",
    "    'Object_class_name_2': ['temporal_block', 'temporal_block','stochastic_structure','stochastic_structure', 'stochastic_scenario','report'],\n",
    "    'Object_name_1': [model_name, model_name,model_name,model_name,stochastic_structure, model_name],\n",
    "    'Object_name_2': [temporal_block, temporal_block, stochastic_structure, stochastic_structure, stochastic_scenario, report_name]\n",
    "})\n",
    "df_model_relations = pd.concat([df_model_struc, df_reports], axis=0)\n",
    "df_model_relations = df_model_relations.reset_index(drop=True)\n",
    "\n",
    "# Defining default invetsment temporal block\n",
    "df_model_relations.loc[len(df_model_relations.index)] = ['model__default_investment_temporal_block', 'model', 'temporal_block', model_name, 'Default_Investment_period']\n",
    "\n",
    "# Defining default investment stochastic structure \n",
    "df_model_relations.loc[len(df_model_relations.index)] = ['model__default_investment_stochastic_structure', 'model', 'stochastic_structure', model_name, stochastic_structure]\n",
    "\n",
    "#show table head for control\n",
    "df_model_relations.head()"
   ]
  },
  {
   "cell_type": "markdown",
   "id": "892b88dc-3a5b-41c5-b184-64593c28c72c",
   "metadata": {
    "papermill": {
     "duration": 0.01867,
     "end_time": "2024-09-12T15:17:48.181778",
     "exception": false,
     "start_time": "2024-09-12T15:17:48.163108",
     "status": "completed"
    },
    "tags": []
   },
   "source": [
    "#### Start, end, resolution :"
   ]
  },
  {
   "cell_type": "code",
   "execution_count": 40,
   "id": "3960d14b-394b-4599-9e1e-8831aa59e6f8",
   "metadata": {
    "execution": {
     "iopub.execute_input": "2024-09-12T15:17:48.221528Z",
     "iopub.status.busy": "2024-09-12T15:17:48.221022Z",
     "iopub.status.idle": "2024-09-12T15:17:48.238633Z",
     "shell.execute_reply": "2024-09-12T15:17:48.237502Z"
    },
    "papermill": {
     "duration": 0.040111,
     "end_time": "2024-09-12T15:17:48.240647",
     "exception": false,
     "start_time": "2024-09-12T15:17:48.200536",
     "status": "completed"
    },
    "tags": []
   },
   "outputs": [
    {
     "data": {
      "text/html": [
       "<div>\n",
       "<style scoped>\n",
       "    .dataframe tbody tr th:only-of-type {\n",
       "        vertical-align: middle;\n",
       "    }\n",
       "\n",
       "    .dataframe tbody tr th {\n",
       "        vertical-align: top;\n",
       "    }\n",
       "\n",
       "    .dataframe thead th {\n",
       "        text-align: right;\n",
       "    }\n",
       "</style>\n",
       "<table border=\"1\" class=\"dataframe\">\n",
       "  <thead>\n",
       "    <tr style=\"text-align: right;\">\n",
       "      <th></th>\n",
       "      <th>Object_class_name</th>\n",
       "      <th>Object_name</th>\n",
       "      <th>Parameter</th>\n",
       "      <th>Alternative</th>\n",
       "      <th>Value</th>\n",
       "    </tr>\n",
       "  </thead>\n",
       "  <tbody>\n",
       "    <tr>\n",
       "      <th>0</th>\n",
       "      <td>model</td>\n",
       "      <td>Model</td>\n",
       "      <td>model_start</td>\n",
       "      <td>Base</td>\n",
       "      <td>{\"type\": \"date_time\", \"data\": \"2019-01-01T00:0...</td>\n",
       "    </tr>\n",
       "    <tr>\n",
       "      <th>1</th>\n",
       "      <td>model</td>\n",
       "      <td>Model</td>\n",
       "      <td>model_end</td>\n",
       "      <td>Base</td>\n",
       "      <td>{\"type\": \"date_time\", \"data\": \"2019-12-31T23:0...</td>\n",
       "    </tr>\n",
       "    <tr>\n",
       "      <th>2</th>\n",
       "      <td>temporal_block</td>\n",
       "      <td>hourly</td>\n",
       "      <td>resolution</td>\n",
       "      <td>Base</td>\n",
       "      <td>{\"type\":\"duration\", \"data\": \"1h\"}</td>\n",
       "    </tr>\n",
       "    <tr>\n",
       "      <th>3</th>\n",
       "      <td>temporal_block</td>\n",
       "      <td>Default_Investment_period</td>\n",
       "      <td>resolution</td>\n",
       "      <td>Base</td>\n",
       "      <td>{\"type\":\"duration\", \"data\": \"365D\"}</td>\n",
       "    </tr>\n",
       "  </tbody>\n",
       "</table>\n",
       "</div>"
      ],
      "text/plain": [
       "  Object_class_name                Object_name    Parameter Alternative  \\\n",
       "0             model                      Model  model_start        Base   \n",
       "1             model                      Model    model_end        Base   \n",
       "2    temporal_block                     hourly   resolution        Base   \n",
       "3    temporal_block  Default_Investment_period   resolution        Base   \n",
       "\n",
       "                                               Value  \n",
       "0  {\"type\": \"date_time\", \"data\": \"2019-01-01T00:0...  \n",
       "1  {\"type\": \"date_time\", \"data\": \"2019-12-31T23:0...  \n",
       "2                  {\"type\":\"duration\", \"data\": \"1h\"}  \n",
       "3                {\"type\":\"duration\", \"data\": \"365D\"}  "
      ]
     },
     "execution_count": 40,
     "metadata": {},
     "output_type": "execute_result"
    }
   ],
   "source": [
    "### take first 3 columns and add another table with \"Alternative\", \"Value\"\n",
    "column_names_model = {'Object_class_name':['model','model','temporal_block'],\n",
    "                      'Object_name': [model_name, model_name, temporal_block],\n",
    "                      'Parameter':['model_start','model_end','resolution'],\n",
    "                      'Alternative': [scenario[0], scenario[0], scenario[0]],\n",
    "                      'Value': ['{\"type\": \"date_time\", \"data\": \"'+df_time.iloc[0]['DateTime']+'\"}',\n",
    "                          '{\"type\": \"date_time\", \"data\": \"'+df_time.iloc[-1]['DateTime']+'\"}', \n",
    "                          '{\"type\":\"duration\", \"data\": \"'+frequency+'\"}']}\n",
    "df_model = pd.DataFrame(column_names_model, index=None)\n",
    "\n",
    "#Add investment temporal blocks to model data frame in days\n",
    "df_model.loc[len(df_model.index)] = ['temporal_block', 'Default_Investment_period', 'resolution', scenario[0], '{\"type\":\"duration\", \"data\": \"'+convert_to_days(investment_period_default, year)+'\"}']\n",
    "\n",
    "#show table head for control\n",
    "df_model.head()"
   ]
  },
  {
   "cell_type": "code",
   "execution_count": 41,
   "id": "4b24d678-4167-4521-a6ab-aae160dc13ae",
   "metadata": {
    "execution": {
     "iopub.execute_input": "2024-09-12T15:17:48.279725Z",
     "iopub.status.busy": "2024-09-12T15:17:48.279220Z",
     "iopub.status.idle": "2024-09-12T15:17:48.300834Z",
     "shell.execute_reply": "2024-09-12T15:17:48.300834Z"
    },
    "papermill": {
     "duration": 0.046563,
     "end_time": "2024-09-12T15:17:48.304537",
     "exception": false,
     "start_time": "2024-09-12T15:17:48.257974",
     "status": "completed"
    },
    "tags": []
   },
   "outputs": [
    {
     "data": {
      "text/html": [
       "<div>\n",
       "<style scoped>\n",
       "    .dataframe tbody tr th:only-of-type {\n",
       "        vertical-align: middle;\n",
       "    }\n",
       "\n",
       "    .dataframe tbody tr th {\n",
       "        vertical-align: top;\n",
       "    }\n",
       "\n",
       "    .dataframe thead th {\n",
       "        text-align: right;\n",
       "    }\n",
       "</style>\n",
       "<table border=\"1\" class=\"dataframe\">\n",
       "  <thead>\n",
       "    <tr style=\"text-align: right;\">\n",
       "      <th></th>\n",
       "      <th>Object_class_name</th>\n",
       "      <th>Object_name</th>\n",
       "      <th>Parameter</th>\n",
       "      <th>Alternative</th>\n",
       "      <th>Value</th>\n",
       "    </tr>\n",
       "  </thead>\n",
       "  <tbody>\n",
       "    <tr>\n",
       "      <th>0</th>\n",
       "      <td>model</td>\n",
       "      <td>Model</td>\n",
       "      <td>model_start</td>\n",
       "      <td>Base</td>\n",
       "      <td>{\"type\": \"date_time\", \"data\": \"2019-01-01T00:0...</td>\n",
       "    </tr>\n",
       "    <tr>\n",
       "      <th>1</th>\n",
       "      <td>model</td>\n",
       "      <td>Model</td>\n",
       "      <td>model_end</td>\n",
       "      <td>Base</td>\n",
       "      <td>{\"type\": \"date_time\", \"data\": \"2019-12-31T23:0...</td>\n",
       "    </tr>\n",
       "    <tr>\n",
       "      <th>2</th>\n",
       "      <td>temporal_block</td>\n",
       "      <td>hourly</td>\n",
       "      <td>resolution</td>\n",
       "      <td>Base</td>\n",
       "      <td>{\"type\":\"duration\", \"data\": \"1h\"}</td>\n",
       "    </tr>\n",
       "    <tr>\n",
       "      <th>3</th>\n",
       "      <td>temporal_block</td>\n",
       "      <td>Default_Investment_period</td>\n",
       "      <td>resolution</td>\n",
       "      <td>Base</td>\n",
       "      <td>{\"type\":\"duration\", \"data\": \"365D\"}</td>\n",
       "    </tr>\n",
       "  </tbody>\n",
       "</table>\n",
       "</div>"
      ],
      "text/plain": [
       "  Object_class_name                Object_name    Parameter Alternative  \\\n",
       "0             model                      Model  model_start        Base   \n",
       "1             model                      Model    model_end        Base   \n",
       "2    temporal_block                     hourly   resolution        Base   \n",
       "3    temporal_block  Default_Investment_period   resolution        Base   \n",
       "\n",
       "                                               Value  \n",
       "0  {\"type\": \"date_time\", \"data\": \"2019-01-01T00:0...  \n",
       "1  {\"type\": \"date_time\", \"data\": \"2019-12-31T23:0...  \n",
       "2                  {\"type\":\"duration\", \"data\": \"1h\"}  \n",
       "3                {\"type\":\"duration\", \"data\": \"365D\"}  "
      ]
     },
     "execution_count": 41,
     "metadata": {},
     "output_type": "execute_result"
    }
   ],
   "source": [
    "# add information in case roll forward is used\n",
    "if roll_forward_use == True:\n",
    "    if temporal_block == 'hourly':\n",
    "        unit = 'h'\n",
    "    elif temporal_block == 'daily':\n",
    "        unit = 'D'\n",
    "    elif temporal_block == 'monthly':\n",
    "        unit = 'M'\n",
    "    else:\n",
    "        unit = ''\n",
    "        print(\"\\033[91mWARNING:\\033[0m Duration not defined!!!\")\n",
    "    #now add the new row to the df\n",
    "    roll_forward_size_with_unit = str(roll_forward_size) + unit\n",
    "    roll_forward_row = {'Object_class_name': 'model', \n",
    "                        'Object_name': model_name, \n",
    "                        'Parameter': 'roll_forward',\n",
    "                        'Alternative': scenario[0],\n",
    "                        'Value': '{\"type\": \"duration\", \"data\": \"' + roll_forward_size_with_unit +'\"}'\n",
    "                       }\n",
    "    # Add new row to df_model DataFrame\n",
    "    df_model.loc[len(df_model)] = roll_forward_row\n",
    "df_model"
   ]
  },
  {
   "cell_type": "code",
   "execution_count": 42,
   "id": "14842492",
   "metadata": {
    "execution": {
     "iopub.execute_input": "2024-09-12T15:17:48.348295Z",
     "iopub.status.busy": "2024-09-12T15:17:48.348295Z",
     "iopub.status.idle": "2024-09-12T15:17:48.380419Z",
     "shell.execute_reply": "2024-09-12T15:17:48.379378Z"
    },
    "papermill": {
     "duration": 0.057817,
     "end_time": "2024-09-12T15:17:48.383699",
     "exception": false,
     "start_time": "2024-09-12T15:17:48.325882",
     "status": "completed"
    },
    "tags": []
   },
   "outputs": [
    {
     "data": {
      "text/plain": [
       "0    None\n",
       "1    None\n",
       "2    None\n",
       "3    None\n",
       "4    None\n",
       "5    None\n",
       "Name: resolution_output, dtype: object"
      ]
     },
     "execution_count": 42,
     "metadata": {},
     "output_type": "execute_result"
    }
   ],
   "source": [
    "# temporal resolution for demand\n",
    "#Add temporal block to definition, if necessary\n",
    "df_model_units['resolution_output'].apply(lambda x: check_temporal_block(x, df_model_components))\n",
    "\n",
    "#Add temporal relation to respective node\n",
    "df_temporal_relations = pd.DataFrame(columns = ['Relationship_class_name', 'Node', 'Temporal_block'], index=None)\n",
    "df_model_units.apply(lambda row: create_temporal_block_relationships(row['resolution_output'],row['Output1'], df_model_relations, model_name, df_definition, df_temporal_relations),axis=1)\n",
    "\n",
    "#Add values to temporal block\n",
    "df_model_units['resolution_output'].apply(lambda x: create_temporal_block_input(x, df_model))"
   ]
  },
  {
   "cell_type": "markdown",
   "id": "36be54c5-1d66-4841-a002-30a94697b84e",
   "metadata": {
    "papermill": {
     "duration": 0.020111,
     "end_time": "2024-09-12T15:17:48.425156",
     "exception": false,
     "start_time": "2024-09-12T15:17:48.405045",
     "status": "completed"
    },
    "tags": []
   },
   "source": [
    "### Variable Efficiency Units:"
   ]
  },
  {
   "cell_type": "markdown",
   "id": "17268ecd-53bc-49ec-b6b8-6132ce181b2f",
   "metadata": {
    "papermill": {
     "duration": 0.022793,
     "end_time": "2024-09-12T15:17:48.473231",
     "exception": false,
     "start_time": "2024-09-12T15:17:48.450438",
     "status": "completed"
    },
    "tags": []
   },
   "source": [
    "#### Calculate adjusted efficiency for each unit"
   ]
  },
  {
   "cell_type": "code",
   "execution_count": 43,
   "id": "cecb0765",
   "metadata": {
    "execution": {
     "iopub.execute_input": "2024-09-12T15:17:48.525090Z",
     "iopub.status.busy": "2024-09-12T15:17:48.525090Z",
     "iopub.status.idle": "2024-09-12T15:17:48.724055Z",
     "shell.execute_reply": "2024-09-12T15:17:48.723048Z"
    },
    "papermill": {
     "duration": 0.228012,
     "end_time": "2024-09-12T15:17:48.727208",
     "exception": false,
     "start_time": "2024-09-12T15:17:48.499196",
     "status": "completed"
    },
    "scrolled": true,
    "tags": []
   },
   "outputs": [
    {
     "name": "stdout",
     "output_type": "stream",
     "text": [
      "Actual mean efficiency of electrolyzer after scaling: 0.7500\n",
      "   relationship_class_name:  unit__from_node\n",
      "0                         0             0.05\n",
      "1                         1             0.99\n",
      "WARNING: No variable efficiency defined for methanol_reactor\n"
     ]
    }
   ],
   "source": [
    "#important as the SpineOpt implementation is piecewise but when producing at high capacity the lower segments also produce\n",
    "#this way, we avoid overestimation of production when running at higher capacities\n",
    "\n",
    "for index, row in df_model_units.iterrows():\n",
    "    if pd.notna(row['mean_efficiency']):\n",
    "        # If 'mean_efficiency' column has a value, check if corresponding DataFrame exists\n",
    "        column_name = row['Unit'].lower()\n",
    "        df_name = f\"df_efficiency_{column_name}\"\n",
    "        goal = row['mean_efficiency']\n",
    "        output_1 = row['Output1']\n",
    "        input_1 = row['Input1']\n",
    "        \n",
    "        if df_name in globals() and isinstance(globals()[df_name], pd.DataFrame):\n",
    "            \n",
    "            #Calculate adjusted efficiency\n",
    "            df_efficiency_adj = create_adj_efficiency(globals()[df_name], goal, column_name)\n",
    "            globals()[f\"df_efficiency_{column_name}_adj\"] = df_efficiency_adj\n",
    "            \n",
    "            #fit with operating points\n",
    "            des_segment = globals()['des_segments_' + column_name]\n",
    "            df_var_efficiency, df_operating_points, segment_x_values, segment_averages, x_values, y_values = calculate_op_points(\n",
    "                column_name, des_segment, df_efficiency_adj, input_1, output_1\n",
    "            )\n",
    "            globals()[f\"variable_efficiency_{column_name}\"] = df_var_efficiency\n",
    "            globals()[f\"operating_points_{column_name}\"] = df_operating_points\n",
    "            globals()[f\"segment_x_values_{column_name}\"] = segment_x_values\n",
    "            globals()[f\"segment_averages_{column_name}\"] = segment_averages\n",
    "            globals()[f\"x_values_{column_name}\"] = x_values\n",
    "            globals()[f\"y_values_{column_name}\"] = y_values\n",
    "            \n",
    "            #create ordered_unit_flow\n",
    "            ordered_unit_flow = check_decreasing(df_var_efficiency, column_name, input_1)\n",
    "            globals()[f\"ordered_unit_flow_{column_name}\"] = ordered_unit_flow\n",
    "            \n",
    "        else:\n",
    "            print(f\"WARNING: No variable efficiency defined for {column_name}\")\n",
    "    else:\n",
    "        # If 'mean_efficiency' column is NA, skip\n",
    "        continue"
   ]
  },
  {
   "cell_type": "code",
   "execution_count": 44,
   "id": "6bf17dac-b552-4369-84fc-4417439747a1",
   "metadata": {
    "execution": {
     "iopub.execute_input": "2024-09-12T15:17:48.794087Z",
     "iopub.status.busy": "2024-09-12T15:17:48.794087Z",
     "iopub.status.idle": "2024-09-12T15:17:49.082496Z",
     "shell.execute_reply": "2024-09-12T15:17:49.081324Z"
    },
    "papermill": {
     "duration": 0.32803,
     "end_time": "2024-09-12T15:17:49.084802",
     "exception": false,
     "start_time": "2024-09-12T15:17:48.756772",
     "status": "completed"
    },
    "scrolled": true,
    "tags": []
   },
   "outputs": [
    {
     "data": {
      "image/png": "[encoded data removed]",
      "text/plain": [
       "<Figure size 700x300 with 1 Axes>"
      ]
     },
     "metadata": {},
     "output_type": "display_data"
    }
   ],
   "source": [
    "# Plot the data of the original efficiency curve and the adjusted ones\n",
    "plt.figure(figsize=(7, 3))\n",
    "plt.plot(df_efficiency_electrolyzer_adj['Power [%]'], df_efficiency_electrolyzer_adj['Efficiency [%]'], label='Eff raw', marker='o')\n",
    "plt.plot(df_efficiency_electrolyzer_adj['Power [%]'], df_efficiency_electrolyzer_adj['Efficiency_scaled [%]'], label='Eff scaled', marker='x')\n",
    "plt.plot(df_efficiency_adj['Power [%]'], df_efficiency_adj['eff_adjusted_electrolyzer'], label='Eff adjusted', marker='x', \n",
    "         linestyle='dashed', dashes=(5, 7))\n",
    "\n",
    "plt.xlabel('Power [%]')\n",
    "plt.ylabel('Efficiency [%]')\n",
    "plt.title('Efficiency vs Power')\n",
    "plt.legend()\n",
    "plt.grid(True)\n",
    "plt.show()"
   ]
  },
  {
   "cell_type": "code",
   "execution_count": 45,
   "id": "6107fc7e",
   "metadata": {
    "execution": {
     "iopub.execute_input": "2024-09-12T15:17:49.132923Z",
     "iopub.status.busy": "2024-09-12T15:17:49.132923Z",
     "iopub.status.idle": "2024-09-12T15:17:49.365628Z",
     "shell.execute_reply": "2024-09-12T15:17:49.364033Z"
    },
    "papermill": {
     "duration": 0.255729,
     "end_time": "2024-09-12T15:17:49.368151",
     "exception": false,
     "start_time": "2024-09-12T15:17:49.112422",
     "status": "completed"
    },
    "tags": []
   },
   "outputs": [
    {
     "data": {
      "image/png": "[encoded data removed]",
      "text/plain": [
       "<Figure size 500x400 with 1 Axes>"
      ]
     },
     "metadata": {},
     "output_type": "display_data"
    }
   ],
   "source": [
    "# Plotting the data points and the curve\n",
    "plt.figure(figsize=(5, 4))\n",
    "plt.scatter(df_efficiency_electrolyzer_adj['Power [%]'], df_efficiency_electrolyzer_adj['eff_adjusted_electrolyzer'], color='blue', label='Efficiency Adjusted')\n",
    "plt.plot(x_values_electrolyzer, y_values_electrolyzer, color='red', label='Fitted Efficiency Curve Electrolyzer')\n",
    "\n",
    "# Plotting segment averages\n",
    "for i, (x_start, x_end) in enumerate(segment_x_values_electrolyzer):\n",
    "    plt.plot([x_start, x_end], [segment_averages_electrolyzer[i], segment_averages_electrolyzer[i]], color='green', linestyle='--', linewidth=2)\n",
    "\n",
    "plt.xlabel('x')\n",
    "plt.ylabel('y')\n",
    "plt.title('Curve Fitted to Data Points')\n",
    "plt.legend()\n",
    "plt.grid(True)\n",
    "plt.show()"
   ]
  },
  {
   "cell_type": "markdown",
   "id": "722bb069",
   "metadata": {
    "papermill": {
     "duration": 0.020405,
     "end_time": "2024-09-12T15:17:49.409564",
     "exception": false,
     "start_time": "2024-09-12T15:17:49.389159",
     "status": "completed"
    },
    "tags": []
   },
   "source": [
    "#### Add operating points to user constraint"
   ]
  },
  {
   "cell_type": "code",
   "execution_count": 46,
   "id": "38694351",
   "metadata": {
    "execution": {
     "iopub.execute_input": "2024-09-12T15:17:49.463682Z",
     "iopub.status.busy": "2024-09-12T15:17:49.463682Z",
     "iopub.status.idle": "2024-09-12T15:17:49.488756Z",
     "shell.execute_reply": "2024-09-12T15:17:49.486746Z"
    },
    "papermill": {
     "duration": 0.050453,
     "end_time": "2024-09-12T15:17:49.490792",
     "exception": false,
     "start_time": "2024-09-12T15:17:49.440339",
     "status": "completed"
    },
    "tags": []
   },
   "outputs": [
    {
     "data": {
      "text/html": [
       "<div>\n",
       "<style scoped>\n",
       "    .dataframe tbody tr th:only-of-type {\n",
       "        vertical-align: middle;\n",
       "    }\n",
       "\n",
       "    .dataframe tbody tr th {\n",
       "        vertical-align: top;\n",
       "    }\n",
       "\n",
       "    .dataframe thead th {\n",
       "        text-align: right;\n",
       "    }\n",
       "</style>\n",
       "<table border=\"1\" class=\"dataframe\">\n",
       "  <thead>\n",
       "    <tr style=\"text-align: right;\">\n",
       "      <th></th>\n",
       "      <th>relationship_class_name:</th>\n",
       "      <th>unit__from_node__user_constraint</th>\n",
       "      <th>unit__to_node__user_constraint</th>\n",
       "    </tr>\n",
       "  </thead>\n",
       "  <tbody>\n",
       "    <tr>\n",
       "      <th>0</th>\n",
       "      <td>User_constraint_name</td>\n",
       "      <td>EffCurve_Electrolyzer</td>\n",
       "      <td>EffCurve_Electrolyzer</td>\n",
       "    </tr>\n",
       "    <tr>\n",
       "      <th>1</th>\n",
       "      <td>Object_name</td>\n",
       "      <td>Electrolyzer</td>\n",
       "      <td>Electrolyzer</td>\n",
       "    </tr>\n",
       "    <tr>\n",
       "      <th>2</th>\n",
       "      <td>Node_name</td>\n",
       "      <td>Power_Kasso</td>\n",
       "      <td>Hydrogen_Kasso</td>\n",
       "    </tr>\n",
       "    <tr>\n",
       "      <th>3</th>\n",
       "      <td>Parameter</td>\n",
       "      <td>unit_flow_coefficient</td>\n",
       "      <td>unit_flow_coefficient</td>\n",
       "    </tr>\n",
       "    <tr>\n",
       "      <th>4</th>\n",
       "      <td>0</td>\n",
       "      <td>0.89812</td>\n",
       "      <td>-1.0</td>\n",
       "    </tr>\n",
       "    <tr>\n",
       "      <th>5</th>\n",
       "      <td>1</td>\n",
       "      <td>0.663568</td>\n",
       "      <td>NaN</td>\n",
       "    </tr>\n",
       "  </tbody>\n",
       "</table>\n",
       "</div>"
      ],
      "text/plain": [
       "  relationship_class_name: unit__from_node__user_constraint  \\\n",
       "0     User_constraint_name            EffCurve_Electrolyzer   \n",
       "1              Object_name                     Electrolyzer   \n",
       "2                Node_name                      Power_Kasso   \n",
       "3                Parameter            unit_flow_coefficient   \n",
       "4                        0                          0.89812   \n",
       "5                        1                         0.663568   \n",
       "\n",
       "  unit__to_node__user_constraint  \n",
       "0          EffCurve_Electrolyzer  \n",
       "1                   Electrolyzer  \n",
       "2                 Hydrogen_Kasso  \n",
       "3          unit_flow_coefficient  \n",
       "4                           -1.0  \n",
       "5                            NaN  "
      ]
     },
     "execution_count": 46,
     "metadata": {},
     "output_type": "execute_result"
    }
   ],
   "source": [
    "###Summarize all variable efficiencies\n",
    "#Collect all data frames that start with variable_efficiency\n",
    "dfs = [value for key, value in globals().items() if key.startswith('variable_efficiency') and isinstance(value, pd.DataFrame)]\n",
    "\n",
    "#Choose the first column with the most segments\n",
    "longest_df = max(dfs, key=lambda df: df.shape[0])\n",
    "first_column = longest_df.iloc[:, 0]\n",
    "\n",
    "#Concatenate the remaining columns from all DataFrames, ensuring no duplicate \"first column\"\n",
    "remaining_columns = [df.iloc[:, 1:] for df in dfs]\n",
    "\n",
    "#Concatenate the remaining columns to the longest first column\n",
    "df_variable_efficiency = pd.concat([first_column] + remaining_columns, axis=1)\n",
    "df_variable_efficiency"
   ]
  },
  {
   "cell_type": "code",
   "execution_count": 47,
   "id": "7b94c1a0-c73d-45b6-b048-df9ae8c0261a",
   "metadata": {
    "execution": {
     "iopub.execute_input": "2024-09-12T15:17:49.552290Z",
     "iopub.status.busy": "2024-09-12T15:17:49.550982Z",
     "iopub.status.idle": "2024-09-12T15:17:49.569431Z",
     "shell.execute_reply": "2024-09-12T15:17:49.564345Z"
    },
    "papermill": {
     "duration": 0.064192,
     "end_time": "2024-09-12T15:17:49.577943",
     "exception": false,
     "start_time": "2024-09-12T15:17:49.513751",
     "status": "completed"
    },
    "tags": []
   },
   "outputs": [
    {
     "data": {
      "text/html": [
       "<div>\n",
       "<style scoped>\n",
       "    .dataframe tbody tr th:only-of-type {\n",
       "        vertical-align: middle;\n",
       "    }\n",
       "\n",
       "    .dataframe tbody tr th {\n",
       "        vertical-align: top;\n",
       "    }\n",
       "\n",
       "    .dataframe thead th {\n",
       "        text-align: right;\n",
       "    }\n",
       "</style>\n",
       "<table border=\"1\" class=\"dataframe\">\n",
       "  <thead>\n",
       "    <tr style=\"text-align: right;\">\n",
       "      <th></th>\n",
       "      <th>Entity class names</th>\n",
       "      <th>Entity names</th>\n",
       "    </tr>\n",
       "  </thead>\n",
       "  <tbody>\n",
       "    <tr>\n",
       "      <th>0</th>\n",
       "      <td>user_constraint</td>\n",
       "      <td>EffCurve_Electrolyzer</td>\n",
       "    </tr>\n",
       "  </tbody>\n",
       "</table>\n",
       "</div>"
      ],
      "text/plain": [
       "  Entity class names           Entity names\n",
       "0    user_constraint  EffCurve_Electrolyzer"
      ]
     },
     "execution_count": 47,
     "metadata": {},
     "output_type": "execute_result"
    }
   ],
   "source": [
    "# Relate all user_constraints to entity class name \"user_constraint\" \n",
    "\n",
    "Entity_names_duplicate = df_variable_efficiency.iloc[0,1:]\n",
    "User_constraint_entities = []\n",
    "for name in Entity_names_duplicate:\n",
    "    if name not in User_constraint_entities:\n",
    "        User_constraint_entities.append(name)\n",
    "        \n",
    "\n",
    "User_constraint_column = [\"user_constraint\"]*len(User_constraint_entities)\n",
    "\n",
    "merged_columns = {\"Entity class names\": User_constraint_column, \"Entity names\": User_constraint_entities}\n",
    "df_variable_eff_def= pd.DataFrame(merged_columns)\n",
    "df_variable_eff_def"
   ]
  },
  {
   "cell_type": "code",
   "execution_count": 48,
   "id": "f6fb592c",
   "metadata": {
    "execution": {
     "iopub.execute_input": "2024-09-12T15:17:49.639490Z",
     "iopub.status.busy": "2024-09-12T15:17:49.637984Z",
     "iopub.status.idle": "2024-09-12T15:17:49.660704Z",
     "shell.execute_reply": "2024-09-12T15:17:49.658696Z"
    },
    "papermill": {
     "duration": 0.054783,
     "end_time": "2024-09-12T15:17:49.663760",
     "exception": false,
     "start_time": "2024-09-12T15:17:49.608977",
     "status": "completed"
    },
    "tags": []
   },
   "outputs": [],
   "source": [
    "### Summarize all operating points\n",
    "#Collect all data frames that start with operating_points\n",
    "dfs = [value for key, value in globals().items() if key.startswith('operating_points') and isinstance(value, pd.DataFrame)]\n",
    "\n",
    "#Choose the first column with the most segments\n",
    "longest_df = max(dfs, key=lambda df: df.shape[0])\n",
    "first_column = longest_df.iloc[:, 0]\n",
    "\n",
    "#Concatenate the remaining columns from all DataFrames, ensuring no duplicate \"first column\"\n",
    "remaining_columns = [df.iloc[:, 1:] for df in dfs]\n",
    "\n",
    "#Concatenate the remaining columns to the longest first column\n",
    "df_operating_points = pd.concat([first_column] + remaining_columns, axis=1)"
   ]
  },
  {
   "cell_type": "code",
   "execution_count": 49,
   "id": "899403f8",
   "metadata": {
    "execution": {
     "iopub.execute_input": "2024-09-12T15:17:49.725420Z",
     "iopub.status.busy": "2024-09-12T15:17:49.724911Z",
     "iopub.status.idle": "2024-09-12T15:17:49.737557Z",
     "shell.execute_reply": "2024-09-12T15:17:49.736505Z"
    },
    "papermill": {
     "duration": 0.048374,
     "end_time": "2024-09-12T15:17:49.740065",
     "exception": false,
     "start_time": "2024-09-12T15:17:49.691691",
     "status": "completed"
    },
    "tags": []
   },
   "outputs": [],
   "source": [
    "### Summarize all ordered_unit_flow_op\n",
    "#Collect all data frames that start with ordered_unit_flow_op\n",
    "dfs = [value for key, value in globals().items() if key.startswith('ordered_unit_flow_') and isinstance(value, pd.DataFrame)]\n",
    "\n",
    "#Concatenate the remaining columns to the longest first column\n",
    "df_boolean_relations = pd.concat(dfs, ignore_index=True)"
   ]
  },
  {
   "cell_type": "markdown",
   "id": "85f878c0",
   "metadata": {
    "papermill": {
     "duration": 0.026343,
     "end_time": "2024-09-12T15:17:49.791978",
     "exception": false,
     "start_time": "2024-09-12T15:17:49.765635",
     "status": "completed"
    },
    "tags": []
   },
   "source": [
    "### Environment and Storages"
   ]
  },
  {
   "cell_type": "markdown",
   "id": "99b06362-af38-4e4b-ab1b-fc2f8024bee0",
   "metadata": {
    "papermill": {
     "duration": 0.03798,
     "end_time": "2024-09-12T15:17:49.860552",
     "exception": false,
     "start_time": "2024-09-12T15:17:49.822572",
     "status": "completed"
    },
    "tags": []
   },
   "source": [
    "#### Renewables Availability:"
   ]
  },
  {
   "cell_type": "code",
   "execution_count": 50,
   "id": "eccc1b34-e4e6-4187-8299-e66590b125d1",
   "metadata": {
    "execution": {
     "iopub.execute_input": "2024-09-12T15:17:49.917487Z",
     "iopub.status.busy": "2024-09-12T15:17:49.917487Z",
     "iopub.status.idle": "2024-09-12T15:17:49.955845Z",
     "shell.execute_reply": "2024-09-12T15:17:49.954319Z"
    },
    "papermill": {
     "duration": 0.073421,
     "end_time": "2024-09-12T15:17:49.958824",
     "exception": false,
     "start_time": "2024-09-12T15:17:49.885403",
     "status": "completed"
    },
    "tags": []
   },
   "outputs": [
    {
     "data": {
      "text/html": [
       "<div>\n",
       "<style scoped>\n",
       "    .dataframe tbody tr th:only-of-type {\n",
       "        vertical-align: middle;\n",
       "    }\n",
       "\n",
       "    .dataframe tbody tr th {\n",
       "        vertical-align: top;\n",
       "    }\n",
       "\n",
       "    .dataframe thead th {\n",
       "        text-align: right;\n",
       "    }\n",
       "</style>\n",
       "<table border=\"1\" class=\"dataframe\">\n",
       "  <thead>\n",
       "    <tr style=\"text-align: right;\">\n",
       "      <th></th>\n",
       "      <th>DateTime DK1</th>\n",
       "      <th>Solar_Plant_Kasso</th>\n",
       "    </tr>\n",
       "  </thead>\n",
       "  <tbody>\n",
       "    <tr>\n",
       "      <th>0</th>\n",
       "      <td>None</td>\n",
       "      <td>unit</td>\n",
       "    </tr>\n",
       "    <tr>\n",
       "      <th>1</th>\n",
       "      <td>None</td>\n",
       "      <td>unit_availability_factor</td>\n",
       "    </tr>\n",
       "    <tr>\n",
       "      <th>0</th>\n",
       "      <td>2019-01-01T00:00:00</td>\n",
       "      <td>0.0</td>\n",
       "    </tr>\n",
       "    <tr>\n",
       "      <th>1</th>\n",
       "      <td>2019-01-01T01:00:00</td>\n",
       "      <td>0.0</td>\n",
       "    </tr>\n",
       "    <tr>\n",
       "      <th>2</th>\n",
       "      <td>2019-01-01T02:00:00</td>\n",
       "      <td>0.0</td>\n",
       "    </tr>\n",
       "  </tbody>\n",
       "</table>\n",
       "</div>"
      ],
      "text/plain": [
       "          DateTime DK1         Solar_Plant_Kasso\n",
       "0                 None                      unit\n",
       "1                 None  unit_availability_factor\n",
       "0  2019-01-01T00:00:00                       0.0\n",
       "1  2019-01-01T01:00:00                       0.0\n",
       "2  2019-01-01T02:00:00                       0.0"
      ]
     },
     "execution_count": 50,
     "metadata": {},
     "output_type": "execute_result"
    }
   ],
   "source": [
    "#create table headers and relations\n",
    "column_names_1 = {'DateTime '+area: [None, None],\n",
    "                'Solar_Plant_Kasso': ['unit','unit_availability_factor']}\n",
    "df_blank_table_1 = pd.DataFrame(column_names_1, index=None)\n",
    "\n",
    "#add values\n",
    "df_temp_1 = pd.DataFrame(columns=['DateTime ' + area, 'Solar_Plant_Kasso'])\n",
    "df_temp_1['DateTime '+area] = df_time\n",
    "df_temp_1['Solar_Plant_Kasso'] = df_PV_availabilityfactors_values['unit_availability_factor']\n",
    "\n",
    "#fill NaNs on last day by copying previous day (only for leap years)\n",
    "df_temp_1['Solar_Plant_Kasso_shifted'] = df_temp_1['Solar_Plant_Kasso'].shift(24)\n",
    "df_temp_1['Solar_Plant_Kasso'] = df_temp_1['Solar_Plant_Kasso'].fillna(df_temp_1['Solar_Plant_Kasso_shifted'])\n",
    "df_temp_1 = df_temp_1.drop(columns=['Solar_Plant_Kasso_shifted'])\n",
    "\n",
    "df_table_1 = pd.concat([df_blank_table_1, df_temp_1])\n",
    "\n",
    "#show table head for control\n",
    "df_table_1.head()"
   ]
  },
  {
   "cell_type": "markdown",
   "id": "46e74f16-846f-4ba0-b9c6-869e32be6676",
   "metadata": {
    "papermill": {
     "duration": 0.027611,
     "end_time": "2024-09-12T15:17:50.011534",
     "exception": false,
     "start_time": "2024-09-12T15:17:49.983923",
     "status": "completed"
    },
    "tags": []
   },
   "source": [
    "#### Energy prices:"
   ]
  },
  {
   "cell_type": "code",
   "execution_count": 51,
   "id": "4679f8e3-8ce3-4f00-b57e-e3f1427db970",
   "metadata": {
    "execution": {
     "iopub.execute_input": "2024-09-12T15:17:50.076543Z",
     "iopub.status.busy": "2024-09-12T15:17:50.076543Z",
     "iopub.status.idle": "2024-09-12T15:17:50.094329Z",
     "shell.execute_reply": "2024-09-12T15:17:50.093132Z"
    },
    "papermill": {
     "duration": 0.063412,
     "end_time": "2024-09-12T15:17:50.099540",
     "exception": false,
     "start_time": "2024-09-12T15:17:50.036128",
     "status": "completed"
    },
    "tags": []
   },
   "outputs": [],
   "source": [
    "#adjustemnts of power price variance\n",
    "#df_powerprices_values['SpotPriceEUR']\n",
    "\n",
    "# Calculate the current mean and variance\n",
    "mean = df_powerprices_values['SpotPriceEUR'].mean()\n",
    "current_variance = df_powerprices_values['SpotPriceEUR'].var()\n",
    "\n",
    "# Define the new desired variance \n",
    "desired_variance = current_variance * power_price_variance\n",
    "\n",
    "# Calculate the scaling factor\n",
    "scaling_factor = np.sqrt(desired_variance / current_variance)\n",
    "\n",
    "# Adjust the time series to achieve the new variance\n",
    "df_powerprices_values['SpotPriceEUR'] = mean + (df_powerprices_values['SpotPriceEUR'] - mean) * scaling_factor"
   ]
  },
  {
   "cell_type": "code",
   "execution_count": 52,
   "id": "a785d20b-2cbe-4f0b-8842-2878a3335580",
   "metadata": {
    "execution": {
     "iopub.execute_input": "2024-09-12T15:17:50.151330Z",
     "iopub.status.busy": "2024-09-12T15:17:50.151330Z",
     "iopub.status.idle": "2024-09-12T15:17:50.171658Z",
     "shell.execute_reply": "2024-09-12T15:17:50.170808Z"
    },
    "papermill": {
     "duration": 0.049431,
     "end_time": "2024-09-12T15:17:50.173979",
     "exception": false,
     "start_time": "2024-09-12T15:17:50.124548",
     "status": "completed"
    },
    "scrolled": true,
    "tags": []
   },
   "outputs": [
    {
     "data": {
      "text/html": [
       "<div>\n",
       "<style scoped>\n",
       "    .dataframe tbody tr th:only-of-type {\n",
       "        vertical-align: middle;\n",
       "    }\n",
       "\n",
       "    .dataframe tbody tr th {\n",
       "        vertical-align: top;\n",
       "    }\n",
       "\n",
       "    .dataframe thead th {\n",
       "        text-align: right;\n",
       "    }\n",
       "</style>\n",
       "<table border=\"1\" class=\"dataframe\">\n",
       "  <thead>\n",
       "    <tr style=\"text-align: right;\">\n",
       "      <th></th>\n",
       "      <th>DateTime DK1</th>\n",
       "      <th>Power_Wholesale_In</th>\n",
       "      <th>Power_Wholesale_Out</th>\n",
       "      <th>District_Heating</th>\n",
       "    </tr>\n",
       "  </thead>\n",
       "  <tbody>\n",
       "    <tr>\n",
       "      <th>0</th>\n",
       "      <td>relationship class</td>\n",
       "      <td>connection__from_node</td>\n",
       "      <td>connection__to_node</td>\n",
       "      <td>connection__to_node</td>\n",
       "    </tr>\n",
       "    <tr>\n",
       "      <th>1</th>\n",
       "      <td>connection</td>\n",
       "      <td>power_line_Wholesale_Kasso</td>\n",
       "      <td>power_line_Wholesale_Kasso</td>\n",
       "      <td>pipeline_District_Heating</td>\n",
       "    </tr>\n",
       "    <tr>\n",
       "      <th>2</th>\n",
       "      <td>node</td>\n",
       "      <td>Power_Wholesale</td>\n",
       "      <td>Power_Wholesale</td>\n",
       "      <td>District_Heating</td>\n",
       "    </tr>\n",
       "    <tr>\n",
       "      <th>3</th>\n",
       "      <td>parameter name</td>\n",
       "      <td>connection_flow_cost</td>\n",
       "      <td>connection_flow_cost</td>\n",
       "      <td>connection_flow_cost</td>\n",
       "    </tr>\n",
       "    <tr>\n",
       "      <th>4</th>\n",
       "      <td>2019-01-01T00:00:00</td>\n",
       "      <td>28.32</td>\n",
       "      <td>-28.32</td>\n",
       "      <td>-18.579088</td>\n",
       "    </tr>\n",
       "  </tbody>\n",
       "</table>\n",
       "</div>"
      ],
      "text/plain": [
       "          DateTime DK1          Power_Wholesale_In  \\\n",
       "0   relationship class       connection__from_node   \n",
       "1           connection  power_line_Wholesale_Kasso   \n",
       "2                 node             Power_Wholesale   \n",
       "3       parameter name        connection_flow_cost   \n",
       "4  2019-01-01T00:00:00                       28.32   \n",
       "\n",
       "          Power_Wholesale_Out           District_Heating  \n",
       "0         connection__to_node        connection__to_node  \n",
       "1  power_line_Wholesale_Kasso  pipeline_District_Heating  \n",
       "2             Power_Wholesale           District_Heating  \n",
       "3        connection_flow_cost       connection_flow_cost  \n",
       "4                      -28.32                 -18.579088  "
      ]
     },
     "execution_count": 52,
     "metadata": {},
     "output_type": "execute_result"
    }
   ],
   "source": [
    "column_names_2 = {'DateTime ' + area: ['relationship class','connection','node','parameter name'],\n",
    "                'Power_Wholesale_In': ['connection__from_node','power_line_Wholesale_Kasso','Power_Wholesale','connection_flow_cost'], \n",
    "                'Power_Wholesale_Out': ['connection__to_node','power_line_Wholesale_Kasso','Power_Wholesale','connection_flow_cost'], \n",
    "                'District_Heating': ['connection__to_node','pipeline_District_Heating','District_Heating','connection_flow_cost']}\n",
    "df_blank_table_2 = pd.DataFrame(column_names_2, index=None)\n",
    "df_temp_2 = pd.DataFrame(columns=['DateTime ' + area, 'Power_Wholesale_In', 'Power_Wholesale_Out', 'District_Heating'])\n",
    "\n",
    "df_temp_2['DateTime ' + area] = df_time\n",
    "df_temp_2['Power_Wholesale_In'] = price_level_power * df_powerprices_values['SpotPriceEUR']\n",
    "df_temp_2['Power_Wholesale_Out'] = -1 * price_level_power * df_powerprices_values['SpotPriceEUR']\n",
    "df_temp_2['District_Heating'] = -1 * df_district_heating_price[str(year)].loc[2] * share_of_dh_price_cap\n",
    "\n",
    "df_table_2 = pd.concat([df_blank_table_2, df_temp_2], ignore_index=True)\n",
    "\n",
    "#show table head for control\n",
    "df_table_2.head()"
   ]
  },
  {
   "cell_type": "markdown",
   "id": "df00bdab-f254-437f-b78d-d32b19e2f9db",
   "metadata": {
    "papermill": {
     "duration": 0.03764,
     "end_time": "2024-09-12T15:17:50.242265",
     "exception": false,
     "start_time": "2024-09-12T15:17:50.204625",
     "status": "completed"
    },
    "tags": []
   },
   "source": [
    "#### Time Series Storage:"
   ]
  },
  {
   "cell_type": "code",
   "execution_count": 53,
   "id": "d5e2a8a3",
   "metadata": {
    "execution": {
     "iopub.execute_input": "2024-09-12T15:17:50.314618Z",
     "iopub.status.busy": "2024-09-12T15:17:50.313360Z",
     "iopub.status.idle": "2024-09-12T15:17:50.358952Z",
     "shell.execute_reply": "2024-09-12T15:17:50.356499Z"
    },
    "papermill": {
     "duration": 0.084194,
     "end_time": "2024-09-12T15:17:50.364992",
     "exception": false,
     "start_time": "2024-09-12T15:17:50.280798",
     "status": "completed"
    },
    "tags": []
   },
   "outputs": [
    {
     "name": "stderr",
     "output_type": "stream",
     "text": [
      "C:\\Users\\jfg.eco\\AppData\\Local\\Temp\\ipykernel_8220\\614555935.py:4: FutureWarning: 'H' is deprecated and will be removed in a future version, please use 'h' instead.\n",
      "  date_index_beginning = pd.date_range(start=before, end=start_date, freq='H')\n"
     ]
    },
    {
     "data": {
      "text/html": [
       "<div>\n",
       "<style scoped>\n",
       "    .dataframe tbody tr th:only-of-type {\n",
       "        vertical-align: middle;\n",
       "    }\n",
       "\n",
       "    .dataframe tbody tr th {\n",
       "        vertical-align: top;\n",
       "    }\n",
       "\n",
       "    .dataframe thead th {\n",
       "        text-align: right;\n",
       "    }\n",
       "</style>\n",
       "<table border=\"1\" class=\"dataframe\">\n",
       "  <thead>\n",
       "    <tr style=\"text-align: right;\">\n",
       "      <th></th>\n",
       "      <th>DateTime</th>\n",
       "      <th>Hydrogen_storage_Kasso</th>\n",
       "      <th>E-Methanol_storage_Kasso</th>\n",
       "    </tr>\n",
       "  </thead>\n",
       "  <tbody>\n",
       "    <tr>\n",
       "      <th>0</th>\n",
       "      <td>NaN</td>\n",
       "      <td>fix_node_state</td>\n",
       "      <td>fix_node_state</td>\n",
       "    </tr>\n",
       "    <tr>\n",
       "      <th>1</th>\n",
       "      <td>2018-12-31T23:00:00</td>\n",
       "      <td>0</td>\n",
       "      <td>0</td>\n",
       "    </tr>\n",
       "    <tr>\n",
       "      <th>2</th>\n",
       "      <td>2019-01-01T00:00:00</td>\n",
       "      <td>NaN</td>\n",
       "      <td>NaN</td>\n",
       "    </tr>\n",
       "  </tbody>\n",
       "</table>\n",
       "</div>"
      ],
      "text/plain": [
       "              DateTime Hydrogen_storage_Kasso E-Methanol_storage_Kasso\n",
       "0                  NaN         fix_node_state           fix_node_state\n",
       "1  2018-12-31T23:00:00                      0                        0\n",
       "2  2019-01-01T00:00:00                    NaN                      NaN"
      ]
     },
     "execution_count": 53,
     "metadata": {},
     "output_type": "execute_result"
    }
   ],
   "source": [
    "#Date index\n",
    "start_date = pd.to_datetime(start_date)\n",
    "before = start_date-timedelta(hours=1)\n",
    "date_index_beginning = pd.date_range(start=before, end=start_date, freq='H')\n",
    "formatted_beginning = date_index_beginning.strftime('%Y-%m-%dT%H:%M:%S')\n",
    "df_formatted_beginning = pd.DataFrame(formatted_beginning, columns=['DateTime'])\n",
    "df_time_beginning = pd.DataFrame(df_formatted_beginning)\n",
    "#Add one blank row\n",
    "new_row = pd.Series([])\n",
    "df_time_beginning = pd.concat([pd.DataFrame([new_row]), df_time_beginning]).reset_index(drop=True)\n",
    "\n",
    "#Concat raw data with time index\n",
    "storage_values = df_model_storages.iloc[:,[0, 1, 2, 6]]\n",
    "storage_values = storage_values.iloc[:, [0, 3, 1, 2]]\n",
    "storage_values_transposed = storage_values.T\n",
    "storage_values_transposed.columns = storage_values_transposed.iloc[0]\n",
    "storage_values_transposed = storage_values_transposed[1:]\n",
    "storage_values_transposed.reset_index(drop=True, inplace=True)\n",
    "\n",
    "df_storage = pd.concat([df_time_beginning, storage_values_transposed], axis=1)\n",
    "\n",
    "#Show table head for control\n",
    "df_storage.head()"
   ]
  },
  {
   "cell_type": "markdown",
   "id": "18dfbf3e-1928-4547-8b3a-dac782ca46a3",
   "metadata": {
    "papermill": {
     "duration": 0.044278,
     "end_time": "2024-09-12T15:17:50.455106",
     "exception": false,
     "start_time": "2024-09-12T15:17:50.410828",
     "status": "completed"
    },
    "tags": []
   },
   "source": [
    "## Creating one combined excel and export"
   ]
  },
  {
   "cell_type": "code",
   "execution_count": 54,
   "id": "5523a4cd-ad6f-44d6-993d-3ebaf00680c2",
   "metadata": {
    "execution": {
     "iopub.execute_input": "2024-09-12T15:17:50.551194Z",
     "iopub.status.busy": "2024-09-12T15:17:50.550176Z",
     "iopub.status.idle": "2024-09-12T15:17:53.722223Z",
     "shell.execute_reply": "2024-09-12T15:17:53.720592Z"
    },
    "papermill": {
     "duration": 3.216417,
     "end_time": "2024-09-12T15:17:53.724856",
     "exception": false,
     "start_time": "2024-09-12T15:17:50.508439",
     "status": "completed"
    },
    "tags": []
   },
   "outputs": [],
   "source": [
    "#create the prepared input excel for the use in SpineToolbox\n",
    "with pd.ExcelWriter(output_file_path + output_file_name) as writer:\n",
    "    df_definition.to_excel(writer, sheet_name='Definition', index=False)\n",
    "    unit_parameters_rest_df.to_excel(writer, sheet_name='Definition_parameters', index=False)\n",
    "    unit_parameters_duration_df.to_excel(writer, sheet_name='Definition_parameters_duration', index=False)\n",
    "    df_units_inv_parameters.to_excel(writer, sheet_name='Unit_Inv_Parameters', index=False)\n",
    "    df_nodes.to_excel(writer, sheet_name='Nodes', index=False)\n",
    "    df_connections_inv_parameters.to_excel(writer, sheet_name='Connection_Inv_Parameters', index=False)\n",
    "    df_object__node_definitions.to_excel(writer, sheet_name='Object__to_from_node_definition', index=False)\n",
    "    df_object__node_values.to_excel(writer, sheet_name='Object__to_from_node', index=False)\n",
    "    df_boolean_relations.to_excel(writer, sheet_name='Boolean_relations', index=False)\n",
    "    df_object_node_node.to_excel(writer, sheet_name='Object__node_node', index=False)\n",
    "    df_variable_eff_def.to_excel(writer, sheet_name='Variable_Eff_Definition', index=False)\n",
    "    df_variable_efficiency.to_excel(writer, sheet_name='Variable_Eff', index=False)\n",
    "    df_operating_points.to_excel(writer, sheet_name='Operating_points', index=False)\n",
    "    df_storage.to_excel(writer, sheet_name='Time_series_storage', index=False)\n",
    "    df_table_1.to_excel(writer, sheet_name='Time_series', index=False)\n",
    "    df_table_2.to_excel(writer, sheet_name='Energy_prices', index=False)\n",
    "    df_model_components.to_excel(writer, sheet_name='Model_components', index=False)\n",
    "    df_model_relations.to_excel(writer, sheet_name='Model_relations', index=False)\n",
    "    df_model.to_excel(writer, sheet_name='Model', index=False)\n",
    "    df_temporal_relations.to_excel(writer, sheet_name='Temporal_relations', index=False)"
   ]
  },
  {
   "cell_type": "code",
   "execution_count": 55,
   "id": "7ecfd010-a65f-4cfc-8ec2-a7d3bbded502",
   "metadata": {
    "execution": {
     "iopub.execute_input": "2024-09-12T15:17:53.788102Z",
     "iopub.status.busy": "2024-09-12T15:17:53.787105Z",
     "iopub.status.idle": "2024-09-12T15:17:53.831028Z",
     "shell.execute_reply": "2024-09-12T15:17:53.829063Z"
    },
    "papermill": {
     "duration": 0.087723,
     "end_time": "2024-09-12T15:17:53.833063",
     "exception": false,
     "start_time": "2024-09-12T15:17:53.745340",
     "status": "completed"
    },
    "tags": []
   },
   "outputs": [],
   "source": [
    "#create output of the mapping excel\n",
    "with pd.ExcelWriter(output_file_path + output_mapping_file_name) as writer:\n",
    "    df_model_object_mapping.to_excel(writer, sheet_name='Object_Mapping', index=False)"
   ]
  },
  {
   "cell_type": "code",
   "execution_count": 56,
   "id": "6fd66540-33e4-4200-8c13-6ee0ed292334",
   "metadata": {
    "execution": {
     "iopub.execute_input": "2024-09-12T15:17:53.883137Z",
     "iopub.status.busy": "2024-09-12T15:17:53.882080Z",
     "iopub.status.idle": "2024-09-12T15:17:53.952753Z",
     "shell.execute_reply": "2024-09-12T15:17:53.951702Z"
    },
    "papermill": {
     "duration": 0.096066,
     "end_time": "2024-09-12T15:17:53.954464",
     "exception": false,
     "start_time": "2024-09-12T15:17:53.858398",
     "status": "completed"
    },
    "tags": []
   },
   "outputs": [],
   "source": [
    "#copy efficiency\n",
    "other_name = \"other.xlsx\"\n",
    "with pd.ExcelWriter(output_file_path + other_name) as writer:\n",
    "    df_efficiency_electrolyzer_adj.to_excel(writer, sheet_name='efficiency', index=False)"
   ]
  }
 ],
 "metadata": {
  "kernelspec": {
   "display_name": "Python 3 (ipykernel)",
   "language": "python",
   "name": "python3"
  },
  "language_info": {
   "codemirror_mode": {
    "name": "ipython",
    "version": 3
   },
   "file_extension": ".py",
   "mimetype": "text/x-python",
   "name": "python",
   "nbconvert_exporter": "python",
   "pygments_lexer": "ipython3",
   "version": "3.9.18"
  },
  "papermill": {
   "default_parameters": {},
   "duration": 23.777116,
   "end_time": "2024-09-12T15:17:54.421410",
   "environment_variables": {},
   "exception": null,
   "input_path": "00_functions\\data_preparation_nord_h2ub_spine.ipynb",
   "output_path": "00_functions\\please_ignore.ipynb",
   "parameters": {},
   "start_time": "2024-09-12T15:17:30.644294",
   "version": "2.6.0"
  }
 },
 "nbformat": 4,
 "nbformat_minor": 5
}