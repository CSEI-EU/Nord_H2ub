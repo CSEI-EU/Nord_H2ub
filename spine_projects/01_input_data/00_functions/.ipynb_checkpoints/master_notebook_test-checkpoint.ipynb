{
 "cells": [
  {
   "cell_type": "markdown",
   "id": "43ea4b8f-0ba4-4513-8872-53f4a538a0d3",
   "metadata": {},
   "source": [
    "# Data Preparation for the Nord_H2ub Spine Model"
   ]
  },
  {
   "cell_type": "markdown",
   "id": "1aa86773-4431-4a2f-9490-4b3cf0aa8d70",
   "metadata": {},
   "source": [
    "This jupyter notebook contains all routines for the preparation of the input data sources into a input data file for the model in Spine. \n",
    "\n",
    "**Authors:** Johannes Giehl (jfg.eco@cbs.dk), Dana J. Hentschel (djh.eco@cbs.dk)"
   ]
  },
  {
   "cell_type": "markdown",
   "id": "eb8175ae-f246-4788-a309-c1a4890992f2",
   "metadata": {},
   "source": [
    "## General settings"
   ]
  },
  {
   "cell_type": "markdown",
   "id": "af14f70f",
   "metadata": {},
   "source": [
    "### Packages:"
   ]
  },
  {
   "cell_type": "code",
   "execution_count": 1,
   "id": "f778ef73",
   "metadata": {},
   "outputs": [],
   "source": [
    "import papermill as pm\n",
    "\n",
    "from nord_h2ub_dropdown_functions import *"
   ]
  },
  {
   "cell_type": "code",
   "execution_count": 3,
   "id": "506dd6f1-be3b-49ca-b609-6532214b57e5",
   "metadata": {},
   "outputs": [],
   "source": [
    "import os"
   ]
  },
  {
   "cell_type": "code",
   "execution_count": 11,
   "id": "20011a17-5b55-4e56-9015-52182c6401cc",
   "metadata": {},
   "outputs": [],
   "source": [
    "def get_script_path():\n",
    "    \"\"\"Returns the absolute path of the current script.\"\"\"\n",
    "    return os.path.abspath(os.path.dirname)\n",
    "\n",
    "file_path = '\\\\Documents\\\\GitHub\\\\Nord_H2ub\\\\spine_projects\\\\01_input_data\\\\00_functions\\\\'"
   ]
  },
  {
   "cell_type": "code",
   "execution_count": 10,
   "id": "adf6beb7-5575-43da-a028-e09652274c7b",
   "metadata": {},
   "outputs": [
    {
     "data": {
      "text/plain": [
       "'C:\\\\Users\\\\jfg.eco\\\\Documents\\\\GitHub\\\\Nord_H2ub\\\\spine_projects\\\\01_input_data'"
      ]
     },
     "execution_count": 10,
     "metadata": {},
     "output_type": "execute_result"
    }
   ],
   "source": [
    "current_path = os.getcwd()\n",
    "current_path"
   ]
  },
  {
   "cell_type": "code",
   "execution_count": 14,
   "id": "e2f96caa-d63b-4c96-879f-8ad0018870b7",
   "metadata": {},
   "outputs": [
    {
     "data": {
      "text/plain": [
       "'C:\\\\Users\\\\jfg.eco\\\\Documents\\\\GitHub\\\\Nord_H2ub\\\\spine_projects\\\\01_input_data'"
      ]
     },
     "execution_count": 14,
     "metadata": {},
     "output_type": "execute_result"
    }
   ],
   "source": [
    "# Normalize the paths\n",
    "norm_path1 = os.path.normpath(current_path)\n",
    "norm_path2 = os.path.normpath(file_path)\n",
    "\n",
    "# Split the paths into parts\n",
    "parts_path1 = norm_path1.split(os.sep)\n",
    "parts_path2 = norm_path2.split(os.sep)\n",
    "\n",
    "# Find the start index where the parts match\n",
    "start_index = None\n",
    "for i in range(len(parts_path1)):\n",
    "    if parts_path1[i:] == parts_path2[:len(parts_path1) - i]:\n",
    "        start_index = i\n",
    "        break\n",
    "\n",
    "# Create the new path\n",
    "if start_index is not None:\n",
    "    new_parts = parts_path1[:start_index] + parts_path2\n",
    "    new_path = os.sep.join(new_parts)\n",
    "else:\n",
    "    new_path = norm_path1  # If no match found, return the original path\n",
    "\n",
    "# Print the new path\n",
    "new_path"
   ]
  },
  {
   "cell_type": "code",
   "execution_count": 2,
   "id": "b79f5088-e503-4d0b-8b58-34895ea97de5",
   "metadata": {},
   "outputs": [
    {
     "data": {
      "text/html": [
       "\n",
       "    <style>\n",
       "        .jp-TabBar-tab {\n",
       "            min-width: 200px !important; \n",
       "            max-width: 300px !important;\n",
       "            white-space: nowrap !important;\n",
       "            overflow: hidden !important;\n",
       "            text-overflow: ellipsis !important;\n",
       "        }\n",
       "    </style>\n",
       "    "
      ],
      "text/plain": [
       "<IPython.core.display.HTML object>"
      ]
     },
     "metadata": {},
     "output_type": "display_data"
    },
    {
     "data": {
      "application/vnd.jupyter.widget-view+json": {
       "model_id": "6e39543c80ae47d4b0d7da9db09642f7",
       "version_major": 2,
       "version_minor": 0
      },
      "text/plain": [
       "Tab(children=(VBox(children=(HTML(value='<b>Section 1: Please define the parameters of the general model</b>')…"
      ]
     },
     "metadata": {},
     "output_type": "display_data"
    },
    {
     "data": {
      "text/plain": [
       "(Tab(children=(VBox(children=(HTML(value='<b>Section 1: Please define the parameters of the general model</b>'), VBox(children=(Label(value='Please type the name of the model if other than Model:'), Text(value='Model'))), VBox(children=(Label(value='Please select the frequency:'), Dropdown(options=('1h', '1D', '1W', '1M', '1Q', '1Y'), value=None))))), VBox(children=(HTML(value='<b>Section 2: Please define the base parameters</b>'), VBox(children=(Label(value='Please select the base year:'), Dropdown(options=(2018, 2019, 2020, 2021, 2022), value=None))), VBox(children=(Label(value='Please select the power price zone where the plant is located:'), Dropdown(options=('DE', 'DK1', 'DK2', 'NO2', 'SE3', 'SE4', 'SYSTEM'), value=None))), VBox(children=(Label(value='Please set the product of the plant:'), Dropdown(options=('ammonia', 'methanol', 'jet_fuel'), value=None))))), VBox(children=(HTML(value='<b>Section 3: Please define the parameters of electrolysis</b>'), VBox(children=(Label(value='Please select the type of electrolysis:'), Dropdown(options=('PEM', 'Alkaline', 'SOEC'), value=None))))), VBox(children=(HTML(value='<b>Section 4: Please define the economic parameters of the general model</b>'), VBox(children=(Label(value='Set the assumed value for revenues from district heating as share of a max price (%):'), BoundedFloatText(value=50.0, max=200.0, step=0.1))))), VBox(children=(HTML(value='<b>Section 5: Please choose the output variables for the report</b>'), VBox(children=(Label(value='Please select the outputs for the report:'), HBox(children=(VBox(children=(Checkbox(value=False, description='binary_gas_connection_flow'), Checkbox(value=False, description='connection_avg_throughflow'), Checkbox(value=False, description='connection_flow_costs'), Checkbox(value=False, description='connection_investment_costs'), Checkbox(value=False, description='connections_invested'), Checkbox(value=False, description='contingency_is_binding'), Checkbox(value=False, description='fuel_costs'), Checkbox(value=False, description='mp_objective_lowerbound'), Checkbox(value=False, description='node_pressure'), Checkbox(value=False, description='node_slack_pos'), Checkbox(value=False, description='node_voltage_angle'), Checkbox(value=False, description='nonspin_units_started_up'), Checkbox(value=False, description='relative_optimality_gap'), Checkbox(value=False, description='res_proc_costs'), Checkbox(value=False, description='start_up_costs'), Checkbox(value=False, description='storages_decommissioned'), Checkbox(value=False, description='storages_invested_available'), Checkbox(value=False, description='total_costs'), Checkbox(value=False, description='unit_flow_op'), Checkbox(value=False, description='unit_investment_costs'), Checkbox(value=False, description='units_invested_available'), Checkbox(value=False, description='units_on'), Checkbox(value=False, description='units_shut_down'), Checkbox(value=False, description='variable_om_costs'))), VBox(children=(Checkbox(value=False, description='connection_avg_intact_throughflow'), Checkbox(value=False, description='connection_flow'), Checkbox(value=False, description='connection_intact_flow'), Checkbox(value=False, description='connections_decommissioned'), Checkbox(value=False, description='connections_invested_available'), Checkbox(value=False, description='fixed_om_costs'), Checkbox(value=False, description='mga_objective'), Checkbox(value=False, description='node_injection'), Checkbox(value=False, description='node_slack_neg'), Checkbox(value=False, description='node_state'), Checkbox(value=False, description='nonspin_units_shut_down'), Checkbox(value=False, description='objective_penalties'), Checkbox(value=False, description='renewable_curtailment_costs'), Checkbox(value=False, description='shut_down_costs'), Checkbox(value=False, description='storage_investment_costs'), Checkbox(value=False, description='storages_invested'), Checkbox(value=False, description='taxes'), Checkbox(value=False, description='unit_flow'), Checkbox(value=False, description='unit_flow_op_active'), Checkbox(value=False, description='units_invested'), Checkbox(value=False, description='units_mothballed'), Checkbox(value=False, description='units_on_costs'), Checkbox(value=False, description='units_started_up')))))))))), selected_index=0, titles=('General Model Parameters', 'Base Parameters', 'Electrolysis Parameters', 'Economic Parameters', 'Report')),\n",
       " {'name': Text(value='Model'),\n",
       "  'year': Dropdown(options=(2018, 2019, 2020, 2021, 2022), value=None),\n",
       "  'price_zone': Dropdown(options=('DE', 'DK1', 'DK2', 'NO2', 'SE3', 'SE4', 'SYSTEM'), value=None),\n",
       "  'product': Dropdown(options=('ammonia', 'methanol', 'jet_fuel'), value=None),\n",
       "  'electrolysis': Dropdown(options=('PEM', 'Alkaline', 'SOEC'), value=None),\n",
       "  'frequency': Dropdown(options=('1h', '1D', '1W', '1M', '1Q', '1Y'), value=None),\n",
       "  'number_dh_price_share': BoundedFloatText(value=50.0, max=200.0, step=0.1),\n",
       "  'reports': set()})"
      ]
     },
     "metadata": {},
     "output_type": "display_data"
    }
   ],
   "source": [
    "# Create the combined dropdown menus and display them\n",
    "combined_dropdowns = create_combined_dropdowns_tabs()\n",
    "display(combined_dropdowns)"
   ]
  },
  {
   "cell_type": "code",
   "execution_count": null,
   "id": "86e6ffb6-a79a-463d-9c77-d2d7e6f8208e",
   "metadata": {},
   "outputs": [],
   "source": [
    "# Create the dropdown menu and display it\n",
    "dropdown = create_dropdown()\n",
    "display(dropdown)\n",
    "display(dropdown)"
   ]
  },
  {
   "cell_type": "code",
   "execution_count": null,
   "id": "414fa19d-62ea-40c0-869c-ff44a733e4f9",
   "metadata": {},
   "outputs": [],
   "source": [
    "result = 10 * dropdown.value\n",
    "print(result)"
   ]
  },
  {
   "cell_type": "markdown",
   "id": "0e5bdb21",
   "metadata": {},
   "source": [
    "### Base Parameters:"
   ]
  },
  {
   "cell_type": "code",
   "execution_count": null,
   "id": "07acc586",
   "metadata": {},
   "outputs": [],
   "source": [
    "#define year and create time stamp\n",
    "year = 2019   #change to desired year\n",
    "start_date = pd.Timestamp(str(year) + '-01-01 00:00:00')\n",
    "end_date = pd.Timestamp(str(year) + '-12-31 23:00:00')\n",
    "#set area\n",
    "area = 'DK1'   #change to desired area\n",
    "#set product\n",
    "product = 'methanol'   #change to desired product\n",
    "#scenario\n",
    "scenario = 'Base'\n",
    "#frequency model\n",
    "frequency = '1h'\n",
    "#model name\n",
    "model_name = 'toy'\n",
    "#temporal block\n",
    "temporal_block = 'hourly'\n",
    "#stochastics\n",
    "stochastic_scenario = \"realisation\"\n",
    "stochastic_structure = \"deterministic\"\n",
    "#required reports\n",
    "report_name = 'Report'\n",
    "reports = ['unit_flow', 'connection_flow', 'node_state', 'total_costs', 'unit_flow_op', 'node_slack_neg', 'node_slack_pos']\n",
    "\n",
    "#variable efficiency electrolyzer\n",
    "electrolyzer_type = \"Alkaline\"   #change to desired type (PEM, Alkaline, SOEC)\n",
    "des_segments_electrolyzer = 3  #operating points for piecewise linear function, set by user \n",
    "\n",
    "#financial parameters for the calculations\n",
    "#when using the district heating as a revenue stream, the price cap is the upper limit in Denmark\n",
    "#by using this parameter this can be adjusted to start with other than the max value\n",
    "share_of_dh_price_cap = 0.5\n",
    "price_level_power = 1\n",
    "power_price_variance = 1\n",
    "\n",
    "#define parameters for the use of the roll forward (rolling horizon) approach\n",
    "#set the number of slices within the modelling horizon\n",
    "roll_forward_use = True\n",
    "num_slices = 12\n",
    "# Create DatetimeIndex for the range of dates\n",
    "datetime_index = pd.date_range(start=start_date, end=end_date, freq=frequency)\n",
    "# Calculate the number of steps within the horizon\n",
    "num_steps = len(datetime_index)\n",
    "# Check if the number of slices can be used\n",
    "# Find the largest integer divisor that fulfils the condition\n",
    "for i in range(num_slices, 0, -1):\n",
    "    if num_steps % i == 0:\n",
    "        roll_forward_size = num_steps // i\n",
    "        used_slices = i\n",
    "        break\n",
    "else:\n",
    "    print(\"Cannot divide the number of steps into any integer slices. Please choose a different number of slices.\")\n",
    "    exit()\n",
    "# Check if num_slices matches the used_slices\n",
    "if num_slices != used_slices:\n",
    "    print(\"\\033[91mWARNING:\\033[0m The specified number of slices (\", num_slices, \")\",\n",
    "          \"does not match the final division factor (\", used_slices, \").\",\n",
    "         \"\\n The calculation uses the factor: \",used_slices, \".\")\n",
    "\n",
    "\n",
    "# Print warning message in red\n",
    "print(\"\\033[91mWARNING:\\033[0m Please control if all the parameters are set correctly\")"
   ]
  },
  {
   "cell_type": "markdown",
   "id": "ad677838",
   "metadata": {},
   "source": [
    "### Dictionary:"
   ]
  },
  {
   "cell_type": "code",
   "execution_count": null,
   "id": "9338bd4e",
   "metadata": {},
   "outputs": [],
   "source": [
    "base_parameters = {\n",
    "    'year': year,\n",
    "    'start_date': start_date.strftime('%Y-%m-%d %H:%M:%S'),\n",
    "    'end_date': end_date.strftime('%Y-%m-%d %H:%M:%S'),\n",
    "    'area': area,\n",
    "    'product': product,\n",
    "    'scenario': scenario,\n",
    "    'frequency': frequency,\n",
    "    'model_name': model_name,\n",
    "    'temporal_block': temporal_block,\n",
    "    'stochastic_scenario': stochastic_scenario,\n",
    "    'stochastic_structure': stochastic_structure,\n",
    "    'report_name': report_name,\n",
    "    'reports': reports,\n",
    "    'electrolyzer_type': electrolyzer_type,\n",
    "    'des_segments_electrolyzer': des_segments_electrolyzer,\n",
    "    'share_of_dh_price_cap': share_of_dh_price_cap,\n",
    "    'price_level_power': price_level_power,\n",
    "    'power_price_variance': power_price_variance,\n",
    "    'roll_forward_use': roll_forward_use,\n",
    "    'num_slices': num_slices,\n",
    "    'num_steps': num_steps\n",
    "}"
   ]
  },
  {
   "cell_type": "markdown",
   "id": "7c33f6fe",
   "metadata": {},
   "source": [
    "### Execute standard routine:"
   ]
  },
  {
   "cell_type": "code",
   "execution_count": null,
   "id": "62479679",
   "metadata": {},
   "outputs": [],
   "source": [
    "pm.execute_notebook(\n",
    "    'data_preparation_nord_h2ub_spine.ipynb',\n",
    "    'please_ignore.ipynb',  # This will be the output notebook with results\n",
    "    parameters=base_parameters\n",
    ")"
   ]
  },
  {
   "cell_type": "code",
   "execution_count": null,
   "id": "17c07566",
   "metadata": {},
   "outputs": [],
   "source": []
  },
  {
   "cell_type": "code",
   "execution_count": null,
   "id": "cfdddfbc",
   "metadata": {},
   "outputs": [],
   "source": []
  },
  {
   "cell_type": "code",
   "execution_count": null,
   "id": "69b1b9c3",
   "metadata": {},
   "outputs": [],
   "source": []
  }
 ],
 "metadata": {
  "kernelspec": {
   "display_name": "python39_spinetoolbox",
   "language": "python",
   "name": "python39"
  },
  "language_info": {
   "codemirror_mode": {
    "name": "ipython",
    "version": 3
   },
   "file_extension": ".py",
   "mimetype": "text/x-python",
   "name": "python",
   "nbconvert_exporter": "python",
   "pygments_lexer": "ipython3",
   "version": "3.9.18"
  }
 },
 "nbformat": 4,
 "nbformat_minor": 5
}
