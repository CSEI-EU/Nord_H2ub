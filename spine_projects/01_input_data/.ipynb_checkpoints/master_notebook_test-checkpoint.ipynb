{
 "cells": [
  {
   "cell_type": "markdown",
   "id": "43ea4b8f-0ba4-4513-8872-53f4a538a0d3",
   "metadata": {},
   "source": [
    "# Data Preparation for the Nord_H2ub Spine Model"
   ]
  },
  {
   "cell_type": "markdown",
   "id": "1aa86773-4431-4a2f-9490-4b3cf0aa8d70",
   "metadata": {},
   "source": [
    "This jupyter notebook contains all routines for the preparation of the input data sources into a input data file for the model in Spine. \n",
    "\n",
    "**Authors:** Johannes Giehl (jfg.eco@cbs.dk), Dana J. Hentschel (djh.eco@cbs.dk)"
   ]
  },
  {
   "cell_type": "markdown",
   "id": "eb8175ae-f246-4788-a309-c1a4890992f2",
   "metadata": {},
   "source": [
    "## General settings"
   ]
  },
  {
   "cell_type": "markdown",
   "id": "af14f70f",
   "metadata": {},
   "source": [
    "### Packages:"
   ]
  },
  {
   "cell_type": "code",
   "execution_count": 1,
   "id": "f778ef73",
   "metadata": {},
   "outputs": [],
   "source": [
    "import papermill as pm\n",
    "\n",
    "from nord_h2ub_dropdown_functions import *"
   ]
  },
  {
   "cell_type": "code",
   "execution_count": null,
   "id": "86e6ffb6-a79a-463d-9c77-d2d7e6f8208e",
   "metadata": {},
   "outputs": [],
   "source": [
    "# Create the dropdown menu and display it\n",
    "dropdown = create_dropdown()\n",
    "display(dropdown)\n",
    "display(dropdown)"
   ]
  },
  {
   "cell_type": "code",
   "execution_count": null,
   "id": "414fa19d-62ea-40c0-869c-ff44a733e4f9",
   "metadata": {},
   "outputs": [],
   "source": [
    "result = 10 * dropdown.value\n",
    "print(result)"
   ]
  },
  {
   "cell_type": "code",
   "execution_count": 2,
   "id": "b79f5088-e503-4d0b-8b58-34895ea97de5",
   "metadata": {},
   "outputs": [
    {
     "ename": "NameError",
     "evalue": "name 'options' is not defined",
     "output_type": "error",
     "traceback": [
      "\u001b[1;31m---------------------------------------------------------------------------\u001b[0m",
      "\u001b[1;31mNameError\u001b[0m                                 Traceback (most recent call last)",
      "Cell \u001b[1;32mIn[2], line 2\u001b[0m\n\u001b[0;32m      1\u001b[0m \u001b[38;5;66;03m# Create the combined dropdown menus and display them\u001b[39;00m\n\u001b[1;32m----> 2\u001b[0m combined_dropdowns \u001b[38;5;241m=\u001b[39m \u001b[43mcreate_combined_dropdowns\u001b[49m\u001b[43m(\u001b[49m\u001b[43m)\u001b[49m\n\u001b[0;32m      3\u001b[0m display(combined_dropdowns)\n",
      "File \u001b[1;32m~\\Documents\\GitHub\\Nord_H2ub\\spine_projects\\01_input_data\\nord_h2ub_dropdown_functions.py:47\u001b[0m, in \u001b[0;36mcreate_combined_dropdowns\u001b[1;34m()\u001b[0m\n\u001b[0;32m     46\u001b[0m \u001b[38;5;28;01mdef\u001b[39;00m \u001b[38;5;21mcreate_combined_dropdowns\u001b[39m():\n\u001b[1;32m---> 47\u001b[0m     dropdown_year \u001b[38;5;241m=\u001b[39m \u001b[43mcreate_dropdown_year\u001b[49m\u001b[43m(\u001b[49m\u001b[43m)\u001b[49m\n\u001b[0;32m     48\u001b[0m     dropdown_price_zone \u001b[38;5;241m=\u001b[39m create_dropdown_price_zone()\n\u001b[0;32m     49\u001b[0m     combined \u001b[38;5;241m=\u001b[39m widgets\u001b[38;5;241m.\u001b[39mVBox([dropdown_year, dropdown_price_zone])\n",
      "File \u001b[1;32m~\\Documents\\GitHub\\Nord_H2ub\\spine_projects\\01_input_data\\nord_h2ub_dropdown_functions.py:29\u001b[0m, in \u001b[0;36mcreate_dropdown_year\u001b[1;34m()\u001b[0m\n\u001b[0;32m     26\u001b[0m \u001b[38;5;28;01mdef\u001b[39;00m \u001b[38;5;21mcreate_dropdown_year\u001b[39m():\n\u001b[0;32m     27\u001b[0m     label1 \u001b[38;5;241m=\u001b[39m widgets\u001b[38;5;241m.\u001b[39mLabel(\u001b[38;5;124m\"\u001b[39m\u001b[38;5;124mPlease select the base year:\u001b[39m\u001b[38;5;124m\"\u001b[39m)\n\u001b[0;32m     28\u001b[0m     dropdown1 \u001b[38;5;241m=\u001b[39m widgets\u001b[38;5;241m.\u001b[39mDropdown(\n\u001b[1;32m---> 29\u001b[0m         \u001b[43moptions\u001b[49m\u001b[38;5;241m==\u001b[39m[\u001b[38;5;241m2018\u001b[39m, \u001b[38;5;241m2019\u001b[39m, \u001b[38;5;241m2020\u001b[39m, \u001b[38;5;241m2021\u001b[39m, \u001b[38;5;241m2022\u001b[39m],\n\u001b[0;32m     30\u001b[0m         value\u001b[38;5;241m=\u001b[39m\u001b[38;5;28;01mNone\u001b[39;00m\n\u001b[0;32m     31\u001b[0m     )\n\u001b[0;32m     32\u001b[0m     dropdown1\u001b[38;5;241m.\u001b[39mobserve(on_change)\n\u001b[0;32m     33\u001b[0m     \u001b[38;5;28;01mreturn\u001b[39;00m widgets\u001b[38;5;241m.\u001b[39mVBox([label1, dropdown1])\n",
      "\u001b[1;31mNameError\u001b[0m: name 'options' is not defined"
     ]
    }
   ],
   "source": [
    "# Create the combined dropdown menus and display them\n",
    "combined_dropdowns = create_combined_dropdowns()\n",
    "display(combined_dropdowns)"
   ]
  },
  {
   "cell_type": "markdown",
   "id": "0e5bdb21",
   "metadata": {},
   "source": [
    "### Base Parameters:"
   ]
  },
  {
   "cell_type": "code",
   "execution_count": null,
   "id": "07acc586",
   "metadata": {},
   "outputs": [],
   "source": [
    "#define year and create time stamp\n",
    "year = 2019   #change to desired year\n",
    "start_date = pd.Timestamp(str(year) + '-01-01 00:00:00')\n",
    "end_date = pd.Timestamp(str(year) + '-12-31 23:00:00')\n",
    "#set area\n",
    "area = 'DK1'   #change to desired area\n",
    "#set product\n",
    "product = 'methanol'   #change to desired product\n",
    "#scenario\n",
    "scenario = 'Base'\n",
    "#frequency model\n",
    "frequency = '1h'\n",
    "#model name\n",
    "model_name = 'toy'\n",
    "#temporal block\n",
    "temporal_block = 'hourly'\n",
    "#stochastics\n",
    "stochastic_scenario = \"realisation\"\n",
    "stochastic_structure = \"deterministic\"\n",
    "#required reports\n",
    "report_name = 'Report'\n",
    "reports = ['unit_flow', 'connection_flow', 'node_state', 'total_costs', 'unit_flow_op', 'node_slack_neg', 'node_slack_pos']\n",
    "\n",
    "#variable efficiency electrolyzer\n",
    "electrolyzer_type = \"Alkaline\"   #change to desired type (PEM, Alkaline, SOEC)\n",
    "des_segments_electrolyzer = 3  #operating points for piecewise linear function, set by user \n",
    "\n",
    "#financial parameters for the calculations\n",
    "#when using the district heating as a revenue stream, the price cap is the upper limit in Denmark\n",
    "#by using this parameter this can be adjusted to start with other than the max value\n",
    "share_of_dh_price_cap = 0.5\n",
    "price_level_power = 1\n",
    "power_price_variance = 1\n",
    "\n",
    "#define parameters for the use of the roll forward (rolling horizon) approach\n",
    "#set the number of slices within the modelling horizon\n",
    "roll_forward_use = True\n",
    "num_slices = 12\n",
    "# Create DatetimeIndex for the range of dates\n",
    "datetime_index = pd.date_range(start=start_date, end=end_date, freq=frequency)\n",
    "# Calculate the number of steps within the horizon\n",
    "num_steps = len(datetime_index)\n",
    "# Check if the number of slices can be used\n",
    "# Find the largest integer divisor that fulfils the condition\n",
    "for i in range(num_slices, 0, -1):\n",
    "    if num_steps % i == 0:\n",
    "        roll_forward_size = num_steps // i\n",
    "        used_slices = i\n",
    "        break\n",
    "else:\n",
    "    print(\"Cannot divide the number of steps into any integer slices. Please choose a different number of slices.\")\n",
    "    exit()\n",
    "# Check if num_slices matches the used_slices\n",
    "if num_slices != used_slices:\n",
    "    print(\"\\033[91mWARNING:\\033[0m The specified number of slices (\", num_slices, \")\",\n",
    "          \"does not match the final division factor (\", used_slices, \").\",\n",
    "         \"\\n The calculation uses the factor: \",used_slices, \".\")\n",
    "\n",
    "\n",
    "# Print warning message in red\n",
    "print(\"\\033[91mWARNING:\\033[0m Please control if all the parameters are set correctly\")"
   ]
  },
  {
   "cell_type": "markdown",
   "id": "ad677838",
   "metadata": {},
   "source": [
    "### Dictionary:"
   ]
  },
  {
   "cell_type": "code",
   "execution_count": null,
   "id": "9338bd4e",
   "metadata": {},
   "outputs": [],
   "source": [
    "base_parameters = {\n",
    "    'year': year,\n",
    "    'start_date': start_date.strftime('%Y-%m-%d %H:%M:%S'),\n",
    "    'end_date': end_date.strftime('%Y-%m-%d %H:%M:%S'),\n",
    "    'area': area,\n",
    "    'product': product,\n",
    "    'scenario': scenario,\n",
    "    'frequency': frequency,\n",
    "    'model_name': model_name,\n",
    "    'temporal_block': temporal_block,\n",
    "    'stochastic_scenario': stochastic_scenario,\n",
    "    'stochastic_structure': stochastic_structure,\n",
    "    'report_name': report_name,\n",
    "    'reports': reports,\n",
    "    'electrolyzer_type': electrolyzer_type,\n",
    "    'des_segments_electrolyzer': des_segments_electrolyzer,\n",
    "    'share_of_dh_price_cap': share_of_dh_price_cap,\n",
    "    'price_level_power': price_level_power,\n",
    "    'power_price_variance': power_price_variance,\n",
    "    'roll_forward_use': roll_forward_use,\n",
    "    'num_slices': num_slices,\n",
    "    'num_steps': num_steps\n",
    "}"
   ]
  },
  {
   "cell_type": "markdown",
   "id": "7c33f6fe",
   "metadata": {},
   "source": [
    "### Execute standard routine:"
   ]
  },
  {
   "cell_type": "code",
   "execution_count": null,
   "id": "62479679",
   "metadata": {},
   "outputs": [],
   "source": [
    "pm.execute_notebook(\n",
    "    'data_preparation_nord_h2ub_spine.ipynb',\n",
    "    'please_ignore.ipynb',  # This will be the output notebook with results\n",
    "    parameters=base_parameters\n",
    ")"
   ]
  },
  {
   "cell_type": "code",
   "execution_count": null,
   "id": "17c07566",
   "metadata": {},
   "outputs": [],
   "source": []
  },
  {
   "cell_type": "code",
   "execution_count": null,
   "id": "cfdddfbc",
   "metadata": {},
   "outputs": [],
   "source": []
  },
  {
   "cell_type": "code",
   "execution_count": null,
   "id": "69b1b9c3",
   "metadata": {},
   "outputs": [],
   "source": []
  }
 ],
 "metadata": {
  "kernelspec": {
   "display_name": "python39_spinetoolbox",
   "language": "python",
   "name": "python39"
  },
  "language_info": {
   "codemirror_mode": {
    "name": "ipython",
    "version": 3
   },
   "file_extension": ".py",
   "mimetype": "text/x-python",
   "name": "python",
   "nbconvert_exporter": "python",
   "pygments_lexer": "ipython3",
   "version": "3.9.18"
  }
 },
 "nbformat": 4,
 "nbformat_minor": 5
}
