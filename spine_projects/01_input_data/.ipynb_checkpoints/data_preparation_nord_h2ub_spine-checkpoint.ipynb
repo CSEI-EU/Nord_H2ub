{
 "cells": [
  {
   "cell_type": "markdown",
   "id": "43ea4b8f-0ba4-4513-8872-53f4a538a0d3",
   "metadata": {},
   "source": [
    "# Data Preparation for the Nord_H2ub Spine Model"
   ]
  },
  {
   "cell_type": "markdown",
   "id": "1aa86773-4431-4a2f-9490-4b3cf0aa8d70",
   "metadata": {},
   "source": [
    "This jupyter notebook contains all routines for the preparation of the input data sources into a input data file for the model in Spine. \n",
    "\n",
    "**Authors:** Johannes Giehl (jfg.eco@cbs.dk), Dana J. Hentschel (djh.eco@cbs.dk)"
   ]
  },
  {
   "cell_type": "markdown",
   "id": "eb8175ae-f246-4788-a309-c1a4890992f2",
   "metadata": {},
   "source": [
    "## General settings"
   ]
  },
  {
   "cell_type": "markdown",
   "id": "5bc68f78-3383-4889-bd9e-8b3e3e2f6c2e",
   "metadata": {},
   "source": [
    "### Packages:"
   ]
  },
  {
   "cell_type": "code",
   "execution_count": null,
   "id": "f8f47a1c-073f-46c0-8a4d-7dafb1716b9b",
   "metadata": {},
   "outputs": [],
   "source": [
    "import numpy as np\n",
    "import pandas as pd\n",
    "from datetime import timedelta\n",
    "\n",
    "#import networkx as nx\n",
    "#import matplotlib.pyplot as plt"
   ]
  },
  {
   "cell_type": "markdown",
   "id": "92141795-3716-404e-8e35-a096dcaa0c40",
   "metadata": {},
   "source": [
    "### Methods:"
   ]
  },
  {
   "cell_type": "code",
   "execution_count": null,
   "id": "76e57da7-2051-45db-b50c-ef0d2603f524",
   "metadata": {},
   "outputs": [],
   "source": [
    "#load the functions and methods from the corresponding file\n",
    "from nord_h2ub_data_preparation_functions import *"
   ]
  },
  {
   "cell_type": "markdown",
   "id": "3e50630f-868b-40f0-842e-c74d936b5d54",
   "metadata": {},
   "source": [
    "### Base parameters"
   ]
  },
  {
   "cell_type": "code",
   "execution_count": null,
   "id": "5678470b-cd0b-4b6f-b698-2f166d1afd7b",
   "metadata": {},
   "outputs": [],
   "source": [
    "#define year and create time stamp\n",
    "year = 2019   #change to desired year\n",
    "start_date = pd.Timestamp(str(year) + '-01-01 00:00:00')\n",
    "end_date = pd.Timestamp(str(year) + '-01-02 23:00:00')\n",
    "#set area\n",
    "area = 'DK1'   #change to desired area\n",
    "#scenario\n",
    "scenario = 'Base'\n",
    "#frequency model\n",
    "frequency = '1h'\n",
    "#model name\n",
    "model_name = 'toy'\n",
    "#temporal block\n",
    "temporal_block = 'hourly'\n",
    "#stochastics\n",
    "stochastic_scenario = \"realisation\"\n",
    "stochastic_structure = \"deterministic\"\n",
    "#required reports\n",
    "report_name = 'Report'\n",
    "reports = ['unit_flow', 'connection_flow', 'node_state', 'total_costs']"
   ]
  },
  {
   "cell_type": "markdown",
   "id": "4c56b541-1fbd-4e7e-9cf3-2ff25f8da472",
   "metadata": {},
   "source": [
    "### File paths"
   ]
  },
  {
   "cell_type": "code",
   "execution_count": null,
   "id": "5b811bdc-ac7b-4cd7-8e32-8f84bda412a2",
   "metadata": {},
   "outputs": [],
   "source": [
    "#set path to correct folders\n",
    "#input data\n",
    "excel_file_path = '../01_input_data/01_input_raw/'\n",
    "#prepared input data\n",
    "output_file_path = '../01_input_data/02_input_prepared/'"
   ]
  },
  {
   "cell_type": "code",
   "execution_count": null,
   "id": "89169e64-f204-47bb-9a83-17156a4aefa8",
   "metadata": {},
   "outputs": [],
   "source": [
    "#set name of the relevant files\n",
    "\n",
    "model_parameters = 'Full_Excel.xlsx'\n",
    "Model_structure_file = 'Model_Data_Base.xlsx'\n",
    "\n",
    "PV_data_availabilityfactors = 'PV_availability_factors_Kasso_' + str(year) + '.xlsx'\n",
    "data_powerprices = 'Day_ahead_prices_' + str(year) + '.xlsx'\n",
    "\n",
    "#output file\n",
    "output_file_name = 'Maersk_Example_Input_prepared.xlsx'"
   ]
  },
  {
   "cell_type": "markdown",
   "id": "86d15fe8-064f-4c28-be28-8d924a4ba31b",
   "metadata": {},
   "source": [
    "\n",
    "## Workflow of the data preparation"
   ]
  },
  {
   "cell_type": "markdown",
   "id": "ef6ad49f-470e-4b29-aa02-c7babb08befb",
   "metadata": {},
   "source": [
    "### General parameters"
   ]
  },
  {
   "cell_type": "code",
   "execution_count": null,
   "id": "c50f50c3-e43d-41c2-8158-75596632213b",
   "metadata": {},
   "outputs": [],
   "source": [
    "#date index\n",
    "date_index = pd.date_range(start=start_date, end=end_date, freq='H')\n",
    "formatted_dates = date_index.strftime('%Y-%m-%dT%H:%M:%S')\n",
    "df_formatted_dates = pd.DataFrame(formatted_dates, columns=['DateTime'])\n",
    "\n",
    "df_time = pd.DataFrame(df_formatted_dates)"
   ]
  },
  {
   "cell_type": "markdown",
   "id": "88fb746a-7cd3-4655-88cf-ac543b003918",
   "metadata": {},
   "source": [
    "### Data import"
   ]
  },
  {
   "cell_type": "code",
   "execution_count": null,
   "id": "a42c5077-74ef-4f63-b6d9-4aa3c11aa878",
   "metadata": {},
   "outputs": [],
   "source": [
    "#read in the model structure from a new excel\n",
    "df_model_units = pd.read_excel(excel_file_path + Model_structure_file, sheet_name='Units', index_col=None)\n",
    "df_model_connections = pd.read_excel(excel_file_path + Model_structure_file, sheet_name='Connections', index_col=None)\n",
    "df_model_storages = pd.read_excel(excel_file_path + Model_structure_file, sheet_name='Storages', index_col=None)\n",
    "#Object-to-node\n",
    "df_object__to_node_values = pd.read_excel(excel_file_path + model_parameters, sheet_name='Object__to_node')\n",
    "#Object-from-node\n",
    "df_object__from_node_values = pd.read_excel(excel_file_path + model_parameters, sheet_name='Object__from_node')\n",
    "#Object-node-node\n",
    "df_object__node_node_values = pd.read_excel(excel_file_path + model_parameters, sheet_name='Object__node_node')\n",
    "#Variable efficiency\n",
    "df_variable_efficiency = pd.read_excel(excel_file_path + model_parameters, sheet_name='Variable_Eff')\n",
    "#Availability factor\n",
    "df_PV_availabilityfactors_values = pd.read_excel(excel_file_path+PV_data_availabilityfactors, skiprows=2, usecols=[0,1,2,3,4,5])\n",
    "#Power prices\n",
    "df_powerprices_total_values = pd.read_excel(excel_file_path+data_powerprices)\n",
    "#only extracting the prices from our earlier defined area\n",
    "df_powerprices_values = df_powerprices_total_values[df_powerprices_total_values['PriceArea'] == area]\n",
    "df_powerprices_values = df_powerprices_values.reset_index(drop=True)\n",
    "#Storage\n",
    "df_storage_raw = pd.read_excel(excel_file_path + model_parameters, sheet_name='Storage')"
   ]
  },
  {
   "cell_type": "markdown",
   "id": "c2693fc2-fe36-47a1-9b08-00f73dd53b9f",
   "metadata": {},
   "source": [
    "### Adjustments"
   ]
  },
  {
   "cell_type": "markdown",
   "id": "28376bad-520d-4ab3-85ce-2d1cf91ac5e5",
   "metadata": {},
   "source": [
    "#### Adjust base elements:"
   ]
  },
  {
   "cell_type": "code",
   "execution_count": null,
   "id": "dee53885-7c29-4a6e-b4a2-b4deeef30be8",
   "metadata": {},
   "outputs": [],
   "source": [
    "#Create a dataframe for units\n",
    "df_units = df_model_units[['Unit']].copy()\n",
    "df_units['Category'] = 'unit'\n",
    "df_units['fom_cost'] = df_model_units[['fom_cost']]\n",
    "df_units = df_units.rename(columns={'Unit': 'Object_Name'})\n",
    "\n",
    "#Create a dataframe for connections\n",
    "df_connections = df_model_connections[['Connection']].copy()\n",
    "df_connections['Category'] = 'connection'\n",
    "df_connections = df_connections.rename(columns={'Connection': 'Object_Name'})\n",
    "df_connections['fom_cost'] = df_model_connections[['fom_cost']]\n",
    "\n",
    "#create a list of nodes of the model\n",
    "U_input1_nodes = df_model_units['Input1'].tolist()\n",
    "U_input2_nodes = df_model_units['Input2'].tolist()\n",
    "U_output1_nodes = df_model_units['Output1'].tolist()\n",
    "U_output2_nodes = df_model_units['Output2'].tolist()\n",
    "C_input1_nodes = df_model_connections['Input1'].tolist()\n",
    "C_input2_nodes = df_model_connections['Input2'].tolist()\n",
    "C_output1_nodes = df_model_connections['Output1'].tolist()\n",
    "C_output2_nodes = df_model_connections['Output2'].tolist()\n",
    "\n",
    "# Combine values from both columns into a single list\n",
    "All_nodes_list = U_input1_nodes+U_input2_nodes+U_output1_nodes+U_output2_nodes+C_input1_nodes+C_input2_nodes+C_output1_nodes+C_output2_nodes\n",
    "\n",
    "# Create a list with unique entries\n",
    "unique_nodes_list = list(set(All_nodes_list))\n",
    "\n",
    "#Create a dataframe for nodes\n",
    "df_nodes = pd.DataFrame(unique_nodes_list, columns=['Object_Name'])\n",
    "df_nodes['Category'] = 'node'\n",
    "df_nodes = df_nodes.dropna()\n",
    "\n",
    "#Combined dataframe\n",
    "df_definition = pd.concat([df_units, df_nodes, df_connections], ignore_index=True)\n",
    "\n",
    "df_definition.head()"
   ]
  },
  {
   "cell_type": "code",
   "execution_count": null,
   "id": "1d4e42d4-76d0-480d-b7b2-bdb413adfc55",
   "metadata": {},
   "outputs": [],
   "source": [
    "#create the balance type of the nodes\n",
    "columns_to_select = ['Input1', 'Input2', 'Output1', 'Output2']\n",
    "df_combined = pd.concat([df_model_units, df_model_connections])\n",
    "df_combined = df_combined.reset_index(drop=True)\n",
    "\n",
    "df_nodes_network = create_connection_dataframe(df_combined, columns_to_select)\n",
    "\n",
    "# Get unique values from the 'in' column\n",
    "unique_in_values = df_nodes_network['in'].dropna().unique()\n",
    "\n",
    "# Identify values in 'in' column not present in 'out' column\n",
    "values_not_in_out = unique_in_values[~pd.Series(unique_in_values).isin(df_nodes_network['out'].dropna().unique())]\n",
    "\n",
    "# Get unique values from the 'in' column\n",
    "unique_out_values = df_nodes_network['out'].dropna().unique()\n",
    "\n",
    "# Identify values in 'in' column not present in 'out' column\n",
    "values_not_in_in = unique_out_values[~pd.Series(unique_out_values).isin(df_nodes_network['in'].dropna().unique())]\n",
    "\n",
    "#create list of unique nodes that are either start or end nodes\n",
    "unique_nodes = values_not_in_out.tolist() + values_not_in_in.tolist()\n",
    "unique_nodes\n",
    "\n",
    "df_nodes_network.replace(np.nan, None, inplace=True)\n",
    "\n",
    "#check for combinations that are mirrored\n",
    "mirrored_combinations = find_mirror_combinations(df_nodes_network)\n",
    "\n",
    "#get information of connections for each node\n",
    "partners_dict1 = find_partners(df_nodes_network)\n",
    "partners_dict2 = find_partners(mirrored_combinations)\n",
    "\n",
    "#check both lists if there are identical entries and list nodes that only have a connection to the same node\n",
    "#storages are removed as they must be balanced\n",
    "nodes_identical = find_identical_entries(partners_dict1, partners_dict2)\n",
    "\n",
    "#combined list of start and end nodes that should be unbalanced\n",
    "unbalanced_nodes = nodes_identical + unique_nodes\n",
    "\n",
    "df_nodes['balance_type'] = 'balance_type_node'\n",
    "df_nodes.loc[df_nodes['Object_Name'].isin(unbalanced_nodes), 'balance_type'] = 'balance_type_none'"
   ]
  },
  {
   "cell_type": "code",
   "execution_count": null,
   "id": "0403b80a-9d3f-4557-bda6-2803650bea2d",
   "metadata": {},
   "outputs": [],
   "source": [
    "#add has_state_node_state_cap and frac_state_loss\n",
    "df_storages_short = df_model_storages.loc[:, ['Storage', 'has_state', 'node_state_cap', 'frac_state_loss']].rename(columns={'Storage': 'Object_Name'})\n",
    "df_storages_short['has_state'] = df_storages_short['has_state'].astype(str).str.lower().replace('true', 'true')\n",
    "\n",
    "df_nodes = pd.merge(df_nodes, df_storages_short, on='Object_Name', how='left')\n",
    "df_nodes.head()"
   ]
  },
  {
   "cell_type": "code",
   "execution_count": null,
   "id": "bb44a55f-bd0d-41f3-a96a-2fc67ae92a5e",
   "metadata": {
    "scrolled": true
   },
   "outputs": [],
   "source": [
    "#create a dataframe with all nodes that should have a slack based on the unit input and outputs\n",
    "nodes_for_slack_df = check_entries_exist(df_model_units, 'node')\n",
    "#merge the information into the prepared data frame\n",
    "merged_df = pd.merge(df_nodes, nodes_for_slack_df, left_on='Object_Name', right_on='node', how='left')\n",
    "merged_df = merged_df.drop(columns=['node'])\n",
    "merged_df['node_slack_penalty'] = merged_df['node_slack_penalty'].replace({True: 100000, False: ''})\n",
    "#create a dataframe with all nodes that should have a slack based on the connection input and outputs\n",
    "nodes_for_slack_df2 = check_entries_exist(df_model_connections, 'connection')\n",
    "#merge the information into the prepared data frame\n",
    "merged_df2 = pd.merge(df_nodes, nodes_for_slack_df2, left_on='Object_Name', right_on='connection', how='left')\n",
    "merged_df2 = merged_df2.drop(columns=['connection'])\n",
    "merged_df2['node_slack_penalty'] = merged_df2['node_slack_penalty'].replace({True: 100000, False: ''})\n",
    "#link the information about the slack of both data frames\n",
    "merged_df2['node_slack_penalty'] = merged_df['node_slack_penalty'].combine_first(merged_df2['node_slack_penalty'])\n",
    "#clean the information that only nodes with 'balance_type_node' have a penalty\n",
    "merged_df2.loc[merged_df2['balance_type'] == 'balance_type_none', 'node_slack_penalty'] = ''\n",
    "#add the information into the df_nodes\n",
    "df_nodes['node_slack_penalty'] = merged_df2['node_slack_penalty']\n",
    "\n",
    "#show table head for control\n",
    "df_nodes.head()"
   ]
  },
  {
   "cell_type": "code",
   "execution_count": null,
   "id": "ee8799cc-183e-408a-a903-32f8f6e56693",
   "metadata": {},
   "outputs": [],
   "source": [
    "#Add parameters for connections\n",
    "df_connections = df_model_connections.loc[:, ['Connection', 'Connection_type']]\n",
    "insert_index=1\n",
    "parameter_name = ['connection_type']*len(df_connections)\n",
    "df_connections.insert(insert_index, 'Parameter_name', parameter_name)\n",
    "#show table for control\n",
    "df_connections.head()"
   ]
  },
  {
   "cell_type": "markdown",
   "id": "c33f3dc6-ea13-486b-9860-6bd41f57b3a7",
   "metadata": {},
   "source": [
    "#### Times series:"
   ]
  },
  {
   "cell_type": "code",
   "execution_count": null,
   "id": "e60a7947-9d7f-480f-847a-f22419719660",
   "metadata": {},
   "outputs": [],
   "source": [
    "#adjust PV columns names\n",
    "df_PV_availabilityfactors_values.rename(columns={'time': 'time [UTC]', \n",
    "                                                 'local_time': 'time [' + area + ']',\n",
    "                                                 'electricity': 'unit_availability_factor'}, inplace=True)\n",
    "df_powerprices_values.rename(columns={'HourUTC': 'time [UTC]', \n",
    "                                         'HourDK': 'time [' + area + ']'}, inplace=True)"
   ]
  },
  {
   "cell_type": "markdown",
   "id": "287b3c37-228f-47f0-a99e-2df1f87512d5",
   "metadata": {},
   "source": [
    "### Fitting data into format"
   ]
  },
  {
   "cell_type": "markdown",
   "id": "1b527344-851f-47c0-a12e-72942d4176eb",
   "metadata": {},
   "source": [
    "#### Relationships:"
   ]
  },
  {
   "cell_type": "markdown",
   "id": "9ebeb807-b807-4882-b8cd-67a174c8edbd",
   "metadata": {},
   "source": [
    "Object__node_node:"
   ]
  },
  {
   "cell_type": "code",
   "execution_count": null,
   "id": "1fd5a160-3f18-4656-82ee-484e7e703cc8",
   "metadata": {},
   "outputs": [],
   "source": [
    "#Define which columns to check\n",
    "columns_In_In_Unit = ['Unit', 'Input1', 'Input2']\n",
    "columns_In_Out_Unit = ['Unit', 'Input1', 'Output1']\n",
    "columns_Out_Out_Unit = ['Unit', 'Output1', 'Output2']\n",
    "columns_In_In_Connection = ['Connection', 'Input1', 'Input2']\n",
    "columns_In_Out_Connection = ['Connection', 'Input1', 'Output1']\n",
    "columns_Out_Out_Connection = ['Connection', 'Output1', 'Output2']\n",
    "columns_Out_In_Connection = ['Connection', 'Output1', 'Input1']\n",
    "\n",
    "####UNITS#####\n",
    "#create list of tuples with values of cells + fix_ratio_XXX_XXX\n",
    "values_in_in_units = [('unit__node__node', 'unit', row[columns_In_In_Unit[0]], row[columns_In_In_Unit[1]], row[columns_In_In_Unit[2]], \n",
    "                       'fix_ratio_in_in_unit_flow', row['Relation_In_In']) \n",
    "                      if not pd.isnull(row[columns_In_In_Unit]).any() else (np.nan, np.nan, None) for _, row in df_model_units.iterrows() \n",
    "                      if not pd.isnull(row[columns_In_In_Unit]).any()]\n",
    "values_in_out_units = [('unit__node__node', 'unit', row[columns_In_Out_Unit[0]], row[columns_In_Out_Unit[1]], row[columns_In_Out_Unit[2]], \n",
    "                        'fix_ratio_in_out_unit_flow', row['Relation_In_Out']) \n",
    "                      if not pd.isnull(row[columns_In_Out_Unit]).any() else (np.nan, np.nan, None) for _, row in df_model_units.iterrows() \n",
    "                      if not pd.isnull(row[columns_In_Out_Unit]).any()]\n",
    "values_out_out_units = [('unit__node__node', 'unit', row[columns_Out_Out_Unit[0]], row[columns_Out_Out_Unit[1]], row[columns_Out_Out_Unit[2]], \n",
    "                         'fix_ratio_out_out_unit_flow', row['Relation_Out_Out']) \n",
    "                      if not pd.isnull(row[columns_Out_Out_Unit]).any() else (np.nan, np.nan, None) for _, row in df_model_units.iterrows() \n",
    "                      if not pd.isnull(row[columns_Out_Out_Unit]).any()]\n",
    "\n",
    "df_fix_ratio_in_in_units = pd.DataFrame(values_in_in_units, columns=['relationship', 'Object_class', 'Object', 'Node1', \n",
    "                                                                     'Node2', 'fix_ratio', 'value'])\n",
    "df_fix_ratio_in_out_units = pd.DataFrame(values_in_out_units, columns=['relationship', 'Object_class', 'Object', 'Node1', \n",
    "                                                                       'Node2', 'fix_ratio', 'value'])\n",
    "df_fix_ratio_out_out_units = pd.DataFrame(values_out_out_units, columns=['relationship', 'Object_class', 'Object', 'Node1', \n",
    "                                                                         'Node2', 'fix_ratio', 'value'])\n",
    "\n",
    "####CONNECTIONS\n",
    "values_in_in_connections = [('connection__node__node', 'connection', row[columns_In_In_Connection[0]], \n",
    "                             row[columns_In_In_Connection[1]], row[columns_In_In_Connection[2]], \n",
    "                             'fix_ratio_in_in_connection_flow', row['Relation_In_In']) \n",
    "                            if not pd.isnull(row[columns_In_In_Connection]).any() else (np.nan, np.nan, None) for _, row in df_model_connections.iterrows() \n",
    "                            if not pd.isnull(row[columns_In_In_Connection]).any()]\n",
    "values_in_out_connections = [('connection__node__node', 'connection', row[columns_In_Out_Connection[0]], \n",
    "                              row[columns_In_Out_Connection[1]], row[columns_In_Out_Connection[2]], \n",
    "                              'fix_ratio_in_out_connection_flow', row['Relation_In_Out']) \n",
    "                             if not pd.isnull(row[columns_In_Out_Connection]).any() else (np.nan, np.nan, None) for _, row in df_model_connections.iterrows() \n",
    "                             if not pd.isnull(row[columns_In_Out_Connection]).any()]\n",
    "values_out_out_connections = [('connection__node__node', 'connection', row[columns_Out_Out_Connection[0]], \n",
    "                               row[columns_Out_Out_Connection[1]], row[columns_Out_Out_Connection[2]], \n",
    "                               'fix_ratio_out_out_connection_flow', row['Relation_Out_Out']) \n",
    "                              if not pd.isnull(row[columns_Out_Out_Connection]).any() else (np.nan, np.nan, None) for _, row in df_model_connections.iterrows() \n",
    "                              if not pd.isnull(row[columns_Out_Out_Connection]).any()]\n",
    "values_out_in_connections = [('connection__node__node', 'connection', row[columns_Out_In_Connection[0]], \n",
    "                               row[columns_Out_In_Connection[1]], row[columns_Out_In_Connection[2]], \n",
    "                               'fix_ratio_out_in_connection_flow', row['Relation_Out_In']) \n",
    "                              if not pd.isnull(row[columns_Out_In_Connection]).any() else (np.nan, np.nan, None) for _, row in df_model_connections.iterrows() \n",
    "                              if not pd.isnull(row[columns_Out_In_Connection]).any()]\n",
    "\n",
    "df_fix_ratio_in_in_connections = pd.DataFrame(values_in_in_connections, columns=['relationship', 'Object_class', 'Object', 'Node1', \n",
    "                                                                                 'Node2', 'fix_ratio', 'value'])\n",
    "df_fix_ratio_in_out_connections = pd.DataFrame(values_in_out_connections, columns=['relationship', 'Object_class', 'Object', 'Node1', \n",
    "                                                                                   'Node2', 'fix_ratio', 'value'])\n",
    "df_fix_ratio_out_out_connections = pd.DataFrame(values_out_out_connections, columns=['relationship', 'Object_class', 'Object', 'Node1', \n",
    "                                                                                     'Node2', 'fix_ratio', 'value'])\n",
    "df_fix_ratio_out_in_connections = pd.DataFrame(values_out_in_connections, columns=['relationship', 'Object_class', 'Object', 'Node1', \n",
    "                                                                                     'Node2', 'fix_ratio', 'value'])\n",
    "\n",
    "#create Object_node_node\n",
    "df_object_node_node = pd.concat([df_fix_ratio_in_in_units, df_fix_ratio_in_out_units, df_fix_ratio_out_out_units, \n",
    "                                df_fix_ratio_in_in_connections, df_fix_ratio_in_out_connections, \n",
    "                                df_fix_ratio_out_out_connections, df_fix_ratio_out_in_connections])\n",
    "df_object_node_node = df_object_node_node.reset_index(drop=True)\n",
    "\n",
    "df_object_node_node = df_object_node_node.dropna(subset=['value'])\n",
    "\n",
    "#for storages, the out_in_connetion is set in both directions\n",
    "# Check if the 'Object' column contains the word 'storage'\n",
    "storage_condition = df_object_node_node['Object'].str.contains('storage', case=False)\n",
    "\n",
    "# Filter rows that meet the condition\n",
    "storage_rows = df_object_node_node[storage_condition]\n",
    "\n",
    "# Add a new row with mirrored Node1 and Node2 for each matching row\n",
    "for index, row in storage_rows.iterrows():\n",
    "    mirrored_row = row.copy()\n",
    "    mirrored_row['Node1'], mirrored_row['Node2'] = row['Node2'], row['Node1']\n",
    "    df_object_node_node = pd.concat([df_object_node_node, mirrored_row.to_frame().T], ignore_index=True)\n",
    "\n",
    "#show df head for control\n",
    "df_object_node_node.head()"
   ]
  },
  {
   "cell_type": "markdown",
   "id": "19ea16b2-0e98-4ca2-b6ec-aa840ac09d20",
   "metadata": {},
   "source": [
    "Object__from/to_node:"
   ]
  },
  {
   "cell_type": "code",
   "execution_count": null,
   "id": "0e0a59d6-76be-4405-8ef7-62428bbe25ba",
   "metadata": {},
   "outputs": [],
   "source": [
    "# Initialize an empty list to store the transformed data\n",
    "unit_relation_parameter_data = []\n",
    "\n",
    "# Iterate over each row in the DataFrame\n",
    "for index, row in df_model_units.iterrows():\n",
    "    unit = row['Unit']\n",
    "\n",
    "    # Iterate over Input and Output columns\n",
    "    for i in range(1, 3):\n",
    "        input_col = f'Input{i}'\n",
    "        output_col = f'Output{i}'\n",
    "        cap_input_col = f'Cap_{input_col}_existing'\n",
    "        cap_output_col = f'Cap_{output_col}_existing'\n",
    "        vom_cost_input_col = f'vom_cost_{input_col}'\n",
    "        vom_cost_output_col = f'vom_cost_{output_col}'\n",
    "        #fom_cost_col = 'fom_cost' if i == 1 else None\n",
    "        #vom_cost_col = 'vom_cost' if i == 1 else None\n",
    "\n",
    "        # Check for Input columns\n",
    "        input_value = row[input_col]\n",
    "        input_capacity = row[cap_input_col]\n",
    "        vom_cost_input = row[vom_cost_input_col]\n",
    "        #fom_cost_value = row[fom_cost_col] if fom_cost_col else None\n",
    "        #vom_cost_value = row[vom_cost_col] if vom_cost_col else None\n",
    "\n",
    "        if pd.notna(input_value):\n",
    "            unit_relation_parameter_data.append({\n",
    "                'relationship_class_name': 'unit__from_node',\n",
    "                'object_class': 'unit',\n",
    "                'object_name': unit,\n",
    "                'node': input_value,\n",
    "                'parameter_name': 'unit_capacity' if pd.notna(input_capacity) else '',\n",
    "                'value': input_capacity if pd.notna(input_capacity) else ''\n",
    "            })\n",
    "        \n",
    "            if pd.notna(input_value) and pd.notna(vom_cost_input):\n",
    "                unit_relation_parameter_data.append({\n",
    "                    'relationship_class_name': 'unit__from_node',\n",
    "                    'object_class': 'unit',\n",
    "                    'object_name': unit,\n",
    "                    'node': input_value,\n",
    "                    'parameter_name': 'vom_cost',\n",
    "                    'value': vom_cost_input\n",
    "                })\n",
    "\n",
    "\n",
    "        # Check for Output columns\n",
    "        output_value = row[output_col]\n",
    "        output_capacity = row[cap_output_col]\n",
    "        vom_cost_output = row[vom_cost_output_col]\n",
    "\n",
    "        if pd.notna(output_value):\n",
    "            unit_relation_parameter_data.append({\n",
    "                'relationship_class_name': 'unit__to_node',\n",
    "                'object_class': 'unit',\n",
    "                'object_name': unit,\n",
    "                'node': output_value,\n",
    "                'parameter_name': 'unit_capacity' if pd.notna(output_capacity) else '',\n",
    "                'value': output_capacity if pd.notna(output_capacity) else ''\n",
    "            })\n",
    "        \n",
    "            if pd.notna(output_value) and pd.notna(vom_cost_output):\n",
    "                unit_relation_parameter_data.append({\n",
    "                    'relationship_class_name': 'unit__to_node',\n",
    "                    'object_class': 'unit',\n",
    "                    'object_name': unit,\n",
    "                    'node': output_value,\n",
    "                    'parameter_name': 'vom_cost',\n",
    "                    'value': vom_cost_output\n",
    "                })\n",
    "#        if pd.notna(output_value):\n",
    "#            unit_relation_parameter_data.append({\n",
    "#                'relationship_class_name': 'unit__to_node',\n",
    "#                'object_class': 'unit',\n",
    "#                'object_name': unit,\n",
    "#                'node': output_value,\n",
    "#                'parameter_name': 'unit_capacity' if pd.notna(output_capacity) else '',\n",
    "#                'value': output_capacity if pd.notna(output_capacity) else '',\n",
    "#                #'fom_cost': fom_cost_value if pd.notna(fom_cost_value) else '',\n",
    "#                #'vom_cost': vom_cost_value if pd.notna(vom_cost_value) else ''\n",
    "#            })\n",
    "\n",
    "# Create a new DataFrame from the transformed data\n",
    "df_unit_relation_parameter_data = pd.DataFrame(unit_relation_parameter_data)\n",
    "df_unit_relation_parameter_data.head()"
   ]
  },
  {
   "cell_type": "code",
   "execution_count": null,
   "id": "6031af12-8f24-49f5-8f5b-6526f0065433",
   "metadata": {},
   "outputs": [],
   "source": [
    "# Initialize an empty list to store the transformed data\n",
    "connection_relation_parameter_data = []\n",
    "\n",
    "# Iterate over each row in the DataFrame\n",
    "for index, row in df_model_connections.iterrows():\n",
    "    connection = row['Connection']\n",
    "\n",
    "    # Iterate over Input and Output columns\n",
    "    for i in range(1, 3):\n",
    "        input_col = f'Input{i}'\n",
    "        output_col = f'Output{i}'\n",
    "        cap_input_col = f'Cap_{input_col}_existing'\n",
    "        cap_output_col = f'Cap_{output_col}_existing'\n",
    "        vom_cost_input_col = f'vom_cost_{input_col}'\n",
    "        vom_cost_output_col = f'vom_cost_{output_col}'\n",
    "        #fom_cost_col = 'fom_cost' if i == 1 else None\n",
    "        #vom_cost_col = 'vom_cost' if i == 1 else None\n",
    "\n",
    "        # Check for Input columns\n",
    "        input_value = row[input_col]\n",
    "        input_capacity = row[cap_input_col]\n",
    "        vom_cost_input = row[vom_cost_input_col]\n",
    "\n",
    "        #fom_cost_value = row[fom_cost_col] if fom_cost_col else None\n",
    "        #vom_cost_value = row[vom_cost_col] if vom_cost_col else None\n",
    "\n",
    "        if pd.notna(input_value):\n",
    "            connection_relation_parameter_data.append({\n",
    "                'relationship_class_name': 'connection__from_node',\n",
    "                'object_class': 'connection',\n",
    "                'object_name': connection,\n",
    "                'node': input_value,\n",
    "                'parameter_name': 'connection_capacity' if pd.notna(input_capacity) else '',\n",
    "                'value': input_capacity if pd.notna(input_capacity) else ''\n",
    "            })\n",
    "        \n",
    "            if pd.notna(input_value) and pd.notna(vom_cost_input):\n",
    "                connection_relation_parameter_data.append({\n",
    "                    'relationship_class_name': 'connection__from_node',\n",
    "                    'object_class': 'connection',\n",
    "                    'object_name': connection,\n",
    "                    'node': input_value,\n",
    "                    'parameter_name': 'vom_cost',\n",
    "                    'value': vom_cost_input\n",
    "                })\n",
    "\n",
    "        # Check for Output columns\n",
    "        output_value = row[output_col]\n",
    "        output_capacity = row[cap_output_col]\n",
    "        vom_cost_output = row[vom_cost_output_col]\n",
    "\n",
    "        '''if pd.notna(output_value):\n",
    "            connection_relation_parameter_data.append({\n",
    "                'relationship_class_name': 'connection__to_node',\n",
    "                'object_class': 'connection',\n",
    "                'object_name': connection,\n",
    "                'node': output_value,\n",
    "                'parameter_name': 'connection_capacity' if pd.notna(output_capacity) else '',\n",
    "                'value': output_capacity if pd.notna(output_capacity) else '',\n",
    "                #'fom_cost': fom_cost_value if pd.notna(fom_cost_value) else '',\n",
    "                #'vom_cost': vom_cost_value if pd.notna(vom_cost_value) else ''\n",
    "            })'''\n",
    "\n",
    "        if pd.notna(output_value):\n",
    "            connection_relation_parameter_data.append({\n",
    "                'relationship_class_name': 'connection__to_node',\n",
    "                'object_class': 'connection',\n",
    "                'object_name': connection,\n",
    "                'node': output_value,\n",
    "                'parameter_name': 'connection_capacity' if pd.notna(output_capacity) else '',\n",
    "                'value': output_capacity if pd.notna(output_capacity) else ''\n",
    "            })\n",
    "        \n",
    "            if pd.notna(output_value) and pd.notna(vom_cost_output):\n",
    "                connection_relation_parameter_data.append({\n",
    "                    'relationship_class_name': 'connection__to_node',\n",
    "                    'object_class': 'connection',\n",
    "                    'object_name': connection,\n",
    "                    'node': output_value,\n",
    "                    'parameter_name': 'vom_cost',\n",
    "                    'value': vom_cost_output\n",
    "                })\n",
    "\n",
    "# Create a new DataFrame from the transformed data\n",
    "df_connection_relation_parameter_data = pd.DataFrame(connection_relation_parameter_data)"
   ]
  },
  {
   "cell_type": "code",
   "execution_count": null,
   "id": "65d8c41c-8fb4-4a60-883b-94b70f5ace80",
   "metadata": {},
   "outputs": [],
   "source": [
    "#Create combined DataFrame:\n",
    "df_object__node = pd.concat([df_unit_relation_parameter_data, df_connection_relation_parameter_data])\n",
    "df_object__node = df_object__node.reset_index(drop=True)\n",
    "\n",
    "#show df head for control\n",
    "df_object__node.head()"
   ]
  },
  {
   "cell_type": "code",
   "execution_count": null,
   "id": "36e1391f-d8cd-45dd-9867-7aefa0327740",
   "metadata": {},
   "outputs": [],
   "source": [
    "#create a DataFrame for the definition of the object_node relationsships\n",
    "df_object__node_definitions = pd.DataFrame(df_object__node[['relationship_class_name', 'object_class', 'object_name', 'node']])\n",
    "df_object__node_definitions = df_object__node_definitions.drop_duplicates()\n",
    "df_object__node_definitions = df_object__node_definitions.reset_index(drop=True)\n",
    "\n",
    "# Drop rows whereno parameters for the relationship are defined (column has missing values (NaN or None))\n",
    "drop_no_vaule_column = 'parameter_name'\n",
    "df_object__node_values = df_object__node[df_object__node[drop_no_vaule_column] != '']"
   ]
  },
  {
   "cell_type": "markdown",
   "id": "99b06362-af38-4e4b-ab1b-fc2f8024bee0",
   "metadata": {},
   "source": [
    "#### Demand and Renewables Availability:"
   ]
  },
  {
   "cell_type": "code",
   "execution_count": null,
   "id": "eccc1b34-e4e6-4187-8299-e66590b125d1",
   "metadata": {},
   "outputs": [],
   "source": [
    "#create table headers and relations\n",
    "column_names_1 = {'DateTime '+area: [None, None],\n",
    "                'Hydrogen_Kasso': ['node','demand'], \n",
    "                'E-Methanol_Kasso': ['node','demand'], \n",
    "                'Solar_Plant_Kasso': ['unit','unit_availability_factor']}\n",
    "df_blank_table_1 = pd.DataFrame(column_names_1, index=None)\n",
    "#add values\n",
    "df_temp_1 = pd.DataFrame(columns=['DateTime ' + area, 'Hydrogen_Kasso', 'E-Methanol_Kasso', 'Solar_Plant_Kasso'])\n",
    "\n",
    "df_temp_1['DateTime '+area] = df_time\n",
    "df_temp_1['Hydrogen_Kasso'] = 0\n",
    "df_temp_1['E-Methanol_Kasso'] = 25\n",
    "df_temp_1['Solar_Plant_Kasso'] = df_PV_availabilityfactors_values['unit_availability_factor']\n",
    "\n",
    "df_table_1 = pd.concat([df_blank_table_1, df_temp_1])\n",
    "#show table head for control\n",
    "df_table_1.head()"
   ]
  },
  {
   "cell_type": "markdown",
   "id": "46e74f16-846f-4ba0-b9c6-869e32be6676",
   "metadata": {},
   "source": [
    "#### Energy prices:"
   ]
  },
  {
   "cell_type": "code",
   "execution_count": null,
   "id": "a785d20b-2cbe-4f0b-8842-2878a3335580",
   "metadata": {},
   "outputs": [],
   "source": [
    "column_names_2 = {'DateTime ' + area: ['relationship class','connection','node','parameter name'],\n",
    "                'Power_Wholesale_In': ['connection__from_node','power_line_Wholesale_Kasso','Power_Wholesale','connection_flow_cost'], \n",
    "                'Power_Wholesale_Out': ['connection__to_node','power_line_Wholesale_Kasso','Power_Wholesale','connection_flow_cost'], \n",
    "                'District_Heating': ['connection__to_node','pipeline_District_Heating','District_Heating','connection_flow_cost']}\n",
    "df_blank_table_2 = pd.DataFrame(column_names_2, index=None)\n",
    "df_temp_2 = pd.DataFrame(columns=['DateTime ' + area, 'Power_Wholesale_In', 'Power_Wholesale_Out', 'District_Heating'])\n",
    "\n",
    "df_temp_2['DateTime ' + area] = df_time\n",
    "df_temp_2['Power_Wholesale_In'] = df_powerprices_values['SpotPriceEUR']\n",
    "df_temp_2['Power_Wholesale_Out'] = -1 * df_powerprices_values['SpotPriceEUR']\n",
    "df_temp_2['District_Heating'] = 0\n",
    "\n",
    "df_table_2 = pd.concat([df_blank_table_2, df_temp_2], ignore_index=True)\n",
    "#show table head for control\n",
    "df_table_2.head()"
   ]
  },
  {
   "cell_type": "markdown",
   "id": "df00bdab-f254-437f-b78d-d32b19e2f9db",
   "metadata": {},
   "source": [
    "#### Time Series Storage:"
   ]
  },
  {
   "cell_type": "code",
   "execution_count": null,
   "id": "54053fdf-7c8c-4cba-a2f0-8bfedb15c6c7",
   "metadata": {},
   "outputs": [],
   "source": [
    "#date index\n",
    "before = start_date-timedelta(hours=1)\n",
    "date_index_beginning = pd.date_range(start=before, end=start_date, freq='H')\n",
    "formatted_beginning = date_index_beginning.strftime('%Y-%m-%dT%H:%M:%S')\n",
    "df_formatted_beginning = pd.DataFrame(formatted_beginning, columns=['DateTime'])\n",
    "df_time_beginning = pd.DataFrame(df_formatted_beginning)\n",
    "#add one blank row\n",
    "new_row = pd.Series([])\n",
    "df_time_beginning = pd.concat([pd.DataFrame([new_row]), df_time_beginning]).reset_index(drop=True)\n",
    "\n",
    "#concat raw data with time index\n",
    "df_storage = pd.concat([df_time_beginning, df_storage_raw], axis=1)\n",
    "#show table head for control\n",
    "df_storage.head()"
   ]
  },
  {
   "cell_type": "code",
   "execution_count": null,
   "id": "b2fe3263-28ac-4dbb-81ab-3948680eb55b",
   "metadata": {},
   "outputs": [],
   "source": [
    "#date index\n",
    "before = start_date-timedelta(hours=1)\n",
    "date_index_beginning = pd.date_range(start=before, end=start_date, freq='H')\n",
    "formatted_beginning = date_index_beginning.strftime('%Y-%m-%dT%H:%M:%S')\n",
    "df_formatted_beginning = pd.DataFrame(formatted_beginning, columns=['DateTime'])\n",
    "df_time_beginning = pd.DataFrame(df_formatted_beginning)\n",
    "#add one blank row\n",
    "new_row = pd.Series([])\n",
    "df_time_beginning = pd.concat([pd.DataFrame([new_row]), df_time_beginning]).reset_index(drop=True)\n",
    "\n",
    "#Create storage\n",
    "selected_columns = ['Storage', 'node_state', 'value_before', 'value_start']\n",
    "table_B = df_model_storages[selected_columns]\n",
    "df_storage = table_B.transpose()\n",
    "df_storage.columns = df_storage.iloc[0]\n",
    "df_storage = df_storage[1:]\n",
    "\n",
    "#concat\n",
    "df_storage = pd.concat([df_time_beginning.reset_index(drop=True), df_storage.reset_index(drop=True)], axis=1)\n",
    "#show table for control\n",
    "df_storage"
   ]
  },
  {
   "cell_type": "markdown",
   "id": "89b971c4",
   "metadata": {},
   "source": [
    "#### Model relations:"
   ]
  },
  {
   "cell_type": "code",
   "execution_count": null,
   "id": "ccf465d5",
   "metadata": {},
   "outputs": [],
   "source": [
    "#Writing definition of model components\n",
    "column_names_model_components = {'Object_class_name':['model','temporal_block','stochastic_scenario', 'stochastic_structure', 'report'],\n",
    "                      'Object_name': [model_name, temporal_block, stochastic_scenario, stochastic_structure, report_name]}\n",
    "df_model_components = pd.DataFrame(column_names_model_components, index=None)\n",
    "#outputs:\n",
    "df_outputs = pd.DataFrame({\n",
    "    'Object_class_name': ['output']*len(reports),\n",
    "    'Object_name': reports\n",
    "})\n",
    "df_model_components = pd.concat([df_model_components, df_outputs], axis=0)\n",
    "df_model_components = df_model_components.reset_index(drop=True)"
   ]
  },
  {
   "cell_type": "code",
   "execution_count": null,
   "id": "c335dd9b",
   "metadata": {},
   "outputs": [],
   "source": [
    "#reports\n",
    "column_names_model_structure = {'Object_class_name':['model','temporal_block','stochastic_scenario', 'stochastic_structure', 'report'],\n",
    "                      'Object_name': [model_name, temporal_block, stochastic_scenario, stochastic_structure, report_name]}\n",
    "df_reports = pd.DataFrame({\n",
    "    'Relationship_class_name': ['report__output']*len(reports),\n",
    "    'Object_class_name_1': ['report']*len(reports),\n",
    "    'Object_class_name_2': ['output']*len(reports),\n",
    "    'Object_name_1': [report_name]*len(reports),\n",
    "    'Object_name_2': reports\n",
    "})\n",
    "#everything else\n",
    "df_model_struc = pd.DataFrame({\n",
    "    'Relationship_class_name': ['model__temporal_block','model__default_temporal_block', \n",
    "                                'model__stochastic_structure', 'model__default_stochastic_structure',\n",
    "                                'stochastic_structure__stochastic_scenario', 'model__report'],\n",
    "    'Object_class_name_1': ['model','model','model','model','stochastic_structure','model'],\n",
    "    'Object_class_name_2': ['temporal_block', 'temporal_block','stochastic_structure','stochastic_structure', 'stochastic_scenario','report'],\n",
    "    'Object_name_1': [model_name, model_name,model_name,model_name,stochastic_structure, model_name],\n",
    "    'Object_name_2': [temporal_block, temporal_block, stochastic_structure, stochastic_structure, stochastic_scenario, report_name]\n",
    "})\n",
    "df_model_relations = pd.concat([df_model_struc, df_reports], axis=0)\n",
    "df_model_relations = df_model_relations.reset_index(drop=True)\n",
    "#show table head for control\n",
    "df_model_relations"
   ]
  },
  {
   "cell_type": "markdown",
   "id": "892b88dc-3a5b-41c5-b184-64593c28c72c",
   "metadata": {},
   "source": [
    "#### Model:"
   ]
  },
  {
   "cell_type": "code",
   "execution_count": null,
   "id": "3960d14b-394b-4599-9e1e-8831aa59e6f8",
   "metadata": {},
   "outputs": [],
   "source": [
    "### take first 3 columns and add another table with \"Alternative\", \"Value\"\n",
    "column_names_model = {'Object_class_name':['model','model','temporal_block'],\n",
    "                      'Object_name': [model_name, model_name, temporal_block],\n",
    "                      'Parameter':['model_start','model_end','resolution'],\n",
    "                      'Alternative': [scenario, scenario, scenario],\n",
    "                      'Value': ['{\"type\": \"date_time\", \"data\": \"'+df_time.iloc[0]['DateTime']+'\"}',\n",
    "                          '{\"type\": \"date_time\", \"data\": \"'+df_time.iloc[-1]['DateTime']+'\"}', \n",
    "                          '{\"type\":\"duration\", \"data\": \"'+frequency+'\"}']}\n",
    "df_model = pd.DataFrame(column_names_model, index=None)\n",
    "#show table head for control\n",
    "df_model.head()"
   ]
  },
  {
   "cell_type": "markdown",
   "id": "18dfbf3e-1928-4547-8b3a-dac782ca46a3",
   "metadata": {},
   "source": [
    "### Creating one combined excel and export"
   ]
  },
  {
   "cell_type": "code",
   "execution_count": null,
   "id": "5523a4cd-ad6f-44d6-993d-3ebaf00680c2",
   "metadata": {},
   "outputs": [],
   "source": [
    "#create the prepared input excel for the use in SpineToolbox\n",
    "with pd.ExcelWriter(output_file_path + output_file_name) as writer:\n",
    "    df_definition.to_excel(writer, sheet_name='Definition', index=False)\n",
    "    df_nodes.to_excel(writer, sheet_name='Nodes', index=False)\n",
    "    df_connections.to_excel(writer, sheet_name='Connections', index=False)\n",
    "    df_object__node_definitions.to_excel(writer, sheet_name='Object__to_from_node_definition', index=False)\n",
    "    df_object__node_values.to_excel(writer, sheet_name='Object__to_from_node', index=False)\n",
    "    df_object_node_node.to_excel(writer, sheet_name='Object__node_node', index=False)\n",
    "    df_variable_efficiency.to_excel(writer, sheet_name='Variable_Eff', index=False)\n",
    "    df_storage.to_excel(writer, sheet_name='Time_series_storage', index=False)\n",
    "    df_table_1.to_excel(writer, sheet_name='Demand', index=False)\n",
    "    df_table_2.to_excel(writer, sheet_name='Energy_prices', index=False)\n",
    "    df_model_components.to_excel(writer, sheet_name='Model_components', index=False)\n",
    "    df_model_relations.to_excel(writer, sheet_name='Model_relations', index=False)\n",
    "    df_model.to_excel(writer, sheet_name='Model', index=False)"
   ]
  },
  {
   "cell_type": "code",
   "execution_count": null,
   "id": "535ea69a-023a-4b1b-940a-ca74a790a083",
   "metadata": {},
   "outputs": [],
   "source": []
  }
 ],
 "metadata": {
  "kernelspec": {
   "display_name": "Python 3 (ipykernel)",
   "language": "python",
   "name": "python3"
  },
  "language_info": {
   "codemirror_mode": {
    "name": "ipython",
    "version": 3
   },
   "file_extension": ".py",
   "mimetype": "text/x-python",
   "name": "python",
   "nbconvert_exporter": "python",
   "pygments_lexer": "ipython3",
   "version": "3.11.5"
  }
 },
 "nbformat": 4,
 "nbformat_minor": 5
}
