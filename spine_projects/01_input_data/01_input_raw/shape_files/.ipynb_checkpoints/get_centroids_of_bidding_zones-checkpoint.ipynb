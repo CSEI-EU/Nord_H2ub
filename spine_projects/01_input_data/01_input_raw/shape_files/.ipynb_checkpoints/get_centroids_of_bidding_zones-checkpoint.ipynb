{
 "cells": [
  {
   "cell_type": "markdown",
   "id": "93d8f4e3-21d5-48ce-9418-d0b25633037d",
   "metadata": {},
   "source": [
    "# Extraction of the location of RES time series for the Nord_H2ub Spine Model"
   ]
  },
  {
   "cell_type": "markdown",
   "id": "a60ba805-ec4f-412f-b52e-6d1a7f3c36fb",
   "metadata": {},
   "source": [
    "This file extracts the geographical centres of the bidding zones of the Nordics.\n",
    "\n",
    "The locations are then used to get the time series of onshore wind and PV. \n",
    "\n",
    "**Authors**: Johannes Giehl (jfg.eco@cbs.dk)"
   ]
  },
  {
   "cell_type": "code",
   "execution_count": 4,
   "id": "885dd7c7-848b-45f7-901c-695e848b928a",
   "metadata": {},
   "outputs": [],
   "source": [
    "import geopandas as gpd"
   ]
  },
  {
   "cell_type": "code",
   "execution_count": 3,
   "id": "b1531cff-042f-4596-87db-01e33df29e6a",
   "metadata": {},
   "outputs": [
    {
     "ename": "NameError",
     "evalue": "name 'gpd' is not defined",
     "output_type": "error",
     "traceback": [
      "\u001b[1;31m---------------------------------------------------------------------------\u001b[0m",
      "\u001b[1;31mNameError\u001b[0m                                 Traceback (most recent call last)",
      "Cell \u001b[1;32mIn[3], line 1\u001b[0m\n\u001b[1;32m----> 1\u001b[0m bidding_zones \u001b[38;5;241m=\u001b[39m \u001b[43mgpd\u001b[49m\u001b[38;5;241m.\u001b[39mread_file(\u001b[38;5;124m'\u001b[39m\u001b[38;5;124mworld.geojson\u001b[39m\u001b[38;5;124m'\u001b[39m)\n",
      "\u001b[1;31mNameError\u001b[0m: name 'gpd' is not defined"
     ]
    }
   ],
   "source": [
    "bidding_zones = gpd.read_file('world.geojson')"
   ]
  },
  {
   "cell_type": "code",
   "execution_count": null,
   "id": "5eaad107-386c-4fd3-9dcf-bb0255bc1786",
   "metadata": {},
   "outputs": [],
   "source": []
  }
 ],
 "metadata": {
  "kernelspec": {
   "display_name": "Python 3 (ipykernel)",
   "language": "python",
   "name": "python3"
  },
  "language_info": {
   "codemirror_mode": {
    "name": "ipython",
    "version": 3
   },
   "file_extension": ".py",
   "mimetype": "text/x-python",
   "name": "python",
   "nbconvert_exporter": "python",
   "pygments_lexer": "ipython3",
   "version": "3.11.7"
  }
 },
 "nbformat": 4,
 "nbformat_minor": 5
}
