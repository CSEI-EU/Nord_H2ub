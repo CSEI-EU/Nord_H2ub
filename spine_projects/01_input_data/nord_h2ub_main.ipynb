{
 "cells": [
  {
   "cell_type": "markdown",
   "id": "43ea4b8f-0ba4-4513-8872-53f4a538a0d3",
   "metadata": {},
   "source": [
    "# Data Preparation for the Nord_H2ub Spine Model"
   ]
  },
  {
   "cell_type": "markdown",
   "id": "1aa86773-4431-4a2f-9490-4b3cf0aa8d70",
   "metadata": {},
   "source": [
    "This jupyter notebook contains all routines for the preparation of the input data sources into a input data file for the model in Spine. \n",
    "\n",
    "**Authors:** Johannes Giehl (jfg.eco@cbs.dk), Dana Hentschel (djh.eco@cbs.dk)"
   ]
  },
  {
   "cell_type": "markdown",
   "id": "eb8175ae-f246-4788-a309-c1a4890992f2",
   "metadata": {},
   "source": [
    "## General settings"
   ]
  },
  {
   "cell_type": "markdown",
   "id": "af14f70f",
   "metadata": {},
   "source": [
    "### Import Packages:"
   ]
  },
  {
   "cell_type": "code",
   "execution_count": 1,
   "id": "38a26c13-5700-414c-ab72-2a07690f1802",
   "metadata": {},
   "outputs": [
    {
     "name": "stdout",
     "output_type": "stream",
     "text": [
      "Custom functions imported successfully.\n"
     ]
    }
   ],
   "source": [
    "from nord_h2ub_hexhex import *"
   ]
  },
  {
   "cell_type": "markdown",
   "id": "0e5bdb21",
   "metadata": {},
   "source": [
    "### Query to define parameters:"
   ]
  },
  {
   "cell_type": "code",
   "execution_count": 2,
   "id": "8489619f-5906-4f62-bc7b-4c6868b1e950",
   "metadata": {},
   "outputs": [
    {
     "data": {
      "application/vnd.jupyter.widget-view+json": {
       "model_id": "4edd6b4cbf74408faf1f7d026260e225",
       "version_major": 2,
       "version_minor": 0
      },
      "text/plain": [
       "Tab(children=(VBox(children=(HTML(value='<b>Section 1: Please define the parameters of the general model</b>')…"
      ]
     },
     "metadata": {},
     "output_type": "display_data"
    }
   ],
   "source": [
    "# Example usage\n",
    "combined_tabs, dropdowns = create_combined_dropdowns_tabs()"
   ]
  },
  {
   "cell_type": "code",
   "execution_count": 3,
   "id": "8d858aa9-b613-4861-9ad8-1aa82e8be8fa",
   "metadata": {},
   "outputs": [
    {
     "data": {
      "text/plain": [
       "{'model_name': 'Model',\n",
       " 'year': 2020,\n",
       " 'price_zone': None,\n",
       " 'product': None,\n",
       " 'electrolysis': None,\n",
       " 'frequency': '1h',\n",
       " 'temporal_block': 'hourly',\n",
       " 'roll_forward': False,\n",
       " 'candidate_nonzero': True,\n",
       " 'default_investment_period': '1Y',\n",
       " 'share_of_dh_price_cap': 0.5,\n",
       " 'number_price_level_power': 1.0,\n",
       " 'power_price_variance': 1,\n",
       " 'num_slices': 12,\n",
       " 'des_segments_electrolyzer': 3,\n",
       " 'base_scen': 'Base',\n",
       " 'other_scen': '',\n",
       " 'stoch_scen': 'realisation',\n",
       " 'stoch_struc': 'deterministic',\n",
       " 'report_name': 'Report',\n",
       " 'outputs': ['unit_flow_op',\n",
       "  'unit_flow',\n",
       "  'total_costs',\n",
       "  'node_slack_pos',\n",
       "  'connection_flow',\n",
       "  'node_state',\n",
       "  'node_slack_neg']}"
      ]
     },
     "execution_count": 3,
     "metadata": {},
     "output_type": "execute_result"
    }
   ],
   "source": [
    "#get the values after setting the inputs by the user\n",
    "values = get_dropdown_values(dropdowns)\n",
    "\n",
    "#Calculate remaining values based on inputs\n",
    "#calc_values = compute_other_values(values)\n",
    "values"
   ]
  },
  {
   "cell_type": "markdown",
   "id": "ad677838",
   "metadata": {},
   "source": [
    "### Dictionary:"
   ]
  },
  {
   "cell_type": "code",
   "execution_count": 4,
   "id": "9338bd4e",
   "metadata": {},
   "outputs": [],
   "source": [
    "parameters = {\n",
    "    'year': values['year'],\n",
    "    'area': values['price_zone'],\n",
    "    'product': values['product'],\n",
    "    'scenario': [values['base_scen']] + values['other_scen'].split('\\n'),\n",
    "    'frequency': values['frequency'],\n",
    "    'model_name': values['model_name'],\n",
    "    'temporal_block': values['temporal_block'],\n",
    "    'stochastic_scenario': values['stoch_scen'],\n",
    "    'stochastic_structure': values['stoch_struc'],\n",
    "    'report_name': values['report_name'],\n",
    "    'reports': values['outputs'],\n",
    "    'electrolyzer_type': values['electrolysis'],\n",
    "    'des_segments_electrolyzer': values['des_segments_electrolyzer'],\n",
    "    'share_of_dh_price_cap': values['share_of_dh_price_cap'],\n",
    "    'price_level_power': values['number_price_level_power'],\n",
    "    'power_price_variance': values['power_price_variance'],\n",
    "    'roll_forward_use': values['roll_forward'],\n",
    "    'candidate_nonzero': values['candidate_nonzero'],\n",
    "    'default_investment_period': values['default_investment_period'],\n",
    "    'num_slices': values['num_slices']\n",
    "}"
   ]
  },
  {
   "cell_type": "code",
   "execution_count": 5,
   "id": "36fe3157",
   "metadata": {},
   "outputs": [],
   "source": [
    "with open('00_functions\\\\parameters.pkl', 'wb') as file:\n",
    "    pickle.dump(parameters, file)"
   ]
  },
  {
   "cell_type": "markdown",
   "id": "7c33f6fe",
   "metadata": {},
   "source": [
    "### Execute standard routine:"
   ]
  },
  {
   "cell_type": "code",
   "execution_count": 6,
   "id": "5dd46cac",
   "metadata": {},
   "outputs": [
    {
     "data": {
      "application/vnd.jupyter.widget-view+json": {
       "model_id": "d6cb43ab2190418dba549d972f15b8ec",
       "version_major": 2,
       "version_minor": 0
      },
      "text/plain": [
       "Executing:   0%|          | 0/80 [00:00<?, ?cell/s]"
      ]
     },
     "metadata": {},
     "output_type": "display_data"
    },
    {
     "ename": "PapermillExecutionError",
     "evalue": "\n---------------------------------------------------------------------------\nException encountered at \"In [51]\":\n---------------------------------------------------------------------------\nPermissionError                           Traceback (most recent call last)\nCell In[51], line 2\n      1 #create the prepared input excel for the use in SpineToolbox\n----> 2 with pd.ExcelWriter(output_file_path + output_file_name) as writer:\n      3     df_definition.to_excel(writer, sheet_name='Definition', index=False)\n      4     unit_parameters_rest_df.to_excel(writer, sheet_name='Definition_parameters', index=False)\n\nFile ~\\AppData\\Local\\anaconda3\\envs\\py39\\lib\\site-packages\\pandas\\io\\excel\\_openpyxl.py:61, in OpenpyxlWriter.__init__(self, path, engine, date_format, datetime_format, mode, storage_options, if_sheet_exists, engine_kwargs, **kwargs)\n     57 from openpyxl.workbook import Workbook\n     59 engine_kwargs = combine_kwargs(engine_kwargs, kwargs)\n---> 61 super().__init__(\n     62     path,\n     63     mode=mode,\n     64     storage_options=storage_options,\n     65     if_sheet_exists=if_sheet_exists,\n     66     engine_kwargs=engine_kwargs,\n     67 )\n     69 # ExcelWriter replaced \"a\" by \"r+\" to allow us to first read the excel file from\n     70 # the file and later write to it\n     71 if \"r+\" in self._mode:  # Load from existing workbook\n\nFile ~\\AppData\\Local\\anaconda3\\envs\\py39\\lib\\site-packages\\pandas\\io\\excel\\_base.py:1246, in ExcelWriter.__init__(self, path, engine, date_format, datetime_format, mode, storage_options, if_sheet_exists, engine_kwargs)\n   1242 self._handles = IOHandles(\n   1243     cast(IO[bytes], path), compression={\"compression\": None}\n   1244 )\n   1245 if not isinstance(path, ExcelWriter):\n-> 1246     self._handles = get_handle(\n   1247         path, mode, storage_options=storage_options, is_text=False\n   1248     )\n   1249 self._cur_sheet = None\n   1251 if date_format is None:\n\nFile ~\\AppData\\Local\\anaconda3\\envs\\py39\\lib\\site-packages\\pandas\\io\\common.py:882, in get_handle(path_or_buf, mode, encoding, compression, memory_map, is_text, errors, storage_options)\n    873         handle = open(\n    874             handle,\n    875             ioargs.mode,\n   (...)\n    878             newline=\"\",\n    879         )\n    880     else:\n    881         # Binary mode\n--> 882         handle = open(handle, ioargs.mode)\n    883     handles.append(handle)\n    885 # Convert BytesIO or file objects passed with an encoding\n\nPermissionError: [Errno 13] Permission denied: 'C:/Users/luc.eco/OneDrive - CBS - Copenhagen Business School/Documents/GitHub/Nord_H2ub/Spine_Projects/01_input_data/02_input_prepared/methanol_Input_prepared.xlsx'\n",
     "output_type": "error",
     "traceback": [
      "\u001b[1;31m---------------------------------------------------------------------------\u001b[0m",
      "\u001b[1;31mPapermillExecutionError\u001b[0m                   Traceback (most recent call last)",
      "Cell \u001b[1;32mIn[6], line 1\u001b[0m\n\u001b[1;32m----> 1\u001b[0m \u001b[43mpm\u001b[49m\u001b[38;5;241;43m.\u001b[39;49m\u001b[43mexecute_notebook\u001b[49m\u001b[43m(\u001b[49m\n\u001b[0;32m      2\u001b[0m \u001b[43m    \u001b[49m\u001b[38;5;124;43m'\u001b[39;49m\u001b[38;5;124;43m00_functions\u001b[39;49m\u001b[38;5;130;43;01m\\\\\u001b[39;49;00m\u001b[38;5;124;43mdata_preparation_nord_h2ub_spine.ipynb\u001b[39;49m\u001b[38;5;124;43m'\u001b[39;49m\u001b[43m,\u001b[49m\n\u001b[0;32m      3\u001b[0m \u001b[43m    \u001b[49m\u001b[38;5;124;43m'\u001b[39;49m\u001b[38;5;124;43m00_functions\u001b[39;49m\u001b[38;5;130;43;01m\\\\\u001b[39;49;00m\u001b[38;5;124;43mplease_ignore.ipynb\u001b[39;49m\u001b[38;5;124;43m'\u001b[39;49m\u001b[43m,\u001b[49m\n\u001b[0;32m      4\u001b[0m \u001b[43m)\u001b[49m\n",
      "File \u001b[1;32m~\\AppData\\Local\\anaconda3\\envs\\py39\\lib\\site-packages\\papermill\\execute.py:131\u001b[0m, in \u001b[0;36mexecute_notebook\u001b[1;34m(input_path, output_path, parameters, engine_name, request_save_on_cell_execute, prepare_only, kernel_name, language, progress_bar, log_output, stdout_file, stderr_file, start_timeout, report_mode, cwd, **engine_kwargs)\u001b[0m\n\u001b[0;32m    116\u001b[0m         nb \u001b[38;5;241m=\u001b[39m papermill_engines\u001b[38;5;241m.\u001b[39mexecute_notebook_with_engine(\n\u001b[0;32m    117\u001b[0m             engine_name,\n\u001b[0;32m    118\u001b[0m             nb,\n\u001b[1;32m   (...)\u001b[0m\n\u001b[0;32m    127\u001b[0m             \u001b[38;5;241m*\u001b[39m\u001b[38;5;241m*\u001b[39mengine_kwargs,\n\u001b[0;32m    128\u001b[0m         )\n\u001b[0;32m    130\u001b[0m     \u001b[38;5;66;03m# Check for errors first (it saves on error before raising)\u001b[39;00m\n\u001b[1;32m--> 131\u001b[0m     \u001b[43mraise_for_execution_errors\u001b[49m\u001b[43m(\u001b[49m\u001b[43mnb\u001b[49m\u001b[43m,\u001b[49m\u001b[43m \u001b[49m\u001b[43moutput_path\u001b[49m\u001b[43m)\u001b[49m\n\u001b[0;32m    133\u001b[0m \u001b[38;5;66;03m# Write final output in case the engine didn't write it on cell completion.\u001b[39;00m\n\u001b[0;32m    134\u001b[0m write_ipynb(nb, output_path)\n",
      "File \u001b[1;32m~\\AppData\\Local\\anaconda3\\envs\\py39\\lib\\site-packages\\papermill\\execute.py:251\u001b[0m, in \u001b[0;36mraise_for_execution_errors\u001b[1;34m(nb, output_path)\u001b[0m\n\u001b[0;32m    248\u001b[0m nb\u001b[38;5;241m.\u001b[39mcells\u001b[38;5;241m.\u001b[39minsert(\u001b[38;5;241m0\u001b[39m, error_msg_cell)\n\u001b[0;32m    250\u001b[0m write_ipynb(nb, output_path)\n\u001b[1;32m--> 251\u001b[0m \u001b[38;5;28;01mraise\u001b[39;00m error\n",
      "\u001b[1;31mPapermillExecutionError\u001b[0m: \n---------------------------------------------------------------------------\nException encountered at \"In [51]\":\n---------------------------------------------------------------------------\nPermissionError                           Traceback (most recent call last)\nCell In[51], line 2\n      1 #create the prepared input excel for the use in SpineToolbox\n----> 2 with pd.ExcelWriter(output_file_path + output_file_name) as writer:\n      3     df_definition.to_excel(writer, sheet_name='Definition', index=False)\n      4     unit_parameters_rest_df.to_excel(writer, sheet_name='Definition_parameters', index=False)\n\nFile ~\\AppData\\Local\\anaconda3\\envs\\py39\\lib\\site-packages\\pandas\\io\\excel\\_openpyxl.py:61, in OpenpyxlWriter.__init__(self, path, engine, date_format, datetime_format, mode, storage_options, if_sheet_exists, engine_kwargs, **kwargs)\n     57 from openpyxl.workbook import Workbook\n     59 engine_kwargs = combine_kwargs(engine_kwargs, kwargs)\n---> 61 super().__init__(\n     62     path,\n     63     mode=mode,\n     64     storage_options=storage_options,\n     65     if_sheet_exists=if_sheet_exists,\n     66     engine_kwargs=engine_kwargs,\n     67 )\n     69 # ExcelWriter replaced \"a\" by \"r+\" to allow us to first read the excel file from\n     70 # the file and later write to it\n     71 if \"r+\" in self._mode:  # Load from existing workbook\n\nFile ~\\AppData\\Local\\anaconda3\\envs\\py39\\lib\\site-packages\\pandas\\io\\excel\\_base.py:1246, in ExcelWriter.__init__(self, path, engine, date_format, datetime_format, mode, storage_options, if_sheet_exists, engine_kwargs)\n   1242 self._handles = IOHandles(\n   1243     cast(IO[bytes], path), compression={\"compression\": None}\n   1244 )\n   1245 if not isinstance(path, ExcelWriter):\n-> 1246     self._handles = get_handle(\n   1247         path, mode, storage_options=storage_options, is_text=False\n   1248     )\n   1249 self._cur_sheet = None\n   1251 if date_format is None:\n\nFile ~\\AppData\\Local\\anaconda3\\envs\\py39\\lib\\site-packages\\pandas\\io\\common.py:882, in get_handle(path_or_buf, mode, encoding, compression, memory_map, is_text, errors, storage_options)\n    873         handle = open(\n    874             handle,\n    875             ioargs.mode,\n   (...)\n    878             newline=\"\",\n    879         )\n    880     else:\n    881         # Binary mode\n--> 882         handle = open(handle, ioargs.mode)\n    883     handles.append(handle)\n    885 # Convert BytesIO or file objects passed with an encoding\n\nPermissionError: [Errno 13] Permission denied: 'C:/Users/luc.eco/OneDrive - CBS - Copenhagen Business School/Documents/GitHub/Nord_H2ub/Spine_Projects/01_input_data/02_input_prepared/methanol_Input_prepared.xlsx'\n"
     ]
    }
   ],
   "source": [
    "pm.execute_notebook(\n",
    "    '00_functions\\\\data_preparation_nord_h2ub_spine.ipynb',\n",
    "    '00_functions\\\\please_ignore.ipynb',\n",
    ")"
   ]
  },
  {
   "cell_type": "markdown",
   "id": "4e373864-9c5f-4caa-90f3-d4a61a51b0f7",
   "metadata": {},
   "source": [
    "### Finish and Exit the process:\n",
    "\n",
    "- after executing the cell you can go back to SpineToolbox"
   ]
  },
  {
   "cell_type": "code",
   "execution_count": 3,
   "id": "43793fa1-9b3d-4c08-9cab-c7f0ceb2ee09",
   "metadata": {},
   "outputs": [
    {
     "ename": "NameError",
     "evalue": "name 'avada_kedavra' is not defined",
     "output_type": "error",
     "traceback": [
      "\u001b[1;31m---------------------------------------------------------------------------\u001b[0m",
      "\u001b[1;31mNameError\u001b[0m                                 Traceback (most recent call last)",
      "Cell \u001b[1;32mIn[3], line 1\u001b[0m\n\u001b[1;32m----> 1\u001b[0m \u001b[43mavada_kedavra\u001b[49m()\n",
      "\u001b[1;31mNameError\u001b[0m: name 'avada_kedavra' is not defined"
     ]
    }
   ],
   "source": [
    "avada_kedavra()"
   ]
  },
  {
   "cell_type": "code",
   "execution_count": null,
   "id": "25c729e5-b5cc-4875-97ca-bb03ded6f0eb",
   "metadata": {},
   "outputs": [],
   "source": []
  }
 ],
 "metadata": {
  "kernelspec": {
   "display_name": "Python 3 (ipykernel)",
   "language": "python",
   "name": "python3"
  },
  "language_info": {
   "codemirror_mode": {
    "name": "ipython",
    "version": 3
   },
   "file_extension": ".py",
   "mimetype": "text/x-python",
   "name": "python",
   "nbconvert_exporter": "python",
   "pygments_lexer": "ipython3",
   "version": "3.9.19"
  }
 },
 "nbformat": 4,
 "nbformat_minor": 5
}
