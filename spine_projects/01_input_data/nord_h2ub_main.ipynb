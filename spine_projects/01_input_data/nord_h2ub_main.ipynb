{
 "cells": [
  {
   "cell_type": "markdown",
   "id": "43ea4b8f-0ba4-4513-8872-53f4a538a0d3",
   "metadata": {},
   "source": [
    "# Data Preparation for the Nord_H2ub Spine Model"
   ]
  },
  {
   "cell_type": "markdown",
   "id": "1aa86773-4431-4a2f-9490-4b3cf0aa8d70",
   "metadata": {},
   "source": [
    "This jupyter notebook contains all routines for the preparation of the input data sources into a input data file for the model in Spine. \n",
    "\n",
    "**Authors:** Johannes Giehl (jfg.eco@cbs.dk), Dana Hentschel (djh.eco@cbs.dk)"
   ]
  },
  {
   "cell_type": "markdown",
   "id": "eb8175ae-f246-4788-a309-c1a4890992f2",
   "metadata": {},
   "source": [
    "## General settings"
   ]
  },
  {
   "cell_type": "markdown",
   "id": "af14f70f",
   "metadata": {},
   "source": [
    "### Import Packages:"
   ]
  },
  {
   "cell_type": "code",
   "execution_count": 1,
   "id": "38a26c13-5700-414c-ab72-2a07690f1802",
   "metadata": {},
   "outputs": [
    {
     "name": "stdout",
     "output_type": "stream",
     "text": [
      "Custom functions imported successfully.\n"
     ]
    }
   ],
   "source": [
    "from nord_h2ub_hexhex import *"
   ]
  },
  {
   "cell_type": "markdown",
   "id": "0e5bdb21",
   "metadata": {},
   "source": [
    "### Query to define parameters:"
   ]
  },
  {
   "cell_type": "code",
   "execution_count": 2,
   "id": "8489619f-5906-4f62-bc7b-4c6868b1e950",
   "metadata": {},
   "outputs": [
    {
     "data": {
      "application/vnd.jupyter.widget-view+json": {
       "model_id": "1e18fcde23504bdb883b47d143f7edc0",
       "version_major": 2,
       "version_minor": 0
      },
      "text/plain": [
       "Tab(children=(VBox(children=(HTML(value='<b>Section 1: Please define the parameters of the general model</b>')…"
      ]
     },
     "metadata": {},
     "output_type": "display_data"
    }
   ],
   "source": [
    "# Example usage\n",
    "combined_tabs, dropdowns = create_combined_dropdowns_tabs()"
   ]
  },
  {
   "cell_type": "code",
   "execution_count": 3,
   "id": "8d858aa9-b613-4861-9ad8-1aa82e8be8fa",
   "metadata": {},
   "outputs": [],
   "source": [
    "#get the values after setting the inputs by the user\n",
    "values = get_dropdown_values(dropdowns)\n",
    "\n",
    "#Calculate remaining values based on inputs\n",
    "#calc_values = compute_other_values(values)"
   ]
  },
  {
   "cell_type": "markdown",
   "id": "ad677838",
   "metadata": {},
   "source": [
    "### Dictionary:"
   ]
  },
  {
   "cell_type": "code",
   "execution_count": 4,
   "id": "9338bd4e",
   "metadata": {},
   "outputs": [],
   "source": [
    "parameters = {\n",
    "    'year': values['year'],\n",
    "    #should be moved to a function that can be used in the data prep script\n",
    "    #'start_date': calc_values['start_date'],\n",
    "    #'end_date': calc_values['end_date'],\n",
    "    'area': values['price_zone'],\n",
    "    'product': values['product'],\n",
    "    'scenario': [values['base_scen']] + values['other_scen'].split('\\n'),\n",
    "    'frequency': values['frequency'],\n",
    "    'model_name': values['model_name'],\n",
    "    'temporal_block': values['temporal_block'],\n",
    "    'stochastic_scenario': values['stoch_scen'],\n",
    "    'stochastic_structure': values['stoch_struc'],\n",
    "    'report_name': values['report_name'],\n",
    "    'reports': values['outputs'],\n",
    "    'electrolyzer_type': values['electrolysis'],\n",
    "    'des_segments_electrolyzer': values['des_segments_electrolyzer'],\n",
    "    'share_of_dh_price_cap': values['share_of_dh_price_cap'],\n",
    "    'price_level_power': values['number_price_level_power'],\n",
    "    'power_price_variance': values['power_price_variance'],\n",
    "    'roll_forward_use': values['roll_forward'],\n",
    "    #should be moved to a function that can be used in the data prep script\n",
    "    #'roll_forward_size': calc_values['roll_forward_size'],\n",
    "    'num_slices': values['num_slices'],\n",
    "    #should be moved to a function that can be used in the data prep script\n",
    "    #'num_steps': calc_values['num_steps']\n",
    "}"
   ]
  },
  {
   "cell_type": "markdown",
   "id": "7c33f6fe",
   "metadata": {},
   "source": [
    "### Execute standard routine:"
   ]
  },
  {
   "cell_type": "code",
   "execution_count": 5,
   "id": "62479679",
   "metadata": {},
   "outputs": [
    {
     "name": "stderr",
     "output_type": "stream",
     "text": [
      "Passed unknown parameter: year\n",
      "Passed unknown parameter: area\n",
      "Passed unknown parameter: product\n",
      "Passed unknown parameter: scenario\n",
      "Passed unknown parameter: frequency\n",
      "Passed unknown parameter: model_name\n",
      "Passed unknown parameter: temporal_block\n",
      "Passed unknown parameter: stochastic_scenario\n",
      "Passed unknown parameter: stochastic_structure\n",
      "Passed unknown parameter: report_name\n",
      "Passed unknown parameter: reports\n",
      "Passed unknown parameter: electrolyzer_type\n",
      "Passed unknown parameter: des_segments_electrolyzer\n",
      "Passed unknown parameter: share_of_dh_price_cap\n",
      "Passed unknown parameter: price_level_power\n",
      "Passed unknown parameter: power_price_variance\n",
      "Passed unknown parameter: roll_forward_use\n",
      "Passed unknown parameter: num_slices\n",
      "Input notebook does not contain a cell with tag 'parameters'\n"
     ]
    },
    {
     "data": {
      "application/vnd.jupyter.widget-view+json": {
       "model_id": "f5c919d838a747878a5106729ba34d05",
       "version_major": 2,
       "version_minor": 0
      },
      "text/plain": [
       "Executing:   0%|          | 0/86 [00:00<?, ?cell/s]"
      ]
     },
     "metadata": {},
     "output_type": "display_data"
    },
    {
     "ename": "PapermillExecutionError",
     "evalue": "\n---------------------------------------------------------------------------\nException encountered at \"In [11]\":\n---------------------------------------------------------------------------\nFileNotFoundError                         Traceback (most recent call last)\nCell In[11], line 19\n     17 df_investment_costs_raw = pd.read_excel(excel_file_path + product + investment_costs_file, sheet_name='Investment_Cost', index_col=None)\n     18 #Mapping between entity and parameter name\n---> 19 df_mapping = pd.read_excel(excel_file_path + product + mapping_file, sheet_name='Object_Mapping', index_col=None)\n\nFile ~\\AppData\\Local\\anaconda3\\envs\\py39\\lib\\site-packages\\pandas\\io\\excel\\_base.py:495, in read_excel(io, sheet_name, header, names, index_col, usecols, dtype, engine, converters, true_values, false_values, skiprows, nrows, na_values, keep_default_na, na_filter, verbose, parse_dates, date_parser, date_format, thousands, decimal, comment, skipfooter, storage_options, dtype_backend, engine_kwargs)\n    493 if not isinstance(io, ExcelFile):\n    494     should_close = True\n--> 495     io = ExcelFile(\n    496         io,\n    497         storage_options=storage_options,\n    498         engine=engine,\n    499         engine_kwargs=engine_kwargs,\n    500     )\n    501 elif engine and engine != io.engine:\n    502     raise ValueError(\n    503         \"Engine should not be specified when passing \"\n    504         \"an ExcelFile - ExcelFile already has the engine set\"\n    505     )\n\nFile ~\\AppData\\Local\\anaconda3\\envs\\py39\\lib\\site-packages\\pandas\\io\\excel\\_base.py:1550, in ExcelFile.__init__(self, path_or_buffer, engine, storage_options, engine_kwargs)\n   1548     ext = \"xls\"\n   1549 else:\n-> 1550     ext = inspect_excel_format(\n   1551         content_or_path=path_or_buffer, storage_options=storage_options\n   1552     )\n   1553     if ext is None:\n   1554         raise ValueError(\n   1555             \"Excel file format cannot be determined, you must specify \"\n   1556             \"an engine manually.\"\n   1557         )\n\nFile ~\\AppData\\Local\\anaconda3\\envs\\py39\\lib\\site-packages\\pandas\\io\\excel\\_base.py:1402, in inspect_excel_format(content_or_path, storage_options)\n   1399 if isinstance(content_or_path, bytes):\n   1400     content_or_path = BytesIO(content_or_path)\n-> 1402 with get_handle(\n   1403     content_or_path, \"rb\", storage_options=storage_options, is_text=False\n   1404 ) as handle:\n   1405     stream = handle.handle\n   1406     stream.seek(0)\n\nFile ~\\AppData\\Local\\anaconda3\\envs\\py39\\lib\\site-packages\\pandas\\io\\common.py:882, in get_handle(path_or_buf, mode, encoding, compression, memory_map, is_text, errors, storage_options)\n    873         handle = open(\n    874             handle,\n    875             ioargs.mode,\n   (...)\n    878             newline=\"\",\n    879         )\n    880     else:\n    881         # Binary mode\n--> 882         handle = open(handle, ioargs.mode)\n    883     handles.append(handle)\n    885 # Convert BytesIO or file objects passed with an encoding\n\nFileNotFoundError: [Errno 2] No such file or directory: 'C:/Users/luc.eco/OneDrive - CBS - Copenhagen Business School/Documents/GitHub/Nord_H2ub/Spine_Projects/01_input_data/01_input_raw/methanol/methanol_object_mapping.xlsx'\n",
     "output_type": "error",
     "traceback": [
      "\u001b[1;31m---------------------------------------------------------------------------\u001b[0m",
      "\u001b[1;31mPapermillExecutionError\u001b[0m                   Traceback (most recent call last)",
      "Cell \u001b[1;32mIn[5], line 1\u001b[0m\n\u001b[1;32m----> 1\u001b[0m \u001b[43mpm\u001b[49m\u001b[38;5;241;43m.\u001b[39;49m\u001b[43mexecute_notebook\u001b[49m\u001b[43m(\u001b[49m\n\u001b[0;32m      2\u001b[0m \u001b[43m    \u001b[49m\u001b[38;5;124;43m'\u001b[39;49m\u001b[38;5;124;43m00_functions\u001b[39;49m\u001b[38;5;130;43;01m\\\\\u001b[39;49;00m\u001b[38;5;124;43mdata_preparation_nord_h2ub_spine.ipynb\u001b[39;49m\u001b[38;5;124;43m'\u001b[39;49m\u001b[43m,\u001b[49m\n\u001b[0;32m      3\u001b[0m \u001b[43m    \u001b[49m\u001b[38;5;124;43m'\u001b[39;49m\u001b[38;5;124;43m00_functions\u001b[39;49m\u001b[38;5;130;43;01m\\\\\u001b[39;49;00m\u001b[38;5;124;43mplease_ignore.ipynb\u001b[39;49m\u001b[38;5;124;43m'\u001b[39;49m\u001b[43m,\u001b[49m\n\u001b[0;32m      4\u001b[0m \u001b[43m    \u001b[49m\u001b[43mparameters\u001b[49m\u001b[38;5;241;43m=\u001b[39;49m\u001b[43mparameters\u001b[49m\n\u001b[0;32m      5\u001b[0m \u001b[43m)\u001b[49m\n",
      "File \u001b[1;32m~\\AppData\\Local\\anaconda3\\envs\\py39\\lib\\site-packages\\papermill\\execute.py:131\u001b[0m, in \u001b[0;36mexecute_notebook\u001b[1;34m(input_path, output_path, parameters, engine_name, request_save_on_cell_execute, prepare_only, kernel_name, language, progress_bar, log_output, stdout_file, stderr_file, start_timeout, report_mode, cwd, **engine_kwargs)\u001b[0m\n\u001b[0;32m    116\u001b[0m         nb \u001b[38;5;241m=\u001b[39m papermill_engines\u001b[38;5;241m.\u001b[39mexecute_notebook_with_engine(\n\u001b[0;32m    117\u001b[0m             engine_name,\n\u001b[0;32m    118\u001b[0m             nb,\n\u001b[1;32m   (...)\u001b[0m\n\u001b[0;32m    127\u001b[0m             \u001b[38;5;241m*\u001b[39m\u001b[38;5;241m*\u001b[39mengine_kwargs,\n\u001b[0;32m    128\u001b[0m         )\n\u001b[0;32m    130\u001b[0m     \u001b[38;5;66;03m# Check for errors first (it saves on error before raising)\u001b[39;00m\n\u001b[1;32m--> 131\u001b[0m     \u001b[43mraise_for_execution_errors\u001b[49m\u001b[43m(\u001b[49m\u001b[43mnb\u001b[49m\u001b[43m,\u001b[49m\u001b[43m \u001b[49m\u001b[43moutput_path\u001b[49m\u001b[43m)\u001b[49m\n\u001b[0;32m    133\u001b[0m \u001b[38;5;66;03m# Write final output in case the engine didn't write it on cell completion.\u001b[39;00m\n\u001b[0;32m    134\u001b[0m write_ipynb(nb, output_path)\n",
      "File \u001b[1;32m~\\AppData\\Local\\anaconda3\\envs\\py39\\lib\\site-packages\\papermill\\execute.py:251\u001b[0m, in \u001b[0;36mraise_for_execution_errors\u001b[1;34m(nb, output_path)\u001b[0m\n\u001b[0;32m    248\u001b[0m nb\u001b[38;5;241m.\u001b[39mcells\u001b[38;5;241m.\u001b[39minsert(\u001b[38;5;241m0\u001b[39m, error_msg_cell)\n\u001b[0;32m    250\u001b[0m write_ipynb(nb, output_path)\n\u001b[1;32m--> 251\u001b[0m \u001b[38;5;28;01mraise\u001b[39;00m error\n",
      "\u001b[1;31mPapermillExecutionError\u001b[0m: \n---------------------------------------------------------------------------\nException encountered at \"In [11]\":\n---------------------------------------------------------------------------\nFileNotFoundError                         Traceback (most recent call last)\nCell In[11], line 19\n     17 df_investment_costs_raw = pd.read_excel(excel_file_path + product + investment_costs_file, sheet_name='Investment_Cost', index_col=None)\n     18 #Mapping between entity and parameter name\n---> 19 df_mapping = pd.read_excel(excel_file_path + product + mapping_file, sheet_name='Object_Mapping', index_col=None)\n\nFile ~\\AppData\\Local\\anaconda3\\envs\\py39\\lib\\site-packages\\pandas\\io\\excel\\_base.py:495, in read_excel(io, sheet_name, header, names, index_col, usecols, dtype, engine, converters, true_values, false_values, skiprows, nrows, na_values, keep_default_na, na_filter, verbose, parse_dates, date_parser, date_format, thousands, decimal, comment, skipfooter, storage_options, dtype_backend, engine_kwargs)\n    493 if not isinstance(io, ExcelFile):\n    494     should_close = True\n--> 495     io = ExcelFile(\n    496         io,\n    497         storage_options=storage_options,\n    498         engine=engine,\n    499         engine_kwargs=engine_kwargs,\n    500     )\n    501 elif engine and engine != io.engine:\n    502     raise ValueError(\n    503         \"Engine should not be specified when passing \"\n    504         \"an ExcelFile - ExcelFile already has the engine set\"\n    505     )\n\nFile ~\\AppData\\Local\\anaconda3\\envs\\py39\\lib\\site-packages\\pandas\\io\\excel\\_base.py:1550, in ExcelFile.__init__(self, path_or_buffer, engine, storage_options, engine_kwargs)\n   1548     ext = \"xls\"\n   1549 else:\n-> 1550     ext = inspect_excel_format(\n   1551         content_or_path=path_or_buffer, storage_options=storage_options\n   1552     )\n   1553     if ext is None:\n   1554         raise ValueError(\n   1555             \"Excel file format cannot be determined, you must specify \"\n   1556             \"an engine manually.\"\n   1557         )\n\nFile ~\\AppData\\Local\\anaconda3\\envs\\py39\\lib\\site-packages\\pandas\\io\\excel\\_base.py:1402, in inspect_excel_format(content_or_path, storage_options)\n   1399 if isinstance(content_or_path, bytes):\n   1400     content_or_path = BytesIO(content_or_path)\n-> 1402 with get_handle(\n   1403     content_or_path, \"rb\", storage_options=storage_options, is_text=False\n   1404 ) as handle:\n   1405     stream = handle.handle\n   1406     stream.seek(0)\n\nFile ~\\AppData\\Local\\anaconda3\\envs\\py39\\lib\\site-packages\\pandas\\io\\common.py:882, in get_handle(path_or_buf, mode, encoding, compression, memory_map, is_text, errors, storage_options)\n    873         handle = open(\n    874             handle,\n    875             ioargs.mode,\n   (...)\n    878             newline=\"\",\n    879         )\n    880     else:\n    881         # Binary mode\n--> 882         handle = open(handle, ioargs.mode)\n    883     handles.append(handle)\n    885 # Convert BytesIO or file objects passed with an encoding\n\nFileNotFoundError: [Errno 2] No such file or directory: 'C:/Users/luc.eco/OneDrive - CBS - Copenhagen Business School/Documents/GitHub/Nord_H2ub/Spine_Projects/01_input_data/01_input_raw/methanol/methanol_object_mapping.xlsx'\n"
     ]
    }
   ],
   "source": [
    "pm.execute_notebook(\n",
    "    '00_functions\\\\data_preparation_nord_h2ub_spine.ipynb',\n",
    "    '00_functions\\\\please_ignore.ipynb',\n",
    "    parameters=parameters\n",
    ")"
   ]
  },
  {
   "cell_type": "markdown",
   "id": "4e373864-9c5f-4caa-90f3-d4a61a51b0f7",
   "metadata": {},
   "source": [
    "### Finish and Exit the process:\n",
    "\n",
    "- after executing the cell you can go back to SpineToolbox"
   ]
  },
  {
   "cell_type": "code",
   "execution_count": null,
   "id": "43793fa1-9b3d-4c08-9cab-c7f0ceb2ee09",
   "metadata": {},
   "outputs": [],
   "source": [
    "avada_kedavra()"
   ]
  }
 ],
 "metadata": {
  "kernelspec": {
   "display_name": "python39_spinetoolbox",
   "language": "python",
   "name": "python39"
  },
  "language_info": {
   "codemirror_mode": {
    "name": "ipython",
    "version": 3
   },
   "file_extension": ".py",
   "mimetype": "text/x-python",
   "name": "python",
   "nbconvert_exporter": "python",
   "pygments_lexer": "ipython3",
   "version": "3.9.19"
  }
 },
 "nbformat": 4,
 "nbformat_minor": 5
}
