{
 "cells": [
  {
   "cell_type": "markdown",
   "id": "43ea4b8f-0ba4-4513-8872-53f4a538a0d3",
   "metadata": {},
   "source": [
    "# Data Preparation for the Nord_H2ub Spine Model"
   ]
  },
  {
   "cell_type": "markdown",
   "id": "1aa86773-4431-4a2f-9490-4b3cf0aa8d70",
   "metadata": {},
   "source": [
    "This jupyter notebook contains all routines for the preparation of the input data sources into a input data file for the model in Spine. \n",
    "\n",
    "**Authors:** Johannes Giehl (jfg.eco@cbs.dk), Dana Hentschel (djh.eco@cbs.dk)"
   ]
  },
  {
   "cell_type": "markdown",
   "id": "eb8175ae-f246-4788-a309-c1a4890992f2",
   "metadata": {},
   "source": [
    "## General settings"
   ]
  },
  {
   "cell_type": "markdown",
   "id": "af14f70f",
   "metadata": {},
   "source": [
    "### Import Packages:"
   ]
  },
  {
   "cell_type": "code",
   "execution_count": 1,
   "id": "38a26c13-5700-414c-ab72-2a07690f1802",
   "metadata": {},
   "outputs": [
    {
     "name": "stdout",
     "output_type": "stream",
     "text": [
      "Custom functions imported successfully.\n"
     ]
    }
   ],
   "source": [
    "from nord_h2ub_hexhex import *"
   ]
  },
  {
   "cell_type": "markdown",
   "id": "0e5bdb21",
   "metadata": {},
   "source": [
    "### Query to define parameters:"
   ]
  },
  {
   "cell_type": "code",
   "execution_count": 3,
   "id": "8489619f-5906-4f62-bc7b-4c6868b1e950",
   "metadata": {},
   "outputs": [
    {
     "data": {
      "application/vnd.jupyter.widget-view+json": {
       "model_id": "0994c735a7b04aed87eb1f28c36850fa",
       "version_major": 2,
       "version_minor": 0
      },
      "text/plain": [
       "Tab(children=(VBox(children=(HTML(value='<b>Section 1: Please define the parameters of the general model</b>')…"
      ]
     },
     "metadata": {},
     "output_type": "display_data"
    }
   ],
   "source": [
    "# Example usage\n",
    "combined_tabs, dropdowns = create_combined_dropdowns_tabs()"
   ]
  },
  {
   "cell_type": "code",
   "execution_count": 6,
   "id": "8d858aa9-b613-4861-9ad8-1aa82e8be8fa",
   "metadata": {},
   "outputs": [],
   "source": [
    "#get the values after setting the inputs by the user\n",
    "values = get_dropdown_values(dropdowns)\n",
    "\n",
    "#Calculate remaining values based on inputs\n",
    "#calc_values = compute_other_values(values)"
   ]
  },
  {
   "cell_type": "code",
   "execution_count": 8,
   "id": "c03adfed-4b15-4f23-915b-493ebeb84596",
   "metadata": {},
   "outputs": [
    {
     "data": {
      "text/plain": [
       "{'model_name': 'Model',\n",
       " 'year': 2020,\n",
       " 'price_zone': None,\n",
       " 'product': None,\n",
       " 'electrolysis': None,\n",
       " 'frequency': '1h',\n",
       " 'temporal_block': 'hourly',\n",
       " 'roll_forward': True,\n",
       " 'share_of_dh_price_cap': 0.5,\n",
       " 'number_price_level_power': 1.0,\n",
       " 'power_price_variance': 1.0,\n",
       " 'num_slices': 12.0,\n",
       " 'des_segments_electrolyzer': 3,\n",
       " 'base_scen': 'Base',\n",
       " 'other_scen': '',\n",
       " 'stoch_scen': 'realisation',\n",
       " 'stoch_struc': 'deterministic',\n",
       " 'report_name': 'Report',\n",
       " 'outputs': {'connection_flow',\n",
       "  'node_slack_neg',\n",
       "  'node_slack_pos',\n",
       "  'node_state',\n",
       "  'total_costs',\n",
       "  'unit_flow',\n",
       "  'unit_flow_op'}}"
      ]
     },
     "execution_count": 8,
     "metadata": {},
     "output_type": "execute_result"
    }
   ],
   "source": [
    "values"
   ]
  },
  {
   "cell_type": "code",
   "execution_count": 9,
   "id": "a097ec3f-281e-4553-855c-473c111c166d",
   "metadata": {},
   "outputs": [
    {
     "data": {
      "text/plain": [
       "{'start_date': Timestamp('2020-01-01 00:00:00'),\n",
       " 'end_date': Timestamp('2020-12-31 23:00:00'),\n",
       " 'datetime_index': DatetimeIndex(['2020-01-01 00:00:00', '2020-01-01 01:00:00',\n",
       "                '2020-01-01 02:00:00', '2020-01-01 03:00:00',\n",
       "                '2020-01-01 04:00:00', '2020-01-01 05:00:00',\n",
       "                '2020-01-01 06:00:00', '2020-01-01 07:00:00',\n",
       "                '2020-01-01 08:00:00', '2020-01-01 09:00:00',\n",
       "                ...\n",
       "                '2020-12-31 14:00:00', '2020-12-31 15:00:00',\n",
       "                '2020-12-31 16:00:00', '2020-12-31 17:00:00',\n",
       "                '2020-12-31 18:00:00', '2020-12-31 19:00:00',\n",
       "                '2020-12-31 20:00:00', '2020-12-31 21:00:00',\n",
       "                '2020-12-31 22:00:00', '2020-12-31 23:00:00'],\n",
       "               dtype='datetime64[ns]', length=8784, freq='h'),\n",
       " 'roll_forward_size': 732,\n",
       " 'temporal_block': 'hourly',\n",
       " 'num_steps': 8784}"
      ]
     },
     "execution_count": 9,
     "metadata": {},
     "output_type": "execute_result"
    }
   ],
   "source": [
    "calc_values"
   ]
  },
  {
   "cell_type": "markdown",
   "id": "ad677838",
   "metadata": {},
   "source": [
    "### Dictionary:"
   ]
  },
  {
   "cell_type": "code",
   "execution_count": 10,
   "id": "9338bd4e",
   "metadata": {},
   "outputs": [],
   "source": [
    "parameters = {\n",
    "    'year': values['year'],\n",
    "    #problem with the format\n",
    "    #'start_date': calc_values['start_date'],\n",
    "    #'end_date': calc_values['end_date'],\n",
    "    'area': values['price_zone'],\n",
    "    'product': values['product'],\n",
    "    'scenario': [values['base_scen']] + values['other_scen'].split('\\n'),\n",
    "    'frequency': values['frequency'],\n",
    "    'model_name': values['model_name'],\n",
    "    'temporal_block': values['temporal_block'],\n",
    "    'stochastic_scenario': values['stoch_scen'],\n",
    "    'stochastic_structure': values['stoch_struc'],\n",
    "    'report_name': values['report_name'],\n",
    "    #problem with the dict\n",
    "    #'reports': values['outputs'],\n",
    "    'electrolyzer_type': values['electrolysis'],\n",
    "    #problem this is not an int    \n",
    "    'des_segments_electrolyzer': values['des_segments_electrolyzer'],\n",
    "    'share_of_dh_price_cap': values['share_of_dh_price_cap'],\n",
    "    'price_level_power': values['number_price_level_power'],\n",
    "    'power_price_variance': values['power_price_variance'],\n",
    "    'roll_forward_use': values['roll_forward'],\n",
    "    #to be checked\n",
    "    #'roll_forward_size': calc_values['roll_forward_size'],\n",
    "    'num_slices': values['num_slices'],\n",
    "    #to be checked\n",
    "    #'num_steps': calc_values['num_steps']\n",
    "}"
   ]
  },
  {
   "cell_type": "markdown",
   "id": "7c33f6fe",
   "metadata": {},
   "source": [
    "### Execute standard routine:"
   ]
  },
  {
   "cell_type": "code",
   "execution_count": 12,
   "id": "62479679",
   "metadata": {},
   "outputs": [
    {
     "data": {
      "application/vnd.jupyter.widget-view+json": {
       "model_id": "89fc47acdd13485b9fac9939c03a5347",
       "version_major": 2,
       "version_minor": 0
      },
      "text/plain": [
       "Executing:   0%|          | 0/78 [00:00<?, ?cell/s]"
      ]
     },
     "metadata": {},
     "output_type": "display_data"
    },
    {
     "ename": "PapermillExecutionError",
     "evalue": "\n---------------------------------------------------------------------------\nException encountered at \"In [7]\":\n---------------------------------------------------------------------------\nTypeError                                 Traceback (most recent call last)\nCell In[7], line 11\n      8 data_powerprices = 'Day_ahead_prices_' + str(year) + '.xlsx'\n     10 #output file\n---> 11 output_file_name = product+'_Input_prepared.xlsx'\n     12 output_mapping_file_name = product+'_object_mapping.xlsx'\n\nTypeError: unsupported operand type(s) for +: 'NoneType' and 'str'\n",
     "output_type": "error",
     "traceback": [
      "\u001b[1;31m---------------------------------------------------------------------------\u001b[0m",
      "\u001b[1;31mPapermillExecutionError\u001b[0m                   Traceback (most recent call last)",
      "Cell \u001b[1;32mIn[12], line 1\u001b[0m\n\u001b[1;32m----> 1\u001b[0m \u001b[43mpm\u001b[49m\u001b[38;5;241;43m.\u001b[39;49m\u001b[43mexecute_notebook\u001b[49m\u001b[43m(\u001b[49m\n\u001b[0;32m      2\u001b[0m \u001b[43m    \u001b[49m\u001b[38;5;124;43m'\u001b[39;49m\u001b[38;5;124;43m00_functions\u001b[39;49m\u001b[38;5;130;43;01m\\\\\u001b[39;49;00m\u001b[38;5;124;43mdata_preparation_nord_h2ub_spine.ipynb\u001b[39;49m\u001b[38;5;124;43m'\u001b[39;49m\u001b[43m,\u001b[49m\n\u001b[0;32m      3\u001b[0m \u001b[43m    \u001b[49m\u001b[38;5;124;43m'\u001b[39;49m\u001b[38;5;124;43m00_functions\u001b[39;49m\u001b[38;5;130;43;01m\\\\\u001b[39;49;00m\u001b[38;5;124;43mplease_ignore.ipynb\u001b[39;49m\u001b[38;5;124;43m'\u001b[39;49m\u001b[43m,\u001b[49m\n\u001b[0;32m      4\u001b[0m \u001b[43m    \u001b[49m\u001b[43mparameters\u001b[49m\u001b[38;5;241;43m=\u001b[39;49m\u001b[43mparameters\u001b[49m\n\u001b[0;32m      5\u001b[0m \u001b[43m)\u001b[49m\n",
      "File \u001b[1;32m~\\AppData\\Local\\anaconda3\\envs\\Spineopt_py309\\lib\\site-packages\\papermill\\execute.py:131\u001b[0m, in \u001b[0;36mexecute_notebook\u001b[1;34m(input_path, output_path, parameters, engine_name, request_save_on_cell_execute, prepare_only, kernel_name, language, progress_bar, log_output, stdout_file, stderr_file, start_timeout, report_mode, cwd, **engine_kwargs)\u001b[0m\n\u001b[0;32m    116\u001b[0m         nb \u001b[38;5;241m=\u001b[39m papermill_engines\u001b[38;5;241m.\u001b[39mexecute_notebook_with_engine(\n\u001b[0;32m    117\u001b[0m             engine_name,\n\u001b[0;32m    118\u001b[0m             nb,\n\u001b[1;32m   (...)\u001b[0m\n\u001b[0;32m    127\u001b[0m             \u001b[38;5;241m*\u001b[39m\u001b[38;5;241m*\u001b[39mengine_kwargs,\n\u001b[0;32m    128\u001b[0m         )\n\u001b[0;32m    130\u001b[0m     \u001b[38;5;66;03m# Check for errors first (it saves on error before raising)\u001b[39;00m\n\u001b[1;32m--> 131\u001b[0m     \u001b[43mraise_for_execution_errors\u001b[49m\u001b[43m(\u001b[49m\u001b[43mnb\u001b[49m\u001b[43m,\u001b[49m\u001b[43m \u001b[49m\u001b[43moutput_path\u001b[49m\u001b[43m)\u001b[49m\n\u001b[0;32m    133\u001b[0m \u001b[38;5;66;03m# Write final output in case the engine didn't write it on cell completion.\u001b[39;00m\n\u001b[0;32m    134\u001b[0m write_ipynb(nb, output_path)\n",
      "File \u001b[1;32m~\\AppData\\Local\\anaconda3\\envs\\Spineopt_py309\\lib\\site-packages\\papermill\\execute.py:251\u001b[0m, in \u001b[0;36mraise_for_execution_errors\u001b[1;34m(nb, output_path)\u001b[0m\n\u001b[0;32m    248\u001b[0m nb\u001b[38;5;241m.\u001b[39mcells\u001b[38;5;241m.\u001b[39minsert(\u001b[38;5;241m0\u001b[39m, error_msg_cell)\n\u001b[0;32m    250\u001b[0m write_ipynb(nb, output_path)\n\u001b[1;32m--> 251\u001b[0m \u001b[38;5;28;01mraise\u001b[39;00m error\n",
      "\u001b[1;31mPapermillExecutionError\u001b[0m: \n---------------------------------------------------------------------------\nException encountered at \"In [7]\":\n---------------------------------------------------------------------------\nTypeError                                 Traceback (most recent call last)\nCell In[7], line 11\n      8 data_powerprices = 'Day_ahead_prices_' + str(year) + '.xlsx'\n     10 #output file\n---> 11 output_file_name = product+'_Input_prepared.xlsx'\n     12 output_mapping_file_name = product+'_object_mapping.xlsx'\n\nTypeError: unsupported operand type(s) for +: 'NoneType' and 'str'\n"
     ]
    }
   ],
   "source": [
    "pm.execute_notebook(\n",
    "    '00_functions\\\\data_preparation_nord_h2ub_spine.ipynb',\n",
    "    '00_functions\\\\please_ignore.ipynb',\n",
    "    parameters=parameters\n",
    ")"
   ]
  },
  {
   "cell_type": "markdown",
   "id": "4e373864-9c5f-4caa-90f3-d4a61a51b0f7",
   "metadata": {},
   "source": [
    "### Finish and Exit the process:\n",
    "\n",
    "- after executing the cell you can go back to SpineToolbox"
   ]
  },
  {
   "cell_type": "code",
   "execution_count": null,
   "id": "43793fa1-9b3d-4c08-9cab-c7f0ceb2ee09",
   "metadata": {},
   "outputs": [],
   "source": [
    "avada_kedavra()"
   ]
  },
  {
   "cell_type": "code",
   "execution_count": 14,
   "id": "22719415-ed1c-4adf-8314-3c435294a5fd",
   "metadata": {},
   "outputs": [
    {
     "data": {
      "application/vnd.jupyter.widget-view+json": {
       "model_id": "69b3cea4549747669ddaef1c4b991702",
       "version_major": 2,
       "version_minor": 0
      },
      "text/plain": [
       "VBox(children=(Label(value='Please select the frequency:'), Dropdown(options=('1h', '1D', '1W', '1M', '1Q', '1…"
      ]
     },
     "metadata": {},
     "output_type": "display_data"
    }
   ],
   "source": [
    "# Function to handle the change in dropdown selection\n",
    "def on_change(change):\n",
    "    if change['type'] == 'change' and change['name'] == 'value':\n",
    "        selected_option = change['new']\n",
    "        selected_value = option_values[selected_option]\n",
    "        selected_value_widget.value = selected_value\n",
    "        print(f\"Selected option: {selected_option}, Value: {selected_value}\")\n",
    "\n",
    "# Create dropdown for the model frequency\n",
    "def create_dropdown_frequency():\n",
    "    global option_values, selected_value_widget  # Declare as global to access in on_change\n",
    "    option_values = {\n",
    "        '1h': 'hourly',\n",
    "        '1D': 'daily',\n",
    "        '1W': 'weekly',\n",
    "        '1M': 'monthly',\n",
    "        '1Q': 'quarterly',\n",
    "        '1Y': 'yearly'\n",
    "    }\n",
    "\n",
    "    label5 = widgets.Label(\"Please select the frequency:\")\n",
    "    dropdown5 = widgets.Dropdown(\n",
    "        options=list(option_values.keys()),\n",
    "        value='1h'\n",
    "    )\n",
    "    selected_value_widget = widgets.Label(option_values[dropdown5.value])\n",
    "    \n",
    "    dropdown5.observe(on_change, names='value')\n",
    "    return widgets.VBox([label5, dropdown5]), selected_value_widget\n",
    "\n",
    "# Call the function to create and display the dropdown\n",
    "dropdown_ui, selected_value_widget = create_dropdown_frequency()\n",
    "display(dropdown_ui)"
   ]
  },
  {
   "cell_type": "code",
   "execution_count": 20,
   "id": "b86073d2-f555-44de-b701-131b8036361a",
   "metadata": {},
   "outputs": [],
   "source": [
    "# Function to get the current selected value\n",
    "def get_selected_value():\n",
    "    return selected_value_widget.value"
   ]
  },
  {
   "cell_type": "code",
   "execution_count": 22,
   "id": "7ea59f07-db13-4012-b5e4-00e9863b4da6",
   "metadata": {},
   "outputs": [
    {
     "name": "stdout",
     "output_type": "stream",
     "text": [
      "Initial selected value: daily\n"
     ]
    }
   ],
   "source": [
    "print(f\"Initial selected value: {get_selected_value()}\")"
   ]
  },
  {
   "cell_type": "code",
   "execution_count": 24,
   "id": "e97fdd2f-bed3-4609-9a95-8fb9b72e687e",
   "metadata": {},
   "outputs": [
    {
     "data": {
      "application/vnd.jupyter.widget-view+json": {
       "model_id": "be41b819ad46430eb60511d983d08acb",
       "version_major": 2,
       "version_minor": 0
      },
      "text/plain": [
       "Label(value='daily')"
      ]
     },
     "execution_count": 24,
     "metadata": {},
     "output_type": "execute_result"
    }
   ],
   "source": [
    "selected_value_widget"
   ]
  },
  {
   "cell_type": "code",
   "execution_count": null,
   "id": "1fa54298-7055-4d6c-8d99-779bb65dc9e7",
   "metadata": {},
   "outputs": [],
   "source": []
  }
 ],
 "metadata": {
  "kernelspec": {
   "display_name": "python39_spinetoolbox",
   "language": "python",
   "name": "python39"
  },
  "language_info": {
   "codemirror_mode": {
    "name": "ipython",
    "version": 3
   },
   "file_extension": ".py",
   "mimetype": "text/x-python",
   "name": "python",
   "nbconvert_exporter": "python",
   "pygments_lexer": "ipython3",
   "version": "3.9.18"
  }
 },
 "nbformat": 4,
 "nbformat_minor": 5
}
