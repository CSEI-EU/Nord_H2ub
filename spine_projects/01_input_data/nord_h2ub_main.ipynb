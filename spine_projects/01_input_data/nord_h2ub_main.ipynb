{
 "cells": [
  {
   "cell_type": "markdown",
   "id": "43ea4b8f-0ba4-4513-8872-53f4a538a0d3",
   "metadata": {},
   "source": [
    "# Data Preparation for the Nord_H2ub Spine Model"
   ]
  },
  {
   "cell_type": "markdown",
   "id": "1aa86773-4431-4a2f-9490-4b3cf0aa8d70",
   "metadata": {},
   "source": [
    "This jupyter notebook contains all routines for the preparation of the input data sources into a input data file for the model in Spine. \n",
    "\n",
    "**Authors:** Johannes Giehl (jfg.eco@cbs.dk), Dana Hentschel (djh.eco@cbs.dk), Lucia Ciprian (luc.eco@cbs.dk)"
   ]
  },
  {
   "cell_type": "markdown",
   "id": "eb8175ae-f246-4788-a309-c1a4890992f2",
   "metadata": {},
   "source": [
    "## General settings"
   ]
  },
  {
   "cell_type": "markdown",
   "id": "af14f70f",
   "metadata": {},
   "source": [
    "### Import Packages:"
   ]
  },
  {
   "cell_type": "markdown",
   "id": "cfd28dd8-6d2d-4ea2-8b2d-92b4f6112af0",
   "metadata": {},
   "source": [
    "Please check your kernel to ensure you run the kernel with all relevant packages. "
   ]
  },
  {
   "cell_type": "code",
   "execution_count": 1,
   "id": "38a26c13-5700-414c-ab72-2a07690f1802",
   "metadata": {
    "scrolled": true
   },
   "outputs": [
    {
     "name": "stdout",
     "output_type": "stream",
     "text": [
      "Custom functions imported successfully.\n"
     ]
    }
   ],
   "source": [
    "from nord_h2ub_hexhex import *"
   ]
  },
  {
   "cell_type": "markdown",
   "id": "0e5bdb21",
   "metadata": {},
   "source": [
    "### Query to define parameters:"
   ]
  },
  {
   "cell_type": "code",
   "execution_count": 2,
   "id": "8489619f-5906-4f62-bc7b-4c6868b1e950",
   "metadata": {},
   "outputs": [
    {
     "data": {
      "application/vnd.jupyter.widget-view+json": {
       "model_id": "51d76c3b5da94f97906cfc5da28304f4",
       "version_major": 2,
       "version_minor": 0
      },
      "text/plain": [
       "Tab(children=(VBox(children=(HTML(value='<b>Section 1: Please define the parameters of the general model</b>')…"
      ]
     },
     "metadata": {},
     "output_type": "display_data"
    }
   ],
   "source": [
    "# Run for dropdowns\n",
    "combined_tabs, dropdowns = create_combined_dropdowns_tabs()"
   ]
  },
  {
   "cell_type": "code",
   "execution_count": 29,
   "id": "8d858aa9-b613-4861-9ad8-1aa82e8be8fa",
   "metadata": {},
   "outputs": [],
   "source": [
    "#get the values after setting the inputs by the user\n",
    "values = get_dropdown_values(dropdowns)"
   ]
  },
  {
   "cell_type": "code",
   "execution_count": 31,
   "id": "0cab0b07-dd12-4fdc-89aa-31aeba6ccf61",
   "metadata": {},
   "outputs": [
    {
     "data": {
      "text/plain": [
       "{'model_name': 'Model',\n",
       " 'year': 2019,\n",
       " 'price_zone': 'DK1',\n",
       " 'product': 'methanol',\n",
       " 'electrolysis': 'PEM',\n",
       " 'frequency': '1h',\n",
       " 'temporal_block': 'hourly',\n",
       " 'roll_forward': True,\n",
       " 'candidate_nonzero': True,\n",
       " 'default_investment_number': 1,\n",
       " 'default_investment_duration': 'Y',\n",
       " 'capacities_powers': {'Solar plant': 304.0,\n",
       "  'Wind onshore': None,\n",
       "  'Wind offshore': None},\n",
       " 'share_of_dh_price_cap': 0.5,\n",
       " 'number_price_level_power': 1.0,\n",
       " 'power_price_variance': 1,\n",
       " 'num_slices': 12,\n",
       " 'des_segments_electrolyzer': 5,\n",
       " 'base_scen': 'Base',\n",
       " 'stoch_scen': 'realization',\n",
       " 'stoch_struc': 'deterministic',\n",
       " 'report_name': 'Report',\n",
       " 'outputs': {'connection_flow',\n",
       "  'connection_investment_costs',\n",
       "  'connections_invested',\n",
       "  'node_slack_neg',\n",
       "  'node_slack_pos',\n",
       "  'node_state',\n",
       "  'storage_investment_costs',\n",
       "  'storages_invested',\n",
       "  'total_costs',\n",
       "  'unit_flow',\n",
       "  'unit_flow_op',\n",
       "  'unit_investment_costs',\n",
       "  'units_invested'},\n",
       " 'powers': {'Solar plant'},\n",
       " 'inv_cost_electrolyzer': None,\n",
       " 'inv_cost_hydrogen_storage': None,\n",
       " 'inv_cost_methanol': None,\n",
       " 'inv_cost_methanol_storage': None,\n",
       " 'inv_cost_steam': None,\n",
       " 'capacity_electrolyzer': 0.0,\n",
       " 'capacity_methanol': 0.0,\n",
       " 'capacity_steam': 0.0}"
      ]
     },
     "execution_count": 31,
     "metadata": {},
     "output_type": "execute_result"
    }
   ],
   "source": [
    "values"
   ]
  },
  {
   "cell_type": "markdown",
   "id": "ad677838",
   "metadata": {},
   "source": [
    "### Dictionary:"
   ]
  },
  {
   "cell_type": "code",
   "execution_count": 34,
   "id": "9338bd4e",
   "metadata": {},
   "outputs": [],
   "source": [
    "parameters = {\n",
    "    'year': values['year'],\n",
    "    'area': values['price_zone'],\n",
    "    'product': values['product'],\n",
    "    'powers': values['powers'],\n",
    "    'powers_capacities': values['capacities_powers'],\n",
    "    'scenario': [values['base_scen']],\n",
    "    #'scenario': [values['base_scen']], + values['other_scen'].split('\\n'),\n",
    "    'frequency': values['frequency'],\n",
    "    'model_name': values['model_name'],\n",
    "    'temporal_block': values['temporal_block'],\n",
    "    'stochastic_scenario': values['stoch_scen'],\n",
    "    'stochastic_structure': values['stoch_struc'],\n",
    "    'report_name': values['report_name'],\n",
    "    'reports': values['outputs'],\n",
    "    'electrolyzer_type': values['electrolysis'],\n",
    "    'des_segments_electrolyzer': values['des_segments_electrolyzer'],\n",
    "    'share_of_dh_price_cap': values['share_of_dh_price_cap'],\n",
    "    'price_level_power': values['number_price_level_power'],\n",
    "    'power_price_variance': values['power_price_variance'],\n",
    "    'roll_forward_use': values['roll_forward'],\n",
    "    'candidate_nonzero': values['candidate_nonzero'],\n",
    "    'default_investment_period': f\"{values['default_investment_number']}{values['default_investment_duration']}\",\n",
    "    'num_slices': values['num_slices']\n",
    "}"
   ]
  },
  {
   "cell_type": "code",
   "execution_count": 36,
   "id": "3940ed7a",
   "metadata": {},
   "outputs": [],
   "source": [
    "parameters = set_inv_cap_values(values, parameters)"
   ]
  },
  {
   "cell_type": "code",
   "execution_count": 38,
   "id": "36fe3157",
   "metadata": {},
   "outputs": [],
   "source": [
    "with open('00_functions\\\\parameters.pkl', 'wb') as file:\n",
    "    pickle.dump(parameters, file)"
   ]
  },
  {
   "cell_type": "markdown",
   "id": "7c33f6fe",
   "metadata": {},
   "source": [
    "### Execute standard routine:"
   ]
  },
  {
   "cell_type": "code",
   "execution_count": 45,
   "id": "5dd46cac",
   "metadata": {},
   "outputs": [
    {
     "data": {
      "application/vnd.jupyter.widget-view+json": {
       "model_id": "b64fd91c96654a4c8b97d130d7d25eb3",
       "version_major": 2,
       "version_minor": 0
      },
      "text/plain": [
       "Executing:   0%|          | 0/84 [00:00<?, ?cell/s]"
      ]
     },
     "metadata": {},
     "output_type": "display_data"
    },
    {
     "name": "stdout",
     "output_type": "stream",
     "text": [
      "The notebook was successfully executed.\n"
     ]
    }
   ],
   "source": [
    "pm.execute_notebook(\n",
    "    '00_functions\\\\data_preparation_nord_h2ub_spine.ipynb',\n",
    "    '00_functions\\\\please_ignore.ipynb'\n",
    ")\n",
    "print(\"The notebook was successfully executed.\")"
   ]
  },
  {
   "cell_type": "markdown",
   "id": "4e373864-9c5f-4caa-90f3-d4a61a51b0f7",
   "metadata": {},
   "source": [
    "### Finish and Exit the process:\n",
    "\n",
    "- after executing the cell you can go back to SpineToolbox"
   ]
  },
  {
   "cell_type": "code",
   "execution_count": null,
   "id": "43793fa1-9b3d-4c08-9cab-c7f0ceb2ee09",
   "metadata": {},
   "outputs": [],
   "source": [
    "avada_kedavra()"
   ]
  }
 ],
 "metadata": {
  "kernelspec": {
   "display_name": "python39_spinetoolbox",
   "language": "python",
   "name": "python39"
  },
  "language_info": {
   "codemirror_mode": {
    "name": "ipython",
    "version": 3
   },
   "file_extension": ".py",
   "mimetype": "text/x-python",
   "name": "python",
   "nbconvert_exporter": "python",
   "pygments_lexer": "ipython3",
   "version": "3.9.18"
  }
 },
 "nbformat": 4,
 "nbformat_minor": 5
}
