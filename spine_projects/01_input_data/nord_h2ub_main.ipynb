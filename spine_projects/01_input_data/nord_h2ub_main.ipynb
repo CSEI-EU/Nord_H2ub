{
 "cells": [
  {
   "cell_type": "markdown",
   "id": "43ea4b8f-0ba4-4513-8872-53f4a538a0d3",
   "metadata": {},
   "source": [
    "# Data Preparation for the Nord_H2ub Spine Model"
   ]
  },
  {
   "cell_type": "markdown",
   "id": "1aa86773-4431-4a2f-9490-4b3cf0aa8d70",
   "metadata": {},
   "source": [
    "This jupyter notebook contains all routines for the preparation of the input data sources into a input data file for the model in Spine. \n",
    "\n",
    "**Authors:** Johannes Giehl (jfg.eco@cbs.dk), Dana Hentschel (djh.eco@cbs.dk), Lucia Ciprian (luc.eco@cbs.dk)"
   ]
  },
  {
   "cell_type": "markdown",
   "id": "eb8175ae-f246-4788-a309-c1a4890992f2",
   "metadata": {},
   "source": [
    "## General settings"
   ]
  },
  {
   "cell_type": "markdown",
   "id": "af14f70f",
   "metadata": {},
   "source": [
    "### Import Packages:"
   ]
  },
  {
   "cell_type": "markdown",
   "id": "cfd28dd8-6d2d-4ea2-8b2d-92b4f6112af0",
   "metadata": {},
   "source": [
    "**Please check your kernel to ensure you run the kernel with all relevant packages.**"
   ]
  },
  {
   "cell_type": "code",
   "execution_count": 1,
   "id": "38a26c13-5700-414c-ab72-2a07690f1802",
   "metadata": {
    "scrolled": true
   },
   "outputs": [
    {
     "name": "stdout",
     "output_type": "stream",
     "text": [
      "Custom functions imported successfully.\n"
     ]
    }
   ],
   "source": [
    "from nord_h2ub_hexhex import *"
   ]
  },
  {
   "cell_type": "markdown",
   "id": "0e5bdb21",
   "metadata": {},
   "source": [
    "### Query to define parameters:"
   ]
  },
  {
   "cell_type": "code",
   "execution_count": 2,
   "id": "8489619f-5906-4f62-bc7b-4c6868b1e950",
   "metadata": {},
   "outputs": [
    {
     "data": {
      "application/vnd.jupyter.widget-view+json": {
       "model_id": "4f68b1682a5046808fdbb150517685c4",
       "version_major": 2,
       "version_minor": 0
      },
      "text/plain": [
       "Tab(children=(VBox(children=(HTML(value='<b>Section 1: Please define the base parameters</b>'), VBox(children=…"
      ]
     },
     "metadata": {},
     "output_type": "display_data"
    },
    {
     "name": "stdout",
     "output_type": "stream",
     "text": [
      "You selected: True\n"
     ]
    }
   ],
   "source": [
    "# Run for dropdowns\n",
    "combined_tabs, dropdowns = create_combined_dropdowns_tabs()"
   ]
  },
  {
   "cell_type": "code",
   "execution_count": 24,
   "id": "8d858aa9-b613-4861-9ad8-1aa82e8be8fa",
   "metadata": {},
   "outputs": [],
   "source": [
    "#get the values after setting the inputs by the user\n",
    "values = get_dropdown_values(dropdowns)"
   ]
  },
  {
   "cell_type": "markdown",
   "id": "ad677838",
   "metadata": {},
   "source": [
    "### Dictionary:"
   ]
  },
  {
   "cell_type": "code",
   "execution_count": 27,
   "id": "9338bd4e",
   "metadata": {},
   "outputs": [],
   "source": [
    "parameters = {\n",
    "    'year': values['year'],\n",
    "    'area': values['price_zone'],\n",
    "    'product': values['product'],\n",
    "    'powers': values['powers'],\n",
    "    'powers_capacities': values['capacities_powers'],\n",
    "    'scenario': [values['base_scen']],\n",
    "    #'scenario': [values['base_scen']], + values['other_scen'].split('\\n'),\n",
    "    'frequency': values['frequency'],\n",
    "    'model_name': values['model_name'],\n",
    "    'temporal_block': values['temporal_block'],\n",
    "    'stochastic_scenario': values['stoch_scen'],\n",
    "    'stochastic_structure': values['stoch_struc'],\n",
    "    'report_name': values['report_name'],\n",
    "    'reports': values['outputs'],\n",
    "    'electrolyzer_type': values['electrolysis'],\n",
    "    'des_segments_electrolyzer': values['des_segments_electrolyzer'],\n",
    "    'share_of_dh_price_cap': values['share_of_dh_price_cap'],\n",
    "    'price_level_power': values['number_price_level_power'],\n",
    "    'power_price_variance': values['power_price_variance'],\n",
    "    'roll_forward_use': values['roll_forward'],\n",
    "    'candidate_nonzero': values['candidate_nonzero'],\n",
    "    'default_investment_period': f\"{values['default_investment_number']}{values['default_investment_duration']}\",\n",
    "    'num_slices': values['num_slices']\n",
    "}"
   ]
  },
  {
   "cell_type": "code",
   "execution_count": 29,
   "id": "3940ed7a",
   "metadata": {},
   "outputs": [],
   "source": [
    "parameters = set_inv_cap_values(values, parameters)"
   ]
  },
  {
   "cell_type": "code",
   "execution_count": 31,
   "id": "36fe3157",
   "metadata": {},
   "outputs": [],
   "source": [
    "with open('00_functions\\\\parameters.pkl', 'wb') as file:\n",
    "    pickle.dump(parameters, file)"
   ]
  },
  {
   "cell_type": "markdown",
   "id": "7c33f6fe",
   "metadata": {},
   "source": [
    "### Execute standard routine:"
   ]
  },
  {
   "cell_type": "code",
   "execution_count": 13,
   "id": "5dd46cac",
   "metadata": {},
   "outputs": [
    {
     "data": {
      "application/vnd.jupyter.widget-view+json": {
       "model_id": "e19771d60ff3405ea9d0839b89387f7d",
       "version_major": 2,
       "version_minor": 0
      },
      "text/plain": [
       "Executing:   0%|          | 0/96 [00:00<?, ?cell/s]"
      ]
     },
     "metadata": {},
     "output_type": "display_data"
    },
    {
     "name": "stdout",
     "output_type": "stream",
     "text": [
      "The notebook was successfully executed.\n"
     ]
    }
   ],
   "source": [
    "pm.execute_notebook(\n",
    "    '00_functions\\\\data_preparation_nord_h2ub_spine.ipynb',\n",
    "    '00_functions\\\\please_ignore.ipynb'\n",
    ")\n",
    "print(\"The notebook was successfully executed.\")"
   ]
  },
  {
   "cell_type": "markdown",
   "id": "4e373864-9c5f-4caa-90f3-d4a61a51b0f7",
   "metadata": {},
   "source": [
    "### Finish and Exit the process:\n",
    "\n",
    "- after executing the cell you can go back to SpineToolbox\n",
    "- ensure that the data connection refers to the correct file"
   ]
  },
  {
   "cell_type": "code",
   "execution_count": null,
   "id": "43793fa1-9b3d-4c08-9cab-c7f0ceb2ee09",
   "metadata": {},
   "outputs": [],
   "source": [
    "avada_kedavra()"
   ]
  }
 ],
 "metadata": {
  "kernelspec": {
   "display_name": "Python 3 (ipykernel)",
   "language": "python",
   "name": "python3"
  },
  "language_info": {
   "codemirror_mode": {
    "name": "ipython",
    "version": 3
   },
   "file_extension": ".py",
   "mimetype": "text/x-python",
   "name": "python",
   "nbconvert_exporter": "python",
   "pygments_lexer": "ipython3",
   "version": "3.11.5"
  }
 },
 "nbformat": 4,
 "nbformat_minor": 5
}
